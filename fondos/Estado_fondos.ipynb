{
 "cells": [
  {
   "cell_type": "markdown",
   "id": "0956f340-2fd5-481b-b23f-7329f17584ca",
   "metadata": {},
   "source": [
    "Este desarrollo pretende buscar los precios de unos fondos de inversion dados, calcular el valor en euros en funcion de las participaciones.\n",
    "\n",
    "Para ello se crea lista con productos. Se buscan los productos en Morningstar y se almacena valor, moneda y fecha\n",
    "\n",
    "\n",
    "EL proceso de busqueda consiste en entrar en la pagina web, saltarse la cookies e ir buscando cada producto de la lista, inicalizando previamente el campo de la busqueda de la pagina web.\n",
    "\n",
    "Se concatenan el df inicial con fondos y participaciones con el de moneda, valor y fecha. Se calcula la columna importe de particiaciones por valor en la moneda original.\n",
    "\n",
    "Se entra en una URl para obtener el tipo de cambio del doalr a euros y se crea una columna en el df con el valor del tipo de cambio 1 para los fondos cuyo valor es en euros y con el tipo de cambio obtebido para el dolar en aquellos que estan dolares.\n",
    "\n",
    "\n",
    "Al final produce un fichero csv todos los datos.\n"
   ]
  },
  {
   "cell_type": "raw",
   "id": "8ce439bd",
   "metadata": {},
   "source": []
  },
  {
   "cell_type": "code",
   "execution_count": 1,
   "id": "ac4c39cf",
   "metadata": {},
   "outputs": [],
   "source": [
    "#!pip install selenium"
   ]
  },
  {
   "cell_type": "code",
   "execution_count": 2,
   "id": "5ab0d5cf",
   "metadata": {
    "scrolled": true
   },
   "outputs": [],
   "source": [
    "#!pip install fake-useragent"
   ]
  },
  {
   "cell_type": "code",
   "execution_count": 3,
   "id": "e29a3c01-f808-402d-a64c-aa0f7c19efb2",
   "metadata": {},
   "outputs": [],
   "source": [
    "# !pip install datetime"
   ]
  },
  {
   "cell_type": "code",
   "execution_count": 4,
   "id": "23cce9a0-203a-460c-ba88-e4a7895c936d",
   "metadata": {},
   "outputs": [],
   "source": [
    "# !pip install webdriver-manager\n",
    "from selenium import webdriver\n",
    "from selenium.webdriver.chrome.service import Service\n",
    "from webdriver_manager.chrome import ChromeDriverManager\n",
    "from selenium.webdriver.common.by import By"
   ]
  },
  {
   "cell_type": "code",
   "execution_count": 5,
   "id": "511f60f3-2f87-4aa3-adb6-95a7b1bf36b2",
   "metadata": {
    "tags": []
   },
   "outputs": [],
   "source": [
    "# !pip install pymupdf"
   ]
  },
  {
   "cell_type": "code",
   "execution_count": 6,
   "id": "7fb62672-bebd-439a-a6de-1a958830c383",
   "metadata": {
    "tags": []
   },
   "outputs": [],
   "source": [
    "import requests as req\n",
    "import pandas as pd\n",
    "\n",
    "import time\n",
    "import datetime  # manejo temporal\n",
    "\n",
    "#from bs4 import BeautifulSoup as bs\n",
    "\n",
    "from webdriver_manager.chrome import ChromeDriverManager\n",
    "from fake_useragent import UserAgent\n",
    "\n",
    "PATH = r'C:\\Users\\ragod\\Desktop\\reposicion\\Proyectos_TB\\Proyectos_TB\\Funciones\\chromedriver.exe'  #'driver/chromedriver'\n",
    "usuario=UserAgent().random\n",
    "\n",
    "\n",
    "from selenium import webdriver  # driver selenium\n",
    "from selenium.webdriver.chrome.options import Options\n",
    "from selenium.webdriver.common.by import By   # para elegir por elemento\n",
    "from selenium.webdriver.support.ui import WebDriverWait # para el time sleep\n",
    "from selenium.webdriver.support import expected_conditions as EC # condiciones esperadas\n",
    "from selenium.webdriver import ActionChains as AC # acciones en cadena\n"
   ]
  },
  {
   "cell_type": "code",
   "execution_count": 7,
   "id": "2af2600b-eb1d-4618-9cc3-b1247b859749",
   "metadata": {
    "tags": []
   },
   "outputs": [
    {
     "name": "stderr",
     "output_type": "stream",
     "text": [
      "C:\\Users\\ragod\\AppData\\Local\\Temp/ipykernel_7932/941672663.py:2: DeprecationWarning: executable_path has been deprecated, please pass in a Service object\n",
      "  driver=webdriver.Chrome(PATH)\n"
     ]
    }
   ],
   "source": [
    "url='https://www.morningstar.es/es/'\n",
    "driver=webdriver.Chrome(PATH) \n",
    "driver.get(url)\n",
    "\n",
    "time.sleep(3)\n"
   ]
  },
  {
   "cell_type": "code",
   "execution_count": 8,
   "id": "1263a567",
   "metadata": {},
   "outputs": [],
   "source": [
    "\n",
    "#Lectura de fondos\n",
    "\n",
    "mis_fondos =pd.read_excel(r'C:\\Users\\ragod\\Desktop\\reposicion\\Proyectos_TB\\Proyectos_TB\\fondos\\fondos.xlsx', sheet_name ='Fondos',header = 0)\n",
    "mis_fondos_l =list (mis_fondos.n_nom_fondo)\n"
   ]
  },
  {
   "cell_type": "code",
   "execution_count": 9,
   "id": "132c0478",
   "metadata": {
    "tags": []
   },
   "outputs": [],
   "source": [
    "\n",
    "#Busqueda en MorningStar\n",
    "saltar_coockies=driver.find_element(By.XPATH,'//*[@id=\"onetrust-accept-btn-handler\"]')\n",
    "saltar_coockies.click()\n",
    "time.sleep(3)\n",
    "\n",
    "aceptar_cookies=driver.find_element(By.XPATH,'//*[@id=\"btn_individual\"]') # objeto en la web de busqueda\n",
    "aceptar_cookies.click() # Boton busqueda\n",
    "\n",
    "\n",
    "mi_lista_valorada =[]\n",
    "\n",
    "#buscar fondos\n",
    "\n",
    "for n in mis_fondos_l:\n",
    "    buscar=driver.find_element(By.XPATH,'//*[@id=\"quoteSearch\"]').clear()\n",
    "    producto = n\n",
    "    buscar=driver.find_element(By.XPATH,'//*[@id=\"quoteSearch\"]')# objeto en la web de busqueda\n",
    "    buscar.send_keys(producto)  # incrusta la string\n",
    "    time.sleep(3)\n",
    "    buscar=driver.find_element(By.XPATH,'//*[@id=\"GoSearch\"]')\n",
    "    buscar.click()\n",
    "    buscar=driver.find_element(By.XPATH,'//*[@id=\"ctl00_MainContent_fundTable\"]/tbody/tr[2]/td[1]/a')\n",
    "    buscar.click()\n",
    "\n",
    "    precio= (driver.find_element(By.XPATH, '//*[@id=\"overviewQuickstatsDiv\"]/table/tbody/tr[2]/td[3]').text).split()\n",
    "    fecha =driver.find_element(By.XPATH, '//*[@id=\"overviewQuickstatsDiv\"]/table/tbody/tr[2]/td[1]').text\n",
    "    fecha=fecha[3:]\n",
    "    # Crear lista valorada \n",
    "    mi_lista_valorada.append([precio[0],precio[1],fecha])\n",
    "\n",
    "                             \n",
    "\n",
    "\n"
   ]
  },
  {
   "cell_type": "code",
   "execution_count": 10,
   "id": "2a0afc40",
   "metadata": {},
   "outputs": [],
   "source": [
    "df = pd.DataFrame(mi_lista_valorada, columns = ['moneda','valor','fecha'])\n",
    "df_final = pd.concat([mis_fondos,df],axis=1)\n",
    "df_final['valor'] =df_final['valor'].replace(\",\",\".\", regex = True).astype(float)\n",
    "df_final['importe']=df_final.valor*df_final.num_participaciones\n"
   ]
  },
  {
   "cell_type": "code",
   "execution_count": null,
   "id": "00097bf9",
   "metadata": {},
   "outputs": [],
   "source": []
  },
  {
   "cell_type": "code",
   "execution_count": null,
   "id": "420d33bb",
   "metadata": {},
   "outputs": [],
   "source": []
  },
  {
   "cell_type": "code",
   "execution_count": 23,
   "id": "88d8f04d-ab7c-4297-8a26-2c9647154363",
   "metadata": {},
   "outputs": [
    {
     "name": "stderr",
     "output_type": "stream",
     "text": [
      "C:\\Users\\ragod\\AppData\\Local\\Temp/ipykernel_7932/275695470.py:2: DeprecationWarning: executable_path has been deprecated, please pass in a Service object\n",
      "  driver=webdriver.Chrome(PATH)\n"
     ]
    }
   ],
   "source": [
    "url='https://www.xe.com/es/currencyconverter/convert/?Amount=1&From=USD&To=EUR'\n",
    "driver=webdriver.Chrome(PATH) \n",
    "driver.get(url)"
   ]
  },
  {
   "cell_type": "code",
   "execution_count": 24,
   "id": "99829f2e",
   "metadata": {},
   "outputs": [],
   "source": [
    "cambio =(driver.find_element(By.XPATH, '//*[@id=\"__next\"]/div[2]/div[2]/section/div[2]/div/main/form/div[2]/div[1]/p[2]').text)\n"
   ]
  },
  {
   "cell_type": "code",
   "execution_count": 25,
   "id": "844f27d5",
   "metadata": {},
   "outputs": [],
   "source": [
    "t_cambio= cambio.split()[0].replace(',','.')\n"
   ]
  },
  {
   "cell_type": "code",
   "execution_count": 39,
   "id": "6f0daf21",
   "metadata": {},
   "outputs": [
    {
     "data": {
      "text/plain": [
       "'0.94422247'"
      ]
     },
     "execution_count": 39,
     "metadata": {},
     "output_type": "execute_result"
    }
   ],
   "source": [
    "t_cambio"
   ]
  },
  {
   "cell_type": "code",
   "execution_count": 40,
   "id": "df597df9",
   "metadata": {},
   "outputs": [],
   "source": [
    "df_final['t_cambio']=df_final.apply(lambda x: 1 if x.moneda =='EUR' else t_cambio,axis=1).astype(float) "
   ]
  },
  {
   "cell_type": "code",
   "execution_count": 41,
   "id": "9e14428a",
   "metadata": {},
   "outputs": [],
   "source": [
    "df_final['importe_euro']=df_final.importe*df_final.t_cambio"
   ]
  },
  {
   "cell_type": "code",
   "execution_count": 43,
   "id": "1678027d",
   "metadata": {},
   "outputs": [],
   "source": [
    "suma_fondos=df_final.importe_euro.sum()"
   ]
  },
  {
   "cell_type": "code",
   "execution_count": 31,
   "id": "39fd3a86",
   "metadata": {},
   "outputs": [
    {
     "data": {
      "text/html": [
       "<div>\n",
       "<style scoped>\n",
       "    .dataframe tbody tr th:only-of-type {\n",
       "        vertical-align: middle;\n",
       "    }\n",
       "\n",
       "    .dataframe tbody tr th {\n",
       "        vertical-align: top;\n",
       "    }\n",
       "\n",
       "    .dataframe thead th {\n",
       "        text-align: right;\n",
       "    }\n",
       "</style>\n",
       "<table border=\"1\" class=\"dataframe\">\n",
       "  <thead>\n",
       "    <tr style=\"text-align: right;\">\n",
       "      <th></th>\n",
       "      <th>n_nom_fondo</th>\n",
       "      <th>num_participaciones</th>\n",
       "      <th>moneda</th>\n",
       "      <th>valor</th>\n",
       "      <th>fecha</th>\n",
       "      <th>importe</th>\n",
       "      <th>t_cambio</th>\n",
       "      <th>importe_euro</th>\n",
       "    </tr>\n",
       "  </thead>\n",
       "  <tbody>\n",
       "    <tr>\n",
       "      <th>0</th>\n",
       "      <td>BGF Euro Short Duration Bond A2 EUR</td>\n",
       "      <td>22.45</td>\n",
       "      <td>EUR</td>\n",
       "      <td>15.16</td>\n",
       "      <td>18/05/2022</td>\n",
       "      <td>340.3420</td>\n",
       "      <td>1.000000</td>\n",
       "      <td>340.342000</td>\n",
       "    </tr>\n",
       "    <tr>\n",
       "      <th>1</th>\n",
       "      <td>iShares Euro Govt Bd Idx (LU) A2 EUR</td>\n",
       "      <td>8.34</td>\n",
       "      <td>EUR</td>\n",
       "      <td>117.70</td>\n",
       "      <td>18/05/2022</td>\n",
       "      <td>981.6180</td>\n",
       "      <td>1.000000</td>\n",
       "      <td>981.618000</td>\n",
       "    </tr>\n",
       "    <tr>\n",
       "      <th>2</th>\n",
       "      <td>iShares Em Markets Govt Bd Idx (LU) A2 EURH</td>\n",
       "      <td>13.22</td>\n",
       "      <td>EUR</td>\n",
       "      <td>93.87</td>\n",
       "      <td>18/05/2022</td>\n",
       "      <td>1240.9614</td>\n",
       "      <td>1.000000</td>\n",
       "      <td>1240.961400</td>\n",
       "    </tr>\n",
       "    <tr>\n",
       "      <th>3</th>\n",
       "      <td>iShares Europe Equity Index (LU) A2 EUR</td>\n",
       "      <td>11.77</td>\n",
       "      <td>EUR</td>\n",
       "      <td>199.20</td>\n",
       "      <td>18/05/2022</td>\n",
       "      <td>2344.5840</td>\n",
       "      <td>1.000000</td>\n",
       "      <td>2344.584000</td>\n",
       "    </tr>\n",
       "    <tr>\n",
       "      <th>4</th>\n",
       "      <td>iShares Developed Real Estate Index Fund (IE) ...</td>\n",
       "      <td>31.32</td>\n",
       "      <td>EUR</td>\n",
       "      <td>18.57</td>\n",
       "      <td>18/05/2022</td>\n",
       "      <td>581.6124</td>\n",
       "      <td>1.000000</td>\n",
       "      <td>581.612400</td>\n",
       "    </tr>\n",
       "    <tr>\n",
       "      <th>5</th>\n",
       "      <td>iShares North America Eq Index (LU) A2 USD</td>\n",
       "      <td>7.41</td>\n",
       "      <td>USD</td>\n",
       "      <td>292.60</td>\n",
       "      <td>18/05/2022</td>\n",
       "      <td>2168.1660</td>\n",
       "      <td>0.944222</td>\n",
       "      <td>2047.231056</td>\n",
       "    </tr>\n",
       "    <tr>\n",
       "      <th>6</th>\n",
       "      <td>iShares Japan Equity Index (LU) A2 USD</td>\n",
       "      <td>6.22</td>\n",
       "      <td>USD</td>\n",
       "      <td>171.55</td>\n",
       "      <td>18/05/2022</td>\n",
       "      <td>1067.0410</td>\n",
       "      <td>0.944222</td>\n",
       "      <td>1007.524089</td>\n",
       "    </tr>\n",
       "    <tr>\n",
       "      <th>7</th>\n",
       "      <td>iShares Emerging Markets Eq Idx (LU) A2 USD</td>\n",
       "      <td>9.77</td>\n",
       "      <td>USD</td>\n",
       "      <td>125.80</td>\n",
       "      <td>18/05/2022</td>\n",
       "      <td>1229.0660</td>\n",
       "      <td>0.944222</td>\n",
       "      <td>1160.511734</td>\n",
       "    </tr>\n",
       "  </tbody>\n",
       "</table>\n",
       "</div>"
      ],
      "text/plain": [
       "                                         n_nom_fondo  num_participaciones  \\\n",
       "0                BGF Euro Short Duration Bond A2 EUR                22.45   \n",
       "1               iShares Euro Govt Bd Idx (LU) A2 EUR                 8.34   \n",
       "2        iShares Em Markets Govt Bd Idx (LU) A2 EURH                13.22   \n",
       "3           iShares Europe Equity Index (LU) A2 EUR                 11.77   \n",
       "4  iShares Developed Real Estate Index Fund (IE) ...                31.32   \n",
       "5         iShares North America Eq Index (LU) A2 USD                 7.41   \n",
       "6             iShares Japan Equity Index (LU) A2 USD                 6.22   \n",
       "7        iShares Emerging Markets Eq Idx (LU) A2 USD                 9.77   \n",
       "\n",
       "  moneda   valor       fecha    importe  t_cambio  importe_euro  \n",
       "0    EUR   15.16  18/05/2022   340.3420  1.000000    340.342000  \n",
       "1    EUR  117.70  18/05/2022   981.6180  1.000000    981.618000  \n",
       "2    EUR   93.87  18/05/2022  1240.9614  1.000000   1240.961400  \n",
       "3    EUR  199.20  18/05/2022  2344.5840  1.000000   2344.584000  \n",
       "4    EUR   18.57  18/05/2022   581.6124  1.000000    581.612400  \n",
       "5    USD  292.60  18/05/2022  2168.1660  0.944222   2047.231056  \n",
       "6    USD  171.55  18/05/2022  1067.0410  0.944222   1007.524089  \n",
       "7    USD  125.80  18/05/2022  1229.0660  0.944222   1160.511734  "
      ]
     },
     "execution_count": 31,
     "metadata": {},
     "output_type": "execute_result"
    }
   ],
   "source": [
    "df_final"
   ]
  },
  {
   "cell_type": "code",
   "execution_count": 62,
   "id": "df7eb242",
   "metadata": {},
   "outputs": [],
   "source": [
    "df_final2=df_final[['n_nom_fondo', 'importe_euro']]"
   ]
  },
  {
   "cell_type": "code",
   "execution_count": 63,
   "id": "52b71960",
   "metadata": {},
   "outputs": [
    {
     "data": {
      "text/html": [
       "<div>\n",
       "<style scoped>\n",
       "    .dataframe tbody tr th:only-of-type {\n",
       "        vertical-align: middle;\n",
       "    }\n",
       "\n",
       "    .dataframe tbody tr th {\n",
       "        vertical-align: top;\n",
       "    }\n",
       "\n",
       "    .dataframe thead th {\n",
       "        text-align: right;\n",
       "    }\n",
       "</style>\n",
       "<table border=\"1\" class=\"dataframe\">\n",
       "  <thead>\n",
       "    <tr style=\"text-align: right;\">\n",
       "      <th></th>\n",
       "      <th>n_nom_fondo</th>\n",
       "      <th>importe_euro</th>\n",
       "    </tr>\n",
       "  </thead>\n",
       "  <tbody>\n",
       "    <tr>\n",
       "      <th>0</th>\n",
       "      <td>BGF Euro Short Duration Bond A2 EUR</td>\n",
       "      <td>340.342000</td>\n",
       "    </tr>\n",
       "    <tr>\n",
       "      <th>1</th>\n",
       "      <td>iShares Euro Govt Bd Idx (LU) A2 EUR</td>\n",
       "      <td>981.618000</td>\n",
       "    </tr>\n",
       "    <tr>\n",
       "      <th>2</th>\n",
       "      <td>iShares Em Markets Govt Bd Idx (LU) A2 EURH</td>\n",
       "      <td>1240.961400</td>\n",
       "    </tr>\n",
       "    <tr>\n",
       "      <th>3</th>\n",
       "      <td>iShares Europe Equity Index (LU) A2 EUR</td>\n",
       "      <td>2344.584000</td>\n",
       "    </tr>\n",
       "    <tr>\n",
       "      <th>4</th>\n",
       "      <td>iShares Developed Real Estate Index Fund (IE) ...</td>\n",
       "      <td>581.612400</td>\n",
       "    </tr>\n",
       "    <tr>\n",
       "      <th>5</th>\n",
       "      <td>iShares North America Eq Index (LU) A2 USD</td>\n",
       "      <td>2047.231056</td>\n",
       "    </tr>\n",
       "    <tr>\n",
       "      <th>6</th>\n",
       "      <td>iShares Japan Equity Index (LU) A2 USD</td>\n",
       "      <td>1007.524089</td>\n",
       "    </tr>\n",
       "    <tr>\n",
       "      <th>7</th>\n",
       "      <td>iShares Emerging Markets Eq Idx (LU) A2 USD</td>\n",
       "      <td>1160.511734</td>\n",
       "    </tr>\n",
       "  </tbody>\n",
       "</table>\n",
       "</div>"
      ],
      "text/plain": [
       "                                         n_nom_fondo  importe_euro\n",
       "0                BGF Euro Short Duration Bond A2 EUR    340.342000\n",
       "1               iShares Euro Govt Bd Idx (LU) A2 EUR    981.618000\n",
       "2        iShares Em Markets Govt Bd Idx (LU) A2 EURH   1240.961400\n",
       "3           iShares Europe Equity Index (LU) A2 EUR    2344.584000\n",
       "4  iShares Developed Real Estate Index Fund (IE) ...    581.612400\n",
       "5         iShares North America Eq Index (LU) A2 USD   2047.231056\n",
       "6             iShares Japan Equity Index (LU) A2 USD   1007.524089\n",
       "7        iShares Emerging Markets Eq Idx (LU) A2 USD   1160.511734"
      ]
     },
     "execution_count": 63,
     "metadata": {},
     "output_type": "execute_result"
    }
   ],
   "source": [
    "df_final2"
   ]
  },
  {
   "cell_type": "code",
   "execution_count": 64,
   "id": "1aa9c4d6",
   "metadata": {},
   "outputs": [],
   "source": [
    "total_fondos= df_final2.importe_euro.sum()"
   ]
  },
  {
   "cell_type": "code",
   "execution_count": 65,
   "id": "7944b617",
   "metadata": {},
   "outputs": [],
   "source": [
    "df3=df_final2.append({'n_nom_fondo':'total','importe_euro': total_fondos}, ignore_index = True)"
   ]
  },
  {
   "cell_type": "code",
   "execution_count": 67,
   "id": "68bd39a2",
   "metadata": {},
   "outputs": [
    {
     "data": {
      "text/html": [
       "<div>\n",
       "<style scoped>\n",
       "    .dataframe tbody tr th:only-of-type {\n",
       "        vertical-align: middle;\n",
       "    }\n",
       "\n",
       "    .dataframe tbody tr th {\n",
       "        vertical-align: top;\n",
       "    }\n",
       "\n",
       "    .dataframe thead th {\n",
       "        text-align: right;\n",
       "    }\n",
       "</style>\n",
       "<table border=\"1\" class=\"dataframe\">\n",
       "  <thead>\n",
       "    <tr style=\"text-align: right;\">\n",
       "      <th></th>\n",
       "      <th>n_nom_fondo</th>\n",
       "      <th>importe_euro</th>\n",
       "    </tr>\n",
       "  </thead>\n",
       "  <tbody>\n",
       "    <tr>\n",
       "      <th>0</th>\n",
       "      <td>BGF Euro Short Duration Bond A2 EUR</td>\n",
       "      <td>340.342000</td>\n",
       "    </tr>\n",
       "    <tr>\n",
       "      <th>1</th>\n",
       "      <td>iShares Euro Govt Bd Idx (LU) A2 EUR</td>\n",
       "      <td>981.618000</td>\n",
       "    </tr>\n",
       "    <tr>\n",
       "      <th>2</th>\n",
       "      <td>iShares Em Markets Govt Bd Idx (LU) A2 EURH</td>\n",
       "      <td>1240.961400</td>\n",
       "    </tr>\n",
       "    <tr>\n",
       "      <th>3</th>\n",
       "      <td>iShares Europe Equity Index (LU) A2 EUR</td>\n",
       "      <td>2344.584000</td>\n",
       "    </tr>\n",
       "    <tr>\n",
       "      <th>4</th>\n",
       "      <td>iShares Developed Real Estate Index Fund (IE) ...</td>\n",
       "      <td>581.612400</td>\n",
       "    </tr>\n",
       "    <tr>\n",
       "      <th>5</th>\n",
       "      <td>iShares North America Eq Index (LU) A2 USD</td>\n",
       "      <td>2047.231056</td>\n",
       "    </tr>\n",
       "    <tr>\n",
       "      <th>6</th>\n",
       "      <td>iShares Japan Equity Index (LU) A2 USD</td>\n",
       "      <td>1007.524089</td>\n",
       "    </tr>\n",
       "    <tr>\n",
       "      <th>7</th>\n",
       "      <td>iShares Emerging Markets Eq Idx (LU) A2 USD</td>\n",
       "      <td>1160.511734</td>\n",
       "    </tr>\n",
       "    <tr>\n",
       "      <th>8</th>\n",
       "      <td>total</td>\n",
       "      <td>9704.384679</td>\n",
       "    </tr>\n",
       "  </tbody>\n",
       "</table>\n",
       "</div>"
      ],
      "text/plain": [
       "                                         n_nom_fondo  importe_euro\n",
       "0                BGF Euro Short Duration Bond A2 EUR    340.342000\n",
       "1               iShares Euro Govt Bd Idx (LU) A2 EUR    981.618000\n",
       "2        iShares Em Markets Govt Bd Idx (LU) A2 EURH   1240.961400\n",
       "3           iShares Europe Equity Index (LU) A2 EUR    2344.584000\n",
       "4  iShares Developed Real Estate Index Fund (IE) ...    581.612400\n",
       "5         iShares North America Eq Index (LU) A2 USD   2047.231056\n",
       "6             iShares Japan Equity Index (LU) A2 USD   1007.524089\n",
       "7        iShares Emerging Markets Eq Idx (LU) A2 USD   1160.511734\n",
       "8                                              total   9704.384679"
      ]
     },
     "execution_count": 67,
     "metadata": {},
     "output_type": "execute_result"
    }
   ],
   "source": [
    "df3"
   ]
  },
  {
   "cell_type": "code",
   "execution_count": 68,
   "id": "5a3f1f17",
   "metadata": {},
   "outputs": [],
   "source": [
    "fecha = str(datetime.datetime.now())\n",
    "fecha2 =fecha.split()[0].replace('-','')\n",
    "archivo_con_fecha = f\"{fecha2}_fondos.csv\"\n",
    "# Crea CSV\n",
    "df3.to_csv(archivo_con_fecha, index = False)"
   ]
  },
  {
   "cell_type": "code",
   "execution_count": 66,
   "id": "0410612d",
   "metadata": {},
   "outputs": [
    {
     "name": "stdout",
     "output_type": "stream",
     "text": [
      "El valor acumulado de los fondos es : 9704.38\n"
     ]
    }
   ],
   "source": [
    "print(f\"El valor acumulado de los fondos es : {total_fondos:.2f}\")"
   ]
  },
  {
   "cell_type": "code",
   "execution_count": 36,
   "id": "63c75bae",
   "metadata": {},
   "outputs": [
    {
     "data": {
      "text/plain": [
       "'\\nimport smtplib\\n   \\nfrom email.MIMEText import MIMEText \\n     \\nemisor = \"copia el mail de origen\" \\nreceptor = \"copia el mail de destino\" \\n   \\n# Configuracion del mail \\nmensaje = MIMEText(\"Este correo ha sido enviado desde Python\") \\nmensaje[\\'From\\']=emisor \\nmensaje[\\'To\\']=receptor \\nmensaje[\\'Subject\\']=\"Valor de los fondos\" \\n# Nos conectamos al servidor SMTP de Gmail \\nserverSMTP = smtplib.SMTP(\\'smtp.gmail.com\\',587) \\nserverSMTP.ehlo() \\nserverSMTP.starttls() \\nserverSMTP.ehlo() \\nserverSMTP.login(emisor,\"ingresa la contraseña de tu correo con el que deseas enviar un mail\") \\n   \\n# Enviamos el mensaje \\nserverSMTP.sendmail(emisor,receptor,mensaje.as_string()) \\n \\n# Cerramos la conexion \\nserverSMTP.close()\\n'"
      ]
     },
     "execution_count": 36,
     "metadata": {},
     "output_type": "execute_result"
    }
   ],
   "source": [
    "\n",
    "import smtplib\n",
    "   \n",
    "from email.MIMEText import MIMEText \n",
    "# Nos conectamos al servidor SMTP de Gmail \n",
    "serverSMTP = smtplib.SMTP('smtp.gmail.com',587) \n",
    "serverSMTP.ehlo() \n",
    "serverSMTP.starttls() \n",
    "serverSMTP.ehlo() \n",
    "serverSMTP.login(emisor,\"xxx\")      \n",
    "\n",
    "    \n",
    "    \n",
    "emisor = \"ragodmar@gmail.com\" \n",
    "receptor = \"ragodmar@gmail.com\" \n",
    "   \n",
    "# Configuracion del mail\n",
    "texto_mensaje =f\"El valor acumulado de los fondos es : {total_fondos:.2f}\"\n",
    "mensaje = MIMEText(\"texto_mensaje\") \n",
    "mensaje['From']=emisor \n",
    "mensaje['To']=receptor \n",
    "mensaje['Subject']=\"Valor de los fondos\" \n",
    "\n",
    "   \n",
    "# Enviamos el mensaje \n",
    "serverSMTP.sendmail(emisor,receptor,mensaje.as_string()) \n",
    " \n",
    "# Cerramos la conexion \n",
    "serverSMTP.close()\n",
    "'''"
   ]
  },
  {
   "cell_type": "code",
   "execution_count": 69,
   "id": "b1d05e1b",
   "metadata": {},
   "outputs": [
    {
     "name": "stdout",
     "output_type": "stream",
     "text": [
      "se creo la tabla fondos\n"
     ]
    }
   ],
   "source": [
    "import sqlite3\n",
    "\n",
    "conexion=sqlite3.connect(\"bd1.db\")\n",
    "try:\n",
    "    conexion.execute(\"\"\"create table fondos (\n",
    "                              codigo integer primary key autoincrement,\n",
    "                              descripcion text,\n",
    "                              precio real\n",
    "                        )\"\"\")\n",
    "    print(\"se creo la tabla fondos\")                        \n",
    "except sqlite3.OperationalError:\n",
    "    print(\"La tabla articulos ya existe\")                    \n",
    "conexion.close()"
   ]
  },
  {
   "cell_type": "code",
   "execution_count": 73,
   "id": "cfcfe97b",
   "metadata": {},
   "outputs": [
    {
     "ename": "ProgrammingError",
     "evalue": "Cannot operate on a closed database.",
     "output_type": "error",
     "traceback": [
      "\u001b[1;31m---------------------------------------------------------------------------\u001b[0m",
      "\u001b[1;31mProgrammingError\u001b[0m                          Traceback (most recent call last)",
      "\u001b[1;32m~\\AppData\\Local\\Temp/ipykernel_7932/3285910008.py\u001b[0m in \u001b[0;36m<module>\u001b[1;34m\u001b[0m\n\u001b[1;32m----> 1\u001b[1;33m \u001b[0mdf3\u001b[0m\u001b[1;33m.\u001b[0m\u001b[0mto_sql\u001b[0m\u001b[1;33m(\u001b[0m\u001b[1;34m'fondos'\u001b[0m\u001b[1;33m,\u001b[0m\u001b[0mconexion\u001b[0m\u001b[1;33m,\u001b[0m\u001b[0mindex\u001b[0m\u001b[1;33m=\u001b[0m\u001b[1;32mFalse\u001b[0m\u001b[1;33m)\u001b[0m\u001b[1;33m\u001b[0m\u001b[1;33m\u001b[0m\u001b[0m\n\u001b[0m",
      "\u001b[1;32m~\\anaconda3\\lib\\site-packages\\pandas\\core\\generic.py\u001b[0m in \u001b[0;36mto_sql\u001b[1;34m(self, name, con, schema, if_exists, index, index_label, chunksize, dtype, method)\u001b[0m\n\u001b[0;32m   2870\u001b[0m         \u001b[1;32mfrom\u001b[0m \u001b[0mpandas\u001b[0m\u001b[1;33m.\u001b[0m\u001b[0mio\u001b[0m \u001b[1;32mimport\u001b[0m \u001b[0msql\u001b[0m\u001b[1;33m\u001b[0m\u001b[1;33m\u001b[0m\u001b[0m\n\u001b[0;32m   2871\u001b[0m \u001b[1;33m\u001b[0m\u001b[0m\n\u001b[1;32m-> 2872\u001b[1;33m         sql.to_sql(\n\u001b[0m\u001b[0;32m   2873\u001b[0m             \u001b[0mself\u001b[0m\u001b[1;33m,\u001b[0m\u001b[1;33m\u001b[0m\u001b[1;33m\u001b[0m\u001b[0m\n\u001b[0;32m   2874\u001b[0m             \u001b[0mname\u001b[0m\u001b[1;33m,\u001b[0m\u001b[1;33m\u001b[0m\u001b[1;33m\u001b[0m\u001b[0m\n",
      "\u001b[1;32m~\\anaconda3\\lib\\site-packages\\pandas\\io\\sql.py\u001b[0m in \u001b[0;36mto_sql\u001b[1;34m(frame, name, con, schema, if_exists, index, index_label, chunksize, dtype, method, engine, **engine_kwargs)\u001b[0m\n\u001b[0;32m    715\u001b[0m         )\n\u001b[0;32m    716\u001b[0m \u001b[1;33m\u001b[0m\u001b[0m\n\u001b[1;32m--> 717\u001b[1;33m     pandas_sql.to_sql(\n\u001b[0m\u001b[0;32m    718\u001b[0m         \u001b[0mframe\u001b[0m\u001b[1;33m,\u001b[0m\u001b[1;33m\u001b[0m\u001b[1;33m\u001b[0m\u001b[0m\n\u001b[0;32m    719\u001b[0m         \u001b[0mname\u001b[0m\u001b[1;33m,\u001b[0m\u001b[1;33m\u001b[0m\u001b[1;33m\u001b[0m\u001b[0m\n",
      "\u001b[1;32m~\\anaconda3\\lib\\site-packages\\pandas\\io\\sql.py\u001b[0m in \u001b[0;36mto_sql\u001b[1;34m(self, frame, name, if_exists, index, index_label, schema, chunksize, dtype, method, **kwargs)\u001b[0m\n\u001b[0;32m   2223\u001b[0m             \u001b[0mdtype\u001b[0m\u001b[1;33m=\u001b[0m\u001b[0mdtype\u001b[0m\u001b[1;33m,\u001b[0m\u001b[1;33m\u001b[0m\u001b[1;33m\u001b[0m\u001b[0m\n\u001b[0;32m   2224\u001b[0m         )\n\u001b[1;32m-> 2225\u001b[1;33m         \u001b[0mtable\u001b[0m\u001b[1;33m.\u001b[0m\u001b[0mcreate\u001b[0m\u001b[1;33m(\u001b[0m\u001b[1;33m)\u001b[0m\u001b[1;33m\u001b[0m\u001b[1;33m\u001b[0m\u001b[0m\n\u001b[0m\u001b[0;32m   2226\u001b[0m         \u001b[0mtable\u001b[0m\u001b[1;33m.\u001b[0m\u001b[0minsert\u001b[0m\u001b[1;33m(\u001b[0m\u001b[0mchunksize\u001b[0m\u001b[1;33m,\u001b[0m \u001b[0mmethod\u001b[0m\u001b[1;33m)\u001b[0m\u001b[1;33m\u001b[0m\u001b[1;33m\u001b[0m\u001b[0m\n\u001b[0;32m   2227\u001b[0m \u001b[1;33m\u001b[0m\u001b[0m\n",
      "\u001b[1;32m~\\anaconda3\\lib\\site-packages\\pandas\\io\\sql.py\u001b[0m in \u001b[0;36mcreate\u001b[1;34m(self)\u001b[0m\n\u001b[0;32m    854\u001b[0m \u001b[1;33m\u001b[0m\u001b[0m\n\u001b[0;32m    855\u001b[0m     \u001b[1;32mdef\u001b[0m \u001b[0mcreate\u001b[0m\u001b[1;33m(\u001b[0m\u001b[0mself\u001b[0m\u001b[1;33m)\u001b[0m\u001b[1;33m:\u001b[0m\u001b[1;33m\u001b[0m\u001b[1;33m\u001b[0m\u001b[0m\n\u001b[1;32m--> 856\u001b[1;33m         \u001b[1;32mif\u001b[0m \u001b[0mself\u001b[0m\u001b[1;33m.\u001b[0m\u001b[0mexists\u001b[0m\u001b[1;33m(\u001b[0m\u001b[1;33m)\u001b[0m\u001b[1;33m:\u001b[0m\u001b[1;33m\u001b[0m\u001b[1;33m\u001b[0m\u001b[0m\n\u001b[0m\u001b[0;32m    857\u001b[0m             \u001b[1;32mif\u001b[0m \u001b[0mself\u001b[0m\u001b[1;33m.\u001b[0m\u001b[0mif_exists\u001b[0m \u001b[1;33m==\u001b[0m \u001b[1;34m\"fail\"\u001b[0m\u001b[1;33m:\u001b[0m\u001b[1;33m\u001b[0m\u001b[1;33m\u001b[0m\u001b[0m\n\u001b[0;32m    858\u001b[0m                 \u001b[1;32mraise\u001b[0m \u001b[0mValueError\u001b[0m\u001b[1;33m(\u001b[0m\u001b[1;34mf\"Table '{self.name}' already exists.\"\u001b[0m\u001b[1;33m)\u001b[0m\u001b[1;33m\u001b[0m\u001b[1;33m\u001b[0m\u001b[0m\n",
      "\u001b[1;32m~\\anaconda3\\lib\\site-packages\\pandas\\io\\sql.py\u001b[0m in \u001b[0;36mexists\u001b[1;34m(self)\u001b[0m\n\u001b[0;32m    838\u001b[0m \u001b[1;33m\u001b[0m\u001b[0m\n\u001b[0;32m    839\u001b[0m     \u001b[1;32mdef\u001b[0m \u001b[0mexists\u001b[0m\u001b[1;33m(\u001b[0m\u001b[0mself\u001b[0m\u001b[1;33m)\u001b[0m\u001b[1;33m:\u001b[0m\u001b[1;33m\u001b[0m\u001b[1;33m\u001b[0m\u001b[0m\n\u001b[1;32m--> 840\u001b[1;33m         \u001b[1;32mreturn\u001b[0m \u001b[0mself\u001b[0m\u001b[1;33m.\u001b[0m\u001b[0mpd_sql\u001b[0m\u001b[1;33m.\u001b[0m\u001b[0mhas_table\u001b[0m\u001b[1;33m(\u001b[0m\u001b[0mself\u001b[0m\u001b[1;33m.\u001b[0m\u001b[0mname\u001b[0m\u001b[1;33m,\u001b[0m \u001b[0mself\u001b[0m\u001b[1;33m.\u001b[0m\u001b[0mschema\u001b[0m\u001b[1;33m)\u001b[0m\u001b[1;33m\u001b[0m\u001b[1;33m\u001b[0m\u001b[0m\n\u001b[0m\u001b[0;32m    841\u001b[0m \u001b[1;33m\u001b[0m\u001b[0m\n\u001b[0;32m    842\u001b[0m     \u001b[1;32mdef\u001b[0m \u001b[0msql_schema\u001b[0m\u001b[1;33m(\u001b[0m\u001b[0mself\u001b[0m\u001b[1;33m)\u001b[0m\u001b[1;33m:\u001b[0m\u001b[1;33m\u001b[0m\u001b[1;33m\u001b[0m\u001b[0m\n",
      "\u001b[1;32m~\\anaconda3\\lib\\site-packages\\pandas\\io\\sql.py\u001b[0m in \u001b[0;36mhas_table\u001b[1;34m(self, name, schema)\u001b[0m\n\u001b[0;32m   2234\u001b[0m         \u001b[0mquery\u001b[0m \u001b[1;33m=\u001b[0m \u001b[1;34mf\"SELECT name FROM sqlite_master WHERE type='table' AND name={wld};\"\u001b[0m\u001b[1;33m\u001b[0m\u001b[1;33m\u001b[0m\u001b[0m\n\u001b[0;32m   2235\u001b[0m \u001b[1;33m\u001b[0m\u001b[0m\n\u001b[1;32m-> 2236\u001b[1;33m         \u001b[1;32mreturn\u001b[0m \u001b[0mlen\u001b[0m\u001b[1;33m(\u001b[0m\u001b[0mself\u001b[0m\u001b[1;33m.\u001b[0m\u001b[0mexecute\u001b[0m\u001b[1;33m(\u001b[0m\u001b[0mquery\u001b[0m\u001b[1;33m,\u001b[0m \u001b[1;33m[\u001b[0m\u001b[0mname\u001b[0m\u001b[1;33m]\u001b[0m\u001b[1;33m)\u001b[0m\u001b[1;33m.\u001b[0m\u001b[0mfetchall\u001b[0m\u001b[1;33m(\u001b[0m\u001b[1;33m)\u001b[0m\u001b[1;33m)\u001b[0m \u001b[1;33m>\u001b[0m \u001b[1;36m0\u001b[0m\u001b[1;33m\u001b[0m\u001b[1;33m\u001b[0m\u001b[0m\n\u001b[0m\u001b[0;32m   2237\u001b[0m \u001b[1;33m\u001b[0m\u001b[0m\n\u001b[0;32m   2238\u001b[0m     \u001b[1;32mdef\u001b[0m \u001b[0mget_table\u001b[0m\u001b[1;33m(\u001b[0m\u001b[0mself\u001b[0m\u001b[1;33m,\u001b[0m \u001b[0mtable_name\u001b[0m\u001b[1;33m:\u001b[0m \u001b[0mstr\u001b[0m\u001b[1;33m,\u001b[0m \u001b[0mschema\u001b[0m\u001b[1;33m:\u001b[0m \u001b[0mstr\u001b[0m \u001b[1;33m|\u001b[0m \u001b[1;32mNone\u001b[0m \u001b[1;33m=\u001b[0m \u001b[1;32mNone\u001b[0m\u001b[1;33m)\u001b[0m\u001b[1;33m:\u001b[0m\u001b[1;33m\u001b[0m\u001b[1;33m\u001b[0m\u001b[0m\n",
      "\u001b[1;32m~\\anaconda3\\lib\\site-packages\\pandas\\io\\sql.py\u001b[0m in \u001b[0;36mexecute\u001b[1;34m(self, *args, **kwargs)\u001b[0m\n\u001b[0;32m   2052\u001b[0m             \u001b[0mcur\u001b[0m \u001b[1;33m=\u001b[0m \u001b[0mself\u001b[0m\u001b[1;33m.\u001b[0m\u001b[0mcon\u001b[0m\u001b[1;33m\u001b[0m\u001b[1;33m\u001b[0m\u001b[0m\n\u001b[0;32m   2053\u001b[0m         \u001b[1;32melse\u001b[0m\u001b[1;33m:\u001b[0m\u001b[1;33m\u001b[0m\u001b[1;33m\u001b[0m\u001b[0m\n\u001b[1;32m-> 2054\u001b[1;33m             \u001b[0mcur\u001b[0m \u001b[1;33m=\u001b[0m \u001b[0mself\u001b[0m\u001b[1;33m.\u001b[0m\u001b[0mcon\u001b[0m\u001b[1;33m.\u001b[0m\u001b[0mcursor\u001b[0m\u001b[1;33m(\u001b[0m\u001b[1;33m)\u001b[0m\u001b[1;33m\u001b[0m\u001b[1;33m\u001b[0m\u001b[0m\n\u001b[0m\u001b[0;32m   2055\u001b[0m         \u001b[1;32mtry\u001b[0m\u001b[1;33m:\u001b[0m\u001b[1;33m\u001b[0m\u001b[1;33m\u001b[0m\u001b[0m\n\u001b[0;32m   2056\u001b[0m             \u001b[0mcur\u001b[0m\u001b[1;33m.\u001b[0m\u001b[0mexecute\u001b[0m\u001b[1;33m(\u001b[0m\u001b[1;33m*\u001b[0m\u001b[0margs\u001b[0m\u001b[1;33m,\u001b[0m \u001b[1;33m**\u001b[0m\u001b[0mkwargs\u001b[0m\u001b[1;33m)\u001b[0m\u001b[1;33m\u001b[0m\u001b[1;33m\u001b[0m\u001b[0m\n",
      "\u001b[1;31mProgrammingError\u001b[0m: Cannot operate on a closed database."
     ]
    }
   ],
   "source": [
    "df3.to_sql('fondos',conexion,index=False)\n"
   ]
  },
  {
   "cell_type": "code",
   "execution_count": null,
   "id": "a2cbae65",
   "metadata": {},
   "outputs": [],
   "source": []
  }
 ],
 "metadata": {
  "kernelspec": {
   "display_name": "Python 3 (ipykernel)",
   "language": "python",
   "name": "python3"
  },
  "language_info": {
   "codemirror_mode": {
    "name": "ipython",
    "version": 3
   },
   "file_extension": ".py",
   "mimetype": "text/x-python",
   "name": "python",
   "nbconvert_exporter": "python",
   "pygments_lexer": "ipython3",
   "version": "3.9.7"
  }
 },
 "nbformat": 4,
 "nbformat_minor": 5
}
