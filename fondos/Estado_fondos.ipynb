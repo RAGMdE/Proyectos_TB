{
 "cells": [
  {
   "cell_type": "markdown",
   "id": "0956f340-2fd5-481b-b23f-7329f17584ca",
   "metadata": {},
   "source": [
    "Este desarrollo pretende buscar los precios de unos fondos de iversion dados, calcular el valor en euros en funcion de las participaciones.\n",
    "\n",
    "Para ello se creua lista con productos. Se ha escogido la pagina par buscar los valores\n",
    "\n",
    "\n",
    "\n",
    "EL proceso de busqueda consiste en entrar en la pagina web, saltarse la cookies e ir buscando cada producto de la lista, inicalizando previamente el campo de la busqueda de la pagina web.\n",
    "\n",
    "Se obtiene una lista valorada por cada fondo en función d elas participaciones, fundiendose en una sola donde se compara precios y se recomeinda el supermercado donde realziar la compra.\n",
    "\n",
    "Al final produce un fichero csv con la decisión de donde comprar cada producto en función del precio más barato.\n",
    "Tambien se obtiene la descripcion y formato de un producto por cada supermercado.\n"
   ]
  },
  {
   "cell_type": "raw",
   "id": "8ce439bd",
   "metadata": {},
   "source": []
  },
  {
   "cell_type": "code",
   "execution_count": 10,
   "id": "ac4c39cf",
   "metadata": {},
   "outputs": [
    {
     "name": "stdout",
     "output_type": "stream",
     "text": [
      "Collecting selenium\n",
      "  Downloading selenium-4.1.5-py3-none-any.whl (979 kB)\n",
      "Collecting trio~=0.17\n",
      "  Downloading trio-0.20.0-py3-none-any.whl (359 kB)\n",
      "Requirement already satisfied: urllib3[secure,socks]~=1.26 in c:\\users\\ragod\\anaconda3\\lib\\site-packages (from selenium) (1.26.7)\n",
      "Collecting trio-websocket~=0.9\n",
      "  Using cached trio_websocket-0.9.2-py3-none-any.whl (16 kB)\n",
      "Collecting outcome\n",
      "  Using cached outcome-1.1.0-py2.py3-none-any.whl (9.7 kB)\n",
      "Requirement already satisfied: cffi>=1.14 in c:\\users\\ragod\\anaconda3\\lib\\site-packages (from trio~=0.17->selenium) (1.14.6)\n",
      "Requirement already satisfied: sniffio in c:\\users\\ragod\\anaconda3\\lib\\site-packages (from trio~=0.17->selenium) (1.2.0)\n",
      "Requirement already satisfied: attrs>=19.2.0 in c:\\users\\ragod\\anaconda3\\lib\\site-packages (from trio~=0.17->selenium) (21.2.0)\n",
      "Requirement already satisfied: idna in c:\\users\\ragod\\anaconda3\\lib\\site-packages (from trio~=0.17->selenium) (3.2)\n",
      "Requirement already satisfied: async-generator>=1.9 in c:\\users\\ragod\\anaconda3\\lib\\site-packages (from trio~=0.17->selenium) (1.10)\n",
      "Requirement already satisfied: sortedcontainers in c:\\users\\ragod\\anaconda3\\lib\\site-packages (from trio~=0.17->selenium) (2.4.0)\n",
      "Requirement already satisfied: pycparser in c:\\users\\ragod\\anaconda3\\lib\\site-packages (from cffi>=1.14->trio~=0.17->selenium) (2.20)\n",
      "Collecting wsproto>=0.14\n",
      "  Downloading wsproto-1.1.0-py3-none-any.whl (24 kB)\n",
      "Requirement already satisfied: pyOpenSSL>=0.14 in c:\\users\\ragod\\anaconda3\\lib\\site-packages (from urllib3[secure,socks]~=1.26->selenium) (21.0.0)\n",
      "Requirement already satisfied: cryptography>=1.3.4 in c:\\users\\ragod\\anaconda3\\lib\\site-packages (from urllib3[secure,socks]~=1.26->selenium) (3.4.8)\n",
      "Requirement already satisfied: certifi in c:\\users\\ragod\\anaconda3\\lib\\site-packages (from urllib3[secure,socks]~=1.26->selenium) (2021.10.8)\n",
      "Requirement already satisfied: PySocks!=1.5.7,<2.0,>=1.5.6 in c:\\users\\ragod\\anaconda3\\lib\\site-packages (from urllib3[secure,socks]~=1.26->selenium) (1.7.1)\n",
      "Requirement already satisfied: six>=1.5.2 in c:\\users\\ragod\\anaconda3\\lib\\site-packages (from pyOpenSSL>=0.14->urllib3[secure,socks]~=1.26->selenium) (1.16.0)\n",
      "Collecting h11<1,>=0.9.0\n",
      "  Downloading h11-0.13.0-py3-none-any.whl (58 kB)\n",
      "Installing collected packages: outcome, h11, wsproto, trio, trio-websocket, selenium\n",
      "Successfully installed h11-0.13.0 outcome-1.1.0 selenium-4.1.5 trio-0.20.0 trio-websocket-0.9.2 wsproto-1.1.0\n"
     ]
    }
   ],
   "source": [
    "#!pip install selenium"
   ]
  },
  {
   "cell_type": "code",
   "execution_count": 8,
   "id": "5ab0d5cf",
   "metadata": {
    "scrolled": true
   },
   "outputs": [
    {
     "name": "stdout",
     "output_type": "stream",
     "text": [
      "Collecting fake-useragent\n",
      "  Using cached fake-useragent-0.1.11.tar.gz (13 kB)\n",
      "Building wheels for collected packages: fake-useragent\n",
      "  Building wheel for fake-useragent (setup.py): started\n",
      "  Building wheel for fake-useragent (setup.py): finished with status 'done'\n",
      "  Created wheel for fake-useragent: filename=fake_useragent-0.1.11-py3-none-any.whl size=13502 sha256=f24b61eca107cd200fb650143458457b3e880905316c0c692358b29bf620aeb5\n",
      "  Stored in directory: c:\\users\\ragod\\appdata\\local\\pip\\cache\\wheels\\ae\\e7\\76\\7dd44644d065268ab0e1b4fa2e802fa4bb0157717b7d6c6d92\n",
      "Successfully built fake-useragent\n",
      "Installing collected packages: fake-useragent\n",
      "Successfully installed fake-useragent-0.1.11\n"
     ]
    }
   ],
   "source": [
    "#!pip install fake-useragent"
   ]
  },
  {
   "cell_type": "code",
   "execution_count": 2,
   "id": "e29a3c01-f808-402d-a64c-aa0f7c19efb2",
   "metadata": {},
   "outputs": [
    {
     "name": "stdout",
     "output_type": "stream",
     "text": [
      "Collecting datetime\n",
      "  Downloading DateTime-4.4-py2.py3-none-any.whl (51 kB)\n",
      "Requirement already satisfied: pytz in c:\\users\\ragod\\anaconda3\\lib\\site-packages (from datetime) (2021.3)\n",
      "Requirement already satisfied: zope.interface in c:\\users\\ragod\\anaconda3\\lib\\site-packages (from datetime) (5.4.0)\n",
      "Requirement already satisfied: setuptools in c:\\users\\ragod\\anaconda3\\lib\\site-packages (from zope.interface->datetime) (58.0.4)\n",
      "Installing collected packages: datetime\n",
      "Successfully installed datetime-4.4\n"
     ]
    }
   ],
   "source": [
    "# !pip install datetime"
   ]
  },
  {
   "cell_type": "code",
   "execution_count": 18,
   "id": "23cce9a0-203a-460c-ba88-e4a7895c936d",
   "metadata": {},
   "outputs": [],
   "source": [
    "# !pip install webdriver-manager\n",
    "from selenium import webdriver\n",
    "from selenium.webdriver.chrome.service import Service\n",
    "from webdriver_manager.chrome import ChromeDriverManager\n",
    "from selenium.webdriver.common.by import By"
   ]
  },
  {
   "cell_type": "code",
   "execution_count": 5,
   "id": "511f60f3-2f87-4aa3-adb6-95a7b1bf36b2",
   "metadata": {
    "tags": []
   },
   "outputs": [],
   "source": [
    "# !pip install pymupdf"
   ]
  },
  {
   "cell_type": "code",
   "execution_count": 93,
   "id": "7fb62672-bebd-439a-a6de-1a958830c383",
   "metadata": {
    "tags": []
   },
   "outputs": [],
   "source": [
    "import requests as req\n",
    "import pandas as pd\n",
    "\n",
    "import time\n",
    "import datetime  # manejo temporal\n",
    "\n",
    "from bs4 import BeautifulSoup as bs\n",
    "\n",
    "from webdriver_manager.chrome import ChromeDriverManager\n",
    "from fake_useragent import UserAgent\n",
    "\n",
    "PATH = r'C:\\Users\\ragod\\Desktop\\reposicion\\Proyectos_TB\\Proyectos_TB\\Funciones\\chromedriver.exe'  #'driver/chromedriver'\n",
    "#usuario=UserAgent().random\n",
    "\n",
    "\n",
    "from selenium import webdriver  # driver selenium\n",
    "from selenium.webdriver.chrome.options import Options\n",
    "from selenium.webdriver.common.by import By   # para elegir por elemento\n",
    "from selenium.webdriver.support.ui import WebDriverWait # para el time sleep\n",
    "from selenium.webdriver.support import expected_conditions as EC # condiciones esperadas\n",
    "from selenium.webdriver import ActionChains as AC # acciones en cadena\n"
   ]
  },
  {
   "cell_type": "code",
   "execution_count": 123,
   "id": "2af2600b-eb1d-4618-9cc3-b1247b859749",
   "metadata": {
    "tags": []
   },
   "outputs": [
    {
     "name": "stderr",
     "output_type": "stream",
     "text": [
      "C:\\Users\\ragod\\AppData\\Local\\Temp/ipykernel_7564/941672663.py:2: DeprecationWarning: executable_path has been deprecated, please pass in a Service object\n",
      "  driver=webdriver.Chrome(PATH)\n"
     ]
    }
   ],
   "source": [
    "url='https://www.morningstar.es/es/'\n",
    "driver=webdriver.Chrome(PATH) \n",
    "driver.get(url)\n",
    "\n",
    "time.sleep(3)\n"
   ]
  },
  {
   "cell_type": "code",
   "execution_count": 106,
   "id": "1263a567",
   "metadata": {},
   "outputs": [
    {
     "data": {
      "text/plain": [
       "['BGF Euro Short Duration Bond A2 EUR',\n",
       " 'iShares Euro Govt Bd Idx (LU) A2 EUR',\n",
       " 'iShares Em Markets Govt Bd Idx (LU) A2 EURH',\n",
       " 'iShares Europe Equity Index (LU) A2 EUR ',\n",
       " 'iShares Dev RI Ett Idx (IE) Instl Acc €',\n",
       " 'iShares North America Eq Index (LU) A2 USD',\n",
       " 'iShares Japan Equity Index (LU) A2 USD',\n",
       " 'iShares Emerging Markets Eq Idx (LU) A2 USD']"
      ]
     },
     "execution_count": 106,
     "metadata": {},
     "output_type": "execute_result"
    }
   ],
   "source": [
    "\n",
    "#Lectura de fondos\n",
    "\n",
    "mis_fondos =pd.read_excel(r'C:\\Users\\ragod\\Desktop\\reposicion\\Proyectos_TB\\Proyectos_TB\\fondos\\fondos.xlsx', sheet_name ='Fondos',header = 0)\n",
    "mis_fondos_l =list (mis_fondos.n_nom_fondo)\n",
    "mis_fondos_l"
   ]
  },
  {
   "cell_type": "code",
   "execution_count": 124,
   "id": "a437357a-cb0d-49a0-87f2-c71c176dfb85",
   "metadata": {
    "tags": []
   },
   "outputs": [
    {
     "ename": "NoSuchElementException",
     "evalue": "Message: no such element: Unable to locate element: {\"method\":\"xpath\",\"selector\":\"//*[@id=\"overviewQuickstatsDiv\"]/table/tbody/tr[2]/td[3]\"}\n  (Session info: chrome=101.0.4951.67)\nStacktrace:\nBacktrace:\n\tOrdinal0 [0x007AB8F3+2406643]\n\tOrdinal0 [0x0073AF31+1945393]\n\tOrdinal0 [0x0062C748+837448]\n\tOrdinal0 [0x006592E0+1020640]\n\tOrdinal0 [0x0065957B+1021307]\n\tOrdinal0 [0x00686372+1205106]\n\tOrdinal0 [0x006742C4+1131204]\n\tOrdinal0 [0x00684682+1197698]\n\tOrdinal0 [0x00674096+1130646]\n\tOrdinal0 [0x0064E636+976438]\n\tOrdinal0 [0x0064F546+980294]\n\tGetHandleVerifier [0x00A19612+2498066]\n\tGetHandleVerifier [0x00A0C920+2445600]\n\tGetHandleVerifier [0x00844F2A+579370]\n\tGetHandleVerifier [0x00843D36+574774]\n\tOrdinal0 [0x00741C0B+1973259]\n\tOrdinal0 [0x00746688+1992328]\n\tOrdinal0 [0x00746775+1992565]\n\tOrdinal0 [0x0074F8D1+2029777]\n\tBaseThreadInitThunk [0x76DEFA29+25]\n\tRtlGetAppContainerNamedObjectPath [0x778D7A7E+286]\n\tRtlGetAppContainerNamedObjectPath [0x778D7A4E+238]\n",
     "output_type": "error",
     "traceback": [
      "\u001b[1;31m---------------------------------------------------------------------------\u001b[0m",
      "\u001b[1;31mNoSuchElementException\u001b[0m                    Traceback (most recent call last)",
      "\u001b[1;32m~\\AppData\\Local\\Temp/ipykernel_7564/758379967.py\u001b[0m in \u001b[0;36m<module>\u001b[1;34m\u001b[0m\n\u001b[0;32m     16\u001b[0m \u001b[1;33m\u001b[0m\u001b[0m\n\u001b[0;32m     17\u001b[0m \u001b[1;33m\u001b[0m\u001b[0m\n\u001b[1;32m---> 18\u001b[1;33m \u001b[0mprecio\u001b[0m\u001b[1;33m=\u001b[0m \u001b[0mdriver\u001b[0m\u001b[1;33m.\u001b[0m\u001b[0mfind_element\u001b[0m\u001b[1;33m(\u001b[0m\u001b[0mBy\u001b[0m\u001b[1;33m.\u001b[0m\u001b[0mXPATH\u001b[0m\u001b[1;33m,\u001b[0m \u001b[1;34m'//*[@id=\"overviewQuickstatsDiv\"]/table/tbody/tr[2]/td[3]'\u001b[0m\u001b[1;33m)\u001b[0m\u001b[1;33m.\u001b[0m\u001b[0mtext\u001b[0m\u001b[1;33m\u001b[0m\u001b[1;33m\u001b[0m\u001b[0m\n\u001b[0m\u001b[0;32m     19\u001b[0m \u001b[0mprecio\u001b[0m\u001b[1;33m\u001b[0m\u001b[1;33m\u001b[0m\u001b[0m\n\u001b[0;32m     20\u001b[0m \u001b[1;33m\u001b[0m\u001b[0m\n",
      "\u001b[1;32m~\\anaconda3\\lib\\site-packages\\selenium\\webdriver\\remote\\webdriver.py\u001b[0m in \u001b[0;36mfind_element\u001b[1;34m(self, by, value)\u001b[0m\n\u001b[0;32m   1249\u001b[0m             \u001b[0mvalue\u001b[0m \u001b[1;33m=\u001b[0m \u001b[1;34m'[name=\"%s\"]'\u001b[0m \u001b[1;33m%\u001b[0m \u001b[0mvalue\u001b[0m\u001b[1;33m\u001b[0m\u001b[1;33m\u001b[0m\u001b[0m\n\u001b[0;32m   1250\u001b[0m \u001b[1;33m\u001b[0m\u001b[0m\n\u001b[1;32m-> 1251\u001b[1;33m         return self.execute(Command.FIND_ELEMENT, {\n\u001b[0m\u001b[0;32m   1252\u001b[0m             \u001b[1;34m'using'\u001b[0m\u001b[1;33m:\u001b[0m \u001b[0mby\u001b[0m\u001b[1;33m,\u001b[0m\u001b[1;33m\u001b[0m\u001b[1;33m\u001b[0m\u001b[0m\n\u001b[0;32m   1253\u001b[0m             'value': value})['value']\n",
      "\u001b[1;32m~\\anaconda3\\lib\\site-packages\\selenium\\webdriver\\remote\\webdriver.py\u001b[0m in \u001b[0;36mexecute\u001b[1;34m(self, driver_command, params)\u001b[0m\n\u001b[0;32m    428\u001b[0m         \u001b[0mresponse\u001b[0m \u001b[1;33m=\u001b[0m \u001b[0mself\u001b[0m\u001b[1;33m.\u001b[0m\u001b[0mcommand_executor\u001b[0m\u001b[1;33m.\u001b[0m\u001b[0mexecute\u001b[0m\u001b[1;33m(\u001b[0m\u001b[0mdriver_command\u001b[0m\u001b[1;33m,\u001b[0m \u001b[0mparams\u001b[0m\u001b[1;33m)\u001b[0m\u001b[1;33m\u001b[0m\u001b[1;33m\u001b[0m\u001b[0m\n\u001b[0;32m    429\u001b[0m         \u001b[1;32mif\u001b[0m \u001b[0mresponse\u001b[0m\u001b[1;33m:\u001b[0m\u001b[1;33m\u001b[0m\u001b[1;33m\u001b[0m\u001b[0m\n\u001b[1;32m--> 430\u001b[1;33m             \u001b[0mself\u001b[0m\u001b[1;33m.\u001b[0m\u001b[0merror_handler\u001b[0m\u001b[1;33m.\u001b[0m\u001b[0mcheck_response\u001b[0m\u001b[1;33m(\u001b[0m\u001b[0mresponse\u001b[0m\u001b[1;33m)\u001b[0m\u001b[1;33m\u001b[0m\u001b[1;33m\u001b[0m\u001b[0m\n\u001b[0m\u001b[0;32m    431\u001b[0m             response['value'] = self._unwrap_value(\n\u001b[0;32m    432\u001b[0m                 response.get('value', None))\n",
      "\u001b[1;32m~\\anaconda3\\lib\\site-packages\\selenium\\webdriver\\remote\\errorhandler.py\u001b[0m in \u001b[0;36mcheck_response\u001b[1;34m(self, response)\u001b[0m\n\u001b[0;32m    245\u001b[0m                 \u001b[0malert_text\u001b[0m \u001b[1;33m=\u001b[0m \u001b[0mvalue\u001b[0m\u001b[1;33m[\u001b[0m\u001b[1;34m'alert'\u001b[0m\u001b[1;33m]\u001b[0m\u001b[1;33m.\u001b[0m\u001b[0mget\u001b[0m\u001b[1;33m(\u001b[0m\u001b[1;34m'text'\u001b[0m\u001b[1;33m)\u001b[0m\u001b[1;33m\u001b[0m\u001b[1;33m\u001b[0m\u001b[0m\n\u001b[0;32m    246\u001b[0m             \u001b[1;32mraise\u001b[0m \u001b[0mexception_class\u001b[0m\u001b[1;33m(\u001b[0m\u001b[0mmessage\u001b[0m\u001b[1;33m,\u001b[0m \u001b[0mscreen\u001b[0m\u001b[1;33m,\u001b[0m \u001b[0mstacktrace\u001b[0m\u001b[1;33m,\u001b[0m \u001b[0malert_text\u001b[0m\u001b[1;33m)\u001b[0m  \u001b[1;31m# type: ignore[call-arg]  # mypy is not smart enough here\u001b[0m\u001b[1;33m\u001b[0m\u001b[1;33m\u001b[0m\u001b[0m\n\u001b[1;32m--> 247\u001b[1;33m         \u001b[1;32mraise\u001b[0m \u001b[0mexception_class\u001b[0m\u001b[1;33m(\u001b[0m\u001b[0mmessage\u001b[0m\u001b[1;33m,\u001b[0m \u001b[0mscreen\u001b[0m\u001b[1;33m,\u001b[0m \u001b[0mstacktrace\u001b[0m\u001b[1;33m)\u001b[0m\u001b[1;33m\u001b[0m\u001b[1;33m\u001b[0m\u001b[0m\n\u001b[0m\u001b[0;32m    248\u001b[0m \u001b[1;33m\u001b[0m\u001b[0m\n\u001b[0;32m    249\u001b[0m     \u001b[1;32mdef\u001b[0m \u001b[0m_value_or_default\u001b[0m\u001b[1;33m(\u001b[0m\u001b[0mself\u001b[0m\u001b[1;33m,\u001b[0m \u001b[0mobj\u001b[0m\u001b[1;33m:\u001b[0m \u001b[0mMapping\u001b[0m\u001b[1;33m[\u001b[0m\u001b[0m_KT\u001b[0m\u001b[1;33m,\u001b[0m \u001b[0m_VT\u001b[0m\u001b[1;33m]\u001b[0m\u001b[1;33m,\u001b[0m \u001b[0mkey\u001b[0m\u001b[1;33m:\u001b[0m \u001b[0m_KT\u001b[0m\u001b[1;33m,\u001b[0m \u001b[0mdefault\u001b[0m\u001b[1;33m:\u001b[0m \u001b[0m_VT\u001b[0m\u001b[1;33m)\u001b[0m \u001b[1;33m->\u001b[0m \u001b[0m_VT\u001b[0m\u001b[1;33m:\u001b[0m\u001b[1;33m\u001b[0m\u001b[1;33m\u001b[0m\u001b[0m\n",
      "\u001b[1;31mNoSuchElementException\u001b[0m: Message: no such element: Unable to locate element: {\"method\":\"xpath\",\"selector\":\"//*[@id=\"overviewQuickstatsDiv\"]/table/tbody/tr[2]/td[3]\"}\n  (Session info: chrome=101.0.4951.67)\nStacktrace:\nBacktrace:\n\tOrdinal0 [0x007AB8F3+2406643]\n\tOrdinal0 [0x0073AF31+1945393]\n\tOrdinal0 [0x0062C748+837448]\n\tOrdinal0 [0x006592E0+1020640]\n\tOrdinal0 [0x0065957B+1021307]\n\tOrdinal0 [0x00686372+1205106]\n\tOrdinal0 [0x006742C4+1131204]\n\tOrdinal0 [0x00684682+1197698]\n\tOrdinal0 [0x00674096+1130646]\n\tOrdinal0 [0x0064E636+976438]\n\tOrdinal0 [0x0064F546+980294]\n\tGetHandleVerifier [0x00A19612+2498066]\n\tGetHandleVerifier [0x00A0C920+2445600]\n\tGetHandleVerifier [0x00844F2A+579370]\n\tGetHandleVerifier [0x00843D36+574774]\n\tOrdinal0 [0x00741C0B+1973259]\n\tOrdinal0 [0x00746688+1992328]\n\tOrdinal0 [0x00746775+1992565]\n\tOrdinal0 [0x0074F8D1+2029777]\n\tBaseThreadInitThunk [0x76DEFA29+25]\n\tRtlGetAppContainerNamedObjectPath [0x778D7A7E+286]\n\tRtlGetAppContainerNamedObjectPath [0x778D7A4E+238]\n"
     ]
    }
   ],
   "source": [
    "\n",
    "#Busqueda en Blackrock\n",
    "saltar_coockies=driver.find_element(By.XPATH,'//*[@id=\"onetrust-accept-btn-handler\"]')\n",
    "saltar_coockies.click()\n",
    "time.sleep(3)\n",
    "\n",
    "aceptar_cookies=driver.find_element(By.XPATH,'//*[@id=\"btn_individual\"]') # objeto en la web de busqueda\n",
    "aceptar_cookies.click() # Boton busqueda\n",
    "\n",
    "buscar=driver.find_element(By.XPATH,'//*[@id=\"quoteSearch\"]').clear()\n",
    "producto ='BlackRock Global Fund Euro Short Duration Bond A2 EUR'\n",
    "buscar=driver.find_element(By.XPATH,'//*[@id=\"quoteSearch\"]')# objeto en la web de busqueda\n",
    "buscar.send_keys(producto)  # incrusta la string\n",
    "time.sleep(3)\n",
    "buscar.click()\n",
    "\n",
    "\n",
    "\n",
    "precio= driver.find_element(By.XPATH, '//*[@id=\"overviewQuickstatsDiv\"]/table/tbody/tr[2]/td[3]').text\n",
    "precio\n",
    "\n",
    "#mi_lista_valorada =[]\n",
    "'''\n",
    "#buscar productos\n",
    "\n",
    "for n in range(len(mi_lista)):\n",
    "    buscar=driver.find_element(By.XPATH,'//*[@id=\"quoteSearch\"]').clear() # objeto en la web de busqueda\n",
    "\n",
    "    buscar.send_keys(busqueda)  # incrusta la string\n",
    "    time.sleep()\n",
    "\n",
    "    producto = mi_lista[n]\n",
    "    buscar=driver.find_element(By.XPATH,'//*[@id=\"search\"]')\n",
    "    buscar.send_keys(producto)  # incrusta la string\n",
    "    time.sleep(3)\n",
    "    producto_mercadona = driver.find_element_by_class_name('product-container').text\n",
    "    producto_mercadona_list=producto_mercadona.split('\\n')\n",
    "    producto_mercadona_descripcion = producto_mercadona_list[0]\n",
    "    producto_mercadona_formato = producto_mercadona_list[1]\n",
    "    producto_mercadona_precio = producto_mercadona_list[2].replace(' € /ud.','')\n",
    "    # Crear lista valorada Mercadona\n",
    "    mi_lista_valorada.append([producto, producto_mercadona_precio])\n",
    "\n",
    "'''\n",
    "\n",
    "\n",
    "\n",
    "                                  \n",
    "\n",
    "\n"
   ]
  },
  {
   "cell_type": "code",
   "execution_count": 13,
   "id": "4517d6d3-c7bb-4d9e-8bd3-b39e676ef845",
   "metadata": {
    "tags": []
   },
   "outputs": [],
   "source": [
    "df2 =pd.DataFrame(mi_lista_valorada2, columns =['Producto','Precio_Dia'])\n",
    "#df2['Formato_Dia']=df2.apply(lambda x: x['Denominación_Dia'][len(x['Denominación_Dia'])-6:])\n",
    "df1= pd.DataFrame(mi_lista_valorada, columns =['Producto','Precio_Mercadona'])\n",
    "\n",
    "df2['Precio_Mercadona'] =df1['Precio_Mercadona']\n",
    "\n",
    "df2['Precio_Mercadona'] = df2['Precio_Mercadona'].replace(\",\",\".\", regex = True).astype(float)\n",
    "df2['Precio_Dia'] =df2['Precio_Dia'].replace(\",\",\".\", regex = True).astype(float)\n",
    "\n",
    "\n"
   ]
  },
  {
   "cell_type": "code",
   "execution_count": 14,
   "id": "4bcbd520-8b12-4d21-9cba-b376b5a093b8",
   "metadata": {
    "tags": []
   },
   "outputs": [],
   "source": [
    "#Selecciona donde comprar\n",
    "df2['Donde_comprar']=df2.apply(lambda x: 'Mercadona' if x.Precio_Dia > x.Precio_Mercadona else 'Dia' ,axis=1)"
   ]
  },
  {
   "cell_type": "code",
   "execution_count": 15,
   "id": "63913c41-f2a4-42f9-8184-195c5ca6d0ed",
   "metadata": {},
   "outputs": [],
   "source": [
    "# Añadir clasificación\n",
    "df2['Tipo_Clasificacion'] = df2.apply(lambda x: clasificador(x[x.index[3]]),axis =1)\n"
   ]
  },
  {
   "cell_type": "code",
   "execution_count": 16,
   "id": "f9425c66-2137-481c-9817-579d7a57962e",
   "metadata": {},
   "outputs": [],
   "source": [
    "fecha = str(datetime.datetime.now())\n",
    "fecha2 =fecha.split()[0].replace('-','')\n",
    "archivo_con_fecha = f\"{fecha2}_compra.csv\"\n",
    "# Crea CSV\n",
    "df2.to_csv(archivo_con_fecha, index = False)\n"
   ]
  },
  {
   "cell_type": "code",
   "execution_count": 17,
   "id": "b9fea721-674e-452a-96a8-4b9315b684b7",
   "metadata": {},
   "outputs": [
    {
     "data": {
      "text/html": [
       "<div>\n",
       "<style scoped>\n",
       "    .dataframe tbody tr th:only-of-type {\n",
       "        vertical-align: middle;\n",
       "    }\n",
       "\n",
       "    .dataframe tbody tr th {\n",
       "        vertical-align: top;\n",
       "    }\n",
       "\n",
       "    .dataframe thead th {\n",
       "        text-align: right;\n",
       "    }\n",
       "</style>\n",
       "<table border=\"1\" class=\"dataframe\">\n",
       "  <thead>\n",
       "    <tr style=\"text-align: right;\">\n",
       "      <th></th>\n",
       "      <th>Producto</th>\n",
       "      <th>Precio_Dia</th>\n",
       "      <th>Precio_Mercadona</th>\n",
       "      <th>Donde_comprar</th>\n",
       "      <th>Tipo_Clasificacion</th>\n",
       "    </tr>\n",
       "  </thead>\n",
       "  <tbody>\n",
       "    <tr>\n",
       "      <th>0</th>\n",
       "      <td>HUEVO GALLINA CAMPERA</td>\n",
       "      <td>3.19</td>\n",
       "      <td>2.40</td>\n",
       "      <td>Mercadona</td>\n",
       "      <td>Supermercado</td>\n",
       "    </tr>\n",
       "    <tr>\n",
       "      <th>1</th>\n",
       "      <td>CALABAZA EN TROZOS</td>\n",
       "      <td>1.75</td>\n",
       "      <td>1.87</td>\n",
       "      <td>Dia</td>\n",
       "      <td>Supermercado</td>\n",
       "    </tr>\n",
       "    <tr>\n",
       "      <th>2</th>\n",
       "      <td>KEFIR</td>\n",
       "      <td>1.79</td>\n",
       "      <td>1.25</td>\n",
       "      <td>Mercadona</td>\n",
       "      <td>Supermercado</td>\n",
       "    </tr>\n",
       "    <tr>\n",
       "      <th>3</th>\n",
       "      <td>ESPARRAGO VERDE</td>\n",
       "      <td>2.15</td>\n",
       "      <td>2.05</td>\n",
       "      <td>Mercadona</td>\n",
       "      <td>Supermercado</td>\n",
       "    </tr>\n",
       "    <tr>\n",
       "      <th>4</th>\n",
       "      <td>UVA BLANCA SIN SEMILLA</td>\n",
       "      <td>2.49</td>\n",
       "      <td>2.25</td>\n",
       "      <td>Mercadona</td>\n",
       "      <td>Supermercado</td>\n",
       "    </tr>\n",
       "  </tbody>\n",
       "</table>\n",
       "</div>"
      ],
      "text/plain": [
       "                 Producto  Precio_Dia  Precio_Mercadona Donde_comprar  \\\n",
       "0   HUEVO GALLINA CAMPERA        3.19              2.40     Mercadona   \n",
       "2                   KEFIR        1.79              1.25     Mercadona   \n",
       "3         ESPARRAGO VERDE        2.15              2.05     Mercadona   \n",
       "4  UVA BLANCA SIN SEMILLA        2.49              2.25     Mercadona   \n",
       "\n",
       "  Tipo_Clasificacion  \n",
       "0       Supermercado  \n",
       "1       Supermercado  \n",
       "2       Supermercado  \n",
       "3       Supermercado  \n",
       "4       Supermercado  "
      ]
     },
     "execution_count": 17,
     "metadata": {},
     "output_type": "execute_result"
    }
   ],
   "source": [
    "df2\n"
   ]
  },
  {
   "cell_type": "code",
   "execution_count": null,
   "id": "88d8f04d-ab7c-4297-8a26-2c9647154363",
   "metadata": {},
   "outputs": [],
   "source": []
  }
 ],
 "metadata": {
  "kernelspec": {
   "display_name": "Python 3 (ipykernel)",
   "language": "python",
   "name": "python3"
  },
  "language_info": {
   "codemirror_mode": {
    "name": "ipython",
    "version": 3
   },
   "file_extension": ".py",
   "mimetype": "text/x-python",
   "name": "python",
   "nbconvert_exporter": "python",
   "pygments_lexer": "ipython3",
   "version": "3.9.7"
  }
 },
 "nbformat": 4,
 "nbformat_minor": 5
}
