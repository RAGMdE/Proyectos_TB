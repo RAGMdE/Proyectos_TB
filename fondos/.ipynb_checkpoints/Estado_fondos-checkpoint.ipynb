{
 "cells": [
  {
   "cell_type": "markdown",
   "id": "0956f340-2fd5-481b-b23f-7329f17584ca",
   "metadata": {},
   "source": [
    "Este desarrollo pretende buscar los precios de unos fondos de iversion dados, calcular el valor en euros en funcion de las participaciones.\n",
    "\n",
    "Para ello se creua lista con productos. Se ha escogido la pagina par buscar los valores\n",
    "\n",
    "\n",
    "\n",
    "EL proceso de busqueda consiste en entrar en la pagina web, saltarse la cookies e ir buscando cada producto de la lista, inicalizando previamente el campo de la busqueda de la pagina web.\n",
    "\n",
    "Se obtiene una lista valorada por cada fondo en función d elas participaciones, fundiendose en una sola donde se compara precios y se recomeinda el supermercado donde realziar la compra.\n",
    "\n",
    "Al final produce un fichero csv con la decisión de donde comprar cada producto en función del precio más barato.\n",
    "Tambien se obtiene la descripcion y formato de un producto por cada supermercado.\n"
   ]
  },
  {
   "cell_type": "raw",
   "id": "8ce439bd",
   "metadata": {},
   "source": []
  },
  {
   "cell_type": "code",
   "execution_count": 1,
   "id": "ac4c39cf",
   "metadata": {},
   "outputs": [],
   "source": [
    "#!pip install selenium"
   ]
  },
  {
   "cell_type": "code",
   "execution_count": 2,
   "id": "5ab0d5cf",
   "metadata": {
    "scrolled": true
   },
   "outputs": [],
   "source": [
    "#!pip install fake-useragent"
   ]
  },
  {
   "cell_type": "code",
   "execution_count": 3,
   "id": "e29a3c01-f808-402d-a64c-aa0f7c19efb2",
   "metadata": {},
   "outputs": [],
   "source": [
    "# !pip install datetime"
   ]
  },
  {
   "cell_type": "code",
   "execution_count": 4,
   "id": "23cce9a0-203a-460c-ba88-e4a7895c936d",
   "metadata": {},
   "outputs": [],
   "source": [
    "# !pip install webdriver-manager\n",
    "from selenium import webdriver\n",
    "from selenium.webdriver.chrome.service import Service\n",
    "from webdriver_manager.chrome import ChromeDriverManager\n",
    "from selenium.webdriver.common.by import By"
   ]
  },
  {
   "cell_type": "code",
   "execution_count": 5,
   "id": "511f60f3-2f87-4aa3-adb6-95a7b1bf36b2",
   "metadata": {
    "tags": []
   },
   "outputs": [],
   "source": [
    "# !pip install pymupdf"
   ]
  },
  {
   "cell_type": "code",
   "execution_count": 6,
   "id": "7fb62672-bebd-439a-a6de-1a958830c383",
   "metadata": {
    "tags": []
   },
   "outputs": [],
   "source": [
    "import requests as req\n",
    "import pandas as pd\n",
    "\n",
    "import time\n",
    "import datetime  # manejo temporal\n",
    "\n",
    "from bs4 import BeautifulSoup as bs\n",
    "\n",
    "from webdriver_manager.chrome import ChromeDriverManager\n",
    "from fake_useragent import UserAgent\n",
    "\n",
    "PATH = r'C:\\Users\\ragod\\Desktop\\reposicion\\Proyectos_TB\\Proyectos_TB\\Funciones\\chromedriver.exe'  #'driver/chromedriver'\n",
    "usuario=UserAgent().random\n",
    "\n",
    "\n",
    "from selenium import webdriver  # driver selenium\n",
    "from selenium.webdriver.chrome.options import Options\n",
    "from selenium.webdriver.common.by import By   # para elegir por elemento\n",
    "from selenium.webdriver.support.ui import WebDriverWait # para el time sleep\n",
    "from selenium.webdriver.support import expected_conditions as EC # condiciones esperadas\n",
    "from selenium.webdriver import ActionChains as AC # acciones en cadena\n"
   ]
  },
  {
   "cell_type": "code",
   "execution_count": 7,
   "id": "2af2600b-eb1d-4618-9cc3-b1247b859749",
   "metadata": {
    "tags": []
   },
   "outputs": [
    {
     "name": "stderr",
     "output_type": "stream",
     "text": [
      "C:\\Users\\ragod\\AppData\\Local\\Temp/ipykernel_3084/941672663.py:2: DeprecationWarning: executable_path has been deprecated, please pass in a Service object\n",
      "  driver=webdriver.Chrome(PATH)\n"
     ]
    }
   ],
   "source": [
    "url='https://www.morningstar.es/es/'\n",
    "driver=webdriver.Chrome(PATH) \n",
    "driver.get(url)\n",
    "\n",
    "time.sleep(3)\n"
   ]
  },
  {
   "cell_type": "code",
   "execution_count": 8,
   "id": "1263a567",
   "metadata": {},
   "outputs": [],
   "source": [
    "\n",
    "#Lectura de fondos\n",
    "\n",
    "mis_fondos =pd.read_excel(r'C:\\Users\\ragod\\Desktop\\reposicion\\Proyectos_TB\\Proyectos_TB\\fondos\\fondos.xlsx', sheet_name ='Fondos',header = 0)\n",
    "mis_fondos_l =list (mis_fondos.n_nom_fondo)\n"
   ]
  },
  {
   "cell_type": "code",
   "execution_count": 9,
   "id": "57c7695e",
   "metadata": {
    "tags": []
   },
   "outputs": [],
   "source": [
    "\n",
    "#Busqueda en MorningStar\n",
    "saltar_coockies=driver.find_element(By.XPATH,'//*[@id=\"onetrust-accept-btn-handler\"]')\n",
    "saltar_coockies.click()\n",
    "time.sleep(3)\n",
    "\n",
    "aceptar_cookies=driver.find_element(By.XPATH,'//*[@id=\"btn_individual\"]') # objeto en la web de busqueda\n",
    "aceptar_cookies.click() # Boton busqueda\n",
    "\n",
    "\n",
    "mi_lista_valorada =[]\n",
    "\n",
    "#buscar fondos\n",
    "\n",
    "for n in mis_fondos_l:\n",
    "    buscar=driver.find_element(By.XPATH,'//*[@id=\"quoteSearch\"]').clear()\n",
    "    producto = n\n",
    "    buscar=driver.find_element(By.XPATH,'//*[@id=\"quoteSearch\"]')# objeto en la web de busqueda\n",
    "    buscar.send_keys(producto)  # incrusta la string\n",
    "    time.sleep(3)\n",
    "    buscar=driver.find_element(By.XPATH,'//*[@id=\"GoSearch\"]')\n",
    "    buscar.click()\n",
    "    buscar=driver.find_element(By.XPATH,'//*[@id=\"ctl00_MainContent_fundTable\"]/tbody/tr[2]/td[1]/a')\n",
    "    buscar.click()\n",
    "\n",
    "    precio= (driver.find_element(By.XPATH, '//*[@id=\"overviewQuickstatsDiv\"]/table/tbody/tr[2]/td[3]').text).split()\n",
    "    fecha =driver.find_element(By.XPATH, '//*[@id=\"overviewQuickstatsDiv\"]/table/tbody/tr[2]/td[1]').text\n",
    "    fecha=fecha[3:]\n",
    "    # Crear lista valorada \n",
    "    mi_lista_valorada.append([precio[0],precio[1],fecha])\n",
    "\n",
    "                             \n",
    "\n",
    "\n"
   ]
  },
  {
   "cell_type": "code",
   "execution_count": 10,
   "id": "509fcaf3",
   "metadata": {},
   "outputs": [],
   "source": [
    "df = pd.DataFrame(mi_lista_valorada, columns = ['moneda','valor','fecha'])\n",
    "df_final = pd.concat([mis_fondos,df],axis=1)\n",
    "df_final['valor'] =df_final['valor'].replace(\",\",\".\", regex = True).astype(float)\n",
    "df_final['importe']=df_final.valor*df_final.num_participaciones\n"
   ]
  },
  {
   "cell_type": "code",
   "execution_count": null,
   "id": "4ffd50b4",
   "metadata": {},
   "outputs": [],
   "source": []
  },
  {
   "cell_type": "code",
   "execution_count": null,
   "id": "7aa4627f",
   "metadata": {},
   "outputs": [],
   "source": []
  },
  {
   "cell_type": "code",
   "execution_count": 11,
   "id": "88d8f04d-ab7c-4297-8a26-2c9647154363",
   "metadata": {},
   "outputs": [
    {
     "name": "stderr",
     "output_type": "stream",
     "text": [
      "C:\\Users\\ragod\\AppData\\Local\\Temp/ipykernel_3084/275695470.py:2: DeprecationWarning: executable_path has been deprecated, please pass in a Service object\n",
      "  driver=webdriver.Chrome(PATH)\n"
     ]
    }
   ],
   "source": [
    "url='https://www.xe.com/es/currencyconverter/convert/?Amount=1&From=USD&To=EUR'\n",
    "driver=webdriver.Chrome(PATH) \n",
    "driver.get(url)"
   ]
  },
  {
   "cell_type": "code",
   "execution_count": 12,
   "id": "05ddc9a2",
   "metadata": {},
   "outputs": [
    {
     "name": "stdout",
     "output_type": "stream",
     "text": [
      "0,94438872 Euros\n"
     ]
    }
   ],
   "source": [
    "cambio =(driver.find_element(By.XPATH, '//*[@id=\"__next\"]/div[2]/div[2]/section/div[2]/div/main/form/div[2]/div[1]/p[2]').text)\n",
    "print(cambio)"
   ]
  },
  {
   "cell_type": "code",
   "execution_count": 13,
   "id": "b867aea0",
   "metadata": {},
   "outputs": [],
   "source": [
    "t_cambio= cambio.split()[0].replace(',','.')\n"
   ]
  },
  {
   "cell_type": "code",
   "execution_count": 14,
   "id": "8620fa6f",
   "metadata": {},
   "outputs": [],
   "source": [
    "df_final['t_cambio']=df_final.apply(lambda x: 1 if x.moneda =='EUR' else t_cambio,axis=1).astype(float) "
   ]
  },
  {
   "cell_type": "code",
   "execution_count": 15,
   "id": "6c8ed7f8",
   "metadata": {},
   "outputs": [],
   "source": [
    "fecha = str(datetime.datetime.now())\n",
    "fecha2 =fecha.split()[0].replace('-','')\n",
    "archivo_con_fecha = f\"{fecha2}_fondos.csv\"\n",
    "# Crea CSV\n",
    "df_final.to_csv(archivo_con_fecha, index = False)"
   ]
  },
  {
   "cell_type": "code",
   "execution_count": 17,
   "id": "145aaaa2",
   "metadata": {},
   "outputs": [],
   "source": [
    "df_final['importe_euro']=df_final.importe*df_final.t_cambio"
   ]
  },
  {
   "cell_type": "code",
   "execution_count": 18,
   "id": "e603e65c",
   "metadata": {},
   "outputs": [
    {
     "data": {
      "text/html": [
       "<div>\n",
       "<style scoped>\n",
       "    .dataframe tbody tr th:only-of-type {\n",
       "        vertical-align: middle;\n",
       "    }\n",
       "\n",
       "    .dataframe tbody tr th {\n",
       "        vertical-align: top;\n",
       "    }\n",
       "\n",
       "    .dataframe thead th {\n",
       "        text-align: right;\n",
       "    }\n",
       "</style>\n",
       "<table border=\"1\" class=\"dataframe\">\n",
       "  <thead>\n",
       "    <tr style=\"text-align: right;\">\n",
       "      <th></th>\n",
       "      <th>n_nom_fondo</th>\n",
       "      <th>num_participaciones</th>\n",
       "      <th>moneda</th>\n",
       "      <th>valor</th>\n",
       "      <th>fecha</th>\n",
       "      <th>importe</th>\n",
       "      <th>t_cambio</th>\n",
       "      <th>importe_euro</th>\n",
       "    </tr>\n",
       "  </thead>\n",
       "  <tbody>\n",
       "    <tr>\n",
       "      <th>0</th>\n",
       "      <td>BGF Euro Short Duration Bond A2 EUR</td>\n",
       "      <td>22.45</td>\n",
       "      <td>EUR</td>\n",
       "      <td>15.16</td>\n",
       "      <td>18/05/2022</td>\n",
       "      <td>340.3420</td>\n",
       "      <td>1.000000</td>\n",
       "      <td>340.342000</td>\n",
       "    </tr>\n",
       "    <tr>\n",
       "      <th>1</th>\n",
       "      <td>iShares Euro Govt Bd Idx (LU) A2 EUR</td>\n",
       "      <td>8.34</td>\n",
       "      <td>EUR</td>\n",
       "      <td>117.70</td>\n",
       "      <td>18/05/2022</td>\n",
       "      <td>981.6180</td>\n",
       "      <td>1.000000</td>\n",
       "      <td>981.618000</td>\n",
       "    </tr>\n",
       "    <tr>\n",
       "      <th>2</th>\n",
       "      <td>iShares Em Markets Govt Bd Idx (LU) A2 EURH</td>\n",
       "      <td>13.22</td>\n",
       "      <td>EUR</td>\n",
       "      <td>93.87</td>\n",
       "      <td>18/05/2022</td>\n",
       "      <td>1240.9614</td>\n",
       "      <td>1.000000</td>\n",
       "      <td>1240.961400</td>\n",
       "    </tr>\n",
       "    <tr>\n",
       "      <th>3</th>\n",
       "      <td>iShares Europe Equity Index (LU) A2 EUR</td>\n",
       "      <td>11.77</td>\n",
       "      <td>EUR</td>\n",
       "      <td>199.20</td>\n",
       "      <td>18/05/2022</td>\n",
       "      <td>2344.5840</td>\n",
       "      <td>1.000000</td>\n",
       "      <td>2344.584000</td>\n",
       "    </tr>\n",
       "    <tr>\n",
       "      <th>4</th>\n",
       "      <td>iShares Developed Real Estate Index Fund (IE) ...</td>\n",
       "      <td>31.32</td>\n",
       "      <td>EUR</td>\n",
       "      <td>18.87</td>\n",
       "      <td>17/05/2022</td>\n",
       "      <td>591.0084</td>\n",
       "      <td>1.000000</td>\n",
       "      <td>591.008400</td>\n",
       "    </tr>\n",
       "    <tr>\n",
       "      <th>5</th>\n",
       "      <td>iShares North America Eq Index (LU) A2 USD</td>\n",
       "      <td>7.41</td>\n",
       "      <td>USD</td>\n",
       "      <td>292.60</td>\n",
       "      <td>18/05/2022</td>\n",
       "      <td>2168.1660</td>\n",
       "      <td>0.944389</td>\n",
       "      <td>2047.591513</td>\n",
       "    </tr>\n",
       "    <tr>\n",
       "      <th>6</th>\n",
       "      <td>iShares Japan Equity Index (LU) A2 USD</td>\n",
       "      <td>6.22</td>\n",
       "      <td>USD</td>\n",
       "      <td>171.55</td>\n",
       "      <td>18/05/2022</td>\n",
       "      <td>1067.0410</td>\n",
       "      <td>0.944389</td>\n",
       "      <td>1007.701484</td>\n",
       "    </tr>\n",
       "    <tr>\n",
       "      <th>7</th>\n",
       "      <td>iShares Emerging Markets Eq Idx (LU) A2 USD</td>\n",
       "      <td>9.77</td>\n",
       "      <td>USD</td>\n",
       "      <td>125.80</td>\n",
       "      <td>18/05/2022</td>\n",
       "      <td>1229.0660</td>\n",
       "      <td>0.944389</td>\n",
       "      <td>1160.716067</td>\n",
       "    </tr>\n",
       "  </tbody>\n",
       "</table>\n",
       "</div>"
      ],
      "text/plain": [
       "                                         n_nom_fondo  num_participaciones  \\\n",
       "0                BGF Euro Short Duration Bond A2 EUR                22.45   \n",
       "1               iShares Euro Govt Bd Idx (LU) A2 EUR                 8.34   \n",
       "2        iShares Em Markets Govt Bd Idx (LU) A2 EURH                13.22   \n",
       "3           iShares Europe Equity Index (LU) A2 EUR                 11.77   \n",
       "4  iShares Developed Real Estate Index Fund (IE) ...                31.32   \n",
       "5         iShares North America Eq Index (LU) A2 USD                 7.41   \n",
       "6             iShares Japan Equity Index (LU) A2 USD                 6.22   \n",
       "7        iShares Emerging Markets Eq Idx (LU) A2 USD                 9.77   \n",
       "\n",
       "  moneda   valor       fecha    importe  t_cambio  importe_euro  \n",
       "0    EUR   15.16  18/05/2022   340.3420  1.000000    340.342000  \n",
       "1    EUR  117.70  18/05/2022   981.6180  1.000000    981.618000  \n",
       "2    EUR   93.87  18/05/2022  1240.9614  1.000000   1240.961400  \n",
       "3    EUR  199.20  18/05/2022  2344.5840  1.000000   2344.584000  \n",
       "4    EUR   18.87  17/05/2022   591.0084  1.000000    591.008400  \n",
       "5    USD  292.60  18/05/2022  2168.1660  0.944389   2047.591513  \n",
       "6    USD  171.55  18/05/2022  1067.0410  0.944389   1007.701484  \n",
       "7    USD  125.80  18/05/2022  1229.0660  0.944389   1160.716067  "
      ]
     },
     "execution_count": 18,
     "metadata": {},
     "output_type": "execute_result"
    }
   ],
   "source": [
    "df_final"
   ]
  },
  {
   "cell_type": "code",
   "execution_count": null,
   "id": "f0224e76",
   "metadata": {},
   "outputs": [],
   "source": []
  }
 ],
 "metadata": {
  "kernelspec": {
   "display_name": "Python 3 (ipykernel)",
   "language": "python",
   "name": "python3"
  },
  "language_info": {
   "codemirror_mode": {
    "name": "ipython",
    "version": 3
   },
   "file_extension": ".py",
   "mimetype": "text/x-python",
   "name": "python",
   "nbconvert_exporter": "python",
   "pygments_lexer": "ipython3",
   "version": "3.9.7"
  }
 },
 "nbformat": 4,
 "nbformat_minor": 5
}
