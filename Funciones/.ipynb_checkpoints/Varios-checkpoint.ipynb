{
 "cells": [
  {
   "cell_type": "markdown",
   "id": "60e7e197-029a-4264-a9e2-506f795b07be",
   "metadata": {},
   "source": [
    "Esta funcion pretende insertar la fecha a un nombre de archivo.\n",
    "\n",
    "https://es.stackoverflow.com/questions/324862/agregar-fecha-actual-en-el-nombre-de-un-archivo-en-python"
   ]
  },
  {
   "cell_type": "code",
   "execution_count": null,
   "id": "5c97d7e6-58f9-4ac5-a25d-799ae62b278b",
   "metadata": {
    "tags": []
   },
   "outputs": [],
   "source": [
    "from pathlib import Path  \n",
    "import shutil\n",
    "import datetime\n",
    "\n",
    "# 1: Creas un Path de la ruta antigua\n",
    "desde = Path(\"/Users/ecastrop/Downloads/planrecursos_uemp.xls\")\n",
    "# 2: Consigues el nombre del archivo, la fecha, y los juntas\n",
    "archivo = desde.name\n",
    "fecha = str(datetime.datetime.now())\n",
    "archivo_con_fecha = f\"{fecha}_{archivo}\"\n",
    "# 3: Creas un Path de la ruta nueva\n",
    "hasta = Path(\"/Users/ecastrop/Desktop/Reporte people+\").joinpath(archivo_con_fecha)\n",
    "# 4: Y a moverlos\n",
    "shutil.move(desde.resolve(), hasta.resolve())"
   ]
  },
  {
   "cell_type": "markdown",
   "id": "f69de9de-eaab-4c9e-a43e-c68e43fa01c6",
   "metadata": {},
   "source": [
    "Esta funcion "
   ]
  }
 ],
 "metadata": {
  "kernelspec": {
   "display_name": "Python 3",
   "language": "python",
   "name": "python3"
  },
  "language_info": {
   "codemirror_mode": {
    "name": "ipython",
    "version": 3
   },
   "file_extension": ".py",
   "mimetype": "text/x-python",
   "name": "python",
   "nbconvert_exporter": "python",
   "pygments_lexer": "ipython3",
   "version": "3.8.8"
  }
 },
 "nbformat": 4,
 "nbformat_minor": 5
}
