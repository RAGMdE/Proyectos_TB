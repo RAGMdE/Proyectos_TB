{
 "cells": [
  {
   "cell_type": "markdown",
   "id": "c0eb5010",
   "metadata": {},
   "source": [
    "### Exercise 1.\n",
    "Write a function (spin_words) that takes in a string of one or more words, and returns the same string, but with all five or more letter words reversed (like the name of this kata).\n",
    "\n",
    "- Strings passed in will consist of only letters and spaces.\n",
    "- Spaces will be included only when more than one word is present.\n",
    "\n",
    "#### Example\n",
    "```\n",
    "spin_words(\"Hey fellow warriors\") => \"Hey wollef sroirraw\" \n",
    "spin_words(\"This is a test\") => \"This is a test\" \n",
    "spin_words(\"This is another test\") => \"This is rehtona test\"\n",
    "```"
   ]
  },
  {
   "cell_type": "code",
   "execution_count": 84,
   "id": "4b0e9c57-9829-4b65-80eb-a18c1ae21db5",
   "metadata": {},
   "outputs": [],
   "source": [
    "\"\"\"\n",
    "spin_words function\n",
    "\n",
    "This function takes in a string of one or more words, and returns the same string, but with all five or more letter words reversed (like the name of this kata).\n",
    "\n",
    "- Strings passed in will consist of only letters and spaces.\n",
    "- Spaces will be included only when more than one word is present\n",
    "\n",
    "The entry is a string (string_entry) and the output is other string (string_output) \n",
    "\n",
    "the process is:\n",
    "Convert the entry in a list: list_entry\n",
    "Create a check string wilth alphabet letters and space : admitted_values\n",
    "Chek the characters:letter or space. Run list_entry checking each character(string_character) in addmited_values\n",
    "When a no admitted character is found return \"There is an no admitted characters. Try again\"\n",
    "Split the list_entry in words using the spaces in list_entry2\n",
    "The string_output is bilt joining the words of list_entry2 \n",
    "Count the number of letters(long_word) of each word, if equal or higher than 5 the reverse function is apllied\n",
    "Add space + world to the string_output\n",
    "return sring_output\n",
    "\n",
    "\"\"\"\n",
    "# Def fucntion and varianles\n",
    "def spin_words(string_entry):\n",
    "    \n",
    "# input data\n",
    "    import re\n",
    "    list_entry = list(string_entry)\n",
    "    string_output  = \"\"\n",
    "\n",
    "# data validation: only letters and spaces\n",
    "    x = re.findall(\"[^abcdefghijklmnopqrstuvwxyz ]\", string_entry.lower())\n",
    "    if x:\n",
    "      string_output = \"There is an no admitted character. Try again\"\n",
    "        \n",
    "# find words with five or more letters and reverse them\n",
    "    if string_output == \"\":   \n",
    "        list_entry2 = string_entry.split(\" \")\n",
    "        print(len(list_entry2))\n",
    "        for n in range(0, len(list_entry2)):\n",
    "            long_word= len(list_entry2[n])\n",
    "            word = str(list_entry2[n])\n",
    "            if long_word >=5:\n",
    "                word = word[::-1]\n",
    "                \n",
    "            if n == (len(list_entry2)-1):\n",
    "                string_output = string_output + word\n",
    "            else:\n",
    "                string_output = string_output + word + \" \"       \n",
    "    \n",
    "# Return\n",
    "    return string_output\n"
   ]
  },
  {
   "cell_type": "code",
   "execution_count": 87,
   "id": "b37b6a8e-1a30-42b7-a7cd-57895e1b4069",
   "metadata": {},
   "outputs": [
    {
     "data": {
      "text/plain": [
       "'There is an no admitted character. Try again'"
      ]
     },
     "execution_count": 87,
     "metadata": {},
     "output_type": "execute_result"
    }
   ],
   "source": [
    "spin_words( \"erase una vez un ? barquito pequeito?\")\n"
   ]
  },
  {
   "cell_type": "code",
   "execution_count": null,
   "id": "1bbd50bf-ed87-4176-ad49-77df54ada381",
   "metadata": {},
   "outputs": [],
   "source": [
    "\"\"\"\n",
    "admitted_values =\"abcdefghijklmnopqrstuvwxyz \"\n",
    "    for n in range(0, len(list_entry)):\n",
    "        string_character = list_entry[n]\n",
    "        if string_character not in admitted_values:\n",
    "            string_output = \"There is an no admitted character. Try again\"\n",
    "\n",
    "\"\"\"    "
   ]
  },
  {
   "cell_type": "code",
   "execution_count": null,
   "id": "a5ec96c7-c94b-4941-b20f-d88f9e443f9a",
   "metadata": {},
   "outputs": [],
   "source": []
  },
  {
   "cell_type": "markdown",
   "id": "87304385",
   "metadata": {},
   "source": [
    "### Exercise 2.\n",
    "Some numbers have funny properties. For example:\n",
    "```\n",
    "89 --> 8¹ + 9² = 89 * 1\n",
    "\n",
    "695 --> 6² + 9³ + 5⁴= 1390 = 695 * 2\n",
    "\n",
    "46288 --> 4³ + 6⁴+ 2⁵ + 8⁶ + 8⁷ = 2360688 = 46288 * 51\n",
    "```\n",
    "Given a positive integer n written as abcd... (a, b, c, d... being digits) and a positive integer p\n",
    "\n",
    "we want to find a positive integer k, if it exists, such as the sum of the digits of n taken to the successive powers of p is equal to k * n.\n",
    "In other words:\n",
    "\n",
    "Is there an integer k such as : (a ^ p + b ^ (p+1) + c ^(p+2) + d ^ (p+3) + ...) = n * k\n",
    "\n",
    "If it is the case we will return k, if not return -1.\n",
    "\n",
    "**Note**: n and p will always be given as strictly positive integers.\n",
    "#### Example.\n",
    "```\n",
    "dig_pow(89, 1) should return 1 since 8¹ + 9² = 89 = 89 * 1\n",
    "dig_pow(92, 1) shobuld return -1 since there is no k such as 9¹ + 2² equals 92 * k\n",
    "dig_pow(695, 2) should return 2 since 6² + 9³ + 5⁴= 1390 = 695 * 2\n",
    "dig_pow(46288, 3) should return 51 since 4³ + 6⁴+ 2⁵ + 8⁶ + 8⁷ = 2360688 = 46288 * 51\n",
    "```"
   ]
  },
  {
   "cell_type": "code",
   "execution_count": null,
   "id": "7504a8f7-b014-4213-927e-3ab9df895a6b",
   "metadata": {},
   "outputs": [],
   "source": []
  },
  {
   "cell_type": "code",
   "execution_count": 44,
   "id": "9c92ba10-124e-4d64-bd68-407444043813",
   "metadata": {},
   "outputs": [],
   "source": [
    "\"\"\"\n",
    "Given a positive integer n written as abcd... (a, b, c, d... being digits) and a positive integer p, finding a positive integer k, if it exists, such as the sum of the digits of n taken to the successive powers of p is equal to k * n.\n",
    "In other words:\n",
    "\n",
    "Is there an integer k such as : (a ^ p + b ^ (p+1) + c ^(p+2) + d ^ (p+3) + ...) = n * k\n",
    "\n",
    "If it is the case we will return k, if not return -1.\n",
    "n, p integers n:number and p:parameter\n",
    "Output k as integer, if k doesn´t exist takes -1.\n",
    "\n",
    "\n",
    "\n",
    "**Note**: n and p will always be given as strictly positive integers.\n",
    "\"\"\"\n",
    "# Def fucntion and varianles\n",
    "def mifuncion(a,b):\n",
    "    n = a\n",
    "    p = b\n",
    "    sumatorio = 0\n",
    "    k = 0\n",
    "# data validation: p and n are integers\n",
    "# Calculate power sumatory\n",
    "    string_numero = str(n)\n",
    "    lista_numero = list(string_numero)\n",
    "    print(lista_numero)\n",
    "    for x in range(0,len(lista_numero)):\n",
    "        print(x, x+p)\n",
    "        sumatorio = sumatorio + int(lista_numero[x])**(p + x)\n",
    "        if sumatorio % n == 0:\n",
    "            k = sumatorio/n\n",
    "        else:\n",
    "            k = -1\n",
    "# sumatorio = sumatorio +x^(p+indice)\n",
    "    return int(k)"
   ]
  },
  {
   "cell_type": "code",
   "execution_count": 45,
   "id": "6c5e9f7c-5337-4192-b30b-1474a05d8f90",
   "metadata": {},
   "outputs": [
    {
     "name": "stdout",
     "output_type": "stream",
     "text": [
      "['4', '6', '2', '8', '8']\n",
      "0 3\n",
      "1 4\n",
      "2 5\n",
      "3 6\n",
      "4 7\n"
     ]
    },
    {
     "data": {
      "text/plain": [
       "51"
      ]
     },
     "execution_count": 45,
     "metadata": {},
     "output_type": "execute_result"
    }
   ],
   "source": [
    "mifuncion(46288,3)"
   ]
  },
  {
   "cell_type": "markdown",
   "id": "7ba95475",
   "metadata": {},
   "source": [
    "### Exercise 3.\n",
    "A pangram is a sentence that contains every single letter of the alphabet at least once. For example, the sentence \"The quick brown fox jumps over the lazy dog\" is a pangram, because it uses the letters A-Z at least once (case is irrelevant).\n",
    "\n",
    "Given a string, detect whether or not it is a pangram. Return True if it is, False if not. Ignore numbers and punctuation.\n"
   ]
  },
  {
   "cell_type": "code",
   "execution_count": 47,
   "id": "edb76393-33ec-4549-a046-f4bdae549b18",
   "metadata": {},
   "outputs": [
    {
     "name": "stdout",
     "output_type": "stream",
     "text": [
      "False\n"
     ]
    }
   ],
   "source": [
    "\"\"\"\n",
    "pangram function\n",
    "Given a string, detect whether or not it is a pangram. Return True if it is, False if not. Ignore numbers and punctuation.\n",
    "\"\"\"\n",
    "# Def fucntion and varianles\n",
    "# input data\n",
    "#string_entry = \"Tengo miedo a perder la maravilla de tus ojos de estatua y el acento que de noche me pone en la mejilla la solitaria rosa de tu aliento Tengo pena de ser en esta orilla tronco sin ramas\"\n",
    "\n",
    "string_entry=\"\"\n",
    "list_entry =list(string_entry)\n",
    "string_alphabet =\"abcdefghijklmnopqrstuvwxyz\"\n",
    "set_alphabet = set(string_alphabet)\n",
    "\n",
    "# data validation\n",
    "#list_entry_ordered = sorted(set(list(string_entry)))\n",
    "if set_alphabet.issubset (list_entry):\n",
    "    print (True)\n",
    "else:\n",
    "    print(False)\n",
    "\n",
    "# Convert the string in a list\n",
    "\n",
    "# Check if all alphabet letters are in.\n",
    "# Return"
   ]
  },
  {
   "cell_type": "code",
   "execution_count": null,
   "id": "c4f8d91e-3df3-4246-ba4a-b0bd1bba405b",
   "metadata": {},
   "outputs": [],
   "source": []
  },
  {
   "cell_type": "markdown",
   "id": "9fb555aa",
   "metadata": {},
   "source": [
    "### Exercise 4.\n",
    "The marketing team is spending way too much time typing in hashtags.\n",
    "Let's help them with our own Hashtag Generator!\n",
    "\n",
    "Here's the deal:\n",
    "\n",
    "1. It must start with a hashtag (#).\n",
    "2. All words must have their first letter capitalized.\n",
    "3. If the final result is longer than 140 chars it must return false.\n",
    "4. If the input or the result is an empty string it must return false.\n",
    "\n",
    "#### Example\n",
    "```\n",
    "\" Hello there thanks for trying my Kata\"  =>  \"#HelloThereThanksForTryingMyKata\"\n",
    "\"    Hello     World   \"                  =>  \"#HelloWorld\"\n",
    "\"\"                                        =>  false\n",
    "```"
   ]
  },
  {
   "cell_type": "code",
   "execution_count": 98,
   "id": "8ece7d77-59d5-4a04-bae1-a8b61dfff5fe",
   "metadata": {},
   "outputs": [
    {
     "name": "stdout",
     "output_type": "stream",
     "text": [
      "#EnLugarDeLaMancha\n"
     ]
    }
   ],
   "source": [
    "\"\"\"\n",
    "considerations: the first letter of the word \"9abac\" is 9\n",
    "\"\"\"\n",
    "# Def fucntion and varianles\n",
    "hashtag_output =\"#\"\n",
    "# input data\n",
    "phrase_entry = \"en lugar de la mancha\"\n",
    "\n",
    "phrase_entry_cap =\"#\" + phrase_entry.title().replace(\" \",\"\")\n",
    "if len(phrase_entry_cap)>140 or (phrase_entry =\"\" phrase_entry_cap =\"\"):\n",
    "    hashtag_outpt = False\n",
    "else:\n",
    "    hashtag_output = phrase_entry_cap\n",
    "print(phrase_entry_cap)\n",
    "# data validation\n",
    "# create the hashtag: # + words with first letter\n",
    "\n",
    "\n",
    "\n",
    "# Check if all alphabet letters are in.\n",
    "# Return"
   ]
  },
  {
   "cell_type": "markdown",
   "id": "40d6b2de",
   "metadata": {},
   "source": [
    "### Exercise 5.\n",
    "ROT13 is a simple letter substitution cipher that replaces a letter with the letter 13 letters after it in the alphabet. ROT13 is an example of the Caesar cipher.\n",
    "\n",
    "Create a function that takes a string and returns the string ciphered with Rot13. If there are numbers or special characters included in the string, they should be returned as they are. Only letters from the latin/english alphabet should be shifted, like in the original Rot13 \"implementation\".\n",
    "\n",
    "Please note that using `encode` is considered cheating."
   ]
  },
  {
   "cell_type": "code",
   "execution_count": 10,
   "id": "d17a6cec-1805-4b06-b96a-4a609cecdf30",
   "metadata": {},
   "outputs": [
    {
     "name": "stdout",
     "output_type": "stream",
     "text": [
      "nop1,qr\n"
     ]
    }
   ],
   "source": [
    "\"\"\"\n",
    "ROT13 is a simple letter substitution cipher that replaces a letter with the letter 13 letters after it in the alphabet. ROT13 is an example of the Caesar cipher.\n",
    "\n",
    "Create a function that takes a string and returns the string ciphered with Rot13. If there are numbers or special characters included in the string, they should be returned as they are.\n",
    "Only letters from the latin/english alphabet should be shifted, like in the original Rot13 \"implementation\".\n",
    "\n",
    "\n",
    "\"\"\"\n",
    "# Def fucntion and varianles\n",
    "# input data\n",
    "import string\n",
    "string_entry = \"abc1,de\"\n",
    "x = 0\n",
    "# data validation\n",
    "# create a list with alphabet letters\n",
    "#list_alphabet_lower = list(string.ascii_lowercase)\n",
    "#list_alphabet_upper = list(string.ascii_uppercase)\n",
    "3initial_index = 0\n",
    "#new_index = (x+13)%26\n",
    "\n",
    "chars = \"AaBbCcDdEeFfGgHhIiJjKkLlMmNnOoPpQqRrSsTtUuVvWwXxYyZz\"\n",
    "trans = chars[26:]+chars[:26]\n",
    "rot_char = lambda c: trans[chars.find(c)] if chars.find(c) > -1 else c\n",
    "# return \n",
    "print(''.join(rot_char(c) for c in string_entry))\n",
    "p\n",
    "\n",
    "\n"
   ]
  },
  {
   "cell_type": "code",
   "execution_count": 11,
   "id": "469d7ab7-e47c-45f8-a8d7-d08354cb25d9",
   "metadata": {},
   "outputs": [
    {
     "name": "stdout",
     "output_type": "stream",
     "text": [
      "AaBbCcDdEeFfGgHhIiJjKkLlMmNnOoPpQqRrSsTtUuVvWwXxYyZz\n"
     ]
    }
   ],
   "source": [
    "print(chars)"
   ]
  },
  {
   "cell_type": "markdown",
   "id": "cba87f20",
   "metadata": {},
   "source": [
    "### Exercise 6.\n",
    "> In computing, a hex dump is a hexadecimal view (on screen or paper) of computer data, from RAM or from a file or storage device. Looking at a hex dump of data is commonly done as a part of debugging, or of reverse engineering. In a hex dump, each byte (8-bits) is represented as a two-digit hexadecimal number. Hex dumps are commonly organized into rows of 8 or 16 bytes, sometimes separated by whitespaces. Some hex dumps have the hexadecimal memory address at the beginning and/or a checksum byte at the end of each line.\n",
    "\n",
    "*(source: https://en.wikipedia.org/wiki/Hex_dump)*\n",
    "\n",
    "Your task is to complete the functions `hexdump` and `dehex`:\n",
    "\n",
    "`hexdump` takes a binary input (a bytes object) and returns a hex dump (as a string) in the following format:\n",
    "\n",
    "- the memory address displayed as an 8-digit hexadecimal number (starting from `00000000`), followed by a colon (`:`) and a space,\n",
    "- 16 bytes displayed as 2-digit hexadecimal numbers, separated by a space,\n",
    "- two spaces,\n",
    "- the ASCII translation of the bytes if the ASCII values are between 32 and 126 (both included), otherwise a full stop (`.`)\n",
    "**Note**: all hexadecimal values (data and addresses) should be presented in lowercase\n",
    "\n",
    "If the last line is shorter than 16 bytes, then replace the byte values with spaces, but trim the trailing spaces from the end of the line.\n",
    "#### Example\n",
    "```\n",
    "00000000: 1d c4 15 25 91 e6 09 59 04 99 15 29 0a 45 21 29  ...%...Y...).E!)\n",
    "00000010: 26 8e 74 a0 1a be 75 68 06 dd 70 33 a4 77 7a 5d  &.t...uh..p3.wz]\n",
    "00000020: b1 ba 22 a7 cf cc f7 ef b1 e3 13 ed f1 89 ad ad  ..\".............\n",
    "00000030: b8 2a 52 32 65 79 43 99 6f c8 d3 8e b2 5f 50 c9  .*R2eyC.o...._P.\n",
    "00000040: 08 4a 12 25 79 c2 dd 31 6b b8 77 74 4b 68 4b d4  .J.%y..1k.wtKhK.\n",
    "00000050: db 4e 92 09 d5 4c 9f 0b fd a9 d1                 .N...L.....\n",
    "```\n",
    "`dehex` takes a string input, in the same format as the output described above, and returns binary output.\n",
    "\n",
    "**Note**: all inputs will be valid, so validating it is not necessary."
   ]
  },
  {
   "cell_type": "code",
   "execution_count": 5,
   "id": "46ace4f1-8b56-4fb4-9267-d31de7a9abcd",
   "metadata": {},
   "outputs": [
    {
     "ename": "ModuleNotFoundError",
     "evalue": "No module named 'hexdump'",
     "output_type": "error",
     "traceback": [
      "\u001b[1;31m---------------------------------------------------------------------------\u001b[0m",
      "\u001b[1;31mModuleNotFoundError\u001b[0m                       Traceback (most recent call last)",
      "\u001b[1;32m<ipython-input-5-217f9ff2af27>\u001b[0m in \u001b[0;36m<module>\u001b[1;34m\u001b[0m\n\u001b[0;32m      3\u001b[0m \u001b[0mdata\u001b[0m \u001b[1;33m=\u001b[0m \u001b[0mbytes\u001b[0m\u001b[1;33m(\u001b[0m\u001b[0mrange\u001b[0m\u001b[1;33m(\u001b[0m\u001b[1;36m256\u001b[0m\u001b[1;33m)\u001b[0m\u001b[1;33m)\u001b[0m\u001b[1;33m\u001b[0m\u001b[1;33m\u001b[0m\u001b[0m\n\u001b[0;32m      4\u001b[0m \u001b[1;33m\u001b[0m\u001b[0m\n\u001b[1;32m----> 5\u001b[1;33m \u001b[1;32mfrom\u001b[0m \u001b[0mhexdump\u001b[0m \u001b[1;32mimport\u001b[0m \u001b[0mhexdump\u001b[0m\u001b[1;33m\u001b[0m\u001b[1;33m\u001b[0m\u001b[0m\n\u001b[0m\u001b[0;32m      6\u001b[0m \u001b[0mprint\u001b[0m\u001b[1;33m(\u001b[0m\u001b[0mhexdump\u001b[0m\u001b[1;33m(\u001b[0m\u001b[0mdata\u001b[0m\u001b[1;33m)\u001b[0m\u001b[1;33m)\u001b[0m\u001b[1;33m\u001b[0m\u001b[1;33m\u001b[0m\u001b[0m\n\u001b[0;32m      7\u001b[0m \u001b[1;33m\u001b[0m\u001b[0m\n",
      "\u001b[1;31mModuleNotFoundError\u001b[0m: No module named 'hexdump'"
     ]
    }
   ],
   "source": [
    "# Python 3\n",
    "# Python 3\n",
    "data = bytes(range(256))\n",
    "\n",
    "from hexdump import hexdump\n",
    "print(hexdump(data))\n",
    "\n",
    "data = b\"hello world\"\n",
    "print(hexdump(data))"
   ]
  },
  {
   "cell_type": "code",
   "execution_count": null,
   "id": "ce5b85db-0e06-4c3d-ad20-62a0edc11fda",
   "metadata": {},
   "outputs": [],
   "source": []
  }
 ],
 "metadata": {
  "kernelspec": {
   "display_name": "Python 3",
   "language": "python",
   "name": "python3"
  },
  "language_info": {
   "codemirror_mode": {
    "name": "ipython",
    "version": 3
   },
   "file_extension": ".py",
   "mimetype": "text/x-python",
   "name": "python",
   "nbconvert_exporter": "python",
   "pygments_lexer": "ipython3",
   "version": "3.8.8"
  }
 },
 "nbformat": 4,
 "nbformat_minor": 5
}
