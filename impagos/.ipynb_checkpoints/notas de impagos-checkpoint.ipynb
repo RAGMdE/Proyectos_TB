{
 "cells": [
  {
   "cell_type": "markdown",
   "id": "886f3407-d711-463d-9fc1-cc739ad5a254",
   "metadata": {},
   "source": [
    "Standarizacion de variables.\n",
    "\n",
    "Al considerar que las tres principales variables payment, amount y trans_balance tienen u rango de valores muy amplio, decidi standarizar el paquete de entrenamiento (X_sm) y test(X_test), obteniendo el X_train_prep y X_test_prep.\n",
    "\n",
    "El conjunto de prueba es el de (X_train_prep, y_sm)\n",
    "\n",
    "Eleccción del modelo.\n",
    "\n",
    "Al ser una clasificacion supervisada, el criterio que predomina es el de accuracy. Los que mejor aplican este criterio son random forest classifier, Decision Tree Clasiffier, SVC y XBGC. Además hice el log_reg. Obteniendo los sigientes resulltados de en f1 (Modelo, Train_score, test_score).\n",
    "\n",
    "['SVC', [0.9386792452830188, 0.8390243902439024]],\n",
    " ['XGBC', [0.9941037735849056, 0.7853658536585366]],\n",
    " ['KNNC', [0.8702830188679245, 0.6634146341463415]],\n",
    " ['RFC', [1.0, 0.8341463414634146]],\n",
    " ['log_reg', [0.7959905660377359, 0.8]]]\n",
    "\n",
    "El mejor modelo, sin ajustar parametros, obtenido es el SVC, y ademas la diferencia entre el entrenamiento y el test es de 0.1. La metrica f1.\n",
    "\n",
    "HIPERPARAMETROS.\n",
    "\n",
    "Al ajuster hiperparametros consigo mejorar rand_forest, Ahora hago metrica f1.\n",
    "Grid\t          Best score\n",
    "0\trand_forest\t   0.948143\n",
    "3\tsvc\t           0.895286\n",
    "1\txgbc\t       0.816930\n",
    "2\treg_log\t       0.771380\n",
    "Al aplicarlo sobre el test: 0.8341463414634146\n",
    "\n",
    "              precision    recall  f1-score   support\n",
    "\n",
    "           0       0.88      0.94      0.91       182\n",
    "           1       0.00      0.00      0.00        23\n",
    "\n",
    "    accuracy                           0.83       205\n",
    "   macro avg       0.44      0.47      0.45       205\n",
    "weighted avg       0.78      0.83      0.81       205\n",
    "\n",
    "array([[171,  11],\n",
    "       [ 23,   0]], dtype=int64)\n",
    "\n",
    "Curva ROC - AUC= 0.73"
   ]
  }
 ],
 "metadata": {
  "kernelspec": {
   "display_name": "Python 3",
   "language": "python",
   "name": "python3"
  },
  "language_info": {
   "codemirror_mode": {
    "name": "ipython",
    "version": 3
   },
   "file_extension": ".py",
   "mimetype": "text/x-python",
   "name": "python",
   "nbconvert_exporter": "python",
   "pygments_lexer": "ipython3",
   "version": "3.8.8"
  }
 },
 "nbformat": 4,
 "nbformat_minor": 5
}
