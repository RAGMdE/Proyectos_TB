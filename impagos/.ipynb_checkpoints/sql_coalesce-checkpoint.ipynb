{
 "cells": [
  {
   "cell_type": "code",
   "execution_count": 1,
   "id": "60ccdeb8-228c-4272-b59e-4b74c17468cd",
   "metadata": {},
   "outputs": [],
   "source": [
    "import sqlite3\n",
    "import pandas as pd"
   ]
  },
  {
   "cell_type": "code",
   "execution_count": 3,
   "id": "95ad8c24-2226-405b-a9c5-1d40f029056d",
   "metadata": {},
   "outputs": [],
   "source": [
    "legales = pd.DataFrame({'SC':[1,2,3], 'Cantidad':[10,20,30]})\n",
    "piratas = pd.DataFrame({'SC':[1,2,4], 'Cantidad':[5,6,7]})"
   ]
  },
  {
   "cell_type": "code",
   "execution_count": 4,
   "id": "38d220cb-b953-420f-b434-7955f0750c0c",
   "metadata": {},
   "outputs": [],
   "source": [
    "conn = sqlite3.connect('RAF.sqlite')"
   ]
  },
  {
   "cell_type": "code",
   "execution_count": 5,
   "id": "d7962906-02df-44b4-aef7-dca3bb2485af",
   "metadata": {},
   "outputs": [],
   "source": [
    "legales.to_sql('LEGALES',conn, index = False)\n",
    "piratas.to_sql('PIRATAS',conn, index = False)"
   ]
  },
  {
   "cell_type": "code",
   "execution_count": null,
   "id": "9d2a0152-8183-4bb5-8f52-9f2313b9ece0",
   "metadata": {},
   "outputs": [],
   "source": []
  },
  {
   "cell_type": "code",
   "execution_count": 6,
   "id": "78d4399e-34c6-449c-b846-cfa18ec5441a",
   "metadata": {
    "tags": []
   },
   "outputs": [
    {
     "ename": "SyntaxError",
     "evalue": "invalid syntax (<ipython-input-6-acdb2ef98526>, line 2)",
     "output_type": "error",
     "traceback": [
      "\u001b[1;36m  File \u001b[1;32m\"<ipython-input-6-acdb2ef98526>\"\u001b[1;36m, line \u001b[1;32m2\u001b[0m\n\u001b[1;33m    SELECT COALESCE(LEG.SEC,PIR.SC) AS SC,\u001b[0m\n\u001b[1;37m           ^\u001b[0m\n\u001b[1;31mSyntaxError\u001b[0m\u001b[1;31m:\u001b[0m invalid syntax\n"
     ]
    }
   ],
   "source": [
    "%sql\n",
    "SELECT  COALESCE(LEG.SEC,PIR.SC) AS SC,\n",
    "        COALESCE(LEG.CANTIDAD,,0) AS LEGALES,\n",
    "        COALESCE (PIR.CANTIDAD, 0) AS PIRATAS,\n",
    "        COALESCE(PIR.CANTIDAD,0)/(COALESCE(PIR.CANTIDAD,0) + COALESCE(LEG.CANTIDAD,0)) AS RATIO\n",
    "\n",
    "FROM LEGALES LEG\n",
    "FULL JOIN PIRATAS PIR\n",
    "\n",
    "ON LEG.SC = PIR.SC"
   ]
  },
  {
   "cell_type": "code",
   "execution_count": null,
   "id": "21ce6821-c75a-4f56-9cdd-60b2fab1873c",
   "metadata": {},
   "outputs": [],
   "source": []
  },
  {
   "cell_type": "markdown",
   "id": "63b66a53-6e88-4ba8-be4d-1563976537b8",
   "metadata": {
    "tags": []
   },
   "source": [
    "SELECT legales.SC, legales.cantidad, piratas.piratas, piratas.cantidad,ratio = legales.cantidad/(legales.cantidad +piratas.cantidad)\n",
    "\n",
    "FROM legales\n",
    "\n",
    "JOIN piratas\n",
    "\n",
    "ON legales.sc =piratas.sc\n",
    "\n"
   ]
  }
 ],
 "metadata": {
  "kernelspec": {
   "display_name": "Python 3",
   "language": "python",
   "name": "python3"
  },
  "language_info": {
   "codemirror_mode": {
    "name": "ipython",
    "version": 3
   },
   "file_extension": ".py",
   "mimetype": "text/x-python",
   "name": "python",
   "nbconvert_exporter": "python",
   "pygments_lexer": "ipython3",
   "version": "3.8.8"
  }
 },
 "nbformat": 4,
 "nbformat_minor": 5
}
