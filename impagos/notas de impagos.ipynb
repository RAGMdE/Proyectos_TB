{
 "cells": [
  {
   "cell_type": "markdown",
   "id": "886f3407-d711-463d-9fc1-cc739ad5a254",
   "metadata": {},
   "source": [
    "Standarizacion de variables.\n",
    "\n",
    "Al considerar que las tres principales variables payment, amount y trans_balance tienen u rango de valores muy amplio, decidi standarizar el paquete de entrenamiento (X_sm) y test(X_test), obteniendo el X_train_prep y X_test_prep.\n",
    "\n",
    "El conjunto de prueba es el de (X_train_prep, y_sm)\n",
    "\n",
    "Eleccción del modelo.\n",
    "\n",
    "Al ser una clasificacion supervisada, el criterio que predomina es el de accuracy. Los que mejor aplican este irterio son random forest classifier, Decision Tree Clasiffier, SVC y XBGC. Además hice el log_reg. Obteniendo los sigientes resulltados de en accuracy (Modelo, Train_score, test_score). En el notebook se utiliza f1\n",
    "\n",
    "[['DTC', [1.0, 0.7609756097560976]],\n",
    " ['SVC', [0.9386792452830188, 0.8390243902439024]],\n",
    " ['XGBC', [0.9941037735849056, 0.7853658536585366]],\n",
    " ['KNNC', [0.8702830188679245, 0.6634146341463415]],\n",
    " ['RFC', [1.0, 0.8292682926829268]],\n",
    " ['log_reg', [0.7959905660377359, 0.8]]]\n",
    "\n",
    "El mejor modelo, sin ajustar parametros, obtenido es el SVC, y ademas la diferencia entre el entrenamiento y el test es de 0.1. La metrica \"accuraccy\"\n",
    "\n",
    "HIPERPARAMETROS.\n",
    "\n",
    "Al ajuster hiperparametros consio mejorara rand_forest, Ahora hago metrica f1.\n",
    "\tGrid\t      Best score\n",
    "0\trand_forest\t   0.951189\n",
    "3\tsvc\t           0.895286\n",
    "1\txgbc\t       0.879882\n",
    "2\treg_log\t       0.771380\n",
    "Al aplicarlo sobre el test: 0.8878048780487805\n",
    "\n",
    "METRICAS DE DESEMPEÑO\n",
    "              precision    recall  f1-score   support\n",
    "\n",
    "           0       0.89      0.96      0.92       182\n",
    "           1       0.12      0.04      0.06        23\n",
    "\n",
    "    accuracy                           0.86       205\n",
    "   macro avg       0.51      0.50      0.49       205\n",
    "weighted avg       0.80      0.86      0.83       205\n",
    "\n",
    "\n",
    "Curva ROC - AUC= 0.72"
   ]
  }
 ],
 "metadata": {
  "kernelspec": {
   "display_name": "Python 3",
   "language": "python",
   "name": "python3"
  },
  "language_info": {
   "codemirror_mode": {
    "name": "ipython",
    "version": 3
   },
   "file_extension": ".py",
   "mimetype": "text/x-python",
   "name": "python",
   "nbconvert_exporter": "python",
   "pygments_lexer": "ipython3",
   "version": "3.8.8"
  }
 },
 "nbformat": 4,
 "nbformat_minor": 5
}
