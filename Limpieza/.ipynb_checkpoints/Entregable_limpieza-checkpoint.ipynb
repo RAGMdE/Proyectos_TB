{
 "cells": [
  {
   "cell_type": "markdown",
   "id": "6c9d2429-5015-4f75-b4ed-086a8aa72d97",
   "metadata": {},
   "source": [
    "Entregable Limpieza:\n",
    "12:54\n",
    "+ NO se pueden borrar columnas\n",
    "+ Al menos el 25% de filas\n",
    "+ NO puede haber nulos\n",
    "+ Todas las columnas tienen el mismo tipo de dato\n",
    "12:54\n",
    "https://www.kaggle.com/teajay/global-shark-attacks\n"
   ]
  },
  {
   "cell_type": "code",
   "execution_count": 2,
   "id": "261f0317-8448-481a-8656-62204617621c",
   "metadata": {},
   "outputs": [],
   "source": [
    "#Importación entorno\n",
    "import numpy as np\n",
    "import pandas as pd"
   ]
  },
  {
   "cell_type": "code",
   "execution_count": 3,
   "id": "e2af25a8-6ec6-483a-a281-2883af9e6b19",
   "metadata": {},
   "outputs": [],
   "source": [
    "# importacion datos\n",
    "df = pd.read_csv(r'C:\\Users\\ragod\\OneDrive\\Escritorio\\DS\\data\\attacks.csv')"
   ]
  },
  {
   "cell_type": "code",
   "execution_count": null,
   "id": "1f06e206-80f1-4317-a037-0428d871fe82",
   "metadata": {},
   "outputs": [],
   "source": []
  }
 ],
 "metadata": {
  "kernelspec": {
   "display_name": "Python 3",
   "language": "python",
   "name": "python3"
  },
  "language_info": {
   "codemirror_mode": {
    "name": "ipython",
    "version": 3
   },
   "file_extension": ".py",
   "mimetype": "text/x-python",
   "name": "python",
   "nbconvert_exporter": "python",
   "pygments_lexer": "ipython3",
   "version": "3.8.8"
  }
 },
 "nbformat": 4,
 "nbformat_minor": 5
}
