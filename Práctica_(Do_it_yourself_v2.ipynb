{
 "cells": [
  {
   "cell_type": "markdown",
   "metadata": {
    "id": "J0A7rFnAW3Ji"
   },
   "source": [
    "## Clasificación de imágenes con el dataset CIFAR10"
   ]
  },
  {
   "cell_type": "markdown",
   "metadata": {
    "id": "Q7YzXb1QWwP2"
   },
   "source": [
    "![texto alternativo](https://datasmarts.net/es/wp-content/uploads/2019/09/cifar10_plot.png)\n"
   ]
  },
  {
   "cell_type": "markdown",
   "metadata": {},
   "source": [
    "https://www.kaggle.com/code/cedricb/mnist-cnn-grid-search-data-augmentation/notebook"
   ]
  },
  {
   "cell_type": "code",
   "execution_count": 1,
   "metadata": {
    "id": "bP0S4wCroIYg",
    "tags": []
   },
   "outputs": [],
   "source": [
    "from tensorflow.keras.datasets import cifar10\n",
    "import numpy as np"
   ]
  },
  {
   "cell_type": "code",
   "execution_count": 36,
   "metadata": {
    "colab": {
     "base_uri": "https://localhost:8080/",
     "height": 119
    },
    "id": "uwxlyv7PoLvA",
    "outputId": "a5709eea-e386-42a7-f022-985790207fcb"
   },
   "outputs": [
    {
     "name": "stdout",
     "output_type": "stream",
     "text": [
      "x_train shape: (50000, 32, 32, 3)\n",
      "50000 train samples\n",
      "10000 test samples\n",
      "(array([0, 1, 2, 3, 4, 5, 6, 7, 8, 9], dtype=uint8), array([5000, 5000, 5000, 5000, 5000, 5000, 5000, 5000, 5000, 5000],\n",
      "      dtype=int64)) values of each class\n"
     ]
    }
   ],
   "source": [
    "# The data, split between train and test sets:\n",
    "(x_train, y_train), (x_test, y_test) = cifar10.load_data()\n",
    "print('x_train shape:', x_train.shape)\n",
    "print(x_train.shape[0], 'train samples')\n",
    "print(x_test.shape[0], 'test samples')\n",
    "print(np.unique(y_train,return_counts=True),'values of each class')"
   ]
  },
  {
   "cell_type": "code",
   "execution_count": 37,
   "metadata": {
    "id": "efHnRsVuoGNB"
   },
   "outputs": [],
   "source": [
    "x_train = x_train[np.array(y_train<3).ravel()]\n",
    "y_train = y_train[np.array(y_train<3).ravel()]\n",
    "\n",
    "x_test = x_test[np.array(y_test<3).ravel()]\n",
    "y_test = y_test[np.array(y_test<3).ravel()]"
   ]
  },
  {
   "cell_type": "code",
   "execution_count": 38,
   "metadata": {
    "colab": {
     "base_uri": "https://localhost:8080/",
     "height": 85
    },
    "id": "QdF8Ieoaot3C",
    "outputId": "b78d78e2-5b2e-4de6-a13b-bc02706361e0"
   },
   "outputs": [
    {
     "name": "stdout",
     "output_type": "stream",
     "text": [
      "x_train shape: (15000, 32, 32, 3)\n",
      "15000 train samples\n",
      "3000 test samples\n",
      "(array([0, 1, 2], dtype=uint8), array([5000, 5000, 5000], dtype=int64)) values of each class\n"
     ]
    }
   ],
   "source": [
    "print('x_train shape:', x_train.shape)\n",
    "print(x_train.shape[0], 'train samples')\n",
    "print(x_test.shape[0], 'test samples')\n",
    "print(np.unique(y_train,return_counts=True),'values of each class')"
   ]
  },
  {
   "cell_type": "markdown",
   "metadata": {
    "id": "W6Gdih1UZtTf"
   },
   "source": [
    "### Do it yourself: entrena una red neuronal convolucional para clasificar las imágenes"
   ]
  },
  {
   "cell_type": "code",
   "execution_count": 39,
   "metadata": {
    "colab": {
     "base_uri": "https://localhost:8080/",
     "height": 283
    },
    "id": "5EQlM7HxZygH",
    "outputId": "be83d36c-7a84-4b9e-ed6d-e92c15a4731f"
   },
   "outputs": [
    {
     "name": "stdout",
     "output_type": "stream",
     "text": [
      "Digit class: [1]\n"
     ]
    },
    {
     "data": {
      "image/png": "[encoded data removed]",
      "text/plain": [
       "<Figure size 864x432 with 1 Axes>"
      ]
     },
     "metadata": {},
     "output_type": "display_data"
    }
   ],
   "source": [
    "import matplotlib.pyplot as plt\n",
    "\n",
    "plt.imshow(x_train[0], 'gray')\n",
    "\n",
    "print(\"Digit class:\", y_train[0])"
   ]
  },
  {
   "cell_type": "code",
   "execution_count": 40,
   "metadata": {},
   "outputs": [],
   "source": [
    "# Aleatorio\n",
    "from sklearn.utils import shuffle\n",
    "x_train, y_train = shuffle(x_train, y_train, random_state=42)"
   ]
  },
  {
   "cell_type": "code",
   "execution_count": 49,
   "metadata": {
    "tags": []
   },
   "outputs": [],
   "source": [
    "import pandas as pd\n",
    "from sklearn.model_selection import train_test_split\n",
    "\n",
    "X_train, X_val, Y_train, y_val = train_test_split (x_train, y_train, test_size = 0.2)"
   ]
  },
  {
   "cell_type": "code",
   "execution_count": 51,
   "metadata": {},
   "outputs": [
    {
     "data": {
      "text/plain": [
       "(12000, 1)"
      ]
     },
     "execution_count": 51,
     "metadata": {},
     "output_type": "execute_result"
    }
   ],
   "source": [
    "Y_train.shape"
   ]
  },
  {
   "cell_type": "code",
   "execution_count": 27,
   "metadata": {
    "tags": []
   },
   "outputs": [],
   "source": [
    "import numpy as np\n",
    "import pandas as pd\n",
    "\n",
    "from sklearn.metrics import accuracy_score\n",
    "from sklearn.model_selection import train_test_split\n",
    "\n",
    "# keras import\n",
    "from keras.models import Sequential\n",
    "from keras.layers import Dense, Dropout, Conv2D, MaxPooling2D, AveragePooling2D, Flatten\n",
    "from tensorflow.keras.utils import to_categorical\n",
    "from keras.callbacks import EarlyStopping\n",
    "\n",
    "# hyperparameter optimization\n",
    "from sklearn.model_selection import GridSearchCV\n",
    "from keras.wrappers.scikit_learn import KerasClassifier\n",
    "\n",
    "# data augmentation\n",
    "from keras.preprocessing.image import ImageDataGenerator\n",
    "\n",
    "# visualisation\n",
    "import matplotlib.pyplot as plt\n",
    "import matplotlib.image as mpimg\n",
    "import seaborn as sns\n",
    "#set figure size\n",
    "plt.rcParams['figure.figsize'] = 12, 6\n",
    "sns.set_style('white')\n",
    "\n",
    "# others\n",
    "from random import randrange\n",
    "from time import time\n",
    "\n",
    "\n",
    "n_epochs = 30 # 30 \n",
    "n_epochs_cv = 10 # 10  # reduce number of epochs for cross validation for performance reason\n",
    "\n",
    "n_cv = 3\n",
    "validation_ratio = 0.10"
   ]
  },
  {
   "cell_type": "code",
   "execution_count": 60,
   "metadata": {
    "tags": []
   },
   "outputs": [],
   "source": [
    "# function to create the model for Keras wrapper to scikit learn\n",
    "# we will optimize the type of pooling layer (max or average) and the activation function of the 2nd and 3rd convolution layers \n",
    "def create_cnn_model(pool_type='max', conv_activation='relu', dropout_rate=0.10):\n",
    "    # create model\n",
    "    model = Sequential()\n",
    "    \n",
    "    # first layer: convolution\n",
    "    model.add(Conv2D(16, kernel_size=(3, 3), activation='relu', input_shape=(32, 32, 3))) \n",
    "        \n",
    "    # second series of layers: convolution, pooling, and dropout\n",
    "    model.add(Conv2D(32, kernel_size=(3, 3), activation=conv_activation))  \n",
    "    if pool_type == 'max':\n",
    "        model.add(MaxPooling2D(pool_size=(2, 2)))\n",
    "    if pool_type == 'average':\n",
    "        model.add(AveragePooling2D(pool_size=(2, 2)))\n",
    "    if dropout_rate != 0:\n",
    "        model.add(Dropout(rate=dropout_rate))     \n",
    "    \n",
    "    # third series of layers: convolution, pooling, and dropout    \n",
    "    model.add(Conv2D(64, kernel_size=(3, 3), activation=conv_activation))   # 32   \n",
    "    if pool_type == 'max':\n",
    "        model.add(MaxPooling2D(pool_size=(2, 2)))\n",
    "    if pool_type == 'average':\n",
    "        model.add(AveragePooling2D(pool_size=(2, 2)))\n",
    "    if dropout_rate != 0:\n",
    "        model.add(Dropout(rate=dropout_rate))     \n",
    "      \n",
    "    # fourth series\n",
    "    model.add(Flatten())         \n",
    "    model.add(Dense(64, activation=conv_activation)) # 64\n",
    "    # add a dropout layer if rate is not null    \n",
    "    if dropout_rate != 0:\n",
    "        model.add(Dropout(rate=dropout_rate)) \n",
    "        \n",
    "    model.add(Dense(3, activation='softmax'))\n",
    "    \n",
    "    # Compile model\n",
    "    model.compile( \n",
    "        optimizer='adam',\n",
    "        loss='categorical_crossentropy',\n",
    "        metrics=['accuracy'],\n",
    "        )    \n",
    "    return model\n",
    "\n",
    "cnn = create_cnn_model()\n",
    "\n",
    "cnn.compile(\n",
    "  optimizer='adam',\n",
    "  loss='categorical_crossentropy',  \n",
    "  metrics=['accuracy'],\n",
    ")"
   ]
  },
  {
   "cell_type": "code",
   "execution_count": 61,
   "metadata": {},
   "outputs": [
    {
     "data": {
      "text/plain": [
       "((12000, 32, 32, 3), (12000, 1))"
      ]
     },
     "execution_count": 61,
     "metadata": {},
     "output_type": "execute_result"
    }
   ],
   "source": [
    "X_train.shape, Y_train.shape"
   ]
  },
  {
   "cell_type": "code",
   "execution_count": 62,
   "metadata": {
    "tags": []
   },
   "outputs": [
    {
     "name": "stdout",
     "output_type": "stream",
     "text": [
      "Epoch 1/30\n",
      "375/375 [==============================] - 11s 27ms/step - loss: 1.4950 - accuracy: 0.6177 - val_loss: 0.6312 - val_accuracy: 0.7497\n",
      "Epoch 2/30\n",
      "375/375 [==============================] - 10s 27ms/step - loss: 0.5990 - accuracy: 0.7342 - val_loss: 0.4908 - val_accuracy: 0.8130\n",
      "Epoch 3/30\n",
      "375/375 [==============================] - 10s 27ms/step - loss: 0.5351 - accuracy: 0.7665 - val_loss: 0.4579 - val_accuracy: 0.8250\n",
      "Epoch 4/30\n",
      "375/375 [==============================] - 10s 27ms/step - loss: 0.4773 - accuracy: 0.8002 - val_loss: 0.4175 - val_accuracy: 0.8463\n",
      "Epoch 5/30\n",
      "375/375 [==============================] - 10s 27ms/step - loss: 0.4276 - accuracy: 0.8282 - val_loss: 0.3879 - val_accuracy: 0.8610\n",
      "Epoch 6/30\n",
      "375/375 [==============================] - 10s 27ms/step - loss: 0.3837 - accuracy: 0.8488 - val_loss: 0.3797 - val_accuracy: 0.8610\n",
      "Epoch 7/30\n",
      "375/375 [==============================] - 10s 26ms/step - loss: 0.3373 - accuracy: 0.8668 - val_loss: 0.3622 - val_accuracy: 0.8700\n",
      "Epoch 8/30\n",
      "375/375 [==============================] - 11s 29ms/step - loss: 0.3185 - accuracy: 0.8762 - val_loss: 0.3395 - val_accuracy: 0.8737\n",
      "Epoch 9/30\n",
      "375/375 [==============================] - 10s 26ms/step - loss: 0.2958 - accuracy: 0.8884 - val_loss: 0.3280 - val_accuracy: 0.8860\n",
      "Epoch 10/30\n",
      "375/375 [==============================] - 10s 28ms/step - loss: 0.2722 - accuracy: 0.8981 - val_loss: 0.5064 - val_accuracy: 0.8047\n",
      "Epoch 11/30\n",
      "375/375 [==============================] - 10s 28ms/step - loss: 0.2632 - accuracy: 0.9011 - val_loss: 0.3570 - val_accuracy: 0.8693\n",
      "Epoch 12/30\n",
      "375/375 [==============================] - 10s 27ms/step - loss: 0.2359 - accuracy: 0.9093 - val_loss: 0.3456 - val_accuracy: 0.8843\n",
      "Epoch 13/30\n",
      "375/375 [==============================] - 11s 28ms/step - loss: 0.2319 - accuracy: 0.9129 - val_loss: 0.3522 - val_accuracy: 0.8790\n",
      "Epoch 14/30\n",
      "375/375 [==============================] - 10s 28ms/step - loss: 0.2020 - accuracy: 0.9241 - val_loss: 0.3637 - val_accuracy: 0.8780\n"
     ]
    }
   ],
   "source": [
    "# Train the default CNN model\n",
    "\n",
    "early_stop = EarlyStopping(monitor = 'val_accuracy', mode = 'max', patience=5, restore_best_weights=True)\n",
    "\n",
    "history = cnn.fit(\n",
    "    X_train,\n",
    "    to_categorical(Y_train),\n",
    "    epochs=n_epochs,  \n",
    "    validation_data=(X_val, to_categorical(y_val)), \n",
    "    batch_size=32,\n",
    "    callbacks = [early_stop]\n",
    ")"
   ]
  },
  {
   "cell_type": "code",
   "execution_count": null,
   "metadata": {},
   "outputs": [],
   "source": [
    "# optimize model \n",
    "start = time()\n",
    "\n",
    "# create model\n",
    "model = KerasClassifier(build_fn=create_cnn_model, verbose=1)\n",
    "# define parameters and values for grid search \n",
    "param_grid = {\n",
    "    'pool_type': ['max', 'average'],\n",
    "    'conv_activation': ['sigmoid', 'tanh'],    \n",
    "    'epochs': [n_epochs_cv],\n",
    "}\n",
    "\n",
    "grid = GridSearchCV(estimator=model, param_grid=param_grid, n_jobs=-1, cv=n_cv)\n",
    "grid_result = grid.fit(X_train, to_categorical(Y_train))\n",
    "\n",
    "# summarize results\n",
    "print('time for grid search = {:.0f} sec'.format(time()-start))\n",
    "display_cv_results(grid_result)"
   ]
  },
  {
   "cell_type": "code",
   "execution_count": null,
   "metadata": {},
   "outputs": [],
   "source": [
    "# define function to display the results of the grid search\n",
    "def display_cv_results(search_results):\n",
    "    print('Best score = {:.4f} using {}'.format(search_results.best_score_, search_results.best_params_))\n",
    "    means = search_results.cv_results_['mean_test_score']\n",
    "    stds = search_results.cv_results_['std_test_score']\n",
    "    params = search_results.cv_results_['params']\n",
    "    for mean, stdev, param in zip(means, stds, params):\n",
    "        print('mean test accuracy +/- std = {:.4f} +/- {:.4f} with: {}'.format(mean, stdev, param))    "
   ]
  },
  {
   "cell_type": "code",
   "execution_count": null,
   "metadata": {},
   "outputs": [],
   "source": [
    "display_cv_results(grid_result)"
   ]
  },
  {
   "cell_type": "code",
   "execution_count": 57,
   "metadata": {
    "tags": []
   },
   "outputs": [
    {
     "ename": "NameError",
     "evalue": "name 'datagen' is not defined",
     "output_type": "error",
     "traceback": [
      "\u001b[1;31m---------------------------------------------------------------------------\u001b[0m",
      "\u001b[1;31mNameError\u001b[0m                                 Traceback (most recent call last)",
      "\u001b[1;32m<ipython-input-57-770a5e472b6d>\u001b[0m in \u001b[0;36m<module>\u001b[1;34m\u001b[0m\n\u001b[0;32m      6\u001b[0m \u001b[1;31m#define early stop on the accuracy as this is the metric we want to improve\u001b[0m\u001b[1;33m\u001b[0m\u001b[1;33m\u001b[0m\u001b[1;33m\u001b[0m\u001b[0m\n\u001b[0;32m      7\u001b[0m \u001b[0mearly_stop\u001b[0m \u001b[1;33m=\u001b[0m \u001b[0mEarlyStopping\u001b[0m\u001b[1;33m(\u001b[0m\u001b[0mmonitor\u001b[0m \u001b[1;33m=\u001b[0m \u001b[1;34m'accuracy'\u001b[0m\u001b[1;33m,\u001b[0m \u001b[0mmode\u001b[0m \u001b[1;33m=\u001b[0m \u001b[1;34m'max'\u001b[0m\u001b[1;33m,\u001b[0m \u001b[0mpatience\u001b[0m\u001b[1;33m=\u001b[0m\u001b[1;36m5\u001b[0m\u001b[1;33m,\u001b[0m \u001b[0mrestore_best_weights\u001b[0m\u001b[1;33m=\u001b[0m\u001b[1;32mTrue\u001b[0m\u001b[1;33m)\u001b[0m\u001b[1;33m\u001b[0m\u001b[1;33m\u001b[0m\u001b[0m\n\u001b[1;32m----> 8\u001b[1;33m history = cnn_model.fit_generator(datagen.flow(X_train,to_categorical(y_train), batch_size=32),\n\u001b[0m\u001b[0;32m      9\u001b[0m                                   \u001b[0mepochs\u001b[0m \u001b[1;33m=\u001b[0m \u001b[0mn_epochs\u001b[0m\u001b[1;33m,\u001b[0m\u001b[1;33m\u001b[0m\u001b[1;33m\u001b[0m\u001b[0m\n\u001b[0;32m     10\u001b[0m                                   \u001b[0mvalidation_data\u001b[0m \u001b[1;33m=\u001b[0m \u001b[1;33m(\u001b[0m\u001b[0mX_val\u001b[0m\u001b[1;33m,\u001b[0m\u001b[0mto_categorical\u001b[0m\u001b[1;33m(\u001b[0m\u001b[0my_val\u001b[0m\u001b[1;33m)\u001b[0m\u001b[1;33m)\u001b[0m\u001b[1;33m,\u001b[0m\u001b[1;33m\u001b[0m\u001b[1;33m\u001b[0m\u001b[0m\n",
      "\u001b[1;31mNameError\u001b[0m: name 'datagen' is not defined"
     ]
    }
   ],
   "source": [
    "# optimize parameters of the fit method \n",
    "cnn_model = create_cnn_model(pool_type = grid_result.best_params_['pool_type'],\n",
    "                             conv_activation = grid_result.best_params_['conv_activation'], \n",
    "                            dropout_rate=0.0)\n",
    "\n",
    "#define early stop on the accuracy as this is the metric we want to improve\n",
    "early_stop = EarlyStopping(monitor = 'accuracy', mode = 'max', patience=5, restore_best_weights=True)\n",
    "history = cnn_model.fit_generator(datagen.flow(X_train,to_categorical(y_train), batch_size=32),\n",
    "                                  epochs = n_epochs, \n",
    "                                  validation_data = (X_val,to_categorical(y_val)),\n",
    "                                  verbose = 1, \n",
    "                                  steps_per_epoch = X_train.shape[0] / 32,\n",
    "                                  callbacks = [early_stop])\n",
    "\n",
    "# plot accuracy on training and validation data\n",
    "df_history = pd.DataFrame(history.history)\n",
    "sns.lineplot(data=df_history[['accuracy','val_accuracy']], palette=\"tab10\", linewidth=2.5);"
   ]
  },
  {
   "cell_type": "code",
   "execution_count": null,
   "metadata": {},
   "outputs": [],
   "source": []
  }
 ],
 "metadata": {
  "colab": {
   "collapsed_sections": [],
   "name": "Práctica (Do it yourself)",
   "provenance": []
  },
  "kernelspec": {
   "display_name": "Python 3",
   "language": "python",
   "name": "python3"
  },
  "language_info": {
   "codemirror_mode": {
    "name": "ipython",
    "version": 3
   },
   "file_extension": ".py",
   "mimetype": "text/x-python",
   "name": "python",
   "nbconvert_exporter": "python",
   "pygments_lexer": "ipython3",
   "version": "3.8.8"
  }
 },
 "nbformat": 4,
 "nbformat_minor": 4
}
