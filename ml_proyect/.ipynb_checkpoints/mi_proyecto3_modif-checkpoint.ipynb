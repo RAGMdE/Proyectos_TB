{
 "cells": [
  {
   "cell_type": "markdown",
   "id": "731783c6",
   "metadata": {},
   "source": [
    "Se pretende determinar el precio a ofertar a un contrato del sector público en función del precio de licitación en los procedimeintos abierto y abierto simplificado.\n",
    "\n",
    "Se utilizara los datos de contratos publicados en la Plataforma de contratción del Estado del ejercicio 2021.\n",
    "https://contrataciondelestado.es/wps/portal/plataforma\n",
    "\n",
    "Bibliografia y documentación apoyo:\n",
    "Notebooks aportado por The Bridge( Rafael Zambrano, Jonhatan, )\n",
    "Hands on machine learning with Scikit-Learn, keras and TensorFlow.- Aurelien Géron. Ed O'Reilly\n",
    "Redes neuronales con Python by Joaquín Amat Rodrigo, available under a Attribution 4.0 International (CC BY 4.0) at https://www.cienciadedatos.net/documentos/py35-redes-neuronales-python.html\n",
    "\n",
    "https://Stackoverflow.com\n",
    "\n"
   ]
  },
  {
   "cell_type": "code",
   "execution_count": 1,
   "id": "ed479e5b-5561-46ce-aab8-c2ffa122245e",
   "metadata": {},
   "outputs": [
    {
     "name": "stderr",
     "output_type": "stream",
     "text": [
      "C:\\Users\\ragod\\anaconda3\\lib\\site-packages\\numpy\\_distributor_init.py:30: UserWarning: loaded more than 1 DLL from .libs:\n",
      "C:\\Users\\ragod\\anaconda3\\lib\\site-packages\\numpy\\.libs\\libopenblas.EL2C6PLE4ZYW3ECEVIV3OXXGRN2NRFM2.gfortran-win_amd64.dll\n",
      "C:\\Users\\ragod\\anaconda3\\lib\\site-packages\\numpy\\.libs\\libopenblas.WCDJNK7YVMPZQ2ME2ZZHJJRJ3JIKNDB7.gfortran-win_amd64.dll\n",
      "  warnings.warn(\"loaded more than 1 DLL from .libs:\"\n",
      "<frozen importlib._bootstrap>:219: RuntimeWarning: scipy._lib.messagestream.MessageStream size changed, may indicate binary incompatibility. Expected 56 from C header, got 64 from PyObject\n"
     ]
    }
   ],
   "source": [
    "# Tratamiento de datos\n",
    "# ==============================================================================\n",
    "import numpy as np\n",
    "import pandas as pd\n",
    "\n",
    "# Gráficos\n",
    "# ==============================================================================\n",
    "import matplotlib.pyplot as plt\n",
    "import seaborn as sns\n",
    "%matplotlib inline\n",
    "plt.style.use('fivethirtyeight')\n",
    "\n",
    "# Modelado\n",
    "# ==============================================================================\n",
    "from sklearn.neural_network import MLPRegressor\n",
    "from sklearn.compose import ColumnTransformer\n",
    "from sklearn.preprocessing import OneHotEncoder\n",
    "from sklearn.preprocessing import StandardScaler\n",
    "from sklearn.compose import make_column_selector\n",
    "from sklearn.pipeline import Pipeline\n",
    "from sklearn.metrics import mean_squared_error\n",
    "from sklearn.model_selection import RandomizedSearchCV\n",
    "from sklearn.model_selection import KFold\n",
    "from sklearn import set_config\n",
    "import multiprocessing\n",
    "\n",
    "# Configuración warnings\n",
    "# ==============================================================================\n",
    "import warnings\n",
    "warnings.filterwarnings('ignore')\n"
   ]
  },
  {
   "cell_type": "code",
   "execution_count": 2,
   "id": "8793186e-e709-4a5b-a409-ca597f68ad7c",
   "metadata": {},
   "outputs": [],
   "source": [
    "# Descarga de datos\n",
    "# ==============================================================================\n",
    "df_lici1   = pd.read_excel(r'C:\\Users\\ragod\\Desktop\\Contratos2\\2021.xlsx', sheet_name='Licitaciones')\n",
    "df_result1 = pd.read_excel(r'C:\\Users\\ragod\\Desktop\\Contratos2\\2021.xlsx', sheet_name='Resultados')\n",
    "\n",
    "# Se renombran las columnas para que sean más descriptivas/cortas\n",
    "nuevas_col_lici =['identificador','link','fecha',\n",
    "       'vigencia',\n",
    "       'precio_lici',\n",
    "       'cpv',\n",
    "       'tipo_cont',\n",
    "       'org_cont',\n",
    "       'tipo_admi',\n",
    "        'tipo_pro',\n",
    "        'sist_cont',\n",
    "        'subcontratacion']\n",
    "nuevas_col_result =['identificador', 'link','fecha','resultado',\n",
    "       'precio_min',\n",
    "       'precio_max',\n",
    "       'baja_tem',\n",
    "       'precio_adj_sin_imp',\n",
    "       'precio_adj_con_imp']\n",
    "\n",
    "df_lici1=df_lici1.rename(columns={k:v for k,v in zip(df_lici1.columns, nuevas_col_lici)})\n",
    "df_result1=df_result1.rename(columns={k:v for k,v in zip(df_result1.columns, nuevas_col_result)})"
   ]
  },
  {
   "cell_type": "code",
   "execution_count": 3,
   "id": "0001ad63-fb50-45d1-a126-bdeaa2107b72",
   "metadata": {},
   "outputs": [
    {
     "name": "stdout",
     "output_type": "stream",
     "text": [
      "<class 'pandas.core.frame.DataFrame'>\n",
      "RangeIndex: 145470 entries, 0 to 145469\n",
      "Data columns (total 12 columns):\n",
      " #   Column           Non-Null Count   Dtype         \n",
      "---  ------           --------------   -----         \n",
      " 0   identificador    145470 non-null  int64         \n",
      " 1   link             145470 non-null  object        \n",
      " 2   fecha            145470 non-null  datetime64[ns]\n",
      " 3   vigencia         145470 non-null  object        \n",
      " 4   precio_lici      144780 non-null  float64       \n",
      " 5   cpv              144131 non-null  object        \n",
      " 6   tipo_cont        145470 non-null  object        \n",
      " 7   org_cont         145470 non-null  object        \n",
      " 8   tipo_admi        145470 non-null  object        \n",
      " 9   tipo_pro         145470 non-null  object        \n",
      " 10  sist_cont        141855 non-null  object        \n",
      " 11  subcontratacion  20249 non-null   object        \n",
      "dtypes: datetime64[ns](1), float64(1), int64(1), object(9)\n",
      "memory usage: 13.3+ MB\n",
      "<class 'pandas.core.frame.DataFrame'>\n",
      "RangeIndex: 180656 entries, 0 to 180655\n",
      "Data columns (total 9 columns):\n",
      " #   Column              Non-Null Count   Dtype         \n",
      "---  ------              --------------   -----         \n",
      " 0   identificador       180656 non-null  int64         \n",
      " 1   link                180656 non-null  object        \n",
      " 2   fecha               180656 non-null  datetime64[ns]\n",
      " 3   resultado           180656 non-null  object        \n",
      " 4   precio_min          91409 non-null   float64       \n",
      " 5   precio_max          93922 non-null   float64       \n",
      " 6   baja_tem            21950 non-null   float64       \n",
      " 7   precio_adj_sin_imp  163306 non-null  float64       \n",
      " 8   precio_adj_con_imp  163306 non-null  float64       \n",
      "dtypes: datetime64[ns](1), float64(5), int64(1), object(2)\n",
      "memory usage: 12.4+ MB\n"
     ]
    }
   ],
   "source": [
    "# Tipo de cada columna\n",
    "# ==============================================================================\n",
    "\n",
    "df_lici1.info()\n",
    "df_result1.info()"
   ]
  },
  {
   "cell_type": "code",
   "execution_count": 4,
   "id": "456e2607-94c1-4f89-8c24-6ad42bf716d9",
   "metadata": {},
   "outputs": [],
   "source": [
    "#Limpieza básica\n",
    "#=======================================================\n",
    "#Eliminacion columnas por no ser significativas\n",
    "df_lici1.drop(['link','fecha','vigencia','org_cont','tipo_admi','subcontratacion'],axis = 1,inplace = True)\n",
    "df_result1.drop(['link','fecha'],axis = 1,inplace = True)"
   ]
  },
  {
   "cell_type": "code",
   "execution_count": 5,
   "id": "b00834e6-d88e-45c3-81bc-6c99ea335d2b",
   "metadata": {},
   "outputs": [],
   "source": [
    "# Modificaciones de df_lici_1\n",
    "df_lici2 = df_lici1\n",
    "df_lici2.identificador = df_lici2.identificador.astype('string')\n",
    "\n",
    "#Modifciaciones de df_resutl1\n",
    "df_result2 = df_result1\n",
    "df_result2.identificador = df_result2.identificador.astype('string')\n",
    "df_result2 = df_result2.fillna(0)"
   ]
  },
  {
   "cell_type": "code",
   "execution_count": 6,
   "id": "44a29c31-290c-4d02-9136-bc2b242cf669",
   "metadata": {},
   "outputs": [],
   "source": [
    "# Seleccion solo de los adjudicados.\n",
    "#=====================================================================\n",
    "#Aquellos que tienen un lote no adjudicado se eliminan todos por no tener detalle de licitacion\n",
    "#identificacion no adjudicados en resultados\n",
    "lista_no_adjudica = df_result2.identificador[df_result2.resultado != 'Adjudicado']\n",
    "lista_no_adjudica_result_index = df_result2[df_result2.identificador.isin(lista_no_adjudica)].index\n",
    "\n",
    "#deteccion de no adjuidcados en liccitaciones\n",
    "lista_no_adjudicados=list(lista_no_adjudica.unique())\n",
    "lista_no_adjudica_lici_index = df_lici2[df_lici2.identificador.isin(lista_no_adjudicados)].index\n",
    "\n",
    "#Deteccion de adjudicados\n",
    "licitaciones_adjudicadas_index=[i for i in df_lici2.index if i not in lista_no_adjudica_lici_index]\n",
    "resultados_adjudicados_index=[i for i in df_result2.index if i not in lista_no_adjudica_result_index]"
   ]
  },
  {
   "cell_type": "code",
   "execution_count": 7,
   "id": "6db135dc-90a8-4b43-90a8-46019276ec96",
   "metadata": {},
   "outputs": [],
   "source": [
    "# Eliminacion de no ejecutados\n",
    "df_lici3 = df_lici2.iloc[licitaciones_adjudicadas_index].reset_index(drop=True)\n",
    "df_result3   = df_result2.iloc[resultados_adjudicados_index].reset_index(drop=True)\n"
   ]
  },
  {
   "cell_type": "code",
   "execution_count": 8,
   "id": "f4627152-ed3a-4dc2-810a-18686c95c0c4",
   "metadata": {},
   "outputs": [],
   "source": [
    "# Elimino aquellos adjudicados con precio de adjudicacion 0\n",
    "\n",
    "df_result3 = df_result3[df_result3.precio_adj_sin_imp != 0]"
   ]
  },
  {
   "cell_type": "code",
   "execution_count": 9,
   "id": "729c8d16-5443-4f59-ab45-f261c1f51dcb",
   "metadata": {},
   "outputs": [],
   "source": [
    "# Agrupacion de resultados por identificador\n",
    "\n",
    "df_result4 = df_result3.groupby('identificador',as_index = False).sum()\n"
   ]
  },
  {
   "cell_type": "code",
   "execution_count": 10,
   "id": "c2469da5-5093-4a23-bead-071e1f2829a2",
   "metadata": {
    "tags": []
   },
   "outputs": [],
   "source": [
    "#Asignacion de valors max y min cuando son 0.\n",
    "df_result4.loc[(df_result4.precio_min==0)&(df_result4.precio_max==0),['precio_min','precio_max']]=df_result4['precio_adj_sin_imp']"
   ]
  },
  {
   "cell_type": "code",
   "execution_count": 11,
   "id": "c087a504-db7b-4e6b-84a5-53a77b725885",
   "metadata": {},
   "outputs": [
    {
     "data": {
      "text/html": [
       "<div>\n",
       "<style scoped>\n",
       "    .dataframe tbody tr th:only-of-type {\n",
       "        vertical-align: middle;\n",
       "    }\n",
       "\n",
       "    .dataframe tbody tr th {\n",
       "        vertical-align: top;\n",
       "    }\n",
       "\n",
       "    .dataframe thead th {\n",
       "        text-align: right;\n",
       "    }\n",
       "</style>\n",
       "<table border=\"1\" class=\"dataframe\">\n",
       "  <thead>\n",
       "    <tr style=\"text-align: right;\">\n",
       "      <th></th>\n",
       "      <th>identificador</th>\n",
       "      <th>precio_lici</th>\n",
       "      <th>cpv</th>\n",
       "      <th>tipo_cont</th>\n",
       "      <th>tipo_pro</th>\n",
       "      <th>sist_cont</th>\n",
       "    </tr>\n",
       "  </thead>\n",
       "  <tbody>\n",
       "    <tr>\n",
       "      <th>0</th>\n",
       "      <td>1001606</td>\n",
       "      <td>910892.00</td>\n",
       "      <td>34933000;</td>\n",
       "      <td>Suministros</td>\n",
       "      <td>Negociado con publicidad</td>\n",
       "      <td>NaN</td>\n",
       "    </tr>\n",
       "    <tr>\n",
       "      <th>1</th>\n",
       "      <td>1002267</td>\n",
       "      <td>240000.00</td>\n",
       "      <td>98351000;</td>\n",
       "      <td>Gestión de Servicios Públicos</td>\n",
       "      <td>Abierto</td>\n",
       "      <td>NaN</td>\n",
       "    </tr>\n",
       "    <tr>\n",
       "      <th>2</th>\n",
       "      <td>1007145</td>\n",
       "      <td>2472400.00</td>\n",
       "      <td>32524000;</td>\n",
       "      <td>Suministros</td>\n",
       "      <td>Negociado con publicidad</td>\n",
       "      <td>NaN</td>\n",
       "    </tr>\n",
       "    <tr>\n",
       "      <th>3</th>\n",
       "      <td>1007418</td>\n",
       "      <td>3720000.00</td>\n",
       "      <td>90910000;</td>\n",
       "      <td>Servicios</td>\n",
       "      <td>Abierto</td>\n",
       "      <td>NaN</td>\n",
       "    </tr>\n",
       "    <tr>\n",
       "      <th>4</th>\n",
       "      <td>1007814</td>\n",
       "      <td>261584.00</td>\n",
       "      <td>98341130;</td>\n",
       "      <td>Servicios</td>\n",
       "      <td>Normas internas</td>\n",
       "      <td>No aplica</td>\n",
       "    </tr>\n",
       "    <tr>\n",
       "      <th>...</th>\n",
       "      <td>...</td>\n",
       "      <td>...</td>\n",
       "      <td>...</td>\n",
       "      <td>...</td>\n",
       "      <td>...</td>\n",
       "      <td>...</td>\n",
       "    </tr>\n",
       "    <tr>\n",
       "      <th>134190</th>\n",
       "      <td>985152</td>\n",
       "      <td>1322880.00</td>\n",
       "      <td>60160000;</td>\n",
       "      <td>Servicios</td>\n",
       "      <td>Negociado con publicidad</td>\n",
       "      <td>NaN</td>\n",
       "    </tr>\n",
       "    <tr>\n",
       "      <th>134191</th>\n",
       "      <td>985194</td>\n",
       "      <td>27239507.00</td>\n",
       "      <td>45234110;</td>\n",
       "      <td>Obras</td>\n",
       "      <td>Abierto</td>\n",
       "      <td>NaN</td>\n",
       "    </tr>\n",
       "    <tr>\n",
       "      <th>134192</th>\n",
       "      <td>991030</td>\n",
       "      <td>1383385.39</td>\n",
       "      <td>45331000;</td>\n",
       "      <td>Obras</td>\n",
       "      <td>Negociado con publicidad</td>\n",
       "      <td>No aplica</td>\n",
       "    </tr>\n",
       "    <tr>\n",
       "      <th>134194</th>\n",
       "      <td>996489</td>\n",
       "      <td>554040.00</td>\n",
       "      <td>50413200;</td>\n",
       "      <td>Servicios</td>\n",
       "      <td>Abierto</td>\n",
       "      <td>NaN</td>\n",
       "    </tr>\n",
       "    <tr>\n",
       "      <th>134195</th>\n",
       "      <td>996620</td>\n",
       "      <td>NaN</td>\n",
       "      <td>71311100;71318000;71322000;</td>\n",
       "      <td>Servicios</td>\n",
       "      <td>Abierto</td>\n",
       "      <td>NaN</td>\n",
       "    </tr>\n",
       "  </tbody>\n",
       "</table>\n",
       "<p>106421 rows × 6 columns</p>\n",
       "</div>"
      ],
      "text/plain": [
       "       identificador  precio_lici                          cpv  \\\n",
       "0            1001606    910892.00                    34933000;   \n",
       "1            1002267    240000.00                    98351000;   \n",
       "2            1007145   2472400.00                    32524000;   \n",
       "3            1007418   3720000.00                    90910000;   \n",
       "4            1007814    261584.00                    98341130;   \n",
       "...              ...          ...                          ...   \n",
       "134190        985152   1322880.00                    60160000;   \n",
       "134191        985194  27239507.00                    45234110;   \n",
       "134192        991030   1383385.39                    45331000;   \n",
       "134194        996489    554040.00                    50413200;   \n",
       "134195        996620          NaN  71311100;71318000;71322000;   \n",
       "\n",
       "                            tipo_cont                  tipo_pro  sist_cont  \n",
       "0                         Suministros  Negociado con publicidad        NaN  \n",
       "1       Gestión de Servicios Públicos                   Abierto        NaN  \n",
       "2                         Suministros  Negociado con publicidad        NaN  \n",
       "3                           Servicios                   Abierto        NaN  \n",
       "4                           Servicios           Normas internas  No aplica  \n",
       "...                               ...                       ...        ...  \n",
       "134190                      Servicios  Negociado con publicidad        NaN  \n",
       "134191                          Obras                   Abierto        NaN  \n",
       "134192                          Obras  Negociado con publicidad  No aplica  \n",
       "134194                      Servicios                   Abierto        NaN  \n",
       "134195                      Servicios                   Abierto        NaN  \n",
       "\n",
       "[106421 rows x 6 columns]"
      ]
     },
     "execution_count": 11,
     "metadata": {},
     "output_type": "execute_result"
    }
   ],
   "source": [
    "#Selección de licitaciones aquellas que tienen adjudicaciones\n",
    "#==============================================================\n",
    "identificador_result = list(df_result4.identificador)\n",
    "df_lici3[df_lici3['identificador'].isin ( df_result4.identificador)]"
   ]
  },
  {
   "cell_type": "code",
   "execution_count": 12,
   "id": "56e7afd9-3199-4561-ba5a-b296b352dede",
   "metadata": {},
   "outputs": [],
   "source": [
    "#Creacion de set único\n",
    "#==============================================\n",
    "df_final=df_lici3.join(df_result4.set_index('identificador'), on ='identificador', how = 'right')"
   ]
  },
  {
   "cell_type": "code",
   "execution_count": 13,
   "id": "ad2534ba-8ddd-4ef2-90da-28b833e89b18",
   "metadata": {},
   "outputs": [],
   "source": [
    "#Limpieza de set unico\n",
    "#=========================================================================\n",
    "# elimino licitaciones sin precio\n",
    "df_final2=df_final[df_final.precio_lici.isnull()== False]\n",
    "\n",
    "#elimino licitaciones menores que el adjudicado\n",
    "\n",
    "df_final2 = df_final2[(df_final2.precio_lici < df_final2.precio_adj_sin_imp) == False]\n",
    "\n",
    "#elimino licitaciones con importe 0\n",
    "\n",
    "df_final2 = df_final2[df_final2.precio_lici > 5000]\n",
    "\n",
    "# elimino las licitaciones con cpv nulo\n",
    "\n",
    "df_final2=df_final2[df_final2.cpv.isnull()== False]\n"
   ]
  },
  {
   "cell_type": "code",
   "execution_count": 14,
   "id": "15200425-2a9c-48a1-bcc9-ee5b21fed698",
   "metadata": {},
   "outputs": [],
   "source": [
    "#Estudio de variables.- Tipo de procedimiento tipo_pro\n",
    "#==============================================================\n",
    "df_final2.groupby('tipo_pro').count()\n",
    "\n",
    "#Se mantienen solo Abierto y Abierto simplificado. Son los procedieminetos donde predomina critero precio.\n",
    "df_final3 =df_final2[(df_final2.tipo_pro=='Abierto')|(df_final2.tipo_pro =='Abierto simplificado')]"
   ]
  },
  {
   "cell_type": "code",
   "execution_count": 33,
   "id": "eb9eccfa-c37f-4753-adb0-bbb7c56c01c4",
   "metadata": {},
   "outputs": [],
   "source": [
    "#Estudio de variables.- Tipo de contrato tipo_cont\n",
    "#==============================================================\n",
    "df_final3.groupby('tipo_cont').count()\n",
    "\n",
    "# Seleccionamos los tipos de contratos más comunes: Obras, Suministros y Servicios\n",
    "\n",
    "df_final4 = df_final3[(df_final3.tipo_cont =='Obras')|(df_final3.tipo_cont =='Suministros')|(df_final3.tipo_cont =='Servicios')].reset_index(drop=True)"
   ]
  },
  {
   "cell_type": "code",
   "execution_count": 34,
   "id": "386c6b1c-fec4-44d2-b7bf-c1389f532956",
   "metadata": {},
   "outputs": [],
   "source": [
    "#Eliminacion de columnas que se desconce su valor antes de la adjudicación y redundante\n",
    "#cpv, sist_cont,precio_min, precio_max, precio_adj_con_imp\n",
    "\n",
    "df_final5=df_final4[['identificador','precio_lici', 'precio_adj_sin_imp','tipo_cont','tipo_pro']]"
   ]
  },
  {
   "cell_type": "code",
   "execution_count": 35,
   "id": "29652954-fa38-4581-8be1-a692e1496169",
   "metadata": {},
   "outputs": [
    {
     "data": {
      "text/html": [
       "<style type=\"text/css\">\n",
       "</style>\n",
       "<table id=\"T_5b07e\">\n",
       "  <thead>\n",
       "    <tr>\n",
       "      <th class=\"blank level0\" >&nbsp;</th>\n",
       "      <th id=\"T_5b07e_level0_col0\" class=\"col_heading level0 col0\" >precio_lici</th>\n",
       "      <th id=\"T_5b07e_level0_col1\" class=\"col_heading level0 col1\" >precio_adj_sin_imp</th>\n",
       "    </tr>\n",
       "  </thead>\n",
       "  <tbody>\n",
       "    <tr>\n",
       "      <th id=\"T_5b07e_level0_row0\" class=\"row_heading level0 row0\" >count</th>\n",
       "      <td id=\"T_5b07e_row0_col0\" class=\"data row0 col0\" >68392.00</td>\n",
       "      <td id=\"T_5b07e_row0_col1\" class=\"data row0 col1\" >68392.00</td>\n",
       "    </tr>\n",
       "    <tr>\n",
       "      <th id=\"T_5b07e_level0_row1\" class=\"row_heading level0 row1\" >mean</th>\n",
       "      <td id=\"T_5b07e_row1_col0\" class=\"data row1 col0\" >831185.96</td>\n",
       "      <td id=\"T_5b07e_row1_col1\" class=\"data row1 col1\" >454379.02</td>\n",
       "    </tr>\n",
       "    <tr>\n",
       "      <th id=\"T_5b07e_level0_row2\" class=\"row_heading level0 row2\" >std</th>\n",
       "      <td id=\"T_5b07e_row2_col0\" class=\"data row2 col0\" >10053673.23</td>\n",
       "      <td id=\"T_5b07e_row2_col1\" class=\"data row2 col1\" >6966097.02</td>\n",
       "    </tr>\n",
       "    <tr>\n",
       "      <th id=\"T_5b07e_level0_row3\" class=\"row_heading level0 row3\" >min</th>\n",
       "      <td id=\"T_5b07e_row3_col0\" class=\"data row3 col0\" >5000.35</td>\n",
       "      <td id=\"T_5b07e_row3_col1\" class=\"data row3 col1\" >0.01</td>\n",
       "    </tr>\n",
       "    <tr>\n",
       "      <th id=\"T_5b07e_level0_row4\" class=\"row_heading level0 row4\" >25%</th>\n",
       "      <td id=\"T_5b07e_row4_col0\" class=\"data row4 col0\" >41322.31</td>\n",
       "      <td id=\"T_5b07e_row4_col1\" class=\"data row4 col1\" >24000.00</td>\n",
       "    </tr>\n",
       "    <tr>\n",
       "      <th id=\"T_5b07e_level0_row5\" class=\"row_heading level0 row5\" >50%</th>\n",
       "      <td id=\"T_5b07e_row5_col0\" class=\"data row5 col0\" >93219.32</td>\n",
       "      <td id=\"T_5b07e_row5_col1\" class=\"data row5 col1\" >58350.37</td>\n",
       "    </tr>\n",
       "    <tr>\n",
       "      <th id=\"T_5b07e_level0_row6\" class=\"row_heading level0 row6\" >75%</th>\n",
       "      <td id=\"T_5b07e_row6_col0\" class=\"data row6 col0\" >261295.49</td>\n",
       "      <td id=\"T_5b07e_row6_col1\" class=\"data row6 col1\" >162612.25</td>\n",
       "    </tr>\n",
       "    <tr>\n",
       "      <th id=\"T_5b07e_level0_row7\" class=\"row_heading level0 row7\" >max</th>\n",
       "      <td id=\"T_5b07e_row7_col0\" class=\"data row7 col0\" >1584728506.91</td>\n",
       "      <td id=\"T_5b07e_row7_col1\" class=\"data row7 col1\" >1487654353.47</td>\n",
       "    </tr>\n",
       "  </tbody>\n",
       "</table>\n"
      ],
      "text/plain": [
       "<pandas.io.formats.style.Styler at 0x268ce277580>"
      ]
     },
     "execution_count": 35,
     "metadata": {},
     "output_type": "execute_result"
    }
   ],
   "source": [
    "#Descripcion del set final\n",
    "df_final5.describe().style.format(precision=2)"
   ]
  },
  {
   "cell_type": "code",
   "execution_count": 36,
   "id": "9b350591-bc6c-49bc-b0a0-33e665c7f099",
   "metadata": {},
   "outputs": [],
   "source": [
    "#Eliminacion de licitación con importes muy altos\n",
    "# Se consideran anomalas las licitaciones superiores a 50.000.000\n",
    "\n",
    "df_final5=df_final5.drop(df_final5[df_final5['precio_lici']>50000000].index)\n",
    "df_final5 =df_final5.reset_index(drop=True)"
   ]
  },
  {
   "cell_type": "code",
   "execution_count": 37,
   "id": "39001a94-4082-4850-b0f1-172757e21d28",
   "metadata": {},
   "outputs": [
    {
     "data": {
      "text/plain": [
       "precio_lici           9623\n",
       "precio_adj_sin_imp    8914\n",
       "Name: outliers, dtype: int64"
      ]
     },
     "execution_count": 37,
     "metadata": {},
     "output_type": "execute_result"
    }
   ],
   "source": [
    "#Outliers\n",
    "#==========================================================\n",
    "stats=df_final5.describe().T\n",
    "\n",
    "stats['IQR']=stats['75%'] - stats['25%']\n",
    "\n",
    "stats.style.format(precision =2)\n",
    "\n",
    "outliers=pd.DataFrame(columns=df_final5.columns)\n",
    "for e in stats.index:\n",
    "    \n",
    "    iqr=stats.at[e, 'IQR']\n",
    "    \n",
    "    cutoff=1.5*iqr\n",
    "    \n",
    "    lower=stats.at[e, '25%']-cutoff\n",
    "    upper=stats.at[e, '75%']+cutoff\n",
    "    \n",
    "    results=df_final5[(df_final5[e]<lower) | (df_final5[e]>upper)].copy()\n",
    "    \n",
    "    results['outliers']=e\n",
    "    \n",
    "    outliers=outliers.append(results, sort=True)\n",
    "    \n",
    "outliers['outliers'].value_counts()\n",
    "\n",
    "\n"
   ]
  },
  {
   "cell_type": "code",
   "execution_count": 62,
   "id": "81c9ae9b-2e08-4ad3-970d-ad389a19e16d",
   "metadata": {},
   "outputs": [],
   "source": [
    "# Creacion df sin outliers\n",
    "lista_outliers = list(outliers.identificador.unique())\n",
    "lista_outliers_index =df_final5[df_final5.identificador.isin(lista_outliers)].index\n",
    "lista_final_index = [i for i in df_final5.index if i not in lista_outliers_index]\n",
    "\n",
    "datos = df_final5.iloc[lista_final_index].reset_index(drop=True)\n"
   ]
  },
  {
   "cell_type": "code",
   "execution_count": null,
   "id": "b269e5b1-905b-4c3d-82f7-2614dafbc56e",
   "metadata": {},
   "outputs": [],
   "source": []
  },
  {
   "cell_type": "code",
   "execution_count": 63,
   "id": "f6315894-c25f-4ff5-ae40-6827dc32c24c",
   "metadata": {
    "tags": []
   },
   "outputs": [],
   "source": [
    "#Creacion variable porcentaje de licitacion\n",
    "#=========================================================\n",
    "# Dado que el precio_adj tiene una clara correlación con el de licitacion,se crea la vairable porcentaje\n",
    "datos['por_adj']=datos['precio_adj_sin_imp']/datos['precio_lici']\n",
    "datos = datos[['precio_lici','tipo_cont','tipo_pro','por_adj']]\n",
    "datos=datos[(datos.por_adj > 0.1)==True]"
   ]
  },
  {
   "cell_type": "code",
   "execution_count": 64,
   "id": "81796ca3",
   "metadata": {},
   "outputs": [
    {
     "data": {
      "text/plain": [
       "55495"
      ]
     },
     "execution_count": 64,
     "metadata": {},
     "output_type": "execute_result"
    }
   ],
   "source": [
    "len(datos)"
   ]
  },
  {
   "cell_type": "code",
   "execution_count": 65,
   "id": "599af9b0-fb24-4e4b-8ced-8065bd6a15b5",
   "metadata": {},
   "outputs": [],
   "source": [
    "datos.to_csv('datos2.csv',index=False)"
   ]
  },
  {
   "cell_type": "code",
   "execution_count": 66,
   "id": "0a1ef7b4-052c-49c1-bb52-8a1e25635f14",
   "metadata": {
    "tags": []
   },
   "outputs": [
    {
     "data": {
      "image/png": "[encoded data removed]",
      "text/plain": [
       "<Figure size 432x216 with 1 Axes>"
      ]
     },
     "metadata": {},
     "output_type": "display_data"
    }
   ],
   "source": [
    "# Distribución variable respuesta\n",
    "# ==============================================================================\n",
    "fig, ax = plt.subplots(nrows=1, ncols=1, figsize=(6, 3))\n",
    "sns.histplot(data=datos, x='por_adj', kde=True,ax=ax)\n",
    "ax.set_title(\"Distribución por_adj\")\n",
    "ax.set_xlabel('por_adj');\n",
    "\n",
    "plt.savefig(\"distribucion_por_adj.png\")\n"
   ]
  },
  {
   "cell_type": "code",
   "execution_count": 67,
   "id": "a0ef37cc-5997-4866-9dac-ac8d42446e1e",
   "metadata": {
    "tags": []
   },
   "outputs": [
    {
     "data": {
      "image/png": "[encoded data removed]",
      "text/plain": [
       "<Figure size 432x216 with 1 Axes>"
      ]
     },
     "metadata": {},
     "output_type": "display_data"
    }
   ],
   "source": [
    "# Gráfico de distribución para la variable numérica\n",
    "# ==============================================================================\n",
    "ig, ax = plt.subplots(nrows=1, ncols=1, figsize=(6, 3))\n",
    "sns.histplot(data=datos, x='precio_lici', kde=True,ax=ax)\n",
    "ax.set_title(\"Distribución precio_lici\")\n",
    "ax.set_xlabel('precio_lici');\n",
    "\n",
    "plt.savefig(\"Distribucion_preci_lici.png\")\n"
   ]
  },
  {
   "cell_type": "code",
   "execution_count": 68,
   "id": "eb4516fe-1fc7-4db7-bf12-1abc4f07a4f4",
   "metadata": {
    "tags": []
   },
   "outputs": [
    {
     "data": {
      "image/png": "[encoded data removed]",
      "text/plain": [
       "<Figure size 864x360 with 2 Axes>"
      ]
     },
     "metadata": {},
     "output_type": "display_data"
    }
   ],
   "source": [
    "# Variables cualitativas (tipo object)\n",
    "# ==============================================================================\n",
    "datos.select_dtypes(include=['object']).describe()\n",
    "\n",
    "\n",
    "# Gráfico para cada variable cualitativa\n",
    "# ==============================================================================\n",
    "fig, axes = plt.subplots(nrows=1, ncols=2, figsize=(12, 5))\n",
    "axes = axes.flat\n",
    "columnas_object = datos.select_dtypes(include=['object']).columns\n",
    "\n",
    "for i, colum in enumerate(columnas_object):\n",
    "    datos[colum].value_counts().plot.barh(ax = axes[i])\n",
    "    axes[i].set_title(colum, fontsize = 14)\n",
    "    axes[i].set_xlabel(\"\")\n",
    "\n",
    "# Se eliminan los axes vacíos\n",
    "#for i in [7, 8]:\n",
    "    #fig.delaxes(axes[i])\n",
    "    \n",
    "fig.tight_layout()\n",
    "\n",
    "plt.savefig(\"Variables_categoricas.png\")"
   ]
  },
  {
   "cell_type": "code",
   "execution_count": 69,
   "id": "04179888-b2c9-4425-ad2c-47b2f07f6baa",
   "metadata": {
    "tags": []
   },
   "outputs": [],
   "source": [
    "# Reparto de datos en train y test\n",
    "# ==============================================================================\n",
    "from sklearn.model_selection import train_test_split\n",
    "\n",
    "X_train, X_test, y_train, y_test = train_test_split(\n",
    "                                        datos.drop('por_adj', axis = 'columns'),\n",
    "                                        datos['por_adj'],\n",
    "                                        train_size   = 0.8,\n",
    "                                        random_state = 42,\n",
    "                                        shuffle      = True\n",
    "                                    )"
   ]
  },
  {
   "cell_type": "code",
   "execution_count": 70,
   "id": "3b835ade-e35d-4f01-aecb-ac99be3ef7f8",
   "metadata": {},
   "outputs": [],
   "source": [
    "# Pipeline de preprocedado y modelado\n",
    "# ==============================================================================\n",
    "\n",
    "# Identificación de columnas numéricas y categóricas\n",
    "numeric_cols = X_train.select_dtypes(include=['float64', 'int']).columns.to_list()\n",
    "cat_cols = X_train.select_dtypes(include=['object', 'category']).columns.to_list()\n",
    "\n",
    "\n",
    "# Transformaciones para las variables numéricas\n",
    "numeric_transformer = Pipeline(\n",
    "                        steps=[('scaler', StandardScaler())]\n",
    "                      )\n",
    "\n",
    "# Transformaciones para las variables categóricas\n",
    "categorical_transformer = Pipeline(\n",
    "                            steps=[('onehot', OneHotEncoder(handle_unknown='ignore'))]\n",
    "                          )\n",
    "\n",
    "preprocessor = ColumnTransformer(\n",
    "                    transformers=[\n",
    "                        ('numeric', numeric_transformer, numeric_cols),\n",
    "                        ('cat', categorical_transformer, cat_cols)\n",
    "                    ],\n",
    "                    remainder='passthrough'\n",
    "                )\n",
    "\n",
    "# Se combinan los pasos de preprocesado y el modelo en un mismo pipeline\n",
    "pipe = Pipeline([('preprocessing', preprocessor),\n",
    "                 ('modelo', MLPRegressor(solver = 'lbfgs', max_iter= 1000))])"
   ]
  },
  {
   "cell_type": "code",
   "execution_count": 71,
   "id": "668a233a-e383-4363-ac6e-2e860676b137",
   "metadata": {},
   "outputs": [
    {
     "data": {
      "text/html": [
       "<div>\n",
       "<style scoped>\n",
       "    .dataframe tbody tr th:only-of-type {\n",
       "        vertical-align: middle;\n",
       "    }\n",
       "\n",
       "    .dataframe tbody tr th {\n",
       "        vertical-align: top;\n",
       "    }\n",
       "\n",
       "    .dataframe thead th {\n",
       "        text-align: right;\n",
       "    }\n",
       "</style>\n",
       "<table border=\"1\" class=\"dataframe\">\n",
       "  <thead>\n",
       "    <tr style=\"text-align: right;\">\n",
       "      <th></th>\n",
       "      <th>param_modelo__learning_rate_init</th>\n",
       "      <th>param_modelo__hidden_layer_sizes</th>\n",
       "      <th>param_modelo__alpha</th>\n",
       "      <th>mean_test_score</th>\n",
       "      <th>std_test_score</th>\n",
       "      <th>mean_train_score</th>\n",
       "      <th>std_train_score</th>\n",
       "    </tr>\n",
       "  </thead>\n",
       "  <tbody>\n",
       "    <tr>\n",
       "      <th>47</th>\n",
       "      <td>0.01</td>\n",
       "      <td>100</td>\n",
       "      <td>2.154435</td>\n",
       "      <td>-0.049862</td>\n",
       "      <td>0.000700</td>\n",
       "      <td>-0.049797</td>\n",
       "      <td>0.000161</td>\n",
       "    </tr>\n",
       "    <tr>\n",
       "      <th>18</th>\n",
       "      <td>0.001</td>\n",
       "      <td>20</td>\n",
       "      <td>0.021544</td>\n",
       "      <td>-0.049863</td>\n",
       "      <td>0.000655</td>\n",
       "      <td>-0.049817</td>\n",
       "      <td>0.000206</td>\n",
       "    </tr>\n",
       "    <tr>\n",
       "      <th>38</th>\n",
       "      <td>0.001</td>\n",
       "      <td>100</td>\n",
       "      <td>0.464159</td>\n",
       "      <td>-0.049863</td>\n",
       "      <td>0.000675</td>\n",
       "      <td>-0.049796</td>\n",
       "      <td>0.000187</td>\n",
       "    </tr>\n",
       "    <tr>\n",
       "      <th>7</th>\n",
       "      <td>0.01</td>\n",
       "      <td>100</td>\n",
       "      <td>0.001</td>\n",
       "      <td>-0.049864</td>\n",
       "      <td>0.000693</td>\n",
       "      <td>-0.049783</td>\n",
       "      <td>0.000165</td>\n",
       "    </tr>\n",
       "    <tr>\n",
       "      <th>31</th>\n",
       "      <td>0.01</td>\n",
       "      <td>100</td>\n",
       "      <td>0.1</td>\n",
       "      <td>-0.049866</td>\n",
       "      <td>0.000689</td>\n",
       "      <td>-0.049808</td>\n",
       "      <td>0.000174</td>\n",
       "    </tr>\n",
       "    <tr>\n",
       "      <th>22</th>\n",
       "      <td>0.001</td>\n",
       "      <td>100</td>\n",
       "      <td>0.021544</td>\n",
       "      <td>-0.049868</td>\n",
       "      <td>0.000702</td>\n",
       "      <td>-0.049806</td>\n",
       "      <td>0.000150</td>\n",
       "    </tr>\n",
       "    <tr>\n",
       "      <th>6</th>\n",
       "      <td>0.001</td>\n",
       "      <td>100</td>\n",
       "      <td>0.001</td>\n",
       "      <td>-0.049868</td>\n",
       "      <td>0.000689</td>\n",
       "      <td>-0.049806</td>\n",
       "      <td>0.000180</td>\n",
       "    </tr>\n",
       "    <tr>\n",
       "      <th>39</th>\n",
       "      <td>0.01</td>\n",
       "      <td>100</td>\n",
       "      <td>0.464159</td>\n",
       "      <td>-0.049868</td>\n",
       "      <td>0.000689</td>\n",
       "      <td>-0.049805</td>\n",
       "      <td>0.000171</td>\n",
       "    </tr>\n",
       "    <tr>\n",
       "      <th>14</th>\n",
       "      <td>0.001</td>\n",
       "      <td>100</td>\n",
       "      <td>0.004642</td>\n",
       "      <td>-0.049869</td>\n",
       "      <td>0.000669</td>\n",
       "      <td>-0.049806</td>\n",
       "      <td>0.000201</td>\n",
       "    </tr>\n",
       "    <tr>\n",
       "      <th>30</th>\n",
       "      <td>0.001</td>\n",
       "      <td>100</td>\n",
       "      <td>0.1</td>\n",
       "      <td>-0.049869</td>\n",
       "      <td>0.000700</td>\n",
       "      <td>-0.049799</td>\n",
       "      <td>0.000161</td>\n",
       "    </tr>\n",
       "  </tbody>\n",
       "</table>\n",
       "</div>"
      ],
      "text/plain": [
       "   param_modelo__learning_rate_init param_modelo__hidden_layer_sizes  \\\n",
       "47                             0.01                              100   \n",
       "18                            0.001                               20   \n",
       "38                            0.001                              100   \n",
       "7                              0.01                              100   \n",
       "31                             0.01                              100   \n",
       "22                            0.001                              100   \n",
       "6                             0.001                              100   \n",
       "39                             0.01                              100   \n",
       "14                            0.001                              100   \n",
       "30                            0.001                              100   \n",
       "\n",
       "   param_modelo__alpha  mean_test_score  std_test_score  mean_train_score  \\\n",
       "47            2.154435        -0.049862        0.000700         -0.049797   \n",
       "18            0.021544        -0.049863        0.000655         -0.049817   \n",
       "38            0.464159        -0.049863        0.000675         -0.049796   \n",
       "7                0.001        -0.049864        0.000693         -0.049783   \n",
       "31                 0.1        -0.049866        0.000689         -0.049808   \n",
       "22            0.021544        -0.049868        0.000702         -0.049806   \n",
       "6                0.001        -0.049868        0.000689         -0.049806   \n",
       "39            0.464159        -0.049868        0.000689         -0.049805   \n",
       "14            0.004642        -0.049869        0.000669         -0.049806   \n",
       "30                 0.1        -0.049869        0.000700         -0.049799   \n",
       "\n",
       "    std_train_score  \n",
       "47         0.000161  \n",
       "18         0.000206  \n",
       "38         0.000187  \n",
       "7          0.000165  \n",
       "31         0.000174  \n",
       "22         0.000150  \n",
       "6          0.000180  \n",
       "39         0.000171  \n",
       "14         0.000201  \n",
       "30         0.000161  "
      ]
     },
     "execution_count": 71,
     "metadata": {},
     "output_type": "execute_result"
    }
   ],
   "source": [
    "# Espacio de búsqueda de cada hiperparámetro\n",
    "# ==============================================================================\n",
    "param_distributions = {\n",
    "    'modelo__hidden_layer_sizes': [(10), (20),(10, 1), (100)],\n",
    "    'modelo__alpha': np.logspace(-3, 3, 10),\n",
    "    'modelo__learning_rate_init': [0.001, 0.01],\n",
    "}\n",
    "\n",
    "# Búsqueda por validación cruzada\n",
    "# ==============================================================================\n",
    "grid = RandomizedSearchCV(\n",
    "        estimator  = pipe,\n",
    "        param_distributions = param_distributions,\n",
    "        n_iter     = 100,\n",
    "        scoring    = 'neg_mean_squared_error',\n",
    "        n_jobs     = multiprocessing.cpu_count() - 1,\n",
    "        cv         = 5, \n",
    "        verbose    = 0,\n",
    "        random_state = 123,\n",
    "        return_train_score = True\n",
    "       )\n",
    "\n",
    "grid.fit(X = X_train, y = y_train)\n",
    "\n",
    "# Resultados del grid\n",
    "# ==============================================================================\n",
    "resultados = pd.DataFrame(grid.cv_results_)\n",
    "resultados.filter(regex = '(param.*|mean_t|std_t)')\\\n",
    "    .drop(columns = 'params')\\\n",
    "    .sort_values('mean_test_score', ascending = False)\\\n",
    "    .head(10)"
   ]
  },
  {
   "cell_type": "code",
   "execution_count": 72,
   "id": "4906cae6-3eb4-48eb-bfb6-fdd882df546f",
   "metadata": {
    "tags": []
   },
   "outputs": [
    {
     "name": "stdout",
     "output_type": "stream",
     "text": [
      "Error de test (rmse):  0.22554769715630546\n"
     ]
    }
   ],
   "source": [
    "# Error de test\n",
    "# ==============================================================================\n",
    "modelo_final = grid.best_estimator_\n",
    "predicciones = modelo_final.predict(X = X_test)\n",
    "rmse = mean_squared_error(\n",
    "        y_true = y_test,\n",
    "        y_pred = predicciones,\n",
    "        squared = False\n",
    "       )\n",
    "print('Error de test (rmse): ', rmse)"
   ]
  },
  {
   "cell_type": "code",
   "execution_count": 73,
   "id": "dd4277a1-deef-4c38-a1f9-48c4c95e6b6e",
   "metadata": {},
   "outputs": [
    {
     "data": {
      "text/plain": [
       "{'activation': 'relu',\n",
       " 'alpha': 2.154434690031882,\n",
       " 'batch_size': 'auto',\n",
       " 'beta_1': 0.9,\n",
       " 'beta_2': 0.999,\n",
       " 'early_stopping': False,\n",
       " 'epsilon': 1e-08,\n",
       " 'hidden_layer_sizes': 100,\n",
       " 'learning_rate': 'constant',\n",
       " 'learning_rate_init': 0.01,\n",
       " 'max_fun': 15000,\n",
       " 'max_iter': 1000,\n",
       " 'momentum': 0.9,\n",
       " 'n_iter_no_change': 10,\n",
       " 'nesterovs_momentum': True,\n",
       " 'power_t': 0.5,\n",
       " 'random_state': None,\n",
       " 'shuffle': True,\n",
       " 'solver': 'lbfgs',\n",
       " 'tol': 0.0001,\n",
       " 'validation_fraction': 0.1,\n",
       " 'verbose': False,\n",
       " 'warm_start': False}"
      ]
     },
     "execution_count": 73,
     "metadata": {},
     "output_type": "execute_result"
    }
   ],
   "source": [
    "modelo_final['modelo'].get_params()"
   ]
  },
  {
   "cell_type": "code",
   "execution_count": null,
   "id": "3a8448cf-11cd-48ed-ae81-ccbecc4c438a",
   "metadata": {},
   "outputs": [],
   "source": [
    "\n"
   ]
  },
  {
   "cell_type": "code",
   "execution_count": 74,
   "id": "4b86cb77-6cb2-4c09-be0b-ca878db11ec8",
   "metadata": {
    "scrolled": false
   },
   "outputs": [
    {
     "data": {
      "image/png": "[encoded data removed]",
      "text/plain": [
       "<Figure size 432x288 with 1 Axes>"
      ]
     },
     "metadata": {},
     "output_type": "display_data"
    }
   ],
   "source": [
    "fig, ax = plt.subplots()\n",
    "plt.plot(predicciones, y_test,'o')\n",
    "plt.axline((0,0),(1,1),color='red');"
   ]
  },
  {
   "cell_type": "code",
   "execution_count": 75,
   "id": "a6199970",
   "metadata": {},
   "outputs": [
    {
     "data": {
      "text/plain": [
       "<Figure size 432x288 with 0 Axes>"
      ]
     },
     "metadata": {},
     "output_type": "display_data"
    }
   ],
   "source": [
    "plt.savefig(\"PrediccionVSReal.png\")"
   ]
  },
  {
   "cell_type": "code",
   "execution_count": null,
   "id": "9cb59eb7",
   "metadata": {},
   "outputs": [],
   "source": []
  }
 ],
 "metadata": {
  "kernelspec": {
   "display_name": "Python 3 (ipykernel)",
   "language": "python",
   "name": "python3"
  },
  "language_info": {
   "codemirror_mode": {
    "name": "ipython",
    "version": 3
   },
   "file_extension": ".py",
   "mimetype": "text/x-python",
   "name": "python",
   "nbconvert_exporter": "python",
   "pygments_lexer": "ipython3",
   "version": "3.8.8"
  }
 },
 "nbformat": 4,
 "nbformat_minor": 5
}
