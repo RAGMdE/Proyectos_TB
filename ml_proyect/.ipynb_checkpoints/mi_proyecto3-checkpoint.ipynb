{
 "cells": [
  {
   "cell_type": "code",
   "execution_count": 5,
   "id": "ed479e5b-5561-46ce-aab8-c2ffa122245e",
   "metadata": {},
   "outputs": [
    {
     "name": "stderr",
     "output_type": "stream",
     "text": [
      "C:\\Users\\ragod\\anaconda3\\lib\\site-packages\\numpy\\_distributor_init.py:30: UserWarning: loaded more than 1 DLL from .libs:\n",
      "C:\\Users\\ragod\\anaconda3\\lib\\site-packages\\numpy\\.libs\\libopenblas.EL2C6PLE4ZYW3ECEVIV3OXXGRN2NRFM2.gfortran-win_amd64.dll\n",
      "C:\\Users\\ragod\\anaconda3\\lib\\site-packages\\numpy\\.libs\\libopenblas.WCDJNK7YVMPZQ2ME2ZZHJJRJ3JIKNDB7.gfortran-win_amd64.dll\n",
      "  warnings.warn(\"loaded more than 1 DLL from .libs:\"\n",
      "<frozen importlib._bootstrap>:219: RuntimeWarning: scipy._lib.messagestream.MessageStream size changed, may indicate binary incompatibility. Expected 56 from C header, got 64 from PyObject\n"
     ]
    }
   ],
   "source": [
    "# Tratamiento de datos\n",
    "# ==============================================================================\n",
    "import numpy as np\n",
    "import pandas as pd\n",
    "\n",
    "# Gráficos\n",
    "# ==============================================================================\n",
    "import matplotlib.pyplot as plt\n",
    "import seaborn as sns\n",
    "%matplotlib inline\n",
    "plt.style.use('fivethirtyeight')\n",
    "\n",
    "# Modelado\n",
    "# ==============================================================================\n",
    "from sklearn.neural_network import MLPRegressor\n",
    "from sklearn.compose import ColumnTransformer\n",
    "from sklearn.preprocessing import OneHotEncoder\n",
    "from sklearn.preprocessing import StandardScaler\n",
    "from sklearn.compose import make_column_selector\n",
    "from sklearn.pipeline import Pipeline\n",
    "from sklearn.metrics import mean_squared_error\n",
    "from sklearn.model_selection import RandomizedSearchCV\n",
    "from sklearn.model_selection import KFold\n",
    "from sklearn import set_config\n",
    "import multiprocessing\n",
    "\n",
    "# Configuración warnings\n",
    "# ==============================================================================\n",
    "import warnings\n",
    "warnings.filterwarnings('ignore')\n"
   ]
  },
  {
   "cell_type": "code",
   "execution_count": 6,
   "id": "8793186e-e709-4a5b-a409-ca597f68ad7c",
   "metadata": {},
   "outputs": [],
   "source": [
    "# Descarga de datos\n",
    "# ==============================================================================\n",
    "df_lici1   = pd.read_excel(r'C:\\Users\\ragod\\Desktop\\Contratos2\\2021.xlsx', sheet_name='Licitaciones')\n",
    "df_result1 = pd.read_excel(r'C:\\Users\\ragod\\Desktop\\Contratos2\\2021.xlsx', sheet_name='Resultados')\n",
    "\n",
    "# Se renombran las columnas para que sean más descriptivas/cortas\n",
    "nuevas_col_lici =['identificador','link','fecha',\n",
    "       'vigencia',\n",
    "       'precio_lici',\n",
    "       'cpv',\n",
    "       'tipo_cont',\n",
    "       'org_cont',\n",
    "       'tipo_admi',\n",
    "        'tipo_pro',\n",
    "        'sist_cont',\n",
    "        'subcontratacion']\n",
    "nuevas_col_result =['identificador', 'link','fecha','resultado',\n",
    "       'precio_min',\n",
    "       'precio_max',\n",
    "       'baja_tem',\n",
    "       'precio_adj_sin_imp',\n",
    "       'precio_adj_con_imp']\n",
    "\n",
    "df_lici1=df_lici1.rename(columns={k:v for k,v in zip(df_lici1.columns, nuevas_col_lici)})\n",
    "df_result1=df_result1.rename(columns={k:v for k,v in zip(df_result1.columns, nuevas_col_result)})"
   ]
  },
  {
   "cell_type": "code",
   "execution_count": 7,
   "id": "0001ad63-fb50-45d1-a126-bdeaa2107b72",
   "metadata": {},
   "outputs": [
    {
     "name": "stdout",
     "output_type": "stream",
     "text": [
      "<class 'pandas.core.frame.DataFrame'>\n",
      "RangeIndex: 145470 entries, 0 to 145469\n",
      "Data columns (total 12 columns):\n",
      " #   Column           Non-Null Count   Dtype         \n",
      "---  ------           --------------   -----         \n",
      " 0   identificador    145470 non-null  int64         \n",
      " 1   link             145470 non-null  object        \n",
      " 2   fecha            145470 non-null  datetime64[ns]\n",
      " 3   vigencia         145470 non-null  object        \n",
      " 4   precio_lici      144780 non-null  float64       \n",
      " 5   cpv              144131 non-null  object        \n",
      " 6   tipo_cont        145470 non-null  object        \n",
      " 7   org_cont         145470 non-null  object        \n",
      " 8   tipo_admi        145470 non-null  object        \n",
      " 9   tipo_pro         145470 non-null  object        \n",
      " 10  sist_cont        141855 non-null  object        \n",
      " 11  subcontratacion  20249 non-null   object        \n",
      "dtypes: datetime64[ns](1), float64(1), int64(1), object(9)\n",
      "memory usage: 13.3+ MB\n",
      "<class 'pandas.core.frame.DataFrame'>\n",
      "RangeIndex: 180656 entries, 0 to 180655\n",
      "Data columns (total 9 columns):\n",
      " #   Column              Non-Null Count   Dtype         \n",
      "---  ------              --------------   -----         \n",
      " 0   identificador       180656 non-null  int64         \n",
      " 1   link                180656 non-null  object        \n",
      " 2   fecha               180656 non-null  datetime64[ns]\n",
      " 3   resultado           180656 non-null  object        \n",
      " 4   precio_min          91409 non-null   float64       \n",
      " 5   precio_max          93922 non-null   float64       \n",
      " 6   baja_tem            21950 non-null   float64       \n",
      " 7   precio_adj_sin_imp  163306 non-null  float64       \n",
      " 8   precio_adj_con_imp  163306 non-null  float64       \n",
      "dtypes: datetime64[ns](1), float64(5), int64(1), object(2)\n",
      "memory usage: 12.4+ MB\n"
     ]
    }
   ],
   "source": [
    "# Tipo de cada columna\n",
    "# ==============================================================================\n",
    "\n",
    "df_lici1.info()\n",
    "df_result1.info()"
   ]
  },
  {
   "cell_type": "code",
   "execution_count": 8,
   "id": "456e2607-94c1-4f89-8c24-6ad42bf716d9",
   "metadata": {},
   "outputs": [],
   "source": [
    "#Limpieza básica\n",
    "#=======================================================\n",
    "#Eliminacion columnas por no ser significativas\n",
    "df_lici1.drop(['link','fecha','vigencia','org_cont','tipo_admi','subcontratacion'],axis = 1,inplace = True)\n",
    "df_result1.drop(['link','fecha'],axis = 1,inplace = True)"
   ]
  },
  {
   "cell_type": "code",
   "execution_count": 9,
   "id": "b00834e6-d88e-45c3-81bc-6c99ea335d2b",
   "metadata": {},
   "outputs": [],
   "source": [
    "# Modificaciones de df_lici_1\n",
    "df_lici2 = df_lici1\n",
    "df_lici2.identificador = df_lici2.identificador.astype('string')\n",
    "\n",
    "#Modifciaciones de df_resutl1\n",
    "df_result2 = df_result1\n",
    "df_result2.identificador = df_result2.identificador.astype('string')\n",
    "df_result2 = df_result2.fillna(0)"
   ]
  },
  {
   "cell_type": "code",
   "execution_count": 10,
   "id": "44a29c31-290c-4d02-9136-bc2b242cf669",
   "metadata": {},
   "outputs": [],
   "source": [
    "# Seleccion solo de los adjudicados.\n",
    "#=====================================================================\n",
    "#Aquellos que tienen un lote no adjudicado se eliminan todos por no tener detalle de licitacion\n",
    "#identificacion no adjudicados en resultados\n",
    "lista_no_adjudica = df_result2.identificador[df_result2.resultado != 'Adjudicado']\n",
    "lista_no_adjudica_result_index = df_result2[df_result2.identificador.isin(lista_no_adjudica)].index\n",
    "\n",
    "#deteccion de no adjuidcados en liccitaciones\n",
    "lista_no_adjudicados=list(lista_no_adjudica.unique())\n",
    "lista_no_adjudica_lici_index = df_lici2[df_lici2.identificador.isin(lista_no_adjudicados)].index\n",
    "\n",
    "#Deteccion de adjudicados\n",
    "licitaciones_adjudicadas_index=[i for i in df_lici2.index if i not in lista_no_adjudica_lici_index]\n",
    "resultados_adjudicados_index=[i for i in df_result2.index if i not in lista_no_adjudica_result_index]"
   ]
  },
  {
   "cell_type": "code",
   "execution_count": 11,
   "id": "6db135dc-90a8-4b43-90a8-46019276ec96",
   "metadata": {},
   "outputs": [],
   "source": [
    "# Eliminacion de no ejecutados\n",
    "df_lici3 = df_lici2.iloc[licitaciones_adjudicadas_index].reset_index(drop=True)\n",
    "df_result3   = df_result2.iloc[resultados_adjudicados_index].reset_index(drop=True)\n"
   ]
  },
  {
   "cell_type": "code",
   "execution_count": 12,
   "id": "f4627152-ed3a-4dc2-810a-18686c95c0c4",
   "metadata": {},
   "outputs": [],
   "source": [
    "# Elimino aquellos adjudicados con precio de adjudicacion 0\n",
    "\n",
    "df_result3 = df_result3[df_result3.precio_adj_sin_imp != 0]"
   ]
  },
  {
   "cell_type": "code",
   "execution_count": 13,
   "id": "729c8d16-5443-4f59-ab45-f261c1f51dcb",
   "metadata": {},
   "outputs": [],
   "source": [
    "# Agrupacion de resultados por identificador\n",
    "\n",
    "df_result4 = df_result3.groupby('identificador',as_index = False).sum()\n"
   ]
  },
  {
   "cell_type": "code",
   "execution_count": 14,
   "id": "c2469da5-5093-4a23-bead-071e1f2829a2",
   "metadata": {
    "tags": []
   },
   "outputs": [],
   "source": [
    "#Asignacion de valors max y min cuando son 0.\n",
    "df_result4.loc[(df_result4.precio_min==0)&(df_result4.precio_max==0),['precio_min','precio_max']]=df_result4['precio_adj_sin_imp']"
   ]
  },
  {
   "cell_type": "code",
   "execution_count": 15,
   "id": "c087a504-db7b-4e6b-84a5-53a77b725885",
   "metadata": {},
   "outputs": [
    {
     "data": {
      "text/html": [
       "<div>\n",
       "<style scoped>\n",
       "    .dataframe tbody tr th:only-of-type {\n",
       "        vertical-align: middle;\n",
       "    }\n",
       "\n",
       "    .dataframe tbody tr th {\n",
       "        vertical-align: top;\n",
       "    }\n",
       "\n",
       "    .dataframe thead th {\n",
       "        text-align: right;\n",
       "    }\n",
       "</style>\n",
       "<table border=\"1\" class=\"dataframe\">\n",
       "  <thead>\n",
       "    <tr style=\"text-align: right;\">\n",
       "      <th></th>\n",
       "      <th>identificador</th>\n",
       "      <th>precio_lici</th>\n",
       "      <th>cpv</th>\n",
       "      <th>tipo_cont</th>\n",
       "      <th>tipo_pro</th>\n",
       "      <th>sist_cont</th>\n",
       "    </tr>\n",
       "  </thead>\n",
       "  <tbody>\n",
       "    <tr>\n",
       "      <th>0</th>\n",
       "      <td>1001606</td>\n",
       "      <td>910892.00</td>\n",
       "      <td>34933000;</td>\n",
       "      <td>Suministros</td>\n",
       "      <td>Negociado con publicidad</td>\n",
       "      <td>NaN</td>\n",
       "    </tr>\n",
       "    <tr>\n",
       "      <th>1</th>\n",
       "      <td>1002267</td>\n",
       "      <td>240000.00</td>\n",
       "      <td>98351000;</td>\n",
       "      <td>Gestión de Servicios Públicos</td>\n",
       "      <td>Abierto</td>\n",
       "      <td>NaN</td>\n",
       "    </tr>\n",
       "    <tr>\n",
       "      <th>2</th>\n",
       "      <td>1007145</td>\n",
       "      <td>2472400.00</td>\n",
       "      <td>32524000;</td>\n",
       "      <td>Suministros</td>\n",
       "      <td>Negociado con publicidad</td>\n",
       "      <td>NaN</td>\n",
       "    </tr>\n",
       "    <tr>\n",
       "      <th>3</th>\n",
       "      <td>1007418</td>\n",
       "      <td>3720000.00</td>\n",
       "      <td>90910000;</td>\n",
       "      <td>Servicios</td>\n",
       "      <td>Abierto</td>\n",
       "      <td>NaN</td>\n",
       "    </tr>\n",
       "    <tr>\n",
       "      <th>4</th>\n",
       "      <td>1007814</td>\n",
       "      <td>261584.00</td>\n",
       "      <td>98341130;</td>\n",
       "      <td>Servicios</td>\n",
       "      <td>Normas internas</td>\n",
       "      <td>No aplica</td>\n",
       "    </tr>\n",
       "    <tr>\n",
       "      <th>...</th>\n",
       "      <td>...</td>\n",
       "      <td>...</td>\n",
       "      <td>...</td>\n",
       "      <td>...</td>\n",
       "      <td>...</td>\n",
       "      <td>...</td>\n",
       "    </tr>\n",
       "    <tr>\n",
       "      <th>134190</th>\n",
       "      <td>985152</td>\n",
       "      <td>1322880.00</td>\n",
       "      <td>60160000;</td>\n",
       "      <td>Servicios</td>\n",
       "      <td>Negociado con publicidad</td>\n",
       "      <td>NaN</td>\n",
       "    </tr>\n",
       "    <tr>\n",
       "      <th>134191</th>\n",
       "      <td>985194</td>\n",
       "      <td>27239507.00</td>\n",
       "      <td>45234110;</td>\n",
       "      <td>Obras</td>\n",
       "      <td>Abierto</td>\n",
       "      <td>NaN</td>\n",
       "    </tr>\n",
       "    <tr>\n",
       "      <th>134192</th>\n",
       "      <td>991030</td>\n",
       "      <td>1383385.39</td>\n",
       "      <td>45331000;</td>\n",
       "      <td>Obras</td>\n",
       "      <td>Negociado con publicidad</td>\n",
       "      <td>No aplica</td>\n",
       "    </tr>\n",
       "    <tr>\n",
       "      <th>134194</th>\n",
       "      <td>996489</td>\n",
       "      <td>554040.00</td>\n",
       "      <td>50413200;</td>\n",
       "      <td>Servicios</td>\n",
       "      <td>Abierto</td>\n",
       "      <td>NaN</td>\n",
       "    </tr>\n",
       "    <tr>\n",
       "      <th>134195</th>\n",
       "      <td>996620</td>\n",
       "      <td>NaN</td>\n",
       "      <td>71311100;71318000;71322000;</td>\n",
       "      <td>Servicios</td>\n",
       "      <td>Abierto</td>\n",
       "      <td>NaN</td>\n",
       "    </tr>\n",
       "  </tbody>\n",
       "</table>\n",
       "<p>106421 rows × 6 columns</p>\n",
       "</div>"
      ],
      "text/plain": [
       "       identificador  precio_lici                          cpv  \\\n",
       "0            1001606    910892.00                    34933000;   \n",
       "1            1002267    240000.00                    98351000;   \n",
       "2            1007145   2472400.00                    32524000;   \n",
       "3            1007418   3720000.00                    90910000;   \n",
       "4            1007814    261584.00                    98341130;   \n",
       "...              ...          ...                          ...   \n",
       "134190        985152   1322880.00                    60160000;   \n",
       "134191        985194  27239507.00                    45234110;   \n",
       "134192        991030   1383385.39                    45331000;   \n",
       "134194        996489    554040.00                    50413200;   \n",
       "134195        996620          NaN  71311100;71318000;71322000;   \n",
       "\n",
       "                            tipo_cont                  tipo_pro  sist_cont  \n",
       "0                         Suministros  Negociado con publicidad        NaN  \n",
       "1       Gestión de Servicios Públicos                   Abierto        NaN  \n",
       "2                         Suministros  Negociado con publicidad        NaN  \n",
       "3                           Servicios                   Abierto        NaN  \n",
       "4                           Servicios           Normas internas  No aplica  \n",
       "...                               ...                       ...        ...  \n",
       "134190                      Servicios  Negociado con publicidad        NaN  \n",
       "134191                          Obras                   Abierto        NaN  \n",
       "134192                          Obras  Negociado con publicidad  No aplica  \n",
       "134194                      Servicios                   Abierto        NaN  \n",
       "134195                      Servicios                   Abierto        NaN  \n",
       "\n",
       "[106421 rows x 6 columns]"
      ]
     },
     "execution_count": 15,
     "metadata": {},
     "output_type": "execute_result"
    }
   ],
   "source": [
    "#Selección de licitaciones aquellas que tienen adjudicaciones\n",
    "#==============================================================\n",
    "identificador_result = list(df_result4.identificador)\n",
    "df_lici3[df_lici3['identificador'].isin ( df_result4.identificador)]"
   ]
  },
  {
   "cell_type": "code",
   "execution_count": 16,
   "id": "56e7afd9-3199-4561-ba5a-b296b352dede",
   "metadata": {},
   "outputs": [],
   "source": [
    "#Creacion de tabla única\n",
    "#==============================================\n",
    "df_final=df_lici3.join(df_result4.set_index('identificador'), on ='identificador', how = 'right')"
   ]
  },
  {
   "cell_type": "code",
   "execution_count": 17,
   "id": "ad2534ba-8ddd-4ef2-90da-28b833e89b18",
   "metadata": {},
   "outputs": [],
   "source": [
    "#Limpieza de set unico\n",
    "#=========================================================================\n",
    "# elimino licitaciones sin precio\n",
    "df_final2=df_final[df_final.precio_lici.isnull()== False]\n",
    "\n",
    "#elimino licitaciones menores que el adjudicado\n",
    "\n",
    "df_final2 = df_final2[(df_final2.precio_lici < df_final2.precio_adj_sin_imp) == False]\n",
    "\n",
    "#elimino licitaciones con importe 0\n",
    "\n",
    "df_final2 = df_final2[df_final2.precio_lici != 0 ]\n",
    "\n",
    "# elimino las licitaciones con cpv nulo\n",
    "\n",
    "df_final2=df_final2[df_final2.cpv.isnull()== False]\n"
   ]
  },
  {
   "cell_type": "code",
   "execution_count": 18,
   "id": "15200425-2a9c-48a1-bcc9-ee5b21fed698",
   "metadata": {},
   "outputs": [],
   "source": [
    "#Estudio de variables.- Tipo de procedimiento tipo_pro\n",
    "#==============================================================\n",
    "df_final2.groupby('tipo_pro').count()\n",
    "\n",
    "#Se mantienen solo Abierto y Abierto simplificado. Son los procedieminetos donde predomina critero precio.\n",
    "df_final3 =df_final2[(df_final2.tipo_pro=='Abierto')|(df_final2.tipo_pro =='Abierto simplificado')]"
   ]
  },
  {
   "cell_type": "code",
   "execution_count": 19,
   "id": "eb9eccfa-c37f-4753-adb0-bbb7c56c01c4",
   "metadata": {},
   "outputs": [],
   "source": [
    "#Estudio de variables.- Tipo de contrato tipo_cont\n",
    "#==============================================================\n",
    "df_final3.groupby('tipo_cont').count()\n",
    "\n",
    "# Seleccionamos los tipos de contratos más comunes: Obras, Suministros y Servicios\n",
    "\n",
    "df_final4 = df_final3[(df_final3.tipo_cont =='Obras')|(df_final3.tipo_cont =='Suministros')|(df_final3.tipo_cont =='Servicios')].reset_index(drop=True)"
   ]
  },
  {
   "cell_type": "code",
   "execution_count": 49,
   "id": "386c6b1c-fec4-44d2-b7bf-c1389f532956",
   "metadata": {},
   "outputs": [],
   "source": [
    "#Eliminacion de columnas que se desconce su valor antes de la adjudicación y redundante\n",
    "#cpv, sist_cont,precio_min, precio_max, precio_adj_con_imp\n",
    "\n",
    "df_final5=df_final4[['identificador','precio_lici', 'precio_adj_sin_imp','tipo_cont','tipo_pro']]"
   ]
  },
  {
   "cell_type": "code",
   "execution_count": 50,
   "id": "29652954-fa38-4581-8be1-a692e1496169",
   "metadata": {},
   "outputs": [
    {
     "data": {
      "text/html": [
       "<style type=\"text/css\">\n",
       "</style>\n",
       "<table id=\"T_d23f8\">\n",
       "  <thead>\n",
       "    <tr>\n",
       "      <th class=\"blank level0\" >&nbsp;</th>\n",
       "      <th id=\"T_d23f8_level0_col0\" class=\"col_heading level0 col0\" >precio_lici</th>\n",
       "      <th id=\"T_d23f8_level0_col1\" class=\"col_heading level0 col1\" >precio_adj_sin_imp</th>\n",
       "    </tr>\n",
       "  </thead>\n",
       "  <tbody>\n",
       "    <tr>\n",
       "      <th id=\"T_d23f8_level0_row0\" class=\"row_heading level0 row0\" >count</th>\n",
       "      <td id=\"T_d23f8_row0_col0\" class=\"data row0 col0\" >69823.00</td>\n",
       "      <td id=\"T_d23f8_row0_col1\" class=\"data row0 col1\" >69823.00</td>\n",
       "    </tr>\n",
       "    <tr>\n",
       "      <th id=\"T_d23f8_level0_row1\" class=\"row_heading level0 row1\" >mean</th>\n",
       "      <td id=\"T_d23f8_row1_col0\" class=\"data row1 col0\" >814211.98</td>\n",
       "      <td id=\"T_d23f8_row1_col1\" class=\"data row1 col1\" >445106.87</td>\n",
       "    </tr>\n",
       "    <tr>\n",
       "      <th id=\"T_d23f8_level0_row2\" class=\"row_heading level0 row2\" >std</th>\n",
       "      <td id=\"T_d23f8_row2_col0\" class=\"data row2 col0\" >9950806.94</td>\n",
       "      <td id=\"T_d23f8_row2_col1\" class=\"data row2 col1\" >6894640.47</td>\n",
       "    </tr>\n",
       "    <tr>\n",
       "      <th id=\"T_d23f8_level0_row3\" class=\"row_heading level0 row3\" >min</th>\n",
       "      <td id=\"T_d23f8_row3_col0\" class=\"data row3 col0\" >0.01</td>\n",
       "      <td id=\"T_d23f8_row3_col1\" class=\"data row3 col1\" >0.01</td>\n",
       "    </tr>\n",
       "    <tr>\n",
       "      <th id=\"T_d23f8_level0_row4\" class=\"row_heading level0 row4\" >25%</th>\n",
       "      <td id=\"T_d23f8_row4_col0\" class=\"data row4 col0\" >39480.41</td>\n",
       "      <td id=\"T_d23f8_row4_col1\" class=\"data row4 col1\" >22502.47</td>\n",
       "    </tr>\n",
       "    <tr>\n",
       "      <th id=\"T_d23f8_level0_row5\" class=\"row_heading level0 row5\" >50%</th>\n",
       "      <td id=\"T_d23f8_row5_col0\" class=\"data row5 col0\" >90000.00</td>\n",
       "      <td id=\"T_d23f8_row5_col1\" class=\"data row5 col1\" >56412.52</td>\n",
       "    </tr>\n",
       "    <tr>\n",
       "      <th id=\"T_d23f8_level0_row6\" class=\"row_heading level0 row6\" >75%</th>\n",
       "      <td id=\"T_d23f8_row6_col0\" class=\"data row6 col0\" >250605.47</td>\n",
       "      <td id=\"T_d23f8_row6_col1\" class=\"data row6 col1\" >158288.40</td>\n",
       "    </tr>\n",
       "    <tr>\n",
       "      <th id=\"T_d23f8_level0_row7\" class=\"row_heading level0 row7\" >max</th>\n",
       "      <td id=\"T_d23f8_row7_col0\" class=\"data row7 col0\" >1584728506.91</td>\n",
       "      <td id=\"T_d23f8_row7_col1\" class=\"data row7 col1\" >1487654353.47</td>\n",
       "    </tr>\n",
       "  </tbody>\n",
       "</table>\n"
      ],
      "text/plain": [
       "<pandas.io.formats.style.Styler at 0x14849af9a30>"
      ]
     },
     "execution_count": 50,
     "metadata": {},
     "output_type": "execute_result"
    }
   ],
   "source": [
    "#Descripcion del set final\n",
    "df_final5.describe().style.format(precision=2)"
   ]
  },
  {
   "cell_type": "code",
   "execution_count": 51,
   "id": "9b350591-bc6c-49bc-b0a0-33e665c7f099",
   "metadata": {},
   "outputs": [],
   "source": [
    "#Eliminacion de licitación con importes muy altos\n",
    "# Se consideran anomalas las licitaciones superiores a 50.000.000\n",
    "\n",
    "df_final5=df_final5.drop(df_final5[df_final5['precio_lici']>50000000].index)\n",
    "df_final5 =df_final5.reset_index(drop=True)"
   ]
  },
  {
   "cell_type": "code",
   "execution_count": 52,
   "id": "39001a94-4082-4850-b0f1-172757e21d28",
   "metadata": {},
   "outputs": [
    {
     "data": {
      "text/plain": [
       "precio_lici           7642\n",
       "precio_adj_sin_imp    6953\n",
       "Name: outliers, dtype: int64"
      ]
     },
     "execution_count": 52,
     "metadata": {},
     "output_type": "execute_result"
    }
   ],
   "source": [
    "#Outliers\n",
    "#==========================================================\n",
    "stats=df_final5.describe().T\n",
    "\n",
    "stats['IQR']=stats['75%'] - stats['25%']\n",
    "\n",
    "stats.style.format(precision =2)\n",
    "\n",
    "outliers=pd.DataFrame(columns=df_final5.columns)\n",
    "for e in stats.index:\n",
    "    \n",
    "    iqr=stats.at[e, 'IQR']\n",
    "    \n",
    "    cutoff=2.5*iqr\n",
    "    \n",
    "    lower=stats.at[e, '25%']-cutoff\n",
    "    upper=stats.at[e, '75%']+cutoff\n",
    "    \n",
    "    results=df_final5[(df_final5[e]<lower) | (df_final5[e]>upper)].copy()\n",
    "    \n",
    "    results['outliers']=e\n",
    "    \n",
    "    outliers=outliers.append(results, sort=True)\n",
    "    \n",
    "outliers['outliers'].value_counts()\n",
    "\n",
    "\n"
   ]
  },
  {
   "cell_type": "code",
   "execution_count": 53,
   "id": "81c9ae9b-2e08-4ad3-970d-ad389a19e16d",
   "metadata": {},
   "outputs": [],
   "source": [
    "# Creacion df sin outliers\n",
    "lista_outliers = list(outliers.identificador.unique())\n",
    "lista_outliers_index =df_final5[df_final5.identificador.isin(lista_outliers)].index\n",
    "lista_final_index = [i for i in df_final5.index if i not in lista_outliers_index]\n",
    "\n",
    "datos = df_final5.iloc[lista_final_index].reset_index(drop=True)\n"
   ]
  },
  {
   "cell_type": "code",
   "execution_count": 54,
   "id": "20f31f61-bf48-40d1-b92a-9c4cb731a0c8",
   "metadata": {},
   "outputs": [
    {
     "data": {
      "text/html": [
       "<div>\n",
       "<style scoped>\n",
       "    .dataframe tbody tr th:only-of-type {\n",
       "        vertical-align: middle;\n",
       "    }\n",
       "\n",
       "    .dataframe tbody tr th {\n",
       "        vertical-align: top;\n",
       "    }\n",
       "\n",
       "    .dataframe thead th {\n",
       "        text-align: right;\n",
       "    }\n",
       "</style>\n",
       "<table border=\"1\" class=\"dataframe\">\n",
       "  <thead>\n",
       "    <tr style=\"text-align: right;\">\n",
       "      <th></th>\n",
       "      <th>identificador</th>\n",
       "      <th>precio_lici</th>\n",
       "      <th>precio_adj_sin_imp</th>\n",
       "      <th>tipo_cont</th>\n",
       "      <th>tipo_pro</th>\n",
       "    </tr>\n",
       "  </thead>\n",
       "  <tbody>\n",
       "  </tbody>\n",
       "</table>\n",
       "</div>"
      ],
      "text/plain": [
       "Empty DataFrame\n",
       "Columns: [identificador, precio_lici, precio_adj_sin_imp, tipo_cont, tipo_pro]\n",
       "Index: []"
      ]
     },
     "execution_count": 54,
     "metadata": {},
     "output_type": "execute_result"
    }
   ],
   "source": [
    "df_final5[(df_final5['precio_lici']< df_final5['precio_adj_sin_imp'])==True]"
   ]
  },
  {
   "cell_type": "code",
   "execution_count": null,
   "id": "b269e5b1-905b-4c3d-82f7-2614dafbc56e",
   "metadata": {},
   "outputs": [],
   "source": []
  },
  {
   "cell_type": "code",
   "execution_count": 55,
   "id": "f6315894-c25f-4ff5-ae40-6827dc32c24c",
   "metadata": {
    "tags": []
   },
   "outputs": [],
   "source": [
    "#Creacion variable porcentaje de licitacion\n",
    "#=========================================================\n",
    "# Dado que el precio_adj tiene una clara correlación con el de licitacion,se crea la vairable porcentaje\n",
    "datos['por_adj']=datos['precio_adj_sin_imp']/datos['precio_lici']\n",
    "datos = datos[['precio_lici','tipo_cont','tipo_pro','por_adj']]"
   ]
  },
  {
   "cell_type": "code",
   "execution_count": 56,
   "id": "599af9b0-fb24-4e4b-8ced-8065bd6a15b5",
   "metadata": {},
   "outputs": [],
   "source": [
    "datos.to_csv('datos.csv',index=False)"
   ]
  },
  {
   "cell_type": "code",
   "execution_count": 57,
   "id": "0a1ef7b4-052c-49c1-bb52-8a1e25635f14",
   "metadata": {
    "tags": []
   },
   "outputs": [
    {
     "data": {
      "image/png": "[encoded data removed]",
      "text/plain": [
       "<Figure size 432x216 with 1 Axes>"
      ]
     },
     "metadata": {},
     "output_type": "display_data"
    }
   ],
   "source": [
    "# Distribución variable respuesta\n",
    "# ==============================================================================\n",
    "fig, ax = plt.subplots(nrows=1, ncols=1, figsize=(6, 3))\n",
    "sns.histplot(data=datos, x='por_adj', kde=True,ax=ax)\n",
    "ax.set_title(\"Distribución por_adj\")\n",
    "ax.set_xlabel('por_adj');\n"
   ]
  },
  {
   "cell_type": "code",
   "execution_count": 62,
   "id": "a0ef37cc-5997-4866-9dac-ac8d42446e1e",
   "metadata": {
    "tags": []
   },
   "outputs": [
    {
     "data": {
      "image/png": "[encoded data removed]",
      "text/plain": [
       "<Figure size 864x504 with 2 Axes>"
      ]
     },
     "metadata": {},
     "output_type": "display_data"
    }
   ],
   "source": [
    "# Gráfico de distribución para cada variable numérica\n",
    "# ==============================================================================\n",
    "fig, axes = plt.subplots(nrows=1, ncols=2, figsize=(12, 7))\n",
    "axes = axes.flat\n",
    "columnas_numeric = datos.select_dtypes(include=['float64', 'int']).columns\n",
    "columnas_numeric = columnas_numeric.drop('por_adj')\n",
    "\n",
    "for i, colum in enumerate(columnas_numeric):\n",
    "    sns.histplot(\n",
    "        data    = datos,\n",
    "        x       = colum,\n",
    "        stat    = \"count\",\n",
    "        kde     = True,\n",
    "        color   = (list(plt.rcParams['axes.prop_cycle'])*2)[i][\"color\"],\n",
    "        line_kws= {'linewidth': 2},\n",
    "        alpha   = 0.3,\n",
    "        ax      = axes[i]\n",
    "    )\n",
    "    axes[i].set_title(colum, fontsize = 7, fontweight = \"bold\")\n",
    "    axes[i].tick_params(labelsize = 6)\n",
    "    axes[i].set_xlabel(\"\")\n",
    "    axes[i].set_ylabel(\"\")\n",
    "    \n",
    "    \n",
    "fig.tight_layout()\n",
    "plt.subplots_adjust(top = 0.9)\n",
    "fig.suptitle('Distribución variables numéricas', fontsize = 10, fontweight = \"bold\");"
   ]
  },
  {
   "cell_type": "code",
   "execution_count": 74,
   "id": "eb4516fe-1fc7-4db7-bf12-1abc4f07a4f4",
   "metadata": {
    "tags": []
   },
   "outputs": [
    {
     "ename": "IndexError",
     "evalue": "index 7 is out of bounds for axis 0 with size 3",
     "output_type": "error",
     "traceback": [
      "\u001b[1;31m---------------------------------------------------------------------------\u001b[0m",
      "\u001b[1;31mIndexError\u001b[0m                                Traceback (most recent call last)",
      "Input \u001b[1;32mIn [74]\u001b[0m, in \u001b[0;36m<cell line: 18>\u001b[1;34m()\u001b[0m\n\u001b[0;32m     17\u001b[0m \u001b[38;5;66;03m# Se eliminan los axes vacíos\u001b[39;00m\n\u001b[0;32m     18\u001b[0m \u001b[38;5;28;01mfor\u001b[39;00m i \u001b[38;5;129;01min\u001b[39;00m [\u001b[38;5;241m7\u001b[39m, \u001b[38;5;241m8\u001b[39m]:\n\u001b[1;32m---> 19\u001b[0m     fig\u001b[38;5;241m.\u001b[39mdelaxes(\u001b[43maxes\u001b[49m\u001b[43m[\u001b[49m\u001b[43mi\u001b[49m\u001b[43m]\u001b[49m)\n\u001b[0;32m     21\u001b[0m fig\u001b[38;5;241m.\u001b[39mtight_layout()\n",
      "\u001b[1;31mIndexError\u001b[0m: index 7 is out of bounds for axis 0 with size 3"
     ]
    },
    {
     "data": {
      "image/png": "[encoded data removed]",
      "text/plain": [
       "<Figure size 864x360 with 3 Axes>"
      ]
     },
     "metadata": {},
     "output_type": "display_data"
    }
   ],
   "source": [
    "# Variables cualitativas (tipo object)\n",
    "# ==============================================================================\n",
    "datos.select_dtypes(include=['object']).describe()\n",
    "\n",
    "\n",
    "# Gráfico para cada variable cualitativa\n",
    "# ==============================================================================\n",
    "fig, axes = plt.subplots(nrows=1, ncols=3, figsize=(12, 5))\n",
    "axes = axes.flat\n",
    "columnas_object = datos.select_dtypes(include=['object']).columns\n",
    "\n",
    "for i, colum in enumerate(columnas_object):\n",
    "    datos[colum].value_counts().plot.barh(ax = axes[i])\n",
    "    axes[i].set_title(colum, fontsize = 14)\n",
    "    axes[i].set_xlabel(\"\")\n",
    "\n",
    "# Se eliminan los axes vacíos\n",
    "for i in [7, 8]:\n",
    "    fig.delaxes(axes[i])\n",
    "    \n",
    "fig.tight_layout()"
   ]
  },
  {
   "cell_type": "code",
   "execution_count": 64,
   "id": "04179888-b2c9-4425-ad2c-47b2f07f6baa",
   "metadata": {
    "tags": []
   },
   "outputs": [],
   "source": [
    "# Reparto de datos en train y test\n",
    "# ==============================================================================\n",
    "from sklearn.model_selection import train_test_split\n",
    "\n",
    "X_train, X_test, y_train, y_test = train_test_split(\n",
    "                                        datos.drop('por_adj', axis = 'columns'),\n",
    "                                        datos['por_adj'],\n",
    "                                        train_size   = 0.8,\n",
    "                                        random_state = 42,\n",
    "                                        shuffle      = True\n",
    "                                    )"
   ]
  },
  {
   "cell_type": "code",
   "execution_count": 65,
   "id": "c74b082e-cb24-40a9-8f58-e1d795d12643",
   "metadata": {
    "tags": []
   },
   "outputs": [],
   "source": [
    "# Selección de las variables por típo\n",
    "# ==============================================================================\n",
    "# Se estandarizan las columnas numéricas y se hace one-hot-encoding de las \n",
    "# columnas cualitativas. Para mantener las columnas a las que no se les aplica \n",
    "# ninguna transformación se tiene que indicar remainder='passthrough'.\n",
    "\n",
    "# Identificación de columnas numéricas y categóricas\n",
    "numeric_cols = X_train.select_dtypes(include=['float64', 'int']).columns.to_list()\n",
    "cat_cols = X_train.select_dtypes(include=['object', 'category']).columns.to_list()\n",
    "\n",
    "\n",
    "# Transformaciones para las variables numéricas\n",
    "numeric_transformer = Pipeline(\n",
    "                        steps=[('scaler', StandardScaler())]\n",
    "                      )\n",
    "\n",
    "# Transformaciones para las variables categóricas\n",
    "categorical_transformer = Pipeline(\n",
    "                            steps=[('onehot', OneHotEncoder(handle_unknown='ignore'))]\n",
    "                          )\n",
    "\n",
    "preprocessor = ColumnTransformer(\n",
    "                    transformers=[\n",
    "                        ('numeric', numeric_transformer, numeric_cols),\n",
    "                        ('cat', categorical_transformer, cat_cols)\n",
    "                    ],\n",
    "                    remainder='passthrough'\n",
    "                )"
   ]
  },
  {
   "cell_type": "code",
   "execution_count": 66,
   "id": "84bf46ea-15fc-45a3-88b0-f8b325850ba7",
   "metadata": {
    "tags": []
   },
   "outputs": [
    {
     "data": {
      "text/html": [
       "<style>#sk-c6fbcc10-ebac-467f-b2f6-985b7575fc81 {color: black;background-color: white;}#sk-c6fbcc10-ebac-467f-b2f6-985b7575fc81 pre{padding: 0;}#sk-c6fbcc10-ebac-467f-b2f6-985b7575fc81 div.sk-toggleable {background-color: white;}#sk-c6fbcc10-ebac-467f-b2f6-985b7575fc81 label.sk-toggleable__label {cursor: pointer;display: block;width: 100%;margin-bottom: 0;padding: 0.3em;box-sizing: border-box;text-align: center;}#sk-c6fbcc10-ebac-467f-b2f6-985b7575fc81 label.sk-toggleable__label-arrow:before {content: \"▸\";float: left;margin-right: 0.25em;color: #696969;}#sk-c6fbcc10-ebac-467f-b2f6-985b7575fc81 label.sk-toggleable__label-arrow:hover:before {color: black;}#sk-c6fbcc10-ebac-467f-b2f6-985b7575fc81 div.sk-estimator:hover label.sk-toggleable__label-arrow:before {color: black;}#sk-c6fbcc10-ebac-467f-b2f6-985b7575fc81 div.sk-toggleable__content {max-height: 0;max-width: 0;overflow: hidden;text-align: left;background-color: #f0f8ff;}#sk-c6fbcc10-ebac-467f-b2f6-985b7575fc81 div.sk-toggleable__content pre {margin: 0.2em;color: black;border-radius: 0.25em;background-color: #f0f8ff;}#sk-c6fbcc10-ebac-467f-b2f6-985b7575fc81 input.sk-toggleable__control:checked~div.sk-toggleable__content {max-height: 200px;max-width: 100%;overflow: auto;}#sk-c6fbcc10-ebac-467f-b2f6-985b7575fc81 input.sk-toggleable__control:checked~label.sk-toggleable__label-arrow:before {content: \"▾\";}#sk-c6fbcc10-ebac-467f-b2f6-985b7575fc81 div.sk-estimator input.sk-toggleable__control:checked~label.sk-toggleable__label {background-color: #d4ebff;}#sk-c6fbcc10-ebac-467f-b2f6-985b7575fc81 div.sk-label input.sk-toggleable__control:checked~label.sk-toggleable__label {background-color: #d4ebff;}#sk-c6fbcc10-ebac-467f-b2f6-985b7575fc81 input.sk-hidden--visually {border: 0;clip: rect(1px 1px 1px 1px);clip: rect(1px, 1px, 1px, 1px);height: 1px;margin: -1px;overflow: hidden;padding: 0;position: absolute;width: 1px;}#sk-c6fbcc10-ebac-467f-b2f6-985b7575fc81 div.sk-estimator {font-family: monospace;background-color: #f0f8ff;border: 1px dotted black;border-radius: 0.25em;box-sizing: border-box;margin-bottom: 0.5em;}#sk-c6fbcc10-ebac-467f-b2f6-985b7575fc81 div.sk-estimator:hover {background-color: #d4ebff;}#sk-c6fbcc10-ebac-467f-b2f6-985b7575fc81 div.sk-parallel-item::after {content: \"\";width: 100%;border-bottom: 1px solid gray;flex-grow: 1;}#sk-c6fbcc10-ebac-467f-b2f6-985b7575fc81 div.sk-label:hover label.sk-toggleable__label {background-color: #d4ebff;}#sk-c6fbcc10-ebac-467f-b2f6-985b7575fc81 div.sk-serial::before {content: \"\";position: absolute;border-left: 1px solid gray;box-sizing: border-box;top: 2em;bottom: 0;left: 50%;}#sk-c6fbcc10-ebac-467f-b2f6-985b7575fc81 div.sk-serial {display: flex;flex-direction: column;align-items: center;background-color: white;padding-right: 0.2em;padding-left: 0.2em;}#sk-c6fbcc10-ebac-467f-b2f6-985b7575fc81 div.sk-item {z-index: 1;}#sk-c6fbcc10-ebac-467f-b2f6-985b7575fc81 div.sk-parallel {display: flex;align-items: stretch;justify-content: center;background-color: white;}#sk-c6fbcc10-ebac-467f-b2f6-985b7575fc81 div.sk-parallel::before {content: \"\";position: absolute;border-left: 1px solid gray;box-sizing: border-box;top: 2em;bottom: 0;left: 50%;}#sk-c6fbcc10-ebac-467f-b2f6-985b7575fc81 div.sk-parallel-item {display: flex;flex-direction: column;position: relative;background-color: white;}#sk-c6fbcc10-ebac-467f-b2f6-985b7575fc81 div.sk-parallel-item:first-child::after {align-self: flex-end;width: 50%;}#sk-c6fbcc10-ebac-467f-b2f6-985b7575fc81 div.sk-parallel-item:last-child::after {align-self: flex-start;width: 50%;}#sk-c6fbcc10-ebac-467f-b2f6-985b7575fc81 div.sk-parallel-item:only-child::after {width: 0;}#sk-c6fbcc10-ebac-467f-b2f6-985b7575fc81 div.sk-dashed-wrapped {border: 1px dashed gray;margin: 0 0.4em 0.5em 0.4em;box-sizing: border-box;padding-bottom: 0.4em;background-color: white;position: relative;}#sk-c6fbcc10-ebac-467f-b2f6-985b7575fc81 div.sk-label label {font-family: monospace;font-weight: bold;background-color: white;display: inline-block;line-height: 1.2em;}#sk-c6fbcc10-ebac-467f-b2f6-985b7575fc81 div.sk-label-container {position: relative;z-index: 2;text-align: center;}#sk-c6fbcc10-ebac-467f-b2f6-985b7575fc81 div.sk-container {/* jupyter's `normalize.less` sets `[hidden] { display: none; }` but bootstrap.min.css set `[hidden] { display: none !important; }` so we also need the `!important` here to be able to override the default hidden behavior on the sphinx rendered scikit-learn.org. See: https://github.com/scikit-learn/scikit-learn/issues/21755 */display: inline-block !important;position: relative;}#sk-c6fbcc10-ebac-467f-b2f6-985b7575fc81 div.sk-text-repr-fallback {display: none;}</style><div id=\"sk-c6fbcc10-ebac-467f-b2f6-985b7575fc81\" class=\"sk-top-container\"><div class=\"sk-text-repr-fallback\"><pre>ColumnTransformer(remainder=&#x27;passthrough&#x27;,\n",
       "                  transformers=[(&#x27;numeric&#x27;,\n",
       "                                 Pipeline(steps=[(&#x27;scaler&#x27;, StandardScaler())]),\n",
       "                                 [&#x27;precio_lici&#x27;]),\n",
       "                                (&#x27;cat&#x27;,\n",
       "                                 Pipeline(steps=[(&#x27;onehot&#x27;,\n",
       "                                                  OneHotEncoder(handle_unknown=&#x27;ignore&#x27;))]),\n",
       "                                 [&#x27;tipo_cont&#x27;, &#x27;tipo_pro&#x27;])])</pre><b>Please rerun this cell to show the HTML repr or trust the notebook.</b></div><div class=\"sk-container\" hidden><div class=\"sk-item sk-dashed-wrapped\"><div class=\"sk-label-container\"><div class=\"sk-label sk-toggleable\"><input class=\"sk-toggleable__control sk-hidden--visually\" id=\"8157ab9e-29d0-4cad-a196-0b0e643ce47b\" type=\"checkbox\" ><label for=\"8157ab9e-29d0-4cad-a196-0b0e643ce47b\" class=\"sk-toggleable__label sk-toggleable__label-arrow\">ColumnTransformer</label><div class=\"sk-toggleable__content\"><pre>ColumnTransformer(remainder=&#x27;passthrough&#x27;,\n",
       "                  transformers=[(&#x27;numeric&#x27;,\n",
       "                                 Pipeline(steps=[(&#x27;scaler&#x27;, StandardScaler())]),\n",
       "                                 [&#x27;precio_lici&#x27;]),\n",
       "                                (&#x27;cat&#x27;,\n",
       "                                 Pipeline(steps=[(&#x27;onehot&#x27;,\n",
       "                                                  OneHotEncoder(handle_unknown=&#x27;ignore&#x27;))]),\n",
       "                                 [&#x27;tipo_cont&#x27;, &#x27;tipo_pro&#x27;])])</pre></div></div></div><div class=\"sk-parallel\"><div class=\"sk-parallel-item\"><div class=\"sk-item\"><div class=\"sk-label-container\"><div class=\"sk-label sk-toggleable\"><input class=\"sk-toggleable__control sk-hidden--visually\" id=\"892f8d1b-ba6f-4d45-bc04-a58df2985150\" type=\"checkbox\" ><label for=\"892f8d1b-ba6f-4d45-bc04-a58df2985150\" class=\"sk-toggleable__label sk-toggleable__label-arrow\">numeric</label><div class=\"sk-toggleable__content\"><pre>[&#x27;precio_lici&#x27;]</pre></div></div></div><div class=\"sk-serial\"><div class=\"sk-item\"><div class=\"sk-serial\"><div class=\"sk-item\"><div class=\"sk-estimator sk-toggleable\"><input class=\"sk-toggleable__control sk-hidden--visually\" id=\"edd981d4-12e1-4ff5-aad5-0bcbca3c1446\" type=\"checkbox\" ><label for=\"edd981d4-12e1-4ff5-aad5-0bcbca3c1446\" class=\"sk-toggleable__label sk-toggleable__label-arrow\">StandardScaler</label><div class=\"sk-toggleable__content\"><pre>StandardScaler()</pre></div></div></div></div></div></div></div></div><div class=\"sk-parallel-item\"><div class=\"sk-item\"><div class=\"sk-label-container\"><div class=\"sk-label sk-toggleable\"><input class=\"sk-toggleable__control sk-hidden--visually\" id=\"fa41977b-b590-45d4-bb3f-b1b6808b44cd\" type=\"checkbox\" ><label for=\"fa41977b-b590-45d4-bb3f-b1b6808b44cd\" class=\"sk-toggleable__label sk-toggleable__label-arrow\">cat</label><div class=\"sk-toggleable__content\"><pre>[&#x27;tipo_cont&#x27;, &#x27;tipo_pro&#x27;]</pre></div></div></div><div class=\"sk-serial\"><div class=\"sk-item\"><div class=\"sk-serial\"><div class=\"sk-item\"><div class=\"sk-estimator sk-toggleable\"><input class=\"sk-toggleable__control sk-hidden--visually\" id=\"0d588404-51b0-4592-8c25-38fabfef040a\" type=\"checkbox\" ><label for=\"0d588404-51b0-4592-8c25-38fabfef040a\" class=\"sk-toggleable__label sk-toggleable__label-arrow\">OneHotEncoder</label><div class=\"sk-toggleable__content\"><pre>OneHotEncoder(handle_unknown=&#x27;ignore&#x27;)</pre></div></div></div></div></div></div></div></div><div class=\"sk-parallel-item\"><div class=\"sk-item\"><div class=\"sk-label-container\"><div class=\"sk-label sk-toggleable\"><input class=\"sk-toggleable__control sk-hidden--visually\" id=\"8b37d6d3-0474-4693-8041-95d7d1047cd4\" type=\"checkbox\" ><label for=\"8b37d6d3-0474-4693-8041-95d7d1047cd4\" class=\"sk-toggleable__label sk-toggleable__label-arrow\">remainder</label><div class=\"sk-toggleable__content\"><pre></pre></div></div></div><div class=\"sk-serial\"><div class=\"sk-item\"><div class=\"sk-estimator sk-toggleable\"><input class=\"sk-toggleable__control sk-hidden--visually\" id=\"51ed973b-5333-475a-9c72-70e8086383d8\" type=\"checkbox\" ><label for=\"51ed973b-5333-475a-9c72-70e8086383d8\" class=\"sk-toggleable__label sk-toggleable__label-arrow\">passthrough</label><div class=\"sk-toggleable__content\"><pre>passthrough</pre></div></div></div></div></div></div></div></div></div></div>"
      ],
      "text/plain": [
       "ColumnTransformer(remainder='passthrough',\n",
       "                  transformers=[('numeric',\n",
       "                                 Pipeline(steps=[('scaler', StandardScaler())]),\n",
       "                                 ['precio_lici']),\n",
       "                                ('cat',\n",
       "                                 Pipeline(steps=[('onehot',\n",
       "                                                  OneHotEncoder(handle_unknown='ignore'))]),\n",
       "                                 ['tipo_cont', 'tipo_pro'])])"
      ]
     },
     "execution_count": 66,
     "metadata": {},
     "output_type": "execute_result"
    }
   ],
   "source": [
    "set_config(display='diagram')\n",
    "preprocessor"
   ]
  },
  {
   "cell_type": "code",
   "execution_count": 67,
   "id": "90efec90-22e2-4b5f-9467-f54c3e18ece0",
   "metadata": {},
   "outputs": [],
   "source": [
    "set_config(display='text')"
   ]
  },
  {
   "cell_type": "code",
   "execution_count": 68,
   "id": "c17cb8de-e797-4a68-81e1-f71f5439f11f",
   "metadata": {},
   "outputs": [],
   "source": [
    "# Se aprenden y aplican las transformaciones de preprocesado\n",
    "# ==============================================================================\n",
    "X_train_prep = preprocessor.fit_transform(X_train)\n",
    "X_test_prep  = preprocessor.transform(X_test)"
   ]
  },
  {
   "cell_type": "code",
   "execution_count": 69,
   "id": "eaf09ee2-9782-492f-bd56-879479e9bb63",
   "metadata": {},
   "outputs": [
    {
     "name": "stdout",
     "output_type": "stream",
     "text": [
      "<class 'pandas.core.frame.DataFrame'>\n",
      "RangeIndex: 48856 entries, 0 to 48855\n",
      "Data columns (total 6 columns):\n",
      " #   Column                         Non-Null Count  Dtype  \n",
      "---  ------                         --------------  -----  \n",
      " 0   precio_lici                    48856 non-null  float64\n",
      " 1   tipo_cont_Obras                48856 non-null  float64\n",
      " 2   tipo_cont_Servicios            48856 non-null  float64\n",
      " 3   tipo_cont_Suministros          48856 non-null  float64\n",
      " 4   tipo_pro_Abierto               48856 non-null  float64\n",
      " 5   tipo_pro_Abierto simplificado  48856 non-null  float64\n",
      "dtypes: float64(6)\n",
      "memory usage: 2.2 MB\n"
     ]
    }
   ],
   "source": [
    "#Convertir el output en dataframe y añadir el nombre de las columnas\n",
    "# ==============================================================================\n",
    "encoded_cat = preprocessor.named_transformers_['cat']['onehot']\\\n",
    "              .get_feature_names(cat_cols)\n",
    "labels = np.concatenate([numeric_cols, encoded_cat])\n",
    "datos_train_prep = preprocessor.transform(X_train)\n",
    "datos_train_prep = pd.DataFrame(datos_train_prep, columns=labels)\n",
    "datos_train_prep.info()"
   ]
  },
  {
   "cell_type": "code",
   "execution_count": 70,
   "id": "3b835ade-e35d-4f01-aecb-ac99be3ef7f8",
   "metadata": {},
   "outputs": [],
   "source": [
    "# Pipeline de preprocedado y modelado\n",
    "# ==============================================================================\n",
    "\n",
    "# Identificación de columnas numéricas y categóricas\n",
    "numeric_cols = X_train.select_dtypes(include=['float64', 'int']).columns.to_list()\n",
    "cat_cols = X_train.select_dtypes(include=['object', 'category']).columns.to_list()\n",
    "\n",
    "\n",
    "# Transformaciones para las variables numéricas\n",
    "numeric_transformer = Pipeline(\n",
    "                        steps=[('scaler', StandardScaler())]\n",
    "                      )\n",
    "\n",
    "# Transformaciones para las variables categóricas\n",
    "categorical_transformer = Pipeline(\n",
    "                            steps=[('onehot', OneHotEncoder(handle_unknown='ignore'))]\n",
    "                          )\n",
    "\n",
    "preprocessor = ColumnTransformer(\n",
    "                    transformers=[\n",
    "                        ('numeric', numeric_transformer, numeric_cols),\n",
    "                        ('cat', categorical_transformer, cat_cols)\n",
    "                    ],\n",
    "                    remainder='passthrough'\n",
    "                )\n",
    "\n",
    "# Se combinan los pasos de preprocesado y el modelo en un mismo pipeline\n",
    "pipe = Pipeline([('preprocessing', preprocessor),\n",
    "                 ('modelo', MLPRegressor(solver = 'lbfgs', max_iter= 1000))])"
   ]
  },
  {
   "cell_type": "code",
   "execution_count": 71,
   "id": "668a233a-e383-4363-ac6e-2e860676b137",
   "metadata": {},
   "outputs": [
    {
     "data": {
      "text/html": [
       "<div>\n",
       "<style scoped>\n",
       "    .dataframe tbody tr th:only-of-type {\n",
       "        vertical-align: middle;\n",
       "    }\n",
       "\n",
       "    .dataframe tbody tr th {\n",
       "        vertical-align: top;\n",
       "    }\n",
       "\n",
       "    .dataframe thead th {\n",
       "        text-align: right;\n",
       "    }\n",
       "</style>\n",
       "<table border=\"1\" class=\"dataframe\">\n",
       "  <thead>\n",
       "    <tr style=\"text-align: right;\">\n",
       "      <th></th>\n",
       "      <th>param_modelo__learning_rate_init</th>\n",
       "      <th>param_modelo__hidden_layer_sizes</th>\n",
       "      <th>param_modelo__alpha</th>\n",
       "      <th>mean_test_score</th>\n",
       "      <th>std_test_score</th>\n",
       "      <th>mean_train_score</th>\n",
       "      <th>std_train_score</th>\n",
       "    </tr>\n",
       "  </thead>\n",
       "  <tbody>\n",
       "    <tr>\n",
       "      <th>10</th>\n",
       "      <td>0.001</td>\n",
       "      <td>20</td>\n",
       "      <td>0.464159</td>\n",
       "      <td>-0.061037</td>\n",
       "      <td>0.000403</td>\n",
       "      <td>-0.060986</td>\n",
       "      <td>0.000097</td>\n",
       "    </tr>\n",
       "    <tr>\n",
       "      <th>24</th>\n",
       "      <td>0.01</td>\n",
       "      <td>20</td>\n",
       "      <td>0.1</td>\n",
       "      <td>-0.061045</td>\n",
       "      <td>0.000403</td>\n",
       "      <td>-0.060971</td>\n",
       "      <td>0.000108</td>\n",
       "    </tr>\n",
       "    <tr>\n",
       "      <th>2</th>\n",
       "      <td>0.01</td>\n",
       "      <td>20</td>\n",
       "      <td>0.021544</td>\n",
       "      <td>-0.061051</td>\n",
       "      <td>0.000408</td>\n",
       "      <td>-0.060983</td>\n",
       "      <td>0.000093</td>\n",
       "    </tr>\n",
       "    <tr>\n",
       "      <th>37</th>\n",
       "      <td>0.01</td>\n",
       "      <td>20</td>\n",
       "      <td>0.001</td>\n",
       "      <td>-0.061061</td>\n",
       "      <td>0.000383</td>\n",
       "      <td>-0.060995</td>\n",
       "      <td>0.000105</td>\n",
       "    </tr>\n",
       "    <tr>\n",
       "      <th>28</th>\n",
       "      <td>0.01</td>\n",
       "      <td>(10, 10)</td>\n",
       "      <td>0.464159</td>\n",
       "      <td>-0.061061</td>\n",
       "      <td>0.000392</td>\n",
       "      <td>-0.060994</td>\n",
       "      <td>0.000098</td>\n",
       "    </tr>\n",
       "    <tr>\n",
       "      <th>11</th>\n",
       "      <td>0.01</td>\n",
       "      <td>20</td>\n",
       "      <td>0.464159</td>\n",
       "      <td>-0.061064</td>\n",
       "      <td>0.000398</td>\n",
       "      <td>-0.060996</td>\n",
       "      <td>0.000094</td>\n",
       "    </tr>\n",
       "    <tr>\n",
       "      <th>49</th>\n",
       "      <td>0.001</td>\n",
       "      <td>20</td>\n",
       "      <td>2.154435</td>\n",
       "      <td>-0.061065</td>\n",
       "      <td>0.000389</td>\n",
       "      <td>-0.060997</td>\n",
       "      <td>0.000106</td>\n",
       "    </tr>\n",
       "    <tr>\n",
       "      <th>47</th>\n",
       "      <td>0.01</td>\n",
       "      <td>20</td>\n",
       "      <td>0.004642</td>\n",
       "      <td>-0.061068</td>\n",
       "      <td>0.000372</td>\n",
       "      <td>-0.060997</td>\n",
       "      <td>0.000109</td>\n",
       "    </tr>\n",
       "    <tr>\n",
       "      <th>14</th>\n",
       "      <td>0.01</td>\n",
       "      <td>(10, 10)</td>\n",
       "      <td>0.004642</td>\n",
       "      <td>-0.061071</td>\n",
       "      <td>0.000379</td>\n",
       "      <td>-0.061001</td>\n",
       "      <td>0.000121</td>\n",
       "    </tr>\n",
       "    <tr>\n",
       "      <th>39</th>\n",
       "      <td>0.001</td>\n",
       "      <td>(10, 10)</td>\n",
       "      <td>0.021544</td>\n",
       "      <td>-0.061072</td>\n",
       "      <td>0.000397</td>\n",
       "      <td>-0.061028</td>\n",
       "      <td>0.000088</td>\n",
       "    </tr>\n",
       "  </tbody>\n",
       "</table>\n",
       "</div>"
      ],
      "text/plain": [
       "   param_modelo__learning_rate_init param_modelo__hidden_layer_sizes  \\\n",
       "10                            0.001                               20   \n",
       "24                             0.01                               20   \n",
       "2                              0.01                               20   \n",
       "37                             0.01                               20   \n",
       "28                             0.01                         (10, 10)   \n",
       "11                             0.01                               20   \n",
       "49                            0.001                               20   \n",
       "47                             0.01                               20   \n",
       "14                             0.01                         (10, 10)   \n",
       "39                            0.001                         (10, 10)   \n",
       "\n",
       "   param_modelo__alpha  mean_test_score  std_test_score  mean_train_score  \\\n",
       "10            0.464159        -0.061037        0.000403         -0.060986   \n",
       "24                 0.1        -0.061045        0.000403         -0.060971   \n",
       "2             0.021544        -0.061051        0.000408         -0.060983   \n",
       "37               0.001        -0.061061        0.000383         -0.060995   \n",
       "28            0.464159        -0.061061        0.000392         -0.060994   \n",
       "11            0.464159        -0.061064        0.000398         -0.060996   \n",
       "49            2.154435        -0.061065        0.000389         -0.060997   \n",
       "47            0.004642        -0.061068        0.000372         -0.060997   \n",
       "14            0.004642        -0.061071        0.000379         -0.061001   \n",
       "39            0.021544        -0.061072        0.000397         -0.061028   \n",
       "\n",
       "    std_train_score  \n",
       "10         0.000097  \n",
       "24         0.000108  \n",
       "2          0.000093  \n",
       "37         0.000105  \n",
       "28         0.000098  \n",
       "11         0.000094  \n",
       "49         0.000106  \n",
       "47         0.000109  \n",
       "14         0.000121  \n",
       "39         0.000088  "
      ]
     },
     "execution_count": 71,
     "metadata": {},
     "output_type": "execute_result"
    }
   ],
   "source": [
    "# Espacio de búsqueda de cada hiperparámetro\n",
    "# ==============================================================================\n",
    "param_distributions = {\n",
    "    'modelo__hidden_layer_sizes': [(10), (20), (10, 10)],\n",
    "    'modelo__alpha': np.logspace(-3, 3, 10),\n",
    "    'modelo__learning_rate_init': [0.001, 0.01],\n",
    "}\n",
    "\n",
    "# Búsqueda por validación cruzada\n",
    "# ==============================================================================\n",
    "grid = RandomizedSearchCV(\n",
    "        estimator  = pipe,\n",
    "        param_distributions = param_distributions,\n",
    "        n_iter     = 50,\n",
    "        scoring    = 'neg_mean_squared_error',\n",
    "        n_jobs     = multiprocessing.cpu_count() - 1,\n",
    "        cv         = 5, \n",
    "        verbose    = 0,\n",
    "        random_state = 123,\n",
    "        return_train_score = True\n",
    "       )\n",
    "\n",
    "grid.fit(X = X_train, y = y_train)\n",
    "\n",
    "# Resultados del grid\n",
    "# ==============================================================================\n",
    "resultados = pd.DataFrame(grid.cv_results_)\n",
    "resultados.filter(regex = '(param.*|mean_t|std_t)')\\\n",
    "    .drop(columns = 'params')\\\n",
    "    .sort_values('mean_test_score', ascending = False)\\\n",
    "    .head(10)"
   ]
  },
  {
   "cell_type": "code",
   "execution_count": 72,
   "id": "4906cae6-3eb4-48eb-bfb6-fdd882df546f",
   "metadata": {
    "tags": []
   },
   "outputs": [
    {
     "name": "stdout",
     "output_type": "stream",
     "text": [
      "Error de test (rmse):  0.24512437147749516\n"
     ]
    }
   ],
   "source": [
    "# Error de test\n",
    "# ==============================================================================\n",
    "modelo_final = grid.best_estimator_\n",
    "predicciones = modelo_final.predict(X = X_test)\n",
    "rmse = mean_squared_error(\n",
    "        y_true = y_test,\n",
    "        y_pred = predicciones,\n",
    "        squared = False\n",
    "       )\n",
    "print('Error de test (rmse): ', rmse)"
   ]
  },
  {
   "cell_type": "code",
   "execution_count": 73,
   "id": "dd4277a1-deef-4c38-a1f9-48c4c95e6b6e",
   "metadata": {},
   "outputs": [
    {
     "data": {
      "text/plain": [
       "{'activation': 'relu',\n",
       " 'alpha': 0.46415888336127775,\n",
       " 'batch_size': 'auto',\n",
       " 'beta_1': 0.9,\n",
       " 'beta_2': 0.999,\n",
       " 'early_stopping': False,\n",
       " 'epsilon': 1e-08,\n",
       " 'hidden_layer_sizes': 20,\n",
       " 'learning_rate': 'constant',\n",
       " 'learning_rate_init': 0.001,\n",
       " 'max_fun': 15000,\n",
       " 'max_iter': 1000,\n",
       " 'momentum': 0.9,\n",
       " 'n_iter_no_change': 10,\n",
       " 'nesterovs_momentum': True,\n",
       " 'power_t': 0.5,\n",
       " 'random_state': None,\n",
       " 'shuffle': True,\n",
       " 'solver': 'lbfgs',\n",
       " 'tol': 0.0001,\n",
       " 'validation_fraction': 0.1,\n",
       " 'verbose': False,\n",
       " 'warm_start': False}"
      ]
     },
     "execution_count": 73,
     "metadata": {},
     "output_type": "execute_result"
    }
   ],
   "source": [
    "modelo_final['modelo'].get_params()"
   ]
  },
  {
   "cell_type": "code",
   "execution_count": null,
   "id": "3a8448cf-11cd-48ed-ae81-ccbecc4c438a",
   "metadata": {},
   "outputs": [],
   "source": []
  }
 ],
 "metadata": {
  "kernelspec": {
   "display_name": "Python 3 (ipykernel)",
   "language": "python",
   "name": "python3"
  },
  "language_info": {
   "codemirror_mode": {
    "name": "ipython",
    "version": 3
   },
   "file_extension": ".py",
   "mimetype": "text/x-python",
   "name": "python",
   "nbconvert_exporter": "python",
   "pygments_lexer": "ipython3",
   "version": "3.8.8"
  }
 },
 "nbformat": 4,
 "nbformat_minor": 5
}
