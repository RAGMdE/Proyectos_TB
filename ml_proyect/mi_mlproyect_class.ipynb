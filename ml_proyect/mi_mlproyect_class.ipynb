{
 "cells": [
  {
   "cell_type": "code",
   "execution_count": null,
   "id": "48260361-4f37-4aaf-8b2a-5c6ebc0509dd",
   "metadata": {
    "tags": []
   },
   "outputs": [],
   "source": [
    "# Tratamiento de datos\n",
    "# ==============================================================================\n",
    "import numpy as np\n",
    "import pandas as pd\n",
    "\n",
    "# Gráficos\n",
    "# ==============================================================================\n",
    "import matplotlib.pyplot as plt\n",
    "import seaborn as sns\n",
    "%matplotlib inline\n",
    "plt.style.use('fivethirtyeight')\n",
    "\n",
    "# Modelado\n",
    "# ==============================================================================\n",
    "from sklearn.datasets import make_blobs\n",
    "from sklearn.neural_network import MLPClassifier\n",
    "from sklearn.model_selection import RandomizedSearchCV\n",
    "from sklearn.model_selection import GridSearchCV\n",
    "from sklearn.model_selection import KFold\n",
    "import multiprocessing\n",
    "\n",
    "# Configuración warnings\n",
    "# ==============================================================================\n",
    "import warnings\n",
    "warnings.filterwarnings('ignore')"
   ]
  },
  {
   "cell_type": "code",
   "execution_count": null,
   "id": "b2a2a8fc-55b8-4b4a-91a7-8eda75f24c22",
   "metadata": {},
   "outputs": [],
   "source": [
    "# Modelos\n",
    "# ==============================================================================\n",
    "modelo_1 = MLPClassifier(\n",
    "                hidden_layer_sizes=(5),\n",
    "                learning_rate_init=0.01,\n",
    "                solver = 'lbfgs',\n",
    "                max_iter = 1000,\n",
    "                random_state = 123\n",
    "            )\n",
    "\n",
    "modelo_2 = MLPClassifier(\n",
    "                hidden_layer_sizes=(10),\n",
    "                learning_rate_init=0.01,\n",
    "                solver = 'lbfgs',\n",
    "                max_iter = 1000,\n",
    "                random_state = 123\n",
    "            )\n",
    "\n",
    "modelo_3 = MLPClassifier(\n",
    "                hidden_layer_sizes=(20, 20),\n",
    "                learning_rate_init=0.01,\n",
    "                solver = 'lbfgs',\n",
    "                max_iter = 5000,\n",
    "                random_state = 123\n",
    "            )\n",
    "\n",
    "modelo_4 = MLPClassifier(\n",
    "                hidden_layer_sizes=(50, 50, 50),\n",
    "                learning_rate_init=0.01,\n",
    "                solver = 'lbfgs',\n",
    "                max_iter = 5000,\n",
    "                random_state = 123\n",
    "            )\n",
    "\n",
    "modelo_1.fit(X=X, y=y)\n",
    "modelo_2.fit(X=X, y=y)\n",
    "modelo_3.fit(X=X, y=y)\n",
    "modelo_4.fit(X=X, y=y)"
   ]
  },
  {
   "cell_type": "code",
   "execution_count": null,
   "id": "68715b8e-3cbe-4e42-8764-12b59b548c5c",
   "metadata": {},
   "outputs": [],
   "source": [
    "MLPClassifier(hidden_layer_sizes=(50, 50, 50), learning_rate_init=0.01,\n",
    "              max_iter=5000, random_state=123, solver='lbfgs')"
   ]
  },
  {
   "cell_type": "code",
   "execution_count": null,
   "id": "9c206cf2-d401-4de2-bea4-972b2a4a8b93",
   "metadata": {},
   "outputs": [],
   "source": [
    "# Gráfico de predicciones\n",
    "# ==============================================================================\n",
    "fig, axs = plt.subplots(2, 2, figsize=(12,8))\n",
    "axs = axs.flatten()\n",
    "grid_x1 = np.linspace(start=min(X[:, 0]), stop=max(X[:, 0]), num=100)\n",
    "grid_x2 = np.linspace(start=min(X[:, 1]), stop=max(X[:, 1]), num=100)\n",
    "xx, yy = np.meshgrid(grid_x1, grid_x2)\n",
    "X_grid = np.column_stack([xx.flatten(), yy.flatten()])\n",
    "\n",
    "for i, modelo in enumerate([modelo_1, modelo_2, modelo_3, modelo_4]):\n",
    "    \n",
    "    predicciones = modelo.predict(X_grid)\n",
    "    \n",
    "    for j in np.unique(predicciones):\n",
    "        axs[i].scatter(\n",
    "            x = X_grid[predicciones == j, 0],\n",
    "            y = X_grid[predicciones == j, 1], \n",
    "            c = plt.rcParams['axes.prop_cycle'].by_key()['color'][j],\n",
    "            #marker = 'o',\n",
    "            alpha = 0.3,\n",
    "            label= f\"Grupo {j}\"\n",
    "        )\n",
    "\n",
    "    for j in np.unique(y):\n",
    "        axs[i].scatter(\n",
    "            x = X[y == j, 0],\n",
    "            y = X[y == j, 1], \n",
    "            c = plt.rcParams['axes.prop_cycle'].by_key()['color'][j],\n",
    "            marker    = 'o',\n",
    "            edgecolor = 'black'\n",
    "        )\n",
    "        \n",
    "    axs[i].set_title(f\"Capas ocultas: {modelo.hidden_layer_sizes}\")\n",
    "    axs[i].axis('off')\n",
    "axs[0].legend();\n"
   ]
  },
  {
   "cell_type": "code",
   "execution_count": null,
   "id": "1c32df33-6279-4690-8181-0169e92a501e",
   "metadata": {},
   "outputs": [],
   "source": [
    "# Número de neuronas\n",
    "# ==============================================================================\n",
    "param_grid = {'hidden_layer_sizes':[1, 5, 10, 15, 25, 50]}\n",
    "\n",
    "grid = GridSearchCV(\n",
    "        estimator = MLPClassifier(\n",
    "                        learning_rate_init=0.01,\n",
    "                        solver = 'lbfgs',\n",
    "                        alpha  = 0,\n",
    "                        max_iter = 5000,\n",
    "                        random_state = 123\n",
    "                    ),\n",
    "        param_grid = param_grid,\n",
    "        scoring    = 'accuracy',\n",
    "        cv         = 5,\n",
    "        refit      = True,\n",
    "        return_train_score = True\n",
    "      )\n",
    "\n",
    "_ = grid.fit(X, y)"
   ]
  },
  {
   "cell_type": "code",
   "execution_count": null,
   "id": "983698a8-5ff9-4598-bc37-43d2f4444668",
   "metadata": {},
   "outputs": [],
   "source": [
    "fig, ax = plt.subplots(figsize=(6, 3.84))\n",
    "scores = pd.DataFrame(grid.cv_results_)\n",
    "scores.plot(x='param_hidden_layer_sizes', y='mean_train_score', yerr='std_train_score', ax=ax)\n",
    "scores.plot(x='param_hidden_layer_sizes', y='mean_test_score', yerr='std_test_score', ax=ax)\n",
    "ax.set_ylabel('accuracy')\n",
    "ax.set_xlabel('número de neuronas')\n",
    "ax.set_title('Error de validacion cruzada');\n"
   ]
  },
  {
   "cell_type": "code",
   "execution_count": null,
   "id": "c83b27e9-5b9c-4573-8823-b290e84c03d4",
   "metadata": {},
   "outputs": [],
   "source": [
    "# learning rate\n",
    "# ==============================================================================\n",
    "param_grid = {'learning_rate_init':[0.0001, 0.001, 0.01, 0.1, 1, 10, 100]}\n",
    "\n",
    "grid = GridSearchCV(\n",
    "        estimator = MLPClassifier(\n",
    "                        hidden_layer_sizes=(10),\n",
    "                        solver = 'adam',\n",
    "                        alpha  = 0,\n",
    "                        max_iter = 5000,\n",
    "                        random_state = 123\n",
    "                    ),\n",
    "        param_grid = param_grid,\n",
    "        scoring    = 'accuracy',\n",
    "        cv         = 5,\n",
    "        refit      = True,\n",
    "        return_train_score = True\n",
    "      )\n",
    "\n",
    "_ = grid.fit(X, y)"
   ]
  },
  {
   "cell_type": "code",
   "execution_count": null,
   "id": "90672375-926e-4a82-94e1-e615be059acb",
   "metadata": {},
   "outputs": [],
   "source": [
    "fig, ax = plt.subplots(figsize=(6, 3.84))\n",
    "scores = pd.DataFrame(grid.cv_results_)\n",
    "scores.plot(x='param_learning_rate_init', y='mean_train_score', yerr='std_train_score', ax=ax)\n",
    "scores.plot(x='param_learning_rate_init', y='mean_test_score', yerr='std_test_score', ax=ax)\n",
    "ax.set_xscale('log')\n",
    "ax.set_xlabel('log(learning rate)')\n",
    "ax.set_ylabel('accuracy')\n",
    "ax.set_title('Error de validacion cruzada');\n"
   ]
  },
  {
   "cell_type": "code",
   "execution_count": null,
   "id": "5a7ae54c-68bc-46e7-b4ba-fd1a8de7f2a1",
   "metadata": {},
   "outputs": [],
   "source": [
    "# Espacio de búsqueda de cada hiperparámetro\n",
    "# ==============================================================================\n",
    "param_distributions = {\n",
    "    'hidden_layer_sizes': [(10), (10, 10), (20, 20)],\n",
    "    'alpha': np.logspace(-3, 3, 7),\n",
    "    'learning_rate_init': [0.001, 0.01, 0.1],\n",
    "}\n",
    "\n",
    "# Búsqueda por validación cruzada\n",
    "# ==============================================================================\n",
    "grid = RandomizedSearchCV(\n",
    "        estimator  = MLPClassifier(solver = 'lbfgs', max_iter= 2000),\n",
    "        param_distributions = param_distributions,\n",
    "        n_iter     = 50, # Número máximo de combinaciones probadas\n",
    "        scoring    = 'accuracy',\n",
    "        n_jobs     = multiprocessing.cpu_count() - 1,\n",
    "        cv         = 3, \n",
    "        verbose    = 0,\n",
    "        random_state = 123,\n",
    "        return_train_score = True\n",
    "       )\n",
    "\n",
    "grid.fit(X = X, y = y)"
   ]
  },
  {
   "cell_type": "code",
   "execution_count": null,
   "id": "801062bc-71b0-4265-b4af-9870b613983f",
   "metadata": {},
   "outputs": [],
   "source": [
    "# Resultados del grid\n",
    "# ==============================================================================\n",
    "resultados = pd.DataFrame(grid.cv_results_)\n",
    "resultados.filter(regex = '(param.*|mean_t|std_t)')\\\n",
    "    .drop(columns = 'params')\\\n",
    "    .sort_values('mean_test_score', ascending = False)\\\n",
    "    .head(10)\n"
   ]
  },
  {
   "cell_type": "code",
   "execution_count": null,
   "id": "b417f2f2-3575-4236-8e40-54df423e4513",
   "metadata": {},
   "outputs": [],
   "source": [
    "modelo = grid.best_estimator_\n",
    "modelo"
   ]
  },
  {
   "cell_type": "code",
   "execution_count": null,
   "id": "23af09bf-8bf6-43cb-957b-d3a8429c288e",
   "metadata": {},
   "outputs": [],
   "source": [
    "LPClassifier(alpha=0.01, hidden_layer_sizes=(10, 10), max_iter=2000,\n",
    "              solver='lbfgs')"
   ]
  },
  {
   "cell_type": "code",
   "execution_count": null,
   "id": "04127c57-8f0b-4188-93db-df468a2013b8",
   "metadata": {
    "tags": []
   },
   "outputs": [],
   "source": [
    "fig, ax = plt.subplots(1, 1, figsize=(5, 5))\n",
    "\n",
    "for i in np.unique(predicciones):\n",
    "    ax.scatter(\n",
    "        x = X_grid[predicciones == i, 0],\n",
    "        y = X_grid[predicciones == i, 1], \n",
    "        c = plt.rcParams['axes.prop_cycle'].by_key()['color'][i],\n",
    "        #marker = 'o',\n",
    "        alpha = 0.3,\n",
    "        label= f\"Grupo {i}\"\n",
    "    )\n",
    "\n",
    "for i in np.unique(y):\n",
    "    ax.scatter(\n",
    "        x = X[y == i, 0],\n",
    "        y = X[y == i, 1], \n",
    "        c = plt.rcParams['axes.prop_cycle'].by_key()['color'][i],\n",
    "        marker    = 'o',\n",
    "        edgecolor = 'black'\n",
    "    )\n",
    "    \n",
    "\n",
    "ax.set_title('Regiones de clasificación')\n",
    "ax.legend();"
   ]
  },
  {
   "cell_type": "code",
   "execution_count": null,
   "id": "fb9e3b28-b5d8-4788-b950-2fcc84ad9bed",
   "metadata": {},
   "outputs": [],
   "source": []
  },
  {
   "cell_type": "code",
   "execution_count": null,
   "id": "48c3319c-e6f3-42d6-873c-5d7025af4fde",
   "metadata": {},
   "outputs": [],
   "source": []
  },
  {
   "cell_type": "code",
   "execution_count": null,
   "id": "264e8ba6-2a22-468d-9057-37aa75a5a99d",
   "metadata": {},
   "outputs": [],
   "source": []
  },
  {
   "cell_type": "code",
   "execution_count": null,
   "id": "4fcfec34-20ec-44a6-9675-de8669a5d411",
   "metadata": {},
   "outputs": [],
   "source": []
  },
  {
   "cell_type": "code",
   "execution_count": null,
   "id": "b237083f-06b5-41fc-88b5-cc4b9d3013e8",
   "metadata": {},
   "outputs": [],
   "source": []
  }
 ],
 "metadata": {
  "kernelspec": {
   "display_name": "Python 3 (ipykernel)",
   "language": "python",
   "name": "python3"
  },
  "language_info": {
   "codemirror_mode": {
    "name": "ipython",
    "version": 3
   },
   "file_extension": ".py",
   "mimetype": "text/x-python",
   "name": "python",
   "nbconvert_exporter": "python",
   "pygments_lexer": "ipython3",
   "version": "3.8.8"
  }
 },
 "nbformat": 4,
 "nbformat_minor": 5
}
