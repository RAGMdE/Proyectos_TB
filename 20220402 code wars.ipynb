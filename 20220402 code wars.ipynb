{
 "cells": [
  {
   "cell_type": "code",
   "execution_count": 39,
   "id": "9cb1fca1-4493-49ea-940c-0c6bec29e21e",
   "metadata": {},
   "outputs": [],
   "source": [
    "# type of sanwich based on number of slices.range(0,100)\n",
    "def type_sandwich(num_slices):\n",
    "    name = 'sandwich'\n",
    "    #Check the number of slices\n",
    "    if  (isinstance(num_slices, int)== True) and  (num_slices > 1)  and (num_slices < 101):\n",
    "        # A pair number gives n/2 times sandwich, a odd number gives bread + n/2 times sandwich\n",
    "        if num_slices % 2 == 0:\n",
    "            # particualrity of the only 2 slices\n",
    "            if num_slices == 2:\n",
    "                sol = name\n",
    "            else:\n",
    "                sol = name + (int(num_slices/2)-1)*(' ' + name)\n",
    "        else:\n",
    "            sol = 'bread' + int((num_slices/2))*(' ' +name)\n",
    "    else:\n",
    "        sol = None\n",
    "    return sol"
   ]
  },
  {
   "cell_type": "code",
   "execution_count": 40,
   "id": "2ce01b19-a0e7-4273-9d6d-ea097299ce3e",
   "metadata": {},
   "outputs": [
    {
     "data": {
      "text/plain": [
       "'bread sandwich sandwich sandwich'"
      ]
     },
     "execution_count": 40,
     "metadata": {},
     "output_type": "execute_result"
    }
   ],
   "source": [
    "type_sandwich(7)"
   ]
  },
  {
   "cell_type": "code",
   "execution_count": 61,
   "id": "d55133ac-643c-4c72-8b7e-6aea52d4f24b",
   "metadata": {},
   "outputs": [],
   "source": [
    "# number of slices given a type of sandwich\n",
    "def num_slices(type_sandwich):\n",
    "# find the words of the type of sanwich\n",
    "    if(isinstance(type_sandwich,str)== True):\n",
    "        valid_world =['bread','sandwich']\n",
    "        Validation = 0\n",
    "        lista=type_sandwich.split()\n",
    "        for l in lista:\n",
    "            if l in valid_world:\n",
    "                Validation += 1\n",
    "        \n",
    "        repeticiones = {}\n",
    "        for n in lista:\n",
    "          if n in repeticiones :\n",
    "            repeticiones[n] += 1\n",
    "          else:\n",
    "             repeticiones[n] = 0\n",
    "        print (lista)\n",
    "        \n",
    "        if (Validation == len(lista)) and lista[0] == 'bread':       \n",
    "            #if the first is bread the number is 1 + the  (number of words -1) times 2, else number of words times 2\n",
    "            if lista[0]=='bread':\n",
    "                num_slices = 1+(len(lista)-1)*2\n",
    "            else:\n",
    "                num_slices = len(lista)*2\n",
    "        else:\n",
    "            num_slices = None\n",
    "    else:\n",
    "        num_slices = None\n",
    "    return num_slices\n",
    "\n"
   ]
  },
  {
   "cell_type": "code",
   "execution_count": 62,
   "id": "0249aba6-a330-4830-86b6-309276d4a749",
   "metadata": {},
   "outputs": [
    {
     "name": "stdout",
     "output_type": "stream",
     "text": [
      "['bread', 'sandwich']\n"
     ]
    },
    {
     "data": {
      "text/plain": [
       "1"
      ]
     },
     "execution_count": 62,
     "metadata": {},
     "output_type": "execute_result"
    }
   ],
   "source": [
    "num_slices('bread sandwich')\n",
    "lista[0]"
   ]
  },
  {
   "cell_type": "code",
   "execution_count": null,
   "id": "b05ef668-cadc-4d3d-b74b-dd1452a3487b",
   "metadata": {},
   "outputs": [],
   "source": []
  }
 ],
 "metadata": {
  "kernelspec": {
   "display_name": "Python 3 (ipykernel)",
   "language": "python",
   "name": "python3"
  },
  "language_info": {
   "codemirror_mode": {
    "name": "ipython",
    "version": 3
   },
   "file_extension": ".py",
   "mimetype": "text/x-python",
   "name": "python",
   "nbconvert_exporter": "python",
   "pygments_lexer": "ipython3",
   "version": "3.8.8"
  }
 },
 "nbformat": 4,
 "nbformat_minor": 5
}
