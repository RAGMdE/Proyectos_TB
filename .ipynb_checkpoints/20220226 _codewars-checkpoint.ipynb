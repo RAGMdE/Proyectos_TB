{
 "cells": [
  {
   "cell_type": "code",
   "execution_count": 1,
   "id": "42aa577e-276e-47a7-9811-8592f9feb69a",
   "metadata": {},
   "outputs": [],
   "source": [
    "def square_sum(lst):\n",
    "    sum1=0\n",
    "    lst_sqr = [x**2 for x in lst]\n",
    "    for x2 in range(0, len(lst_sqr)):\n",
    "        sum1 += x2 \n",
    "    \n",
    "    return sum1"
   ]
  },
  {
   "cell_type": "code",
   "execution_count": 2,
   "id": "49b00c67-b073-4e2e-a71b-00af30fa5953",
   "metadata": {},
   "outputs": [],
   "source": [
    "#https://www.codewars.com/kata/54edbc7200b811e956000556/train/python\n",
    "\n",
    "def count_sheep(arr):\n",
    "    sum2=0\n",
    "    for x in arr:\n",
    "        if x == True:\n",
    "            sum2 +=1\n",
    "    return sum2"
   ]
  },
  {
   "cell_type": "code",
   "execution_count": 3,
   "id": "f4d5b973-4333-4bb5-90b6-4522ce1d2a5c",
   "metadata": {},
   "outputs": [
    {
     "data": {
      "text/plain": [
       "2"
      ]
     },
     "execution_count": 3,
     "metadata": {},
     "output_type": "execute_result"
    }
   ],
   "source": [
    "arr=[True, True, False]\n",
    "count_sheep(arr)\n"
   ]
  },
  {
   "cell_type": "code",
   "execution_count": 4,
   "id": "8e9f79a2-a59c-499e-8d17-9866ef88b0c5",
   "metadata": {},
   "outputs": [],
   "source": [
    "\n",
    "def findNeedle(arr):\n",
    "    x = arr.index('needle')+1\n",
    "    l= 'found the needle at position '+ str(x)\n",
    "    return l"
   ]
  },
  {
   "cell_type": "code",
   "execution_count": 5,
   "id": "d6e02c48-265e-4f55-865c-f22ccc6817ec",
   "metadata": {},
   "outputs": [
    {
     "data": {
      "text/plain": [
       "'found the needle at position 2'"
      ]
     },
     "execution_count": 5,
     "metadata": {},
     "output_type": "execute_result"
    }
   ],
   "source": [
    "findNeedle(['hola','needle'])"
   ]
  },
  {
   "cell_type": "code",
   "execution_count": 6,
   "id": "c8ceb26e-f786-4508-94e2-8418249e7c86",
   "metadata": {},
   "outputs": [],
   "source": [
    "#https://www.codewars.com/kata/57eadb7ecd143f4c9c0000a3/train/python\n",
    "def Iniciales(nombre):\n",
    "# Iniciales3='Ramon Godinez'\n",
    "    Iniciales3 = [nombre.split()]\n",
    "    Iniciales2=Iniciales3[0].upper()+'.'+Iniciales3[1].upper()\n",
    "    return Iniciales2\n",
    "   "
   ]
  },
  {
   "cell_type": "code",
   "execution_count": 7,
   "id": "6e9b0a45-8240-42a3-9a5c-181b4575fe8e",
   "metadata": {},
   "outputs": [
    {
     "ename": "AttributeError",
     "evalue": "'list' object has no attribute 'upper'",
     "output_type": "error",
     "traceback": [
      "\u001b[1;31m---------------------------------------------------------------------------\u001b[0m",
      "\u001b[1;31mAttributeError\u001b[0m                            Traceback (most recent call last)",
      "\u001b[1;32m<ipython-input-7-4dd50b090387>\u001b[0m in \u001b[0;36m<module>\u001b[1;34m\u001b[0m\n\u001b[1;32m----> 1\u001b[1;33m \u001b[0mIniciales\u001b[0m\u001b[1;33m(\u001b[0m\u001b[1;34m'Ramon Godinez'\u001b[0m\u001b[1;33m)\u001b[0m\u001b[1;33m\u001b[0m\u001b[1;33m\u001b[0m\u001b[0m\n\u001b[0m",
      "\u001b[1;32m<ipython-input-6-c8def57891c9>\u001b[0m in \u001b[0;36mIniciales\u001b[1;34m(nombre)\u001b[0m\n\u001b[0;32m      3\u001b[0m \u001b[1;31m# Iniciales3='Ramon Godinez'\u001b[0m\u001b[1;33m\u001b[0m\u001b[1;33m\u001b[0m\u001b[1;33m\u001b[0m\u001b[0m\n\u001b[0;32m      4\u001b[0m     \u001b[0mIniciales3\u001b[0m \u001b[1;33m=\u001b[0m \u001b[1;33m[\u001b[0m\u001b[0mnombre\u001b[0m\u001b[1;33m.\u001b[0m\u001b[0msplit\u001b[0m\u001b[1;33m(\u001b[0m\u001b[1;33m)\u001b[0m\u001b[1;33m]\u001b[0m\u001b[1;33m\u001b[0m\u001b[1;33m\u001b[0m\u001b[0m\n\u001b[1;32m----> 5\u001b[1;33m     \u001b[0mIniciales2\u001b[0m\u001b[1;33m=\u001b[0m\u001b[0mIniciales3\u001b[0m\u001b[1;33m[\u001b[0m\u001b[1;36m0\u001b[0m\u001b[1;33m]\u001b[0m\u001b[1;33m.\u001b[0m\u001b[0mupper\u001b[0m\u001b[1;33m(\u001b[0m\u001b[1;33m)\u001b[0m\u001b[1;33m+\u001b[0m\u001b[1;34m'.'\u001b[0m\u001b[1;33m+\u001b[0m\u001b[0mIniciales3\u001b[0m\u001b[1;33m[\u001b[0m\u001b[1;36m1\u001b[0m\u001b[1;33m]\u001b[0m\u001b[1;33m.\u001b[0m\u001b[0mupper\u001b[0m\u001b[1;33m(\u001b[0m\u001b[1;33m)\u001b[0m\u001b[1;33m\u001b[0m\u001b[1;33m\u001b[0m\u001b[0m\n\u001b[0m\u001b[0;32m      6\u001b[0m     \u001b[1;32mreturn\u001b[0m \u001b[0mIniciales2\u001b[0m\u001b[1;33m\u001b[0m\u001b[1;33m\u001b[0m\u001b[0m\n\u001b[0;32m      7\u001b[0m \u001b[1;33m\u001b[0m\u001b[0m\n",
      "\u001b[1;31mAttributeError\u001b[0m: 'list' object has no attribute 'upper'"
     ]
    }
   ],
   "source": [
    "Iniciales('Ramon Godinez')"
   ]
  },
  {
   "cell_type": "code",
   "execution_count": 8,
   "id": "1d11e2de-8669-4715-a16a-031b3b812174",
   "metadata": {},
   "outputs": [
    {
     "data": {
      "text/plain": [
       "0"
      ]
     },
     "execution_count": 8,
     "metadata": {},
     "output_type": "execute_result"
    }
   ],
   "source": [
    "\n",
    "\n",
    "palabra = 'HolA'\n",
    "\n",
    "control = 0\n",
    "palabra=palabra.upper()\n",
    "for x in palabra:\n",
    "    if palabra.count(x)>1:\n",
    "        control = 1\n",
    "# eturn control\n",
    "control"
   ]
  },
  {
   "cell_type": "code",
   "execution_count": 9,
   "id": "c6697b13-ec48-465a-ac6b-487d43ca54ba",
   "metadata": {},
   "outputs": [],
   "source": [
    "# https://www.codewars.com/kata/54ba84be607a92aa900000f1/train/python\n",
    "\n",
    "h=0\n",
    "m=1\n",
    "s=1\n",
    "def milisegundos(h,m,s):\n",
    "    milisegundos =1000*(s+(60*h+m)*60)\n",
    "    return milisegundos"
   ]
  },
  {
   "cell_type": "code",
   "execution_count": null,
   "id": "4b0d3e43-2063-44b7-976b-7038aee76ddd",
   "metadata": {},
   "outputs": [],
   "source": []
  },
  {
   "cell_type": "code",
   "execution_count": 10,
   "id": "45806223-5f05-4b54-bbf0-9b6ee59d4f75",
   "metadata": {
    "tags": []
   },
   "outputs": [],
   "source": [
    "#Epoch converter"
   ]
  },
  {
   "cell_type": "code",
   "execution_count": 11,
   "id": "e38a4be2-4651-4a29-b98a-994af2a1d4b9",
   "metadata": {},
   "outputs": [],
   "source": [
    "#    https://www.codewars.com/kata/57eb8fcdf670e99d9b000272/train/python\n",
    "def higherword(frase):\n",
    "    frase = frase.lower()\n",
    "    palabras= frase.split()\n",
    "    puntuacion='abcdefghijklmnopqrstuvwxyz'\n",
    "    puntos_palabra=0\n",
    "    valoracion_palabras ={}\n",
    "\n",
    "    #diccionario(palabra:puntacion)\n",
    "\n",
    "    for xx in palabras:\n",
    "        puntos_palabra=0\n",
    "        for x in xx:\n",
    "            puntos_palabra =puntos_palabra + puntuacion.index(x)\n",
    "            valoracion_palabras[xx]=puntos_palabra\n",
    "\n",
    "\n",
    "    return max(valoracion_palabras, key = valoracion_palabras.get)\n",
    "  \n"
   ]
  },
  {
   "cell_type": "code",
   "execution_count": 12,
   "id": "4c0506ed-296f-45ea-8c6f-2cf111580e81",
   "metadata": {},
   "outputs": [
    {
     "data": {
      "text/plain": [
       "'abc'"
      ]
     },
     "execution_count": 12,
     "metadata": {},
     "output_type": "execute_result"
    }
   ],
   "source": [
    "higherword('abc acb cba')"
   ]
  },
  {
   "cell_type": "code",
   "execution_count": 13,
   "id": "d1d5e2fc-f642-4008-b714-795062811c44",
   "metadata": {},
   "outputs": [],
   "source": [
    "# funcion cambie de numeor a str\n",
    "\n",
    "def cambionumtostr(x):\n",
    "    str_x = str(x)\n",
    "    return str_x"
   ]
  },
  {
   "cell_type": "code",
   "execution_count": 14,
   "id": "57e90cac-3a1d-4898-b46a-380e88b2e1e6",
   "metadata": {},
   "outputs": [
    {
     "data": {
      "text/plain": [
       "'1234'"
      ]
     },
     "execution_count": 14,
     "metadata": {},
     "output_type": "execute_result"
    }
   ],
   "source": [
    "cambionumtostr(1234)"
   ]
  },
  {
   "cell_type": "code",
   "execution_count": 15,
   "id": "d4bca5bd-d2f6-4ad6-ad73-336741d63718",
   "metadata": {},
   "outputs": [],
   "source": [
    "# https://www.codewars.com/kata/555eded1ad94b00403000071/train/python\n",
    "def suma_serie(limite):\n",
    "    \n",
    "    serie=[1/(1+3*limite)  for n in range(0,limite)]\n",
    "    suma_serie =sum(serie)\n",
    "    return \"{:.2f}\".format(sum(serie))"
   ]
  },
  {
   "cell_type": "code",
   "execution_count": 16,
   "id": "e54a9392-fd6a-4017-9ff5-f7b0ebec5a4c",
   "metadata": {},
   "outputs": [
    {
     "data": {
      "text/plain": [
       "'0.29'"
      ]
     },
     "execution_count": 16,
     "metadata": {},
     "output_type": "execute_result"
    }
   ],
   "source": [
    "suma_serie(2)"
   ]
  },
  {
   "cell_type": "code",
   "execution_count": 17,
   "id": "1735cf6c-afb8-46ac-b2e5-e0f3caf3faf3",
   "metadata": {},
   "outputs": [
    {
     "ename": "SyntaxError",
     "evalue": "invalid syntax (<ipython-input-17-53b2c1e4759d>, line 6)",
     "output_type": "error",
     "traceback": [
      "\u001b[1;36m  File \u001b[1;32m\"<ipython-input-17-53b2c1e4759d>\"\u001b[1;36m, line \u001b[1;32m6\u001b[0m\n\u001b[1;33m    **num2 = join(str(list_x2))\u001b[0m\n\u001b[1;37m    ^\u001b[0m\n\u001b[1;31mSyntaxError\u001b[0m\u001b[1;31m:\u001b[0m invalid syntax\n"
     ]
    }
   ],
   "source": [
    "#https://www.codewars.com/kata/546e2562b03326a88e000020/train/python\n",
    "import numpy as np\n",
    "x=123\n",
    "list_x=list(str(x))\n",
    "list_x2 = [int(x)**2 for x in list_x]\n",
    "**num2 = join(str(list_x2))"
   ]
  },
  {
   "cell_type": "code",
   "execution_count": null,
   "id": "36701f55-691c-435f-9721-67c57b18110e",
   "metadata": {},
   "outputs": [],
   "source": []
  },
  {
   "cell_type": "code",
   "execution_count": 18,
   "id": "bacac2cb-c8d3-4e98-badc-59db99521745",
   "metadata": {},
   "outputs": [
    {
     "data": {
      "text/plain": [
       "1"
      ]
     },
     "execution_count": 18,
     "metadata": {},
     "output_type": "execute_result"
    }
   ],
   "source": [
    "# https://www.codewars.com/kata/57cebe1dc6fdc20c57000ac9/train/python\n",
    "\n",
    "frase ='en un lugr d ela mancha'\n",
    "ll =min([len(x) for x in frase.split()])\n",
    "\n",
    "ll\n"
   ]
  },
  {
   "cell_type": "code",
   "execution_count": 19,
   "id": "3b25a4ca-a740-4f07-97f0-33787a5f46e7",
   "metadata": {},
   "outputs": [],
   "source": [
    "#https://www.codewars.com/kata/576bb71bbbcf0951d5000044/train/python"
   ]
  },
  {
   "cell_type": "code",
   "execution_count": 20,
   "id": "06483637-613d-4f71-8bb2-de699c81a9e5",
   "metadata": {},
   "outputs": [
    {
     "ename": "SyntaxError",
     "evalue": "invalid syntax (<ipython-input-20-7ce333d88107>, line 5)",
     "output_type": "error",
     "traceback": [
      "\u001b[1;36m  File \u001b[1;32m\"<ipython-input-20-7ce333d88107>\"\u001b[1;36m, line \u001b[1;32m5\u001b[0m\n\u001b[1;33m    y = int(resultados[pos][:1::])\u001b[0m\n\u001b[1;37m                               ^\u001b[0m\n\u001b[1;31mSyntaxError\u001b[0m\u001b[1;31m:\u001b[0m invalid syntax\n"
     ]
    }
   ],
   "source": [
    "# https://www.codewars.com/kata/5bb904724c47249b10000131/train/python\n",
    "resultados=['3:1','2:2']\n",
    "pos=0\n",
    "x= int(resultados[pos][:1])\n",
    "y = int(resultados[pos][:1::])\n",
    "\n",
    "x,y\n"
   ]
  },
  {
   "cell_type": "code",
   "execution_count": 21,
   "id": "d88bb34e-d873-4409-86c0-128fcd989698",
   "metadata": {},
   "outputs": [
    {
     "data": {
      "text/plain": [
       "\"\\nreversed=[]\\n    words= text.split(' ‘)\\n    for w in words:\\n        reversed.append(w[::-1])\\n    return ’ ’.join(reversed)\\n\""
      ]
     },
     "execution_count": 21,
     "metadata": {},
     "output_type": "execute_result"
    }
   ],
   "source": [
    "#https://www.codewars.com/kata/5259b20d6021e9e14c0010d4/train/python\n",
    "\n",
    "frase ='hola     como estas'\n",
    "palabras = frase.split()\n",
    "palabras2 = [x[::-1] for x in palabras]\n",
    "Nuevafrase = ' '.join(palabras2)\n",
    "Nuevafrase\n",
    "\n",
    "'''\n",
    "reversed=[]\n",
    "    words= text.split(' ‘)\n",
    "    for w in words:\n",
    "        reversed.append(w[::-1])\n",
    "    return ’ ’.join(reversed)\n",
    "'''\n"
   ]
  },
  {
   "cell_type": "code",
   "execution_count": 22,
   "id": "c3e7ed0d-d18c-4653-bc17-3717ffe352fa",
   "metadata": {},
   "outputs": [
    {
     "ename": "SyntaxError",
     "evalue": "invalid syntax (<ipython-input-22-f8cfa55144c1>, line 8)",
     "output_type": "error",
     "traceback": [
      "\u001b[1;36m  File \u001b[1;32m\"<ipython-input-22-f8cfa55144c1>\"\u001b[1;36m, line \u001b[1;32m8\u001b[0m\n\u001b[1;33m    lista_impares=[y if y!2==0 for y in ]\u001b[0m\n\u001b[1;37m                         ^\u001b[0m\n\u001b[1;31mSyntaxError\u001b[0m\u001b[1;31m:\u001b[0m invalid syntax\n"
     ]
    }
   ],
   "source": [
    "lista=[3,2,4,7,1]\n",
    "\n",
    "#creo diccionario con valor y posicion\n",
    "dict_lista={}\n",
    "for x in range(0, len(lista)):\n",
    "    dict_lista[lista[x]] = x\n",
    "\n",
    "lista_impares=[y if y!2==0 for y in ]\n",
    "\n",
    "\n",
    "#ordeno los impares\n",
    "#creo el nuevo array combinado los indices\n",
    "'''\n",
    "def sort_array(source_array):\n",
    "    b = 0\n",
    "    c = 0\n",
    "    odds = sorted([i for i in source_array if i%2 != 0])\n",
    "    for i in source_array:\n",
    "        if i % 2 != 0:\n",
    "            source_array[c] = odds[b]\n",
    "            b += 1\n",
    "        c += 1\n",
    "    return source_array\n",
    "'''\n"
   ]
  },
  {
   "cell_type": "code",
   "execution_count": 23,
   "id": "16a6f867-18d3-4bd4-9ee4-83828b65ab39",
   "metadata": {},
   "outputs": [
    {
     "data": {
      "text/plain": [
       "True"
      ]
     },
     "execution_count": 23,
     "metadata": {},
     "output_type": "execute_result"
    }
   ],
   "source": [
    "# https://www.codewars.com/kata/55908aad6620c066bc00002a/train/python\n",
    "\n",
    "s ='oooxxx'\n",
    "list(s.lower()).count('x') ==list(s.lower()).count('o')"
   ]
  },
  {
   "cell_type": "code",
   "execution_count": 24,
   "id": "0d4d00d1-af4d-42a1-9b45-c027e9c8b24f",
   "metadata": {},
   "outputs": [],
   "source": [
    "\n",
    "def greets(nombre):\n",
    "    greeting =f'Hello, {nombre} how are you donig today?'\n",
    "    return greeting"
   ]
  },
  {
   "cell_type": "code",
   "execution_count": 25,
   "id": "f6b55bdb-ec45-4ddc-98d0-28bd4ced8701",
   "metadata": {},
   "outputs": [
    {
     "data": {
      "text/plain": [
       "'Hello, Ramon how are you donig today?'"
      ]
     },
     "execution_count": 25,
     "metadata": {},
     "output_type": "execute_result"
    }
   ],
   "source": [
    "greets('Ramon')"
   ]
  },
  {
   "cell_type": "code",
   "execution_count": 182,
   "id": "067caea8-1af6-41d1-9759-0dcd6ba85d35",
   "metadata": {},
   "outputs": [
    {
     "name": "stdout",
     "output_type": "stream",
     "text": [
      "La serie es (1487, 4817, 8147)\n",
      "La serie es (2969, 6299, 9629)\n"
     ]
    }
   ],
   "source": [
    "# x(abcd) y sus permutaciones son primos, x,y,z consecutivos de forma\n",
    "# y = x+ 3330\n",
    "# z= x + 6660\n",
    "\n",
    "# Funcion de comprobacion de que los numeros de la serie tienen los mismos digitos\n",
    "def caract(x):\n",
    "    cont = 0\n",
    "    list_x = list(str(x))\n",
    "    for c in list_x:\n",
    "        if (c in str(x+3330)) and (c in str(x+6660)):\n",
    "            cont = cont+1\n",
    "    if cont== 4:\n",
    "        return True\n",
    "    else:\n",
    "        return False\n",
    "      \n",
    "# Busqueda primos entre 1000 y 9999\n",
    "primos=[]\n",
    "\n",
    "for x in range(1000, (9999)):\n",
    "    for d in range (2,x+1):\n",
    "        # print(x, d)\n",
    "        if d == x:\n",
    "            primos.append(x)\n",
    "        elif x % d == 0:\n",
    "            break\n",
    "        else:\n",
    "            continue\n",
    "#Busqueda de primos con las condicones de la serie            \n",
    "for y in primos:\n",
    "    if (y + 3330 in primos) and (y + 6660 in primos) and caract(y):\n",
    "        print(f'La serie es {y, y + 3330, y + 6660 }')\n"
   ]
  },
  {
   "cell_type": "code",
   "execution_count": 175,
   "id": "658436be-77d8-4664-85a4-4511a0950ccb",
   "metadata": {
    "tags": []
   },
   "outputs": [
    {
     "name": "stdout",
     "output_type": "stream",
     "text": [
      "La serie es (2969, 6299, 9629)\n"
     ]
    }
   ],
   "source": [
    "for y in lista9:\n",
    "    if (y + 3330 in lista9) and (y +6660 in lista9):\n",
    "        if caract(y)==4:\n",
    "            print(f'La serie es {y, y + 3330, y + 6660 }')\n",
    "    "
   ]
  },
  {
   "cell_type": "code",
   "execution_count": 163,
   "id": "a1a24689-86b3-48a9-911c-6129c9d24dab",
   "metadata": {
    "tags": []
   },
   "outputs": [],
   "source": [
    "def caract(x):\n",
    "    cont = 0\n",
    "    list_c = list(str(x))\n",
    "    list_c2= list(str(x+3330))\n",
    "    list_c3 =list(str(x+6660))\n",
    "    for c in list_c:\n",
    "        if (c in list_c2) and (c in list_c3):\n",
    "            cont = cont+1\n",
    "        \n",
    "    return cont    "
   ]
  },
  {
   "cell_type": "code",
   "execution_count": 165,
   "id": "9169a77d-3330-473d-953f-8b29600cc336",
   "metadata": {},
   "outputs": [
    {
     "data": {
      "text/plain": [
       "4"
      ]
     },
     "execution_count": 165,
     "metadata": {},
     "output_type": "execute_result"
    }
   ],
   "source": [
    "caract(1487)\n"
   ]
  },
  {
   "cell_type": "code",
   "execution_count": 145,
   "id": "eadb48f8-49e7-4374-afed-d94589e7be5e",
   "metadata": {
    "tags": []
   },
   "outputs": [
    {
     "data": {
      "text/plain": [
       "True"
      ]
     },
     "execution_count": 145,
     "metadata": {},
     "output_type": "execute_result"
    }
   ],
   "source": [
    "#4817 8147\n",
    "8147 in primos"
   ]
  },
  {
   "cell_type": "code",
   "execution_count": 158,
   "id": "146db20a-5fdd-4964-8aa9-baf068487cb8",
   "metadata": {},
   "outputs": [
    {
     "ename": "NameError",
     "evalue": "name 'cont' is not defined",
     "output_type": "error",
     "traceback": [
      "\u001b[1;31m---------------------------------------------------------------------------\u001b[0m",
      "\u001b[1;31mNameError\u001b[0m                                 Traceback (most recent call last)",
      "\u001b[1;32m<ipython-input-158-806fa32d2bee>\u001b[0m in \u001b[0;36m<module>\u001b[1;34m\u001b[0m\n\u001b[1;32m----> 1\u001b[1;33m \u001b[0mcont\u001b[0m\u001b[1;33m\u001b[0m\u001b[1;33m\u001b[0m\u001b[0m\n\u001b[0m",
      "\u001b[1;31mNameError\u001b[0m: name 'cont' is not defined"
     ]
    }
   ],
   "source": [
    "# todos los numeros deben tener igual el ultimo digito.            \n",
    "lista1 = [x for x in primos if x%10 == 1]           \n",
    "lista3 = [x for x in primos if x%10 == 3]\n",
    "lista7 = [x for x in primos if x%10 == 7]\n",
    "lista9 = [x for x in primos if x%10 == 9]"
   ]
  },
  {
   "cell_type": "code",
   "execution_count": null,
   "id": "f98054fb-37d4-4093-b011-639cc22284ab",
   "metadata": {},
   "outputs": [],
   "source": []
  },
  {
   "cell_type": "code",
   "execution_count": null,
   "id": "fb2037f5-1efa-43b8-bc9d-c354ae87109a",
   "metadata": {},
   "outputs": [],
   "source": []
  },
  {
   "cell_type": "code",
   "execution_count": null,
   "id": "89e796f4-57fa-4a8d-bb8b-003ca23e6f50",
   "metadata": {},
   "outputs": [],
   "source": []
  }
 ],
 "metadata": {
  "kernelspec": {
   "display_name": "Python 3",
   "language": "python",
   "name": "python3"
  },
  "language_info": {
   "codemirror_mode": {
    "name": "ipython",
    "version": 3
   },
   "file_extension": ".py",
   "mimetype": "text/x-python",
   "name": "python",
   "nbconvert_exporter": "python",
   "pygments_lexer": "ipython3",
   "version": "3.8.8"
  }
 },
 "nbformat": 4,
 "nbformat_minor": 5
}
