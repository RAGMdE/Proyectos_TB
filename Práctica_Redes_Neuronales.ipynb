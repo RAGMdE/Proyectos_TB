{
 "cells": [
  {
   "cell_type": "markdown",
   "metadata": {
    "colab_type": "text",
    "id": "view-in-github"
   },
   "source": [
    "<a href=\"https://colab.research.google.com/github/RAGMdE/Proyectos_TB/blob/main/Pr%C3%A1ctica_Redes_Neuronales.ipynb\" target=\"_parent\"><img src=\"https://colab.research.google.com/assets/colab-badge.svg\" alt=\"Open In Colab\"/></a>"
   ]
  },
  {
   "cell_type": "markdown",
   "metadata": {
    "id": "aFlbt3gbon-f"
   },
   "source": [
    "# **Clasificación de dígitos con Redes Neuronales**\n",
    "\n",
    "\n",
    "\n",
    "La base de datos MNIST es una gran base de datos de dígitos manuscritos que se utiliza comúnmente para la capacitación de varios sistemas de procesamiento de imágenes y las pruebas en el campo del aprendizaje automático.\n",
    "\n",
    "![MNIST](https://camo.githubusercontent.com/d440ac2eee1cb3ea33340a2c5f6f15a0878e9275/687474703a2f2f692e7974696d672e636f6d2f76692f3051493378675875422d512f687164656661756c742e6a7067)\n",
    "\n",
    "\n",
    "\n",
    "Cada imagen tiene 28 x 28 píxeles cuadrados (784 píxeles en total). Se utiliza una división estándar del conjunto de datos para evaluar y comparar modelos, en la que se utilizan 60.000 imágenes para formar un modelo y un conjunto separado de 10.000 imágenes para probarlo.\n",
    "\n"
   ]
  },
  {
   "cell_type": "markdown",
   "metadata": {
    "id": "-_aOIVIzpoiE"
   },
   "source": [
    "**Carga de datos**"
   ]
  },
  {
   "cell_type": "markdown",
   "metadata": {
    "id": "bWnIJb0CqiG1"
   },
   "source": [
    "La variable X contiene las matrices de los pixeles de los dígitos, mientras que la variable y contiene las etiquetas correspondientes a cada dígito"
   ]
  },
  {
   "cell_type": "code",
   "execution_count": 1,
   "metadata": {
    "colab": {
     "base_uri": "https://localhost:8080/"
    },
    "id": "gw-jczKfpnul",
    "outputId": "df1450f2-1f16-4982-dce2-6df985668e31"
   },
   "outputs": [
    {
     "name": "stdout",
     "output_type": "stream",
     "text": [
      "Downloading data from https://storage.googleapis.com/tensorflow/tf-keras-datasets/mnist.npz\n",
      "11493376/11490434 [==============================] - 0s 0us/step\n",
      "11501568/11490434 [==============================] - 0s 0us/step\n"
     ]
    }
   ],
   "source": [
    "from keras.datasets import mnist\n",
    "(X_train, y_train), (X_test, y_test) = mnist.load_data()"
   ]
  },
  {
   "cell_type": "code",
   "execution_count": 2,
   "metadata": {
    "colab": {
     "base_uri": "https://localhost:8080/"
    },
    "id": "yudOvotZlaeS",
    "outputId": "9e1fd2fb-4aaa-4845-eee1-c71a594c0f13"
   },
   "outputs": [
    {
     "data": {
      "text/plain": [
       "60000"
      ]
     },
     "execution_count": 2,
     "metadata": {},
     "output_type": "execute_result"
    }
   ],
   "source": [
    "len(X_train)"
   ]
  },
  {
   "cell_type": "code",
   "execution_count": 3,
   "metadata": {
    "colab": {
     "base_uri": "https://localhost:8080/"
    },
    "id": "mno3w09Ip39Q",
    "outputId": "52e6aec0-45a2-4489-b53a-096438bad251"
   },
   "outputs": [
    {
     "data": {
      "text/plain": [
       "10000"
      ]
     },
     "execution_count": 3,
     "metadata": {},
     "output_type": "execute_result"
    }
   ],
   "source": [
    "len(X_test)"
   ]
  },
  {
   "cell_type": "code",
   "execution_count": 4,
   "metadata": {
    "colab": {
     "base_uri": "https://localhost:8080/"
    },
    "id": "1flLirOfp5fn",
    "outputId": "0942c415-465c-4615-ef81-31d1d9ff55ef"
   },
   "outputs": [
    {
     "data": {
      "text/plain": [
       "(28, 28)"
      ]
     },
     "execution_count": 4,
     "metadata": {},
     "output_type": "execute_result"
    }
   ],
   "source": [
    "X_test[0].shape"
   ]
  },
  {
   "cell_type": "markdown",
   "metadata": {
    "id": "dX71rEhjqwYD"
   },
   "source": [
    "Vamos a visualizar la primera imagen del conjunto de entrenamiento\n"
   ]
  },
  {
   "cell_type": "code",
   "execution_count": 5,
   "metadata": {
    "colab": {
     "base_uri": "https://localhost:8080/",
     "height": 282
    },
    "id": "uTBgxPgHq26z",
    "outputId": "83b64ba1-1566-43a0-ba22-fb4c2c1566f9"
   },
   "outputs": [
    {
     "name": "stdout",
     "output_type": "stream",
     "text": [
      "Digit class: 5\n"
     ]
    },
    {
     "data": {
      "image/png": "[encoded data removed]",
      "text/plain": [
       "<Figure size 432x288 with 1 Axes>"
      ]
     },
     "metadata": {
      "needs_background": "light"
     },
     "output_type": "display_data"
    }
   ],
   "source": [
    "import matplotlib.pyplot as plt\n",
    "plt.imshow(X_train[0], 'gray')\n",
    "print(\"Digit class:\", y_train[0])"
   ]
  },
  {
   "cell_type": "markdown",
   "metadata": {
    "id": "y0AmAiCm12mB"
   },
   "source": [
    "Utiliza esta celda para dibujar algún otro dígito del conjunto de entrenamiento junto con su etiqueta\n"
   ]
  },
  {
   "cell_type": "code",
   "execution_count": 9,
   "metadata": {
    "colab": {
     "base_uri": "https://localhost:8080/",
     "height": 282
    },
    "id": "EctIk_XXrA4j",
    "outputId": "a8836928-e3f1-474b-d2ca-0ad935fa6d00"
   },
   "outputs": [
    {
     "name": "stdout",
     "output_type": "stream",
     "text": [
      "Digit class: 9\n"
     ]
    },
    {
     "data": {
      "image/png": "[encoded data removed]",
      "text/plain": [
       "<Figure size 432x288 with 1 Axes>"
      ]
     },
     "metadata": {
      "needs_background": "light"
     },
     "output_type": "display_data"
    }
   ],
   "source": [
    "# Introduce tu código\n",
    "plt.imshow(X_train[19], 'gray')\n",
    "print(\"Digit class:\", y_train[19])"
   ]
  },
  {
   "cell_type": "markdown",
   "metadata": {
    "id": "nUnDJE6hrXls"
   },
   "source": [
    "Antes de construir modelos de redes neuronales vamos a normalizar los datos. Al ser una imagen en escala de grises, basta por dividir entre 255 para que todos los valores estén comprendidos en el intervalo [0,1]"
   ]
  },
  {
   "cell_type": "code",
   "execution_count": 10,
   "metadata": {
    "id": "w58cUbs5rIor"
   },
   "outputs": [],
   "source": [
    "X_train = X_train.astype('float32')/255"
   ]
  },
  {
   "cell_type": "code",
   "execution_count": 12,
   "metadata": {
    "colab": {
     "base_uri": "https://localhost:8080/"
    },
    "id": "GY1t72eT-wVI",
    "outputId": "55c8ccac-d54c-4f5c-af86-ff3a796d8790"
   },
   "outputs": [
    {
     "data": {
      "text/plain": [
       "array([5, 0, 4, ..., 5, 6, 8], dtype=uint8)"
      ]
     },
     "execution_count": 12,
     "metadata": {},
     "output_type": "execute_result"
    }
   ],
   "source": [
    "y_train"
   ]
  },
  {
   "cell_type": "markdown",
   "metadata": {
    "id": "3hyhQ8pB17E4"
   },
   "source": [
    "Realiza la misma operación con el conjunto de test"
   ]
  },
  {
   "cell_type": "code",
   "execution_count": 11,
   "metadata": {
    "id": "827v7wA5rk6-"
   },
   "outputs": [],
   "source": [
    "# Introduce tu código\n",
    "X_test =X_test.astype('float32')/255"
   ]
  },
  {
   "cell_type": "markdown",
   "metadata": {
    "id": "1hn2JzLVr3L8"
   },
   "source": [
    "Para la variable de salida, tenemos que codificarla con el método 'one hot encoding'"
   ]
  },
  {
   "cell_type": "code",
   "execution_count": 13,
   "metadata": {
    "id": "ZgXDpt0zrtxe"
   },
   "outputs": [],
   "source": [
    "from keras.utils import np_utils\n",
    "Y_train = np_utils.to_categorical(y_train, 10) # We have 10 classes to codify"
   ]
  },
  {
   "cell_type": "code",
   "execution_count": 14,
   "metadata": {
    "colab": {
     "base_uri": "https://localhost:8080/"
    },
    "id": "8u0sMeUjrodm",
    "outputId": "699ac987-9257-4604-ec6d-6a3c350a9835"
   },
   "outputs": [
    {
     "data": {
      "text/plain": [
       "(array([5, 0, 4, ..., 5, 6, 8], dtype=uint8),\n",
       " array([[0., 0., 0., ..., 0., 0., 0.],\n",
       "        [1., 0., 0., ..., 0., 0., 0.],\n",
       "        [0., 0., 0., ..., 0., 0., 0.],\n",
       "        ...,\n",
       "        [0., 0., 0., ..., 0., 0., 0.],\n",
       "        [0., 0., 0., ..., 0., 0., 0.],\n",
       "        [0., 0., 0., ..., 0., 1., 0.]], dtype=float32))"
      ]
     },
     "execution_count": 14,
     "metadata": {},
     "output_type": "execute_result"
    }
   ],
   "source": [
    "y_train, Y_train"
   ]
  },
  {
   "cell_type": "markdown",
   "metadata": {
    "id": "WpW79o0H1-IW"
   },
   "source": [
    "Realiza la misma operación con el conjunto de test"
   ]
  },
  {
   "cell_type": "code",
   "execution_count": 15,
   "metadata": {
    "id": "wy-QRtElsLeI"
   },
   "outputs": [],
   "source": [
    "# Introduce tu código\n",
    "Y_test = np_utils.to_categorical(y_test, 10) # We have 10 classes to codify"
   ]
  },
  {
   "cell_type": "markdown",
   "metadata": {
    "id": "BZ7kB-tTseKf"
   },
   "source": [
    "## 1. Red neuronal de una capa\n",
    "Utilizamos una red secuencial, en la que cada capa es seguida de otra en formato de cadena"
   ]
  },
  {
   "cell_type": "code",
   "execution_count": 16,
   "metadata": {
    "id": "Xos8xLLjswKV"
   },
   "outputs": [],
   "source": [
    "from keras.models import Sequential\n",
    "model = Sequential()"
   ]
  },
  {
   "cell_type": "markdown",
   "metadata": {
    "id": "kpJtYisk2BZV"
   },
   "source": [
    "Creamos la capa, especificando el número de entradas y salidas de la red"
   ]
  },
  {
   "cell_type": "code",
   "execution_count": 17,
   "metadata": {
    "id": "j4ckTxIpsyfu"
   },
   "outputs": [],
   "source": [
    "from keras.layers.core import Dense\n",
    "denselayer = Dense(10, input_shape=(784,))"
   ]
  },
  {
   "cell_type": "markdown",
   "metadata": {
    "id": "1vjcmgzR2DDK"
   },
   "source": [
    "Añadimos la capa a la red"
   ]
  },
  {
   "cell_type": "code",
   "execution_count": 18,
   "metadata": {
    "id": "B_bAWMDN2ErZ"
   },
   "outputs": [],
   "source": [
    "model.add(denselayer)"
   ]
  },
  {
   "cell_type": "markdown",
   "metadata": {
    "id": "Rx0cVSnU2Giy"
   },
   "source": [
    "Añadimos la función de activación softmax a la salida"
   ]
  },
  {
   "cell_type": "code",
   "execution_count": 19,
   "metadata": {
    "id": "sPh8We0Yvk93"
   },
   "outputs": [],
   "source": [
    "from keras.layers.core import Activation\n",
    "model.add(Activation('softmax'))"
   ]
  },
  {
   "cell_type": "markdown",
   "metadata": {
    "id": "Rz7OenvL2IyP"
   },
   "source": [
    "La definición de la red está completa. Podemos ver una descripción de la misma con el siguiente comando"
   ]
  },
  {
   "cell_type": "code",
   "execution_count": 20,
   "metadata": {
    "colab": {
     "base_uri": "https://localhost:8080/"
    },
    "id": "rokoHCFEvrY7",
    "outputId": "b17bf6d1-b70f-4abd-bad3-657d7f0fd042"
   },
   "outputs": [
    {
     "name": "stdout",
     "output_type": "stream",
     "text": [
      "Model: \"sequential\"\n",
      "_________________________________________________________________\n",
      " Layer (type)                Output Shape              Param #   \n",
      "=================================================================\n",
      " dense (Dense)               (None, 10)                7850      \n",
      "                                                                 \n",
      " activation (Activation)     (None, 10)                0         \n",
      "                                                                 \n",
      "=================================================================\n",
      "Total params: 7,850\n",
      "Trainable params: 7,850\n",
      "Non-trainable params: 0\n",
      "_________________________________________________________________\n"
     ]
    }
   ],
   "source": [
    "model.summary()"
   ]
  },
  {
   "cell_type": "markdown",
   "metadata": {
    "id": "iESDmObV2Kx_"
   },
   "source": [
    "Tras definir la arquitectura el siguiente paso es compilar la red. Para este paso, hay que especificar la función de error (usaremos 'categorical crossentropy'), el método de optimización (usaremos 'stochastic gradient descent'), y la métrica de desempeño que queremos observar al finalizar"
   ]
  },
  {
   "cell_type": "code",
   "execution_count": 21,
   "metadata": {
    "id": "sVnRHoQTwRIO"
   },
   "outputs": [],
   "source": [
    "model.compile(loss='categorical_crossentropy', optimizer='sgd', metrics=['accuracy'])"
   ]
  },
  {
   "cell_type": "markdown",
   "metadata": {
    "id": "mQMkXvVV2YyX"
   },
   "source": [
    "A continuación vamos a entrenar la red. Para ello, debemos transformar las matrices de píxeles en vectores, para que puedan utilizarse como entrada en la red neuronal"
   ]
  },
  {
   "cell_type": "code",
   "execution_count": 22,
   "metadata": {
    "id": "lWKKS0Gt2PWg"
   },
   "outputs": [],
   "source": [
    "trainvectors = X_train.reshape(60000, 784)"
   ]
  },
  {
   "cell_type": "markdown",
   "metadata": {
    "id": "0C3r8f_02seW"
   },
   "source": [
    "Comprobamos que nuestro conjunto de entrenamiento tiene 784 columnas (características) y 60000 filas"
   ]
  },
  {
   "cell_type": "code",
   "execution_count": 23,
   "metadata": {
    "colab": {
     "base_uri": "https://localhost:8080/"
    },
    "id": "0elLMjzi2pso",
    "outputId": "53bdc5b8-610e-4838-ebfb-c3e994ea35f8"
   },
   "outputs": [
    {
     "data": {
      "text/plain": [
       "(60000, 784)"
      ]
     },
     "execution_count": 23,
     "metadata": {},
     "output_type": "execute_result"
    }
   ],
   "source": [
    "trainvectors.shape"
   ]
  },
  {
   "cell_type": "markdown",
   "metadata": {
    "id": "QsjyC0513BeJ"
   },
   "source": [
    "Realiza la misma operación en el conjunto de test\n"
   ]
  },
  {
   "cell_type": "code",
   "execution_count": 24,
   "metadata": {
    "id": "x6-uR9wr238o"
   },
   "outputs": [],
   "source": [
    "# Inserta tu código\n",
    "testvectors = X_test.reshape(10000, 784)"
   ]
  },
  {
   "cell_type": "markdown",
   "metadata": {
    "id": "CH9nATJ73LOK"
   },
   "source": [
    "Entrenamos la red con el comando **fit**\n"
   ]
  },
  {
   "cell_type": "code",
   "execution_count": 25,
   "metadata": {
    "colab": {
     "base_uri": "https://localhost:8080/"
    },
    "id": "GhlyPCjd3KdU",
    "outputId": "9e0f99e8-46bc-490e-e8a0-64075034d27a"
   },
   "outputs": [
    {
     "name": "stdout",
     "output_type": "stream",
     "text": [
      "Epoch 1/20\n",
      "469/469 - 1s - loss: 1.2913 - accuracy: 0.6960 - 1s/epoch - 3ms/step\n",
      "Epoch 2/20\n",
      "469/469 - 1s - loss: 0.7140 - accuracy: 0.8426 - 889ms/epoch - 2ms/step\n",
      "Epoch 3/20\n",
      "469/469 - 1s - loss: 0.5854 - accuracy: 0.8600 - 867ms/epoch - 2ms/step\n",
      "Epoch 4/20\n",
      "469/469 - 1s - loss: 0.5239 - accuracy: 0.8695 - 861ms/epoch - 2ms/step\n",
      "Epoch 5/20\n",
      "469/469 - 1s - loss: 0.4865 - accuracy: 0.8763 - 798ms/epoch - 2ms/step\n",
      "Epoch 6/20\n",
      "469/469 - 1s - loss: 0.4608 - accuracy: 0.8811 - 860ms/epoch - 2ms/step\n",
      "Epoch 7/20\n",
      "469/469 - 1s - loss: 0.4417 - accuracy: 0.8841 - 860ms/epoch - 2ms/step\n",
      "Epoch 8/20\n",
      "469/469 - 1s - loss: 0.4269 - accuracy: 0.8869 - 857ms/epoch - 2ms/step\n",
      "Epoch 9/20\n",
      "469/469 - 1s - loss: 0.4149 - accuracy: 0.8893 - 892ms/epoch - 2ms/step\n",
      "Epoch 10/20\n",
      "469/469 - 1s - loss: 0.4050 - accuracy: 0.8912 - 898ms/epoch - 2ms/step\n",
      "Epoch 11/20\n",
      "469/469 - 1s - loss: 0.3966 - accuracy: 0.8932 - 833ms/epoch - 2ms/step\n",
      "Epoch 12/20\n",
      "469/469 - 1s - loss: 0.3894 - accuracy: 0.8946 - 823ms/epoch - 2ms/step\n",
      "Epoch 13/20\n",
      "469/469 - 1s - loss: 0.3831 - accuracy: 0.8957 - 872ms/epoch - 2ms/step\n",
      "Epoch 14/20\n",
      "469/469 - 1s - loss: 0.3775 - accuracy: 0.8973 - 879ms/epoch - 2ms/step\n",
      "Epoch 15/20\n",
      "469/469 - 1s - loss: 0.3725 - accuracy: 0.8983 - 859ms/epoch - 2ms/step\n",
      "Epoch 16/20\n",
      "469/469 - 1s - loss: 0.3680 - accuracy: 0.8993 - 870ms/epoch - 2ms/step\n",
      "Epoch 17/20\n",
      "469/469 - 1s - loss: 0.3639 - accuracy: 0.9000 - 854ms/epoch - 2ms/step\n",
      "Epoch 18/20\n",
      "469/469 - 1s - loss: 0.3602 - accuracy: 0.9011 - 853ms/epoch - 2ms/step\n",
      "Epoch 19/20\n",
      "469/469 - 1s - loss: 0.3568 - accuracy: 0.9019 - 862ms/epoch - 2ms/step\n",
      "Epoch 20/20\n",
      "469/469 - 1s - loss: 0.3537 - accuracy: 0.9027 - 863ms/epoch - 2ms/step\n"
     ]
    },
    {
     "data": {
      "text/plain": [
       "<keras.callbacks.History at 0x7f5a45af9410>"
      ]
     },
     "execution_count": 25,
     "metadata": {},
     "output_type": "execute_result"
    }
   ],
   "source": [
    "model.fit(\n",
    "    trainvectors, # Training data\n",
    "    Y_train, # Labels of training data\n",
    "    batch_size=128, # Batch size for the optimizer algorithm\n",
    "    epochs=20, # Number of epochs to run the optimizer algorithm\n",
    "    verbose=2 # Level of verbosity of the log messages\n",
    ")"
   ]
  },
  {
   "cell_type": "markdown",
   "metadata": {
    "id": "vFEwJOi9gqJc"
   },
   "source": [
    "Una vez entrenada, obtenemos las predicciones para el conjunto de test"
   ]
  },
  {
   "cell_type": "code",
   "execution_count": 26,
   "metadata": {
    "id": "GuuPINaU4j6P"
   },
   "outputs": [],
   "source": [
    "import numpy as np\n",
    "preds = np.argmax(model.predict(testvectors), axis=-1)\n",
    "# preds = model.predict_classes(testvectors) [deprecated]"
   ]
  },
  {
   "cell_type": "markdown",
   "metadata": {
    "id": "e1HWUg2RhkuF"
   },
   "source": [
    "Comprobamos, para un ejemplo, si la predicción coincide con la realidad"
   ]
  },
  {
   "cell_type": "code",
   "execution_count": 27,
   "metadata": {
    "colab": {
     "base_uri": "https://localhost:8080/",
     "height": 282
    },
    "id": "SfMdD0B7gvPB",
    "outputId": "0fce5259-393f-4f11-df0a-2bb20c2b0637"
   },
   "outputs": [
    {
     "name": "stdout",
     "output_type": "stream",
     "text": [
      "Real class 7 predicted class 7\n"
     ]
    },
    {
     "data": {
      "image/png": "[encoded data removed]",
      "text/plain": [
       "<Figure size 432x288 with 1 Axes>"
      ]
     },
     "metadata": {
      "needs_background": "light"
     },
     "output_type": "display_data"
    }
   ],
   "source": [
    "plt.imshow(X_test[0], 'gray')\n",
    "print(\"Real class\", y_test[0], \"predicted class\", preds[0])"
   ]
  },
  {
   "cell_type": "markdown",
   "metadata": {
    "id": "IrKRkmgFm355"
   },
   "source": [
    "Veamos ejemplos en los que el modelo ha fallado"
   ]
  },
  {
   "cell_type": "code",
   "execution_count": 30,
   "metadata": {
    "colab": {
     "base_uri": "https://localhost:8080/",
     "height": 282
    },
    "id": "L32l2spBm3Sv",
    "outputId": "c69565bb-ae21-459c-8fab-ac23e18a96ab"
   },
   "outputs": [
    {
     "name": "stdout",
     "output_type": "stream",
     "text": [
      "Real class 3 predicted class 2\n"
     ]
    },
    {
     "data": {
      "image/png": "[encoded data removed]",
      "text/plain": [
       "<Figure size 432x288 with 1 Axes>"
      ]
     },
     "metadata": {
      "needs_background": "light"
     },
     "output_type": "display_data"
    }
   ],
   "source": [
    "import numpy as np\n",
    "(fails,) = np.where(y_test != preds)\n",
    "idx = 3\n",
    "plt.imshow(X_test[fails[idx]], 'gray')\n",
    "print(\"Real class\", y_test[fails[idx]], \"predicted class\", preds[fails[idx]])"
   ]
  },
  {
   "cell_type": "markdown",
   "metadata": {
    "id": "aeaa0uf4nNCy"
   },
   "source": [
    "Medimos la precisión del clasificador"
   ]
  },
  {
   "cell_type": "code",
   "execution_count": 31,
   "metadata": {
    "colab": {
     "base_uri": "https://localhost:8080/"
    },
    "id": "WE5CLCrCnMew",
    "outputId": "524c798a-f78f-4efa-bd9c-53c8b8a4a3a2"
   },
   "outputs": [
    {
     "name": "stdout",
     "output_type": "stream",
     "text": [
      "313/313 [==============================] - 1s 1ms/step - loss: 0.3356 - accuracy: 0.9070\n",
      "Test loss 0.335574209690094\n",
      "Test accuracy 0.9070000052452087\n"
     ]
    }
   ],
   "source": [
    "score = model.evaluate(testvectors, Y_test)\n",
    "print(\"Test loss\", score[0])\n",
    "print(\"Test accuracy\", score[1])"
   ]
  },
  {
   "cell_type": "markdown",
   "metadata": {
    "id": "T7FnTUzWn9VK"
   },
   "source": [
    "## 2. Red Neuronal de varias capas (Multilayer Perceptron)\n",
    "Añadimos capas a nuestra red neuronal, con función de activación de tipo sigmoide"
   ]
  },
  {
   "cell_type": "code",
   "execution_count": 32,
   "metadata": {
    "colab": {
     "base_uri": "https://localhost:8080/"
    },
    "id": "MvX0uqhYoIPU",
    "outputId": "0bfc64b5-ad93-403b-f9d0-e9983e66b091"
   },
   "outputs": [
    {
     "name": "stdout",
     "output_type": "stream",
     "text": [
      "Model: \"sequential_1\"\n",
      "_________________________________________________________________\n",
      " Layer (type)                Output Shape              Param #   \n",
      "=================================================================\n",
      " dense_1 (Dense)             (None, 10)                7850      \n",
      "                                                                 \n",
      " activation_1 (Activation)   (None, 10)                0         \n",
      "                                                                 \n",
      " dense_2 (Dense)             (None, 10)                110       \n",
      "                                                                 \n",
      " activation_2 (Activation)   (None, 10)                0         \n",
      "                                                                 \n",
      "=================================================================\n",
      "Total params: 7,960\n",
      "Trainable params: 7,960\n",
      "Non-trainable params: 0\n",
      "_________________________________________________________________\n"
     ]
    }
   ],
   "source": [
    "model = Sequential()\n",
    "model.add(Dense(10, input_shape=(784,)))\n",
    "model.add(Activation('sigmoid'))\n",
    "model.add(Dense(10))\n",
    "model.add(Activation('softmax'))\n",
    "\n",
    "model.summary()"
   ]
  },
  {
   "cell_type": "markdown",
   "metadata": {
    "id": "xY8iAvmBoiTT"
   },
   "source": [
    "Compilamos y entrenamos la nueva red, evaluando el nuevo desempeño"
   ]
  },
  {
   "cell_type": "code",
   "execution_count": 33,
   "metadata": {
    "colab": {
     "base_uri": "https://localhost:8080/"
    },
    "id": "FgoniE9dokeO",
    "outputId": "6d2bf7b7-b4a5-4486-e505-9d6162998024"
   },
   "outputs": [
    {
     "name": "stdout",
     "output_type": "stream",
     "text": [
      "Epoch 1/20\n",
      "469/469 - 1s - loss: 2.2029 - accuracy: 0.3169 - 1s/epoch - 3ms/step\n",
      "Epoch 2/20\n",
      "469/469 - 1s - loss: 1.9524 - accuracy: 0.5970 - 945ms/epoch - 2ms/step\n",
      "Epoch 3/20\n",
      "469/469 - 1s - loss: 1.7504 - accuracy: 0.6692 - 991ms/epoch - 2ms/step\n",
      "Epoch 4/20\n",
      "469/469 - 1s - loss: 1.5733 - accuracy: 0.7068 - 897ms/epoch - 2ms/step\n",
      "Epoch 5/20\n",
      "469/469 - 1s - loss: 1.4204 - accuracy: 0.7294 - 911ms/epoch - 2ms/step\n",
      "Epoch 6/20\n",
      "469/469 - 1s - loss: 1.2905 - accuracy: 0.7454 - 1s/epoch - 3ms/step\n",
      "Epoch 7/20\n",
      "469/469 - 1s - loss: 1.1812 - accuracy: 0.7590 - 895ms/epoch - 2ms/step\n",
      "Epoch 8/20\n",
      "469/469 - 1s - loss: 1.0892 - accuracy: 0.7712 - 925ms/epoch - 2ms/step\n",
      "Epoch 9/20\n",
      "469/469 - 1s - loss: 1.0118 - accuracy: 0.7822 - 911ms/epoch - 2ms/step\n",
      "Epoch 10/20\n",
      "469/469 - 1s - loss: 0.9463 - accuracy: 0.7947 - 915ms/epoch - 2ms/step\n",
      "Epoch 11/20\n",
      "469/469 - 1s - loss: 0.8905 - accuracy: 0.8047 - 881ms/epoch - 2ms/step\n",
      "Epoch 12/20\n",
      "469/469 - 1s - loss: 0.8425 - accuracy: 0.8145 - 879ms/epoch - 2ms/step\n",
      "Epoch 13/20\n",
      "469/469 - 1s - loss: 0.8009 - accuracy: 0.8238 - 897ms/epoch - 2ms/step\n",
      "Epoch 14/20\n",
      "469/469 - 1s - loss: 0.7645 - accuracy: 0.8310 - 921ms/epoch - 2ms/step\n",
      "Epoch 15/20\n",
      "469/469 - 1s - loss: 0.7325 - accuracy: 0.8375 - 892ms/epoch - 2ms/step\n",
      "Epoch 16/20\n",
      "469/469 - 1s - loss: 0.7040 - accuracy: 0.8425 - 864ms/epoch - 2ms/step\n",
      "Epoch 17/20\n",
      "469/469 - 1s - loss: 0.6787 - accuracy: 0.8480 - 848ms/epoch - 2ms/step\n",
      "Epoch 18/20\n",
      "469/469 - 1s - loss: 0.6559 - accuracy: 0.8521 - 855ms/epoch - 2ms/step\n",
      "Epoch 19/20\n",
      "469/469 - 1s - loss: 0.6353 - accuracy: 0.8558 - 857ms/epoch - 2ms/step\n",
      "Epoch 20/20\n",
      "469/469 - 1s - loss: 0.6166 - accuracy: 0.8589 - 850ms/epoch - 2ms/step\n",
      "313/313 [==============================] - 1s 1ms/step - loss: 0.5927 - accuracy: 0.8673\n",
      "Test loss 0.5927422642707825\n",
      "Test accuracy 0.8672999739646912\n"
     ]
    }
   ],
   "source": [
    "model.compile(loss='categorical_crossentropy', optimizer='sgd', metrics=['accuracy'])\n",
    "model.fit(\n",
    "    trainvectors, # Training data\n",
    "    Y_train, # Labels of training data\n",
    "    batch_size=128, # Batch size for the optimizer algorithm\n",
    "    epochs=20, # Number of epochs to run the optimizer algorithm\n",
    "    verbose=2 # Level of verbosity of the log messages\n",
    ")\n",
    "score = model.evaluate(testvectors, Y_test)\n",
    "print(\"Test loss\", score[0])\n",
    "print(\"Test accuracy\", score[1])"
   ]
  },
  {
   "cell_type": "markdown",
   "metadata": {
    "id": "Me6tP1hIpZkv"
   },
   "source": [
    "Para mejorar el desempeño de la red, vamos a incrementar el número de neuronas en las capas ocultas, utilizar la función de activación ReLU y modificar el algoritmo de optimización por *adam* (mejora del algoritmo de gradiente descendente)"
   ]
  },
  {
   "cell_type": "code",
   "execution_count": 34,
   "metadata": {
    "id": "ds55lyyqora-"
   },
   "outputs": [],
   "source": [
    "model = Sequential()\n",
    "model.add(Dense(100, input_shape=(784,)))\n",
    "model.add(Activation('relu'))\n",
    "model.add(Dense(10))\n",
    "model.add(Activation('softmax'))"
   ]
  },
  {
   "cell_type": "code",
   "execution_count": 35,
   "metadata": {
    "colab": {
     "base_uri": "https://localhost:8080/"
    },
    "id": "34VRqA4cp9Vg",
    "outputId": "804f7cad-5670-464f-9c98-23c0bc1934c7"
   },
   "outputs": [
    {
     "name": "stdout",
     "output_type": "stream",
     "text": [
      "Epoch 1/20\n",
      "469/469 - 2s - loss: 0.3802 - accuracy: 0.8952 - 2s/epoch - 4ms/step\n",
      "Epoch 2/20\n",
      "469/469 - 2s - loss: 0.1781 - accuracy: 0.9492 - 2s/epoch - 3ms/step\n",
      "Epoch 3/20\n",
      "469/469 - 1s - loss: 0.1294 - accuracy: 0.9633 - 1s/epoch - 3ms/step\n",
      "Epoch 4/20\n",
      "469/469 - 2s - loss: 0.1028 - accuracy: 0.9702 - 2s/epoch - 3ms/step\n",
      "Epoch 5/20\n",
      "469/469 - 2s - loss: 0.0843 - accuracy: 0.9757 - 2s/epoch - 3ms/step\n",
      "Epoch 6/20\n",
      "469/469 - 2s - loss: 0.0706 - accuracy: 0.9800 - 2s/epoch - 3ms/step\n",
      "Epoch 7/20\n",
      "469/469 - 2s - loss: 0.0598 - accuracy: 0.9834 - 2s/epoch - 3ms/step\n",
      "Epoch 8/20\n",
      "469/469 - 2s - loss: 0.0523 - accuracy: 0.9848 - 2s/epoch - 3ms/step\n",
      "Epoch 9/20\n",
      "469/469 - 2s - loss: 0.0451 - accuracy: 0.9876 - 2s/epoch - 3ms/step\n",
      "Epoch 10/20\n",
      "469/469 - 2s - loss: 0.0399 - accuracy: 0.9891 - 2s/epoch - 3ms/step\n",
      "Epoch 11/20\n",
      "469/469 - 2s - loss: 0.0347 - accuracy: 0.9905 - 2s/epoch - 3ms/step\n",
      "Epoch 12/20\n",
      "469/469 - 2s - loss: 0.0305 - accuracy: 0.9915 - 2s/epoch - 3ms/step\n",
      "Epoch 13/20\n",
      "469/469 - 2s - loss: 0.0261 - accuracy: 0.9931 - 2s/epoch - 3ms/step\n",
      "Epoch 14/20\n",
      "469/469 - 2s - loss: 0.0222 - accuracy: 0.9945 - 2s/epoch - 3ms/step\n",
      "Epoch 15/20\n",
      "469/469 - 2s - loss: 0.0202 - accuracy: 0.9949 - 2s/epoch - 3ms/step\n",
      "Epoch 16/20\n",
      "469/469 - 2s - loss: 0.0185 - accuracy: 0.9953 - 2s/epoch - 4ms/step\n",
      "Epoch 17/20\n",
      "469/469 - 2s - loss: 0.0161 - accuracy: 0.9962 - 2s/epoch - 3ms/step\n",
      "Epoch 18/20\n",
      "469/469 - 2s - loss: 0.0133 - accuracy: 0.9972 - 2s/epoch - 3ms/step\n",
      "Epoch 19/20\n",
      "469/469 - 2s - loss: 0.0117 - accuracy: 0.9975 - 2s/epoch - 3ms/step\n",
      "Epoch 20/20\n",
      "469/469 - 2s - loss: 0.0110 - accuracy: 0.9975 - 2s/epoch - 3ms/step\n",
      "313/313 [==============================] - 1s 2ms/step - loss: 0.0816 - accuracy: 0.9788\n",
      "Test loss 0.08157924562692642\n",
      "Test accuracy 0.9787999987602234\n"
     ]
    }
   ],
   "source": [
    "model.compile(loss='categorical_crossentropy', optimizer='adam', metrics=['accuracy'])\n",
    "model.fit(\n",
    "    trainvectors, # Training data\n",
    "    Y_train, # Labels of training data\n",
    "    batch_size=128, # Batch size for the optimizer algorithm\n",
    "    epochs=20, # Number of epochs to run the optimizer algorithm\n",
    "    verbose=2 # Level of verbosity of the log messages\n",
    ")\n",
    "score = model.evaluate(testvectors, Y_test)\n",
    "print(\"Test loss\", score[0])\n",
    "print(\"Test accuracy\", score[1])"
   ]
  },
  {
   "cell_type": "markdown",
   "metadata": {
    "id": "kUz5iGwgqGhh"
   },
   "source": [
    "Define una nueva red con dos capas ocultas, cada una con 512 neuronas y una función de activación ReLU. Para la salida, utiliza la función de activación *softmax*. Utiliza *adam* como algoritmo de optimización y compara el desempeño de esta nueva red con los resultados anteriores"
   ]
  },
  {
   "cell_type": "code",
   "execution_count": 36,
   "metadata": {
    "id": "65b5VIVsp-GC"
   },
   "outputs": [],
   "source": [
    "# Introduce tu código\n",
    "model = Sequential()\n",
    "model.add(Dense(512, input_shape=(784,)))\n",
    "model.add(Activation('relu'))\n",
    "model.add(Dense(512))\n",
    "model.add(Activation('relu'))\n",
    "model.add(Dense(10))\n",
    "model.add(Activation('softmax'))"
   ]
  },
  {
   "cell_type": "code",
   "execution_count": 37,
   "metadata": {
    "colab": {
     "base_uri": "https://localhost:8080/"
    },
    "id": "1sZSDwN9DP2d",
    "outputId": "8146c36e-3277-4048-f093-4a131b0bcdb7"
   },
   "outputs": [
    {
     "name": "stdout",
     "output_type": "stream",
     "text": [
      "Epoch 1/20\n",
      "469/469 - 6s - loss: 0.2151 - accuracy: 0.9372 - 6s/epoch - 13ms/step\n",
      "Epoch 2/20\n",
      "469/469 - 6s - loss: 0.0786 - accuracy: 0.9758 - 6s/epoch - 13ms/step\n",
      "Epoch 3/20\n",
      "469/469 - 6s - loss: 0.0513 - accuracy: 0.9832 - 6s/epoch - 13ms/step\n",
      "Epoch 4/20\n",
      "469/469 - 6s - loss: 0.0357 - accuracy: 0.9887 - 6s/epoch - 12ms/step\n",
      "Epoch 5/20\n",
      "469/469 - 6s - loss: 0.0274 - accuracy: 0.9907 - 6s/epoch - 13ms/step\n",
      "Epoch 6/20\n",
      "469/469 - 7s - loss: 0.0209 - accuracy: 0.9927 - 7s/epoch - 14ms/step\n",
      "Epoch 7/20\n",
      "469/469 - 6s - loss: 0.0169 - accuracy: 0.9941 - 6s/epoch - 12ms/step\n",
      "Epoch 8/20\n",
      "469/469 - 6s - loss: 0.0161 - accuracy: 0.9944 - 6s/epoch - 13ms/step\n",
      "Epoch 9/20\n",
      "469/469 - 6s - loss: 0.0154 - accuracy: 0.9949 - 6s/epoch - 13ms/step\n",
      "Epoch 10/20\n",
      "469/469 - 6s - loss: 0.0143 - accuracy: 0.9951 - 6s/epoch - 13ms/step\n",
      "Epoch 11/20\n",
      "469/469 - 6s - loss: 0.0110 - accuracy: 0.9964 - 6s/epoch - 13ms/step\n",
      "Epoch 12/20\n",
      "469/469 - 6s - loss: 0.0107 - accuracy: 0.9964 - 6s/epoch - 13ms/step\n",
      "Epoch 13/20\n",
      "469/469 - 6s - loss: 0.0081 - accuracy: 0.9973 - 6s/epoch - 12ms/step\n",
      "Epoch 14/20\n",
      "469/469 - 6s - loss: 0.0103 - accuracy: 0.9965 - 6s/epoch - 13ms/step\n",
      "Epoch 15/20\n",
      "469/469 - 6s - loss: 0.0106 - accuracy: 0.9968 - 6s/epoch - 13ms/step\n",
      "Epoch 16/20\n",
      "469/469 - 6s - loss: 0.0090 - accuracy: 0.9970 - 6s/epoch - 12ms/step\n",
      "Epoch 17/20\n",
      "469/469 - 6s - loss: 0.0126 - accuracy: 0.9960 - 6s/epoch - 13ms/step\n",
      "Epoch 18/20\n",
      "469/469 - 6s - loss: 0.0077 - accuracy: 0.9976 - 6s/epoch - 12ms/step\n",
      "Epoch 19/20\n",
      "469/469 - 6s - loss: 0.0029 - accuracy: 0.9991 - 6s/epoch - 13ms/step\n",
      "Epoch 20/20\n",
      "469/469 - 6s - loss: 0.0057 - accuracy: 0.9983 - 6s/epoch - 12ms/step\n",
      "313/313 [==============================] - 1s 3ms/step - loss: 0.1165 - accuracy: 0.9789\n",
      "Test loss 0.11651035398244858\n",
      "Test accuracy 0.9789000153541565\n"
     ]
    }
   ],
   "source": [
    "model.compile(loss='categorical_crossentropy', optimizer='adam', metrics=['accuracy'])\n",
    "model.fit(\n",
    "    trainvectors, # Training data\n",
    "    Y_train, # Labels of training data\n",
    "    batch_size=128, # Batch size for the optimizer algorithm\n",
    "    epochs=20, # Number of epochs to run the optimizer algorithm\n",
    "    verbose=2 # Level of verbosity of the log messages\n",
    ")\n",
    "score = model.evaluate(testvectors, Y_test)\n",
    "print(\"Test loss\", score[0])\n",
    "print(\"Test accuracy\", score[1])"
   ]
  },
  {
   "cell_type": "markdown",
   "metadata": {
    "id": "V5Qs26nqqcpT"
   },
   "source": [
    "A continuación, vamos a introducir regularización con el método **dropout**. En este ejemplo, creamos una capa dropout, que recibe las salidas de la capa anterior y las asigna a 0 con una probabilidad del 30%\n"
   ]
  },
  {
   "cell_type": "code",
   "execution_count": 38,
   "metadata": {
    "colab": {
     "base_uri": "https://localhost:8080/"
    },
    "id": "6Kkwk7KCquvr",
    "outputId": "91fc905c-dca4-4fa6-f1d1-6e7befa171ba"
   },
   "outputs": [
    {
     "name": "stdout",
     "output_type": "stream",
     "text": [
      "Epoch 1/20\n",
      "469/469 - 4s - loss: 0.2973 - accuracy: 0.9148 - 4s/epoch - 9ms/step\n",
      "Epoch 2/20\n",
      "469/469 - 4s - loss: 0.1314 - accuracy: 0.9611 - 4s/epoch - 8ms/step\n",
      "Epoch 3/20\n",
      "469/469 - 4s - loss: 0.0918 - accuracy: 0.9728 - 4s/epoch - 8ms/step\n",
      "Epoch 4/20\n",
      "469/469 - 4s - loss: 0.0722 - accuracy: 0.9779 - 4s/epoch - 8ms/step\n",
      "Epoch 5/20\n",
      "469/469 - 4s - loss: 0.0586 - accuracy: 0.9819 - 4s/epoch - 8ms/step\n",
      "Epoch 6/20\n",
      "469/469 - 4s - loss: 0.0487 - accuracy: 0.9848 - 4s/epoch - 8ms/step\n",
      "Epoch 7/20\n",
      "469/469 - 4s - loss: 0.0413 - accuracy: 0.9873 - 4s/epoch - 8ms/step\n",
      "Epoch 8/20\n",
      "469/469 - 4s - loss: 0.0352 - accuracy: 0.9888 - 4s/epoch - 8ms/step\n",
      "Epoch 9/20\n",
      "469/469 - 4s - loss: 0.0298 - accuracy: 0.9912 - 4s/epoch - 8ms/step\n",
      "Epoch 10/20\n",
      "469/469 - 4s - loss: 0.0281 - accuracy: 0.9912 - 4s/epoch - 8ms/step\n",
      "Epoch 11/20\n",
      "469/469 - 4s - loss: 0.0239 - accuracy: 0.9925 - 4s/epoch - 8ms/step\n",
      "Epoch 12/20\n",
      "469/469 - 4s - loss: 0.0225 - accuracy: 0.9930 - 4s/epoch - 8ms/step\n",
      "Epoch 13/20\n",
      "469/469 - 4s - loss: 0.0195 - accuracy: 0.9936 - 4s/epoch - 8ms/step\n",
      "Epoch 14/20\n",
      "469/469 - 4s - loss: 0.0185 - accuracy: 0.9938 - 4s/epoch - 8ms/step\n",
      "Epoch 15/20\n",
      "469/469 - 4s - loss: 0.0165 - accuracy: 0.9948 - 4s/epoch - 8ms/step\n",
      "Epoch 16/20\n",
      "469/469 - 4s - loss: 0.0137 - accuracy: 0.9957 - 4s/epoch - 8ms/step\n",
      "Epoch 17/20\n",
      "469/469 - 4s - loss: 0.0155 - accuracy: 0.9945 - 4s/epoch - 8ms/step\n",
      "Epoch 18/20\n",
      "469/469 - 4s - loss: 0.0141 - accuracy: 0.9955 - 4s/epoch - 8ms/step\n",
      "Epoch 19/20\n",
      "469/469 - 4s - loss: 0.0128 - accuracy: 0.9958 - 4s/epoch - 8ms/step\n",
      "Epoch 20/20\n",
      "469/469 - 4s - loss: 0.0120 - accuracy: 0.9956 - 4s/epoch - 8ms/step\n",
      "313/313 [==============================] - 1s 3ms/step - loss: 0.0661 - accuracy: 0.9827\n",
      "Test loss 0.06614263355731964\n",
      "Test accuracy 0.982699990272522\n"
     ]
    }
   ],
   "source": [
    "from keras.layers.core import Dropout\n",
    "model = Sequential()\n",
    "model.add(Dense(512, input_shape=(784,)))\n",
    "model.add(Activation('relu'))\n",
    "model.add(Dropout(0.3))\n",
    "model.add(Dense(10))\n",
    "model.add(Activation('softmax'))\n",
    "\n",
    "model.compile(loss='categorical_crossentropy', optimizer='adam', metrics=[\"accuracy\"])\n",
    "model.fit(\n",
    "    trainvectors, # Training data\n",
    "    Y_train, # Labels of training data\n",
    "    batch_size=128, # Batch size for the optimizer algorithm\n",
    "    epochs=20, # Number of epochs to run the optimizer algorithm\n",
    "    verbose=2 # Level of verbosity of the log messages\n",
    ")\n",
    "score = model.evaluate(testvectors, Y_test)\n",
    "print(\"Test loss\", score[0])\n",
    "print(\"Test accuracy\", score[1])"
   ]
  },
  {
   "cell_type": "markdown",
   "metadata": {
    "id": "cJ3fpNOn1fU4"
   },
   "source": [
    "## 3. Redes Neuronales Convolucionales\n",
    "Para mejorar el desempeño del clasificador de imágenes, necesitamos redes que consideren los datos de entrada como imágenes, y tengan en cuenta la relación entre los píxeles. Las redes convolutivas son la mejor manera de hacer esto"
   ]
  },
  {
   "cell_type": "markdown",
   "metadata": {
    "id": "mb_LYVPn1zvv"
   },
   "source": [
    "Para las redes convolucionales, necesitamos organizar los datos en forma de tensores, con las siguientes dimensiones:  \n",
    "- Índice de la imagen (por ejemplo, la 3ª imagen del dataset)\n",
    "- Índice de la fila\n",
    "- Índice de la columna\n",
    "- Índice del canal RGB\n",
    "\n",
    "En nuestro caso, tenemos imágenes en blanco y negro de 28 filas x 28 columnas "
   ]
  },
  {
   "cell_type": "code",
   "execution_count": 39,
   "metadata": {
    "id": "Q5A_bOyH1hoK"
   },
   "outputs": [],
   "source": [
    "traintensor = X_train.reshape(60000, 28, 28, 1)\n",
    "testtensor = X_test.reshape(10000, 28, 28, 1)"
   ]
  },
  {
   "cell_type": "markdown",
   "metadata": {
    "id": "f9E4Ku3D2Tol"
   },
   "source": [
    "Cuando definimos una red convolucional, las capas de convolución y pooling trabajan conjuntamente. La manera más habitual de utilizar estas capas es siguiendo el siguiente patrón:\n",
    "- Una capa convolucional con función de activación ReLU\n",
    "- Una capa pooling\n",
    "- Dropout (si queremos introducir regularización)\n",
    "\n",
    "Definimos por tanto nuestra red:"
   ]
  },
  {
   "cell_type": "code",
   "execution_count": 40,
   "metadata": {
    "id": "Vn3dcxz72SVD"
   },
   "outputs": [],
   "source": [
    "from keras.layers.convolutional import Convolution2D, MaxPooling2D\n",
    "\n",
    "img_rows = 28\n",
    "img_cols = 28\n",
    "kernel_size = 3 # Size of the kernel for the convolution layers\n",
    "pool_size = 2 # Size of the pooling region for the pooling layers\n",
    "\n",
    "model = Sequential()\n",
    "\n",
    "model.add(Convolution2D(32, # Number convolution channels to generate\n",
    "                        (kernel_size, kernel_size), # Size of convolution kernels\n",
    "                        padding='valid', # Strategy to deal with borders\n",
    "                        input_shape=(img_rows, img_cols, 1))) # Size = image rows x image columns x channels\n",
    "model.add(Activation('relu'))\n",
    "model.add(MaxPooling2D(pool_size=(pool_size, pool_size)))\n",
    "model.add(Dropout(0.25))"
   ]
  },
  {
   "cell_type": "markdown",
   "metadata": {
    "id": "jrPlnbbY20mO"
   },
   "source": [
    "Tras las capas convolucionales+pooling, tenemos que transformar el tensor a un vector, de manera que la salida final de la red sea el número de clases (en nuestro caso 10). Para ello creamos una capa de tipo **Flatten**, seguida de una capa de tipo **Dense**"
   ]
  },
  {
   "cell_type": "code",
   "execution_count": 41,
   "metadata": {
    "id": "2aJ1V9Dm2xXI"
   },
   "outputs": [],
   "source": [
    "from keras.layers.core import Flatten\n",
    "model.add(Flatten())\n",
    "model.add(Dense(10))\n",
    "model.add(Activation('softmax'))"
   ]
  },
  {
   "cell_type": "markdown",
   "metadata": {
    "id": "CAe8UwXn3GbI"
   },
   "source": [
    "A continuación, compilamos y entrenamos nuestra red convolucional"
   ]
  },
  {
   "cell_type": "code",
   "execution_count": 42,
   "metadata": {
    "colab": {
     "base_uri": "https://localhost:8080/"
    },
    "id": "EFxQ1OFX3Enz",
    "outputId": "882386db-7c72-4bdc-aa32-08efb758973a"
   },
   "outputs": [
    {
     "name": "stdout",
     "output_type": "stream",
     "text": [
      "Epoch 1/20\n",
      "469/469 - 23s - loss: 0.3653 - accuracy: 0.9000 - 23s/epoch - 48ms/step\n",
      "Epoch 2/20\n",
      "469/469 - 22s - loss: 0.1410 - accuracy: 0.9598 - 22s/epoch - 48ms/step\n",
      "Epoch 3/20\n",
      "469/469 - 22s - loss: 0.1049 - accuracy: 0.9694 - 22s/epoch - 48ms/step\n",
      "Epoch 4/20\n",
      "469/469 - 22s - loss: 0.0878 - accuracy: 0.9742 - 22s/epoch - 47ms/step\n",
      "Epoch 5/20\n",
      "469/469 - 22s - loss: 0.0780 - accuracy: 0.9767 - 22s/epoch - 47ms/step\n",
      "Epoch 6/20\n",
      "469/469 - 22s - loss: 0.0702 - accuracy: 0.9791 - 22s/epoch - 48ms/step\n",
      "Epoch 7/20\n",
      "469/469 - 22s - loss: 0.0652 - accuracy: 0.9807 - 22s/epoch - 48ms/step\n",
      "Epoch 8/20\n",
      "469/469 - 23s - loss: 0.0606 - accuracy: 0.9818 - 23s/epoch - 48ms/step\n",
      "Epoch 9/20\n",
      "469/469 - 23s - loss: 0.0560 - accuracy: 0.9830 - 23s/epoch - 49ms/step\n",
      "Epoch 10/20\n",
      "469/469 - 22s - loss: 0.0538 - accuracy: 0.9832 - 22s/epoch - 48ms/step\n",
      "Epoch 11/20\n",
      "469/469 - 22s - loss: 0.0507 - accuracy: 0.9845 - 22s/epoch - 47ms/step\n",
      "Epoch 12/20\n",
      "469/469 - 22s - loss: 0.0479 - accuracy: 0.9851 - 22s/epoch - 47ms/step\n",
      "Epoch 13/20\n",
      "469/469 - 22s - loss: 0.0441 - accuracy: 0.9865 - 22s/epoch - 48ms/step\n",
      "Epoch 14/20\n",
      "469/469 - 22s - loss: 0.0438 - accuracy: 0.9866 - 22s/epoch - 47ms/step\n",
      "Epoch 15/20\n",
      "469/469 - 23s - loss: 0.0412 - accuracy: 0.9873 - 23s/epoch - 48ms/step\n",
      "Epoch 16/20\n",
      "469/469 - 22s - loss: 0.0379 - accuracy: 0.9882 - 22s/epoch - 47ms/step\n",
      "Epoch 17/20\n",
      "469/469 - 22s - loss: 0.0370 - accuracy: 0.9883 - 22s/epoch - 47ms/step\n",
      "Epoch 18/20\n",
      "469/469 - 22s - loss: 0.0364 - accuracy: 0.9880 - 22s/epoch - 47ms/step\n",
      "Epoch 19/20\n",
      "469/469 - 22s - loss: 0.0348 - accuracy: 0.9887 - 22s/epoch - 47ms/step\n",
      "Epoch 20/20\n",
      "469/469 - 22s - loss: 0.0317 - accuracy: 0.9900 - 22s/epoch - 47ms/step\n",
      "313/313 [==============================] - 2s 6ms/step - loss: 0.0466 - accuracy: 0.9848\n",
      "Test loss 0.04657972976565361\n",
      "Test accuracy 0.9847999811172485\n"
     ]
    }
   ],
   "source": [
    "model.compile(loss='categorical_crossentropy', optimizer='adam', metrics=[\"accuracy\"])\n",
    "model.fit(\n",
    "    traintensor, # Training data\n",
    "    Y_train, # Labels of training data\n",
    "    batch_size=128, # Batch size for the optimizer algorithm\n",
    "    epochs=20, # Number of epochs to run the optimizer algorithm\n",
    "    verbose=2 # Level of verbosity of the log messages\n",
    ")\n",
    "score = model.evaluate(testtensor, Y_test)\n",
    "print(\"Test loss\", score[0])\n",
    "print(\"Test accuracy\", score[1])"
   ]
  },
  {
   "cell_type": "markdown",
   "metadata": {
    "id": "btCUnllU33Vt"
   },
   "source": [
    "Construye y entrena una CNN con las siguientes capas:\n",
    "- Dos capas convolucionales con 32 kernels de tamaño 3x3 y función ReLU\n",
    "- Una Capa MaxPooling de tamaño 2\n",
    "- Un 25% de DropOout\n",
    "- Una capa de tipo Flatten\n",
    "- Una capa densa con 128 neuronas y función ReLU\n",
    "- Un 50% de dropout\n",
    "- Una capa de salida densa con función de activación softmax\n",
    "\n",
    "¿Hay mejora en el desempeño?"
   ]
  },
  {
   "cell_type": "code",
   "execution_count": 47,
   "metadata": {
    "id": "x1SLr_E_3KrJ"
   },
   "outputs": [],
   "source": [
    "# Introduce tu código\n",
    "img_rows = 28\n",
    "img_cols = 28\n",
    "kernel_size = 3 # Size of the kernel for the convolution layers\n",
    "pool_size = 2 # Size of the pooling region for the pooling layers\n",
    "\n",
    "model = Sequential()\n",
    "\n",
    "model.add(Convolution2D(32, # Number convolution channels to generate\n",
    "                        (kernel_size, kernel_size), # Size of convolution kernels\n",
    "                        padding='valid', # Strategy to deal with borders\n",
    "                        input_shape=(img_rows, img_cols, 1))) # Size = image rows x image columns x channels\n",
    "model.add(Activation('relu'))\n",
    "model.add(Convolution2D(32, # Number convolution channels to generate\n",
    "                        (kernel_size, kernel_size), # Size of convolution kernels\n",
    "                        padding='valid', # Strategy to deal with borders\n",
    "                        input_shape=(img_rows, img_cols, 1))) # Size = image rows x image columns x channels\n",
    "model.add(Activation('relu'))\n",
    "model.add(MaxPooling2D(pool_size=(pool_size, pool_size)))\n",
    "model.add(Dropout(0.25))\n",
    "model.add(Flatten())\n",
    "model.add(Dense(128))\n",
    "model.add(Activation('relu'))\n",
    "model.add(Dense(10))\n",
    "model.add(Dropout(0.5))\n",
    "model.add(Activation('softmax'))\n",
    "\n"
   ]
  },
  {
   "cell_type": "code",
   "execution_count": 48,
   "metadata": {
    "colab": {
     "base_uri": "https://localhost:8080/"
    },
    "id": "nZ-4vZ5cI8Cu",
    "outputId": "c0b02dbc-d6b9-4da4-ef9f-02c81e2a26c2"
   },
   "outputs": [
    {
     "name": "stdout",
     "output_type": "stream",
     "text": [
      "Epoch 1/20\n",
      "469/469 - 91s - loss: 1.0141 - accuracy: 0.5674 - 91s/epoch - 193ms/step\n",
      "Epoch 2/20\n",
      "469/469 - 90s - loss: 0.8956 - accuracy: 0.5906 - 90s/epoch - 192ms/step\n",
      "Epoch 3/20\n",
      "469/469 - 89s - loss: 0.8787 - accuracy: 0.5944 - 89s/epoch - 191ms/step\n",
      "Epoch 4/20\n",
      "469/469 - 90s - loss: 0.8685 - accuracy: 0.5954 - 90s/epoch - 191ms/step\n",
      "Epoch 5/20\n",
      "469/469 - 89s - loss: 0.8587 - accuracy: 0.5988 - 89s/epoch - 190ms/step\n",
      "Epoch 6/20\n",
      "469/469 - 90s - loss: 0.8583 - accuracy: 0.5972 - 90s/epoch - 191ms/step\n",
      "Epoch 7/20\n",
      "469/469 - 89s - loss: 0.8554 - accuracy: 0.6004 - 89s/epoch - 190ms/step\n",
      "Epoch 8/20\n",
      "469/469 - 89s - loss: 0.8533 - accuracy: 0.5984 - 89s/epoch - 191ms/step\n",
      "Epoch 9/20\n",
      "469/469 - 89s - loss: 0.8529 - accuracy: 0.5962 - 89s/epoch - 191ms/step\n",
      "Epoch 10/20\n",
      "469/469 - 89s - loss: 0.8453 - accuracy: 0.6005 - 89s/epoch - 191ms/step\n",
      "Epoch 11/20\n",
      "469/469 - 90s - loss: 0.8444 - accuracy: 0.5991 - 90s/epoch - 191ms/step\n",
      "Epoch 12/20\n",
      "469/469 - 90s - loss: 0.8500 - accuracy: 0.5985 - 90s/epoch - 191ms/step\n",
      "Epoch 13/20\n",
      "469/469 - 89s - loss: 0.8441 - accuracy: 0.6001 - 89s/epoch - 191ms/step\n",
      "Epoch 14/20\n",
      "469/469 - 89s - loss: 0.8411 - accuracy: 0.6015 - 89s/epoch - 189ms/step\n",
      "Epoch 15/20\n",
      "469/469 - 89s - loss: 0.8459 - accuracy: 0.5980 - 89s/epoch - 189ms/step\n",
      "Epoch 16/20\n",
      "469/469 - 89s - loss: 0.8407 - accuracy: 0.6004 - 89s/epoch - 190ms/step\n",
      "Epoch 17/20\n",
      "469/469 - 89s - loss: 0.8403 - accuracy: 0.5996 - 89s/epoch - 190ms/step\n",
      "Epoch 18/20\n",
      "469/469 - 89s - loss: 0.8389 - accuracy: 0.6008 - 89s/epoch - 189ms/step\n",
      "Epoch 19/20\n",
      "469/469 - 90s - loss: 0.8398 - accuracy: 0.6003 - 90s/epoch - 191ms/step\n",
      "Epoch 20/20\n",
      "469/469 - 90s - loss: 0.8341 - accuracy: 0.6040 - 90s/epoch - 193ms/step\n",
      "313/313 [==============================] - 5s 15ms/step - loss: 0.0311 - accuracy: 0.9918\n",
      "Test loss 0.031123435124754906\n",
      "Test accuracy 0.9918000102043152\n"
     ]
    }
   ],
   "source": [
    "model.compile(loss='categorical_crossentropy', optimizer='adam', metrics=[\"accuracy\"])\n",
    "model.fit(\n",
    "    traintensor, # Training data\n",
    "    Y_train, # Labels of training data\n",
    "    batch_size=128, # Batch size for the optimizer algorithm\n",
    "    epochs=20, # Number of epochs to run the optimizer algorithm\n",
    "    verbose=2 # Level of verbosity of the log messages\n",
    ")\n",
    "score = model.evaluate(testtensor, Y_test)\n",
    "print(\"Test loss\", score[0])\n",
    "print(\"Test accuracy\", score[1])"
   ]
  },
  {
   "cell_type": "markdown",
   "metadata": {
    "id": "n5gc2Dge4mBW"
   },
   "source": [
    "Por último, probamos la arquitectura **[LeNet](http://yann.lecun.com/exdb/lenet/)**, cuya efectividad ha sido demostrada en este caso particular. Las capas que utiliza son las siguientes: \n",
    "- Capa convolucional con 20 kernels de tamaño 5 y función ReLU\n",
    "- MaxPooling de tamaño 2 y stride 2\n",
    "- 25% Dropout\n",
    "- Capa convolucional con 50 kernels de tamaño 5 y función ReLU\n",
    "- MaxPooling de tamaño 2 y stride 2\n",
    "- 25% Dropout\n",
    "- Capa Flatten\n",
    "- Capa Densa con 500 neuronas y función ReLU\n",
    "- 50% Dropout\n",
    "- Capa Densa con función softmax\n"
   ]
  },
  {
   "cell_type": "code",
   "execution_count": 49,
   "metadata": {
    "colab": {
     "base_uri": "https://localhost:8080/"
    },
    "id": "Zb34AACG4_zM",
    "outputId": "c462f77f-da89-4011-e07c-58ea70abc5b9"
   },
   "outputs": [
    {
     "name": "stdout",
     "output_type": "stream",
     "text": [
      "Epoch 1/20\n",
      "469/469 [==============================] - 49s 103ms/step - loss: 0.2733 - accuracy: 0.9123\n",
      "Epoch 2/20\n",
      "469/469 [==============================] - 48s 101ms/step - loss: 0.0796 - accuracy: 0.9753\n",
      "Epoch 3/20\n",
      "469/469 [==============================] - 48s 102ms/step - loss: 0.0602 - accuracy: 0.9811\n",
      "Epoch 4/20\n",
      "469/469 [==============================] - 47s 101ms/step - loss: 0.0502 - accuracy: 0.9846\n",
      "Epoch 5/20\n",
      "469/469 [==============================] - 48s 101ms/step - loss: 0.0423 - accuracy: 0.9871\n",
      "Epoch 6/20\n",
      "469/469 [==============================] - 48s 102ms/step - loss: 0.0376 - accuracy: 0.9879\n",
      "Epoch 7/20\n",
      "469/469 [==============================] - 47s 100ms/step - loss: 0.0345 - accuracy: 0.9889\n",
      "Epoch 8/20\n",
      "469/469 [==============================] - 47s 100ms/step - loss: 0.0312 - accuracy: 0.9903\n",
      "Epoch 9/20\n",
      "469/469 [==============================] - 47s 100ms/step - loss: 0.0289 - accuracy: 0.9906\n",
      "Epoch 10/20\n",
      "469/469 [==============================] - 47s 101ms/step - loss: 0.0275 - accuracy: 0.9915\n",
      "Epoch 11/20\n",
      "469/469 [==============================] - 47s 100ms/step - loss: 0.0266 - accuracy: 0.9912\n",
      "Epoch 12/20\n",
      "469/469 [==============================] - 47s 99ms/step - loss: 0.0244 - accuracy: 0.9924\n",
      "Epoch 13/20\n",
      "469/469 [==============================] - 47s 99ms/step - loss: 0.0218 - accuracy: 0.9933\n",
      "Epoch 14/20\n",
      "469/469 [==============================] - 46s 99ms/step - loss: 0.0220 - accuracy: 0.9930\n",
      "Epoch 15/20\n",
      "469/469 [==============================] - 46s 99ms/step - loss: 0.0193 - accuracy: 0.9937\n",
      "Epoch 16/20\n",
      "469/469 [==============================] - 47s 100ms/step - loss: 0.0212 - accuracy: 0.9932\n",
      "Epoch 17/20\n",
      "469/469 [==============================] - 46s 99ms/step - loss: 0.0197 - accuracy: 0.9938\n",
      "Epoch 18/20\n",
      "469/469 [==============================] - 46s 99ms/step - loss: 0.0184 - accuracy: 0.9940\n",
      "Epoch 19/20\n",
      "469/469 [==============================] - 46s 99ms/step - loss: 0.0182 - accuracy: 0.9944\n",
      "Epoch 20/20\n",
      "469/469 [==============================] - 47s 100ms/step - loss: 0.0162 - accuracy: 0.9945\n",
      "313/313 [==============================] - 3s 9ms/step - loss: 0.0194 - accuracy: 0.9945\n",
      "Test loss 0.019410390406847\n",
      "Test accuracy 0.9944999814033508\n"
     ]
    }
   ],
   "source": [
    "img_rows = 28\n",
    "img_cols = 28\n",
    "\n",
    "model = Sequential()\n",
    "\n",
    "model.add(Convolution2D(20, (5, 5),\n",
    "                        padding='valid',\n",
    "                        input_shape=(img_rows, img_cols, 1)))\n",
    "model.add(Activation('relu'))\n",
    "model.add(MaxPooling2D(pool_size=(2, 2), strides=(2, 2)))\n",
    "model.add(Dropout(0.25))\n",
    "model.add(Convolution2D(50, (5, 5)))\n",
    "model.add(Activation('relu'))\n",
    "model.add(MaxPooling2D(pool_size=(2, 2), strides=(2, 2)))\n",
    "model.add(Dropout(0.25))\n",
    "model.add(Flatten())\n",
    "model.add(Dense(500))\n",
    "model.add(Activation('relu'))\n",
    "model.add(Dropout(0.5))\n",
    "model.add(Dense(10))\n",
    "model.add(Activation('softmax'))\n",
    "\n",
    "model.compile(loss='categorical_crossentropy', optimizer='adam', metrics=[\"accuracy\"])\n",
    "model.fit(\n",
    "    traintensor, # Training data\n",
    "    Y_train, # Labels of training data\n",
    "    batch_size=128, # Batch size for the optimizer algorithm\n",
    "    epochs=20, # Number of epochs to run the optimizer algorithm\n",
    "    verbose=1 # Level of verbosity of the log messages\n",
    ")\n",
    "score = model.evaluate(testtensor, Y_test)\n",
    "print(\"Test loss\", score[0])\n",
    "print(\"Test accuracy\", score[1])"
   ]
  }
 ],
 "metadata": {
  "colab": {
   "collapsed_sections": [
    "BZ7kB-tTseKf",
    "T7FnTUzWn9VK",
    "cJ3fpNOn1fU4"
   ],
   "include_colab_link": true,
   "name": "Práctica Redes Neuronales",
   "provenance": []
  },
  "kernelspec": {
   "display_name": "Python 3 (ipykernel)",
   "language": "python",
   "name": "python3"
  },
  "language_info": {
   "codemirror_mode": {
    "name": "ipython",
    "version": 3
   },
   "file_extension": ".py",
   "mimetype": "text/x-python",
   "name": "python",
   "nbconvert_exporter": "python",
   "pygments_lexer": "ipython3",
   "version": "3.8.8"
  }
 },
 "nbformat": 4,
 "nbformat_minor": 4
}
