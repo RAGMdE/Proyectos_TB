{
 "cells": [
  {
   "cell_type": "code",
   "execution_count": null,
   "id": "3a7874a0-23ce-49af-a3c6-6bea19a06606",
   "metadata": {},
   "outputs": [],
   "source": []
  },
  {
   "cell_type": "markdown",
   "id": "b6d02b80-02f0-44fe-8a9c-30fe3a07f56a",
   "metadata": {},
   "source": [
    "Global Maritime Pirate Attacks (1993-2020) Exploratory Data Cleaning and Analysis\n",
    "Introduction:\n",
    "Piracy and robbery against ships is a modern day challange for international trade and commerce. In this analysis, I will clean and analyze the data to answer some key questions I have come up with to indetify how to better prepare for these events.\n",
    "Scenario:\n",
    "The US Department of Transportation's Maritime Administration has come to me with questions to direct their future trade endeavors. They have been collecting data on piracy attacks since 1993 and are trying to predict if a boarding attack is more likely to happen. They have asked me to put together a model showing them how certain data they recieve can help predict when attacks will occur so they may make better decisions on trade routes.\n",
    "Citation: Benden, P., Feng, A., Howell, C. and Dalla Riva, G.V., 2021. Crime at Sea: A Global Database of Maritime Pirate Attacks (1993–2020). Journal of Open Humanities Data, 7, p.19. DOI.\n",
    "and\n",
    "https://www.kaggle.com/n0n5ense/global-maritime-pirate-attacks-19932020?select=country_indicators.csv\n",
    "I am going to use the list of variables in each CSV that was documented by Vagif on Kaggle.\n",
    "Variable Analysis\n",
    "pirate_attacks.csv\n",
    "\n",
    "Date [Key] - Date of Attack. Used as a key with the Country Matrix data frame.\n",
    "Time - Time the attack took place, either in UTC or Local Time.\n",
    "Longitude - Longitude where the attack took place.\n",
    "Latitude - Latitude where the attack took place.\n",
    "Attack Type - Either NA (Missing), Attempted, Boarding, or Hijacked.\n",
    "Location Description - A text description of the location. With attacks taking place at sea, it is not as simple as just       naming a city or town.\n",
    "Nearest Country [Key] - The country code whose shore is closest to the attack. The resolution is around 1 km, it can be         much better depending on how detailed the mapping of the coast is in the vicinity.\n",
    "EEZ Country [Key] - The Exclusive Economic Zone country code in which the attack took place, if it took place within an         EEZ.\n",
    "Shore Distance - Distance in kilometres to the shore from the attack location. This is the true geographic distance over       the surface of the earth.\n",
    "Shore Longitude - The longitude of the closest point on the shore to the attack.\n",
    "Shore Latitude - The latitude of the closest point on the shore to the attack.\n",
    "Attack Description - The text description of the attack if it exists.\n",
    "Vessel Name - The name of the ship which was attacked if it is known.\n",
    "Vessel Type - The type of vessel attacked if known.\n",
    "Vessel Status - The status of the ship at the time it was attacked. Either NA (Missing), Berthed (Tied to a berth), Anchored (anchored at sea or in a harbour), or Steaming (ship underway).\n",
    "\n",
    "country_indicators.csv\n",
    "\n",
    "Country [Key] - The country in ISO3 country code format.\n",
    "Corruption Index - Corruption Perceptions Index.\n",
    "Homicide Rate - Total Intentional Homicides per 100,000 people.\n",
    "GPD - Gross Domestic Product (US Dollars).\n",
    "Total Fisheries Per Ton - Total Fisheries Production (metric tons).\n",
    "Total Military - Total Number of Armed Forces personnel.\n",
    "Population - Country Population.\n",
    "Unemployment Rate - Percentage of the Country Unemployed.\n",
    "Total GR - Total Government Revenue. An indication of how well the country collects taxes.\n",
    "Industry - Industrial contribution to total GDP.\n",
    "\n",
    "country_codes.csv\n",
    "\n",
    "Country [Key] - The country in ISO3 country code format.\n",
    "Region - The region the country is in.\n",
    "Country Name - The English country name.\n",
    "Key Variables\n",
    "Country - How the datasets will be joined.\n",
    "\n",
    "Longitude and Latitude - This could be used for creating a map visualization.\n",
    "\n",
    "Time - When are events most frequentley occuring?\n",
    "\n",
    "Shore Distance - Does distance to shore have a strong effect on probability of an event occuring?\n",
    "\n",
    "Vessel Status - How does the probability of an event occuring change based on status?\n",
    "\n",
    "Can using these country indicators tell us something about which countries to avoid when creating trade routes? Do these countries look similar to the logitude and latitude where attacks are frequent?\n",
    "\n",
    "Corruption Index , Homicide Rate , GPD , Total Fisheries Per Ton , Total Military , Population , Unemployment Rate , Total GR , Industry\n",
    "\n",
    "Key Questions\n",
    "1) What variables have the highest impact on probability of an attack?\n",
    "\n",
    "2) Has there been an increase in attacks in certain areas? How about an increase overall?\n",
    "\n",
    "3) Do variables associated with countries have an affect on their safety in terms of maritime trade?\n",
    "\n",
    "4) Has the frequency of different types of attacks increased or decreased over time?\n",
    "\n",
    "5) Is it common to have an ally close by where attacks are frequent? This could be useful if the US decides to be a bit riskier and go around areas frequently attacked.\n",
    "\n",
    "6) To prepare our sailors, what Vessel Status is most likely to be hit by an attack?\n",
    "\n",
    "7) Is there value in creating a continous model to advise the administration on what course of action to take? Does the data provide the answers the Administration needs?\n",
    "\n"
   ]
  },
  {
   "cell_type": "code",
   "execution_count": 1,
   "id": "a07f46c2-9a55-4533-8f70-765bbc010d85",
   "metadata": {
    "tags": []
   },
   "outputs": [],
   "source": [
    "import pandas as pd \n",
    "import numpy as np\n",
    "import matplotlib.pyplot as plt\n",
    "import seaborn as sns"
   ]
  },
  {
   "cell_type": "code",
   "execution_count": 5,
   "id": "3140905f-909f-4d6e-ad72-d9451df4af0c",
   "metadata": {
    "tags": []
   },
   "outputs": [],
   "source": [
    "df_pirates = pd.read_csv(r'C:\\Users\\ragod\\OneDrive\\Escritorio\\Proyectos_TB\\Proyectos_TB\\visualizacion\\archive\\pirate_attacks.csv')\n",
    "df_codes = pd.read_csv(r'C:\\Users\\ragod\\OneDrive\\Escritorio\\Proyectos_TB\\Proyectos_TB\\visualizacion\\archive\\country_codes.csv')\n",
    "df_country_data = pd.read_csv(r'C:\\Users\\ragod\\OneDrive\\Escritorio\\Proyectos_TB\\Proyectos_TB\\visualizacion\\archive\\country_indicators.csv')\n",
    "#df_pirates['attack_type'].unique()"
   ]
  },
  {
   "cell_type": "code",
   "execution_count": 7,
   "id": "d153af71-07ad-4c78-a6ed-3e0c35573552",
   "metadata": {},
   "outputs": [
    {
     "name": "stdout",
     "output_type": "stream",
     "text": [
      "<class 'pandas.core.frame.DataFrame'>\n",
      "RangeIndex: 7511 entries, 0 to 7510\n",
      "Data columns (total 16 columns):\n",
      " #   Column                Non-Null Count  Dtype  \n",
      "---  ------                --------------  -----  \n",
      " 0   date                  7511 non-null   object \n",
      " 1   time                  1149 non-null   object \n",
      " 2   longitude             7511 non-null   float64\n",
      " 3   latitude              7511 non-null   float64\n",
      " 4   attack_type           7391 non-null   object \n",
      " 5   location_description  7503 non-null   object \n",
      " 6   nearest_country       7492 non-null   object \n",
      " 7   eez_country           7216 non-null   object \n",
      " 8   shore_distance        7511 non-null   float64\n",
      " 9   shore_longitude       7511 non-null   float64\n",
      " 10  shore_latitude        7511 non-null   float64\n",
      " 11  attack_description    1173 non-null   object \n",
      " 12  vessel_name           6079 non-null   object \n",
      " 13  vessel_type           1173 non-null   object \n",
      " 14  vessel_status         6599 non-null   object \n",
      " 15  data_source           7511 non-null   object \n",
      "dtypes: float64(5), object(11)\n",
      "memory usage: 939.0+ KB\n"
     ]
    }
   ],
   "source": [
    "df_pirates.info()"
   ]
  },
  {
   "cell_type": "code",
   "execution_count": 10,
   "id": "7df93aee-e43b-4064-b354-0b67d3d1993e",
   "metadata": {},
   "outputs": [
    {
     "name": "stdout",
     "output_type": "stream",
     "text": [
      "<class 'pandas.core.frame.DataFrame'>\n",
      "RangeIndex: 5899 entries, 0 to 5898\n",
      "Data columns (total 11 columns):\n",
      " #   Column                   Non-Null Count  Dtype  \n",
      "---  ------                   --------------  -----  \n",
      " 0   country                  5899 non-null   object \n",
      " 1   year                     5865 non-null   float64\n",
      " 2   corruption_index         3377 non-null   float64\n",
      " 3   homicide_rate            3420 non-null   float64\n",
      " 4   GDP                      5379 non-null   float64\n",
      " 5   total_fisheries_per_ton  4991 non-null   float64\n",
      " 6   total_military           4133 non-null   float64\n",
      " 7   population               5858 non-null   float64\n",
      " 8   unemployment_rate        5055 non-null   float64\n",
      " 9   totalgr                  4119 non-null   float64\n",
      " 10  industryofgdp            4875 non-null   float64\n",
      "dtypes: float64(10), object(1)\n",
      "memory usage: 507.1+ KB\n"
     ]
    }
   ],
   "source": [
    "df_country_data.info()"
   ]
  },
  {
   "cell_type": "code",
   "execution_count": 11,
   "id": "815f783e-dbae-4b3e-9a1f-d8c8520e6aab",
   "metadata": {},
   "outputs": [
    {
     "name": "stdout",
     "output_type": "stream",
     "text": [
      "<class 'pandas.core.frame.DataFrame'>\n",
      "RangeIndex: 217 entries, 0 to 216\n",
      "Data columns (total 3 columns):\n",
      " #   Column        Non-Null Count  Dtype \n",
      "---  ------        --------------  ----- \n",
      " 0   country       217 non-null    object\n",
      " 1   region        217 non-null    object\n",
      " 2   country_name  217 non-null    object\n",
      "dtypes: object(3)\n",
      "memory usage: 5.2+ KB\n"
     ]
    }
   ],
   "source": [
    "df_codes.info()"
   ]
  },
  {
   "cell_type": "code",
   "execution_count": 12,
   "id": "3afa8125-b1e4-4e09-85c2-488eca2a872e",
   "metadata": {},
   "outputs": [
    {
     "data": {
      "text/html": [
       "<div>\n",
       "<style scoped>\n",
       "    .dataframe tbody tr th:only-of-type {\n",
       "        vertical-align: middle;\n",
       "    }\n",
       "\n",
       "    .dataframe tbody tr th {\n",
       "        vertical-align: top;\n",
       "    }\n",
       "\n",
       "    .dataframe thead th {\n",
       "        text-align: right;\n",
       "    }\n",
       "</style>\n",
       "<table border=\"1\" class=\"dataframe\">\n",
       "  <thead>\n",
       "    <tr style=\"text-align: right;\">\n",
       "      <th></th>\n",
       "      <th>country</th>\n",
       "      <th>region</th>\n",
       "      <th>country_name</th>\n",
       "    </tr>\n",
       "  </thead>\n",
       "  <tbody>\n",
       "    <tr>\n",
       "      <th>0</th>\n",
       "      <td>ABW</td>\n",
       "      <td>Latin America &amp; Caribbean</td>\n",
       "      <td>Aruba</td>\n",
       "    </tr>\n",
       "    <tr>\n",
       "      <th>1</th>\n",
       "      <td>AFG</td>\n",
       "      <td>South Asia</td>\n",
       "      <td>Afghanistan</td>\n",
       "    </tr>\n",
       "    <tr>\n",
       "      <th>2</th>\n",
       "      <td>AGO</td>\n",
       "      <td>Sub-Saharan Africa</td>\n",
       "      <td>Angola</td>\n",
       "    </tr>\n",
       "    <tr>\n",
       "      <th>3</th>\n",
       "      <td>ALB</td>\n",
       "      <td>Europe &amp; Central Asia</td>\n",
       "      <td>Albania</td>\n",
       "    </tr>\n",
       "    <tr>\n",
       "      <th>4</th>\n",
       "      <td>AND</td>\n",
       "      <td>Europe &amp; Central Asia</td>\n",
       "      <td>Andorra</td>\n",
       "    </tr>\n",
       "    <tr>\n",
       "      <th>...</th>\n",
       "      <td>...</td>\n",
       "      <td>...</td>\n",
       "      <td>...</td>\n",
       "    </tr>\n",
       "    <tr>\n",
       "      <th>212</th>\n",
       "      <td>XKX</td>\n",
       "      <td>Europe &amp; Central Asia</td>\n",
       "      <td>Kosovo</td>\n",
       "    </tr>\n",
       "    <tr>\n",
       "      <th>213</th>\n",
       "      <td>YEM</td>\n",
       "      <td>Middle East &amp; North Africa</td>\n",
       "      <td>Yemen, Rep.</td>\n",
       "    </tr>\n",
       "    <tr>\n",
       "      <th>214</th>\n",
       "      <td>ZAF</td>\n",
       "      <td>Sub-Saharan Africa</td>\n",
       "      <td>South Africa</td>\n",
       "    </tr>\n",
       "    <tr>\n",
       "      <th>215</th>\n",
       "      <td>ZMB</td>\n",
       "      <td>Sub-Saharan Africa</td>\n",
       "      <td>Zambia</td>\n",
       "    </tr>\n",
       "    <tr>\n",
       "      <th>216</th>\n",
       "      <td>ZWE</td>\n",
       "      <td>Sub-Saharan Africa</td>\n",
       "      <td>Zimbabwe</td>\n",
       "    </tr>\n",
       "  </tbody>\n",
       "</table>\n",
       "<p>217 rows × 3 columns</p>\n",
       "</div>"
      ],
      "text/plain": [
       "    country                      region  country_name\n",
       "0       ABW   Latin America & Caribbean         Aruba\n",
       "1       AFG                  South Asia   Afghanistan\n",
       "2       AGO          Sub-Saharan Africa        Angola\n",
       "3       ALB       Europe & Central Asia       Albania\n",
       "4       AND       Europe & Central Asia       Andorra\n",
       "..      ...                         ...           ...\n",
       "212     XKX       Europe & Central Asia        Kosovo\n",
       "213     YEM  Middle East & North Africa   Yemen, Rep.\n",
       "214     ZAF          Sub-Saharan Africa  South Africa\n",
       "215     ZMB          Sub-Saharan Africa        Zambia\n",
       "216     ZWE          Sub-Saharan Africa      Zimbabwe\n",
       "\n",
       "[217 rows x 3 columns]"
      ]
     },
     "execution_count": 12,
     "metadata": {},
     "output_type": "execute_result"
    }
   ],
   "source": [
    "df_codes"
   ]
  },
  {
   "cell_type": "code",
   "execution_count": null,
   "id": "bb76466a-f8fc-437b-97b9-b74f176b441c",
   "metadata": {},
   "outputs": [],
   "source": []
  }
 ],
 "metadata": {
  "kernelspec": {
   "display_name": "Python 3",
   "language": "python",
   "name": "python3"
  },
  "language_info": {
   "codemirror_mode": {
    "name": "ipython",
    "version": 3
   },
   "file_extension": ".py",
   "mimetype": "text/x-python",
   "name": "python",
   "nbconvert_exporter": "python",
   "pygments_lexer": "ipython3",
   "version": "3.8.8"
  }
 },
 "nbformat": 4,
 "nbformat_minor": 5
}
