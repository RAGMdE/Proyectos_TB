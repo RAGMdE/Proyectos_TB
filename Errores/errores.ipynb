{
 "cells": [
  {
   "cell_type": "markdown",
   "id": "0998f9a4-4fb9-4076-afb1-614e4fc2219f",
   "metadata": {
    "tags": []
   },
   "source": [
    "Se pretende obtener el listado de errores en formato csv de un fichero pdf"
   ]
  },
  {
   "cell_type": "code",
   "execution_count": 1,
   "id": "adb0e5ef-4749-4162-ba0c-67f2b56bbde3",
   "metadata": {},
   "outputs": [],
   "source": [
    "# !pip install pymupdf"
   ]
  },
  {
   "cell_type": "code",
   "execution_count": 2,
   "id": "f9f65c82-9e88-41ce-b0ea-1f71aab0f085",
   "metadata": {},
   "outputs": [],
   "source": [
    "import pandas as pd\n",
    "import numpy as np\n",
    "import fitz"
   ]
  },
  {
   "cell_type": "code",
   "execution_count": 42,
   "id": "680b0d13-2d31-4520-827d-8d55f1025129",
   "metadata": {
    "tags": []
   },
   "outputs": [],
   "source": [
    "doc = fitz.open(r'C:/Users/ragod/OneDrive/Escritorio/2022_errores_posteriores.pdf') \n",
    "#lectura d ela pagina de clasificaci\n",
    "lista =[]\n",
    "for p in range(0,277):\n",
    "    pagina = doc[p]\n",
    "    paras = pagina.get_text('blocks')\n",
    "    # la información empieza del bloque 13  al 33 apartir del elemento 5\n",
    "    for i in range(13, len(paras)-1):\n",
    "        lista.append(paras[i][4])\n"
   ]
  },
  {
   "cell_type": "code",
   "execution_count": 44,
   "id": "c7c90356-c07d-4a33-a58a-45ba5bb8f795",
   "metadata": {
    "tags": []
   },
   "outputs": [],
   "source": [
    "lista2=[]\n",
    "for n in range(0, len(lista)-1,2):\n",
    "    lista2.append(lista[n]+'\\n'+lista[n+1])"
   ]
  },
  {
   "cell_type": "code",
   "execution_count": 45,
   "id": "b9676b86-22b9-4b92-840b-4130cfc650a9",
   "metadata": {
    "tags": []
   },
   "outputs": [],
   "source": [
    "\n",
    "for n in range(len(lista2)):\n",
    "    xx = lista2[n][18:21]\n",
    "    if xx == '200':\n",
    "        lista2[n]=lista2[n][:18]+'*\\n*\\n'+lista2[n][18:]"
   ]
  },
  {
   "cell_type": "code",
   "execution_count": 46,
   "id": "0dda5c5d-36e5-4a7f-a01d-5d1ddd1298cc",
   "metadata": {
    "tags": []
   },
   "outputs": [],
   "source": [
    "for n in range(len(lista2)):\n",
    "    xx = lista2[n][18:21]\n",
    "    if xx == '000':\n",
    "        lista2[n]=lista2[n][:18]+'*\\n'+lista2[n][18:]"
   ]
  },
  {
   "cell_type": "code",
   "execution_count": 47,
   "id": "3c355352-5e4f-4f3d-b391-cb258147ff4d",
   "metadata": {},
   "outputs": [],
   "source": [
    "for n in range(len(lista2)):\n",
    "    xx = lista2[n][36:39]\n",
    "    if xx == '200':\n",
    "        lista2[n]=lista2[n][:36]+'*\\n'+lista2[n][36:]"
   ]
  },
  {
   "cell_type": "code",
   "execution_count": 48,
   "id": "028a5cab-752a-4fc5-be65-28283dfa39d9",
   "metadata": {
    "tags": []
   },
   "outputs": [],
   "source": [
    "lista3 =[]\n",
    "for n in range(0, len(lista2)):\n",
    "    lista3.append(lista2[n].split('\\n'))"
   ]
  },
  {
   "cell_type": "code",
   "execution_count": 49,
   "id": "04669a8b-5cb7-4cc9-9e40-650b204c7629",
   "metadata": {},
   "outputs": [],
   "source": [
    "for n in range(len(lista3)):\n",
    "    lista3[n][6]= lista3[n][6].replace('.', '')"
   ]
  },
  {
   "cell_type": "code",
   "execution_count": 50,
   "id": "8faba143-836a-420d-b458-e58b40a23e38",
   "metadata": {
    "tags": []
   },
   "outputs": [],
   "source": [
    "for n in range(len(lista3)):\n",
    "    lista3[n][6]= lista3[n][6].replace(',', '.')"
   ]
  },
  {
   "cell_type": "code",
   "execution_count": 51,
   "id": "0f37eb6e-44e3-4f7f-8723-a9cf2ee458b6",
   "metadata": {
    "tags": []
   },
   "outputs": [],
   "source": [
    "df =pd.DataFrame(lista3)"
   ]
  },
  {
   "cell_type": "code",
   "execution_count": 52,
   "id": "47b54b66-cda5-40fd-af14-7b04eb270966",
   "metadata": {},
   "outputs": [],
   "source": [
    "df.columns =['num_paralela','num_x','tercero','cod_op','op_2021','apli','importe','exp_gasto','exp_gestor','num_error','error','x','y']"
   ]
  },
  {
   "cell_type": "code",
   "execution_count": 53,
   "id": "95fe5711-249a-45c8-b958-9b12bf12f020",
   "metadata": {},
   "outputs": [],
   "source": [
    "df['num_error'] = np.where(df['num_error'] =='', df['error'], df['num_error'])"
   ]
  },
  {
   "cell_type": "code",
   "execution_count": 54,
   "id": "50a56883-2ddb-457c-abe9-3c32fc9e93ac",
   "metadata": {
    "tags": []
   },
   "outputs": [],
   "source": [
    "df['error'] = np.where(df['error'] ==df['num_error'], df['x'], df['error'])"
   ]
  },
  {
   "cell_type": "code",
   "execution_count": 55,
   "id": "9ac45589-b44e-4f75-b0c4-13d091513da9",
   "metadata": {},
   "outputs": [
    {
     "data": {
      "text/plain": [
       "0           \n",
       "1           \n",
       "2           \n",
       "3           \n",
       "4       None\n",
       "        ... \n",
       "3007        \n",
       "3008        \n",
       "3009        \n",
       "3010        \n",
       "3011        \n",
       "Name: y, Length: 3012, dtype: object"
      ]
     },
     "execution_count": 55,
     "metadata": {},
     "output_type": "execute_result"
    }
   ],
   "source": [
    "df.pop('x')\n",
    "df.pop('y')"
   ]
  },
  {
   "cell_type": "code",
   "execution_count": 57,
   "id": "a7d0d4b6-7b39-4344-9362-002b85fdf7d7",
   "metadata": {},
   "outputs": [],
   "source": [
    "df.to_csv('df_final.csv', index = False)"
   ]
  },
  {
   "cell_type": "code",
   "execution_count": null,
   "id": "60dc846f-1e87-48b1-929d-51f89b0d143a",
   "metadata": {},
   "outputs": [],
   "source": []
  }
 ],
 "metadata": {
  "kernelspec": {
   "display_name": "Python 3",
   "language": "python",
   "name": "python3"
  },
  "language_info": {
   "codemirror_mode": {
    "name": "ipython",
    "version": 3
   },
   "file_extension": ".py",
   "mimetype": "text/x-python",
   "name": "python",
   "nbconvert_exporter": "python",
   "pygments_lexer": "ipython3",
   "version": "3.8.8"
  }
 },
 "nbformat": 4,
 "nbformat_minor": 5
}
