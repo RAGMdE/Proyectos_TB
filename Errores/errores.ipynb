{
 "cells": [
  {
   "cell_type": "markdown",
   "id": "0998f9a4-4fb9-4076-afb1-614e4fc2219f",
   "metadata": {
    "tags": []
   },
   "source": [
    "Se pretende obtener el listado de errores en formato csv de un fichero pdf"
   ]
  },
  {
   "cell_type": "code",
   "execution_count": 1,
   "id": "adb0e5ef-4749-4162-ba0c-67f2b56bbde3",
   "metadata": {},
   "outputs": [],
   "source": [
    "# !pip install pymupdf"
   ]
  },
  {
   "cell_type": "code",
   "execution_count": 2,
   "id": "f9f65c82-9e88-41ce-b0ea-1f71aab0f085",
   "metadata": {},
   "outputs": [],
   "source": [
    "import pandas as pd\n",
    "import numpy as np\n",
    "import fitz"
   ]
  },
  {
   "cell_type": "code",
   "execution_count": 3,
   "id": "680b0d13-2d31-4520-827d-8d55f1025129",
   "metadata": {
    "tags": []
   },
   "outputs": [],
   "source": [
    "doc = fitz.open(r'C:/Users/ragod/OneDrive/Escritorio/2022_errores_posteriores.pdf') \n",
    "#lectura d ela pagina de clasificaci\n",
    "lista =[]\n",
    "for p in range(0,277):\n",
    "    pagina = doc[p]\n",
    "    paras = pagina.get_text('blocks')\n",
    "    # la información empieza del bloque 13  al 33 apartir del elemento 5\n",
    "    for i in range(13, len(paras)-1):\n",
    "        lista.append(paras[i][4])\n"
   ]
  },
  {
   "cell_type": "code",
   "execution_count": 4,
   "id": "c7c90356-c07d-4a33-a58a-45ba5bb8f795",
   "metadata": {
    "tags": []
   },
   "outputs": [],
   "source": [
    "lista2=[]\n",
    "for n in range(0, len(lista)-1,2):\n",
    "    lista2.append(lista[n]+'\\n'+lista[n+1])"
   ]
  },
  {
   "cell_type": "code",
   "execution_count": 5,
   "id": "b9676b86-22b9-4b92-840b-4130cfc650a9",
   "metadata": {
    "tags": []
   },
   "outputs": [],
   "source": [
    "\n",
    "for n in range(len(lista2)):\n",
    "    xx = lista2[n][18:21]\n",
    "    if xx == '200':\n",
    "        lista2[n]=lista2[n][:18]+'*\\n*\\n'+lista2[n][18:]"
   ]
  },
  {
   "cell_type": "code",
   "execution_count": 6,
   "id": "0dda5c5d-36e5-4a7f-a01d-5d1ddd1298cc",
   "metadata": {
    "tags": []
   },
   "outputs": [],
   "source": [
    "for n in range(len(lista2)):\n",
    "    xx = lista2[n][18:21]\n",
    "    if xx == '000':\n",
    "        lista2[n]=lista2[n][:18]+'*\\n'+lista2[n][18:]"
   ]
  },
  {
   "cell_type": "code",
   "execution_count": 7,
   "id": "3c355352-5e4f-4f3d-b391-cb258147ff4d",
   "metadata": {},
   "outputs": [],
   "source": [
    "for n in range(len(lista2)):\n",
    "    xx = lista2[n][36:39]\n",
    "    if xx == '200':\n",
    "        lista2[n]=lista2[n][:36]+'*\\n'+lista2[n][36:]"
   ]
  },
  {
   "cell_type": "code",
   "execution_count": 8,
   "id": "028a5cab-752a-4fc5-be65-28283dfa39d9",
   "metadata": {
    "tags": []
   },
   "outputs": [],
   "source": [
    "lista3 =[]\n",
    "for n in range(0, len(lista2)):\n",
    "    lista3.append(lista2[n].split('\\n'))"
   ]
  },
  {
   "cell_type": "code",
   "execution_count": 9,
   "id": "04669a8b-5cb7-4cc9-9e40-650b204c7629",
   "metadata": {},
   "outputs": [],
   "source": [
    "for n in range(len(lista3)):\n",
    "    lista3[n][6]= lista3[n][6].replace('.', '')"
   ]
  },
  {
   "cell_type": "code",
   "execution_count": 10,
   "id": "8faba143-836a-420d-b458-e58b40a23e38",
   "metadata": {
    "tags": []
   },
   "outputs": [],
   "source": [
    "for n in range(len(lista3)):\n",
    "    lista3[n][6]= lista3[n][6].replace(',', '.')"
   ]
  },
  {
   "cell_type": "code",
   "execution_count": 11,
   "id": "0f37eb6e-44e3-4f7f-8723-a9cf2ee458b6",
   "metadata": {
    "tags": []
   },
   "outputs": [],
   "source": [
    "df =pd.DataFrame(lista3)"
   ]
  },
  {
   "cell_type": "code",
   "execution_count": 12,
   "id": "47b54b66-cda5-40fd-af14-7b04eb270966",
   "metadata": {},
   "outputs": [],
   "source": [
    "df.columns =['num_paralela','num_x','tercero','cod_op','op_2021','apli','importe','exp_gasto','exp_gestor','num_error','error','x','y']"
   ]
  },
  {
   "cell_type": "code",
   "execution_count": 13,
   "id": "95fe5711-249a-45c8-b958-9b12bf12f020",
   "metadata": {},
   "outputs": [],
   "source": [
    "df['num_error'] = np.where(df['num_error'] =='', df['error'], df['num_error'])"
   ]
  },
  {
   "cell_type": "code",
   "execution_count": 14,
   "id": "50a56883-2ddb-457c-abe9-3c32fc9e93ac",
   "metadata": {
    "tags": []
   },
   "outputs": [],
   "source": [
    "df['error'] = np.where(df['error'] ==df['num_error'], df['x'], df['error'])"
   ]
  },
  {
   "cell_type": "code",
   "execution_count": 15,
   "id": "9ac45589-b44e-4f75-b0c4-13d091513da9",
   "metadata": {},
   "outputs": [
    {
     "data": {
      "text/plain": [
       "0           \n",
       "1           \n",
       "2           \n",
       "3           \n",
       "4       None\n",
       "        ... \n",
       "3007        \n",
       "3008        \n",
       "3009        \n",
       "3010        \n",
       "3011        \n",
       "Name: y, Length: 3012, dtype: object"
      ]
     },
     "execution_count": 15,
     "metadata": {},
     "output_type": "execute_result"
    }
   ],
   "source": [
    "df.pop('x')\n",
    "df.pop('y')"
   ]
  },
  {
   "cell_type": "code",
   "execution_count": 16,
   "id": "547b7203-b8c0-41bf-aa9a-46543b27c898",
   "metadata": {
    "tags": []
   },
   "outputs": [
    {
     "data": {
      "text/html": [
       "<div>\n",
       "<style scoped>\n",
       "    .dataframe tbody tr th:only-of-type {\n",
       "        vertical-align: middle;\n",
       "    }\n",
       "\n",
       "    .dataframe tbody tr th {\n",
       "        vertical-align: top;\n",
       "    }\n",
       "\n",
       "    .dataframe thead th {\n",
       "        text-align: right;\n",
       "    }\n",
       "</style>\n",
       "<table border=\"1\" class=\"dataframe\">\n",
       "  <thead>\n",
       "    <tr style=\"text-align: right;\">\n",
       "      <th></th>\n",
       "      <th>num_paralela</th>\n",
       "      <th>num_x</th>\n",
       "      <th>tercero</th>\n",
       "      <th>cod_op</th>\n",
       "      <th>op_2021</th>\n",
       "      <th>apli</th>\n",
       "      <th>importe</th>\n",
       "      <th>exp_gasto</th>\n",
       "      <th>exp_gestor</th>\n",
       "      <th>num_error</th>\n",
       "      <th>error</th>\n",
       "    </tr>\n",
       "  </thead>\n",
       "  <tbody>\n",
       "    <tr>\n",
       "      <th>153</th>\n",
       "      <td>Total</td>\n",
       "      <td>7.521.966,28</td>\n",
       "      <td>14 Servicio 01</td>\n",
       "      <td></td>\n",
       "      <td>Total Compromisos:</td>\n",
       "      <td>3.758.483,14</td>\n",
       "      <td></td>\n",
       "      <td>None</td>\n",
       "      <td>None</td>\n",
       "      <td>None</td>\n",
       "      <td>None</td>\n",
       "    </tr>\n",
       "    <tr>\n",
       "      <th>377</th>\n",
       "      <td>Total</td>\n",
       "      <td>15.022.042,05</td>\n",
       "      <td>14 Servicio 02</td>\n",
       "      <td></td>\n",
       "      <td>Total Compromisos:</td>\n",
       "      <td>7.305.585,57</td>\n",
       "      <td></td>\n",
       "      <td>None</td>\n",
       "      <td>None</td>\n",
       "      <td>None</td>\n",
       "      <td>None</td>\n",
       "    </tr>\n",
       "    <tr>\n",
       "      <th>1745</th>\n",
       "      <td>Total</td>\n",
       "      <td>18.373.709.326,6</td>\n",
       "      <td>14 Servicio 03</td>\n",
       "      <td></td>\n",
       "      <td>Total Compromisos:</td>\n",
       "      <td>14.704.943.867,91</td>\n",
       "      <td></td>\n",
       "      <td>None</td>\n",
       "      <td>None</td>\n",
       "      <td>None</td>\n",
       "      <td>None</td>\n",
       "    </tr>\n",
       "    <tr>\n",
       "      <th>1902</th>\n",
       "      <td>Total</td>\n",
       "      <td>59.333.724,76</td>\n",
       "      <td>14 Servicio 12</td>\n",
       "      <td></td>\n",
       "      <td>Total Compromisos:</td>\n",
       "      <td>30.052.720,09</td>\n",
       "      <td></td>\n",
       "      <td>None</td>\n",
       "      <td>None</td>\n",
       "      <td>None</td>\n",
       "      <td>None</td>\n",
       "    </tr>\n",
       "    <tr>\n",
       "      <th>2029</th>\n",
       "      <td>Total</td>\n",
       "      <td>88.224.920,01</td>\n",
       "      <td>14 Servicio 17</td>\n",
       "      <td></td>\n",
       "      <td>Total Compromisos:</td>\n",
       "      <td>61.328.796,63</td>\n",
       "      <td></td>\n",
       "      <td>None</td>\n",
       "      <td>None</td>\n",
       "      <td>None</td>\n",
       "      <td>None</td>\n",
       "    </tr>\n",
       "    <tr>\n",
       "      <th>2934</th>\n",
       "      <td>Total</td>\n",
       "      <td>141.277.996,19</td>\n",
       "      <td>14 Servicio 22</td>\n",
       "      <td></td>\n",
       "      <td>Total Compromisos:</td>\n",
       "      <td>63.126.321,34</td>\n",
       "      <td></td>\n",
       "      <td>None</td>\n",
       "      <td>None</td>\n",
       "      <td>None</td>\n",
       "      <td>None</td>\n",
       "    </tr>\n",
       "  </tbody>\n",
       "</table>\n",
       "</div>"
      ],
      "text/plain": [
       "     num_paralela             num_x         tercero cod_op  \\\n",
       "153         Total      7.521.966,28  14 Servicio 01          \n",
       "377         Total     15.022.042,05  14 Servicio 02          \n",
       "1745        Total  18.373.709.326,6  14 Servicio 03          \n",
       "1902        Total     59.333.724,76  14 Servicio 12          \n",
       "2029        Total     88.224.920,01  14 Servicio 17          \n",
       "2934        Total    141.277.996,19  14 Servicio 22          \n",
       "\n",
       "                 op_2021               apli importe exp_gasto exp_gestor  \\\n",
       "153   Total Compromisos:       3.758.483,14              None       None   \n",
       "377   Total Compromisos:       7.305.585,57              None       None   \n",
       "1745  Total Compromisos:  14.704.943.867,91              None       None   \n",
       "1902  Total Compromisos:      30.052.720,09              None       None   \n",
       "2029  Total Compromisos:      61.328.796,63              None       None   \n",
       "2934  Total Compromisos:      63.126.321,34              None       None   \n",
       "\n",
       "     num_error error  \n",
       "153       None  None  \n",
       "377       None  None  \n",
       "1745      None  None  \n",
       "1902      None  None  \n",
       "2029      None  None  \n",
       "2934      None  None  "
      ]
     },
     "execution_count": 16,
     "metadata": {},
     "output_type": "execute_result"
    }
   ],
   "source": [
    "df[df['num_paralela']=='Total']"
   ]
  },
  {
   "cell_type": "code",
   "execution_count": 17,
   "id": "29df4a2e-be58-4a07-a100-1e9bee0a5613",
   "metadata": {
    "tags": []
   },
   "outputs": [],
   "source": [
    "clean_index=[i for i in df.index if i not in df[df['num_paralela'] =='Total'].index]  # selecciono los indices del df que no estan en outliers\n",
    "\n",
    "df=df.iloc[clean_index]"
   ]
  },
  {
   "cell_type": "code",
   "execution_count": 18,
   "id": "a7d0d4b6-7b39-4344-9362-002b85fdf7d7",
   "metadata": {
    "tags": []
   },
   "outputs": [],
   "source": [
    "df.to_csv('df_final.csv', index = False)"
   ]
  },
  {
   "cell_type": "code",
   "execution_count": 19,
   "id": "60dc846f-1e87-48b1-929d-51f89b0d143a",
   "metadata": {},
   "outputs": [
    {
     "data": {
      "text/plain": [
       "num_paralela    object\n",
       "num_x           object\n",
       "tercero         object\n",
       "cod_op          object\n",
       "op_2021         object\n",
       "apli            object\n",
       "importe         object\n",
       "exp_gasto       object\n",
       "exp_gestor      object\n",
       "num_error       object\n",
       "error           object\n",
       "dtype: object"
      ]
     },
     "execution_count": 19,
     "metadata": {},
     "output_type": "execute_result"
    }
   ],
   "source": [
    "df.dtypes"
   ]
  },
  {
   "cell_type": "code",
   "execution_count": 20,
   "id": "38a5c845-0331-4a62-b007-b01aeed1ea67",
   "metadata": {},
   "outputs": [
    {
     "data": {
      "text/plain": [
       "Series([], dtype: int64)"
      ]
     },
     "execution_count": 20,
     "metadata": {},
     "output_type": "execute_result"
    }
   ],
   "source": [
    "nan_cols=df.isna().sum()\n",
    "\n",
    "nan_cols[nan_cols>0]"
   ]
  },
  {
   "cell_type": "code",
   "execution_count": 21,
   "id": "086321ea-6202-4fa7-9438-057c7cdc155d",
   "metadata": {},
   "outputs": [],
   "source": [
    "lista_error = [2039,2040,2041,2042,2043]\n",
    "df_erro =df.iloc[lista_error]"
   ]
  },
  {
   "cell_type": "code",
   "execution_count": 25,
   "id": "adff2d59-0366-4586-ae96-deb0411e5bea",
   "metadata": {},
   "outputs": [],
   "source": [
    "#df.iloc[lista_error,6]='980848.00'"
   ]
  },
  {
   "cell_type": "code",
   "execution_count": 31,
   "id": "addc276d-22f6-49b5-9a0a-d3ca92d27f07",
   "metadata": {},
   "outputs": [],
   "source": [
    "lista_error = [2051,2052,2053,2054,2055]\n",
    "#df.iloc[lista_error,9] =df.iloc[lista_error,8]"
   ]
  },
  {
   "cell_type": "code",
   "execution_count": 37,
   "id": "e09a68ba-ca5a-42fa-8208-9c6cad0c19c7",
   "metadata": {},
   "outputs": [
    {
     "data": {
      "text/html": [
       "<div>\n",
       "<style scoped>\n",
       "    .dataframe tbody tr th:only-of-type {\n",
       "        vertical-align: middle;\n",
       "    }\n",
       "\n",
       "    .dataframe tbody tr th {\n",
       "        vertical-align: top;\n",
       "    }\n",
       "\n",
       "    .dataframe thead th {\n",
       "        text-align: right;\n",
       "    }\n",
       "</style>\n",
       "<table border=\"1\" class=\"dataframe\">\n",
       "  <thead>\n",
       "    <tr style=\"text-align: right;\">\n",
       "      <th></th>\n",
       "      <th>num_paralela</th>\n",
       "      <th>num_x</th>\n",
       "      <th>tercero</th>\n",
       "      <th>cod_op</th>\n",
       "      <th>op_2021</th>\n",
       "      <th>apli</th>\n",
       "      <th>importe</th>\n",
       "      <th>exp_gasto</th>\n",
       "      <th>exp_gestor</th>\n",
       "      <th>num_error</th>\n",
       "      <th>error</th>\n",
       "    </tr>\n",
       "  </thead>\n",
       "  <tbody>\n",
       "    <tr>\n",
       "      <th>2056</th>\n",
       "      <td>00159222B10003032</td>\n",
       "      <td>00159221310055364</td>\n",
       "      <td>000A32032039</td>\n",
       "      <td>2003000</td>\n",
       "      <td>00159221330002332</td>\n",
       "      <td>20221422  122AU  650</td>\n",
       "      <td>4445992.79</td>\n",
       "      <td></td>\n",
       "      <td>1</td>\n",
       "      <td>1</td>\n",
       "      <td>No existe saldo para la aplicación 20221422  1...</td>\n",
       "    </tr>\n",
       "    <tr>\n",
       "      <th>2057</th>\n",
       "      <td>00159222B10003032</td>\n",
       "      <td>00159221310055364</td>\n",
       "      <td>000A32032039</td>\n",
       "      <td>2003000</td>\n",
       "      <td>00159221330002332</td>\n",
       "      <td>20221422  122AU  650</td>\n",
       "      <td>4445992.79</td>\n",
       "      <td></td>\n",
       "      <td>2</td>\n",
       "      <td>2</td>\n",
       "      <td>Insuficiencia de saldo en situación aplicación...</td>\n",
       "    </tr>\n",
       "    <tr>\n",
       "      <th>2058</th>\n",
       "      <td>00159222B10003032</td>\n",
       "      <td>00159221310055364</td>\n",
       "      <td>000A32032039</td>\n",
       "      <td>2003000</td>\n",
       "      <td>00159221330002332</td>\n",
       "      <td>20221422  122AU  650</td>\n",
       "      <td>4445992.79</td>\n",
       "      <td></td>\n",
       "      <td>3</td>\n",
       "      <td>3</td>\n",
       "      <td>Insuficiencia de saldo en Superproyecto-Aplica...</td>\n",
       "    </tr>\n",
       "    <tr>\n",
       "      <th>2059</th>\n",
       "      <td>00159222B10003032</td>\n",
       "      <td>00159221310055364</td>\n",
       "      <td>000A32032039</td>\n",
       "      <td>2003000</td>\n",
       "      <td>00159221330002332</td>\n",
       "      <td>20221422  122AU  650</td>\n",
       "      <td>4445992.79</td>\n",
       "      <td></td>\n",
       "      <td>4</td>\n",
       "      <td>4</td>\n",
       "      <td>Insuficiencia de saldo en Proyecto-Aplicación ...</td>\n",
       "    </tr>\n",
       "    <tr>\n",
       "      <th>2060</th>\n",
       "      <td>00159222B10003032</td>\n",
       "      <td>00159221310055364</td>\n",
       "      <td>000A32032039</td>\n",
       "      <td>2003000</td>\n",
       "      <td>00159221330002332</td>\n",
       "      <td>20221422  122AU  650</td>\n",
       "      <td>4445992.79</td>\n",
       "      <td></td>\n",
       "      <td>5</td>\n",
       "      <td>5</td>\n",
       "      <td>Clave 20221422  122A   65      inexistente en ...</td>\n",
       "    </tr>\n",
       "  </tbody>\n",
       "</table>\n",
       "</div>"
      ],
      "text/plain": [
       "           num_paralela              num_x       tercero   cod_op  \\\n",
       "2056  00159222B10003032  00159221310055364  000A32032039  2003000   \n",
       "2057  00159222B10003032  00159221310055364  000A32032039  2003000   \n",
       "2058  00159222B10003032  00159221310055364  000A32032039  2003000   \n",
       "2059  00159222B10003032  00159221310055364  000A32032039  2003000   \n",
       "2060  00159222B10003032  00159221310055364  000A32032039  2003000   \n",
       "\n",
       "                op_2021                  apli     importe exp_gasto  \\\n",
       "2056  00159221330002332  20221422  122AU  650  4445992.79             \n",
       "2057  00159221330002332  20221422  122AU  650  4445992.79             \n",
       "2058  00159221330002332  20221422  122AU  650  4445992.79             \n",
       "2059  00159221330002332  20221422  122AU  650  4445992.79             \n",
       "2060  00159221330002332  20221422  122AU  650  4445992.79             \n",
       "\n",
       "     exp_gestor num_error                                              error  \n",
       "2056          1         1  No existe saldo para la aplicación 20221422  1...  \n",
       "2057          2         2  Insuficiencia de saldo en situación aplicación...  \n",
       "2058          3         3  Insuficiencia de saldo en Superproyecto-Aplica...  \n",
       "2059          4         4  Insuficiencia de saldo en Proyecto-Aplicación ...  \n",
       "2060          5         5  Clave 20221422  122A   65      inexistente en ...  "
      ]
     },
     "execution_count": 37,
     "metadata": {},
     "output_type": "execute_result"
    }
   ],
   "source": [
    "df.iloc[lista_error]"
   ]
  },
  {
   "cell_type": "code",
   "execution_count": 33,
   "id": "47c624e9-926e-4412-86a3-0ad6b5c2352e",
   "metadata": {},
   "outputs": [],
   "source": [
    "#df.iloc[lista_error,6]='4445992.79'"
   ]
  },
  {
   "cell_type": "code",
   "execution_count": 35,
   "id": "114a6feb-b1de-4df1-95de-1b0ada97245c",
   "metadata": {},
   "outputs": [],
   "source": [
    "#df.iloc[lista_error,9] =df.iloc[lista_error,8]"
   ]
  },
  {
   "cell_type": "code",
   "execution_count": 40,
   "id": "24f6a09e-426c-4b2e-8c9f-437423678f7c",
   "metadata": {},
   "outputs": [],
   "source": [
    "df['importe']=df['importe'].astype(float)"
   ]
  },
  {
   "cell_type": "code",
   "execution_count": 42,
   "id": "48932a25-79f5-4c27-949f-bbc78cd4d097",
   "metadata": {},
   "outputs": [
    {
     "data": {
      "text/plain": [
       "18763898002.100002"
      ]
     },
     "execution_count": 42,
     "metadata": {},
     "output_type": "execute_result"
    }
   ],
   "source": [
    "df['importe'].sum()"
   ]
  },
  {
   "cell_type": "code",
   "execution_count": null,
   "id": "cad7d06b-12d5-4810-be0d-0f7df7fb5309",
   "metadata": {},
   "outputs": [],
   "source": []
  }
 ],
 "metadata": {
  "kernelspec": {
   "display_name": "Python 3",
   "language": "python",
   "name": "python3"
  },
  "language_info": {
   "codemirror_mode": {
    "name": "ipython",
    "version": 3
   },
   "file_extension": ".py",
   "mimetype": "text/x-python",
   "name": "python",
   "nbconvert_exporter": "python",
   "pygments_lexer": "ipython3",
   "version": "3.8.8"
  }
 },
 "nbformat": 4,
 "nbformat_minor": 5
}
