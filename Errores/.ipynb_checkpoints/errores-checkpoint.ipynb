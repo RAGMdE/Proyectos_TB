{
 "cells": [
  {
   "cell_type": "markdown",
   "id": "0998f9a4-4fb9-4076-afb1-614e4fc2219f",
   "metadata": {
    "tags": []
   },
   "source": [
    "Se pretende obtener el listado de errores en formato csv de un fichero pdf"
   ]
  },
  {
   "cell_type": "code",
   "execution_count": 1,
   "id": "adb0e5ef-4749-4162-ba0c-67f2b56bbde3",
   "metadata": {},
   "outputs": [],
   "source": [
    "# !pip install pymupdf"
   ]
  },
  {
   "cell_type": "code",
   "execution_count": 2,
   "id": "f9f65c82-9e88-41ce-b0ea-1f71aab0f085",
   "metadata": {},
   "outputs": [],
   "source": [
    "import pandas as pd\n",
    "import numpy as np\n",
    "import fitz"
   ]
  },
  {
   "cell_type": "code",
   "execution_count": 3,
   "id": "680b0d13-2d31-4520-827d-8d55f1025129",
   "metadata": {
    "tags": []
   },
   "outputs": [],
   "source": [
    "doc = fitz.open(r'C:/Users/ragod/OneDrive/Escritorio/2022_errores_posteriores.pdf') \n",
    "#lectura d ela pagina de clasificaci\n",
    "lista =[]\n",
    "for p in range(0,278):\n",
    "    pagina = doc[p]\n",
    "    paras = pagina.get_text('blocks')\n",
    "    # la información empieza del bloque 13  al 33 apartir del elemento 5\n",
    "    for i in range(13, len(paras)-1):\n",
    "        lista.append(paras[i][4])\n"
   ]
  },
  {
   "cell_type": "code",
   "execution_count": 4,
   "id": "c7c90356-c07d-4a33-a58a-45ba5bb8f795",
   "metadata": {
    "tags": []
   },
   "outputs": [],
   "source": [
    "lista2=[]\n",
    "for n in range(0, len(lista)-1,2):\n",
    "    lista2.append(lista[n]+'\\n'+lista[n+1])"
   ]
  },
  {
   "cell_type": "code",
   "execution_count": 5,
   "id": "b9676b86-22b9-4b92-840b-4130cfc650a9",
   "metadata": {
    "tags": []
   },
   "outputs": [],
   "source": [
    "\n",
    "for n in range(len(lista2)):\n",
    "    xx = lista2[n][18:21]\n",
    "    if xx == '200':\n",
    "        lista2[n]=lista2[n][:18]+'*\\n*\\n'+lista2[n][18:]"
   ]
  },
  {
   "cell_type": "code",
   "execution_count": 6,
   "id": "0dda5c5d-36e5-4a7f-a01d-5d1ddd1298cc",
   "metadata": {
    "tags": []
   },
   "outputs": [],
   "source": [
    "for n in range(len(lista2)):\n",
    "    xx = lista2[n][18:21]\n",
    "    if xx == '000':\n",
    "        lista2[n]=lista2[n][:18]+'*\\n'+lista2[n][18:]"
   ]
  },
  {
   "cell_type": "code",
   "execution_count": 7,
   "id": "3c355352-5e4f-4f3d-b391-cb258147ff4d",
   "metadata": {},
   "outputs": [],
   "source": [
    "for n in range(len(lista2)):\n",
    "    xx = lista2[n][36:39]\n",
    "    if xx == '200':\n",
    "        lista2[n]=lista2[n][:36]+'*\\n'+lista2[n][36:]"
   ]
  },
  {
   "cell_type": "code",
   "execution_count": 8,
   "id": "028a5cab-752a-4fc5-be65-28283dfa39d9",
   "metadata": {
    "tags": []
   },
   "outputs": [],
   "source": [
    "lista3 =[]\n",
    "for n in range(0, len(lista2)):\n",
    "    lista3.append(lista2[n].split('\\n'))"
   ]
  },
  {
   "cell_type": "code",
   "execution_count": 11,
   "id": "438b3ab4-f791-4de2-bdb0-9cf7718c274e",
   "metadata": {},
   "outputs": [
    {
     "data": {
      "text/plain": [
       "['00159222B10000004',\n",
       " '*',\n",
       " '000355430273',\n",
       " '2002300',\n",
       " '00159221330004190',\n",
       " '20221401  312A1  660',\n",
       " '38000,00',\n",
       " '013062100060',\n",
       " '2002140010001001795',\n",
       " '',\n",
       " '1',\n",
       " 'La operación de enlace no está todavía contabilizada para la operacion de la paralela interna 00159222B10000004',\n",
       " '']"
      ]
     },
     "execution_count": 11,
     "metadata": {},
     "output_type": "execute_result"
    }
   ],
   "source": [
    "lista3[1]"
   ]
  },
  {
   "cell_type": "code",
   "execution_count": 10,
   "id": "04669a8b-5cb7-4cc9-9e40-650b204c7629",
   "metadata": {
    "tags": []
   },
   "outputs": [
    {
     "ename": "IndexError",
     "evalue": "list index out of range",
     "output_type": "error",
     "traceback": [
      "\u001b[1;31m---------------------------------------------------------------------------\u001b[0m",
      "\u001b[1;31mIndexError\u001b[0m                                Traceback (most recent call last)",
      "\u001b[1;32m<ipython-input-10-9a51e5d09a54>\u001b[0m in \u001b[0;36m<module>\u001b[1;34m\u001b[0m\n\u001b[0;32m      1\u001b[0m \u001b[1;32mfor\u001b[0m \u001b[0mn\u001b[0m \u001b[1;32min\u001b[0m \u001b[0mrange\u001b[0m\u001b[1;33m(\u001b[0m\u001b[0mlen\u001b[0m\u001b[1;33m(\u001b[0m\u001b[0mlista3\u001b[0m\u001b[1;33m)\u001b[0m\u001b[1;33m)\u001b[0m\u001b[1;33m:\u001b[0m\u001b[1;33m\u001b[0m\u001b[1;33m\u001b[0m\u001b[0m\n\u001b[1;32m----> 2\u001b[1;33m     \u001b[0mlista3\u001b[0m\u001b[1;33m[\u001b[0m\u001b[0mn\u001b[0m\u001b[1;33m]\u001b[0m\u001b[1;33m[\u001b[0m\u001b[1;36m6\u001b[0m\u001b[1;33m]\u001b[0m\u001b[1;33m=\u001b[0m \u001b[0mlista3\u001b[0m\u001b[1;33m[\u001b[0m\u001b[0mn\u001b[0m\u001b[1;33m]\u001b[0m\u001b[1;33m[\u001b[0m\u001b[1;36m6\u001b[0m\u001b[1;33m]\u001b[0m\u001b[1;33m.\u001b[0m\u001b[0mreplace\u001b[0m\u001b[1;33m(\u001b[0m\u001b[1;34m'.'\u001b[0m\u001b[1;33m,\u001b[0m \u001b[1;34m''\u001b[0m\u001b[1;33m)\u001b[0m\u001b[1;33m\u001b[0m\u001b[1;33m\u001b[0m\u001b[0m\n\u001b[0m",
      "\u001b[1;31mIndexError\u001b[0m: list index out of range"
     ]
    }
   ],
   "source": [
    "'''\n",
    "\n",
    "for n in range(len(lista3)):\n",
    "    lista3[n][6]= lista3[n][6].replace('.', '')\n",
    "'''"
   ]
  },
  {
   "cell_type": "code",
   "execution_count": 12,
   "id": "8faba143-836a-420d-b458-e58b40a23e38",
   "metadata": {
    "tags": []
   },
   "outputs": [
    {
     "ename": "IndexError",
     "evalue": "list index out of range",
     "output_type": "error",
     "traceback": [
      "\u001b[1;31m---------------------------------------------------------------------------\u001b[0m",
      "\u001b[1;31mIndexError\u001b[0m                                Traceback (most recent call last)",
      "\u001b[1;32m<ipython-input-12-d336ded7c8bc>\u001b[0m in \u001b[0;36m<module>\u001b[1;34m\u001b[0m\n\u001b[0;32m      1\u001b[0m \u001b[1;32mfor\u001b[0m \u001b[0mj\u001b[0m \u001b[1;32min\u001b[0m \u001b[0mrange\u001b[0m\u001b[1;33m(\u001b[0m\u001b[1;36m0\u001b[0m\u001b[1;33m,\u001b[0m\u001b[0mlen\u001b[0m\u001b[1;33m(\u001b[0m\u001b[0mlista3\u001b[0m\u001b[1;33m)\u001b[0m\u001b[1;33m)\u001b[0m\u001b[1;33m:\u001b[0m\u001b[1;33m\u001b[0m\u001b[1;33m\u001b[0m\u001b[0m\n\u001b[1;32m----> 2\u001b[1;33m     \u001b[0mlista3\u001b[0m\u001b[1;33m[\u001b[0m\u001b[0mj\u001b[0m\u001b[1;33m]\u001b[0m\u001b[1;33m[\u001b[0m\u001b[1;36m6\u001b[0m\u001b[1;33m]\u001b[0m\u001b[1;33m=\u001b[0m \u001b[0mlista3\u001b[0m\u001b[1;33m[\u001b[0m\u001b[0mj\u001b[0m\u001b[1;33m]\u001b[0m\u001b[1;33m[\u001b[0m\u001b[1;36m6\u001b[0m\u001b[1;33m]\u001b[0m\u001b[1;33m.\u001b[0m\u001b[0mreplace\u001b[0m\u001b[1;33m(\u001b[0m\u001b[1;34m','\u001b[0m\u001b[1;33m,\u001b[0m \u001b[1;34m'.'\u001b[0m\u001b[1;33m)\u001b[0m\u001b[1;33m\u001b[0m\u001b[1;33m\u001b[0m\u001b[0m\n\u001b[0m",
      "\u001b[1;31mIndexError\u001b[0m: list index out of range"
     ]
    }
   ],
   "source": [
    "for j in range(0,len(lista3)):\n",
    "    lista3[j][6]= lista3[j][6].replace(',', '.')"
   ]
  },
  {
   "cell_type": "code",
   "execution_count": 13,
   "id": "868856ae-ad3d-4212-a466-68fd47090391",
   "metadata": {},
   "outputs": [
    {
     "data": {
      "text/plain": [
       "'38000.00'"
      ]
     },
     "execution_count": 13,
     "metadata": {},
     "output_type": "execute_result"
    }
   ],
   "source": [
    "lista3[0][6]"
   ]
  },
  {
   "cell_type": "code",
   "execution_count": 14,
   "id": "0f37eb6e-44e3-4f7f-8723-a9cf2ee458b6",
   "metadata": {
    "tags": []
   },
   "outputs": [],
   "source": [
    "df =pd.DataFrame(lista3)"
   ]
  },
  {
   "cell_type": "code",
   "execution_count": 15,
   "id": "47b54b66-cda5-40fd-af14-7b04eb270966",
   "metadata": {},
   "outputs": [],
   "source": [
    "df.columns =['num_paralela','num_x','tercero','cod_op','op_2021','apli','importe','exp_gasto','exp_gestor','num_error','error','x','y']"
   ]
  },
  {
   "cell_type": "code",
   "execution_count": 16,
   "id": "95fe5711-249a-45c8-b958-9b12bf12f020",
   "metadata": {},
   "outputs": [],
   "source": [
    "df['num_error'] = np.where(df['num_error'] =='', df['error'], df['num_error'])"
   ]
  },
  {
   "cell_type": "code",
   "execution_count": 17,
   "id": "50a56883-2ddb-457c-abe9-3c32fc9e93ac",
   "metadata": {
    "tags": []
   },
   "outputs": [],
   "source": [
    "df['error'] = np.where(df['error'] ==df['num_error'], df['x'], df['error'])"
   ]
  },
  {
   "cell_type": "code",
   "execution_count": 18,
   "id": "9ac45589-b44e-4f75-b0c4-13d091513da9",
   "metadata": {},
   "outputs": [
    {
     "data": {
      "text/plain": [
       "0           \n",
       "1           \n",
       "2           \n",
       "3           \n",
       "4       None\n",
       "        ... \n",
       "3017        \n",
       "3018        \n",
       "3019    None\n",
       "3020    None\n",
       "3021    None\n",
       "Name: y, Length: 3022, dtype: object"
      ]
     },
     "execution_count": 18,
     "metadata": {},
     "output_type": "execute_result"
    }
   ],
   "source": [
    "df.pop('x')\n",
    "df.pop('y')"
   ]
  },
  {
   "cell_type": "code",
   "execution_count": 19,
   "id": "547b7203-b8c0-41bf-aa9a-46543b27c898",
   "metadata": {
    "tags": []
   },
   "outputs": [
    {
     "data": {
      "text/html": [
       "<div>\n",
       "<style scoped>\n",
       "    .dataframe tbody tr th:only-of-type {\n",
       "        vertical-align: middle;\n",
       "    }\n",
       "\n",
       "    .dataframe tbody tr th {\n",
       "        vertical-align: top;\n",
       "    }\n",
       "\n",
       "    .dataframe thead th {\n",
       "        text-align: right;\n",
       "    }\n",
       "</style>\n",
       "<table border=\"1\" class=\"dataframe\">\n",
       "  <thead>\n",
       "    <tr style=\"text-align: right;\">\n",
       "      <th></th>\n",
       "      <th>num_paralela</th>\n",
       "      <th>num_x</th>\n",
       "      <th>tercero</th>\n",
       "      <th>cod_op</th>\n",
       "      <th>op_2021</th>\n",
       "      <th>apli</th>\n",
       "      <th>importe</th>\n",
       "      <th>exp_gasto</th>\n",
       "      <th>exp_gestor</th>\n",
       "      <th>num_error</th>\n",
       "      <th>error</th>\n",
       "    </tr>\n",
       "  </thead>\n",
       "  <tbody>\n",
       "    <tr>\n",
       "      <th>153</th>\n",
       "      <td>Total</td>\n",
       "      <td>7.521.966,28</td>\n",
       "      <td>14 Servicio 01</td>\n",
       "      <td></td>\n",
       "      <td>Total Compromisos:</td>\n",
       "      <td>3.758.483,14</td>\n",
       "      <td></td>\n",
       "      <td>None</td>\n",
       "      <td>None</td>\n",
       "      <td>None</td>\n",
       "      <td>None</td>\n",
       "    </tr>\n",
       "    <tr>\n",
       "      <th>377</th>\n",
       "      <td>Total</td>\n",
       "      <td>15.022.042,05</td>\n",
       "      <td>14 Servicio 02</td>\n",
       "      <td></td>\n",
       "      <td>Total Compromisos:</td>\n",
       "      <td>7.305.585,57</td>\n",
       "      <td></td>\n",
       "      <td>None</td>\n",
       "      <td>None</td>\n",
       "      <td>None</td>\n",
       "      <td>None</td>\n",
       "    </tr>\n",
       "    <tr>\n",
       "      <th>1745</th>\n",
       "      <td>Total</td>\n",
       "      <td>18.373.709.326,6</td>\n",
       "      <td>14 Servicio 03</td>\n",
       "      <td></td>\n",
       "      <td>Total Compromisos:</td>\n",
       "      <td>14.704.943.867,91</td>\n",
       "      <td></td>\n",
       "      <td>None</td>\n",
       "      <td>None</td>\n",
       "      <td>None</td>\n",
       "      <td>None</td>\n",
       "    </tr>\n",
       "    <tr>\n",
       "      <th>1902</th>\n",
       "      <td>Total</td>\n",
       "      <td>59.333.724,76</td>\n",
       "      <td>14 Servicio 12</td>\n",
       "      <td></td>\n",
       "      <td>Total Compromisos:</td>\n",
       "      <td>30.052.720,09</td>\n",
       "      <td></td>\n",
       "      <td>None</td>\n",
       "      <td>None</td>\n",
       "      <td>None</td>\n",
       "      <td>None</td>\n",
       "    </tr>\n",
       "    <tr>\n",
       "      <th>2029</th>\n",
       "      <td>Total</td>\n",
       "      <td>88.224.920,01</td>\n",
       "      <td>14 Servicio 17</td>\n",
       "      <td></td>\n",
       "      <td>Total Compromisos:</td>\n",
       "      <td>61.328.796,63</td>\n",
       "      <td></td>\n",
       "      <td>None</td>\n",
       "      <td>None</td>\n",
       "      <td>None</td>\n",
       "      <td>None</td>\n",
       "    </tr>\n",
       "    <tr>\n",
       "      <th>2934</th>\n",
       "      <td>Total</td>\n",
       "      <td>141.277.996,19</td>\n",
       "      <td>14 Servicio 22</td>\n",
       "      <td></td>\n",
       "      <td>Total Compromisos:</td>\n",
       "      <td>63.126.321,34</td>\n",
       "      <td></td>\n",
       "      <td>None</td>\n",
       "      <td>None</td>\n",
       "      <td>None</td>\n",
       "      <td>None</td>\n",
       "    </tr>\n",
       "    <tr>\n",
       "      <th>3019</th>\n",
       "      <td>Total</td>\n",
       "      <td>79.629.914,76</td>\n",
       "      <td>14 Servicio 50</td>\n",
       "      <td></td>\n",
       "      <td>Total Compromisos:</td>\n",
       "      <td>33.179.131,15</td>\n",
       "      <td></td>\n",
       "      <td>None</td>\n",
       "      <td>None</td>\n",
       "      <td>None</td>\n",
       "      <td>None</td>\n",
       "    </tr>\n",
       "  </tbody>\n",
       "</table>\n",
       "</div>"
      ],
      "text/plain": [
       "     num_paralela             num_x         tercero cod_op  \\\n",
       "153         Total      7.521.966,28  14 Servicio 01          \n",
       "377         Total     15.022.042,05  14 Servicio 02          \n",
       "1745        Total  18.373.709.326,6  14 Servicio 03          \n",
       "1902        Total     59.333.724,76  14 Servicio 12          \n",
       "2029        Total     88.224.920,01  14 Servicio 17          \n",
       "2934        Total    141.277.996,19  14 Servicio 22          \n",
       "3019        Total     79.629.914,76  14 Servicio 50          \n",
       "\n",
       "                 op_2021               apli importe exp_gasto exp_gestor  \\\n",
       "153   Total Compromisos:       3.758.483,14              None       None   \n",
       "377   Total Compromisos:       7.305.585,57              None       None   \n",
       "1745  Total Compromisos:  14.704.943.867,91              None       None   \n",
       "1902  Total Compromisos:      30.052.720,09              None       None   \n",
       "2029  Total Compromisos:      61.328.796,63              None       None   \n",
       "2934  Total Compromisos:      63.126.321,34              None       None   \n",
       "3019  Total Compromisos:      33.179.131,15              None       None   \n",
       "\n",
       "     num_error error  \n",
       "153       None  None  \n",
       "377       None  None  \n",
       "1745      None  None  \n",
       "1902      None  None  \n",
       "2029      None  None  \n",
       "2934      None  None  \n",
       "3019      None  None  "
      ]
     },
     "execution_count": 19,
     "metadata": {},
     "output_type": "execute_result"
    }
   ],
   "source": [
    "df[df['num_paralela']=='Total']"
   ]
  },
  {
   "cell_type": "code",
   "execution_count": 20,
   "id": "6a58c447-a8bb-486e-a2cb-b538adabc184",
   "metadata": {},
   "outputs": [
    {
     "data": {
      "text/html": [
       "<div>\n",
       "<style scoped>\n",
       "    .dataframe tbody tr th:only-of-type {\n",
       "        vertical-align: middle;\n",
       "    }\n",
       "\n",
       "    .dataframe tbody tr th {\n",
       "        vertical-align: top;\n",
       "    }\n",
       "\n",
       "    .dataframe thead th {\n",
       "        text-align: right;\n",
       "    }\n",
       "</style>\n",
       "<table border=\"1\" class=\"dataframe\">\n",
       "  <thead>\n",
       "    <tr style=\"text-align: right;\">\n",
       "      <th></th>\n",
       "      <th>num_paralela</th>\n",
       "      <th>num_x</th>\n",
       "      <th>tercero</th>\n",
       "      <th>cod_op</th>\n",
       "      <th>op_2021</th>\n",
       "      <th>apli</th>\n",
       "      <th>importe</th>\n",
       "      <th>exp_gasto</th>\n",
       "      <th>exp_gestor</th>\n",
       "      <th>num_error</th>\n",
       "      <th>error</th>\n",
       "    </tr>\n",
       "  </thead>\n",
       "  <tbody>\n",
       "    <tr>\n",
       "      <th>3020</th>\n",
       "      <td>Total General</td>\n",
       "      <td>18.764.719.890,66</td>\n",
       "      <td></td>\n",
       "      <td>Total General</td>\n",
       "      <td>14.903.694.905,83</td>\n",
       "      <td></td>\n",
       "      <td>None</td>\n",
       "      <td>None</td>\n",
       "      <td>None</td>\n",
       "      <td>None</td>\n",
       "      <td>None</td>\n",
       "    </tr>\n",
       "    <tr>\n",
       "      <th>3021</th>\n",
       "      <td>Página 278 de 278</td>\n",
       "      <td></td>\n",
       "      <td>00159222B10000003</td>\n",
       "      <td></td>\n",
       "      <td>None</td>\n",
       "      <td>None</td>\n",
       "      <td>None</td>\n",
       "      <td>None</td>\n",
       "      <td>None</td>\n",
       "      <td>None</td>\n",
       "      <td>None</td>\n",
       "    </tr>\n",
       "  </tbody>\n",
       "</table>\n",
       "</div>"
      ],
      "text/plain": [
       "           num_paralela              num_x            tercero         cod_op  \\\n",
       "3020      Total General  18.764.719.890,66                     Total General   \n",
       "3021  Página 278 de 278                     00159222B10000003                  \n",
       "\n",
       "                op_2021  apli importe exp_gasto exp_gestor num_error error  \n",
       "3020  14.903.694.905,83          None      None       None      None  None  \n",
       "3021               None  None    None      None       None      None  None  "
      ]
     },
     "execution_count": 20,
     "metadata": {},
     "output_type": "execute_result"
    }
   ],
   "source": [
    "df[df['importe'].isnull()]"
   ]
  },
  {
   "cell_type": "code",
   "execution_count": 21,
   "id": "29df4a2e-be58-4a07-a100-1e9bee0a5613",
   "metadata": {
    "tags": []
   },
   "outputs": [],
   "source": [
    "clean_index=[i for i in df.index if i not in df[df['num_paralela'] =='Total'].index]  # selecciono los indices del df que no estan en outliers\n",
    "clean_index\n",
    "\n",
    "df = df.iloc[clean_index]"
   ]
  },
  {
   "cell_type": "code",
   "execution_count": 194,
   "id": "8e6741f9-af47-4e99-8060-9e598f947b8e",
   "metadata": {},
   "outputs": [
    {
     "ename": "SyntaxError",
     "evalue": "invalid syntax (<ipython-input-194-8c3b23d9485a>, line 4)",
     "output_type": "error",
     "traceback": [
      "\u001b[1;36m  File \u001b[1;32m\"<ipython-input-194-8c3b23d9485a>\"\u001b[1;36m, line \u001b[1;32m4\u001b[0m\n\u001b[1;33m    df=df.iloc[clean_index]\u001b[0m\n\u001b[1;37m    ^\u001b[0m\n\u001b[1;31mSyntaxError\u001b[0m\u001b[1;31m:\u001b[0m invalid syntax\n"
     ]
    }
   ],
   "source": [
    "# selecciono los indices del df que no estan en outliers\n",
    "clean_index=[i for i in df.index if i not in df[df['num_paralela']=='Total']\n",
    "\n",
    "df=df.iloc[clean_index]"
   ]
  },
  {
   "cell_type": "code",
   "execution_count": 18,
   "id": "a7d0d4b6-7b39-4344-9362-002b85fdf7d7",
   "metadata": {
    "tags": []
   },
   "outputs": [],
   "source": [
    "#df.to_csv('df_final.csv', index = False)"
   ]
  },
  {
   "cell_type": "code",
   "execution_count": 22,
   "id": "60dc846f-1e87-48b1-929d-51f89b0d143a",
   "metadata": {},
   "outputs": [
    {
     "data": {
      "text/plain": [
       "num_paralela    object\n",
       "num_x           object\n",
       "tercero         object\n",
       "cod_op          object\n",
       "op_2021         object\n",
       "apli            object\n",
       "importe         object\n",
       "exp_gasto       object\n",
       "exp_gestor      object\n",
       "num_error       object\n",
       "error           object\n",
       "dtype: object"
      ]
     },
     "execution_count": 22,
     "metadata": {},
     "output_type": "execute_result"
    }
   ],
   "source": [
    "df.dtypes"
   ]
  },
  {
   "cell_type": "code",
   "execution_count": 23,
   "id": "38a5c845-0331-4a62-b007-b01aeed1ea67",
   "metadata": {},
   "outputs": [
    {
     "data": {
      "text/plain": [
       "op_2021       1\n",
       "apli          1\n",
       "importe       2\n",
       "exp_gasto     2\n",
       "exp_gestor    2\n",
       "num_error     2\n",
       "error         2\n",
       "dtype: int64"
      ]
     },
     "execution_count": 23,
     "metadata": {},
     "output_type": "execute_result"
    }
   ],
   "source": [
    "nan_cols=df.isna().sum()\n",
    "\n",
    "nan_cols[nan_cols>0]"
   ]
  },
  {
   "cell_type": "code",
   "execution_count": 24,
   "id": "086321ea-6202-4fa7-9438-057c7cdc155d",
   "metadata": {},
   "outputs": [],
   "source": [
    "lista_error = [2038,2039,2040,2041,2042,2043]\n",
    "df_erro =df.iloc[lista_error]"
   ]
  },
  {
   "cell_type": "code",
   "execution_count": 25,
   "id": "a6f7473a-652b-4d6c-8111-0b3601b7f5c2",
   "metadata": {
    "tags": []
   },
   "outputs": [
    {
     "data": {
      "text/html": [
       "<div>\n",
       "<style scoped>\n",
       "    .dataframe tbody tr th:only-of-type {\n",
       "        vertical-align: middle;\n",
       "    }\n",
       "\n",
       "    .dataframe tbody tr th {\n",
       "        vertical-align: top;\n",
       "    }\n",
       "\n",
       "    .dataframe thead th {\n",
       "        text-align: right;\n",
       "    }\n",
       "</style>\n",
       "<table border=\"1\" class=\"dataframe\">\n",
       "  <thead>\n",
       "    <tr style=\"text-align: right;\">\n",
       "      <th></th>\n",
       "      <th>num_paralela</th>\n",
       "      <th>num_x</th>\n",
       "      <th>tercero</th>\n",
       "      <th>cod_op</th>\n",
       "      <th>op_2021</th>\n",
       "      <th>apli</th>\n",
       "      <th>importe</th>\n",
       "      <th>exp_gasto</th>\n",
       "      <th>exp_gestor</th>\n",
       "      <th>num_error</th>\n",
       "      <th>error</th>\n",
       "    </tr>\n",
       "  </thead>\n",
       "  <tbody>\n",
       "    <tr>\n",
       "      <th>2043</th>\n",
       "      <td>00159222B10003028</td>\n",
       "      <td>00159220340003737</td>\n",
       "      <td>*</td>\n",
       "      <td>2002100</td>\n",
       "      <td>00159221330000004</td>\n",
       "      <td>20221422  122AU  650</td>\n",
       "      <td>940848.00</td>\n",
       "      <td>400000039976</td>\n",
       "      <td>1991140210023001424</td>\n",
       "      <td>6</td>\n",
       "      <td>Los campos DIR3 son requeridos</td>\n",
       "    </tr>\n",
       "    <tr>\n",
       "      <th>2044</th>\n",
       "      <td>00159222B10003029</td>\n",
       "      <td>00159221310070524</td>\n",
       "      <td>000U06828677</td>\n",
       "      <td>2003000</td>\n",
       "      <td>00159221330002954</td>\n",
       "      <td>20221422  122AU  650</td>\n",
       "      <td>940848.00 1991140210023001424</td>\n",
       "      <td></td>\n",
       "      <td>1</td>\n",
       "      <td>No existe saldo para la aplicación 20221422  1...</td>\n",
       "      <td></td>\n",
       "    </tr>\n",
       "    <tr>\n",
       "      <th>2045</th>\n",
       "      <td>00159222B10003029</td>\n",
       "      <td>00159221310070524</td>\n",
       "      <td>000U06828677</td>\n",
       "      <td>2003000</td>\n",
       "      <td>00159221330002954</td>\n",
       "      <td>20221422  122AU  650</td>\n",
       "      <td>940848.00 1991140210023001424</td>\n",
       "      <td></td>\n",
       "      <td>2</td>\n",
       "      <td>Insuficiencia de saldo en situación aplicación...</td>\n",
       "      <td></td>\n",
       "    </tr>\n",
       "    <tr>\n",
       "      <th>2046</th>\n",
       "      <td>00159222B10003029</td>\n",
       "      <td>00159221310070524</td>\n",
       "      <td>000U06828677</td>\n",
       "      <td>2003000</td>\n",
       "      <td>00159221330002954</td>\n",
       "      <td>20221422  122AU  650</td>\n",
       "      <td>940848.00 1991140210023001424</td>\n",
       "      <td></td>\n",
       "      <td>3</td>\n",
       "      <td>Insuficiencia de saldo en Superproyecto-Aplica...</td>\n",
       "      <td></td>\n",
       "    </tr>\n",
       "    <tr>\n",
       "      <th>2047</th>\n",
       "      <td>00159222B10003029</td>\n",
       "      <td>00159221310070524</td>\n",
       "      <td>000U06828677</td>\n",
       "      <td>2003000</td>\n",
       "      <td>00159221330002954</td>\n",
       "      <td>20221422  122AU  650</td>\n",
       "      <td>940848.00 1991140210023001424</td>\n",
       "      <td></td>\n",
       "      <td>4</td>\n",
       "      <td>Insuficiencia de saldo en Proyecto-Aplicación ...</td>\n",
       "      <td></td>\n",
       "    </tr>\n",
       "    <tr>\n",
       "      <th>2048</th>\n",
       "      <td>00159222B10003029</td>\n",
       "      <td>00159221310070524</td>\n",
       "      <td>000U06828677</td>\n",
       "      <td>2003000</td>\n",
       "      <td>00159221330002954</td>\n",
       "      <td>20221422  122AU  650</td>\n",
       "      <td>940848.00 1991140210023001424</td>\n",
       "      <td></td>\n",
       "      <td>5</td>\n",
       "      <td>Clave 20221422  122A   65      inexistente en ...</td>\n",
       "      <td></td>\n",
       "    </tr>\n",
       "  </tbody>\n",
       "</table>\n",
       "</div>"
      ],
      "text/plain": [
       "           num_paralela              num_x       tercero   cod_op  \\\n",
       "2043  00159222B10003028  00159220340003737             *  2002100   \n",
       "2044  00159222B10003029  00159221310070524  000U06828677  2003000   \n",
       "2045  00159222B10003029  00159221310070524  000U06828677  2003000   \n",
       "2046  00159222B10003029  00159221310070524  000U06828677  2003000   \n",
       "2047  00159222B10003029  00159221310070524  000U06828677  2003000   \n",
       "2048  00159222B10003029  00159221310070524  000U06828677  2003000   \n",
       "\n",
       "                op_2021                  apli                        importe  \\\n",
       "2043  00159221330000004  20221422  122AU  650                      940848.00   \n",
       "2044  00159221330002954  20221422  122AU  650  940848.00 1991140210023001424   \n",
       "2045  00159221330002954  20221422  122AU  650  940848.00 1991140210023001424   \n",
       "2046  00159221330002954  20221422  122AU  650  940848.00 1991140210023001424   \n",
       "2047  00159221330002954  20221422  122AU  650  940848.00 1991140210023001424   \n",
       "2048  00159221330002954  20221422  122AU  650  940848.00 1991140210023001424   \n",
       "\n",
       "         exp_gasto           exp_gestor  \\\n",
       "2043  400000039976  1991140210023001424   \n",
       "2044                                  1   \n",
       "2045                                  2   \n",
       "2046                                  3   \n",
       "2047                                  4   \n",
       "2048                                  5   \n",
       "\n",
       "                                              num_error  \\\n",
       "2043                                                  6   \n",
       "2044  No existe saldo para la aplicación 20221422  1...   \n",
       "2045  Insuficiencia de saldo en situación aplicación...   \n",
       "2046  Insuficiencia de saldo en Superproyecto-Aplica...   \n",
       "2047  Insuficiencia de saldo en Proyecto-Aplicación ...   \n",
       "2048  Clave 20221422  122A   65      inexistente en ...   \n",
       "\n",
       "                               error  \n",
       "2043  Los campos DIR3 son requeridos  \n",
       "2044                                  \n",
       "2045                                  \n",
       "2046                                  \n",
       "2047                                  \n",
       "2048                                  "
      ]
     },
     "execution_count": 25,
     "metadata": {},
     "output_type": "execute_result"
    }
   ],
   "source": [
    "df.iloc[lista_error]"
   ]
  },
  {
   "cell_type": "code",
   "execution_count": 26,
   "id": "adff2d59-0366-4586-ae96-deb0411e5bea",
   "metadata": {},
   "outputs": [],
   "source": [
    "#df.iloc[lista_error,6]='940848.00'"
   ]
  },
  {
   "cell_type": "code",
   "execution_count": 27,
   "id": "addc276d-22f6-49b5-9a0a-d3ca92d27f07",
   "metadata": {},
   "outputs": [],
   "source": [
    "lista_error = [2051,2052,2053,2054,2055]\n",
    "#df.iloc[lista_error,9] =df.iloc[lista_error,8]"
   ]
  },
  {
   "cell_type": "code",
   "execution_count": 28,
   "id": "e09a68ba-ca5a-42fa-8208-9c6cad0c19c7",
   "metadata": {},
   "outputs": [
    {
     "data": {
      "text/html": [
       "<div>\n",
       "<style scoped>\n",
       "    .dataframe tbody tr th:only-of-type {\n",
       "        vertical-align: middle;\n",
       "    }\n",
       "\n",
       "    .dataframe tbody tr th {\n",
       "        vertical-align: top;\n",
       "    }\n",
       "\n",
       "    .dataframe thead th {\n",
       "        text-align: right;\n",
       "    }\n",
       "</style>\n",
       "<table border=\"1\" class=\"dataframe\">\n",
       "  <thead>\n",
       "    <tr style=\"text-align: right;\">\n",
       "      <th></th>\n",
       "      <th>num_paralela</th>\n",
       "      <th>num_x</th>\n",
       "      <th>tercero</th>\n",
       "      <th>cod_op</th>\n",
       "      <th>op_2021</th>\n",
       "      <th>apli</th>\n",
       "      <th>importe</th>\n",
       "      <th>exp_gasto</th>\n",
       "      <th>exp_gestor</th>\n",
       "      <th>num_error</th>\n",
       "      <th>error</th>\n",
       "    </tr>\n",
       "  </thead>\n",
       "  <tbody>\n",
       "    <tr>\n",
       "      <th>2056</th>\n",
       "      <td>00159222B10003032</td>\n",
       "      <td>00159221310055364</td>\n",
       "      <td>000A32032039</td>\n",
       "      <td>2003000</td>\n",
       "      <td>00159221330002332</td>\n",
       "      <td>20221422  122AU  650</td>\n",
       "      <td>4445992.79 1991140210023001425</td>\n",
       "      <td></td>\n",
       "      <td>1</td>\n",
       "      <td>No existe saldo para la aplicación 20221422  1...</td>\n",
       "      <td></td>\n",
       "    </tr>\n",
       "    <tr>\n",
       "      <th>2057</th>\n",
       "      <td>00159222B10003032</td>\n",
       "      <td>00159221310055364</td>\n",
       "      <td>000A32032039</td>\n",
       "      <td>2003000</td>\n",
       "      <td>00159221330002332</td>\n",
       "      <td>20221422  122AU  650</td>\n",
       "      <td>4445992.79 1991140210023001425</td>\n",
       "      <td></td>\n",
       "      <td>2</td>\n",
       "      <td>Insuficiencia de saldo en situación aplicación...</td>\n",
       "      <td></td>\n",
       "    </tr>\n",
       "    <tr>\n",
       "      <th>2058</th>\n",
       "      <td>00159222B10003032</td>\n",
       "      <td>00159221310055364</td>\n",
       "      <td>000A32032039</td>\n",
       "      <td>2003000</td>\n",
       "      <td>00159221330002332</td>\n",
       "      <td>20221422  122AU  650</td>\n",
       "      <td>4445992.79 1991140210023001425</td>\n",
       "      <td></td>\n",
       "      <td>3</td>\n",
       "      <td>Insuficiencia de saldo en Superproyecto-Aplica...</td>\n",
       "      <td></td>\n",
       "    </tr>\n",
       "    <tr>\n",
       "      <th>2059</th>\n",
       "      <td>00159222B10003032</td>\n",
       "      <td>00159221310055364</td>\n",
       "      <td>000A32032039</td>\n",
       "      <td>2003000</td>\n",
       "      <td>00159221330002332</td>\n",
       "      <td>20221422  122AU  650</td>\n",
       "      <td>4445992.79 1991140210023001425</td>\n",
       "      <td></td>\n",
       "      <td>4</td>\n",
       "      <td>Insuficiencia de saldo en Proyecto-Aplicación ...</td>\n",
       "      <td></td>\n",
       "    </tr>\n",
       "    <tr>\n",
       "      <th>2060</th>\n",
       "      <td>00159222B10003032</td>\n",
       "      <td>00159221310055364</td>\n",
       "      <td>000A32032039</td>\n",
       "      <td>2003000</td>\n",
       "      <td>00159221330002332</td>\n",
       "      <td>20221422  122AU  650</td>\n",
       "      <td>4445992.79 1991140210023001425</td>\n",
       "      <td></td>\n",
       "      <td>5</td>\n",
       "      <td>Clave 20221422  122A   65      inexistente en ...</td>\n",
       "      <td></td>\n",
       "    </tr>\n",
       "  </tbody>\n",
       "</table>\n",
       "</div>"
      ],
      "text/plain": [
       "           num_paralela              num_x       tercero   cod_op  \\\n",
       "2056  00159222B10003032  00159221310055364  000A32032039  2003000   \n",
       "2057  00159222B10003032  00159221310055364  000A32032039  2003000   \n",
       "2058  00159222B10003032  00159221310055364  000A32032039  2003000   \n",
       "2059  00159222B10003032  00159221310055364  000A32032039  2003000   \n",
       "2060  00159222B10003032  00159221310055364  000A32032039  2003000   \n",
       "\n",
       "                op_2021                  apli                         importe  \\\n",
       "2056  00159221330002332  20221422  122AU  650  4445992.79 1991140210023001425   \n",
       "2057  00159221330002332  20221422  122AU  650  4445992.79 1991140210023001425   \n",
       "2058  00159221330002332  20221422  122AU  650  4445992.79 1991140210023001425   \n",
       "2059  00159221330002332  20221422  122AU  650  4445992.79 1991140210023001425   \n",
       "2060  00159221330002332  20221422  122AU  650  4445992.79 1991140210023001425   \n",
       "\n",
       "     exp_gasto exp_gestor                                          num_error  \\\n",
       "2056                    1  No existe saldo para la aplicación 20221422  1...   \n",
       "2057                    2  Insuficiencia de saldo en situación aplicación...   \n",
       "2058                    3  Insuficiencia de saldo en Superproyecto-Aplica...   \n",
       "2059                    4  Insuficiencia de saldo en Proyecto-Aplicación ...   \n",
       "2060                    5  Clave 20221422  122A   65      inexistente en ...   \n",
       "\n",
       "     error  \n",
       "2056        \n",
       "2057        \n",
       "2058        \n",
       "2059        \n",
       "2060        "
      ]
     },
     "execution_count": 28,
     "metadata": {},
     "output_type": "execute_result"
    }
   ],
   "source": [
    "df.iloc[lista_error]"
   ]
  },
  {
   "cell_type": "code",
   "execution_count": 29,
   "id": "47c624e9-926e-4412-86a3-0ad6b5c2352e",
   "metadata": {},
   "outputs": [],
   "source": [
    "#df.iloc[lista_error,6]='4445992.79'"
   ]
  },
  {
   "cell_type": "code",
   "execution_count": 30,
   "id": "114a6feb-b1de-4df1-95de-1b0ada97245c",
   "metadata": {
    "jupyter": {
     "source_hidden": true
    },
    "tags": []
   },
   "outputs": [],
   "source": [
    "df.iloc[lista_error,9] =df.iloc[lista_error,8]"
   ]
  },
  {
   "cell_type": "code",
   "execution_count": 31,
   "id": "b662b08d-11cf-4a08-96bb-57342f5fb5d7",
   "metadata": {},
   "outputs": [],
   "source": [
    "#df.iloc[lista_error,9] =df.iloc[lista_error,8]"
   ]
  },
  {
   "cell_type": "code",
   "execution_count": 32,
   "id": "24f6a09e-426c-4b2e-8c9f-437423678f7c",
   "metadata": {
    "tags": []
   },
   "outputs": [],
   "source": [
    "df['importe']=df['importe'].astype(float)\n"
   ]
  },
  {
   "cell_type": "code",
   "execution_count": 33,
   "id": "fb0718cd-aa6d-4d05-833d-c86c256f761d",
   "metadata": {},
   "outputs": [
    {
     "data": {
      "text/plain": [
       "18764719890.660004"
      ]
     },
     "execution_count": 33,
     "metadata": {},
     "output_type": "execute_result"
    }
   ],
   "source": [
    "xx = df['importe'].sum()\n",
    "xx\n"
   ]
  },
  {
   "cell_type": "code",
   "execution_count": 34,
   "id": "cad7d06b-12d5-4810-be0d-0f7df7fb5309",
   "metadata": {},
   "outputs": [
    {
     "data": {
      "text/plain": [
       "op_2021       1\n",
       "apli          1\n",
       "importe       2\n",
       "exp_gasto     2\n",
       "exp_gestor    2\n",
       "num_error     2\n",
       "error         2\n",
       "dtype: int64"
      ]
     },
     "execution_count": 34,
     "metadata": {},
     "output_type": "execute_result"
    }
   ],
   "source": [
    "nan_cols=df.isna().sum()\n",
    "\n",
    "nan_cols[nan_cols>0]"
   ]
  },
  {
   "cell_type": "code",
   "execution_count": 35,
   "id": "de0759f4-57d6-4053-97ab-51f2bd38f509",
   "metadata": {
    "tags": []
   },
   "outputs": [
    {
     "data": {
      "text/html": [
       "<div>\n",
       "<style scoped>\n",
       "    .dataframe tbody tr th:only-of-type {\n",
       "        vertical-align: middle;\n",
       "    }\n",
       "\n",
       "    .dataframe tbody tr th {\n",
       "        vertical-align: top;\n",
       "    }\n",
       "\n",
       "    .dataframe thead th {\n",
       "        text-align: right;\n",
       "    }\n",
       "</style>\n",
       "<table border=\"1\" class=\"dataframe\">\n",
       "  <thead>\n",
       "    <tr style=\"text-align: right;\">\n",
       "      <th></th>\n",
       "      <th>num_paralela</th>\n",
       "      <th>num_x</th>\n",
       "      <th>tercero</th>\n",
       "      <th>cod_op</th>\n",
       "      <th>op_2021</th>\n",
       "      <th>apli</th>\n",
       "      <th>importe</th>\n",
       "      <th>exp_gasto</th>\n",
       "      <th>exp_gestor</th>\n",
       "      <th>num_error</th>\n",
       "      <th>error</th>\n",
       "    </tr>\n",
       "  </thead>\n",
       "  <tbody>\n",
       "    <tr>\n",
       "      <th>0</th>\n",
       "      <td>00159222B10000003</td>\n",
       "      <td>*</td>\n",
       "      <td>*</td>\n",
       "      <td>2001000</td>\n",
       "      <td>00159221330000973</td>\n",
       "      <td>20221401  312A1  660</td>\n",
       "      <td>38000.00</td>\n",
       "      <td>101000002468</td>\n",
       "      <td>2002140010001001795</td>\n",
       "      <td>1</td>\n",
       "      <td>Los campos DIR3 son requeridos</td>\n",
       "    </tr>\n",
       "    <tr>\n",
       "      <th>1</th>\n",
       "      <td>00159222B10000004</td>\n",
       "      <td>*</td>\n",
       "      <td>000355430273</td>\n",
       "      <td>2002300</td>\n",
       "      <td>00159221330004190</td>\n",
       "      <td>20221401  312A1  660</td>\n",
       "      <td>38000.00</td>\n",
       "      <td>013062100060</td>\n",
       "      <td>2002140010001001795</td>\n",
       "      <td>1</td>\n",
       "      <td>La operación de enlace no está todavía contabi...</td>\n",
       "    </tr>\n",
       "    <tr>\n",
       "      <th>2</th>\n",
       "      <td>00159222B10000005</td>\n",
       "      <td>*</td>\n",
       "      <td>*</td>\n",
       "      <td>2001000</td>\n",
       "      <td>00159221330000912</td>\n",
       "      <td>20221401  312A1  660</td>\n",
       "      <td>77817.64</td>\n",
       "      <td>101000002397</td>\n",
       "      <td>2002140010001001796</td>\n",
       "      <td>1</td>\n",
       "      <td>Los campos DIR3 son requeridos</td>\n",
       "    </tr>\n",
       "    <tr>\n",
       "      <th>3</th>\n",
       "      <td>00159222B10000006</td>\n",
       "      <td>*</td>\n",
       "      <td>000B81171118</td>\n",
       "      <td>2002300</td>\n",
       "      <td>00159221330003070</td>\n",
       "      <td>20221401  312A1  660</td>\n",
       "      <td>77817.64</td>\n",
       "      <td>013062100058</td>\n",
       "      <td>2002140010001001796</td>\n",
       "      <td>1</td>\n",
       "      <td>La operación de enlace no está todavía contabi...</td>\n",
       "    </tr>\n",
       "    <tr>\n",
       "      <th>4</th>\n",
       "      <td>00159222B10000009</td>\n",
       "      <td>*</td>\n",
       "      <td>*</td>\n",
       "      <td>2001000</td>\n",
       "      <td>00159220330000017</td>\n",
       "      <td>20221401  121M2  22799</td>\n",
       "      <td>3450.26</td>\n",
       "      <td>101000005519</td>\n",
       "      <td></td>\n",
       "      <td>1</td>\n",
       "      <td>Los campos DIR3 son requeridos</td>\n",
       "    </tr>\n",
       "    <tr>\n",
       "      <th>...</th>\n",
       "      <td>...</td>\n",
       "      <td>...</td>\n",
       "      <td>...</td>\n",
       "      <td>...</td>\n",
       "      <td>...</td>\n",
       "      <td>...</td>\n",
       "      <td>...</td>\n",
       "      <td>...</td>\n",
       "      <td>...</td>\n",
       "      <td>...</td>\n",
       "      <td>...</td>\n",
       "    </tr>\n",
       "    <tr>\n",
       "      <th>3016</th>\n",
       "      <td>00159222B10004923</td>\n",
       "      <td>00159221310145432</td>\n",
       "      <td>000B85908093</td>\n",
       "      <td>2003000</td>\n",
       "      <td>00159221330005717</td>\n",
       "      <td>20221450  120A2  682</td>\n",
       "      <td>145984.08</td>\n",
       "      <td>033022100094</td>\n",
       "      <td>2021140500101000007</td>\n",
       "      <td>3</td>\n",
       "      <td>Insuficiencia de saldo en Superproyecto-Aplica...</td>\n",
       "    </tr>\n",
       "    <tr>\n",
       "      <th>3017</th>\n",
       "      <td>00159222B10004923</td>\n",
       "      <td>00159221310145432</td>\n",
       "      <td>000B85908093</td>\n",
       "      <td>2003000</td>\n",
       "      <td>00159221330005717</td>\n",
       "      <td>20221450  120A2  682</td>\n",
       "      <td>145984.08</td>\n",
       "      <td>033022100094</td>\n",
       "      <td>2021140500101000007</td>\n",
       "      <td>4</td>\n",
       "      <td>Insuficiencia de saldo en Proyecto-Aplicación ...</td>\n",
       "    </tr>\n",
       "    <tr>\n",
       "      <th>3018</th>\n",
       "      <td>00159222B10004923</td>\n",
       "      <td>00159221310145432</td>\n",
       "      <td>000B85908093</td>\n",
       "      <td>2003000</td>\n",
       "      <td>00159221330005717</td>\n",
       "      <td>20221450  120A2  682</td>\n",
       "      <td>145984.08</td>\n",
       "      <td>033022100094</td>\n",
       "      <td>2021140500101000007</td>\n",
       "      <td>5</td>\n",
       "      <td>Clave 20221450  120A   68      inexistente en ...</td>\n",
       "    </tr>\n",
       "    <tr>\n",
       "      <th>3020</th>\n",
       "      <td>Total General</td>\n",
       "      <td>18.764.719.890,66</td>\n",
       "      <td></td>\n",
       "      <td>Total General</td>\n",
       "      <td>14.903.694.905,83</td>\n",
       "      <td></td>\n",
       "      <td>NaN</td>\n",
       "      <td>None</td>\n",
       "      <td>None</td>\n",
       "      <td>None</td>\n",
       "      <td>None</td>\n",
       "    </tr>\n",
       "    <tr>\n",
       "      <th>3021</th>\n",
       "      <td>Página 278 de 278</td>\n",
       "      <td></td>\n",
       "      <td>00159222B10000003</td>\n",
       "      <td></td>\n",
       "      <td>None</td>\n",
       "      <td>None</td>\n",
       "      <td>NaN</td>\n",
       "      <td>None</td>\n",
       "      <td>None</td>\n",
       "      <td>None</td>\n",
       "      <td>None</td>\n",
       "    </tr>\n",
       "  </tbody>\n",
       "</table>\n",
       "<p>3015 rows × 11 columns</p>\n",
       "</div>"
      ],
      "text/plain": [
       "           num_paralela              num_x            tercero         cod_op  \\\n",
       "0     00159222B10000003                  *                  *        2001000   \n",
       "1     00159222B10000004                  *       000355430273        2002300   \n",
       "2     00159222B10000005                  *                  *        2001000   \n",
       "3     00159222B10000006                  *       000B81171118        2002300   \n",
       "4     00159222B10000009                  *                  *        2001000   \n",
       "...                 ...                ...                ...            ...   \n",
       "3016  00159222B10004923  00159221310145432       000B85908093        2003000   \n",
       "3017  00159222B10004923  00159221310145432       000B85908093        2003000   \n",
       "3018  00159222B10004923  00159221310145432       000B85908093        2003000   \n",
       "3020      Total General  18.764.719.890,66                     Total General   \n",
       "3021  Página 278 de 278                     00159222B10000003                  \n",
       "\n",
       "                op_2021                    apli    importe     exp_gasto  \\\n",
       "0     00159221330000973    20221401  312A1  660   38000.00  101000002468   \n",
       "1     00159221330004190    20221401  312A1  660   38000.00  013062100060   \n",
       "2     00159221330000912    20221401  312A1  660   77817.64  101000002397   \n",
       "3     00159221330003070    20221401  312A1  660   77817.64  013062100058   \n",
       "4     00159220330000017  20221401  121M2  22799    3450.26  101000005519   \n",
       "...                 ...                     ...        ...           ...   \n",
       "3016  00159221330005717    20221450  120A2  682  145984.08  033022100094   \n",
       "3017  00159221330005717    20221450  120A2  682  145984.08  033022100094   \n",
       "3018  00159221330005717    20221450  120A2  682  145984.08  033022100094   \n",
       "3020  14.903.694.905,83                                NaN          None   \n",
       "3021               None                    None        NaN          None   \n",
       "\n",
       "               exp_gestor num_error  \\\n",
       "0     2002140010001001795         1   \n",
       "1     2002140010001001795         1   \n",
       "2     2002140010001001796         1   \n",
       "3     2002140010001001796         1   \n",
       "4                                 1   \n",
       "...                   ...       ...   \n",
       "3016  2021140500101000007         3   \n",
       "3017  2021140500101000007         4   \n",
       "3018  2021140500101000007         5   \n",
       "3020                 None      None   \n",
       "3021                 None      None   \n",
       "\n",
       "                                                  error  \n",
       "0                        Los campos DIR3 son requeridos  \n",
       "1     La operación de enlace no está todavía contabi...  \n",
       "2                        Los campos DIR3 son requeridos  \n",
       "3     La operación de enlace no está todavía contabi...  \n",
       "4                        Los campos DIR3 son requeridos  \n",
       "...                                                 ...  \n",
       "3016  Insuficiencia de saldo en Superproyecto-Aplica...  \n",
       "3017  Insuficiencia de saldo en Proyecto-Aplicación ...  \n",
       "3018  Clave 20221450  120A   68      inexistente en ...  \n",
       "3020                                               None  \n",
       "3021                                               None  \n",
       "\n",
       "[3015 rows x 11 columns]"
      ]
     },
     "execution_count": 35,
     "metadata": {},
     "output_type": "execute_result"
    }
   ],
   "source": [
    "df.reindex()"
   ]
  },
  {
   "cell_type": "code",
   "execution_count": 36,
   "id": "c0f91fd7-fc07-4122-ab53-7b1c88030a3b",
   "metadata": {},
   "outputs": [
    {
     "data": {
      "text/plain": [
       "Int64Index([3020, 3021], dtype='int64')"
      ]
     },
     "execution_count": 36,
     "metadata": {},
     "output_type": "execute_result"
    }
   ],
   "source": [
    "lista_e =df[df['importe'].isnull()].index\n",
    "lista_e"
   ]
  },
  {
   "cell_type": "code",
   "execution_count": 37,
   "id": "a7ee2179-66cd-44ad-86ac-427c126730af",
   "metadata": {
    "tags": []
   },
   "outputs": [],
   "source": [
    "df.drop([3020, 3021],axis=0, inplace =True)"
   ]
  },
  {
   "cell_type": "code",
   "execution_count": 38,
   "id": "83e6693e-01a5-455e-9bfd-1ab52d6f16c8",
   "metadata": {
    "tags": []
   },
   "outputs": [
    {
     "data": {
      "text/plain": [
       "Series([], dtype: int64)"
      ]
     },
     "execution_count": 38,
     "metadata": {},
     "output_type": "execute_result"
    }
   ],
   "source": [
    "nan_cols=df.isna().sum()\n",
    "\n",
    "nan_cols[nan_cols>0]\n"
   ]
  },
  {
   "cell_type": "code",
   "execution_count": 39,
   "id": "561452fc-74ce-431e-8220-7dd2745d7798",
   "metadata": {},
   "outputs": [
    {
     "data": {
      "text/html": [
       "<div>\n",
       "<style scoped>\n",
       "    .dataframe tbody tr th:only-of-type {\n",
       "        vertical-align: middle;\n",
       "    }\n",
       "\n",
       "    .dataframe tbody tr th {\n",
       "        vertical-align: top;\n",
       "    }\n",
       "\n",
       "    .dataframe thead th {\n",
       "        text-align: right;\n",
       "    }\n",
       "</style>\n",
       "<table border=\"1\" class=\"dataframe\">\n",
       "  <thead>\n",
       "    <tr style=\"text-align: right;\">\n",
       "      <th></th>\n",
       "      <th>num_paralela</th>\n",
       "      <th>num_x</th>\n",
       "      <th>tercero</th>\n",
       "      <th>cod_op</th>\n",
       "      <th>op_2021</th>\n",
       "      <th>apli</th>\n",
       "      <th>importe</th>\n",
       "      <th>exp_gasto</th>\n",
       "      <th>exp_gestor</th>\n",
       "      <th>num_error</th>\n",
       "      <th>error</th>\n",
       "    </tr>\n",
       "  </thead>\n",
       "  <tbody>\n",
       "    <tr>\n",
       "      <th>0</th>\n",
       "      <td>00159222B10000003</td>\n",
       "      <td>*</td>\n",
       "      <td>*</td>\n",
       "      <td>2001000</td>\n",
       "      <td>00159221330000973</td>\n",
       "      <td>20221401  312A1  660</td>\n",
       "      <td>38000.00</td>\n",
       "      <td>101000002468</td>\n",
       "      <td>2002140010001001795</td>\n",
       "      <td>1</td>\n",
       "      <td>Los campos DIR3 son requeridos</td>\n",
       "    </tr>\n",
       "    <tr>\n",
       "      <th>1</th>\n",
       "      <td>00159222B10000004</td>\n",
       "      <td>*</td>\n",
       "      <td>000355430273</td>\n",
       "      <td>2002300</td>\n",
       "      <td>00159221330004190</td>\n",
       "      <td>20221401  312A1  660</td>\n",
       "      <td>38000.00</td>\n",
       "      <td>013062100060</td>\n",
       "      <td>2002140010001001795</td>\n",
       "      <td>1</td>\n",
       "      <td>La operación de enlace no está todavía contabi...</td>\n",
       "    </tr>\n",
       "    <tr>\n",
       "      <th>2</th>\n",
       "      <td>00159222B10000005</td>\n",
       "      <td>*</td>\n",
       "      <td>*</td>\n",
       "      <td>2001000</td>\n",
       "      <td>00159221330000912</td>\n",
       "      <td>20221401  312A1  660</td>\n",
       "      <td>77817.64</td>\n",
       "      <td>101000002397</td>\n",
       "      <td>2002140010001001796</td>\n",
       "      <td>1</td>\n",
       "      <td>Los campos DIR3 son requeridos</td>\n",
       "    </tr>\n",
       "    <tr>\n",
       "      <th>3</th>\n",
       "      <td>00159222B10000006</td>\n",
       "      <td>*</td>\n",
       "      <td>000B81171118</td>\n",
       "      <td>2002300</td>\n",
       "      <td>00159221330003070</td>\n",
       "      <td>20221401  312A1  660</td>\n",
       "      <td>77817.64</td>\n",
       "      <td>013062100058</td>\n",
       "      <td>2002140010001001796</td>\n",
       "      <td>1</td>\n",
       "      <td>La operación de enlace no está todavía contabi...</td>\n",
       "    </tr>\n",
       "    <tr>\n",
       "      <th>4</th>\n",
       "      <td>00159222B10000009</td>\n",
       "      <td>*</td>\n",
       "      <td>*</td>\n",
       "      <td>2001000</td>\n",
       "      <td>00159220330000017</td>\n",
       "      <td>20221401  121M2  22799</td>\n",
       "      <td>3450.26</td>\n",
       "      <td>101000005519</td>\n",
       "      <td></td>\n",
       "      <td>1</td>\n",
       "      <td>Los campos DIR3 son requeridos</td>\n",
       "    </tr>\n",
       "    <tr>\n",
       "      <th>...</th>\n",
       "      <td>...</td>\n",
       "      <td>...</td>\n",
       "      <td>...</td>\n",
       "      <td>...</td>\n",
       "      <td>...</td>\n",
       "      <td>...</td>\n",
       "      <td>...</td>\n",
       "      <td>...</td>\n",
       "      <td>...</td>\n",
       "      <td>...</td>\n",
       "      <td>...</td>\n",
       "    </tr>\n",
       "    <tr>\n",
       "      <th>3014</th>\n",
       "      <td>00159222B10004923</td>\n",
       "      <td>00159221310145432</td>\n",
       "      <td>000B85908093</td>\n",
       "      <td>2003000</td>\n",
       "      <td>00159221330005717</td>\n",
       "      <td>20221450  120A2  682</td>\n",
       "      <td>145984.08</td>\n",
       "      <td>033022100094</td>\n",
       "      <td>2021140500101000007</td>\n",
       "      <td>1</td>\n",
       "      <td>La aplicación 20221450  120A2  682      no exi...</td>\n",
       "    </tr>\n",
       "    <tr>\n",
       "      <th>3015</th>\n",
       "      <td>00159222B10004923</td>\n",
       "      <td>00159221310145432</td>\n",
       "      <td>000B85908093</td>\n",
       "      <td>2003000</td>\n",
       "      <td>00159221330005717</td>\n",
       "      <td>20221450  120A2  682</td>\n",
       "      <td>145984.08</td>\n",
       "      <td>033022100094</td>\n",
       "      <td>2021140500101000007</td>\n",
       "      <td>2</td>\n",
       "      <td>Clave 20221450  120A2  682     inexistente en ...</td>\n",
       "    </tr>\n",
       "    <tr>\n",
       "      <th>3016</th>\n",
       "      <td>00159222B10004923</td>\n",
       "      <td>00159221310145432</td>\n",
       "      <td>000B85908093</td>\n",
       "      <td>2003000</td>\n",
       "      <td>00159221330005717</td>\n",
       "      <td>20221450  120A2  682</td>\n",
       "      <td>145984.08</td>\n",
       "      <td>033022100094</td>\n",
       "      <td>2021140500101000007</td>\n",
       "      <td>3</td>\n",
       "      <td>Insuficiencia de saldo en Superproyecto-Aplica...</td>\n",
       "    </tr>\n",
       "    <tr>\n",
       "      <th>3017</th>\n",
       "      <td>00159222B10004923</td>\n",
       "      <td>00159221310145432</td>\n",
       "      <td>000B85908093</td>\n",
       "      <td>2003000</td>\n",
       "      <td>00159221330005717</td>\n",
       "      <td>20221450  120A2  682</td>\n",
       "      <td>145984.08</td>\n",
       "      <td>033022100094</td>\n",
       "      <td>2021140500101000007</td>\n",
       "      <td>4</td>\n",
       "      <td>Insuficiencia de saldo en Proyecto-Aplicación ...</td>\n",
       "    </tr>\n",
       "    <tr>\n",
       "      <th>3018</th>\n",
       "      <td>00159222B10004923</td>\n",
       "      <td>00159221310145432</td>\n",
       "      <td>000B85908093</td>\n",
       "      <td>2003000</td>\n",
       "      <td>00159221330005717</td>\n",
       "      <td>20221450  120A2  682</td>\n",
       "      <td>145984.08</td>\n",
       "      <td>033022100094</td>\n",
       "      <td>2021140500101000007</td>\n",
       "      <td>5</td>\n",
       "      <td>Clave 20221450  120A   68      inexistente en ...</td>\n",
       "    </tr>\n",
       "  </tbody>\n",
       "</table>\n",
       "<p>3013 rows × 11 columns</p>\n",
       "</div>"
      ],
      "text/plain": [
       "           num_paralela              num_x       tercero   cod_op  \\\n",
       "0     00159222B10000003                  *             *  2001000   \n",
       "1     00159222B10000004                  *  000355430273  2002300   \n",
       "2     00159222B10000005                  *             *  2001000   \n",
       "3     00159222B10000006                  *  000B81171118  2002300   \n",
       "4     00159222B10000009                  *             *  2001000   \n",
       "...                 ...                ...           ...      ...   \n",
       "3014  00159222B10004923  00159221310145432  000B85908093  2003000   \n",
       "3015  00159222B10004923  00159221310145432  000B85908093  2003000   \n",
       "3016  00159222B10004923  00159221310145432  000B85908093  2003000   \n",
       "3017  00159222B10004923  00159221310145432  000B85908093  2003000   \n",
       "3018  00159222B10004923  00159221310145432  000B85908093  2003000   \n",
       "\n",
       "                op_2021                    apli    importe     exp_gasto  \\\n",
       "0     00159221330000973    20221401  312A1  660   38000.00  101000002468   \n",
       "1     00159221330004190    20221401  312A1  660   38000.00  013062100060   \n",
       "2     00159221330000912    20221401  312A1  660   77817.64  101000002397   \n",
       "3     00159221330003070    20221401  312A1  660   77817.64  013062100058   \n",
       "4     00159220330000017  20221401  121M2  22799    3450.26  101000005519   \n",
       "...                 ...                     ...        ...           ...   \n",
       "3014  00159221330005717    20221450  120A2  682  145984.08  033022100094   \n",
       "3015  00159221330005717    20221450  120A2  682  145984.08  033022100094   \n",
       "3016  00159221330005717    20221450  120A2  682  145984.08  033022100094   \n",
       "3017  00159221330005717    20221450  120A2  682  145984.08  033022100094   \n",
       "3018  00159221330005717    20221450  120A2  682  145984.08  033022100094   \n",
       "\n",
       "               exp_gestor num_error  \\\n",
       "0     2002140010001001795         1   \n",
       "1     2002140010001001795         1   \n",
       "2     2002140010001001796         1   \n",
       "3     2002140010001001796         1   \n",
       "4                                 1   \n",
       "...                   ...       ...   \n",
       "3014  2021140500101000007         1   \n",
       "3015  2021140500101000007         2   \n",
       "3016  2021140500101000007         3   \n",
       "3017  2021140500101000007         4   \n",
       "3018  2021140500101000007         5   \n",
       "\n",
       "                                                  error  \n",
       "0                        Los campos DIR3 son requeridos  \n",
       "1     La operación de enlace no está todavía contabi...  \n",
       "2                        Los campos DIR3 son requeridos  \n",
       "3     La operación de enlace no está todavía contabi...  \n",
       "4                        Los campos DIR3 son requeridos  \n",
       "...                                                 ...  \n",
       "3014  La aplicación 20221450  120A2  682      no exi...  \n",
       "3015  Clave 20221450  120A2  682     inexistente en ...  \n",
       "3016  Insuficiencia de saldo en Superproyecto-Aplica...  \n",
       "3017  Insuficiencia de saldo en Proyecto-Aplicación ...  \n",
       "3018  Clave 20221450  120A   68      inexistente en ...  \n",
       "\n",
       "[3013 rows x 11 columns]"
      ]
     },
     "execution_count": 39,
     "metadata": {},
     "output_type": "execute_result"
    }
   ],
   "source": [
    "df"
   ]
  },
  {
   "cell_type": "code",
   "execution_count": 40,
   "id": "fbc634ff-a2fe-4d6b-958d-7453b47d9d2b",
   "metadata": {
    "tags": []
   },
   "outputs": [],
   "source": [
    "df['SP'] = df['apli'].apply(lambda x: x[6:8])"
   ]
  },
  {
   "cell_type": "code",
   "execution_count": 41,
   "id": "0ed76564-2d5f-444a-98d2-caf536b7c76a",
   "metadata": {},
   "outputs": [],
   "source": [
    "df['importe'] = df['importe'].astype(float)"
   ]
  },
  {
   "cell_type": "code",
   "execution_count": 42,
   "id": "dc249793-95b4-483b-b76f-773342cbfbd7",
   "metadata": {},
   "outputs": [
    {
     "data": {
      "text/html": [
       "<div>\n",
       "<style scoped>\n",
       "    .dataframe tbody tr th:only-of-type {\n",
       "        vertical-align: middle;\n",
       "    }\n",
       "\n",
       "    .dataframe tbody tr th {\n",
       "        vertical-align: top;\n",
       "    }\n",
       "\n",
       "    .dataframe thead th {\n",
       "        text-align: right;\n",
       "    }\n",
       "</style>\n",
       "<table border=\"1\" class=\"dataframe\">\n",
       "  <thead>\n",
       "    <tr style=\"text-align: right;\">\n",
       "      <th></th>\n",
       "      <th>num_paralela</th>\n",
       "      <th>num_x</th>\n",
       "      <th>tercero</th>\n",
       "      <th>cod_op</th>\n",
       "      <th>op_2021</th>\n",
       "      <th>apli</th>\n",
       "      <th>importe</th>\n",
       "      <th>exp_gasto</th>\n",
       "      <th>exp_gestor</th>\n",
       "      <th>num_error</th>\n",
       "      <th>error</th>\n",
       "      <th>SP</th>\n",
       "    </tr>\n",
       "  </thead>\n",
       "  <tbody>\n",
       "    <tr>\n",
       "      <th>0</th>\n",
       "      <td>00159222B10000003</td>\n",
       "      <td>*</td>\n",
       "      <td>*</td>\n",
       "      <td>2001000</td>\n",
       "      <td>00159221330000973</td>\n",
       "      <td>20221401  312A1  660</td>\n",
       "      <td>38000.00</td>\n",
       "      <td>101000002468</td>\n",
       "      <td>2002140010001001795</td>\n",
       "      <td>1</td>\n",
       "      <td>Los campos DIR3 son requeridos</td>\n",
       "      <td>01</td>\n",
       "    </tr>\n",
       "    <tr>\n",
       "      <th>1</th>\n",
       "      <td>00159222B10000004</td>\n",
       "      <td>*</td>\n",
       "      <td>000355430273</td>\n",
       "      <td>2002300</td>\n",
       "      <td>00159221330004190</td>\n",
       "      <td>20221401  312A1  660</td>\n",
       "      <td>38000.00</td>\n",
       "      <td>013062100060</td>\n",
       "      <td>2002140010001001795</td>\n",
       "      <td>1</td>\n",
       "      <td>La operación de enlace no está todavía contabi...</td>\n",
       "      <td>01</td>\n",
       "    </tr>\n",
       "    <tr>\n",
       "      <th>2</th>\n",
       "      <td>00159222B10000005</td>\n",
       "      <td>*</td>\n",
       "      <td>*</td>\n",
       "      <td>2001000</td>\n",
       "      <td>00159221330000912</td>\n",
       "      <td>20221401  312A1  660</td>\n",
       "      <td>77817.64</td>\n",
       "      <td>101000002397</td>\n",
       "      <td>2002140010001001796</td>\n",
       "      <td>1</td>\n",
       "      <td>Los campos DIR3 son requeridos</td>\n",
       "      <td>01</td>\n",
       "    </tr>\n",
       "    <tr>\n",
       "      <th>3</th>\n",
       "      <td>00159222B10000006</td>\n",
       "      <td>*</td>\n",
       "      <td>000B81171118</td>\n",
       "      <td>2002300</td>\n",
       "      <td>00159221330003070</td>\n",
       "      <td>20221401  312A1  660</td>\n",
       "      <td>77817.64</td>\n",
       "      <td>013062100058</td>\n",
       "      <td>2002140010001001796</td>\n",
       "      <td>1</td>\n",
       "      <td>La operación de enlace no está todavía contabi...</td>\n",
       "      <td>01</td>\n",
       "    </tr>\n",
       "    <tr>\n",
       "      <th>4</th>\n",
       "      <td>00159222B10000009</td>\n",
       "      <td>*</td>\n",
       "      <td>*</td>\n",
       "      <td>2001000</td>\n",
       "      <td>00159220330000017</td>\n",
       "      <td>20221401  121M2  22799</td>\n",
       "      <td>3450.26</td>\n",
       "      <td>101000005519</td>\n",
       "      <td></td>\n",
       "      <td>1</td>\n",
       "      <td>Los campos DIR3 son requeridos</td>\n",
       "      <td>01</td>\n",
       "    </tr>\n",
       "    <tr>\n",
       "      <th>...</th>\n",
       "      <td>...</td>\n",
       "      <td>...</td>\n",
       "      <td>...</td>\n",
       "      <td>...</td>\n",
       "      <td>...</td>\n",
       "      <td>...</td>\n",
       "      <td>...</td>\n",
       "      <td>...</td>\n",
       "      <td>...</td>\n",
       "      <td>...</td>\n",
       "      <td>...</td>\n",
       "      <td>...</td>\n",
       "    </tr>\n",
       "    <tr>\n",
       "      <th>3014</th>\n",
       "      <td>00159222B10004923</td>\n",
       "      <td>00159221310145432</td>\n",
       "      <td>000B85908093</td>\n",
       "      <td>2003000</td>\n",
       "      <td>00159221330005717</td>\n",
       "      <td>20221450  120A2  682</td>\n",
       "      <td>145984.08</td>\n",
       "      <td>033022100094</td>\n",
       "      <td>2021140500101000007</td>\n",
       "      <td>1</td>\n",
       "      <td>La aplicación 20221450  120A2  682      no exi...</td>\n",
       "      <td>50</td>\n",
       "    </tr>\n",
       "    <tr>\n",
       "      <th>3015</th>\n",
       "      <td>00159222B10004923</td>\n",
       "      <td>00159221310145432</td>\n",
       "      <td>000B85908093</td>\n",
       "      <td>2003000</td>\n",
       "      <td>00159221330005717</td>\n",
       "      <td>20221450  120A2  682</td>\n",
       "      <td>145984.08</td>\n",
       "      <td>033022100094</td>\n",
       "      <td>2021140500101000007</td>\n",
       "      <td>2</td>\n",
       "      <td>Clave 20221450  120A2  682     inexistente en ...</td>\n",
       "      <td>50</td>\n",
       "    </tr>\n",
       "    <tr>\n",
       "      <th>3016</th>\n",
       "      <td>00159222B10004923</td>\n",
       "      <td>00159221310145432</td>\n",
       "      <td>000B85908093</td>\n",
       "      <td>2003000</td>\n",
       "      <td>00159221330005717</td>\n",
       "      <td>20221450  120A2  682</td>\n",
       "      <td>145984.08</td>\n",
       "      <td>033022100094</td>\n",
       "      <td>2021140500101000007</td>\n",
       "      <td>3</td>\n",
       "      <td>Insuficiencia de saldo en Superproyecto-Aplica...</td>\n",
       "      <td>50</td>\n",
       "    </tr>\n",
       "    <tr>\n",
       "      <th>3017</th>\n",
       "      <td>00159222B10004923</td>\n",
       "      <td>00159221310145432</td>\n",
       "      <td>000B85908093</td>\n",
       "      <td>2003000</td>\n",
       "      <td>00159221330005717</td>\n",
       "      <td>20221450  120A2  682</td>\n",
       "      <td>145984.08</td>\n",
       "      <td>033022100094</td>\n",
       "      <td>2021140500101000007</td>\n",
       "      <td>4</td>\n",
       "      <td>Insuficiencia de saldo en Proyecto-Aplicación ...</td>\n",
       "      <td>50</td>\n",
       "    </tr>\n",
       "    <tr>\n",
       "      <th>3018</th>\n",
       "      <td>00159222B10004923</td>\n",
       "      <td>00159221310145432</td>\n",
       "      <td>000B85908093</td>\n",
       "      <td>2003000</td>\n",
       "      <td>00159221330005717</td>\n",
       "      <td>20221450  120A2  682</td>\n",
       "      <td>145984.08</td>\n",
       "      <td>033022100094</td>\n",
       "      <td>2021140500101000007</td>\n",
       "      <td>5</td>\n",
       "      <td>Clave 20221450  120A   68      inexistente en ...</td>\n",
       "      <td>50</td>\n",
       "    </tr>\n",
       "  </tbody>\n",
       "</table>\n",
       "<p>3013 rows × 12 columns</p>\n",
       "</div>"
      ],
      "text/plain": [
       "           num_paralela              num_x       tercero   cod_op  \\\n",
       "0     00159222B10000003                  *             *  2001000   \n",
       "1     00159222B10000004                  *  000355430273  2002300   \n",
       "2     00159222B10000005                  *             *  2001000   \n",
       "3     00159222B10000006                  *  000B81171118  2002300   \n",
       "4     00159222B10000009                  *             *  2001000   \n",
       "...                 ...                ...           ...      ...   \n",
       "3014  00159222B10004923  00159221310145432  000B85908093  2003000   \n",
       "3015  00159222B10004923  00159221310145432  000B85908093  2003000   \n",
       "3016  00159222B10004923  00159221310145432  000B85908093  2003000   \n",
       "3017  00159222B10004923  00159221310145432  000B85908093  2003000   \n",
       "3018  00159222B10004923  00159221310145432  000B85908093  2003000   \n",
       "\n",
       "                op_2021                    apli    importe     exp_gasto  \\\n",
       "0     00159221330000973    20221401  312A1  660   38000.00  101000002468   \n",
       "1     00159221330004190    20221401  312A1  660   38000.00  013062100060   \n",
       "2     00159221330000912    20221401  312A1  660   77817.64  101000002397   \n",
       "3     00159221330003070    20221401  312A1  660   77817.64  013062100058   \n",
       "4     00159220330000017  20221401  121M2  22799    3450.26  101000005519   \n",
       "...                 ...                     ...        ...           ...   \n",
       "3014  00159221330005717    20221450  120A2  682  145984.08  033022100094   \n",
       "3015  00159221330005717    20221450  120A2  682  145984.08  033022100094   \n",
       "3016  00159221330005717    20221450  120A2  682  145984.08  033022100094   \n",
       "3017  00159221330005717    20221450  120A2  682  145984.08  033022100094   \n",
       "3018  00159221330005717    20221450  120A2  682  145984.08  033022100094   \n",
       "\n",
       "               exp_gestor num_error  \\\n",
       "0     2002140010001001795         1   \n",
       "1     2002140010001001795         1   \n",
       "2     2002140010001001796         1   \n",
       "3     2002140010001001796         1   \n",
       "4                                 1   \n",
       "...                   ...       ...   \n",
       "3014  2021140500101000007         1   \n",
       "3015  2021140500101000007         2   \n",
       "3016  2021140500101000007         3   \n",
       "3017  2021140500101000007         4   \n",
       "3018  2021140500101000007         5   \n",
       "\n",
       "                                                  error  SP  \n",
       "0                        Los campos DIR3 son requeridos  01  \n",
       "1     La operación de enlace no está todavía contabi...  01  \n",
       "2                        Los campos DIR3 son requeridos  01  \n",
       "3     La operación de enlace no está todavía contabi...  01  \n",
       "4                        Los campos DIR3 son requeridos  01  \n",
       "...                                                 ...  ..  \n",
       "3014  La aplicación 20221450  120A2  682      no exi...  50  \n",
       "3015  Clave 20221450  120A2  682     inexistente en ...  50  \n",
       "3016  Insuficiencia de saldo en Superproyecto-Aplica...  50  \n",
       "3017  Insuficiencia de saldo en Proyecto-Aplicación ...  50  \n",
       "3018  Clave 20221450  120A   68      inexistente en ...  50  \n",
       "\n",
       "[3013 rows x 12 columns]"
      ]
     },
     "execution_count": 42,
     "metadata": {},
     "output_type": "execute_result"
    }
   ],
   "source": [
    "df"
   ]
  },
  {
   "cell_type": "code",
   "execution_count": 43,
   "id": "611a4b2a-d0cb-418b-afa3-ac27bae8da57",
   "metadata": {},
   "outputs": [],
   "source": [
    "df.to_csv('df_final.csv', index = False)"
   ]
  },
  {
   "cell_type": "code",
   "execution_count": 44,
   "id": "80b448cd-5dc5-4487-8efc-de81a7eddef1",
   "metadata": {},
   "outputs": [],
   "source": [
    "list_indices =[df[df['exp_gestor'] =='1'].index]"
   ]
  },
  {
   "cell_type": "code",
   "execution_count": 45,
   "id": "85965df9-9a10-4782-80d1-028e66a061bb",
   "metadata": {},
   "outputs": [
    {
     "data": {
      "text/plain": [
       "[Int64Index([253, 1518, 1536, 1539, 1994, 2044, 2056, 2266, 2268, 2280], dtype='int64')]"
      ]
     },
     "execution_count": 45,
     "metadata": {},
     "output_type": "execute_result"
    }
   ],
   "source": [
    "list_indices"
   ]
  },
  {
   "cell_type": "code",
   "execution_count": 46,
   "id": "d4b35f87-b65f-4dee-b6f9-325befb4f874",
   "metadata": {},
   "outputs": [
    {
     "data": {
      "text/plain": [
       "num_paralela     object\n",
       "num_x            object\n",
       "tercero          object\n",
       "cod_op           object\n",
       "op_2021          object\n",
       "apli             object\n",
       "importe         float64\n",
       "exp_gasto        object\n",
       "exp_gestor       object\n",
       "num_error        object\n",
       "error            object\n",
       "SP               object\n",
       "dtype: object"
      ]
     },
     "execution_count": 46,
     "metadata": {},
     "output_type": "execute_result"
    }
   ],
   "source": [
    "df.dtypes"
   ]
  },
  {
   "cell_type": "code",
   "execution_count": 62,
   "id": "35f79ff9-7cc1-4c01-8349-7cdacf278766",
   "metadata": {},
   "outputs": [
    {
     "data": {
      "text/html": [
       "<style  type=\"text/css\" >\n",
       "</style><table id=\"T_0b67f_\" ><thead>    <tr>        <th class=\"blank level0\" ></th>        <th class=\"col_heading level0 col0\" >importe</th>    </tr>    <tr>        <th class=\"index_name level0\" >SP</th>        <th class=\"blank\" ></th>    </tr></thead><tbody>\n",
       "                <tr>\n",
       "                        <th id=\"T_0b67f_level0_row0\" class=\"row_heading level0 row0\" >01</th>\n",
       "                        <td id=\"T_0b67f_row0_col0\" class=\"data row0 col0\" >7521966.28</td>\n",
       "            </tr>\n",
       "            <tr>\n",
       "                        <th id=\"T_0b67f_level0_row1\" class=\"row_heading level0 row1\" >02</th>\n",
       "                        <td id=\"T_0b67f_row1_col0\" class=\"data row1 col0\" >15022042.05</td>\n",
       "            </tr>\n",
       "            <tr>\n",
       "                        <th id=\"T_0b67f_level0_row2\" class=\"row_heading level0 row2\" >03</th>\n",
       "                        <td id=\"T_0b67f_row2_col0\" class=\"data row2 col0\" >18373709326.61</td>\n",
       "            </tr>\n",
       "            <tr>\n",
       "                        <th id=\"T_0b67f_level0_row3\" class=\"row_heading level0 row3\" >12</th>\n",
       "                        <td id=\"T_0b67f_row3_col0\" class=\"data row3 col0\" >59333724.76</td>\n",
       "            </tr>\n",
       "            <tr>\n",
       "                        <th id=\"T_0b67f_level0_row4\" class=\"row_heading level0 row4\" >17</th>\n",
       "                        <td id=\"T_0b67f_row4_col0\" class=\"data row4 col0\" >88224920.01</td>\n",
       "            </tr>\n",
       "            <tr>\n",
       "                        <th id=\"T_0b67f_level0_row5\" class=\"row_heading level0 row5\" >22</th>\n",
       "                        <td id=\"T_0b67f_row5_col0\" class=\"data row5 col0\" >141277996.19</td>\n",
       "            </tr>\n",
       "            <tr>\n",
       "                        <th id=\"T_0b67f_level0_row6\" class=\"row_heading level0 row6\" >50</th>\n",
       "                        <td id=\"T_0b67f_row6_col0\" class=\"data row6 col0\" >79629914.76</td>\n",
       "            </tr>\n",
       "    </tbody></table>"
      ],
      "text/plain": [
       "<pandas.io.formats.style.Styler at 0x1aa55f1e940>"
      ]
     },
     "execution_count": 62,
     "metadata": {},
     "output_type": "execute_result"
    }
   ],
   "source": [
    "df.groupby(['SP']).sum(['importe']).style.format({\"importe\": \"{:.2f}\"})\n"
   ]
  },
  {
   "cell_type": "code",
   "execution_count": 57,
   "id": "f77c358b-05d5-44f7-8223-19fbddc56569",
   "metadata": {},
   "outputs": [
    {
     "ename": "AttributeError",
     "evalue": "'Series' object has no attribute 'style'",
     "output_type": "error",
     "traceback": [
      "\u001b[1;31m---------------------------------------------------------------------------\u001b[0m",
      "\u001b[1;31mAttributeError\u001b[0m                            Traceback (most recent call last)",
      "\u001b[1;32m<ipython-input-57-5fd38500fcec>\u001b[0m in \u001b[0;36m<module>\u001b[1;34m\u001b[0m\n\u001b[1;32m----> 1\u001b[1;33m \u001b[0mdf\u001b[0m\u001b[1;33m[\u001b[0m\u001b[1;34m'importe'\u001b[0m\u001b[1;33m]\u001b[0m\u001b[1;33m.\u001b[0m\u001b[0mstyle\u001b[0m\u001b[1;33m.\u001b[0m\u001b[0mformat\u001b[0m\u001b[1;33m(\u001b[0m\u001b[1;34m'{:.2f}'\u001b[0m\u001b[1;33m)\u001b[0m\u001b[1;33m\u001b[0m\u001b[1;33m\u001b[0m\u001b[0m\n\u001b[0m",
      "\u001b[1;32m~\\anaconda3\\lib\\site-packages\\pandas\\core\\generic.py\u001b[0m in \u001b[0;36m__getattr__\u001b[1;34m(self, name)\u001b[0m\n\u001b[0;32m   5463\u001b[0m             \u001b[1;32mif\u001b[0m \u001b[0mself\u001b[0m\u001b[1;33m.\u001b[0m\u001b[0m_info_axis\u001b[0m\u001b[1;33m.\u001b[0m\u001b[0m_can_hold_identifiers_and_holds_name\u001b[0m\u001b[1;33m(\u001b[0m\u001b[0mname\u001b[0m\u001b[1;33m)\u001b[0m\u001b[1;33m:\u001b[0m\u001b[1;33m\u001b[0m\u001b[1;33m\u001b[0m\u001b[0m\n\u001b[0;32m   5464\u001b[0m                 \u001b[1;32mreturn\u001b[0m \u001b[0mself\u001b[0m\u001b[1;33m[\u001b[0m\u001b[0mname\u001b[0m\u001b[1;33m]\u001b[0m\u001b[1;33m\u001b[0m\u001b[1;33m\u001b[0m\u001b[0m\n\u001b[1;32m-> 5465\u001b[1;33m             \u001b[1;32mreturn\u001b[0m \u001b[0mobject\u001b[0m\u001b[1;33m.\u001b[0m\u001b[0m__getattribute__\u001b[0m\u001b[1;33m(\u001b[0m\u001b[0mself\u001b[0m\u001b[1;33m,\u001b[0m \u001b[0mname\u001b[0m\u001b[1;33m)\u001b[0m\u001b[1;33m\u001b[0m\u001b[1;33m\u001b[0m\u001b[0m\n\u001b[0m\u001b[0;32m   5466\u001b[0m \u001b[1;33m\u001b[0m\u001b[0m\n\u001b[0;32m   5467\u001b[0m     \u001b[1;32mdef\u001b[0m \u001b[0m__setattr__\u001b[0m\u001b[1;33m(\u001b[0m\u001b[0mself\u001b[0m\u001b[1;33m,\u001b[0m \u001b[0mname\u001b[0m\u001b[1;33m:\u001b[0m \u001b[0mstr\u001b[0m\u001b[1;33m,\u001b[0m \u001b[0mvalue\u001b[0m\u001b[1;33m)\u001b[0m \u001b[1;33m->\u001b[0m \u001b[1;32mNone\u001b[0m\u001b[1;33m:\u001b[0m\u001b[1;33m\u001b[0m\u001b[1;33m\u001b[0m\u001b[0m\n",
      "\u001b[1;31mAttributeError\u001b[0m: 'Series' object has no attribute 'style'"
     ]
    }
   ],
   "source": []
  },
  {
   "cell_type": "code",
   "execution_count": null,
   "id": "cc588702-f107-47b3-83fd-58a11245028e",
   "metadata": {},
   "outputs": [],
   "source": []
  }
 ],
 "metadata": {
  "kernelspec": {
   "display_name": "Python 3",
   "language": "python",
   "name": "python3"
  },
  "language_info": {
   "codemirror_mode": {
    "name": "ipython",
    "version": 3
   },
   "file_extension": ".py",
   "mimetype": "text/x-python",
   "name": "python",
   "nbconvert_exporter": "python",
   "pygments_lexer": "ipython3",
   "version": "3.8.8"
  }
 },
 "nbformat": 4,
 "nbformat_minor": 5
}
