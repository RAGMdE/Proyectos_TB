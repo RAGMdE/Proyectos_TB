{
 "cells": [
  {
   "cell_type": "markdown",
   "id": "9aa7b784",
   "metadata": {},
   "source": [
    "# 1. Extracción de imágenes de Google"
   ]
  },
  {
   "cell_type": "code",
   "execution_count": 3,
   "id": "a2e55007",
   "metadata": {},
   "outputs": [],
   "source": [
    "import hashlib\n",
    "from PIL import Image\n",
    "import io, os\n",
    "import requests\n",
    "import time\n",
    "import selenium\n",
    "from selenium import webdriver"
   ]
  },
  {
   "cell_type": "code",
   "execution_count": 6,
   "id": "cc6c376a",
   "metadata": {},
   "outputs": [
    {
     "name": "stderr",
     "output_type": "stream",
     "text": [
      "<ipython-input-6-e58658cd98d8>:1: DeprecationWarning: executable_path has been deprecated, please pass in a Service object\n",
      "  wd = webdriver.Chrome(r'C:\\Users\\ragod\\Desktop\\reposicion\\ds_tb_part_21_09\\02-Data_Analysis\\driver\\chromedriver.exe')\n"
     ]
    }
   ],
   "source": [
    "wd = webdriver.Chrome(r'C:\\Users\\ragod\\Desktop\\reposicion\\ds_tb_part_21_09\\02-Data_Analysis\\driver\\chromedriver.exe')"
   ]
  },
  {
   "cell_type": "code",
   "execution_count": 7,
   "id": "3392de2d",
   "metadata": {},
   "outputs": [],
   "source": [
    "def fetch_image_urls(query:str, max_links_to_fetch:int, wd:webdriver, sleep_between_interactions:int=2):\n",
    "    def scroll_to_end(wd):\n",
    "        wd.execute_script(\"window.scrollTo(0, document.body.scrollHeight);\")\n",
    "        time.sleep(sleep_between_interactions)    \n",
    "    \n",
    "    # build the google query\n",
    "    search_url = \"https://www.google.com/search?safe=off&site=&tbm=isch&source=hp&q={q}&oq={q}&gs_l=img\"\n",
    "\n",
    "    # load the page\n",
    "    wd.get(search_url.format(q=query))\n",
    "\n",
    "    image_urls = set()\n",
    "    image_count = 0\n",
    "    results_start = 0\n",
    "    while image_count < max_links_to_fetch:\n",
    "        print(image_count,max_links_to_fetch)\n",
    "        scroll_to_end(wd)\n",
    "\n",
    "        # get all image thumbnail results\n",
    "        thumbnail_results = wd.find_elements_by_css_selector(\"img.Q4LuWd\")\n",
    "        number_results = len(thumbnail_results)\n",
    "        \n",
    "        print(f\"Found: {number_results} search results. Extracting links from {results_start}:{number_results}\")\n",
    "        \n",
    "        for img in thumbnail_results[results_start:number_results]:\n",
    "            # try to click every thumbnail such that we can get the real image behind it\n",
    "            try:\n",
    "                img.click()\n",
    "                time.sleep(sleep_between_interactions)\n",
    "            except Exception:\n",
    "                continue\n",
    "\n",
    "            # extract image urls    \n",
    "            actual_images = wd.find_elements_by_css_selector('img.n3VNCb')\n",
    "            for actual_image in actual_images:\n",
    "                if actual_image.get_attribute('src') and 'http' in actual_image.get_attribute('src'):\n",
    "                    image_urls.add(actual_image.get_attribute('src'))\n",
    "\n",
    "            image_count = len(image_urls)\n",
    "\n",
    "            if len(image_urls) >= max_links_to_fetch:\n",
    "                print(f\"Found: {len(image_urls)} image links, done!\")\n",
    "                break\n",
    "        \n",
    "        # move the result startpoint further down\n",
    "        results_start = len(thumbnail_results)\n",
    "\n",
    "    return image_urls"
   ]
  },
  {
   "cell_type": "code",
   "execution_count": 8,
   "id": "d44e27b8",
   "metadata": {},
   "outputs": [],
   "source": [
    "def persist_image(folder_path:str,url:str):\n",
    "    try:\n",
    "        image_content = requests.get(url).content\n",
    "\n",
    "    except Exception as e:\n",
    "        print(f\"ERROR - Could not download {url} - {e}\")\n",
    "\n",
    "    try:\n",
    "        image_file = io.BytesIO(image_content)\n",
    "        image = Image.open(image_file).convert('RGB')\n",
    "        file_path = os.path.join(folder_path,hashlib.sha1(image_content).hexdigest()[:10] + '.jpg')\n",
    "        with open(file_path, 'wb') as f:\n",
    "            image.save(f, \"JPEG\", quality=85)\n",
    "        print(f\"SUCCESS - saved {url} - as {file_path}\")\n",
    "    except Exception as e:\n",
    "        print(f\"ERROR - Could not save {url} - {e}\")"
   ]
  },
  {
   "cell_type": "code",
   "execution_count": 9,
   "id": "5a25aad7",
   "metadata": {},
   "outputs": [],
   "source": [
    "def search_and_download(search_term:str,driver_path:str,target_path='./images',number_images=5):\n",
    "    target_folder = os.path.join(target_path,'_'.join(search_term.lower().split(' ')))\n",
    "\n",
    "    if not os.path.exists(target_folder):\n",
    "        os.makedirs(target_folder)\n",
    "\n",
    "    with webdriver.Chrome(executable_path=driver_path) as wd:\n",
    "        res = fetch_image_urls(search_term, number_images, wd=wd, sleep_between_interactions=0.1)\n",
    "        \n",
    "    for elem in res:\n",
    "        persist_image(target_folder,elem)"
   ]
  },
  {
   "cell_type": "code",
   "execution_count": 11,
   "id": "6bb120aa",
   "metadata": {},
   "outputs": [
    {
     "name": "stderr",
     "output_type": "stream",
     "text": [
      "<ipython-input-9-52df9620407b>:7: DeprecationWarning: executable_path has been deprecated, please pass in a Service object\n",
      "  with webdriver.Chrome(executable_path=driver_path) as wd:\n"
     ]
    },
    {
     "name": "stdout",
     "output_type": "stream",
     "text": [
      "0 100\n",
      "Found: 100 search results. Extracting links from 0:100\n"
     ]
    },
    {
     "name": "stderr",
     "output_type": "stream",
     "text": [
      "<ipython-input-7-98782fd577d6>:20: DeprecationWarning: find_elements_by_* commands are deprecated. Please use find_elements() instead\n",
      "  thumbnail_results = wd.find_elements_by_css_selector(\"img.Q4LuWd\")\n",
      "<ipython-input-7-98782fd577d6>:34: DeprecationWarning: find_elements_by_* commands are deprecated. Please use find_elements() instead\n",
      "  actual_images = wd.find_elements_by_css_selector('img.n3VNCb')\n"
     ]
    },
    {
     "name": "stdout",
     "output_type": "stream",
     "text": [
      "90 100\n",
      "Found: 112 search results. Extracting links from 100:112\n",
      "92 100\n",
      "Found: 112 search results. Extracting links from 112:112\n",
      "92 100\n",
      "Found: 212 search results. Extracting links from 112:212\n",
      "Found: 100 image links, done!\n",
      "SUCCESS - saved https://encrypted-tbn0.gstatic.com/images?q=tbn:ANd9GcTtyrtpDNiWSe-lzI46gzcCQvU6pwxtkzTqwg&usqp=CAU - as ./images\\patinete\\c73d0f4096.jpg\n",
      "SUCCESS - saved https://encrypted-tbn0.gstatic.com/images?q=tbn:ANd9GcR_ynGX88ATFGD_oso0GfbalmDWpdWUmKBO-w&usqp=CAU - as ./images\\patinete\\fdb735d0e4.jpg\n",
      "SUCCESS - saved https://encrypted-tbn0.gstatic.com/images?q=tbn:ANd9GcTP1loMlDBhplnYrBOUQyyBirxuXOFAsm6sGw&usqp=CAU - as ./images\\patinete\\ceb2e196c2.jpg\n",
      "SUCCESS - saved https://encrypted-tbn0.gstatic.com/images?q=tbn:ANd9GcT1D2xyPemSO1lgg3D65uinhWBNBztthO6FGg&usqp=CAU - as ./images\\patinete\\d1c7e4757e.jpg\n",
      "SUCCESS - saved https://encrypted-tbn0.gstatic.com/images?q=tbn:ANd9GcT22Xstiw7Y361j5z2seLu9TTAzfubVspwqow&usqp=CAU - as ./images\\patinete\\cc242ea0d9.jpg\n",
      "SUCCESS - saved https://encrypted-tbn0.gstatic.com/images?q=tbn:ANd9GcR_PN_-YrzJLZ3OpDyxa0IaijZi75SmjVrr3g&usqp=CAU - as ./images\\patinete\\f8ea6bc31d.jpg\n",
      "SUCCESS - saved https://encrypted-tbn0.gstatic.com/images?q=tbn:ANd9GcQCscxlynVAMPbrlE4NOejCUuK8LzGNrE5ZRw&usqp=CAU - as ./images\\patinete\\5cfcc73c13.jpg\n",
      "SUCCESS - saved https://ecoxtrem.com/38-large_default/patinete-electrico-250w-con-bateria-panasonic-urban-prime-s.jpg - as ./images\\patinete\\c10925b63e.jpg\n",
      "SUCCESS - saved https://encrypted-tbn0.gstatic.com/images?q=tbn:ANd9GcSL582_QZp2JDeTjuKBS0jd3w6MGrvT4vPBmg&usqp=CAU - as ./images\\patinete\\e920cd4b40.jpg\n",
      "SUCCESS - saved https://encrypted-tbn0.gstatic.com/images?q=tbn:ANd9GcTo16AVBYIDnHBw31ItR3J5Wwf0KzL6HOpJQQ&usqp=CAU - as ./images\\patinete\\cc24ec047c.jpg\n",
      "SUCCESS - saved https://encrypted-tbn0.gstatic.com/images?q=tbn:ANd9GcSfBDU0lIXZQgfRT6bQnwBUlYD1fWKSVGZUkGt9Fyoh3Aa-HVa0GPuETIprjVEnkXaf360&usqp=CAU - as ./images\\patinete\\2639e9f7b2.jpg\n",
      "SUCCESS - saved https://encrypted-tbn0.gstatic.com/images?q=tbn:ANd9GcRy2gwM8I4RsSn1-wBmpXVD9hZuDAd9C3KDmQ&usqp=CAU - as ./images\\patinete\\76913129a5.jpg\n",
      "SUCCESS - saved https://encrypted-tbn0.gstatic.com/images?q=tbn:ANd9GcSUHiRhMR6PIsj-rM7xC6jgptcgPwjfIpLs7w&usqp=CAU - as ./images\\patinete\\84b4aee5af.jpg\n",
      "SUCCESS - saved https://encrypted-tbn0.gstatic.com/images?q=tbn:ANd9GcSRvAavIXUzSrzSxr9I-uHLltdna-QkKi29tQ&usqp=CAU - as ./images\\patinete\\20eabb2573.jpg\n",
      "SUCCESS - saved https://encrypted-tbn0.gstatic.com/images?q=tbn:ANd9GcTvRVrGTx89ctdqXscGKQZJ7d4-h3Xpyl8OkQ&usqp=CAU - as ./images\\patinete\\8805f873c3.jpg\n",
      "SUCCESS - saved https://encrypted-tbn0.gstatic.com/images?q=tbn:ANd9GcReoU7VTNp3L8DNbaTCb3_42jKp2dqnG_ImkA&usqp=CAU - as ./images\\patinete\\5ed7f00f80.jpg\n",
      "SUCCESS - saved https://encrypted-tbn0.gstatic.com/images?q=tbn:ANd9GcSovAtcg7zWhVJy_Vg-T9wb95NXs61eXS0RPA&usqp=CAU - as ./images\\patinete\\1dfa237fc4.jpg\n",
      "SUCCESS - saved https://encrypted-tbn0.gstatic.com/images?q=tbn:ANd9GcQujO2rPMvhXrmVZK5zm85iIfZtHmbcUUi4afxRKwUx0dB2q9Qmk2s14xYtweVjPBwPvi0&usqp=CAU - as ./images\\patinete\\f05e5ec78d.jpg\n",
      "SUCCESS - saved https://encrypted-tbn0.gstatic.com/images?q=tbn:ANd9GcShbr4zos-g-fEWtdKBX8LAZmeiPf60KaFNZA&usqp=CAU - as ./images\\patinete\\7ba06d706c.jpg\n",
      "SUCCESS - saved https://encrypted-tbn0.gstatic.com/images?q=tbn:ANd9GcSMq6t1VpyWF-nPszghYLQA_C_AmO8N7xNuTg&usqp=CAU - as ./images\\patinete\\55e6137ed4.jpg\n",
      "SUCCESS - saved https://encrypted-tbn0.gstatic.com/images?q=tbn:ANd9GcRpmi45QqqfgPjtr6FH4Y2gRoIMolptIA2hwg&usqp=CAU - as ./images\\patinete\\bac82edf27.jpg\n",
      "SUCCESS - saved https://m.media-amazon.com/images/I/51OPVqankpL._AC_SY450_.jpg - as ./images\\patinete\\5d65da9630.jpg\n",
      "SUCCESS - saved https://encrypted-tbn0.gstatic.com/images?q=tbn:ANd9GcTigp6ljKFIh6fNPsfQocPUfJ1ORzopHzcVkQ&usqp=CAU - as ./images\\patinete\\f2cd5a6aa1.jpg\n",
      "SUCCESS - saved https://cdn.shopify.com/s/files/1/0215/8618/2208/products/b87f22bc-b71b-4728-84f8-c030db3b8a8a_800x.jpg?v=1622807593 - as ./images\\patinete\\580cb56b3a.jpg\n",
      "SUCCESS - saved https://encrypted-tbn0.gstatic.com/images?q=tbn:ANd9GcQEL-3dCHKG3ZkSFUTjPsDs0Qr27MTM5q4NQQ&usqp=CAU - as ./images\\patinete\\6b12151741.jpg\n",
      "SUCCESS - saved https://encrypted-tbn0.gstatic.com/images?q=tbn:ANd9GcSZVCj4h3DRe2bAwZsvXtd2xD5rkhIcnNSc5w&usqp=CAU - as ./images\\patinete\\c425f5967d.jpg\n",
      "SUCCESS - saved https://encrypted-tbn0.gstatic.com/images?q=tbn:ANd9GcRfbW2AHynRipMbd9CRIcGuTMMMqO5yddJeIA&usqp=CAU - as ./images\\patinete\\80d42f90d5.jpg\n",
      "SUCCESS - saved https://encrypted-tbn0.gstatic.com/images?q=tbn:ANd9GcSpMiv0G_QGL_Bo5x5Hd_BMMmFXQf2c1gdR7g&usqp=CAU - as ./images\\patinete\\e45d7434f9.jpg\n",
      "SUCCESS - saved https://encrypted-tbn0.gstatic.com/images?q=tbn:ANd9GcRvokJxt3-O5X1ZJieGv20kK_DjfmStns4yNg&usqp=CAU - as ./images\\patinete\\fb346dccfd.jpg\n",
      "SUCCESS - saved https://encrypted-tbn0.gstatic.com/images?q=tbn:ANd9GcSg4xAK62vwkb9Ho3gXi92qKbmp53hLW4KTew&usqp=CAU - as ./images\\patinete\\31b530b3c8.jpg\n",
      "SUCCESS - saved https://encrypted-tbn0.gstatic.com/images?q=tbn:ANd9GcRhjMgtX3psOkUYYJxK-pZDyXt3LUy-nnBE8Q&usqp=CAU - as ./images\\patinete\\d8824577c9.jpg\n",
      "SUCCESS - saved https://encrypted-tbn0.gstatic.com/images?q=tbn:ANd9GcQbLZHl4BjcYr_hdGs1cTNAVFeKeKOdj1HT0w&usqp=CAU - as ./images\\patinete\\0a6eacb44d.jpg\n",
      "SUCCESS - saved https://encrypted-tbn0.gstatic.com/images?q=tbn:ANd9GcSx5FT__x7VzC3McLm23B7cTrZMP7bzaGSXmA&usqp=CAU - as ./images\\patinete\\d0d7339e15.jpg\n",
      "SUCCESS - saved https://encrypted-tbn0.gstatic.com/images?q=tbn:ANd9GcRhVKljs6ip7HVVBMnvk2v73kkCSX6HrkBxGQ&usqp=CAU - as ./images\\patinete\\78606e78a8.jpg\n",
      "SUCCESS - saved https://encrypted-tbn0.gstatic.com/images?q=tbn:ANd9GcQbG1CZlSHXNeHqi8llTlvPxvUJEobV1a8G_w&usqp=CAU - as ./images\\patinete\\ee3e7e4312.jpg\n",
      "SUCCESS - saved https://encrypted-tbn0.gstatic.com/images?q=tbn:ANd9GcSNaOmkYF5JgfAoakpNUTElefEyOHE1y7wPYQ&usqp=CAU - as ./images\\patinete\\173846a995.jpg\n",
      "SUCCESS - saved https://encrypted-tbn0.gstatic.com/images?q=tbn:ANd9GcTNWcbx01bfNNUuYXgRvD8NVAD8XZNvWVU8lg&usqp=CAU - as ./images\\patinete\\c0ef9dd220.jpg\n",
      "SUCCESS - saved https://encrypted-tbn0.gstatic.com/images?q=tbn:ANd9GcTeyNJEcURZSVR8y3MIl3bhkwtj80WjXfzzZw&usqp=CAU - as ./images\\patinete\\face46a9c6.jpg\n",
      "SUCCESS - saved https://encrypted-tbn0.gstatic.com/images?q=tbn:ANd9GcQSzdAHqAkasCkS8IkH6Hg2q8layYjGEky9TQ&usqp=CAU - as ./images\\patinete\\370781c87a.jpg\n",
      "SUCCESS - saved https://encrypted-tbn0.gstatic.com/images?q=tbn:ANd9GcSTepI3qHvBRM7bEpSllj-JtLdyzPtA69lRnw&usqp=CAU - as ./images\\patinete\\2977a06aec.jpg\n",
      "SUCCESS - saved https://encrypted-tbn0.gstatic.com/images?q=tbn:ANd9GcTKIdgN6Or_zqzh5FFCldSRHOFw0UEBbvK0fg&usqp=CAU - as ./images\\patinete\\be47b194d0.jpg\n",
      "SUCCESS - saved https://encrypted-tbn0.gstatic.com/images?q=tbn:ANd9GcRGAQBqfgWIZpIlCIHwJtFw5o1tTz1f3gTN_A&usqp=CAU - as ./images\\patinete\\4d06709273.jpg\n",
      "SUCCESS - saved https://encrypted-tbn0.gstatic.com/images?q=tbn:ANd9GcQx7ExJQM4tE-_wuX-I2DLGVMJxmm2XLPHtyw&usqp=CAU - as ./images\\patinete\\5c3d1fb859.jpg\n",
      "SUCCESS - saved https://encrypted-tbn0.gstatic.com/images?q=tbn:ANd9GcRTLEc_84WF2gxv3AQDSJHkuGO6KTAMyBT_XA&usqp=CAU - as ./images\\patinete\\d8eaa0ba2c.jpg\n",
      "SUCCESS - saved https://encrypted-tbn0.gstatic.com/images?q=tbn:ANd9GcRsJk3HIwY2aJj2-ShzlOa4AKhb4RyRQfiM3w&usqp=CAU - as ./images\\patinete\\b9b5fd12bb.jpg\n",
      "SUCCESS - saved https://encrypted-tbn0.gstatic.com/images?q=tbn:ANd9GcSvnhCE3I8qQRnIcSK2oXvgDmYNSB89jnGIyg&usqp=CAU - as ./images\\patinete\\41d235f96d.jpg\n",
      "SUCCESS - saved https://encrypted-tbn0.gstatic.com/images?q=tbn:ANd9GcTkwJIE2XufeElRxNKD6Pnqndmsfsx_NWozug&usqp=CAU - as ./images\\patinete\\5a7af048bc.jpg\n",
      "SUCCESS - saved https://encrypted-tbn0.gstatic.com/images?q=tbn:ANd9GcR9jmR9GBxgkjB9oAV2eEYuxI8I924C99tS4Q&usqp=CAU - as ./images\\patinete\\b31250327e.jpg\n",
      "SUCCESS - saved https://encrypted-tbn0.gstatic.com/images?q=tbn:ANd9GcSqlZr0pAAZNeVgsEfN_L3XClkqfM0CbzU5Sw&usqp=CAU - as ./images\\patinete\\c1daf3eff4.jpg\n",
      "SUCCESS - saved https://static.carrefour.es/hd_350x_/crs/cdn_static/category/hd/cat2337984.jpg - as ./images\\patinete\\23c55fdc6f.jpg\n",
      "SUCCESS - saved https://encrypted-tbn0.gstatic.com/images?q=tbn:ANd9GcT0ZIIDQspu2AKACaSecwEhaosFzGaVc0UL5g&usqp=CAU - as ./images\\patinete\\4237904b01.jpg\n",
      "SUCCESS - saved https://encrypted-tbn0.gstatic.com/images?q=tbn:ANd9GcSHiQEJPNyf43bq4MqlTb8hncrgkC-N9TWLbQ&usqp=CAU - as ./images\\patinete\\9790f64199.jpg\n",
      "SUCCESS - saved https://encrypted-tbn0.gstatic.com/images?q=tbn:ANd9GcRRH4VfpsQO0Be4AtBjAC2L3y1UbzbZ26k-lQ&usqp=CAU - as ./images\\patinete\\3c8c02425e.jpg\n",
      "SUCCESS - saved https://encrypted-tbn0.gstatic.com/images?q=tbn:ANd9GcSBmoK0tINmrz4xLjlkr-boRrGj4zsSrIN7oQ&usqp=CAU - as ./images\\patinete\\9a78905f1b.jpg\n",
      "SUCCESS - saved https://encrypted-tbn0.gstatic.com/images?q=tbn:ANd9GcT--Ct_PxwwbkW3kI3mGji_1zmoBJja-CKoUw&usqp=CAU - as ./images\\patinete\\2d0e19d143.jpg\n",
      "SUCCESS - saved https://encrypted-tbn0.gstatic.com/images?q=tbn:ANd9GcQIBpZcMIZX5Nl2kPMArk4NXf21y--fjXp4-w&usqp=CAU - as ./images\\patinete\\e431de2ca7.jpg\n",
      "SUCCESS - saved https://encrypted-tbn0.gstatic.com/images?q=tbn:ANd9GcSzjWT4FBdp0cSs-ohaLFMlhel32sVI_e1Rkg&usqp=CAU - as ./images\\patinete\\4a3f027d0a.jpg\n",
      "SUCCESS - saved https://encrypted-tbn0.gstatic.com/images?q=tbn:ANd9GcRUJCFG4qL0nhNr_mWnqehRgwcxYmuYumAywg&usqp=CAU - as ./images\\patinete\\81a6109047.jpg\n",
      "SUCCESS - saved https://encrypted-tbn0.gstatic.com/images?q=tbn:ANd9GcQTuLD4tKMiQ_LmnE5oDp_Zo6D4dR00O54KZlvu7yfa2EAeQtouKq1foq-Q-Qr37THy-CI&usqp=CAU - as ./images\\patinete\\07accd85db.jpg\n",
      "SUCCESS - saved https://encrypted-tbn0.gstatic.com/images?q=tbn:ANd9GcS6RaSjqHQHIcX7hKO4qmIVs5gwIiYsfPF8SQ&usqp=CAU - as ./images\\patinete\\8f5abb2866.jpg\n",
      "SUCCESS - saved https://encrypted-tbn0.gstatic.com/images?q=tbn:ANd9GcTRor8xwnY2JRdMC-XJ84kE97CqSkflw8uLhA&usqp=CAU - as ./images\\patinete\\e99fb160d9.jpg\n",
      "SUCCESS - saved https://encrypted-tbn0.gstatic.com/images?q=tbn:ANd9GcTLMdjJqtRdMVEKdJYMN2CPiFgV0hOJ8SYLZg&usqp=CAU - as ./images\\patinete\\dbda3e5efa.jpg\n",
      "SUCCESS - saved https://encrypted-tbn0.gstatic.com/images?q=tbn:ANd9GcSj8_Ca1a0gbmNImV9ksUtfd_3Wh51WjEgiHw&usqp=CAU - as ./images\\patinete\\83c5baaddb.jpg\n",
      "SUCCESS - saved https://encrypted-tbn0.gstatic.com/images?q=tbn:ANd9GcRV-2mFqFQAuOhToKIdNHRBiZx-pQUlZen2Lg&usqp=CAU - as ./images\\patinete\\921db8c6cb.jpg\n",
      "SUCCESS - saved https://encrypted-tbn0.gstatic.com/images?q=tbn:ANd9GcRcMnZhAP07NJ8VTKAGBRbHJz9ez0OMeF4Tog&usqp=CAU - as ./images\\patinete\\379ac42656.jpg\n",
      "SUCCESS - saved https://encrypted-tbn0.gstatic.com/images?q=tbn:ANd9GcRSytJI31BgEqsDw5e6b0R6BCS8yn0gxpgA5g&usqp=CAU - as ./images\\patinete\\219f101a95.jpg\n",
      "SUCCESS - saved https://encrypted-tbn0.gstatic.com/images?q=tbn:ANd9GcQmtIV42q0E0f6UwcCMGK0HKdmVHQBwWuP2BA&usqp=CAU - as ./images\\patinete\\1f7521e685.jpg\n",
      "SUCCESS - saved https://encrypted-tbn0.gstatic.com/images?q=tbn:ANd9GcTBkG8HhLNPSNayxyIt9TFlBcopmtfEoRoyJA&usqp=CAU - as ./images\\patinete\\77e355d071.jpg\n",
      "SUCCESS - saved https://encrypted-tbn0.gstatic.com/images?q=tbn:ANd9GcSD2bE1J14VDwXCl7aWb1tGP6zELVSi3Yzl1w&usqp=CAU - as ./images\\patinete\\8ff2682c5c.jpg\n",
      "SUCCESS - saved https://encrypted-tbn0.gstatic.com/images?q=tbn:ANd9GcTXy-4473tEe6ACohsK4-PxuM-n829rVcjg5w&usqp=CAU - as ./images\\patinete\\372965dd3d.jpg\n",
      "SUCCESS - saved https://encrypted-tbn0.gstatic.com/images?q=tbn:ANd9GcSsZAXWPj2R5XAG5kks28gCqgLjzPe15kOF-Q&usqp=CAU - as ./images\\patinete\\193632c3b0.jpg\n",
      "SUCCESS - saved https://encrypted-tbn0.gstatic.com/images?q=tbn:ANd9GcRaygaM32xgvEJNb-cBqkGezecyvzbZQVAIxg&usqp=CAU - as ./images\\patinete\\bf982e3bec.jpg\n",
      "SUCCESS - saved https://encrypted-tbn0.gstatic.com/images?q=tbn:ANd9GcTP9Khn_ihpx032Ecc0JjgGnIwiL4qTp03R7w&usqp=CAU - as ./images\\patinete\\469d8e1559.jpg\n",
      "ERROR - Could not save https://thumb.pccomponentes.com/w-530-530/articles/51/514037/1878-xiaomi-mi-electric-scooter-3-negro.jpg - cannot identify image file <_io.BytesIO object at 0x00000226473BAE00>\n",
      "SUCCESS - saved https://encrypted-tbn0.gstatic.com/images?q=tbn:ANd9GcQDZeQrL69FTzwgQYN8GWZSP1nnycV1VobNOehl4tzqu0XV5V2ilOCJH0s0_lOC0wgqV1A&usqp=CAU - as ./images\\patinete\\e9ffae9e6d.jpg\n",
      "SUCCESS - saved https://encrypted-tbn0.gstatic.com/images?q=tbn:ANd9GcSk3i6c3gZU7MDLzI5xBwSIixkf59ptqxdwsA&usqp=CAU - as ./images\\patinete\\8afb13fee6.jpg\n",
      "SUCCESS - saved https://encrypted-tbn0.gstatic.com/images?q=tbn:ANd9GcR3SGW14NQwtqmyqg8saQ3rY6LhvqVdZXaChQ&usqp=CAU - as ./images\\patinete\\f3c591d84e.jpg\n",
      "SUCCESS - saved https://encrypted-tbn0.gstatic.com/images?q=tbn:ANd9GcS6j50lzrgjz6LW8-Ek5kSrafZcB1VhMxgcMw&usqp=CAU - as ./images\\patinete\\0bf6c7b55d.jpg\n",
      "SUCCESS - saved https://encrypted-tbn0.gstatic.com/images?q=tbn:ANd9GcTxLpHVae5BxfRJzaMNfSFpZqek-axMC5AF7Q&usqp=CAU - as ./images\\patinete\\f7747c3a7e.jpg\n",
      "SUCCESS - saved https://encrypted-tbn0.gstatic.com/images?q=tbn:ANd9GcSAgwPXBn4whMB3Zmz8MA3TJGZM-BZcfq37-A&usqp=CAU - as ./images\\patinete\\fc351eba67.jpg\n",
      "SUCCESS - saved https://encrypted-tbn0.gstatic.com/images?q=tbn:ANd9GcRqDWQ9xA4LB8YJ269b0RrVcNhpRepDPruBpg&usqp=CAU - as ./images\\patinete\\bd7f47050b.jpg\n",
      "SUCCESS - saved https://encrypted-tbn0.gstatic.com/images?q=tbn:ANd9GcSpxKsJMjiTO0NQ3e5nr6BePWHZsfSadDIuXg&usqp=CAU - as ./images\\patinete\\9d7b8871c3.jpg\n",
      "SUCCESS - saved https://cdn.shopify.com/s/files/1/0273/3604/8726/products/Gen-2-Kimoa-Air-500-1200px_1500x.jpg?v=1620728777 - as ./images\\patinete\\f99779ea37.jpg\n",
      "SUCCESS - saved https://encrypted-tbn0.gstatic.com/images?q=tbn:ANd9GcRS5WU6viHmTZR-24F-1sD8hxFOyza2lozaTw&usqp=CAU - as ./images\\patinete\\83d690a745.jpg\n",
      "SUCCESS - saved https://contents.mediadecathlon.com/p2085652/k$a5771a98bd18fbb6108899458688fcda/sq/8377409.jpg?format=auto&f=800x0 - as ./images\\patinete\\de563ba891.jpg\n",
      "SUCCESS - saved https://encrypted-tbn0.gstatic.com/images?q=tbn:ANd9GcTxIBWCzf3xSsSXorSYkbVt9NmHlQ2qhEYHXg&usqp=CAU - as ./images\\patinete\\95f3482539.jpg\n",
      "SUCCESS - saved https://encrypted-tbn0.gstatic.com/images?q=tbn:ANd9GcQG8L1RJDWtRpa-RTPMjkuluwmo-qUMnjEe4g&usqp=CAU - as ./images\\patinete\\db52420936.jpg\n",
      "SUCCESS - saved https://encrypted-tbn0.gstatic.com/images?q=tbn:ANd9GcTz3jusJ5bOJ2qxxqG7Fi8QPAwcuflx1_SH_g&usqp=CAU - as ./images\\patinete\\f21d88a7e3.jpg\n",
      "SUCCESS - saved https://encrypted-tbn0.gstatic.com/images?q=tbn:ANd9GcTQlYjQKIMY3aL506BTomkFy-NvDuSlBAB6uQ&usqp=CAU - as ./images\\patinete\\24d59ee9c7.jpg\n",
      "SUCCESS - saved https://encrypted-tbn0.gstatic.com/images?q=tbn:ANd9GcQLaM7dfM9MWepcVCHNODqqi9HoPc3ojSPFZg&usqp=CAU - as ./images\\patinete\\5f60613f43.jpg\n",
      "SUCCESS - saved https://encrypted-tbn0.gstatic.com/images?q=tbn:ANd9GcTM5sRyvANWt5T59O7y80tBF1PO4s8IfF1Vdg&usqp=CAU - as ./images\\patinete\\90434f4abd.jpg\n",
      "SUCCESS - saved https://encrypted-tbn0.gstatic.com/images?q=tbn:ANd9GcTUNqR1blwkrPebrkVS5gsEeZ2wK-V4k3eOWw&usqp=CAU - as ./images\\patinete\\c56720f0dc.jpg\n",
      "SUCCESS - saved https://encrypted-tbn0.gstatic.com/images?q=tbn:ANd9GcRCNOmsUbKUMKLuq2hLczeDLaUphaLPqFbjVg&usqp=CAU - as ./images\\patinete\\a45a3acb2b.jpg\n",
      "SUCCESS - saved https://www.mielectro.es/rep/af2e/1305465040/203/patinete-electrico-xiaomi-mi-scooter-3-grey-eu.jpg - as ./images\\patinete\\b55ae0e77a.jpg\n",
      "SUCCESS - saved https://encrypted-tbn0.gstatic.com/images?q=tbn:ANd9GcSYHXU6LVwTSzTECNCpqngEQlECkQNUBrndOQ&usqp=CAU - as ./images\\patinete\\173e3c8639.jpg\n",
      "SUCCESS - saved https://encrypted-tbn0.gstatic.com/images?q=tbn:ANd9GcSuDwa22jjjD09sbkKvyFe_vx3nqHuuprx_LQ&usqp=CAU - as ./images\\patinete\\5007da3bad.jpg\n",
      "SUCCESS - saved https://encrypted-tbn0.gstatic.com/images?q=tbn:ANd9GcSKRGGaEFjes3XD5pNOU-TDIm2ZTY7OtQHN7A&usqp=CAU - as ./images\\patinete\\e60d25e10f.jpg\n",
      "SUCCESS - saved https://encrypted-tbn0.gstatic.com/images?q=tbn:ANd9GcSBtyg5edXBGZeMnLkTJd5ezAOQFTyOC1z4Xg&usqp=CAU - as ./images\\patinete\\a19c587122.jpg\n",
      "SUCCESS - saved https://encrypted-tbn0.gstatic.com/images?q=tbn:ANd9GcSOb9myAEkhrPjPoErJoJi0FEi37wzRFltfiQ&usqp=CAU - as ./images\\patinete\\b4643484ed.jpg\n",
      "SUCCESS - saved https://encrypted-tbn0.gstatic.com/images?q=tbn:ANd9GcSOPZpziuGPVELWxj8n3lwfjKQ1wwf459krhA&usqp=CAU - as ./images\\patinete\\52a1082562.jpg\n"
     ]
    }
   ],
   "source": [
    "search_term = 'patinete'\n",
    "search_and_download(search_term,r'C:\\Users\\ragod\\Desktop\\reposicion\\ds_tb_part_21_09\\02-Data_Analysis\\driver\\chromedriver.exe',number_images=100)"
   ]
  },
  {
   "cell_type": "code",
   "execution_count": null,
   "id": "7fa8a16a",
   "metadata": {},
   "outputs": [],
   "source": [
    "search_term = 'bicicleta'\n",
    "search_and_download(search_term,'chromedriver.exe',number_images=100)"
   ]
  },
  {
   "cell_type": "markdown",
   "id": "173aac00",
   "metadata": {},
   "source": [
    "# 2. Data Augmentation"
   ]
  },
  {
   "cell_type": "code",
   "execution_count": null,
   "id": "18145974",
   "metadata": {},
   "outputs": [],
   "source": [
    "from keras.preprocessing.image import ImageDataGenerator\n",
    "import os\n",
    "from os.path import isfile, join\n",
    "import pandas as pd\n",
    "import numpy as np\n",
    "from skimage.io import imread"
   ]
  },
  {
   "cell_type": "code",
   "execution_count": null,
   "id": "155e73f7",
   "metadata": {},
   "outputs": [],
   "source": [
    "# 1. Iniciar el data generator\n",
    "datagen = ImageDataGenerator(rotation_range=10,\n",
    "                            width_shift_range=0.1,\n",
    "                            height_shift_range=0.1,\n",
    "                            shear_range=0.15,\n",
    "                            zoom_range=0.1,\n",
    "                            channel_shift_range=10,\n",
    "                            horizontal_flip=True)"
   ]
  },
  {
   "cell_type": "code",
   "execution_count": null,
   "id": "345d554e",
   "metadata": {},
   "outputs": [],
   "source": [
    "# 2. Aplicar las transfromaciones en una imagen\n",
    "patinetes = ['images/patinete/'+ f for f in os.listdir('images/patinete') if isfile(join('images/patinete', f))]\n",
    "image_path = patinetes[0]\n",
    "image = np.expand_dims(imread(image_path),axis=0)"
   ]
  },
  {
   "cell_type": "code",
   "execution_count": null,
   "id": "a2f629b4",
   "metadata": {},
   "outputs": [],
   "source": [
    "# 3. Selecciona dónde quieres guardar las imágenes transformadas\n",
    "save_here = 'images/patinete/aug'\n",
    "try:\n",
    "    os.stat(save_here)\n",
    "except:\n",
    "    os.mkdir(save_here)"
   ]
  },
  {
   "cell_type": "code",
   "execution_count": null,
   "id": "bd84e021",
   "metadata": {},
   "outputs": [],
   "source": [
    "# Fit de la imagen original\n",
    "datagen.fit(image)"
   ]
  },
  {
   "cell_type": "code",
   "execution_count": null,
   "id": "f7041ba0",
   "metadata": {},
   "outputs": [],
   "source": [
    "for x, val in zip(datagen.flow(image,           #image we chose\n",
    "        save_to_dir=save_here,     #this is where we figure out where to save\n",
    "         save_prefix='aug',        # it will save the images as 'aug_0912' some number for every new augmented image\n",
    "        save_format='png'),range(10)):     # here we define a range because we want 10 augmented images \n",
    "    pass"
   ]
  },
  {
   "cell_type": "code",
   "execution_count": null,
   "id": "543cdeed",
   "metadata": {},
   "outputs": [],
   "source": [
    "# Para todos las imágenes de la clase 1\n",
    "for image_path in patinetes:\n",
    "    image = np.expand_dims(imread(image_path),axis=0)\n",
    "    datagen.fit(image)\n",
    "    for x, val in zip(datagen.flow(image,                    #image we chose\n",
    "        save_to_dir=save_here,     #this is where we figure out where to save\n",
    "         save_prefix='aug',        # it will save the images as 'aug_0912' some number for every new augmented image\n",
    "        save_format='png'),range(3)):     # here we define a range because we want 10 augmented images \n",
    "        pass"
   ]
  },
  {
   "cell_type": "code",
   "execution_count": null,
   "id": "ab8b39ba",
   "metadata": {},
   "outputs": [],
   "source": [
    "# Realiza la misma operación para las bicicletas\n",
    "bicicletas = ['images/bicicleta/'+ f for f in os.listdir('images/bicicleta') if isfile(join('images/bicicleta', f))]\n",
    "save_here = 'images/bicicleta/aug'\n",
    "try:\n",
    "    os.stat(save_here)\n",
    "except:\n",
    "    os.mkdir(save_here)  \n",
    "    \n",
    "for image_path in bicicletas:\n",
    "    image = np.expand_dims(imread(image_path),axis=0)\n",
    "    datagen.fit(image)\n",
    "    for x, val in zip(datagen.flow(image,                    #image we chose\n",
    "        save_to_dir=save_here,     #this is where we figure out where to save\n",
    "         save_prefix='aug',        # it will save the images as 'aug_0912' some number for every new augmented image\n",
    "        save_format='png'),range(3)):     # here we define a range because we want 10 augmented images \n",
    "        pass"
   ]
  },
  {
   "cell_type": "markdown",
   "id": "357cdc23",
   "metadata": {},
   "source": [
    "# 3. Preparar los datos"
   ]
  },
  {
   "cell_type": "code",
   "execution_count": null,
   "id": "dd9c10c0",
   "metadata": {},
   "outputs": [],
   "source": [
    "import matplotlib.pyplot as plt\n",
    "import numpy as np\n",
    "from skimage.io import imread\n",
    "import cv2"
   ]
  },
  {
   "cell_type": "code",
   "execution_count": null,
   "id": "0e2ca588",
   "metadata": {},
   "outputs": [],
   "source": [
    "# Read data\n",
    "X = []\n",
    "Y = []\n",
    "for file in os.listdir('images/patinete/aug'):\n",
    "    image = imread('images/patinete/aug/'+file)\n",
    "    smallimage = cv2.resize(image,(64,64))\n",
    "    X.append(smallimage)\n",
    "    Y.append(0)\n",
    "    \n",
    "for file in os.listdir('images/bicicleta/aug'):\n",
    "    image = imread('images/bicicleta/aug/'+file)\n",
    "    smallimage = cv2.resize(image,(64,64))\n",
    "    X.append(smallimage)\n",
    "    Y.append(1)"
   ]
  },
  {
   "cell_type": "code",
   "execution_count": null,
   "id": "6bfeff1e",
   "metadata": {},
   "outputs": [],
   "source": [
    "X,Y = np.array(X), np.array(Y)"
   ]
  },
  {
   "cell_type": "code",
   "execution_count": null,
   "id": "76c091cd",
   "metadata": {},
   "outputs": [],
   "source": [
    "X = X/255.0\n",
    "print('Min:',np.min(X))\n",
    "print('Max:',np.max(X))"
   ]
  },
  {
   "cell_type": "code",
   "execution_count": null,
   "id": "6004aa05",
   "metadata": {},
   "outputs": [],
   "source": [
    "from sklearn.utils import shuffle\n",
    "X, Y = shuffle(X, Y, random_state=42)"
   ]
  },
  {
   "cell_type": "code",
   "execution_count": null,
   "id": "2c7ce674",
   "metadata": {},
   "outputs": [],
   "source": [
    "from sklearn.model_selection import train_test_split\n",
    "\n",
    "X_train, X_test, y_train, y_test = train_test_split(X, Y, test_size=0.20, \n",
    "                                                    random_state=40)\n",
    "print(X_train.shape); print(X_test.shape)"
   ]
  },
  {
   "cell_type": "markdown",
   "id": "42b4b1b9",
   "metadata": {},
   "source": [
    "#  Transfer Learning"
   ]
  },
  {
   "cell_type": "code",
   "execution_count": null,
   "id": "abc1349a",
   "metadata": {},
   "outputs": [],
   "source": [
    "import tensorflow as tf\n",
    "from tensorflow.keras.preprocessing import image\n",
    "from tensorflow.keras import datasets, layers, models\n",
    "import os\n",
    "os.environ['KMP_DUPLICATE_LIB_OK']='True'"
   ]
  },
  {
   "cell_type": "code",
   "execution_count": null,
   "id": "6ae22e8a",
   "metadata": {},
   "outputs": [],
   "source": [
    "from tensorflow.keras.applications.vgg16 import VGG16\n",
    "base_model = VGG16(input_shape=(64,64,3),\n",
    "                  include_top = False,\n",
    "                   weights = 'imagenet'\n",
    "                  )"
   ]
  },
  {
   "cell_type": "code",
   "execution_count": null,
   "id": "ef095f6e",
   "metadata": {
    "scrolled": true
   },
   "outputs": [],
   "source": [
    "base_model.summary()"
   ]
  },
  {
   "cell_type": "code",
   "execution_count": null,
   "id": "b5814b17",
   "metadata": {},
   "outputs": [],
   "source": [
    "for layer in base_model.layers:\n",
    "    layer.trainable = False"
   ]
  },
  {
   "cell_type": "code",
   "execution_count": null,
   "id": "9364d3cd",
   "metadata": {},
   "outputs": [],
   "source": [
    "    \n",
    "##### FULLY CONNECTED LAYER #####\n",
    "# Flatten the output layer to 1 dimension\n",
    "x = layers.Flatten()(base_model.output) # Añado una flatten a la salida del base_model, al cual le quité el top CAPA(CAPA ANTERIOR)\n",
    "\n",
    "# Add a fully connected layer with 512 hidden units and ReLU activation\n",
    "x = layers.Dense(512, activation='relu')(x) # Añado una densa a x (flatten)\n",
    "\n",
    "# Add a dropout rate of 0.5\n",
    "x = layers.Dropout(0.5)(x)\n",
    "\n",
    "# Add a final sigmoid layer for classification\n",
    "x = layers.Dense(1, activation='sigmoid')(x)\n",
    "\n",
    "model = tf.keras.models.Model(base_model.input, x)\n",
    "\n",
    "model.compile(optimizer = 'adam', loss = 'binary_crossentropy',metrics = ['acc'])"
   ]
  },
  {
   "cell_type": "code",
   "execution_count": null,
   "id": "44edc410",
   "metadata": {},
   "outputs": [],
   "source": [
    "vgghist = model.fit(X_train,y_train,\n",
    "                    epochs = 10)"
   ]
  },
  {
   "cell_type": "code",
   "execution_count": null,
   "id": "44d1e588",
   "metadata": {},
   "outputs": [],
   "source": [
    "results = model.evaluate(X_test, y_test)\n",
    "print(\"test loss, test accuracy\", results)"
   ]
  },
  {
   "cell_type": "code",
   "execution_count": null,
   "id": "1cf8bfa7",
   "metadata": {},
   "outputs": [],
   "source": [
    "plt.imshow(X_test[3])"
   ]
  },
  {
   "cell_type": "code",
   "execution_count": null,
   "id": "0076c159",
   "metadata": {},
   "outputs": [],
   "source": [
    "model.predict(np.expand_dims(X_test[3], axis=0))"
   ]
  }
 ],
 "metadata": {
  "kernelspec": {
   "display_name": "Python 3",
   "language": "python",
   "name": "python3"
  },
  "language_info": {
   "codemirror_mode": {
    "name": "ipython",
    "version": 3
   },
   "file_extension": ".py",
   "mimetype": "text/x-python",
   "name": "python",
   "nbconvert_exporter": "python",
   "pygments_lexer": "ipython3",
   "version": "3.8.8"
  }
 },
 "nbformat": 4,
 "nbformat_minor": 5
}
