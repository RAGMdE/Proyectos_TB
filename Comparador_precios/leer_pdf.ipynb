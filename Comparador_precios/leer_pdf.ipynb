{
 "cells": [
  {
   "cell_type": "code",
   "execution_count": 35,
   "id": "ae882cd4-e31b-4d2e-9d63-9a8a8888fc29",
   "metadata": {
    "tags": []
   },
   "outputs": [
    {
     "name": "stdout",
     "output_type": "stream",
     "text": [
      "Requirement already satisfied: pymupdf in c:\\users\\ragod\\anaconda3\\lib\\site-packages (1.19.2)\n"
     ]
    }
   ],
   "source": [
    "!pip install pymupdf\n"
   ]
  },
  {
   "cell_type": "code",
   "execution_count": 36,
   "id": "8034bede-faf3-4f58-acb4-a1c41d59825f",
   "metadata": {},
   "outputs": [
    {
     "name": "stdout",
     "output_type": "stream",
     "text": [
      "\n",
      "PyMuPDF 1.19.2: Python bindings for the MuPDF 1.19.0 library.\n",
      "Version date: 2021-11-20 00:00:01.\n",
      "Built for Python 3.8 on win32 (64-bit).\n",
      "\n"
     ]
    }
   ],
   "source": [
    "import pandas as pd\n",
    "import fitz\n",
    "print(fitz.__doc__)\n"
   ]
  },
  {
   "cell_type": "code",
   "execution_count": 99,
   "id": "9518784f-d55d-4050-8a61-d69ce8e42be6",
   "metadata": {},
   "outputs": [],
   "source": [
    "doc = fitz.open(r'C:/Users/ragod/OneDrive/Escritorio/bosque.pdf') \n"
   ]
  },
  {
   "cell_type": "code",
   "execution_count": 100,
   "id": "14a1e869-27a1-4194-b3b3-b498ac58c25f",
   "metadata": {},
   "outputs": [],
   "source": [
    "pagina = doc[0]\n",
    "\n",
    "Contenido = pagina.get_text('text')"
   ]
  },
  {
   "cell_type": "code",
   "execution_count": 101,
   "id": "1350f290-85f6-4da4-91f4-3872a5b138b2",
   "metadata": {
    "tags": []
   },
   "outputs": [
    {
     "name": "stdout",
     "output_type": "stream",
     "text": [
      "Bomba piscina\n",
      "400\n",
      "Agua\n",
      "251,2\n",
      "Fumigador\n",
      "230\n",
      "Electricidad\n",
      "709,08\n",
      "Jardinero\n",
      "feb\n",
      "sep\n",
      "1750\n",
      "Gas\n",
      "2412,05\n",
      "abono\n",
      "40\n",
      "Comida familia\n",
      "40,4\n",
      "Total\n",
      "2460,4\n",
      "Total\n",
      "3372,33\n",
      "Diferencia\n",
      "911,93\n",
      "Agua\n",
      "Electricidad\n",
      "Importe\n",
      "Recti\n",
      "Gas\n",
      "Recti\n",
      "20/11/2020\n",
      "30/09/2021\n",
      "Octubre\n",
      "52,1\n",
      "06/09-03/11\n",
      "43,31\n",
      "05/12-09/01\n",
      "111,44\n",
      "59,34 03/11-28/12\n",
      "290,41\n",
      "247,1\n",
      "314\n",
      "251,2\n",
      "09/01-04/02\n",
      "99,27\n",
      "47,17 28/12-03/03\n",
      "915,14\n",
      "871,83\n",
      "04/02-03/03\n",
      "73,7\n",
      "21,6 01/03-30/04\n",
      "627,77\n",
      "584,46\n",
      "03/03-01/04\n",
      "122,25\n",
      "70,15 30/04-01/07\n",
      "216,64\n",
      "145,02\n",
      "11/04-8/05\n",
      "86,24\n",
      "34,14 01/07-01-10\n",
      "216,64\n",
      "145,02\n",
      "08/05-7/06\n",
      "127,05\n",
      "74,95\n",
      "07/06-06/07\n",
      "111,05\n",
      "76,34\n",
      "6/7-9/8\n",
      "138,44\n",
      "96,64\n",
      "10/8-1-10\n",
      "164,288\n",
      "Importe con IVA\n",
      "10,00%\n",
      "709,08 Importe con IVA\n",
      "21,00%\n",
      "2412,05\n",
      "\n"
     ]
    }
   ],
   "source": [
    "print(Contenido)"
   ]
  },
  {
   "cell_type": "code",
   "execution_count": 106,
   "id": "03b05f04-a2a4-4746-8c85-c33f4b214425",
   "metadata": {},
   "outputs": [
    {
     "name": "stdout",
     "output_type": "stream",
     "text": [
      "['Bomba', 'piscina', '400', 'Agua', '251,2', 'Fumigador', '230', 'Electricidad', '709,08', 'Jardinero', 'feb', 'sep', '1750', 'Gas', '2412,05', 'abono', '40', 'Comida', 'familia', '40,4', 'Total', '2460,4', 'Total', '3372,33', 'Diferencia', '911,93', 'Agua', 'Electricidad', 'Importe', 'Recti', 'Gas', 'Recti', '20/11/2020', '30/09/2021', 'Octubre', '52,1', '06/09-03/11', '43,31', '05/12-09/01', '111,44', '59,34', '03/11-28/12', '290,41', '247,1', '314', '251,2', '09/01-04/02', '99,27', '47,17', '28/12-03/03', '915,14', '871,83', '04/02-03/03', '73,7', '21,6', '01/03-30/04', '627,77', '584,46', '03/03-01/04', '122,25', '70,15', '30/04-01/07', '216,64', '145,02', '11/04-8/05', '86,24', '34,14', '01/07-01-10', '216,64', '145,02', '08/05-7/06', '127,05', '74,95', '07/06-06/07', '111,05', '76,34', '6/7-9/8', '138,44', '96,64', '10/8-1-10', '164,288', 'Importe', 'con', 'IVA', '10,00%', '709,08', 'Importe', 'con', 'IVA', '21,00%', '2412,05']\n"
     ]
    }
   ],
   "source": [
    "print(Contenido.split())"
   ]
  },
  {
   "cell_type": "code",
   "execution_count": 95,
   "id": "735340c1-90b8-4d35-86a1-e83b159c7d34",
   "metadata": {},
   "outputs": [
    {
     "name": "stderr",
     "output_type": "stream",
     "text": [
      "PdfReadWarning: Superfluous whitespace found in object header b'1' b'0' [pdf.py:1665]\n",
      "PdfReadWarning: Superfluous whitespace found in object header b'2' b'0' [pdf.py:1665]\n",
      "PdfReadWarning: Superfluous whitespace found in object header b'3' b'0' [pdf.py:1665]\n",
      "PdfReadWarning: Superfluous whitespace found in object header b'183' b'0' [pdf.py:1665]\n",
      "PdfReadWarning: Superfluous whitespace found in object header b'169' b'0' [pdf.py:1665]\n",
      "PdfReadWarning: Superfluous whitespace found in object header b'170' b'0' [pdf.py:1665]\n",
      "PdfReadWarning: Superfluous whitespace found in object header b'171' b'0' [pdf.py:1665]\n",
      "PdfReadWarning: Superfluous whitespace found in object header b'172' b'0' [pdf.py:1665]\n",
      "PdfReadWarning: Superfluous whitespace found in object header b'173' b'0' [pdf.py:1665]\n",
      "PdfReadWarning: Superfluous whitespace found in object header b'174' b'0' [pdf.py:1665]\n",
      "PdfReadWarning: Superfluous whitespace found in object header b'175' b'0' [pdf.py:1665]\n",
      "PdfReadWarning: Superfluous whitespace found in object header b'176' b'0' [pdf.py:1665]\n",
      "PdfReadWarning: Superfluous whitespace found in object header b'177' b'0' [pdf.py:1665]\n",
      "PdfReadWarning: Superfluous whitespace found in object header b'178' b'0' [pdf.py:1665]\n",
      "PdfReadWarning: Superfluous whitespace found in object header b'179' b'0' [pdf.py:1665]\n",
      "PdfReadWarning: Superfluous whitespace found in object header b'180' b'0' [pdf.py:1665]\n",
      "PdfReadWarning: Superfluous whitespace found in object header b'181' b'0' [pdf.py:1665]\n"
     ]
    },
    {
     "name": "stdout",
     "output_type": "stream",
     "text": [
      "\n"
     ]
    }
   ],
   "source": [
    "import PyPDF2\n",
    "\n",
    "with open(r'C:/Users/ragod/OneDrive/Escritorio/mercadona.pdf', mode='rb') as f:\n",
    "    reader = PyPDF2.PdfFileReader(f)\n",
    "    page = reader.getPage(0)\n",
    "    print(page.extractText())"
   ]
  },
  {
   "cell_type": "code",
   "execution_count": 114,
   "id": "7903d081-cbc1-4073-90f4-6f839b6b46e4",
   "metadata": {},
   "outputs": [
    {
     "data": {
      "text/plain": [
       "''"
      ]
     },
     "execution_count": 114,
     "metadata": {},
     "output_type": "execute_result"
    }
   ],
   "source": []
  },
  {
   "cell_type": "code",
   "execution_count": null,
   "id": "a2ddd9ce-0452-48e9-ac39-2e18cb8f237a",
   "metadata": {},
   "outputs": [],
   "source": []
  },
  {
   "cell_type": "code",
   "execution_count": null,
   "id": "3f37fd9d-8d7f-4927-96d1-a81037210245",
   "metadata": {},
   "outputs": [],
   "source": []
  }
 ],
 "metadata": {
  "kernelspec": {
   "display_name": "Python 3",
   "language": "python",
   "name": "python3"
  },
  "language_info": {
   "codemirror_mode": {
    "name": "ipython",
    "version": 3
   },
   "file_extension": ".py",
   "mimetype": "text/x-python",
   "name": "python",
   "nbconvert_exporter": "python",
   "pygments_lexer": "ipython3",
   "version": "3.8.8"
  }
 },
 "nbformat": 4,
 "nbformat_minor": 5
}
