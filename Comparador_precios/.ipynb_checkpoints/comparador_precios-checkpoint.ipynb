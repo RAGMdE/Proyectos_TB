{
 "cells": [
  {
   "cell_type": "code",
   "execution_count": 1,
   "id": "225ba63a-fd94-4949-90a4-2f53c26a5c34",
   "metadata": {},
   "outputs": [],
   "source": [
    "#!pip install PyPDF2"
   ]
  },
  {
   "cell_type": "code",
   "execution_count": 2,
   "id": "992fe369-79cd-46e6-88b1-5009451f5de8",
   "metadata": {
    "tags": []
   },
   "outputs": [],
   "source": [
    "# !pip install tabula-py"
   ]
  },
  {
   "cell_type": "code",
   "execution_count": 3,
   "id": "9d352d46-7b26-4a18-a386-323a24abf632",
   "metadata": {},
   "outputs": [],
   "source": [
    "# !pip install beautifulsoup4"
   ]
  },
  {
   "cell_type": "code",
   "execution_count": 4,
   "id": "7fb62672-bebd-439a-a6de-1a958830c383",
   "metadata": {
    "tags": []
   },
   "outputs": [],
   "source": [
    "import requests as req\n",
    "import pandas as pd\n",
    "import time  # manejo temporal\n",
    "\n",
    "from bs4 import BeautifulSoup as bs\n",
    "\n",
    "from webdriver_manager.chrome import ChromeDriverManager\n",
    "from fake_useragent import UserAgent\n",
    "\n",
    "PATH = r\"C:\\Users\\ragod\\OneDrive\\Documentos\\GitHub\\ds_tb_part_21_09\\02-Data_Analysis\\driver\\chromedriver.exe\"  #'driver/chromedriver'\n",
    "usuario=UserAgent().random\n",
    "\n",
    "\n",
    "from selenium import webdriver  # driver selenium\n",
    "from selenium.webdriver.chrome.options import Options\n",
    "from selenium.webdriver.common.by import By   # para elegir por elemento\n",
    "from selenium.webdriver.support.ui import WebDriverWait # para el time sleep\n",
    "from selenium.webdriver.support import expected_conditions as EC # condiciones esperadas\n",
    "from selenium.webdriver import ActionChains as AC # acciones en cadena\n"
   ]
  },
  {
   "cell_type": "code",
   "execution_count": 5,
   "id": "32d2db9e-0327-4e12-9d4a-7e443775269b",
   "metadata": {},
   "outputs": [],
   "source": [
    "opciones=Options()\n",
    "\n",
    "opciones.add_argument('--start-maximized')  # empieza maximizado\n",
    "\n",
    "opciones.add_argument('--headlees')\n",
    "opciones.headless=False               # Si es True no aparece la pantalla\n",
    "\n",
    "opciones.add_experimental_option('excludeSwitches', ['enable-automation']) # para quitar flag de robot\n",
    "opciones.add_experimental_option('useAutomationExtension', False)\n",
    "\n",
    "#opciones.add_extension('driver/adblock.crx')  # extension de adblocker\n",
    "\n",
    "opciones.add_argument('--incognito')\n",
    "\n",
    "opciones.add_argument('user-data-dir=selenium')   # para guardar cookies\n",
    "\n",
    "opciones.add_argument('--no-proxy-server')  # sin proxy\n",
    "opciones.add_argument('proxy-server=106.122.8.54:3128')  # proxy custom\n",
    "# usuario=UserAgent().random opciones del driver"
   ]
  },
  {
   "cell_type": "code",
   "execution_count": 6,
   "id": "2af2600b-eb1d-4618-9cc3-b1247b859749",
   "metadata": {
    "tags": []
   },
   "outputs": [
    {
     "name": "stderr",
     "output_type": "stream",
     "text": [
      "<ipython-input-6-76f1b309065a>:2: DeprecationWarning: executable_path has been deprecated, please pass in a Service object\n",
      "  driver=webdriver.Chrome(PATH)\n"
     ]
    }
   ],
   "source": [
    "url='https://tienda.mercadona.es/'\n",
    "driver=webdriver.Chrome(PATH) \n",
    "driver.get(url)\n",
    "\n",
    "time.sleep(3)\n"
   ]
  },
  {
   "cell_type": "code",
   "execution_count": 7,
   "id": "a1e1e02e-9b35-437c-8b90-4d7fae6b4d1e",
   "metadata": {},
   "outputs": [],
   "source": [
    "#fileReader = PyPDF2.PdfFileReader(file1, 'rb')\n"
   ]
  },
  {
   "cell_type": "code",
   "execution_count": 8,
   "id": "a59d5047-7292-4e55-8693-4210485ccab4",
   "metadata": {},
   "outputs": [],
   "source": [
    "#table = tabula.read_pdf(file1, pages =1, stream = True)"
   ]
  },
  {
   "cell_type": "code",
   "execution_count": 9,
   "id": "9761c773-5da0-4d41-97e3-5b814fe1f27f",
   "metadata": {},
   "outputs": [],
   "source": [
    "#table\n"
   ]
  },
  {
   "cell_type": "code",
   "execution_count": 10,
   "id": "a437357a-cb0d-49a0-87f2-c71c176dfb85",
   "metadata": {
    "tags": []
   },
   "outputs": [
    {
     "name": "stderr",
     "output_type": "stream",
     "text": [
      "<ipython-input-10-2879f0c3d44c>:25: DeprecationWarning: find_element_by_* commands are deprecated. Please use find_element() instead\n",
      "  producto_precio = driver.find_element_by_class_name('product-container').text\n"
     ]
    }
   ],
   "source": [
    "\n",
    "saltar_coockies=driver.find_element(By.XPATH,'//*[@id=\"root\"]/div[1]/div/div/button[2]')\n",
    "saltar_coockies.click()\n",
    "\n",
    "busqueda = '28016'\n",
    "buscar=driver.find_element(By.XPATH,'//*[@id=\"root\"]/div[4]/div/div[2]/div/form/div/input') # objeto en la web de busqueda\n",
    "\n",
    "buscar.send_keys(busqueda)  # incrusta la string\n",
    "time.sleep(4)\n",
    "#buscar.submit() # dale al enter\n",
    "\n",
    "primer_aceptar=driver.find_element(By.XPATH,'//*[@id=\"root\"]/div[4]/div/div[2]/div/form/button')\n",
    "primer_aceptar.click()\n",
    "\n",
    "mi_lista_valorada =[]\n",
    "\n",
    "mi_lista =['HUEVO GALLINA CAMPERA','CALABAZA EN TROZOS', 'KEFIR','ESPARRAGO VERDE','UVA BLANCA SIN SEMILLA']\n",
    "\n",
    "#buscar productos\n",
    "for n in range(len(mi_lista)):\n",
    "    buscar=driver.find_element(By.XPATH,'//*[@id=\"search\"]').clear()\n",
    "    producto = mi_lista[n]\n",
    "    buscar=driver.find_element(By.XPATH,'//*[@id=\"search\"]')\n",
    "    buscar.send_keys(producto)  # incrusta la string\n",
    "    time.sleep(3)\n",
    "    producto_precio = driver.find_element_by_class_name('product-container').text\n",
    "    #producto_precio = float(producto_precio[producto_precio[:producto_precio.find('€')].rfind('\\n')+1:producto_precio.find('€')-1].replace(',','.'))\n",
    "    producto_precio = producto_precio[producto_precio[:producto_precio.find('€')].rfind('\\n')+1:producto_precio.find('€')+1]\n",
    "    mi_lista_valorada.append([producto, producto_precio.replace('€','').strip()])\n",
    " \n",
    "\n",
    "\n"
   ]
  },
  {
   "cell_type": "code",
   "execution_count": 11,
   "id": "ecccc698-7c93-4978-97f0-f94a56ed7f95",
   "metadata": {
    "tags": []
   },
   "outputs": [
    {
     "name": "stderr",
     "output_type": "stream",
     "text": [
      "<ipython-input-11-49d92c864909>:2: DeprecationWarning: executable_path has been deprecated, please pass in a Service object\n",
      "  driver=webdriver.Chrome(PATH)\n",
      "<ipython-input-11-49d92c864909>:17: DeprecationWarning: find_element_by_* commands are deprecated. Please use find_element() instead\n",
      "  producto_precio = driver.find_element_by_class_name('price').text\n"
     ]
    }
   ],
   "source": [
    "url_dia ='https://www.dia.es/compra-online/'\n",
    "driver=webdriver.Chrome(PATH)\n",
    "driver.get(url_dia)\n",
    "\n",
    "time.sleep(4)\n",
    "\n",
    "saltar_coockies=driver.find_element(By.XPATH,'//*[@id=\"onetrust-accept-btn-handler\"]')\n",
    "saltar_coockies.click()\n",
    "mi_lista_valorada2=[]\n",
    "#buscar productos\n",
    "for n in range(len(mi_lista)):\n",
    "    buscar=driver.find_element(By.XPATH,'//*[@id=\"search\"]').clear()\n",
    "    producto = mi_lista[n]\n",
    "    buscar=driver.find_element(By.XPATH,'//*[@id=\"search\"]')\n",
    "    buscar.send_keys(producto)  # incrusta la string\n",
    "    time.sleep(3)\n",
    "    producto_precio = driver.find_element_by_class_name('price').text\n",
    "    \n",
    "    mi_lista_valorada2.append([producto, producto_precio.replace('€','').strip()])\n",
    "  \n",
    "\n",
    " "
   ]
  },
  {
   "cell_type": "code",
   "execution_count": 12,
   "id": "4517d6d3-c7bb-4d9e-8bd3-b39e676ef845",
   "metadata": {},
   "outputs": [],
   "source": [
    "df1 =pd.DataFrame(mi_lista_valorada2, columns =['Producto','Precio_Dia'])\n",
    "df2= pd.DataFrame(mi_lista_valorada, columns =['Producto','Precio_Mercadona'])\n",
    "\n",
    "df1['Precio_Mercadona'] =df2['Precio_Mercadona']\n",
    "\n",
    "df1['Precio_Mercadona'] = df1['Precio_Mercadona'].replace(\",\",\".\", regex = True).astype(float)\n",
    "df1['Precio_Dia'] =df1['Precio_Dia'].replace(\",\",\".\", regex = True).astype(float)\n",
    "\n",
    "\n"
   ]
  },
  {
   "cell_type": "code",
   "execution_count": 13,
   "id": "4bcbd520-8b12-4d21-9cba-b376b5a093b8",
   "metadata": {},
   "outputs": [],
   "source": [
    "df1['Donde comprar']=df1.apply(lambda x: 'Mercadona' if x.Precio_Dia > x.Precio_Mercadona else 'Dia' ,axis=1)"
   ]
  },
  {
   "cell_type": "code",
   "execution_count": 14,
   "id": "f9425c66-2137-481c-9817-579d7a57962e",
   "metadata": {},
   "outputs": [
    {
     "data": {
      "text/html": [
       "<div>\n",
       "<style scoped>\n",
       "    .dataframe tbody tr th:only-of-type {\n",
       "        vertical-align: middle;\n",
       "    }\n",
       "\n",
       "    .dataframe tbody tr th {\n",
       "        vertical-align: top;\n",
       "    }\n",
       "\n",
       "    .dataframe thead th {\n",
       "        text-align: right;\n",
       "    }\n",
       "</style>\n",
       "<table border=\"1\" class=\"dataframe\">\n",
       "  <thead>\n",
       "    <tr style=\"text-align: right;\">\n",
       "      <th></th>\n",
       "      <th>Producto</th>\n",
       "      <th>Precio_Dia</th>\n",
       "      <th>Precio_Mercadona</th>\n",
       "      <th>Donde comprar</th>\n",
       "    </tr>\n",
       "  </thead>\n",
       "  <tbody>\n",
       "    <tr>\n",
       "      <th>0</th>\n",
       "      <td>HUEVO GALLINA CAMPERA</td>\n",
       "      <td>3.19</td>\n",
       "      <td>2.40</td>\n",
       "      <td>Mercadona</td>\n",
       "    </tr>\n",
       "    <tr>\n",
       "      <th>1</th>\n",
       "      <td>CALABAZA EN TROZOS</td>\n",
       "      <td>1.59</td>\n",
       "      <td>1.71</td>\n",
       "      <td>Dia</td>\n",
       "    </tr>\n",
       "    <tr>\n",
       "      <th>2</th>\n",
       "      <td>KEFIR</td>\n",
       "      <td>1.75</td>\n",
       "      <td>1.25</td>\n",
       "      <td>Mercadona</td>\n",
       "    </tr>\n",
       "    <tr>\n",
       "      <th>3</th>\n",
       "      <td>ESPARRAGO VERDE</td>\n",
       "      <td>1.99</td>\n",
       "      <td>1.88</td>\n",
       "      <td>Mercadona</td>\n",
       "    </tr>\n",
       "    <tr>\n",
       "      <th>4</th>\n",
       "      <td>UVA BLANCA SIN SEMILLA</td>\n",
       "      <td>2.29</td>\n",
       "      <td>2.00</td>\n",
       "      <td>Mercadona</td>\n",
       "    </tr>\n",
       "  </tbody>\n",
       "</table>\n",
       "</div>"
      ],
      "text/plain": [
       "                 Producto  Precio_Dia  Precio_Mercadona Donde comprar\n",
       "0   HUEVO GALLINA CAMPERA        3.19              2.40     Mercadona\n",
       "1      CALABAZA EN TROZOS        1.59              1.71           Dia\n",
       "2                   KEFIR        1.75              1.25     Mercadona\n",
       "3         ESPARRAGO VERDE        1.99              1.88     Mercadona\n",
       "4  UVA BLANCA SIN SEMILLA        2.29              2.00     Mercadona"
      ]
     },
     "execution_count": 14,
     "metadata": {},
     "output_type": "execute_result"
    }
   ],
   "source": [
    "df1\n"
   ]
  },
  {
   "cell_type": "code",
   "execution_count": null,
   "id": "815e9dc6-4667-4e59-aa9c-2104fdd3a462",
   "metadata": {},
   "outputs": [],
   "source": []
  }
 ],
 "metadata": {
  "kernelspec": {
   "display_name": "Python 3",
   "language": "python",
   "name": "python3"
  },
  "language_info": {
   "codemirror_mode": {
    "name": "ipython",
    "version": 3
   },
   "file_extension": ".py",
   "mimetype": "text/x-python",
   "name": "python",
   "nbconvert_exporter": "python",
   "pygments_lexer": "ipython3",
   "version": "3.8.8"
  }
 },
 "nbformat": 4,
 "nbformat_minor": 5
}
