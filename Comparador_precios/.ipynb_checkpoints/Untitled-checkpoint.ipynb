{
 "cells": [
  {
   "cell_type": "markdown",
   "id": "c6c661ee-152d-4b85-9f7f-57aff3680f04",
   "metadata": {},
   "source": [
    "https://es.stackoverflow.com/questions/324862/agregar-fecha-actual-en-el-nombre-de-un-archivo-en-python"
   ]
  },
  {
   "cell_type": "code",
   "execution_count": null,
   "id": "2bb79115-dcbb-42c6-af18-56f9111e5f62",
   "metadata": {},
   "outputs": [],
   "source": [
    "rom pathlib import Path  \n",
    "import shutil\n",
    "import datetime\n",
    "\n",
    "# 1: Creas un Path de la ruta antigua\n",
    "desde = Path(\"/Users/ecastrop/Downloads/planrecursos_uemp.xls\")\n",
    "# 2: Consigues el nombre del archivo, la fecha, y los juntas\n",
    "archivo = desde.name\n",
    "fecha = str(datetime.datetime.now())\n",
    "archivo_con_fecha = f\"{fecha}_{archivo}\"\n",
    "# 3: Creas un Path de la ruta nueva\n",
    "hasta = Path(\"/Users/ecastrop/Desktop/Reporte people+\").joinpath(archivo_con_fecha)\n",
    "# 4: Y a moverlos\n",
    "shutil.move(desde.resolve(), hasta.resolve())"
   ]
  }
 ],
 "metadata": {
  "kernelspec": {
   "display_name": "Python 3",
   "language": "python",
   "name": "python3"
  },
  "language_info": {
   "codemirror_mode": {
    "name": "ipython",
    "version": 3
   },
   "file_extension": ".py",
   "mimetype": "text/x-python",
   "name": "python",
   "nbconvert_exporter": "python",
   "pygments_lexer": "ipython3",
   "version": "3.8.8"
  }
 },
 "nbformat": 4,
 "nbformat_minor": 5
}
