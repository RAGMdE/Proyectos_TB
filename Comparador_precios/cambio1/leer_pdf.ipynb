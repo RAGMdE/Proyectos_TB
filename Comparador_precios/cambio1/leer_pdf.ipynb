{
 "cells": [
  {
   "cell_type": "code",
   "execution_count": 1,
   "id": "ae882cd4-e31b-4d2e-9d63-9a8a8888fc29",
   "metadata": {
    "tags": []
   },
   "outputs": [
    {
     "name": "stdout",
     "output_type": "stream",
     "text": [
      "Requirement already satisfied: pymupdf in c:\\users\\ragod\\anaconda3\\lib\\site-packages (1.19.2)\n"
     ]
    }
   ],
   "source": [
    "!pip install pymupdf\n"
   ]
  },
  {
   "cell_type": "code",
   "execution_count": 2,
   "id": "8034bede-faf3-4f58-acb4-a1c41d59825f",
   "metadata": {},
   "outputs": [],
   "source": [
    "import pandas as pd\n",
    "import fitz\n"
   ]
  },
  {
   "cell_type": "code",
   "execution_count": 3,
   "id": "9518784f-d55d-4050-8a61-d69ce8e42be6",
   "metadata": {},
   "outputs": [],
   "source": [
    "doc = fitz.open(r'C:/Users/ragod/OneDrive/Escritorio/B15_OCT_Grandesuperficies.pdf') \n",
    "#lectura d ela pagina de clasificaciones\n",
    "pagina = doc[14]\n",
    "paras = pagina.get_text('text')\n",
    "#pagina por parrafos\n",
    "parrafos = paras.split('\\n \\n')\n",
    "#Busqueda de clasificaciones, primer palabra de parrafos 8 y 9\n",
    "#Clasificaciones\n",
    "clase1 = parrafos[8][3:15]\n",
    "clase2 = parrafos[9][3:42]\n",
    "clasificacion ={8:clase1,9:clase2}\n",
    "#Busqueda de clasificación de Dia y mercadona\n",
    "for n in range(len(parrafos)):\n",
    "    if parrafos[n].find('Mercadona') > 0 : clasi_Mercadona = clasificacion.get(n)\n",
    "    if parrafos[n].find('Día') > 0 : clasi_Dia = clasificacion.get(n)\n"
   ]
  },
  {
   "cell_type": "code",
   "execution_count": 4,
   "id": "a2ddd9ce-0452-48e9-ac39-2e18cb8f237a",
   "metadata": {},
   "outputs": [
    {
     "name": "stdout",
     "output_type": "stream",
     "text": [
      "Supermercado\n"
     ]
    }
   ],
   "source": [
    "print(clasi_Dia)"
   ]
  },
  {
   "cell_type": "code",
   "execution_count": null,
   "id": "3f37fd9d-8d7f-4927-96d1-a81037210245",
   "metadata": {},
   "outputs": [],
   "source": []
  }
 ],
 "metadata": {
  "kernelspec": {
   "display_name": "Python 3",
   "language": "python",
   "name": "python3"
  },
  "language_info": {
   "codemirror_mode": {
    "name": "ipython",
    "version": 3
   },
   "file_extension": ".py",
   "mimetype": "text/x-python",
   "name": "python",
   "nbconvert_exporter": "python",
   "pygments_lexer": "ipython3",
   "version": "3.8.8"
  }
 },
 "nbformat": 4,
 "nbformat_minor": 5
}
