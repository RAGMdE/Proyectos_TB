{
 "cells": [
  {
   "cell_type": "markdown",
   "id": "0956f340-2fd5-481b-b23f-7329f17584ca",
   "metadata": {},
   "source": [
    "Este desarrollo pretende comparar los precios de una cesta de la compra en dos supermercados. Tambien ppodría usarse, previo formación de un historico y una pequeña modificación,  para estudiar la varación del IPC de dicha cesta.\n",
    "\n",
    "Para ello se creua lista con productos con un nombre estandar acorde con las denominaciones de cada supermercado con objeto que al buscar sea el primer elemento del resultado de la busqueda.\n",
    "\n",
    "Se ha tomado com referencia Mercadona y Dia, y una cesta de cinco productos.\n",
    "\n",
    "EL proceso de busqueda consiste en entrar en la pagina web, saltarse la cookies e ir buscando cada producto de la lista, inicalizando previamente el campo de la busqueda de la pagina web.\n",
    "\n",
    "Se obtiene una lista valorada por cada supermercado, fundiendose en una sola donde se compara precios y se recomeinda el supermercado donde realziar la compra.\n",
    "Al final produce un fichero csv con la decisión de donde comprar cada producto en función del precio más barato.\n",
    "Tambien se obtiene la descripcion y formato de un producto por cada supermercado para comparar cantidades para una versión posterior"
   ]
  },
  {
   "cell_type": "code",
   "execution_count": 1,
   "id": "225ba63a-fd94-4949-90a4-2f53c26a5c34",
   "metadata": {},
   "outputs": [],
   "source": [
    "#!pip install PyPDF2"
   ]
  },
  {
   "cell_type": "code",
   "execution_count": 2,
   "id": "992fe369-79cd-46e6-88b1-5009451f5de8",
   "metadata": {
    "tags": []
   },
   "outputs": [],
   "source": [
    "# !pip install tabula-py"
   ]
  },
  {
   "cell_type": "code",
   "execution_count": 3,
   "id": "9d352d46-7b26-4a18-a386-323a24abf632",
   "metadata": {},
   "outputs": [],
   "source": [
    "# !pip install beautifulsoup4"
   ]
  },
  {
   "cell_type": "code",
   "execution_count": 4,
   "id": "7fb62672-bebd-439a-a6de-1a958830c383",
   "metadata": {
    "tags": []
   },
   "outputs": [],
   "source": [
    "import requests as req\n",
    "import pandas as pd\n",
    "import time  # manejo temporal\n",
    "\n",
    "from bs4 import BeautifulSoup as bs\n",
    "\n",
    "from webdriver_manager.chrome import ChromeDriverManager\n",
    "from fake_useragent import UserAgent\n",
    "\n",
    "PATH = r\"C:\\Users\\ragod\\OneDrive\\Documentos\\GitHub\\ds_tb_part_21_09\\02-Data_Analysis\\driver\\chromedriver.exe\"  #'driver/chromedriver'\n",
    "usuario=UserAgent().random\n",
    "\n",
    "\n",
    "from selenium import webdriver  # driver selenium\n",
    "from selenium.webdriver.chrome.options import Options\n",
    "from selenium.webdriver.common.by import By   # para elegir por elemento\n",
    "from selenium.webdriver.support.ui import WebDriverWait # para el time sleep\n",
    "from selenium.webdriver.support import expected_conditions as EC # condiciones esperadas\n",
    "from selenium.webdriver import ActionChains as AC # acciones en cadena\n"
   ]
  },
  {
   "cell_type": "code",
   "execution_count": 5,
   "id": "32d2db9e-0327-4e12-9d4a-7e443775269b",
   "metadata": {},
   "outputs": [],
   "source": [
    "opciones=Options()\n",
    "\n",
    "opciones.add_argument('--start-maximized')  # empieza maximizado\n",
    "\n",
    "opciones.add_argument('--headlees')\n",
    "opciones.headless=False               # Si es True no aparece la pantalla\n",
    "\n",
    "opciones.add_experimental_option('excludeSwitches', ['enable-automation']) # para quitar flag de robot\n",
    "opciones.add_experimental_option('useAutomationExtension', False)\n",
    "\n",
    "#opciones.add_extension('driver/adblock.crx')  # extension de adblocker\n",
    "\n",
    "opciones.add_argument('--incognito')\n",
    "\n",
    "opciones.add_argument('user-data-dir=selenium')   # para guardar cookies\n",
    "\n",
    "opciones.add_argument('--no-proxy-server')  # sin proxy\n",
    "opciones.add_argument('proxy-server=106.122.8.54:3128')  # proxy custom\n",
    "# usuario=UserAgent().random opciones del driver"
   ]
  },
  {
   "cell_type": "code",
   "execution_count": 6,
   "id": "2af2600b-eb1d-4618-9cc3-b1247b859749",
   "metadata": {
    "tags": []
   },
   "outputs": [
    {
     "name": "stderr",
     "output_type": "stream",
     "text": [
      "<ipython-input-6-89b6f3082186>:2: DeprecationWarning: executable_path has been deprecated, please pass in a Service object\n",
      "  driver=webdriver.Chrome(PATH)\n"
     ]
    }
   ],
   "source": [
    "url='https://tienda.mercadona.es/'\n",
    "driver=webdriver.Chrome(PATH) \n",
    "driver.get(url)\n",
    "\n",
    "time.sleep(3)\n"
   ]
  },
  {
   "cell_type": "code",
   "execution_count": 7,
   "id": "a437357a-cb0d-49a0-87f2-c71c176dfb85",
   "metadata": {
    "tags": []
   },
   "outputs": [
    {
     "name": "stderr",
     "output_type": "stream",
     "text": [
      "<ipython-input-7-2f44200a677f>:29: DeprecationWarning: find_element_by_* commands are deprecated. Please use find_element() instead\n",
      "  producto_mercadona = driver.find_element_by_class_name('product-container').text\n"
     ]
    }
   ],
   "source": [
    "\n",
    "#Cesta de la compra\n",
    "\n",
    "mi_lista =['HUEVO GALLINA CAMPERA','CALABAZA EN TROZOS', 'KEFIR','ESPARRAGO VERDE','UVA BLANCA SIN SEMILLA']\n",
    "\n",
    "#Busqueda en Mercadona\n",
    "saltar_coockies=driver.find_element(By.XPATH,'//*[@id=\"root\"]/div[1]/div/div/button[2]')\n",
    "saltar_coockies.click()\n",
    "# introducir codigo postal\n",
    "busqueda = '28016'\n",
    "buscar=driver.find_element(By.XPATH,'//*[@id=\"root\"]/div[4]/div/div[2]/div/form/div/input') # objeto en la web de busqueda\n",
    "\n",
    "buscar.send_keys(busqueda)  # incrusta la string\n",
    "time.sleep(4)\n",
    "\n",
    "\n",
    "primer_aceptar=driver.find_element(By.XPATH,'//*[@id=\"root\"]/div[4]/div/div[2]/div/form/button')\n",
    "primer_aceptar.click()\n",
    "\n",
    "mi_lista_valorada =[]\n",
    "\n",
    "\n",
    "#buscar productos\n",
    "for n in range(len(mi_lista)):\n",
    "    buscar=driver.find_element(By.XPATH,'//*[@id=\"search\"]').clear()\n",
    "    producto = mi_lista[n]\n",
    "    buscar=driver.find_element(By.XPATH,'//*[@id=\"search\"]')\n",
    "    buscar.send_keys(producto)  # incrusta la string\n",
    "    time.sleep(3)\n",
    "    producto_mercadona = driver.find_element_by_class_name('product-container').text\n",
    "    producto_mercadona_list=producto_mercadona.split('\\n')\n",
    "    producto_mercadona_descripcion = producto_mercadona_list[0]\n",
    "    producto_mercadona_formato = producto_mercadona_list[1]\n",
    "    producto_mercadona_precio = producto_mercadona_list[2].replace(' € /ud.','')\n",
    "    # Crear lista valorada Mercadona\n",
    "    mi_lista_valorada.append([producto, producto_mercadona_precio])\n",
    "\n",
    "\n"
   ]
  },
  {
   "cell_type": "code",
   "execution_count": 8,
   "id": "ecccc698-7c93-4978-97f0-f94a56ed7f95",
   "metadata": {
    "tags": []
   },
   "outputs": [
    {
     "name": "stderr",
     "output_type": "stream",
     "text": [
      "<ipython-input-8-c04983aec346>:3: DeprecationWarning: executable_path has been deprecated, please pass in a Service object\n",
      "  driver=webdriver.Chrome(PATH)\n",
      "<ipython-input-8-c04983aec346>:19: DeprecationWarning: find_element_by_* commands are deprecated. Please use find_element() instead\n",
      "  producto_Dia_precio = driver.find_element_by_class_name('price').text\n",
      "<ipython-input-8-c04983aec346>:20: DeprecationWarning: find_element_by_* commands are deprecated. Please use find_element() instead\n",
      "  producto_Dia_detalle =driver.find_element_by_class_name('name').text\n"
     ]
    }
   ],
   "source": [
    "# Busqueda en Dia\n",
    "url_dia ='https://www.dia.es/compra-online/'\n",
    "driver=webdriver.Chrome(PATH)\n",
    "driver.get(url_dia)\n",
    "\n",
    "time.sleep(4) # La cookie tarda muchho en salir, por eso se establece a 4.\n",
    "# saltar cookies\n",
    "saltar_coockies=driver.find_element(By.XPATH,'//*[@id=\"onetrust-accept-btn-handler\"]')\n",
    "saltar_coockies.click()\n",
    "mi_lista_valorada2=[]\n",
    "#buscar productos\n",
    "for n in range(len(mi_lista)):\n",
    "    buscar=driver.find_element(By.XPATH,'//*[@id=\"search\"]').clear()\n",
    "    producto = mi_lista[n]\n",
    "    buscar=driver.find_element(By.XPATH,'//*[@id=\"search\"]')\n",
    "    buscar.send_keys(producto)  # incrusta la string\n",
    "    time.sleep(3)\n",
    "    \n",
    "    producto_Dia_precio = driver.find_element_by_class_name('price').text\n",
    "    producto_Dia_detalle =driver.find_element_by_class_name('name').text\n",
    "    #Relleno  de la lista valorada de Dia\n",
    "    mi_lista_valorada2.append([producto,producto_Dia_precio.replace('€','').strip()])\n",
    "  \n",
    "\n",
    " "
   ]
  },
  {
   "cell_type": "code",
   "execution_count": 9,
   "id": "4517d6d3-c7bb-4d9e-8bd3-b39e676ef845",
   "metadata": {
    "tags": []
   },
   "outputs": [],
   "source": [
    "df2 =pd.DataFrame(mi_lista_valorada2, columns =['Producto','Precio_Dia'])\n",
    "#df2['Formato_Dia']=df2.apply(lambda x: x['Denominación_Dia'][len(x['Denominación_Dia'])-6:])\n",
    "df1= pd.DataFrame(mi_lista_valorada, columns =['Producto','Precio_Mercadona'])\n",
    "\n",
    "df2['Precio_Mercadona'] =df1['Precio_Mercadona']\n",
    "\n",
    "df2['Precio_Mercadona'] = df2['Precio_Mercadona'].replace(\",\",\".\", regex = True).astype(float)\n",
    "df2['Precio_Dia'] =df2['Precio_Dia'].replace(\",\",\".\", regex = True).astype(float)\n",
    "\n",
    "\n"
   ]
  },
  {
   "cell_type": "code",
   "execution_count": 10,
   "id": "4bcbd520-8b12-4d21-9cba-b376b5a093b8",
   "metadata": {},
   "outputs": [],
   "source": [
    "#Selecciona donde comprar\n",
    "df2['Donde comprar']=df2.apply(lambda x: 'Mercadona' if x.Precio_Dia > x.Precio_Mercadona else 'Dia' ,axis=1)"
   ]
  },
  {
   "cell_type": "code",
   "execution_count": 11,
   "id": "f9425c66-2137-481c-9817-579d7a57962e",
   "metadata": {},
   "outputs": [],
   "source": [
    "\n",
    "# Crea CSV\n",
    "df2.to_csv('compra.csv', index = False)\n"
   ]
  }
 ],
 "metadata": {
  "kernelspec": {
   "display_name": "Python 3",
   "language": "python",
   "name": "python3"
  },
  "language_info": {
   "codemirror_mode": {
    "name": "ipython",
    "version": 3
   },
   "file_extension": ".py",
   "mimetype": "text/x-python",
   "name": "python",
   "nbconvert_exporter": "python",
   "pygments_lexer": "ipython3",
   "version": "3.8.8"
  }
 },
 "nbformat": 4,
 "nbformat_minor": 5
}
