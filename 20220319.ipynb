{
 "cells": [
  {
   "cell_type": "code",
   "execution_count": 1,
   "id": "87a0578a-63c6-42b9-adac-8cb9a2d3e539",
   "metadata": {},
   "outputs": [],
   "source": [
    "import pandas as pd\n",
    "import numpy as np"
   ]
  },
  {
   "cell_type": "code",
   "execution_count": 2,
   "id": "c9153e69-5fd2-4c9d-bffe-6df3badf17c4",
   "metadata": {},
   "outputs": [],
   "source": [
    "# comprobacion de parentesis\n",
    "def valid_parentheses(string):\n",
    "    counter1=0\n",
    "    counter2=0\n",
    "    for x in string:\n",
    "        if x==\"(\":\n",
    "            counter1+=1\n",
    "        else:\n",
    "            counter2+=1\n",
    "        if counter2 > counter1:\n",
    "            return False\n",
    "    if counter1>counter2:\n",
    "        return False\n",
    "    return True"
   ]
  },
  {
   "cell_type": "code",
   "execution_count": 8,
   "id": "ee0a7692-104f-4260-a302-8e3870cc033c",
   "metadata": {},
   "outputs": [],
   "source": [
    "# devolucion primer caracter que no se repite\n",
    "def first_non_repeating_letter(string):    \n",
    "    reps = [c for c in string if string.lower().count(c.lower()) == 1]    \n",
    "    return  reps[0] if len(reps) > 0 else \"\"\n"
   ]
  },
  {
   "cell_type": "code",
   "execution_count": 14,
   "id": "0f8be1bb-cef2-49d9-874b-24c7e0231ce9",
   "metadata": {},
   "outputs": [
    {
     "data": {
      "text/plain": [
       "4"
      ]
     },
     "execution_count": 14,
     "metadata": {},
     "output_type": "execute_result"
    }
   ],
   "source": [
    "# devolver la longitud de la palabra mas corta de una frase\n",
    "string= \"hola como estas\"\n",
    "string_list = string.split()\n",
    "len_string = []\n",
    "for i in string_list:\n",
    "    len_string.append(len(i))\n",
    "min(len_string)"
   ]
  },
  {
   "cell_type": "code",
   "execution_count": 10,
   "id": "eadfac1d-cfdb-4748-a069-7ace39e40559",
   "metadata": {},
   "outputs": [
    {
     "data": {
      "text/plain": [
       "[['En', 'un', 'lugar', 'de', 'la', 'manccha']]"
      ]
     },
     "execution_count": 10,
     "metadata": {},
     "output_type": "execute_result"
    }
   ],
   "source": [
    "# cakes must return 2\n",
    "cakes({flour: 500, sugar: 200, eggs: 1}, {flour: 1200, sugar: 1200, eggs: 5, milk: 200})\n",
    "# must return 0\n",
    "cakes({apples: 3, flour: 300, sugar: 150, milk: 100, oil: 100}, {sugar: 500, flour: 2000, milk: 2000})\n",
    "\n",
    "'''\n",
    "(recetas, existencias)\n",
    "cantidades=[]\n",
    "for k in recetas.viewkeys():\n",
    "    if k in existencias:\n",
    "        cantidad = int(existencias[k]/recetas[k]) \n",
    "        cantidades.append(cantidad)\n",
    "\n",
    "min(cantidades)\n",
    "'''\n",
    "\n",
    "def cakes(recipe, available):\n",
    "    return min([available[i] // recipe[i] if i in available else 0 for i in recipe])\n",
    "\n",
    "    "
   ]
  },
  {
   "cell_type": "code",
   "execution_count": 16,
   "id": "9bc2a6a0-4c8f-4706-91aa-cd62637a5819",
   "metadata": {},
   "outputs": [
    {
     "data": {
      "text/plain": [
       "1"
      ]
     },
     "execution_count": 16,
     "metadata": {},
     "output_type": "execute_result"
    }
   ],
   "source": [
    "# number non repited\n",
    "def find_uniq(arr):\n",
    "    for char in set(arr):\n",
    "        if arr.count(char) == 1:\n",
    "            return char\n",
    "\n"
   ]
  },
  {
   "cell_type": "code",
   "execution_count": 21,
   "id": "5edd9191-ca29-4393-ad1e-7dcb6507a886",
   "metadata": {},
   "outputs": [
    {
     "data": {
      "text/plain": [
       "[2, 4, 3, 0, 0]"
      ]
     },
     "execution_count": 21,
     "metadata": {},
     "output_type": "execute_result"
    }
   ],
   "source": [
    "# poner los ceros de un array al final\n",
    "\n",
    "prueba=[0,2,4,0,3]\n",
    "nuevo=[]\n",
    "cont0=0\n",
    "for k in prueba:\n",
    "    if k !=0:\n",
    "        nuevo.append(k)\n",
    "    else:\n",
    "        cont0 +=1\n",
    "    \n",
    "for x in range(cont0):\n",
    "    nuevo.append(0)\n",
    "    \n",
    "nuevo"
   ]
  },
  {
   "cell_type": "code",
   "execution_count": null,
   "id": "5c46e593-a8b8-4eeb-ad4d-45ea14eedc2a",
   "metadata": {},
   "outputs": [],
   "source": [
    "def move_zeros(array):\n",
    "    for i in array:\n",
    "        if i == 0:\n",
    "            array.remove(i)\n",
    "            array.append(i)\n",
    "    return array\n",
    "\n",
    "def move_zeros(array):\n",
    "    return [i for i in array  if i  !=0] + [i for i in array  if i  ==0]\n",
    "\n",
    "def move_zeros(num):\n",
    "    return[i for i in num if i!=0] +  [i for i in num if i==0]"
   ]
  },
  {
   "cell_type": "code",
   "execution_count": 28,
   "id": "266e83f7-508a-462e-95f6-f2c57785d781",
   "metadata": {},
   "outputs": [
    {
     "data": {
      "text/plain": [
       "3"
      ]
     },
     "execution_count": 28,
     "metadata": {},
     "output_type": "execute_result"
    }
   ],
   "source": [
    "# devolver la suma de los dos valores menores\n",
    "prueba= np.array([1,2,3,4])\n",
    "a = sorted(prueba)\n",
    "suma= sum(a[:2])\n",
    "suma"
   ]
  },
  {
   "cell_type": "code",
   "execution_count": 42,
   "id": "1489deb8-5db6-4d1f-8949-edd2b353ba08",
   "metadata": {},
   "outputs": [
    {
     "data": {
      "text/plain": [
       "72"
      ]
     },
     "execution_count": 42,
     "metadata": {},
     "output_type": "execute_result"
    }
   ],
   "source": [
    "# dado un nueor obtener el mas alto reordenando sus digitos\n",
    "\n",
    "prueba=27\n",
    "\n",
    "b=int(''.join(sorted(list(str(prueba)), reverse = True)))\n"
   ]
  },
  {
   "cell_type": "code",
   "execution_count": 58,
   "id": "c51502f4-7db7-4403-9a9a-3f4606fedc6f",
   "metadata": {},
   "outputs": [
    {
     "ename": "SyntaxError",
     "evalue": "invalid syntax (<ipython-input-58-058e27b48b9f>, line 10)",
     "output_type": "error",
     "traceback": [
      "\u001b[1;36m  File \u001b[1;32m\"<ipython-input-58-058e27b48b9f>\"\u001b[1;36m, line \u001b[1;32m10\u001b[0m\n\u001b[1;33m    print(cont_pos += 1)\u001b[0m\n\u001b[1;37m                   ^\u001b[0m\n\u001b[1;31mSyntaxError\u001b[0m\u001b[1;31m:\u001b[0m invalid syntax\n"
     ]
    }
   ],
   "source": [
    "#Dado un array,obtener dos arrays, uno contando positivos y otro sumado negativos. El 0 se salta\n",
    "\n",
    "prueba=np.array([1,3,2,-2,-5])\n",
    "\n",
    "cont_pos = 0\n",
    "sum_neg = 0\n",
    "\n",
    "for k in prueba:\n",
    "    if k > 0:\n",
    "        print(cont_pos += 1)\n",
    "    else:\n",
    "        sum_neg=sum_neg+k\n",
    "        \n",
    "salida=[cont_pos, sum_neg]\n",
    "\n",
    "salida\n",
    "\n",
    "'''\n",
    " a = [ len([c for c in arr if c > 0]) , sum([c for c in arr if c < 0]) ]\n",
    "    if a == [0,0]:\n",
    "        return []\n",
    "    else:\n",
    "        return a\n",
    "'''"
   ]
  },
  {
   "cell_type": "code",
   "execution_count": 52,
   "id": "153d32f4-0900-48dc-8b3a-884d7f8e4425",
   "metadata": {},
   "outputs": [],
   "source": [
    "#Suma serie \n",
    "\n",
    "def suma_serie(limite):\n",
    "    \n",
    "    serie=[1/(1+3*limite)  for n in range(0,limite)]\n",
    "    suma_serie =sum(serie)\n",
    "    return \"{:.2f}\".format(sum(serie))"
   ]
  },
  {
   "cell_type": "code",
   "execution_count": 53,
   "id": "96f5b8fa-c31f-439d-b64e-6e13523e0ea1",
   "metadata": {},
   "outputs": [
    {
     "data": {
      "text/plain": [
       "'0.31'"
      ]
     },
     "execution_count": 53,
     "metadata": {},
     "output_type": "execute_result"
    }
   ],
   "source": [
    "suma_serie(4)"
   ]
  },
  {
   "cell_type": "code",
   "execution_count": 78,
   "id": "34dfe974-b814-4a45-ae0e-8f3ac93c0927",
   "metadata": {
    "tags": []
   },
   "outputs": [
    {
     "data": {
      "text/plain": [
       "[7, 5, 3, 2]"
      ]
     },
     "execution_count": 78,
     "metadata": {},
     "output_type": "execute_result"
    }
   ],
   "source": [
    "# dado un numero devolverlo en forma de lista invertida\n",
    "\n",
    "prueba = 2357\n",
    "\n",
    "b =[ int(i) for i in list(reversed(list(str(prueba)))) ]\n",
    "b\n"
   ]
  },
  {
   "cell_type": "code",
   "execution_count": 79,
   "id": "9f6e8dcf-2ef4-487e-a316-71881ed45400",
   "metadata": {},
   "outputs": [
    {
     "data": {
      "text/plain": [
       "2"
      ]
     },
     "execution_count": 79,
     "metadata": {},
     "output_type": "execute_result"
    }
   ],
   "source": [
    "# dados dos enteros, sumar los valores enter ambos,incluidos estos.\n",
    "a = 2\n",
    "b = 2\n",
    "suma=0\n",
    "for k in range(a,b+1):\n",
    "    suma=suma+k\n",
    "    \n",
    "suma\n",
    "\n",
    "'''\n",
    "def get_sum(a,b):\n",
    "    return sum(list(range(min(a,b),max(a,b)+1)))\n",
    "'''"
   ]
  },
  {
   "cell_type": "code",
   "execution_count": null,
   "id": "a9ad6952-747d-4429-9fa9-cd9363c55d67",
   "metadata": {},
   "outputs": [],
   "source": []
  }
 ],
 "metadata": {
  "kernelspec": {
   "display_name": "Python 3",
   "language": "python",
   "name": "python3"
  },
  "language_info": {
   "codemirror_mode": {
    "name": "ipython",
    "version": 3
   },
   "file_extension": ".py",
   "mimetype": "text/x-python",
   "name": "python",
   "nbconvert_exporter": "python",
   "pygments_lexer": "ipython3",
   "version": "3.8.8"
  }
 },
 "nbformat": 4,
 "nbformat_minor": 5
}
