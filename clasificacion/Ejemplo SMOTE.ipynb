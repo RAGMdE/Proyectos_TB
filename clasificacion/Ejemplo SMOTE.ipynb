{
 "cells": [
  {
   "cell_type": "markdown",
   "id": "c2a7cd37-cf08-465d-a0e0-ce7c90d9ac80",
   "metadata": {},
   "source": [
    "# Articulos\n",
    "https://towardsdatascience.com/smote-fdce2f605729#:~:text=SMOTE%20is%20an%20algorithm%20that%20performs%20data%20augmentation,or%20as%20a%20specific%20algorithm%20for%20data%20augmentation.\n",
    "\n",
    "https://towardsdatascience.com/beginner-guide-to-build-compare-and-evaluate-machine-learning-models-in-under-10-minutes-19a6781830de"
   ]
  },
  {
   "cell_type": "code",
   "execution_count": 1,
   "id": "50065f5b-fe03-4da3-be34-649638c94da6",
   "metadata": {},
   "outputs": [],
   "source": [
    "# carga incial de librerias\n",
    "import pandas as pd\n",
    "import numpy as np\n",
    "import seaborn as sns\n",
    "import pickle\n",
    "\n",
    "import plotly.offline as py\n",
    "import plotly.graph_objs as go\n",
    "\n",
    "from sklearn.model_selection import train_test_split\n",
    "from sklearn import datasets\n",
    "from sklearn.metrics import classification_report\n",
    "from sklearn.svm import SVC\n",
    "from sklearn.linear_model import LogisticRegression\n",
    "from sklearn.neighbors import KNeighborsClassifier\n",
    "\n",
    "from sklearn.model_selection import GridSearchCV\n",
    "from sklearn.preprocessing import StandardScaler\n",
    "from sklearn.pipeline import Pipeline\n",
    "from sklearn.model_selection import RepeatedKFold\n"
   ]
  },
  {
   "cell_type": "code",
   "execution_count": 2,
   "id": "cf45c673-d2ed-4454-b4b5-f389dbe2f18f",
   "metadata": {
    "tags": []
   },
   "outputs": [
    {
     "data": {
      "text/html": [
       "<div>\n",
       "<style scoped>\n",
       "    .dataframe tbody tr th:only-of-type {\n",
       "        vertical-align: middle;\n",
       "    }\n",
       "\n",
       "    .dataframe tbody tr th {\n",
       "        vertical-align: top;\n",
       "    }\n",
       "\n",
       "    .dataframe thead th {\n",
       "        text-align: right;\n",
       "    }\n",
       "</style>\n",
       "<table border=\"1\" class=\"dataframe\">\n",
       "  <thead>\n",
       "    <tr style=\"text-align: right;\">\n",
       "      <th></th>\n",
       "      <th>time_on_page</th>\n",
       "      <th>pages_viewed</th>\n",
       "      <th>interest_ski</th>\n",
       "      <th>interest_climb</th>\n",
       "      <th>buy</th>\n",
       "    </tr>\n",
       "  </thead>\n",
       "  <tbody>\n",
       "    <tr>\n",
       "      <th>0</th>\n",
       "      <td>282.0</td>\n",
       "      <td>3.0</td>\n",
       "      <td>0</td>\n",
       "      <td>1</td>\n",
       "      <td>1</td>\n",
       "    </tr>\n",
       "    <tr>\n",
       "      <th>1</th>\n",
       "      <td>223.0</td>\n",
       "      <td>3.0</td>\n",
       "      <td>0</td>\n",
       "      <td>1</td>\n",
       "      <td>1</td>\n",
       "    </tr>\n",
       "    <tr>\n",
       "      <th>2</th>\n",
       "      <td>285.0</td>\n",
       "      <td>3.0</td>\n",
       "      <td>1</td>\n",
       "      <td>1</td>\n",
       "      <td>1</td>\n",
       "    </tr>\n",
       "    <tr>\n",
       "      <th>3</th>\n",
       "      <td>250.0</td>\n",
       "      <td>3.0</td>\n",
       "      <td>0</td>\n",
       "      <td>1</td>\n",
       "      <td>1</td>\n",
       "    </tr>\n",
       "    <tr>\n",
       "      <th>4</th>\n",
       "      <td>271.0</td>\n",
       "      <td>2.0</td>\n",
       "      <td>1</td>\n",
       "      <td>1</td>\n",
       "      <td>1</td>\n",
       "    </tr>\n",
       "  </tbody>\n",
       "</table>\n",
       "</div>"
      ],
      "text/plain": [
       "   time_on_page  pages_viewed  interest_ski  interest_climb  buy\n",
       "0         282.0           3.0             0               1    1\n",
       "1         223.0           3.0             0               1    1\n",
       "2         285.0           3.0             1               1    1\n",
       "3         250.0           3.0             0               1    1\n",
       "4         271.0           2.0             1               1    1"
      ]
     },
     "execution_count": 2,
     "metadata": {},
     "output_type": "execute_result"
    }
   ],
   "source": [
    "# Import the data\n",
    "import pandas as pd\n",
    "data = pd.read_csv('https://raw.githubusercontent.com/JoosKorstanje/datasets/main/sales_data.csv')\n",
    "data.head()"
   ]
  },
  {
   "cell_type": "code",
   "execution_count": 3,
   "id": "bf105690-c4cc-40f4-8d75-c0bd74bc9ea1",
   "metadata": {},
   "outputs": [
    {
     "data": {
      "text/plain": [
       "<AxesSubplot:xlabel='buy'>"
      ]
     },
     "execution_count": 3,
     "metadata": {},
     "output_type": "execute_result"
    },
    {
     "data": {
      "image/png": "[encoded data removed]",
      "text/plain": [
       "<Figure size 432x288 with 1 Axes>"
      ]
     },
     "metadata": {
      "needs_background": "light"
     },
     "output_type": "display_data"
    }
   ],
   "source": [
    "# Showing the class imbalance between buyers and non-buyers\n",
    "data.pivot_table(index='buy', aggfunc='size').plot(kind='bar')"
   ]
  },
  {
   "cell_type": "code",
   "execution_count": 4,
   "id": "f49caf4f-b49b-467a-83a5-970f73eeb97c",
   "metadata": {},
   "outputs": [],
   "source": [
    "\n",
    "# Create a stratified train/test split. \n",
    "# Test set will be 30% of the data.\n",
    "# Class distribution will be equal for train test and original data\n",
    "\n",
    "from sklearn.model_selection import train_test_split\n",
    "train, test = train_test_split(data, test_size = 0.3, stratify=data.buy)"
   ]
  },
  {
   "cell_type": "code",
   "execution_count": 6,
   "id": "1d6c221f-a44b-4dfd-a707-a05f1cfdc71e",
   "metadata": {},
   "outputs": [
    {
     "data": {
      "text/plain": [
       "<AxesSubplot:title={'center':'Verify that class distributuion in train is same as input data'}, xlabel='buy'>"
      ]
     },
     "execution_count": 6,
     "metadata": {},
     "output_type": "execute_result"
    },
    {
     "data": {
      "image/png": "[encoded data removed]",
      "text/plain": [
       "<Figure size 432x288 with 1 Axes>"
      ]
     },
     "metadata": {
      "needs_background": "light"
     },
     "output_type": "display_data"
    }
   ],
   "source": [
    "# Comprobacion de que la muestra tiene clases no balanceadas\n",
    "train.pivot_table(index='buy', aggfunc='size').plot(kind='bar', title='Verify that class distributuion in train is same as input data')\n"
   ]
  },
  {
   "cell_type": "code",
   "execution_count": 7,
   "id": "26da1933-bdcb-4c58-b47f-56c92996e9f0",
   "metadata": {},
   "outputs": [
    {
     "data": {
      "text/plain": [
       "<AxesSubplot:title={'center':'Verify that class distributuion in test is same as input data'}, xlabel='buy'>"
      ]
     },
     "execution_count": 7,
     "metadata": {},
     "output_type": "execute_result"
    },
    {
     "data": {
      "image/png": "[encoded data removed]",
      "text/plain": [
       "<Figure size 432x288 with 1 Axes>"
      ]
     },
     "metadata": {
      "needs_background": "light"
     },
     "output_type": "display_data"
    }
   ],
   "source": [
    "# Comprobacion de que el test tiene clases no balanceadas\n",
    "test.pivot_table(index='buy', aggfunc='size').plot(kind='bar', title='Verify that class distributuion in test is same as input data')\n"
   ]
  },
  {
   "cell_type": "code",
   "execution_count": 8,
   "id": "0043f49f-9fea-4697-9883-7afd9945ded3",
   "metadata": {},
   "outputs": [],
   "source": [
    "# Construccion del modelo de regresion logistica\n",
    "\n",
    "from sklearn.linear_model import LogisticRegression\n",
    "\n",
    "# Instantiate the Logistic Regression with only default settings\n",
    "my_log_reg = LogisticRegression()\n",
    "\n",
    "# Fit the logistic regression on the independent variables of the train data with buy as dependent variable\n",
    "my_log_reg.fit(train[['time_on_page',\t'pages_viewed',\t'interest_ski',\t'interest_climb']], train['buy'])\n",
    "\n",
    "# Make a prediction using our model on the test set\n",
    "preds = my_log_reg.predict(test[['time_on_page',\t'pages_viewed',\t'interest_ski',\t'interest_climb']])\n"
   ]
  },
  {
   "cell_type": "code",
   "execution_count": 9,
   "id": "1a9652b8-af89-41a9-aefe-07357e562d41",
   "metadata": {},
   "outputs": [
    {
     "name": "stdout",
     "output_type": "stream",
     "text": [
      "True negatives:  283 \n",
      "False positives:  2 \n",
      "False negatives:  8 \n",
      "True Positives:  7\n"
     ]
    }
   ],
   "source": [
    "# Matriz de confusion\n",
    "from sklearn.metrics import confusion_matrix\n",
    "tn, fp, fn, tp = confusion_matrix(test['buy'], preds).ravel()\n",
    "print('True negatives: ', tn, '\\nFalse positives: ', fp, '\\nFalse negatives: ', fn, '\\nTrue Positives: ', tp)\n"
   ]
  },
  {
   "cell_type": "code",
   "execution_count": 10,
   "id": "99fc41e6-3406-4f95-8e53-dcf337eccf15",
   "metadata": {},
   "outputs": [
    {
     "name": "stdout",
     "output_type": "stream",
     "text": [
      "              precision    recall  f1-score   support\n",
      "\n",
      "           0       0.97      0.99      0.98       285\n",
      "           1       0.78      0.47      0.58        15\n",
      "\n",
      "    accuracy                           0.97       300\n",
      "   macro avg       0.88      0.73      0.78       300\n",
      "weighted avg       0.96      0.97      0.96       300\n",
      "\n"
     ]
    }
   ],
   "source": [
    "# informe de clasificacion\n",
    "from sklearn.metrics import classification_report\n",
    "print(classification_report(test['buy'], preds))"
   ]
  },
  {
   "cell_type": "code",
   "execution_count": 11,
   "id": "c92fc91f-8992-40bb-b25c-a33646eb8a8c",
   "metadata": {},
   "outputs": [],
   "source": [
    "# Aplicacion SMOTE.- Paso 1\n",
    "from imblearn.over_sampling import SMOTE\n",
    "X_resampled, y_resampled = SMOTE().fit_resample(train[['time_on_page',\t'pages_viewed',\t'interest_ski',\t'interest_climb']], train['buy'])\n"
   ]
  },
  {
   "cell_type": "code",
   "execution_count": 12,
   "id": "1e377561-a0f8-4357-96d6-9d228168596c",
   "metadata": {},
   "outputs": [
    {
     "data": {
      "text/plain": [
       "<AxesSubplot:title={'center':'Class distribution after appying SMOTE'}, xlabel='buy'>"
      ]
     },
     "execution_count": 12,
     "metadata": {},
     "output_type": "execute_result"
    },
    {
     "data": {
      "image/png": "[encoded data removed]",
      "text/plain": [
       "<Figure size 432x288 with 1 Axes>"
      ]
     },
     "metadata": {
      "needs_background": "light"
     },
     "output_type": "display_data"
    }
   ],
   "source": [
    "# Comprobacion de aplicar SMOTE\n",
    "pd.Series(y_resampled).value_counts().plot(kind='bar', title='Class distribution after appying SMOTE', xlabel='buy')\n"
   ]
  },
  {
   "cell_type": "code",
   "execution_count": 13,
   "id": "959d4363-47e5-46b9-b051-ff74beecc766",
   "metadata": {},
   "outputs": [],
   "source": [
    "# SMOTE.- Paso 2.- Nuevo modelo\n",
    "# Instantiate the new Logistic Regression\n",
    "log_reg_2 = LogisticRegression()\n",
    "\n",
    "# Fit the model with the data that has been resampled with SMOTE\n",
    "log_reg_2.fit(X_resampled, y_resampled)\n",
    "\n",
    "# Predict on the test set (not resampled to obtain honest evaluation)\n",
    "preds2 = log_reg_2.predict(test[['time_on_page', 'pages_viewed',\t'interest_ski',\t'interest_climb']])\n"
   ]
  },
  {
   "cell_type": "code",
   "execution_count": 14,
   "id": "256afc91-03ca-4bf9-83aa-63721e1e79a5",
   "metadata": {},
   "outputs": [
    {
     "name": "stdout",
     "output_type": "stream",
     "text": [
      "True negatives:  263 \n",
      "False positives:  22 \n",
      "False negatives:  2 \n",
      "True positives:  13\n"
     ]
    }
   ],
   "source": [
    "#SMOTE.- Paso 3.- Nuevas metricas\n",
    "tn, fp, fn, tp = confusion_matrix(test['buy'], preds2).ravel()\n",
    "print('True negatives: ', tn, '\\nFalse positives: ', fp, '\\nFalse negatives: ', fn, '\\nTrue positives: ', tp)\n"
   ]
  },
  {
   "cell_type": "code",
   "execution_count": 15,
   "id": "688d721e-04e5-4c95-b15f-ad4818a53eb1",
   "metadata": {},
   "outputs": [
    {
     "name": "stdout",
     "output_type": "stream",
     "text": [
      "              precision    recall  f1-score   support\n",
      "\n",
      "           0       0.99      0.92      0.96       285\n",
      "           1       0.37      0.87      0.52        15\n",
      "\n",
      "    accuracy                           0.92       300\n",
      "   macro avg       0.68      0.89      0.74       300\n",
      "weighted avg       0.96      0.92      0.93       300\n",
      "\n"
     ]
    }
   ],
   "source": [
    "\n",
    "print(classification_report(test['buy'], preds2))"
   ]
  },
  {
   "cell_type": "code",
   "execution_count": null,
   "id": "b6b46308-b79e-472f-a808-f3530985910a",
   "metadata": {},
   "outputs": [],
   "source": []
  }
 ],
 "metadata": {
  "kernelspec": {
   "display_name": "Python [conda env:root] *",
   "language": "python",
   "name": "conda-root-py"
  },
  "language_info": {
   "codemirror_mode": {
    "name": "ipython",
    "version": 3
   },
   "file_extension": ".py",
   "mimetype": "text/x-python",
   "name": "python",
   "nbconvert_exporter": "python",
   "pygments_lexer": "ipython3",
   "version": "3.8.8"
  }
 },
 "nbformat": 4,
 "nbformat_minor": 5
}
