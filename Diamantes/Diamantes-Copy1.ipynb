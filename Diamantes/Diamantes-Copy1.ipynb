{
 "cells": [
  {
   "cell_type": "markdown",
   "id": "3819a201-5e9f-4a70-b63e-65c528f14c05",
   "metadata": {},
   "source": [
    "Prueba.-Ejercicio Diamantes \n",
    "\n",
    "https://www.kaggle.com/c/thebridgediamonds\n",
    "\n",
    "kaggle.comkaggle.com\n",
    "Diamantes\n",
    "Prediccion del precio de los diamantes.\n",
    "\n",
    "\n",
    "La metrica es la RMSE.\n",
    "Bajar datos\n",
    "Train dividir en train y test\n",
    "limpiar/transformar\n",
    "modelo de ML\n",
    "solución. Se pueden mandar 5 al dia."
   ]
  },
  {
   "cell_type": "code",
   "execution_count": 1,
   "id": "dfca384b-eb19-4687-b400-96fdbadaaafa",
   "metadata": {},
   "outputs": [],
   "source": [
    "#!pip install category_encoders"
   ]
  },
  {
   "cell_type": "code",
   "execution_count": 2,
   "id": "c2c5e75b-e96a-44f0-9804-68601f4d4381",
   "metadata": {
    "tags": []
   },
   "outputs": [],
   "source": [
    "# Librerias habituales\n",
    "import pandas as pd\n",
    "import numpy as np\n",
    "\n",
    "import pylab as plt\n",
    "%matplotlib inline\n",
    "\n",
    "from sklearn import preprocessing\n",
    "from sklearn.metrics import mean_squared_error\n",
    "\n",
    "import category_encoders as ce\n",
    "\n",
    "import warnings\n",
    "warnings.simplefilter('ignore')"
   ]
  },
  {
   "cell_type": "code",
   "execution_count": 3,
   "id": "c302fa0b-868b-4f2d-b5ce-1f943608f60e",
   "metadata": {},
   "outputs": [],
   "source": [
    "# carga de datos\n",
    "df_diamantes = pd.read_csv(r'C:\\Users\\ragod\\OneDrive\\Escritorio\\Proyectos_TB\\Proyectos_TB\\Diamantes\\train.csv')\n",
    "df_diamantes_prediccion =pd.read_csv(r'C:\\Users\\ragod\\OneDrive\\Escritorio\\Proyectos_TB\\Proyectos_TB\\Diamantes\\test.csv ')\n"
   ]
  },
  {
   "cell_type": "code",
   "execution_count": 4,
   "id": "ad6e21e9-f47d-46a3-8037-270e68908b45",
   "metadata": {},
   "outputs": [
    {
     "name": "stdout",
     "output_type": "stream",
     "text": [
      "<class 'pandas.core.frame.DataFrame'>\n",
      "RangeIndex: 35940 entries, 0 to 35939\n",
      "Data columns (total 11 columns):\n",
      " #   Column   Non-Null Count  Dtype  \n",
      "---  ------   --------------  -----  \n",
      " 0   carat    35940 non-null  float64\n",
      " 1   cut      35940 non-null  object \n",
      " 2   color    35940 non-null  object \n",
      " 3   clarity  35940 non-null  object \n",
      " 4   depth    35940 non-null  float64\n",
      " 5   table    35940 non-null  float64\n",
      " 6   price    35940 non-null  float64\n",
      " 7   x        35940 non-null  float64\n",
      " 8   y        35940 non-null  float64\n",
      " 9   z        35940 non-null  float64\n",
      " 10  id       35940 non-null  int64  \n",
      "dtypes: float64(7), int64(1), object(3)\n",
      "memory usage: 3.0+ MB\n"
     ]
    }
   ],
   "source": [
    "df_diamantes.info()\n"
   ]
  },
  {
   "cell_type": "code",
   "execution_count": 5,
   "id": "6a7ac555-01c3-49d4-a78e-44b6e1ebfaa4",
   "metadata": {},
   "outputs": [
    {
     "data": {
      "text/plain": [
       "[(35940, 11)]"
      ]
     },
     "execution_count": 5,
     "metadata": {},
     "output_type": "execute_result"
    }
   ],
   "source": [
    "dim_ini =[df_diamantes.shape]\n",
    "dim_ini"
   ]
  },
  {
   "cell_type": "code",
   "execution_count": 6,
   "id": "86d0897e-4610-4dc2-946e-20c950a97cc6",
   "metadata": {
    "tags": []
   },
   "outputs": [
    {
     "data": {
      "text/html": [
       "<div>\n",
       "<style scoped>\n",
       "    .dataframe tbody tr th:only-of-type {\n",
       "        vertical-align: middle;\n",
       "    }\n",
       "\n",
       "    .dataframe tbody tr th {\n",
       "        vertical-align: top;\n",
       "    }\n",
       "\n",
       "    .dataframe thead th {\n",
       "        text-align: right;\n",
       "    }\n",
       "</style>\n",
       "<table border=\"1\" class=\"dataframe\">\n",
       "  <thead>\n",
       "    <tr style=\"text-align: right;\">\n",
       "      <th></th>\n",
       "      <th>carat</th>\n",
       "      <th>depth</th>\n",
       "      <th>table</th>\n",
       "      <th>price</th>\n",
       "      <th>x</th>\n",
       "      <th>y</th>\n",
       "      <th>z</th>\n",
       "      <th>id</th>\n",
       "    </tr>\n",
       "  </thead>\n",
       "  <tbody>\n",
       "    <tr>\n",
       "      <th>count</th>\n",
       "      <td>35940.000000</td>\n",
       "      <td>35940.000000</td>\n",
       "      <td>35940.000000</td>\n",
       "      <td>35940.000000</td>\n",
       "      <td>35940.000000</td>\n",
       "      <td>35940.000000</td>\n",
       "      <td>35940.000000</td>\n",
       "      <td>35940.000000</td>\n",
       "    </tr>\n",
       "    <tr>\n",
       "      <th>mean</th>\n",
       "      <td>0.907500</td>\n",
       "      <td>61.756210</td>\n",
       "      <td>57.461753</td>\n",
       "      <td>3930.117835</td>\n",
       "      <td>5.728928</td>\n",
       "      <td>5.731430</td>\n",
       "      <td>3.537112</td>\n",
       "      <td>17969.500000</td>\n",
       "    </tr>\n",
       "    <tr>\n",
       "      <th>std</th>\n",
       "      <td>2.098015</td>\n",
       "      <td>1.431872</td>\n",
       "      <td>2.240414</td>\n",
       "      <td>3982.706797</td>\n",
       "      <td>1.121504</td>\n",
       "      <td>1.121685</td>\n",
       "      <td>0.695298</td>\n",
       "      <td>10375.128674</td>\n",
       "    </tr>\n",
       "    <tr>\n",
       "      <th>min</th>\n",
       "      <td>0.200000</td>\n",
       "      <td>43.000000</td>\n",
       "      <td>44.000000</td>\n",
       "      <td>326.000000</td>\n",
       "      <td>0.000000</td>\n",
       "      <td>0.000000</td>\n",
       "      <td>0.000000</td>\n",
       "      <td>0.000000</td>\n",
       "    </tr>\n",
       "    <tr>\n",
       "      <th>25%</th>\n",
       "      <td>0.400000</td>\n",
       "      <td>61.100000</td>\n",
       "      <td>56.000000</td>\n",
       "      <td>949.000000</td>\n",
       "      <td>4.710000</td>\n",
       "      <td>4.720000</td>\n",
       "      <td>2.910000</td>\n",
       "      <td>8984.750000</td>\n",
       "    </tr>\n",
       "    <tr>\n",
       "      <th>50%</th>\n",
       "      <td>0.700000</td>\n",
       "      <td>61.900000</td>\n",
       "      <td>57.000000</td>\n",
       "      <td>2394.000000</td>\n",
       "      <td>5.690000</td>\n",
       "      <td>5.710000</td>\n",
       "      <td>3.520000</td>\n",
       "      <td>17969.500000</td>\n",
       "    </tr>\n",
       "    <tr>\n",
       "      <th>75%</th>\n",
       "      <td>1.050000</td>\n",
       "      <td>62.500000</td>\n",
       "      <td>59.000000</td>\n",
       "      <td>5362.250000</td>\n",
       "      <td>6.540000</td>\n",
       "      <td>6.540000</td>\n",
       "      <td>4.040000</td>\n",
       "      <td>26954.250000</td>\n",
       "    </tr>\n",
       "    <tr>\n",
       "      <th>max</th>\n",
       "      <td>49.990359</td>\n",
       "      <td>79.000000</td>\n",
       "      <td>95.000000</td>\n",
       "      <td>18823.000000</td>\n",
       "      <td>10.230000</td>\n",
       "      <td>31.800000</td>\n",
       "      <td>6.720000</td>\n",
       "      <td>35939.000000</td>\n",
       "    </tr>\n",
       "  </tbody>\n",
       "</table>\n",
       "</div>"
      ],
      "text/plain": [
       "              carat         depth         table         price             x  \\\n",
       "count  35940.000000  35940.000000  35940.000000  35940.000000  35940.000000   \n",
       "mean       0.907500     61.756210     57.461753   3930.117835      5.728928   \n",
       "std        2.098015      1.431872      2.240414   3982.706797      1.121504   \n",
       "min        0.200000     43.000000     44.000000    326.000000      0.000000   \n",
       "25%        0.400000     61.100000     56.000000    949.000000      4.710000   \n",
       "50%        0.700000     61.900000     57.000000   2394.000000      5.690000   \n",
       "75%        1.050000     62.500000     59.000000   5362.250000      6.540000   \n",
       "max       49.990359     79.000000     95.000000  18823.000000     10.230000   \n",
       "\n",
       "                  y             z            id  \n",
       "count  35940.000000  35940.000000  35940.000000  \n",
       "mean       5.731430      3.537112  17969.500000  \n",
       "std        1.121685      0.695298  10375.128674  \n",
       "min        0.000000      0.000000      0.000000  \n",
       "25%        4.720000      2.910000   8984.750000  \n",
       "50%        5.710000      3.520000  17969.500000  \n",
       "75%        6.540000      4.040000  26954.250000  \n",
       "max       31.800000      6.720000  35939.000000  "
      ]
     },
     "execution_count": 6,
     "metadata": {},
     "output_type": "execute_result"
    }
   ],
   "source": [
    "df_diamantes.describe()"
   ]
  },
  {
   "cell_type": "code",
   "execution_count": 7,
   "id": "06b27c4f-32c2-49b3-af95-9d01066af8bc",
   "metadata": {
    "tags": []
   },
   "outputs": [],
   "source": [
    "#Las variables que influeyen en el presio son: carat, clarity, colour y cut. Transformamos las variables categoricas:\n",
    "#cut quality of the cut (Fair, Good, Very Good, Premium, Ideal)\n",
    "#color diamond colour, from J (worst) to D (best)\n",
    "#clarity a measurement of how clear the diamond is (I1 (worst), SI2, SI1, VS2, VS1, VVS2, VVS1, IF (best))\n",
    "\n"
   ]
  },
  {
   "cell_type": "code",
   "execution_count": 8,
   "id": "44ae404b-357c-4d5f-8104-d76364d88562",
   "metadata": {},
   "outputs": [
    {
     "data": {
      "text/plain": [
       "([array(['F', 'I', 'E', 'G', 'H', 'J', 'D'], dtype=object)],\n",
       " [array(['Very Good', 'Ideal', 'Good', 'Premium', 'Very Geod', 'Fair'],\n",
       "        dtype=object)],\n",
       " [array(['SI2', 'VS2', 'VVS2', 'IF', 'SI1', 'VVS1', 'VS1', 'I1'],\n",
       "        dtype=object)])"
      ]
     },
     "execution_count": 8,
     "metadata": {},
     "output_type": "execute_result"
    }
   ],
   "source": [
    "#buscamos los valores de las variables categoricas\n",
    "v_colors =[df_diamantes['color'].unique()]\n",
    "v_cut = [df_diamantes['cut'].unique()]\n",
    "v_clarity = [df_diamantes['clarity'].unique()]\n",
    "\n",
    "v_colors, v_cut, v_clarity"
   ]
  },
  {
   "cell_type": "code",
   "execution_count": 9,
   "id": "5e5d311d-df68-4247-9cbe-c1e2aad94b86",
   "metadata": {},
   "outputs": [],
   "source": [
    "#Correcion de error tipografico\n",
    "df_diamantes.loc[(df_diamantes['cut'] == 'Very Geod'),'cut']='Very Good'\n"
   ]
  },
  {
   "cell_type": "code",
   "execution_count": 10,
   "id": "65eb9906-6189-4c14-b48f-526363d797c6",
   "metadata": {},
   "outputs": [
    {
     "data": {
      "text/plain": [
       "[array(['Very Good', 'Ideal', 'Good', 'Premium', 'Fair'], dtype=object)]"
      ]
     },
     "execution_count": 10,
     "metadata": {},
     "output_type": "execute_result"
    }
   ],
   "source": [
    "#Comprobacion de la corrección\n",
    "v_cut = [df_diamantes['cut'].unique()]\n",
    "v_cut"
   ]
  },
  {
   "cell_type": "code",
   "execution_count": 11,
   "id": "5869cfe5-7fba-4dd9-9fff-912506b9da68",
   "metadata": {},
   "outputs": [],
   "source": [
    "#creamos un dccionario para codificar las variables categoricas.\n",
    "#Los valores se asignan según enunciado. Minimmo valor = 1, Maximo valor =num maximo de valores\n",
    "#Column cut:Fair, Good, Very Good, Premium, Ideal\n",
    "# Column colour, from J (worst), I,H,G,F,E D (best)\n",
    "# Column clirity :I1 (worst), SI2, SI1, VS2, VS1, VVS2, VVS1, IF (best)\n",
    "codificacion = [{'col':'cut','mapping':{'Very Good':3, 'Ideal':5, 'Good':2, 'Premium':4, 'Fair':1}},\n",
    "                {'col' :'color', 'mapping':{'F':5, 'I':2, 'E':6, 'G':4, 'H':3, 'J':1, 'D':7}},\n",
    "                {'col' : 'clarity', 'mapping':{'SI2':2, 'VS2':4, 'VVS2':6, 'IF':8, 'SI1':3, 'VVS1':7, 'VS1':5, 'I1':1}}]"
   ]
  },
  {
   "cell_type": "code",
   "execution_count": 12,
   "id": "e9f83768-cb3e-4d79-a4c3-9269c5055233",
   "metadata": {},
   "outputs": [],
   "source": [
    "#Aplicamos la transformación  a las variables catgeoricas\n",
    "encoder = ce.OrdinalEncoder(cols = ['cut','color','clarity'], mapping= codificacion)\n",
    "\n",
    "df_encoded =encoder.fit_transform(df_diamantes)\n"
   ]
  },
  {
   "cell_type": "code",
   "execution_count": 13,
   "id": "9e3fa6b0-be4b-4627-94e5-61670b1917da",
   "metadata": {},
   "outputs": [
    {
     "data": {
      "text/plain": [
       "([array([5, 2, 6, 4, 3, 1, 7])],\n",
       " [array([3, 5, 2, 4, 1])],\n",
       " [array([2, 4, 6, 8, 3, 7, 5, 1])])"
      ]
     },
     "execution_count": 13,
     "metadata": {},
     "output_type": "execute_result"
    }
   ],
   "source": [
    "#Comprobacion de la transformacion\n",
    "v_colors =[df_encoded['color'].unique()]\n",
    "v_cut = [df_encoded['cut'].unique()]\n",
    "v_clarity = [df_encoded['clarity'].unique()]\n",
    "\n",
    "v_colors, v_cut, v_clarity"
   ]
  },
  {
   "cell_type": "code",
   "execution_count": 14,
   "id": "d1f2a5a6-6202-4358-aeed-0dbd8bc9511e",
   "metadata": {},
   "outputs": [
    {
     "data": {
      "text/html": [
       "<div>\n",
       "<style scoped>\n",
       "    .dataframe tbody tr th:only-of-type {\n",
       "        vertical-align: middle;\n",
       "    }\n",
       "\n",
       "    .dataframe tbody tr th {\n",
       "        vertical-align: top;\n",
       "    }\n",
       "\n",
       "    .dataframe thead th {\n",
       "        text-align: right;\n",
       "    }\n",
       "</style>\n",
       "<table border=\"1\" class=\"dataframe\">\n",
       "  <thead>\n",
       "    <tr style=\"text-align: right;\">\n",
       "      <th></th>\n",
       "      <th>carat</th>\n",
       "      <th>cut</th>\n",
       "      <th>color</th>\n",
       "      <th>clarity</th>\n",
       "      <th>depth</th>\n",
       "      <th>table</th>\n",
       "      <th>price</th>\n",
       "      <th>x</th>\n",
       "      <th>y</th>\n",
       "      <th>z</th>\n",
       "      <th>id</th>\n",
       "    </tr>\n",
       "  </thead>\n",
       "  <tbody>\n",
       "    <tr>\n",
       "      <th>count</th>\n",
       "      <td>35940.000000</td>\n",
       "      <td>35940.000000</td>\n",
       "      <td>35940.000000</td>\n",
       "      <td>35940.000000</td>\n",
       "      <td>35940.000000</td>\n",
       "      <td>35940.000000</td>\n",
       "      <td>35940.000000</td>\n",
       "      <td>35940.000000</td>\n",
       "      <td>35940.000000</td>\n",
       "      <td>35940.000000</td>\n",
       "      <td>35940.000000</td>\n",
       "    </tr>\n",
       "    <tr>\n",
       "      <th>mean</th>\n",
       "      <td>0.907500</td>\n",
       "      <td>3.904897</td>\n",
       "      <td>4.396272</td>\n",
       "      <td>4.058932</td>\n",
       "      <td>61.756210</td>\n",
       "      <td>57.461753</td>\n",
       "      <td>3930.117835</td>\n",
       "      <td>5.728928</td>\n",
       "      <td>5.731430</td>\n",
       "      <td>3.537112</td>\n",
       "      <td>17969.500000</td>\n",
       "    </tr>\n",
       "    <tr>\n",
       "      <th>std</th>\n",
       "      <td>2.098015</td>\n",
       "      <td>1.115906</td>\n",
       "      <td>1.699530</td>\n",
       "      <td>1.648053</td>\n",
       "      <td>1.431872</td>\n",
       "      <td>2.240414</td>\n",
       "      <td>3982.706797</td>\n",
       "      <td>1.121504</td>\n",
       "      <td>1.121685</td>\n",
       "      <td>0.695298</td>\n",
       "      <td>10375.128674</td>\n",
       "    </tr>\n",
       "    <tr>\n",
       "      <th>min</th>\n",
       "      <td>0.200000</td>\n",
       "      <td>1.000000</td>\n",
       "      <td>1.000000</td>\n",
       "      <td>1.000000</td>\n",
       "      <td>43.000000</td>\n",
       "      <td>44.000000</td>\n",
       "      <td>326.000000</td>\n",
       "      <td>0.000000</td>\n",
       "      <td>0.000000</td>\n",
       "      <td>0.000000</td>\n",
       "      <td>0.000000</td>\n",
       "    </tr>\n",
       "    <tr>\n",
       "      <th>25%</th>\n",
       "      <td>0.400000</td>\n",
       "      <td>3.000000</td>\n",
       "      <td>3.000000</td>\n",
       "      <td>3.000000</td>\n",
       "      <td>61.100000</td>\n",
       "      <td>56.000000</td>\n",
       "      <td>949.000000</td>\n",
       "      <td>4.710000</td>\n",
       "      <td>4.720000</td>\n",
       "      <td>2.910000</td>\n",
       "      <td>8984.750000</td>\n",
       "    </tr>\n",
       "    <tr>\n",
       "      <th>50%</th>\n",
       "      <td>0.700000</td>\n",
       "      <td>4.000000</td>\n",
       "      <td>4.000000</td>\n",
       "      <td>4.000000</td>\n",
       "      <td>61.900000</td>\n",
       "      <td>57.000000</td>\n",
       "      <td>2394.000000</td>\n",
       "      <td>5.690000</td>\n",
       "      <td>5.710000</td>\n",
       "      <td>3.520000</td>\n",
       "      <td>17969.500000</td>\n",
       "    </tr>\n",
       "    <tr>\n",
       "      <th>75%</th>\n",
       "      <td>1.050000</td>\n",
       "      <td>5.000000</td>\n",
       "      <td>6.000000</td>\n",
       "      <td>5.000000</td>\n",
       "      <td>62.500000</td>\n",
       "      <td>59.000000</td>\n",
       "      <td>5362.250000</td>\n",
       "      <td>6.540000</td>\n",
       "      <td>6.540000</td>\n",
       "      <td>4.040000</td>\n",
       "      <td>26954.250000</td>\n",
       "    </tr>\n",
       "    <tr>\n",
       "      <th>max</th>\n",
       "      <td>49.990359</td>\n",
       "      <td>5.000000</td>\n",
       "      <td>7.000000</td>\n",
       "      <td>8.000000</td>\n",
       "      <td>79.000000</td>\n",
       "      <td>95.000000</td>\n",
       "      <td>18823.000000</td>\n",
       "      <td>10.230000</td>\n",
       "      <td>31.800000</td>\n",
       "      <td>6.720000</td>\n",
       "      <td>35939.000000</td>\n",
       "    </tr>\n",
       "  </tbody>\n",
       "</table>\n",
       "</div>"
      ],
      "text/plain": [
       "              carat           cut         color       clarity         depth  \\\n",
       "count  35940.000000  35940.000000  35940.000000  35940.000000  35940.000000   \n",
       "mean       0.907500      3.904897      4.396272      4.058932     61.756210   \n",
       "std        2.098015      1.115906      1.699530      1.648053      1.431872   \n",
       "min        0.200000      1.000000      1.000000      1.000000     43.000000   \n",
       "25%        0.400000      3.000000      3.000000      3.000000     61.100000   \n",
       "50%        0.700000      4.000000      4.000000      4.000000     61.900000   \n",
       "75%        1.050000      5.000000      6.000000      5.000000     62.500000   \n",
       "max       49.990359      5.000000      7.000000      8.000000     79.000000   \n",
       "\n",
       "              table         price             x             y             z  \\\n",
       "count  35940.000000  35940.000000  35940.000000  35940.000000  35940.000000   \n",
       "mean      57.461753   3930.117835      5.728928      5.731430      3.537112   \n",
       "std        2.240414   3982.706797      1.121504      1.121685      0.695298   \n",
       "min       44.000000    326.000000      0.000000      0.000000      0.000000   \n",
       "25%       56.000000    949.000000      4.710000      4.720000      2.910000   \n",
       "50%       57.000000   2394.000000      5.690000      5.710000      3.520000   \n",
       "75%       59.000000   5362.250000      6.540000      6.540000      4.040000   \n",
       "max       95.000000  18823.000000     10.230000     31.800000      6.720000   \n",
       "\n",
       "                 id  \n",
       "count  35940.000000  \n",
       "mean   17969.500000  \n",
       "std    10375.128674  \n",
       "min        0.000000  \n",
       "25%     8984.750000  \n",
       "50%    17969.500000  \n",
       "75%    26954.250000  \n",
       "max    35939.000000  "
      ]
     },
     "execution_count": 14,
     "metadata": {},
     "output_type": "execute_result"
    }
   ],
   "source": [
    "df_encoded.describe()"
   ]
  },
  {
   "cell_type": "code",
   "execution_count": 15,
   "id": "022391b4-4383-4a91-acf7-95f3f11119ef",
   "metadata": {},
   "outputs": [
    {
     "data": {
      "text/html": [
       "<div>\n",
       "<style scoped>\n",
       "    .dataframe tbody tr th:only-of-type {\n",
       "        vertical-align: middle;\n",
       "    }\n",
       "\n",
       "    .dataframe tbody tr th {\n",
       "        vertical-align: top;\n",
       "    }\n",
       "\n",
       "    .dataframe thead th {\n",
       "        text-align: right;\n",
       "    }\n",
       "</style>\n",
       "<table border=\"1\" class=\"dataframe\">\n",
       "  <thead>\n",
       "    <tr style=\"text-align: right;\">\n",
       "      <th></th>\n",
       "      <th>carat</th>\n",
       "      <th>cut</th>\n",
       "      <th>color</th>\n",
       "      <th>clarity</th>\n",
       "      <th>depth</th>\n",
       "      <th>table</th>\n",
       "      <th>price</th>\n",
       "      <th>x</th>\n",
       "      <th>y</th>\n",
       "      <th>z</th>\n",
       "      <th>id</th>\n",
       "    </tr>\n",
       "  </thead>\n",
       "  <tbody>\n",
       "  </tbody>\n",
       "</table>\n",
       "</div>"
      ],
      "text/plain": [
       "Empty DataFrame\n",
       "Columns: [carat, cut, color, clarity, depth, table, price, x, y, z, id]\n",
       "Index: []"
      ]
     },
     "execution_count": 15,
     "metadata": {},
     "output_type": "execute_result"
    }
   ],
   "source": [
    "#Comprobacion duplicados\n",
    "\n",
    "df_encoded[df_encoded.duplicated()]"
   ]
  },
  {
   "cell_type": "code",
   "execution_count": 16,
   "id": "6fc97364-e7a8-431f-927f-030a8ec3b408",
   "metadata": {},
   "outputs": [
    {
     "data": {
      "text/plain": [
       "<AxesSubplot:>"
      ]
     },
     "execution_count": 16,
     "metadata": {},
     "output_type": "execute_result"
    },
    {
     "data": {
      "image/png": "[encoded data removed]",
      "text/plain": [
       "<Figure size 576x576 with 1 Axes>"
      ]
     },
     "metadata": {
      "needs_background": "light"
     },
     "output_type": "display_data"
    }
   ],
   "source": [
    "plt.figure(figsize=(8,8))\n",
    "df_encoded.boxplot(['carat','cut','color', 'clarity','depth','table','x','y','z'])"
   ]
  },
  {
   "cell_type": "code",
   "execution_count": 17,
   "id": "825811ae-c2ac-47f0-ba5d-9b0327c1ac27",
   "metadata": {},
   "outputs": [
    {
     "data": {
      "text/plain": [
       "<AxesSubplot:>"
      ]
     },
     "execution_count": 17,
     "metadata": {},
     "output_type": "execute_result"
    },
    {
     "data": {
      "image/png": "[encoded data removed]",
      "text/plain": [
       "<Figure size 576x576 with 1 Axes>"
      ]
     },
     "metadata": {
      "needs_background": "light"
     },
     "output_type": "display_data"
    }
   ],
   "source": [
    "plt.figure(figsize=(8,8))\n",
    "df_encoded.boxplot('carat')"
   ]
  },
  {
   "cell_type": "code",
   "execution_count": 18,
   "id": "08985438-e20e-49f1-b6ee-092d05bdd2fe",
   "metadata": {},
   "outputs": [],
   "source": [
    "#Analisis de outlier carat. Se determinan como outliers los superiores a 10.\n",
    "outlier1 = df_encoded[df_encoded['carat'] >10]"
   ]
  },
  {
   "cell_type": "code",
   "execution_count": 19,
   "id": "5c126d7e-0a77-4860-9e9e-ebc2038bb5bf",
   "metadata": {},
   "outputs": [],
   "source": [
    "clean_index=[i for i in df_encoded.index if i not in outlier1.index] "
   ]
  },
  {
   "cell_type": "code",
   "execution_count": 20,
   "id": "0ed07fa9-e994-4366-8b41-7782f32bd8a2",
   "metadata": {},
   "outputs": [
    {
     "data": {
      "text/plain": [
       "(35830, 11)"
      ]
     },
     "execution_count": 20,
     "metadata": {},
     "output_type": "execute_result"
    }
   ],
   "source": [
    "df=df_encoded.iloc[clean_index]  # selecciona en el df esos indices, los que NO son outliers\n",
    "df.reset_index(inplace=True, drop=True)\n",
    "df.shape"
   ]
  },
  {
   "cell_type": "code",
   "execution_count": 21,
   "id": "395dd162-bc20-45c3-a2e7-acaa8644f6f3",
   "metadata": {},
   "outputs": [
    {
     "data": {
      "text/plain": [
       "<AxesSubplot:>"
      ]
     },
     "execution_count": 21,
     "metadata": {},
     "output_type": "execute_result"
    },
    {
     "data": {
      "image/png": "[encoded data removed]",
      "text/plain": [
       "<Figure size 576x576 with 1 Axes>"
      ]
     },
     "metadata": {
      "needs_background": "light"
     },
     "output_type": "display_data"
    }
   ],
   "source": [
    "plt.figure(figsize=(8,8))\n",
    "df.boxplot(['carat','cut','color', 'clarity','depth','table','x','y','z'])"
   ]
  },
  {
   "cell_type": "code",
   "execution_count": 22,
   "id": "cbc5d47d-2ad7-4cb7-8db7-04f1a9bb303d",
   "metadata": {},
   "outputs": [],
   "source": [
    "#************* Busqueda ourliers"
   ]
  },
  {
   "cell_type": "code",
   "execution_count": 23,
   "id": "fcaecacd-c523-4c6d-87f7-306b80db37e2",
   "metadata": {},
   "outputs": [],
   "source": [
    "df_encoded3 = df.drop(['id','carat','price'],axis=1)\n"
   ]
  },
  {
   "cell_type": "code",
   "execution_count": 24,
   "id": "6712ef2e-7833-4ce6-a7e7-5e208df0fb92",
   "metadata": {
    "tags": []
   },
   "outputs": [
    {
     "data": {
      "text/html": [
       "<div>\n",
       "<style scoped>\n",
       "    .dataframe tbody tr th:only-of-type {\n",
       "        vertical-align: middle;\n",
       "    }\n",
       "\n",
       "    .dataframe tbody tr th {\n",
       "        vertical-align: top;\n",
       "    }\n",
       "\n",
       "    .dataframe thead th {\n",
       "        text-align: right;\n",
       "    }\n",
       "</style>\n",
       "<table border=\"1\" class=\"dataframe\">\n",
       "  <thead>\n",
       "    <tr style=\"text-align: right;\">\n",
       "      <th></th>\n",
       "      <th>count</th>\n",
       "      <th>mean</th>\n",
       "      <th>std</th>\n",
       "      <th>min</th>\n",
       "      <th>25%</th>\n",
       "      <th>50%</th>\n",
       "      <th>75%</th>\n",
       "      <th>max</th>\n",
       "      <th>IQR</th>\n",
       "    </tr>\n",
       "  </thead>\n",
       "  <tbody>\n",
       "    <tr>\n",
       "      <th>cut</th>\n",
       "      <td>35830.0</td>\n",
       "      <td>3.904773</td>\n",
       "      <td>1.115420</td>\n",
       "      <td>1.0</td>\n",
       "      <td>3.00</td>\n",
       "      <td>4.00</td>\n",
       "      <td>5.00</td>\n",
       "      <td>5.00</td>\n",
       "      <td>2.00</td>\n",
       "    </tr>\n",
       "    <tr>\n",
       "      <th>color</th>\n",
       "      <td>35830.0</td>\n",
       "      <td>4.396511</td>\n",
       "      <td>1.699589</td>\n",
       "      <td>1.0</td>\n",
       "      <td>3.00</td>\n",
       "      <td>4.00</td>\n",
       "      <td>6.00</td>\n",
       "      <td>7.00</td>\n",
       "      <td>3.00</td>\n",
       "    </tr>\n",
       "    <tr>\n",
       "      <th>clarity</th>\n",
       "      <td>35830.0</td>\n",
       "      <td>4.058443</td>\n",
       "      <td>1.648080</td>\n",
       "      <td>1.0</td>\n",
       "      <td>3.00</td>\n",
       "      <td>4.00</td>\n",
       "      <td>5.00</td>\n",
       "      <td>8.00</td>\n",
       "      <td>2.00</td>\n",
       "    </tr>\n",
       "    <tr>\n",
       "      <th>depth</th>\n",
       "      <td>35830.0</td>\n",
       "      <td>61.756068</td>\n",
       "      <td>1.431242</td>\n",
       "      <td>43.0</td>\n",
       "      <td>61.10</td>\n",
       "      <td>61.90</td>\n",
       "      <td>62.50</td>\n",
       "      <td>79.00</td>\n",
       "      <td>1.40</td>\n",
       "    </tr>\n",
       "    <tr>\n",
       "      <th>table</th>\n",
       "      <td>35830.0</td>\n",
       "      <td>57.462012</td>\n",
       "      <td>2.240643</td>\n",
       "      <td>44.0</td>\n",
       "      <td>56.00</td>\n",
       "      <td>57.00</td>\n",
       "      <td>59.00</td>\n",
       "      <td>95.00</td>\n",
       "      <td>3.00</td>\n",
       "    </tr>\n",
       "    <tr>\n",
       "      <th>x</th>\n",
       "      <td>35830.0</td>\n",
       "      <td>5.729133</td>\n",
       "      <td>1.121617</td>\n",
       "      <td>0.0</td>\n",
       "      <td>4.71</td>\n",
       "      <td>5.69</td>\n",
       "      <td>6.54</td>\n",
       "      <td>10.23</td>\n",
       "      <td>1.83</td>\n",
       "    </tr>\n",
       "    <tr>\n",
       "      <th>y</th>\n",
       "      <td>35830.0</td>\n",
       "      <td>5.731629</td>\n",
       "      <td>1.121802</td>\n",
       "      <td>0.0</td>\n",
       "      <td>4.72</td>\n",
       "      <td>5.71</td>\n",
       "      <td>6.54</td>\n",
       "      <td>31.80</td>\n",
       "      <td>1.82</td>\n",
       "    </tr>\n",
       "    <tr>\n",
       "      <th>z</th>\n",
       "      <td>35830.0</td>\n",
       "      <td>3.537347</td>\n",
       "      <td>0.695115</td>\n",
       "      <td>0.0</td>\n",
       "      <td>2.91</td>\n",
       "      <td>3.52</td>\n",
       "      <td>4.04</td>\n",
       "      <td>6.72</td>\n",
       "      <td>1.13</td>\n",
       "    </tr>\n",
       "  </tbody>\n",
       "</table>\n",
       "</div>"
      ],
      "text/plain": [
       "           count       mean       std   min    25%    50%    75%    max   IQR\n",
       "cut      35830.0   3.904773  1.115420   1.0   3.00   4.00   5.00   5.00  2.00\n",
       "color    35830.0   4.396511  1.699589   1.0   3.00   4.00   6.00   7.00  3.00\n",
       "clarity  35830.0   4.058443  1.648080   1.0   3.00   4.00   5.00   8.00  2.00\n",
       "depth    35830.0  61.756068  1.431242  43.0  61.10  61.90  62.50  79.00  1.40\n",
       "table    35830.0  57.462012  2.240643  44.0  56.00  57.00  59.00  95.00  3.00\n",
       "x        35830.0   5.729133  1.121617   0.0   4.71   5.69   6.54  10.23  1.83\n",
       "y        35830.0   5.731629  1.121802   0.0   4.72   5.71   6.54  31.80  1.82\n",
       "z        35830.0   3.537347  0.695115   0.0   2.91   3.52   4.04   6.72  1.13"
      ]
     },
     "execution_count": 24,
     "metadata": {},
     "output_type": "execute_result"
    }
   ],
   "source": [
    "\n",
    "\n",
    "\n",
    "\n",
    "\n",
    "stats=df_encoded3.describe().T\n",
    "\n",
    "stats['IQR']=stats['75%'] - stats['25%']\n",
    "\n",
    "stats"
   ]
  },
  {
   "cell_type": "code",
   "execution_count": 25,
   "id": "32b53dc1-39bb-4042-97e5-800ab6debfd2",
   "metadata": {},
   "outputs": [
    {
     "data": {
      "text/plain": [
       "'cut'"
      ]
     },
     "execution_count": 25,
     "metadata": {},
     "output_type": "execute_result"
    }
   ],
   "source": [
    "outliers=pd.DataFrame(columns=df.columns)\n",
    "\n",
    "outliers\n",
    "stats.index[0]"
   ]
  },
  {
   "cell_type": "code",
   "execution_count": 26,
   "id": "3f2bfb85-d36e-4b8d-8fcb-d807df56497e",
   "metadata": {},
   "outputs": [
    {
     "data": {
      "text/plain": [
       "depth    1978\n",
       "table     412\n",
       "z          30\n",
       "x          20\n",
       "y          17\n",
       "Name: outliers, dtype: int64"
      ]
     },
     "execution_count": 26,
     "metadata": {},
     "output_type": "execute_result"
    }
   ],
   "source": [
    "\n",
    "for e in stats.index:\n",
    "    \n",
    "    iqr=stats.at[e, 'IQR']\n",
    "    \n",
    "    cutoff=1.5*iqr\n",
    "    \n",
    "    lower=stats.at[e, '25%']-cutoff\n",
    "    upper=stats.at[e, '75%']+cutoff\n",
    "    \n",
    "    results=df[(df[e]<lower) | (df[e]>upper)].copy()\n",
    "    \n",
    "    results['outliers']=e\n",
    "    outliers=outliers.append(results, sort=True)\n",
    "    \n",
    "outliers['outliers'].value_counts()"
   ]
  },
  {
   "cell_type": "code",
   "execution_count": 27,
   "id": "9e0f7e60-22ac-4e2a-acad-8fd458c4c592",
   "metadata": {},
   "outputs": [
    {
     "data": {
      "text/html": [
       "<div>\n",
       "<style scoped>\n",
       "    .dataframe tbody tr th:only-of-type {\n",
       "        vertical-align: middle;\n",
       "    }\n",
       "\n",
       "    .dataframe tbody tr th {\n",
       "        vertical-align: top;\n",
       "    }\n",
       "\n",
       "    .dataframe thead th {\n",
       "        text-align: right;\n",
       "    }\n",
       "</style>\n",
       "<table border=\"1\" class=\"dataframe\">\n",
       "  <thead>\n",
       "    <tr style=\"text-align: right;\">\n",
       "      <th></th>\n",
       "      <th>carat</th>\n",
       "      <th>clarity</th>\n",
       "      <th>color</th>\n",
       "      <th>cut</th>\n",
       "      <th>depth</th>\n",
       "      <th>id</th>\n",
       "      <th>outliers</th>\n",
       "      <th>price</th>\n",
       "      <th>table</th>\n",
       "      <th>x</th>\n",
       "      <th>y</th>\n",
       "      <th>z</th>\n",
       "    </tr>\n",
       "  </thead>\n",
       "  <tbody>\n",
       "    <tr>\n",
       "      <th>11</th>\n",
       "      <td>1.01</td>\n",
       "      <td>4</td>\n",
       "      <td>5</td>\n",
       "      <td>3</td>\n",
       "      <td>58.8</td>\n",
       "      <td>11</td>\n",
       "      <td>depth</td>\n",
       "      <td>6288.0</td>\n",
       "      <td>59.0</td>\n",
       "      <td>6.55</td>\n",
       "      <td>6.59</td>\n",
       "      <td>3.86</td>\n",
       "    </tr>\n",
       "    <tr>\n",
       "      <th>37</th>\n",
       "      <td>0.52</td>\n",
       "      <td>6</td>\n",
       "      <td>6</td>\n",
       "      <td>1</td>\n",
       "      <td>57.2</td>\n",
       "      <td>37</td>\n",
       "      <td>depth</td>\n",
       "      <td>2079.0</td>\n",
       "      <td>64.0</td>\n",
       "      <td>5.27</td>\n",
       "      <td>5.36</td>\n",
       "      <td>3.04</td>\n",
       "    </tr>\n",
       "    <tr>\n",
       "      <th>59</th>\n",
       "      <td>1.02</td>\n",
       "      <td>5</td>\n",
       "      <td>4</td>\n",
       "      <td>2</td>\n",
       "      <td>57.3</td>\n",
       "      <td>59</td>\n",
       "      <td>depth</td>\n",
       "      <td>5706.0</td>\n",
       "      <td>59.0</td>\n",
       "      <td>6.71</td>\n",
       "      <td>6.65</td>\n",
       "      <td>3.83</td>\n",
       "    </tr>\n",
       "    <tr>\n",
       "      <th>62</th>\n",
       "      <td>1.51</td>\n",
       "      <td>4</td>\n",
       "      <td>7</td>\n",
       "      <td>1</td>\n",
       "      <td>66.0</td>\n",
       "      <td>62</td>\n",
       "      <td>depth</td>\n",
       "      <td>15152.0</td>\n",
       "      <td>57.0</td>\n",
       "      <td>7.17</td>\n",
       "      <td>7.08</td>\n",
       "      <td>4.70</td>\n",
       "    </tr>\n",
       "    <tr>\n",
       "      <th>105</th>\n",
       "      <td>0.91</td>\n",
       "      <td>4</td>\n",
       "      <td>7</td>\n",
       "      <td>1</td>\n",
       "      <td>65.1</td>\n",
       "      <td>106</td>\n",
       "      <td>depth</td>\n",
       "      <td>4439.0</td>\n",
       "      <td>63.0</td>\n",
       "      <td>6.02</td>\n",
       "      <td>6.00</td>\n",
       "      <td>3.91</td>\n",
       "    </tr>\n",
       "  </tbody>\n",
       "</table>\n",
       "</div>"
      ],
      "text/plain": [
       "     carat clarity color cut  depth   id outliers    price  table     x     y  \\\n",
       "11    1.01       4     5   3   58.8   11    depth   6288.0   59.0  6.55  6.59   \n",
       "37    0.52       6     6   1   57.2   37    depth   2079.0   64.0  5.27  5.36   \n",
       "59    1.02       5     4   2   57.3   59    depth   5706.0   59.0  6.71  6.65   \n",
       "62    1.51       4     7   1   66.0   62    depth  15152.0   57.0  7.17  7.08   \n",
       "105   0.91       4     7   1   65.1  106    depth   4439.0   63.0  6.02  6.00   \n",
       "\n",
       "        z  \n",
       "11   3.86  \n",
       "37   3.04  \n",
       "59   3.83  \n",
       "62   4.70  \n",
       "105  3.91  "
      ]
     },
     "execution_count": 27,
     "metadata": {},
     "output_type": "execute_result"
    }
   ],
   "source": [
    "outliers.head()"
   ]
  },
  {
   "cell_type": "code",
   "execution_count": 28,
   "id": "9fc66494-6327-4641-a8ec-6adcd6477419",
   "metadata": {
    "tags": []
   },
   "outputs": [
    {
     "data": {
      "text/plain": [
       "33577"
      ]
     },
     "execution_count": 28,
     "metadata": {},
     "output_type": "execute_result"
    }
   ],
   "source": [
    "clean_index=[i for i in df.index if i not in outliers.index]  # selecciono los indices del df que no estan en outliers\n",
    "\n",
    "len(clean_index)"
   ]
  },
  {
   "cell_type": "code",
   "execution_count": 29,
   "id": "7fb31cdc-f0f6-4404-a5dd-ae091bb6790d",
   "metadata": {},
   "outputs": [
    {
     "data": {
      "text/plain": [
       "(33577, 11)"
      ]
     },
     "execution_count": 29,
     "metadata": {},
     "output_type": "execute_result"
    }
   ],
   "source": [
    "df=df.iloc[clean_index]  # selecciona en el df esos indices, los que NO son outliers\n",
    "df.reset_index(inplace=True, drop=True)\n",
    "df.shape"
   ]
  },
  {
   "cell_type": "code",
   "execution_count": 30,
   "id": "7af460fc-dd5d-42a9-994f-4df6d75a88fb",
   "metadata": {
    "tags": []
   },
   "outputs": [],
   "source": [
    "#separacion de datos\n",
    "from sklearn.model_selection import train_test_split as tts\n",
    "X = df.drop(columns=['price','id'])._get_numeric_data()  # datos\n",
    "\n",
    "y = df.price  # objetivo\n",
    "\n",
    "X_train, X_test, y_train, y_test = tts(X, y, test_size=0.2, random_state=42)\n",
    "\n"
   ]
  },
  {
   "cell_type": "code",
   "execution_count": 31,
   "id": "26b08e2f-8ddc-447e-9cae-8750500a18aa",
   "metadata": {},
   "outputs": [
    {
     "data": {
      "text/plain": [
       "((6716, 9), (6716,))"
      ]
     },
     "execution_count": 31,
     "metadata": {},
     "output_type": "execute_result"
    }
   ],
   "source": [
    "X_test.shape, y_test.shape"
   ]
  },
  {
   "cell_type": "code",
   "execution_count": 32,
   "id": "096d7782-55f0-41cf-82a7-7dd1199e2294",
   "metadata": {
    "tags": []
   },
   "outputs": [
    {
     "data": {
      "text/plain": [
       "[Index(['carat', 'cut', 'color', 'clarity', 'depth', 'table', 'x', 'y', 'z'], dtype='object')]"
      ]
     },
     "execution_count": 32,
     "metadata": {},
     "output_type": "execute_result"
    }
   ],
   "source": [
    "Nom_columns =[X_train.columns]\n",
    "Nom_columns"
   ]
  },
  {
   "cell_type": "code",
   "execution_count": 33,
   "id": "d1e30e08-c455-48cb-9071-7a8989c933b2",
   "metadata": {
    "tags": []
   },
   "outputs": [],
   "source": [
    "#normalziacion\n",
    "from sklearn.preprocessing import StandardScaler, MinMaxScaler, RobustScaler\n",
    "X_train =StandardScaler().fit_transform(X_train)\n",
    "X_train = pd.DataFrame(X_train, columns= Nom_columns)\n"
   ]
  },
  {
   "cell_type": "code",
   "execution_count": 34,
   "id": "cf5e0e40-fbe2-44f8-bcbb-b9f31aadee89",
   "metadata": {},
   "outputs": [],
   "source": [
    "X_test =StandardScaler().fit_transform(X_test)\n",
    "X_test = pd.DataFrame(X_test, columns= Nom_columns)"
   ]
  },
  {
   "cell_type": "code",
   "execution_count": 35,
   "id": "a23475f2-a764-40d1-98fe-648d7e91bfaf",
   "metadata": {},
   "outputs": [
    {
     "data": {
      "text/plain": [
       "((6716, 9), (6716,))"
      ]
     },
     "execution_count": 35,
     "metadata": {},
     "output_type": "execute_result"
    }
   ],
   "source": [
    "X_test.shape, y_test.shape"
   ]
  },
  {
   "cell_type": "code",
   "execution_count": 36,
   "id": "35528d6d-157d-4868-82f1-8630aa22605c",
   "metadata": {
    "tags": []
   },
   "outputs": [
    {
     "data": {
      "text/html": [
       "<div>\n",
       "<style scoped>\n",
       "    .dataframe tbody tr th:only-of-type {\n",
       "        vertical-align: middle;\n",
       "    }\n",
       "\n",
       "    .dataframe tbody tr th {\n",
       "        vertical-align: top;\n",
       "    }\n",
       "\n",
       "    .dataframe thead tr th {\n",
       "        text-align: left;\n",
       "    }\n",
       "</style>\n",
       "<table border=\"1\" class=\"dataframe\">\n",
       "  <thead>\n",
       "    <tr>\n",
       "      <th></th>\n",
       "      <th>carat</th>\n",
       "      <th>cut</th>\n",
       "      <th>color</th>\n",
       "      <th>clarity</th>\n",
       "      <th>depth</th>\n",
       "      <th>table</th>\n",
       "      <th>x</th>\n",
       "      <th>y</th>\n",
       "      <th>z</th>\n",
       "    </tr>\n",
       "  </thead>\n",
       "  <tbody>\n",
       "    <tr>\n",
       "      <th>carat</th>\n",
       "      <td>1.000000</td>\n",
       "      <td>-0.110699</td>\n",
       "      <td>-0.287112</td>\n",
       "      <td>-0.342333</td>\n",
       "      <td>0.026075</td>\n",
       "      <td>0.192941</td>\n",
       "      <td>0.980204</td>\n",
       "      <td>0.979448</td>\n",
       "      <td>0.978845</td>\n",
       "    </tr>\n",
       "    <tr>\n",
       "      <th>cut</th>\n",
       "      <td>-0.110699</td>\n",
       "      <td>1.000000</td>\n",
       "      <td>0.015357</td>\n",
       "      <td>0.166087</td>\n",
       "      <td>-0.283194</td>\n",
       "      <td>-0.406336</td>\n",
       "      <td>-0.099709</td>\n",
       "      <td>-0.103294</td>\n",
       "      <td>-0.127308</td>\n",
       "    </tr>\n",
       "    <tr>\n",
       "      <th>color</th>\n",
       "      <td>-0.287112</td>\n",
       "      <td>0.015357</td>\n",
       "      <td>1.000000</td>\n",
       "      <td>-0.030355</td>\n",
       "      <td>-0.047899</td>\n",
       "      <td>-0.031314</td>\n",
       "      <td>-0.265723</td>\n",
       "      <td>-0.265686</td>\n",
       "      <td>-0.268835</td>\n",
       "    </tr>\n",
       "    <tr>\n",
       "      <th>clarity</th>\n",
       "      <td>-0.342333</td>\n",
       "      <td>0.166087</td>\n",
       "      <td>-0.030355</td>\n",
       "      <td>1.000000</td>\n",
       "      <td>-0.069244</td>\n",
       "      <td>-0.162970</td>\n",
       "      <td>-0.361429</td>\n",
       "      <td>-0.356816</td>\n",
       "      <td>-0.364021</td>\n",
       "    </tr>\n",
       "    <tr>\n",
       "      <th>depth</th>\n",
       "      <td>0.026075</td>\n",
       "      <td>-0.283194</td>\n",
       "      <td>-0.047899</td>\n",
       "      <td>-0.069244</td>\n",
       "      <td>1.000000</td>\n",
       "      <td>-0.230057</td>\n",
       "      <td>-0.012749</td>\n",
       "      <td>-0.014405</td>\n",
       "      <td>0.078576</td>\n",
       "    </tr>\n",
       "    <tr>\n",
       "      <th>table</th>\n",
       "      <td>0.192941</td>\n",
       "      <td>-0.406336</td>\n",
       "      <td>-0.031314</td>\n",
       "      <td>-0.162970</td>\n",
       "      <td>-0.230057</td>\n",
       "      <td>1.000000</td>\n",
       "      <td>0.196811</td>\n",
       "      <td>0.191970</td>\n",
       "      <td>0.173980</td>\n",
       "    </tr>\n",
       "    <tr>\n",
       "      <th>x</th>\n",
       "      <td>0.980204</td>\n",
       "      <td>-0.099709</td>\n",
       "      <td>-0.265723</td>\n",
       "      <td>-0.361429</td>\n",
       "      <td>-0.012749</td>\n",
       "      <td>0.196811</td>\n",
       "      <td>1.000000</td>\n",
       "      <td>0.998855</td>\n",
       "      <td>0.994432</td>\n",
       "    </tr>\n",
       "    <tr>\n",
       "      <th>y</th>\n",
       "      <td>0.979448</td>\n",
       "      <td>-0.103294</td>\n",
       "      <td>-0.265686</td>\n",
       "      <td>-0.356816</td>\n",
       "      <td>-0.014405</td>\n",
       "      <td>0.191970</td>\n",
       "      <td>0.998855</td>\n",
       "      <td>1.000000</td>\n",
       "      <td>0.994211</td>\n",
       "    </tr>\n",
       "    <tr>\n",
       "      <th>z</th>\n",
       "      <td>0.978845</td>\n",
       "      <td>-0.127308</td>\n",
       "      <td>-0.268835</td>\n",
       "      <td>-0.364021</td>\n",
       "      <td>0.078576</td>\n",
       "      <td>0.173980</td>\n",
       "      <td>0.994432</td>\n",
       "      <td>0.994211</td>\n",
       "      <td>1.000000</td>\n",
       "    </tr>\n",
       "  </tbody>\n",
       "</table>\n",
       "</div>"
      ],
      "text/plain": [
       "            carat       cut     color   clarity     depth     table         x  \\\n",
       "carat    1.000000 -0.110699 -0.287112 -0.342333  0.026075  0.192941  0.980204   \n",
       "cut     -0.110699  1.000000  0.015357  0.166087 -0.283194 -0.406336 -0.099709   \n",
       "color   -0.287112  0.015357  1.000000 -0.030355 -0.047899 -0.031314 -0.265723   \n",
       "clarity -0.342333  0.166087 -0.030355  1.000000 -0.069244 -0.162970 -0.361429   \n",
       "depth    0.026075 -0.283194 -0.047899 -0.069244  1.000000 -0.230057 -0.012749   \n",
       "table    0.192941 -0.406336 -0.031314 -0.162970 -0.230057  1.000000  0.196811   \n",
       "x        0.980204 -0.099709 -0.265723 -0.361429 -0.012749  0.196811  1.000000   \n",
       "y        0.979448 -0.103294 -0.265686 -0.356816 -0.014405  0.191970  0.998855   \n",
       "z        0.978845 -0.127308 -0.268835 -0.364021  0.078576  0.173980  0.994432   \n",
       "\n",
       "                y         z  \n",
       "carat    0.979448  0.978845  \n",
       "cut     -0.103294 -0.127308  \n",
       "color   -0.265686 -0.268835  \n",
       "clarity -0.356816 -0.364021  \n",
       "depth   -0.014405  0.078576  \n",
       "table    0.191970  0.173980  \n",
       "x        0.998855  0.994432  \n",
       "y        1.000000  0.994211  \n",
       "z        0.994211  1.000000  "
      ]
     },
     "execution_count": 36,
     "metadata": {},
     "output_type": "execute_result"
    }
   ],
   "source": [
    "#correacion\n",
    "X_train.corr()"
   ]
  },
  {
   "cell_type": "code",
   "execution_count": 37,
   "id": "b2c7df68-cd1f-4fa4-b1cd-17f5da84ea72",
   "metadata": {},
   "outputs": [
    {
     "data": {
      "text/plain": [
       "[('carat',), ('y',), ('x',), ('z',)]"
      ]
     },
     "execution_count": 37,
     "metadata": {},
     "output_type": "execute_result"
    }
   ],
   "source": [
    "# criterio de colinealidad\n",
    "\n",
    "colineales=[]\n",
    "\n",
    "for c in X_train._get_numeric_data():  # recorre las columnas del df\n",
    "    \n",
    "    for i in range(len(X_train.corr())): # recorre las filas de la matriz de correlacion\n",
    "        \n",
    "        if abs(X_train.corr()[c][i])>0.9 and abs(X_train.corr()[c][i])<1:\n",
    "            \n",
    "            colineales.append(c)  # añado la columna que voy a borrar\n",
    "            \n",
    "colineales=list(set(colineales))\n",
    "colineales"
   ]
  },
  {
   "cell_type": "code",
   "execution_count": 38,
   "id": "daf8ec39-397f-425f-9d5c-a0baebd4dc34",
   "metadata": {
    "tags": []
   },
   "outputs": [],
   "source": [
    "X_train2 = X_train.drop(['x','y','z'], axis =1)"
   ]
  },
  {
   "cell_type": "code",
   "execution_count": 39,
   "id": "ce7d42ef-cdd0-4279-bfa4-aafa47b49f62",
   "metadata": {
    "tags": []
   },
   "outputs": [],
   "source": [
    "X_test2 = X_test.drop(['x','y','z'], axis =1)"
   ]
  },
  {
   "cell_type": "code",
   "execution_count": 40,
   "id": "2f998b60-e390-4b70-9002-67a22cbf51c8",
   "metadata": {},
   "outputs": [
    {
     "data": {
      "text/plain": [
       "((6716, 6), (6716,))"
      ]
     },
     "execution_count": 40,
     "metadata": {},
     "output_type": "execute_result"
    }
   ],
   "source": [
    "X_test2.shape, y_test.shape"
   ]
  },
  {
   "cell_type": "code",
   "execution_count": 41,
   "id": "5f492c02-c590-4ec6-a996-377eea119a64",
   "metadata": {
    "tags": []
   },
   "outputs": [
    {
     "data": {
      "text/plain": [
       "(0.9971413965075883, 0.9804380574038217)"
      ]
     },
     "execution_count": 41,
     "metadata": {},
     "output_type": "execute_result"
    }
   ],
   "source": [
    "#Definicon del modelo.- Arboles\n",
    "from sklearn.ensemble import RandomForestRegressor as RFR\n",
    "rfr=RFR()\n",
    "rfr.fit(X_train2, y_train)\n",
    "\n",
    "train_score=rfr.score(X_train2, y_train)  # R2 score\n",
    "test_score=rfr.score(X_test2, y_test)\n",
    "\n",
    "\n",
    "train_score, test_score \n",
    "\n"
   ]
  },
  {
   "cell_type": "code",
   "execution_count": 42,
   "id": "bd7bab9b-3596-4b05-a8c5-654bfe7227ec",
   "metadata": {
    "tags": []
   },
   "outputs": [
    {
     "data": {
      "text/html": [
       "<div>\n",
       "<style scoped>\n",
       "    .dataframe tbody tr th:only-of-type {\n",
       "        vertical-align: middle;\n",
       "    }\n",
       "\n",
       "    .dataframe tbody tr th {\n",
       "        vertical-align: top;\n",
       "    }\n",
       "\n",
       "    .dataframe thead th {\n",
       "        text-align: right;\n",
       "    }\n",
       "</style>\n",
       "<table border=\"1\" class=\"dataframe\">\n",
       "  <thead>\n",
       "    <tr style=\"text-align: right;\">\n",
       "      <th></th>\n",
       "      <th>carat</th>\n",
       "      <th>cut</th>\n",
       "      <th>color</th>\n",
       "      <th>clarity</th>\n",
       "      <th>depth</th>\n",
       "      <th>table</th>\n",
       "      <th>x</th>\n",
       "      <th>y</th>\n",
       "      <th>z</th>\n",
       "      <th>id</th>\n",
       "    </tr>\n",
       "  </thead>\n",
       "  <tbody>\n",
       "    <tr>\n",
       "      <th>0</th>\n",
       "      <td>0.70</td>\n",
       "      <td>Good</td>\n",
       "      <td>J</td>\n",
       "      <td>VVS2</td>\n",
       "      <td>64.3</td>\n",
       "      <td>56.0</td>\n",
       "      <td>5.57</td>\n",
       "      <td>5.63</td>\n",
       "      <td>3.60</td>\n",
       "      <td>0</td>\n",
       "    </tr>\n",
       "    <tr>\n",
       "      <th>1</th>\n",
       "      <td>0.31</td>\n",
       "      <td>Premium</td>\n",
       "      <td>E</td>\n",
       "      <td>VVS2</td>\n",
       "      <td>61.9</td>\n",
       "      <td>58.0</td>\n",
       "      <td>4.38</td>\n",
       "      <td>4.35</td>\n",
       "      <td>2.70</td>\n",
       "      <td>1</td>\n",
       "    </tr>\n",
       "    <tr>\n",
       "      <th>2</th>\n",
       "      <td>0.84</td>\n",
       "      <td>Premium</td>\n",
       "      <td>F</td>\n",
       "      <td>SI1</td>\n",
       "      <td>59.0</td>\n",
       "      <td>59.0</td>\n",
       "      <td>6.18</td>\n",
       "      <td>6.13</td>\n",
       "      <td>3.63</td>\n",
       "      <td>2</td>\n",
       "    </tr>\n",
       "    <tr>\n",
       "      <th>3</th>\n",
       "      <td>1.03</td>\n",
       "      <td>Fair</td>\n",
       "      <td>E</td>\n",
       "      <td>SI1</td>\n",
       "      <td>65.1</td>\n",
       "      <td>58.0</td>\n",
       "      <td>6.35</td>\n",
       "      <td>6.24</td>\n",
       "      <td>4.10</td>\n",
       "      <td>3</td>\n",
       "    </tr>\n",
       "    <tr>\n",
       "      <th>4</th>\n",
       "      <td>1.20</td>\n",
       "      <td>Premium</td>\n",
       "      <td>J</td>\n",
       "      <td>SI1</td>\n",
       "      <td>60.5</td>\n",
       "      <td>59.0</td>\n",
       "      <td>6.84</td>\n",
       "      <td>6.79</td>\n",
       "      <td>4.12</td>\n",
       "      <td>4</td>\n",
       "    </tr>\n",
       "  </tbody>\n",
       "</table>\n",
       "</div>"
      ],
      "text/plain": [
       "   carat      cut color clarity  depth  table     x     y     z  id\n",
       "0   0.70     Good     J    VVS2   64.3   56.0  5.57  5.63  3.60   0\n",
       "1   0.31  Premium     E    VVS2   61.9   58.0  4.38  4.35  2.70   1\n",
       "2   0.84  Premium     F     SI1   59.0   59.0  6.18  6.13  3.63   2\n",
       "3   1.03     Fair     E     SI1   65.1   58.0  6.35  6.24  4.10   3\n",
       "4   1.20  Premium     J     SI1   60.5   59.0  6.84  6.79  4.12   4"
      ]
     },
     "execution_count": 42,
     "metadata": {},
     "output_type": "execute_result"
    }
   ],
   "source": [
    "df_diamantes_prediccion.head()"
   ]
  },
  {
   "cell_type": "code",
   "execution_count": 43,
   "id": "904c150b-dfea-41c4-abb1-cb4c98c0fd64",
   "metadata": {},
   "outputs": [
    {
     "data": {
      "text/plain": [
       "0            0\n",
       "1            1\n",
       "2            2\n",
       "3            3\n",
       "4            4\n",
       "         ...  \n",
       "11995    11995\n",
       "11996    11996\n",
       "11997    11997\n",
       "11998    11998\n",
       "11999    11999\n",
       "Name: id, Length: 12000, dtype: int64"
      ]
     },
     "execution_count": 43,
     "metadata": {},
     "output_type": "execute_result"
    }
   ],
   "source": [
    "df_diamantes_prediccion['id']"
   ]
  },
  {
   "cell_type": "code",
   "execution_count": 44,
   "id": "fa31f088-f712-46b4-8f6d-486e66292967",
   "metadata": {},
   "outputs": [
    {
     "data": {
      "text/plain": [
       "([array(['J', 'E', 'F', 'I', 'G', 'D', 'H'], dtype=object)],\n",
       " [array(['Good', 'Premium', 'Fair', 'Very Geod', 'Ideal', 'Very Good'],\n",
       "        dtype=object)],\n",
       " [array(['VVS2', 'SI1', 'VS1', 'SI2', 'VS2', 'VVS1', 'I1', 'IF'],\n",
       "        dtype=object)])"
      ]
     },
     "execution_count": 44,
     "metadata": {},
     "output_type": "execute_result"
    }
   ],
   "source": [
    "# Ajuste del test_competicion.\n",
    "\n",
    "v_colors =[df_diamantes_prediccion['color'].unique()]\n",
    "v_cut = [df_diamantes_prediccion['cut'].unique()]\n",
    "v_clarity = [df_diamantes_prediccion['clarity'].unique()]\n",
    "\n",
    "v_colors, v_cut, v_clarity"
   ]
  },
  {
   "cell_type": "code",
   "execution_count": 45,
   "id": "1f6d904a-7016-4627-98c2-24eec74bfc2c",
   "metadata": {
    "tags": []
   },
   "outputs": [],
   "source": [
    "codificacion = [{'col':'cut','mapping':{'Very Good':3, 'Ideal':5, 'Good':2, 'Premium':4, 'Fair':1}},\n",
    "                {'col' :'color', 'mapping':{'F':5, 'I':2, 'E':6, 'G':4, 'H':3, 'J':1, 'D':7}},\n",
    "                {'col' : 'clarity', 'mapping':{'SI2':2, 'VS2':4, 'VVS2':6, 'IF':8, 'SI1':3, 'VVS1':7, 'VS1':5, 'I1':1}}]\n",
    "\n",
    "df_diamantes_prediccion.loc[(df_diamantes_prediccion['cut'] == 'Very Geod'),'cut']='Very Good'\n",
    "\n",
    "encoder = ce.OrdinalEncoder(cols = ['cut','color','clarity'], mapping= codificacion)\n",
    "df_encoded2 =encoder.fit_transform(df_diamantes_prediccion)"
   ]
  },
  {
   "cell_type": "code",
   "execution_count": 46,
   "id": "cdad1990-f163-48c5-98e9-cd5ee372065b",
   "metadata": {},
   "outputs": [],
   "source": [
    "df_enc2 = df_encoded2.drop('id',axis =1)"
   ]
  },
  {
   "cell_type": "code",
   "execution_count": 47,
   "id": "aaf56af5-975b-447e-b855-22f422fac8a9",
   "metadata": {},
   "outputs": [],
   "source": [
    "df_prediccion =StandardScaler().fit_transform(df_enc2)\n",
    "df_prediccion = pd.DataFrame(df_prediccion,columns=Nom_columns)\n",
    "df_prediccion = df_prediccion.drop(['x','y','z'], axis =1)"
   ]
  },
  {
   "cell_type": "code",
   "execution_count": 48,
   "id": "5a5bc3e0-e0f8-4957-b269-af0daeaaf824",
   "metadata": {},
   "outputs": [],
   "source": [
    "y_pred=rfr.predict(df_prediccion)"
   ]
  },
  {
   "cell_type": "code",
   "execution_count": 49,
   "id": "69bff244-463f-4f32-a39c-cf10e4daf988",
   "metadata": {},
   "outputs": [
    {
     "data": {
      "text/plain": [
       "array([2112.62      , 3047.25      , 2720.55      , ..., 5319.80933333,\n",
       "       3057.16      , 3901.07      ])"
      ]
     },
     "execution_count": 49,
     "metadata": {},
     "output_type": "execute_result"
    }
   ],
   "source": [
    "y_pred"
   ]
  },
  {
   "cell_type": "code",
   "execution_count": 50,
   "id": "5df50b20-6b7e-43ce-b3ab-b5b0acc19003",
   "metadata": {
    "tags": []
   },
   "outputs": [
    {
     "data": {
      "text/html": [
       "<div>\n",
       "<style scoped>\n",
       "    .dataframe tbody tr th:only-of-type {\n",
       "        vertical-align: middle;\n",
       "    }\n",
       "\n",
       "    .dataframe tbody tr th {\n",
       "        vertical-align: top;\n",
       "    }\n",
       "\n",
       "    .dataframe thead th {\n",
       "        text-align: right;\n",
       "    }\n",
       "</style>\n",
       "<table border=\"1\" class=\"dataframe\">\n",
       "  <thead>\n",
       "    <tr style=\"text-align: right;\">\n",
       "      <th></th>\n",
       "      <th>price</th>\n",
       "    </tr>\n",
       "  </thead>\n",
       "  <tbody>\n",
       "    <tr>\n",
       "      <th>0</th>\n",
       "      <td>2112.6</td>\n",
       "    </tr>\n",
       "    <tr>\n",
       "      <th>1</th>\n",
       "      <td>3047.2</td>\n",
       "    </tr>\n",
       "    <tr>\n",
       "      <th>2</th>\n",
       "      <td>2720.6</td>\n",
       "    </tr>\n",
       "    <tr>\n",
       "      <th>3</th>\n",
       "      <td>3112.5</td>\n",
       "    </tr>\n",
       "    <tr>\n",
       "      <th>4</th>\n",
       "      <td>2604.5</td>\n",
       "    </tr>\n",
       "    <tr>\n",
       "      <th>...</th>\n",
       "      <td>...</td>\n",
       "    </tr>\n",
       "    <tr>\n",
       "      <th>11995</th>\n",
       "      <td>3711.5</td>\n",
       "    </tr>\n",
       "    <tr>\n",
       "      <th>11996</th>\n",
       "      <td>1960.4</td>\n",
       "    </tr>\n",
       "    <tr>\n",
       "      <th>11997</th>\n",
       "      <td>5319.8</td>\n",
       "    </tr>\n",
       "    <tr>\n",
       "      <th>11998</th>\n",
       "      <td>3057.2</td>\n",
       "    </tr>\n",
       "    <tr>\n",
       "      <th>11999</th>\n",
       "      <td>3901.1</td>\n",
       "    </tr>\n",
       "  </tbody>\n",
       "</table>\n",
       "<p>12000 rows × 1 columns</p>\n",
       "</div>"
      ],
      "text/plain": [
       "        price\n",
       "0      2112.6\n",
       "1      3047.2\n",
       "2      2720.6\n",
       "3      3112.5\n",
       "4      2604.5\n",
       "...       ...\n",
       "11995  3711.5\n",
       "11996  1960.4\n",
       "11997  5319.8\n",
       "11998  3057.2\n",
       "11999  3901.1\n",
       "\n",
       "[12000 rows x 1 columns]"
      ]
     },
     "execution_count": 50,
     "metadata": {},
     "output_type": "execute_result"
    }
   ],
   "source": [
    "y_pred= pd.DataFrame(y_pred)\n",
    "y_pred.columns=['price']\n",
    "y_pred =y_pred.round(1)\n",
    "y_pred"
   ]
  },
  {
   "cell_type": "code",
   "execution_count": 51,
   "id": "e1774788-39ce-4116-b4c3-6ad8fa0b0055",
   "metadata": {},
   "outputs": [
    {
     "data": {
      "text/plain": [
       "(12000, 12000)"
      ]
     },
     "execution_count": 51,
     "metadata": {},
     "output_type": "execute_result"
    }
   ],
   "source": [
    "len(y_pred), len(df_diamantes_prediccion)"
   ]
  },
  {
   "cell_type": "code",
   "execution_count": 52,
   "id": "6a51a718-61f2-4cea-94a5-f9f4a1a2bc31",
   "metadata": {
    "tags": []
   },
   "outputs": [],
   "source": [
    "id_column = df\n",
    "y_pred.insert(1,'id',df_diamantes_prediccion['id'], True)"
   ]
  },
  {
   "cell_type": "code",
   "execution_count": 53,
   "id": "783b9225-376b-4564-a3dc-1a068a08cd09",
   "metadata": {},
   "outputs": [
    {
     "data": {
      "text/html": [
       "<div>\n",
       "<style scoped>\n",
       "    .dataframe tbody tr th:only-of-type {\n",
       "        vertical-align: middle;\n",
       "    }\n",
       "\n",
       "    .dataframe tbody tr th {\n",
       "        vertical-align: top;\n",
       "    }\n",
       "\n",
       "    .dataframe thead th {\n",
       "        text-align: right;\n",
       "    }\n",
       "</style>\n",
       "<table border=\"1\" class=\"dataframe\">\n",
       "  <thead>\n",
       "    <tr style=\"text-align: right;\">\n",
       "      <th></th>\n",
       "      <th>price</th>\n",
       "      <th>id</th>\n",
       "    </tr>\n",
       "  </thead>\n",
       "  <tbody>\n",
       "    <tr>\n",
       "      <th>0</th>\n",
       "      <td>2112.6</td>\n",
       "      <td>0</td>\n",
       "    </tr>\n",
       "    <tr>\n",
       "      <th>1</th>\n",
       "      <td>3047.2</td>\n",
       "      <td>1</td>\n",
       "    </tr>\n",
       "    <tr>\n",
       "      <th>2</th>\n",
       "      <td>2720.6</td>\n",
       "      <td>2</td>\n",
       "    </tr>\n",
       "    <tr>\n",
       "      <th>3</th>\n",
       "      <td>3112.5</td>\n",
       "      <td>3</td>\n",
       "    </tr>\n",
       "    <tr>\n",
       "      <th>4</th>\n",
       "      <td>2604.5</td>\n",
       "      <td>4</td>\n",
       "    </tr>\n",
       "    <tr>\n",
       "      <th>...</th>\n",
       "      <td>...</td>\n",
       "      <td>...</td>\n",
       "    </tr>\n",
       "    <tr>\n",
       "      <th>11995</th>\n",
       "      <td>3711.5</td>\n",
       "      <td>11995</td>\n",
       "    </tr>\n",
       "    <tr>\n",
       "      <th>11996</th>\n",
       "      <td>1960.4</td>\n",
       "      <td>11996</td>\n",
       "    </tr>\n",
       "    <tr>\n",
       "      <th>11997</th>\n",
       "      <td>5319.8</td>\n",
       "      <td>11997</td>\n",
       "    </tr>\n",
       "    <tr>\n",
       "      <th>11998</th>\n",
       "      <td>3057.2</td>\n",
       "      <td>11998</td>\n",
       "    </tr>\n",
       "    <tr>\n",
       "      <th>11999</th>\n",
       "      <td>3901.1</td>\n",
       "      <td>11999</td>\n",
       "    </tr>\n",
       "  </tbody>\n",
       "</table>\n",
       "<p>12000 rows × 2 columns</p>\n",
       "</div>"
      ],
      "text/plain": [
       "        price     id\n",
       "0      2112.6      0\n",
       "1      3047.2      1\n",
       "2      2720.6      2\n",
       "3      3112.5      3\n",
       "4      2604.5      4\n",
       "...       ...    ...\n",
       "11995  3711.5  11995\n",
       "11996  1960.4  11996\n",
       "11997  5319.8  11997\n",
       "11998  3057.2  11998\n",
       "11999  3901.1  11999\n",
       "\n",
       "[12000 rows x 2 columns]"
      ]
     },
     "execution_count": 53,
     "metadata": {},
     "output_type": "execute_result"
    }
   ],
   "source": [
    "y_pred"
   ]
  },
  {
   "cell_type": "code",
   "execution_count": 54,
   "id": "b465e6c6-1b26-407f-aa60-1d8831b73366",
   "metadata": {},
   "outputs": [],
   "source": [
    "y_pred.to_csv(r'C:\\Users\\ragod\\OneDrive\\Escritorio\\Proyectos_TB\\Proyectos_TB\\Diamantes\\ramon_rfr_06.csv', index= False, sep=',')"
   ]
  },
  {
   "cell_type": "code",
   "execution_count": 55,
   "id": "a407793a-7e79-4bca-96fb-59fa7cea6cca",
   "metadata": {},
   "outputs": [],
   "source": [
    "y_comprobacion = pd.merge(df_diamantes_prediccion,y_pred, on= 'id')"
   ]
  },
  {
   "cell_type": "code",
   "execution_count": 56,
   "id": "6a8f2514-fc67-4e28-83c1-4eea77ca4754",
   "metadata": {},
   "outputs": [
    {
     "data": {
      "text/html": [
       "<div>\n",
       "<style scoped>\n",
       "    .dataframe tbody tr th:only-of-type {\n",
       "        vertical-align: middle;\n",
       "    }\n",
       "\n",
       "    .dataframe tbody tr th {\n",
       "        vertical-align: top;\n",
       "    }\n",
       "\n",
       "    .dataframe thead th {\n",
       "        text-align: right;\n",
       "    }\n",
       "</style>\n",
       "<table border=\"1\" class=\"dataframe\">\n",
       "  <thead>\n",
       "    <tr style=\"text-align: right;\">\n",
       "      <th></th>\n",
       "      <th>carat</th>\n",
       "      <th>cut</th>\n",
       "      <th>color</th>\n",
       "      <th>clarity</th>\n",
       "      <th>depth</th>\n",
       "      <th>table</th>\n",
       "      <th>x</th>\n",
       "      <th>y</th>\n",
       "      <th>z</th>\n",
       "      <th>id</th>\n",
       "      <th>price</th>\n",
       "    </tr>\n",
       "  </thead>\n",
       "  <tbody>\n",
       "    <tr>\n",
       "      <th>0</th>\n",
       "      <td>0.70</td>\n",
       "      <td>Good</td>\n",
       "      <td>J</td>\n",
       "      <td>VVS2</td>\n",
       "      <td>64.3</td>\n",
       "      <td>56.0</td>\n",
       "      <td>5.57</td>\n",
       "      <td>5.63</td>\n",
       "      <td>3.60</td>\n",
       "      <td>0</td>\n",
       "      <td>2112.6</td>\n",
       "    </tr>\n",
       "    <tr>\n",
       "      <th>1</th>\n",
       "      <td>0.31</td>\n",
       "      <td>Premium</td>\n",
       "      <td>E</td>\n",
       "      <td>VVS2</td>\n",
       "      <td>61.9</td>\n",
       "      <td>58.0</td>\n",
       "      <td>4.38</td>\n",
       "      <td>4.35</td>\n",
       "      <td>2.70</td>\n",
       "      <td>1</td>\n",
       "      <td>3047.2</td>\n",
       "    </tr>\n",
       "    <tr>\n",
       "      <th>2</th>\n",
       "      <td>0.84</td>\n",
       "      <td>Premium</td>\n",
       "      <td>F</td>\n",
       "      <td>SI1</td>\n",
       "      <td>59.0</td>\n",
       "      <td>59.0</td>\n",
       "      <td>6.18</td>\n",
       "      <td>6.13</td>\n",
       "      <td>3.63</td>\n",
       "      <td>2</td>\n",
       "      <td>2720.6</td>\n",
       "    </tr>\n",
       "    <tr>\n",
       "      <th>3</th>\n",
       "      <td>1.03</td>\n",
       "      <td>Fair</td>\n",
       "      <td>E</td>\n",
       "      <td>SI1</td>\n",
       "      <td>65.1</td>\n",
       "      <td>58.0</td>\n",
       "      <td>6.35</td>\n",
       "      <td>6.24</td>\n",
       "      <td>4.10</td>\n",
       "      <td>3</td>\n",
       "      <td>3112.5</td>\n",
       "    </tr>\n",
       "    <tr>\n",
       "      <th>4</th>\n",
       "      <td>1.20</td>\n",
       "      <td>Premium</td>\n",
       "      <td>J</td>\n",
       "      <td>SI1</td>\n",
       "      <td>60.5</td>\n",
       "      <td>59.0</td>\n",
       "      <td>6.84</td>\n",
       "      <td>6.79</td>\n",
       "      <td>4.12</td>\n",
       "      <td>4</td>\n",
       "      <td>2604.5</td>\n",
       "    </tr>\n",
       "    <tr>\n",
       "      <th>...</th>\n",
       "      <td>...</td>\n",
       "      <td>...</td>\n",
       "      <td>...</td>\n",
       "      <td>...</td>\n",
       "      <td>...</td>\n",
       "      <td>...</td>\n",
       "      <td>...</td>\n",
       "      <td>...</td>\n",
       "      <td>...</td>\n",
       "      <td>...</td>\n",
       "      <td>...</td>\n",
       "    </tr>\n",
       "    <tr>\n",
       "      <th>11995</th>\n",
       "      <td>1.20</td>\n",
       "      <td>Very Good</td>\n",
       "      <td>G</td>\n",
       "      <td>VS2</td>\n",
       "      <td>62.2</td>\n",
       "      <td>57.0</td>\n",
       "      <td>6.75</td>\n",
       "      <td>6.78</td>\n",
       "      <td>4.21</td>\n",
       "      <td>11995</td>\n",
       "      <td>3711.5</td>\n",
       "    </tr>\n",
       "    <tr>\n",
       "      <th>11996</th>\n",
       "      <td>0.43</td>\n",
       "      <td>Ideal</td>\n",
       "      <td>D</td>\n",
       "      <td>SI1</td>\n",
       "      <td>61.5</td>\n",
       "      <td>56.0</td>\n",
       "      <td>4.87</td>\n",
       "      <td>4.82</td>\n",
       "      <td>2.98</td>\n",
       "      <td>11996</td>\n",
       "      <td>1960.4</td>\n",
       "    </tr>\n",
       "    <tr>\n",
       "      <th>11997</th>\n",
       "      <td>1.50</td>\n",
       "      <td>Premium</td>\n",
       "      <td>F</td>\n",
       "      <td>VS1</td>\n",
       "      <td>62.6</td>\n",
       "      <td>58.0</td>\n",
       "      <td>7.31</td>\n",
       "      <td>7.26</td>\n",
       "      <td>4.56</td>\n",
       "      <td>11997</td>\n",
       "      <td>5319.8</td>\n",
       "    </tr>\n",
       "    <tr>\n",
       "      <th>11998</th>\n",
       "      <td>1.00</td>\n",
       "      <td>Very Good</td>\n",
       "      <td>H</td>\n",
       "      <td>VS2</td>\n",
       "      <td>60.7</td>\n",
       "      <td>60.0</td>\n",
       "      <td>6.55</td>\n",
       "      <td>6.49</td>\n",
       "      <td>3.96</td>\n",
       "      <td>11998</td>\n",
       "      <td>3057.2</td>\n",
       "    </tr>\n",
       "    <tr>\n",
       "      <th>11999</th>\n",
       "      <td>1.06</td>\n",
       "      <td>Very Good</td>\n",
       "      <td>D</td>\n",
       "      <td>VS2</td>\n",
       "      <td>62.8</td>\n",
       "      <td>55.0</td>\n",
       "      <td>6.53</td>\n",
       "      <td>6.56</td>\n",
       "      <td>4.11</td>\n",
       "      <td>11999</td>\n",
       "      <td>3901.1</td>\n",
       "    </tr>\n",
       "  </tbody>\n",
       "</table>\n",
       "<p>12000 rows × 11 columns</p>\n",
       "</div>"
      ],
      "text/plain": [
       "       carat        cut color clarity  depth  table     x     y     z     id  \\\n",
       "0       0.70       Good     J    VVS2   64.3   56.0  5.57  5.63  3.60      0   \n",
       "1       0.31    Premium     E    VVS2   61.9   58.0  4.38  4.35  2.70      1   \n",
       "2       0.84    Premium     F     SI1   59.0   59.0  6.18  6.13  3.63      2   \n",
       "3       1.03       Fair     E     SI1   65.1   58.0  6.35  6.24  4.10      3   \n",
       "4       1.20    Premium     J     SI1   60.5   59.0  6.84  6.79  4.12      4   \n",
       "...      ...        ...   ...     ...    ...    ...   ...   ...   ...    ...   \n",
       "11995   1.20  Very Good     G     VS2   62.2   57.0  6.75  6.78  4.21  11995   \n",
       "11996   0.43      Ideal     D     SI1   61.5   56.0  4.87  4.82  2.98  11996   \n",
       "11997   1.50    Premium     F     VS1   62.6   58.0  7.31  7.26  4.56  11997   \n",
       "11998   1.00  Very Good     H     VS2   60.7   60.0  6.55  6.49  3.96  11998   \n",
       "11999   1.06  Very Good     D     VS2   62.8   55.0  6.53  6.56  4.11  11999   \n",
       "\n",
       "        price  \n",
       "0      2112.6  \n",
       "1      3047.2  \n",
       "2      2720.6  \n",
       "3      3112.5  \n",
       "4      2604.5  \n",
       "...       ...  \n",
       "11995  3711.5  \n",
       "11996  1960.4  \n",
       "11997  5319.8  \n",
       "11998  3057.2  \n",
       "11999  3901.1  \n",
       "\n",
       "[12000 rows x 11 columns]"
      ]
     },
     "execution_count": 56,
     "metadata": {},
     "output_type": "execute_result"
    }
   ],
   "source": [
    "y_comprobacion"
   ]
  },
  {
   "cell_type": "code",
   "execution_count": null,
   "id": "73ce516d-d9ad-4475-9d5a-8bd81ab7f615",
   "metadata": {},
   "outputs": [],
   "source": []
  }
 ],
 "metadata": {
  "kernelspec": {
   "display_name": "Python 3",
   "language": "python",
   "name": "python3"
  },
  "language_info": {
   "codemirror_mode": {
    "name": "ipython",
    "version": 3
   },
   "file_extension": ".py",
   "mimetype": "text/x-python",
   "name": "python",
   "nbconvert_exporter": "python",
   "pygments_lexer": "ipython3",
   "version": "3.8.8"
  }
 },
 "nbformat": 4,
 "nbformat_minor": 5
}
