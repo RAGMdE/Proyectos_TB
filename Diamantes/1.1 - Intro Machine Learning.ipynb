{
 "cells": [
  {
   "cell_type": "markdown",
   "id": "a442bf4e",
   "metadata": {},
   "source": [
    "# 1.1 - Intro Machine Learning\n",
    "\n",
    "\n",
    "![venn_ml](images/venn_ml.png)\n",
    "\n",
    "![ext_sklearn](images/ext_sklearn.jpeg)\n",
    "\n",
    "![sklearn](images/sklearn.png)\n",
    "\n"
   ]
  },
  {
   "cell_type": "markdown",
   "id": "67f3ca4a",
   "metadata": {},
   "source": [
    "### WorkFlow\n",
    "\n",
    "+ Obtener datos\n",
    "+ Definir objetivo\n",
    "+ Limpieza de datos (unidades, outliers, one-hot, etc..)\n",
    "+ Definir modelo (regresión, clasificación, ...)\n",
    "+ Entrenar (hiperparámetros, validación, ...) (**)\n",
    "+ Predecir (testear)\n",
    "+ Evaluar\n",
    "+ Si hay mucho error volver a (**)"
   ]
  },
  {
   "cell_type": "code",
   "execution_count": 1,
   "id": "955739c2",
   "metadata": {},
   "outputs": [],
   "source": [
    "import warnings\n",
    "warnings.simplefilter('ignore')\n",
    "\n",
    "import pandas as pd\n",
    "import numpy as np\n",
    "\n",
    "\n",
    "import pylab as plt\n",
    "%matplotlib inline"
   ]
  },
  {
   "cell_type": "code",
   "execution_count": 2,
   "id": "c1f13743",
   "metadata": {},
   "outputs": [
    {
     "data": {
      "text/html": [
       "<div>\n",
       "<style scoped>\n",
       "    .dataframe tbody tr th:only-of-type {\n",
       "        vertical-align: middle;\n",
       "    }\n",
       "\n",
       "    .dataframe tbody tr th {\n",
       "        vertical-align: top;\n",
       "    }\n",
       "\n",
       "    .dataframe thead th {\n",
       "        text-align: right;\n",
       "    }\n",
       "</style>\n",
       "<table border=\"1\" class=\"dataframe\">\n",
       "  <thead>\n",
       "    <tr style=\"text-align: right;\">\n",
       "      <th></th>\n",
       "      <th>CensusId</th>\n",
       "      <th>State</th>\n",
       "      <th>County</th>\n",
       "      <th>TotalPop</th>\n",
       "      <th>Men</th>\n",
       "      <th>Women</th>\n",
       "      <th>Hispanic</th>\n",
       "      <th>White</th>\n",
       "      <th>Black</th>\n",
       "      <th>Native</th>\n",
       "      <th>...</th>\n",
       "      <th>Walk</th>\n",
       "      <th>OtherTransp</th>\n",
       "      <th>WorkAtHome</th>\n",
       "      <th>MeanCommute</th>\n",
       "      <th>Employed</th>\n",
       "      <th>PrivateWork</th>\n",
       "      <th>PublicWork</th>\n",
       "      <th>SelfEmployed</th>\n",
       "      <th>FamilyWork</th>\n",
       "      <th>Unemployment</th>\n",
       "    </tr>\n",
       "  </thead>\n",
       "  <tbody>\n",
       "    <tr>\n",
       "      <th>0</th>\n",
       "      <td>1001</td>\n",
       "      <td>Alabama</td>\n",
       "      <td>Autauga</td>\n",
       "      <td>55221</td>\n",
       "      <td>26745</td>\n",
       "      <td>28476</td>\n",
       "      <td>2.6</td>\n",
       "      <td>75.8</td>\n",
       "      <td>18.5</td>\n",
       "      <td>0.4</td>\n",
       "      <td>...</td>\n",
       "      <td>0.5</td>\n",
       "      <td>1.3</td>\n",
       "      <td>1.8</td>\n",
       "      <td>26.5</td>\n",
       "      <td>23986</td>\n",
       "      <td>73.6</td>\n",
       "      <td>20.9</td>\n",
       "      <td>5.5</td>\n",
       "      <td>0.0</td>\n",
       "      <td>7.6</td>\n",
       "    </tr>\n",
       "    <tr>\n",
       "      <th>1</th>\n",
       "      <td>1003</td>\n",
       "      <td>Alabama</td>\n",
       "      <td>Baldwin</td>\n",
       "      <td>195121</td>\n",
       "      <td>95314</td>\n",
       "      <td>99807</td>\n",
       "      <td>4.5</td>\n",
       "      <td>83.1</td>\n",
       "      <td>9.5</td>\n",
       "      <td>0.6</td>\n",
       "      <td>...</td>\n",
       "      <td>1.0</td>\n",
       "      <td>1.4</td>\n",
       "      <td>3.9</td>\n",
       "      <td>26.4</td>\n",
       "      <td>85953</td>\n",
       "      <td>81.5</td>\n",
       "      <td>12.3</td>\n",
       "      <td>5.8</td>\n",
       "      <td>0.4</td>\n",
       "      <td>7.5</td>\n",
       "    </tr>\n",
       "    <tr>\n",
       "      <th>2</th>\n",
       "      <td>1005</td>\n",
       "      <td>Alabama</td>\n",
       "      <td>Barbour</td>\n",
       "      <td>26932</td>\n",
       "      <td>14497</td>\n",
       "      <td>12435</td>\n",
       "      <td>4.6</td>\n",
       "      <td>46.2</td>\n",
       "      <td>46.7</td>\n",
       "      <td>0.2</td>\n",
       "      <td>...</td>\n",
       "      <td>1.8</td>\n",
       "      <td>1.5</td>\n",
       "      <td>1.6</td>\n",
       "      <td>24.1</td>\n",
       "      <td>8597</td>\n",
       "      <td>71.8</td>\n",
       "      <td>20.8</td>\n",
       "      <td>7.3</td>\n",
       "      <td>0.1</td>\n",
       "      <td>17.6</td>\n",
       "    </tr>\n",
       "    <tr>\n",
       "      <th>3</th>\n",
       "      <td>1007</td>\n",
       "      <td>Alabama</td>\n",
       "      <td>Bibb</td>\n",
       "      <td>22604</td>\n",
       "      <td>12073</td>\n",
       "      <td>10531</td>\n",
       "      <td>2.2</td>\n",
       "      <td>74.5</td>\n",
       "      <td>21.4</td>\n",
       "      <td>0.4</td>\n",
       "      <td>...</td>\n",
       "      <td>0.6</td>\n",
       "      <td>1.5</td>\n",
       "      <td>0.7</td>\n",
       "      <td>28.8</td>\n",
       "      <td>8294</td>\n",
       "      <td>76.8</td>\n",
       "      <td>16.1</td>\n",
       "      <td>6.7</td>\n",
       "      <td>0.4</td>\n",
       "      <td>8.3</td>\n",
       "    </tr>\n",
       "    <tr>\n",
       "      <th>4</th>\n",
       "      <td>1009</td>\n",
       "      <td>Alabama</td>\n",
       "      <td>Blount</td>\n",
       "      <td>57710</td>\n",
       "      <td>28512</td>\n",
       "      <td>29198</td>\n",
       "      <td>8.6</td>\n",
       "      <td>87.9</td>\n",
       "      <td>1.5</td>\n",
       "      <td>0.3</td>\n",
       "      <td>...</td>\n",
       "      <td>0.9</td>\n",
       "      <td>0.4</td>\n",
       "      <td>2.3</td>\n",
       "      <td>34.9</td>\n",
       "      <td>22189</td>\n",
       "      <td>82.0</td>\n",
       "      <td>13.5</td>\n",
       "      <td>4.2</td>\n",
       "      <td>0.4</td>\n",
       "      <td>7.7</td>\n",
       "    </tr>\n",
       "  </tbody>\n",
       "</table>\n",
       "<p>5 rows × 37 columns</p>\n",
       "</div>"
      ],
      "text/plain": [
       "   CensusId    State   County  TotalPop    Men  Women  Hispanic  White  Black  \\\n",
       "0      1001  Alabama  Autauga     55221  26745  28476       2.6   75.8   18.5   \n",
       "1      1003  Alabama  Baldwin    195121  95314  99807       4.5   83.1    9.5   \n",
       "2      1005  Alabama  Barbour     26932  14497  12435       4.6   46.2   46.7   \n",
       "3      1007  Alabama     Bibb     22604  12073  10531       2.2   74.5   21.4   \n",
       "4      1009  Alabama   Blount     57710  28512  29198       8.6   87.9    1.5   \n",
       "\n",
       "   Native  ...  Walk  OtherTransp  WorkAtHome  MeanCommute  Employed  \\\n",
       "0     0.4  ...   0.5          1.3         1.8         26.5     23986   \n",
       "1     0.6  ...   1.0          1.4         3.9         26.4     85953   \n",
       "2     0.2  ...   1.8          1.5         1.6         24.1      8597   \n",
       "3     0.4  ...   0.6          1.5         0.7         28.8      8294   \n",
       "4     0.3  ...   0.9          0.4         2.3         34.9     22189   \n",
       "\n",
       "   PrivateWork  PublicWork  SelfEmployed  FamilyWork  Unemployment  \n",
       "0         73.6        20.9           5.5         0.0           7.6  \n",
       "1         81.5        12.3           5.8         0.4           7.5  \n",
       "2         71.8        20.8           7.3         0.1          17.6  \n",
       "3         76.8        16.1           6.7         0.4           8.3  \n",
       "4         82.0        13.5           4.2         0.4           7.7  \n",
       "\n",
       "[5 rows x 37 columns]"
      ]
     },
     "execution_count": 2,
     "metadata": {},
     "output_type": "execute_result"
    }
   ],
   "source": [
    "# obtener datos\n",
    "\n",
    "census=pd.read_csv('../data/census.csv')\n",
    "\n",
    "census.head()"
   ]
  },
  {
   "cell_type": "code",
   "execution_count": 3,
   "id": "74d068de",
   "metadata": {},
   "outputs": [
    {
     "data": {
      "text/html": [
       "<div>\n",
       "<style scoped>\n",
       "    .dataframe tbody tr th:only-of-type {\n",
       "        vertical-align: middle;\n",
       "    }\n",
       "\n",
       "    .dataframe tbody tr th {\n",
       "        vertical-align: top;\n",
       "    }\n",
       "\n",
       "    .dataframe thead th {\n",
       "        text-align: right;\n",
       "    }\n",
       "</style>\n",
       "<table border=\"1\" class=\"dataframe\">\n",
       "  <thead>\n",
       "    <tr style=\"text-align: right;\">\n",
       "      <th></th>\n",
       "      <th>CensusId</th>\n",
       "      <th>TotalPop</th>\n",
       "      <th>Men</th>\n",
       "      <th>Women</th>\n",
       "      <th>Hispanic</th>\n",
       "      <th>White</th>\n",
       "      <th>Black</th>\n",
       "      <th>Native</th>\n",
       "      <th>Asian</th>\n",
       "      <th>Pacific</th>\n",
       "      <th>...</th>\n",
       "      <th>Walk</th>\n",
       "      <th>OtherTransp</th>\n",
       "      <th>WorkAtHome</th>\n",
       "      <th>MeanCommute</th>\n",
       "      <th>Employed</th>\n",
       "      <th>PrivateWork</th>\n",
       "      <th>PublicWork</th>\n",
       "      <th>SelfEmployed</th>\n",
       "      <th>FamilyWork</th>\n",
       "      <th>Unemployment</th>\n",
       "    </tr>\n",
       "  </thead>\n",
       "  <tbody>\n",
       "    <tr>\n",
       "      <th>count</th>\n",
       "      <td>3220.000000</td>\n",
       "      <td>3.220000e+03</td>\n",
       "      <td>3.220000e+03</td>\n",
       "      <td>3.220000e+03</td>\n",
       "      <td>3220.000000</td>\n",
       "      <td>3220.000000</td>\n",
       "      <td>3220.000000</td>\n",
       "      <td>3220.000000</td>\n",
       "      <td>3220.000000</td>\n",
       "      <td>3220.000000</td>\n",
       "      <td>...</td>\n",
       "      <td>3220.000000</td>\n",
       "      <td>3220.000000</td>\n",
       "      <td>3220.000000</td>\n",
       "      <td>3220.000000</td>\n",
       "      <td>3.220000e+03</td>\n",
       "      <td>3220.000000</td>\n",
       "      <td>3220.000000</td>\n",
       "      <td>3220.000000</td>\n",
       "      <td>3220.000000</td>\n",
       "      <td>3220.000000</td>\n",
       "    </tr>\n",
       "    <tr>\n",
       "      <th>mean</th>\n",
       "      <td>31393.605280</td>\n",
       "      <td>9.940935e+04</td>\n",
       "      <td>4.889694e+04</td>\n",
       "      <td>5.051241e+04</td>\n",
       "      <td>11.011522</td>\n",
       "      <td>75.428789</td>\n",
       "      <td>8.665497</td>\n",
       "      <td>1.723509</td>\n",
       "      <td>1.229068</td>\n",
       "      <td>0.082733</td>\n",
       "      <td>...</td>\n",
       "      <td>3.323509</td>\n",
       "      <td>1.612733</td>\n",
       "      <td>4.631770</td>\n",
       "      <td>23.278758</td>\n",
       "      <td>4.559352e+04</td>\n",
       "      <td>74.219348</td>\n",
       "      <td>17.560870</td>\n",
       "      <td>7.931801</td>\n",
       "      <td>0.288106</td>\n",
       "      <td>8.094441</td>\n",
       "    </tr>\n",
       "    <tr>\n",
       "      <th>std</th>\n",
       "      <td>16292.078954</td>\n",
       "      <td>3.193055e+05</td>\n",
       "      <td>1.566813e+05</td>\n",
       "      <td>1.626620e+05</td>\n",
       "      <td>19.241380</td>\n",
       "      <td>22.932890</td>\n",
       "      <td>14.279122</td>\n",
       "      <td>7.253115</td>\n",
       "      <td>2.633079</td>\n",
       "      <td>0.734931</td>\n",
       "      <td>...</td>\n",
       "      <td>3.756096</td>\n",
       "      <td>1.670988</td>\n",
       "      <td>3.178772</td>\n",
       "      <td>5.600466</td>\n",
       "      <td>1.496995e+05</td>\n",
       "      <td>7.863188</td>\n",
       "      <td>6.510354</td>\n",
       "      <td>3.914974</td>\n",
       "      <td>0.455137</td>\n",
       "      <td>4.096114</td>\n",
       "    </tr>\n",
       "    <tr>\n",
       "      <th>min</th>\n",
       "      <td>1001.000000</td>\n",
       "      <td>8.500000e+01</td>\n",
       "      <td>4.200000e+01</td>\n",
       "      <td>4.300000e+01</td>\n",
       "      <td>0.000000</td>\n",
       "      <td>0.000000</td>\n",
       "      <td>0.000000</td>\n",
       "      <td>0.000000</td>\n",
       "      <td>0.000000</td>\n",
       "      <td>0.000000</td>\n",
       "      <td>...</td>\n",
       "      <td>0.000000</td>\n",
       "      <td>0.000000</td>\n",
       "      <td>0.000000</td>\n",
       "      <td>4.900000</td>\n",
       "      <td>6.200000e+01</td>\n",
       "      <td>25.000000</td>\n",
       "      <td>5.800000</td>\n",
       "      <td>0.000000</td>\n",
       "      <td>0.000000</td>\n",
       "      <td>0.000000</td>\n",
       "    </tr>\n",
       "    <tr>\n",
       "      <th>25%</th>\n",
       "      <td>19032.500000</td>\n",
       "      <td>1.121800e+04</td>\n",
       "      <td>5.637250e+03</td>\n",
       "      <td>5.572000e+03</td>\n",
       "      <td>1.900000</td>\n",
       "      <td>64.100000</td>\n",
       "      <td>0.500000</td>\n",
       "      <td>0.100000</td>\n",
       "      <td>0.200000</td>\n",
       "      <td>0.000000</td>\n",
       "      <td>...</td>\n",
       "      <td>1.400000</td>\n",
       "      <td>0.900000</td>\n",
       "      <td>2.700000</td>\n",
       "      <td>19.500000</td>\n",
       "      <td>4.550750e+03</td>\n",
       "      <td>70.500000</td>\n",
       "      <td>13.100000</td>\n",
       "      <td>5.400000</td>\n",
       "      <td>0.100000</td>\n",
       "      <td>5.500000</td>\n",
       "    </tr>\n",
       "    <tr>\n",
       "      <th>50%</th>\n",
       "      <td>30024.000000</td>\n",
       "      <td>2.603500e+04</td>\n",
       "      <td>1.293200e+04</td>\n",
       "      <td>1.305700e+04</td>\n",
       "      <td>3.900000</td>\n",
       "      <td>84.100000</td>\n",
       "      <td>1.900000</td>\n",
       "      <td>0.300000</td>\n",
       "      <td>0.500000</td>\n",
       "      <td>0.000000</td>\n",
       "      <td>...</td>\n",
       "      <td>2.400000</td>\n",
       "      <td>1.300000</td>\n",
       "      <td>3.900000</td>\n",
       "      <td>23.000000</td>\n",
       "      <td>1.050800e+04</td>\n",
       "      <td>75.700000</td>\n",
       "      <td>16.200000</td>\n",
       "      <td>6.900000</td>\n",
       "      <td>0.200000</td>\n",
       "      <td>7.600000</td>\n",
       "    </tr>\n",
       "    <tr>\n",
       "      <th>75%</th>\n",
       "      <td>46105.500000</td>\n",
       "      <td>6.643050e+04</td>\n",
       "      <td>3.299275e+04</td>\n",
       "      <td>3.348750e+04</td>\n",
       "      <td>9.825000</td>\n",
       "      <td>93.200000</td>\n",
       "      <td>9.600000</td>\n",
       "      <td>0.600000</td>\n",
       "      <td>1.200000</td>\n",
       "      <td>0.000000</td>\n",
       "      <td>...</td>\n",
       "      <td>4.000000</td>\n",
       "      <td>1.900000</td>\n",
       "      <td>5.600000</td>\n",
       "      <td>26.800000</td>\n",
       "      <td>2.863275e+04</td>\n",
       "      <td>79.700000</td>\n",
       "      <td>20.500000</td>\n",
       "      <td>9.400000</td>\n",
       "      <td>0.300000</td>\n",
       "      <td>9.900000</td>\n",
       "    </tr>\n",
       "    <tr>\n",
       "      <th>max</th>\n",
       "      <td>72153.000000</td>\n",
       "      <td>1.003839e+07</td>\n",
       "      <td>4.945351e+06</td>\n",
       "      <td>5.093037e+06</td>\n",
       "      <td>99.900000</td>\n",
       "      <td>99.800000</td>\n",
       "      <td>85.900000</td>\n",
       "      <td>92.100000</td>\n",
       "      <td>41.600000</td>\n",
       "      <td>35.300000</td>\n",
       "      <td>...</td>\n",
       "      <td>71.200000</td>\n",
       "      <td>39.100000</td>\n",
       "      <td>37.200000</td>\n",
       "      <td>44.000000</td>\n",
       "      <td>4.635465e+06</td>\n",
       "      <td>88.300000</td>\n",
       "      <td>66.200000</td>\n",
       "      <td>36.600000</td>\n",
       "      <td>9.800000</td>\n",
       "      <td>36.500000</td>\n",
       "    </tr>\n",
       "  </tbody>\n",
       "</table>\n",
       "<p>8 rows × 35 columns</p>\n",
       "</div>"
      ],
      "text/plain": [
       "           CensusId      TotalPop           Men         Women     Hispanic  \\\n",
       "count   3220.000000  3.220000e+03  3.220000e+03  3.220000e+03  3220.000000   \n",
       "mean   31393.605280  9.940935e+04  4.889694e+04  5.051241e+04    11.011522   \n",
       "std    16292.078954  3.193055e+05  1.566813e+05  1.626620e+05    19.241380   \n",
       "min     1001.000000  8.500000e+01  4.200000e+01  4.300000e+01     0.000000   \n",
       "25%    19032.500000  1.121800e+04  5.637250e+03  5.572000e+03     1.900000   \n",
       "50%    30024.000000  2.603500e+04  1.293200e+04  1.305700e+04     3.900000   \n",
       "75%    46105.500000  6.643050e+04  3.299275e+04  3.348750e+04     9.825000   \n",
       "max    72153.000000  1.003839e+07  4.945351e+06  5.093037e+06    99.900000   \n",
       "\n",
       "             White        Black       Native        Asian      Pacific  ...  \\\n",
       "count  3220.000000  3220.000000  3220.000000  3220.000000  3220.000000  ...   \n",
       "mean     75.428789     8.665497     1.723509     1.229068     0.082733  ...   \n",
       "std      22.932890    14.279122     7.253115     2.633079     0.734931  ...   \n",
       "min       0.000000     0.000000     0.000000     0.000000     0.000000  ...   \n",
       "25%      64.100000     0.500000     0.100000     0.200000     0.000000  ...   \n",
       "50%      84.100000     1.900000     0.300000     0.500000     0.000000  ...   \n",
       "75%      93.200000     9.600000     0.600000     1.200000     0.000000  ...   \n",
       "max      99.800000    85.900000    92.100000    41.600000    35.300000  ...   \n",
       "\n",
       "              Walk  OtherTransp   WorkAtHome  MeanCommute      Employed  \\\n",
       "count  3220.000000  3220.000000  3220.000000  3220.000000  3.220000e+03   \n",
       "mean      3.323509     1.612733     4.631770    23.278758  4.559352e+04   \n",
       "std       3.756096     1.670988     3.178772     5.600466  1.496995e+05   \n",
       "min       0.000000     0.000000     0.000000     4.900000  6.200000e+01   \n",
       "25%       1.400000     0.900000     2.700000    19.500000  4.550750e+03   \n",
       "50%       2.400000     1.300000     3.900000    23.000000  1.050800e+04   \n",
       "75%       4.000000     1.900000     5.600000    26.800000  2.863275e+04   \n",
       "max      71.200000    39.100000    37.200000    44.000000  4.635465e+06   \n",
       "\n",
       "       PrivateWork   PublicWork  SelfEmployed   FamilyWork  Unemployment  \n",
       "count  3220.000000  3220.000000   3220.000000  3220.000000   3220.000000  \n",
       "mean     74.219348    17.560870      7.931801     0.288106      8.094441  \n",
       "std       7.863188     6.510354      3.914974     0.455137      4.096114  \n",
       "min      25.000000     5.800000      0.000000     0.000000      0.000000  \n",
       "25%      70.500000    13.100000      5.400000     0.100000      5.500000  \n",
       "50%      75.700000    16.200000      6.900000     0.200000      7.600000  \n",
       "75%      79.700000    20.500000      9.400000     0.300000      9.900000  \n",
       "max      88.300000    66.200000     36.600000     9.800000     36.500000  \n",
       "\n",
       "[8 rows x 35 columns]"
      ]
     },
     "execution_count": 3,
     "metadata": {},
     "output_type": "execute_result"
    }
   ],
   "source": [
    "census.describe()"
   ]
  },
  {
   "cell_type": "code",
   "execution_count": 4,
   "id": "11b28a45",
   "metadata": {},
   "outputs": [
    {
     "name": "stdout",
     "output_type": "stream",
     "text": [
      "<class 'pandas.core.frame.DataFrame'>\n",
      "RangeIndex: 3220 entries, 0 to 3219\n",
      "Data columns (total 37 columns):\n",
      " #   Column           Non-Null Count  Dtype  \n",
      "---  ------           --------------  -----  \n",
      " 0   CensusId         3220 non-null   int64  \n",
      " 1   State            3220 non-null   object \n",
      " 2   County           3220 non-null   object \n",
      " 3   TotalPop         3220 non-null   int64  \n",
      " 4   Men              3220 non-null   int64  \n",
      " 5   Women            3220 non-null   int64  \n",
      " 6   Hispanic         3220 non-null   float64\n",
      " 7   White            3220 non-null   float64\n",
      " 8   Black            3220 non-null   float64\n",
      " 9   Native           3220 non-null   float64\n",
      " 10  Asian            3220 non-null   float64\n",
      " 11  Pacific          3220 non-null   float64\n",
      " 12  Citizen          3220 non-null   int64  \n",
      " 13  Income           3219 non-null   float64\n",
      " 14  IncomeErr        3219 non-null   float64\n",
      " 15  IncomePerCap     3220 non-null   int64  \n",
      " 16  IncomePerCapErr  3220 non-null   int64  \n",
      " 17  Poverty          3220 non-null   float64\n",
      " 18  ChildPoverty     3219 non-null   float64\n",
      " 19  Professional     3220 non-null   float64\n",
      " 20  Service          3220 non-null   float64\n",
      " 21  Office           3220 non-null   float64\n",
      " 22  Construction     3220 non-null   float64\n",
      " 23  Production       3220 non-null   float64\n",
      " 24  Drive            3220 non-null   float64\n",
      " 25  Carpool          3220 non-null   float64\n",
      " 26  Transit          3220 non-null   float64\n",
      " 27  Walk             3220 non-null   float64\n",
      " 28  OtherTransp      3220 non-null   float64\n",
      " 29  WorkAtHome       3220 non-null   float64\n",
      " 30  MeanCommute      3220 non-null   float64\n",
      " 31  Employed         3220 non-null   int64  \n",
      " 32  PrivateWork      3220 non-null   float64\n",
      " 33  PublicWork       3220 non-null   float64\n",
      " 34  SelfEmployed     3220 non-null   float64\n",
      " 35  FamilyWork       3220 non-null   float64\n",
      " 36  Unemployment     3220 non-null   float64\n",
      "dtypes: float64(27), int64(8), object(2)\n",
      "memory usage: 930.9+ KB\n"
     ]
    }
   ],
   "source": [
    "census.info()"
   ]
  },
  {
   "cell_type": "code",
   "execution_count": 5,
   "id": "45159481",
   "metadata": {},
   "outputs": [
    {
     "data": {
      "image/png": "[encoded data removed]",
      "text/plain": [
       "<Figure size 576x576 with 1 Axes>"
      ]
     },
     "metadata": {
      "needs_background": "light"
     },
     "output_type": "display_data"
    }
   ],
   "source": [
    "# outliers (3*iqr)\n",
    "\n",
    "plt.figure(figsize=(8,8))\n",
    "\n",
    "census.boxplot(column=['FamilyWork'])\n",
    "\n",
    "plt.xticks(rotation=45);"
   ]
  },
  {
   "cell_type": "code",
   "execution_count": 6,
   "id": "c0bf82cf",
   "metadata": {},
   "outputs": [],
   "source": [
    "q1=np.percentile(census.FamilyWork, 25)\n",
    "q3=np.percentile(census.FamilyWork, 75)"
   ]
  },
  {
   "cell_type": "code",
   "execution_count": 7,
   "id": "342e5d61",
   "metadata": {},
   "outputs": [],
   "source": [
    "iqr=q3-q1\n",
    "\n",
    "upper=q3 + 3*iqr\n",
    "lower=q1 - 3*iqr"
   ]
  },
  {
   "cell_type": "code",
   "execution_count": 8,
   "id": "adc1c73c",
   "metadata": {},
   "outputs": [
    {
     "data": {
      "text/plain": [
       "0"
      ]
     },
     "execution_count": 8,
     "metadata": {},
     "output_type": "execute_result"
    }
   ],
   "source": [
    "len(census[census.FamilyWork < lower])"
   ]
  },
  {
   "cell_type": "code",
   "execution_count": 9,
   "id": "fc51b4d4",
   "metadata": {},
   "outputs": [
    {
     "data": {
      "text/html": [
       "<div>\n",
       "<style scoped>\n",
       "    .dataframe tbody tr th:only-of-type {\n",
       "        vertical-align: middle;\n",
       "    }\n",
       "\n",
       "    .dataframe tbody tr th {\n",
       "        vertical-align: top;\n",
       "    }\n",
       "\n",
       "    .dataframe thead th {\n",
       "        text-align: right;\n",
       "    }\n",
       "</style>\n",
       "<table border=\"1\" class=\"dataframe\">\n",
       "  <thead>\n",
       "    <tr style=\"text-align: right;\">\n",
       "      <th></th>\n",
       "      <th>CensusId</th>\n",
       "      <th>State</th>\n",
       "      <th>County</th>\n",
       "      <th>TotalPop</th>\n",
       "      <th>Men</th>\n",
       "      <th>Women</th>\n",
       "      <th>Hispanic</th>\n",
       "      <th>White</th>\n",
       "      <th>Black</th>\n",
       "      <th>Native</th>\n",
       "      <th>...</th>\n",
       "      <th>Walk</th>\n",
       "      <th>OtherTransp</th>\n",
       "      <th>WorkAtHome</th>\n",
       "      <th>MeanCommute</th>\n",
       "      <th>Employed</th>\n",
       "      <th>PrivateWork</th>\n",
       "      <th>PublicWork</th>\n",
       "      <th>SelfEmployed</th>\n",
       "      <th>FamilyWork</th>\n",
       "      <th>Unemployment</th>\n",
       "    </tr>\n",
       "  </thead>\n",
       "  <tbody>\n",
       "    <tr>\n",
       "      <th>0</th>\n",
       "      <td>1001</td>\n",
       "      <td>Alabama</td>\n",
       "      <td>Autauga</td>\n",
       "      <td>55221</td>\n",
       "      <td>26745</td>\n",
       "      <td>28476</td>\n",
       "      <td>2.6</td>\n",
       "      <td>75.8</td>\n",
       "      <td>18.5</td>\n",
       "      <td>0.4</td>\n",
       "      <td>...</td>\n",
       "      <td>0.5</td>\n",
       "      <td>1.3</td>\n",
       "      <td>1.8</td>\n",
       "      <td>26.5</td>\n",
       "      <td>23986</td>\n",
       "      <td>73.6</td>\n",
       "      <td>20.9</td>\n",
       "      <td>5.5</td>\n",
       "      <td>0.0</td>\n",
       "      <td>7.6</td>\n",
       "    </tr>\n",
       "    <tr>\n",
       "      <th>1</th>\n",
       "      <td>1003</td>\n",
       "      <td>Alabama</td>\n",
       "      <td>Baldwin</td>\n",
       "      <td>195121</td>\n",
       "      <td>95314</td>\n",
       "      <td>99807</td>\n",
       "      <td>4.5</td>\n",
       "      <td>83.1</td>\n",
       "      <td>9.5</td>\n",
       "      <td>0.6</td>\n",
       "      <td>...</td>\n",
       "      <td>1.0</td>\n",
       "      <td>1.4</td>\n",
       "      <td>3.9</td>\n",
       "      <td>26.4</td>\n",
       "      <td>85953</td>\n",
       "      <td>81.5</td>\n",
       "      <td>12.3</td>\n",
       "      <td>5.8</td>\n",
       "      <td>0.4</td>\n",
       "      <td>7.5</td>\n",
       "    </tr>\n",
       "    <tr>\n",
       "      <th>2</th>\n",
       "      <td>1005</td>\n",
       "      <td>Alabama</td>\n",
       "      <td>Barbour</td>\n",
       "      <td>26932</td>\n",
       "      <td>14497</td>\n",
       "      <td>12435</td>\n",
       "      <td>4.6</td>\n",
       "      <td>46.2</td>\n",
       "      <td>46.7</td>\n",
       "      <td>0.2</td>\n",
       "      <td>...</td>\n",
       "      <td>1.8</td>\n",
       "      <td>1.5</td>\n",
       "      <td>1.6</td>\n",
       "      <td>24.1</td>\n",
       "      <td>8597</td>\n",
       "      <td>71.8</td>\n",
       "      <td>20.8</td>\n",
       "      <td>7.3</td>\n",
       "      <td>0.1</td>\n",
       "      <td>17.6</td>\n",
       "    </tr>\n",
       "    <tr>\n",
       "      <th>3</th>\n",
       "      <td>1007</td>\n",
       "      <td>Alabama</td>\n",
       "      <td>Bibb</td>\n",
       "      <td>22604</td>\n",
       "      <td>12073</td>\n",
       "      <td>10531</td>\n",
       "      <td>2.2</td>\n",
       "      <td>74.5</td>\n",
       "      <td>21.4</td>\n",
       "      <td>0.4</td>\n",
       "      <td>...</td>\n",
       "      <td>0.6</td>\n",
       "      <td>1.5</td>\n",
       "      <td>0.7</td>\n",
       "      <td>28.8</td>\n",
       "      <td>8294</td>\n",
       "      <td>76.8</td>\n",
       "      <td>16.1</td>\n",
       "      <td>6.7</td>\n",
       "      <td>0.4</td>\n",
       "      <td>8.3</td>\n",
       "    </tr>\n",
       "    <tr>\n",
       "      <th>4</th>\n",
       "      <td>1009</td>\n",
       "      <td>Alabama</td>\n",
       "      <td>Blount</td>\n",
       "      <td>57710</td>\n",
       "      <td>28512</td>\n",
       "      <td>29198</td>\n",
       "      <td>8.6</td>\n",
       "      <td>87.9</td>\n",
       "      <td>1.5</td>\n",
       "      <td>0.3</td>\n",
       "      <td>...</td>\n",
       "      <td>0.9</td>\n",
       "      <td>0.4</td>\n",
       "      <td>2.3</td>\n",
       "      <td>34.9</td>\n",
       "      <td>22189</td>\n",
       "      <td>82.0</td>\n",
       "      <td>13.5</td>\n",
       "      <td>4.2</td>\n",
       "      <td>0.4</td>\n",
       "      <td>7.7</td>\n",
       "    </tr>\n",
       "  </tbody>\n",
       "</table>\n",
       "<p>5 rows × 37 columns</p>\n",
       "</div>"
      ],
      "text/plain": [
       "   CensusId    State   County  TotalPop    Men  Women  Hispanic  White  Black  \\\n",
       "0      1001  Alabama  Autauga     55221  26745  28476       2.6   75.8   18.5   \n",
       "1      1003  Alabama  Baldwin    195121  95314  99807       4.5   83.1    9.5   \n",
       "2      1005  Alabama  Barbour     26932  14497  12435       4.6   46.2   46.7   \n",
       "3      1007  Alabama     Bibb     22604  12073  10531       2.2   74.5   21.4   \n",
       "4      1009  Alabama   Blount     57710  28512  29198       8.6   87.9    1.5   \n",
       "\n",
       "   Native  ...  Walk  OtherTransp  WorkAtHome  MeanCommute  Employed  \\\n",
       "0     0.4  ...   0.5          1.3         1.8         26.5     23986   \n",
       "1     0.6  ...   1.0          1.4         3.9         26.4     85953   \n",
       "2     0.2  ...   1.8          1.5         1.6         24.1      8597   \n",
       "3     0.4  ...   0.6          1.5         0.7         28.8      8294   \n",
       "4     0.3  ...   0.9          0.4         2.3         34.9     22189   \n",
       "\n",
       "   PrivateWork  PublicWork  SelfEmployed  FamilyWork  Unemployment  \n",
       "0         73.6        20.9           5.5         0.0           7.6  \n",
       "1         81.5        12.3           5.8         0.4           7.5  \n",
       "2         71.8        20.8           7.3         0.1          17.6  \n",
       "3         76.8        16.1           6.7         0.4           8.3  \n",
       "4         82.0        13.5           4.2         0.4           7.7  \n",
       "\n",
       "[5 rows x 37 columns]"
      ]
     },
     "execution_count": 9,
     "metadata": {},
     "output_type": "execute_result"
    }
   ],
   "source": [
    "census=census[census.FamilyWork < upper]\n",
    "census.head()"
   ]
  },
  {
   "cell_type": "code",
   "execution_count": 10,
   "id": "4e554e45",
   "metadata": {},
   "outputs": [
    {
     "data": {
      "image/png": "[encoded data removed]",
      "text/plain": [
       "<Figure size 576x576 with 1 Axes>"
      ]
     },
     "metadata": {
      "needs_background": "light"
     },
     "output_type": "display_data"
    }
   ],
   "source": [
    "plt.figure(figsize=(8,8))\n",
    "\n",
    "census.boxplot(column=['FamilyWork'])\n",
    "\n",
    "plt.xticks(rotation=45);"
   ]
  },
  {
   "cell_type": "code",
   "execution_count": 11,
   "id": "0b945ee7",
   "metadata": {},
   "outputs": [
    {
     "name": "stdout",
     "output_type": "stream",
     "text": [
      "<class 'pandas.core.frame.DataFrame'>\n",
      "Int64Index: 3022 entries, 0 to 3219\n",
      "Data columns (total 37 columns):\n",
      " #   Column           Non-Null Count  Dtype  \n",
      "---  ------           --------------  -----  \n",
      " 0   CensusId         3022 non-null   int64  \n",
      " 1   State            3022 non-null   object \n",
      " 2   County           3022 non-null   object \n",
      " 3   TotalPop         3022 non-null   int64  \n",
      " 4   Men              3022 non-null   int64  \n",
      " 5   Women            3022 non-null   int64  \n",
      " 6   Hispanic         3022 non-null   float64\n",
      " 7   White            3022 non-null   float64\n",
      " 8   Black            3022 non-null   float64\n",
      " 9   Native           3022 non-null   float64\n",
      " 10  Asian            3022 non-null   float64\n",
      " 11  Pacific          3022 non-null   float64\n",
      " 12  Citizen          3022 non-null   int64  \n",
      " 13  Income           3021 non-null   float64\n",
      " 14  IncomeErr        3021 non-null   float64\n",
      " 15  IncomePerCap     3022 non-null   int64  \n",
      " 16  IncomePerCapErr  3022 non-null   int64  \n",
      " 17  Poverty          3022 non-null   float64\n",
      " 18  ChildPoverty     3021 non-null   float64\n",
      " 19  Professional     3022 non-null   float64\n",
      " 20  Service          3022 non-null   float64\n",
      " 21  Office           3022 non-null   float64\n",
      " 22  Construction     3022 non-null   float64\n",
      " 23  Production       3022 non-null   float64\n",
      " 24  Drive            3022 non-null   float64\n",
      " 25  Carpool          3022 non-null   float64\n",
      " 26  Transit          3022 non-null   float64\n",
      " 27  Walk             3022 non-null   float64\n",
      " 28  OtherTransp      3022 non-null   float64\n",
      " 29  WorkAtHome       3022 non-null   float64\n",
      " 30  MeanCommute      3022 non-null   float64\n",
      " 31  Employed         3022 non-null   int64  \n",
      " 32  PrivateWork      3022 non-null   float64\n",
      " 33  PublicWork       3022 non-null   float64\n",
      " 34  SelfEmployed     3022 non-null   float64\n",
      " 35  FamilyWork       3022 non-null   float64\n",
      " 36  Unemployment     3022 non-null   float64\n",
      "dtypes: float64(27), int64(8), object(2)\n",
      "memory usage: 897.2+ KB\n"
     ]
    }
   ],
   "source": [
    "census.info()"
   ]
  },
  {
   "cell_type": "code",
   "execution_count": 12,
   "id": "46e14137",
   "metadata": {},
   "outputs": [],
   "source": [
    "# reescalado [0,1]\n",
    "\n",
    "def escala(x):\n",
    "    return (x/100).round(3)"
   ]
  },
  {
   "cell_type": "code",
   "execution_count": 13,
   "id": "d00ac9a3",
   "metadata": {},
   "outputs": [],
   "source": [
    "conversion=['Hispanic','White', 'Black', 'Native',\n",
    "            'Asian', 'Pacific', 'Poverty', 'ChildPoverty',\n",
    "            'Service', 'Office']"
   ]
  },
  {
   "cell_type": "code",
   "execution_count": 14,
   "id": "5d831264",
   "metadata": {},
   "outputs": [
    {
     "data": {
      "text/html": [
       "<div>\n",
       "<style scoped>\n",
       "    .dataframe tbody tr th:only-of-type {\n",
       "        vertical-align: middle;\n",
       "    }\n",
       "\n",
       "    .dataframe tbody tr th {\n",
       "        vertical-align: top;\n",
       "    }\n",
       "\n",
       "    .dataframe thead th {\n",
       "        text-align: right;\n",
       "    }\n",
       "</style>\n",
       "<table border=\"1\" class=\"dataframe\">\n",
       "  <thead>\n",
       "    <tr style=\"text-align: right;\">\n",
       "      <th></th>\n",
       "      <th>CensusId</th>\n",
       "      <th>State</th>\n",
       "      <th>County</th>\n",
       "      <th>TotalPop</th>\n",
       "      <th>Men</th>\n",
       "      <th>Women</th>\n",
       "      <th>Hispanic</th>\n",
       "      <th>White</th>\n",
       "      <th>Black</th>\n",
       "      <th>Native</th>\n",
       "      <th>...</th>\n",
       "      <th>HispanicRate</th>\n",
       "      <th>WhiteRate</th>\n",
       "      <th>BlackRate</th>\n",
       "      <th>NativeRate</th>\n",
       "      <th>AsianRate</th>\n",
       "      <th>PacificRate</th>\n",
       "      <th>PovertyRate</th>\n",
       "      <th>ChildPovertyRate</th>\n",
       "      <th>ServiceRate</th>\n",
       "      <th>OfficeRate</th>\n",
       "    </tr>\n",
       "  </thead>\n",
       "  <tbody>\n",
       "    <tr>\n",
       "      <th>0</th>\n",
       "      <td>1001</td>\n",
       "      <td>Alabama</td>\n",
       "      <td>Autauga</td>\n",
       "      <td>55221</td>\n",
       "      <td>26745</td>\n",
       "      <td>28476</td>\n",
       "      <td>2.6</td>\n",
       "      <td>75.8</td>\n",
       "      <td>18.5</td>\n",
       "      <td>0.4</td>\n",
       "      <td>...</td>\n",
       "      <td>0.026</td>\n",
       "      <td>0.758</td>\n",
       "      <td>0.185</td>\n",
       "      <td>0.004</td>\n",
       "      <td>0.010</td>\n",
       "      <td>0.0</td>\n",
       "      <td>0.129</td>\n",
       "      <td>0.186</td>\n",
       "      <td>0.170</td>\n",
       "      <td>0.242</td>\n",
       "    </tr>\n",
       "    <tr>\n",
       "      <th>1</th>\n",
       "      <td>1003</td>\n",
       "      <td>Alabama</td>\n",
       "      <td>Baldwin</td>\n",
       "      <td>195121</td>\n",
       "      <td>95314</td>\n",
       "      <td>99807</td>\n",
       "      <td>4.5</td>\n",
       "      <td>83.1</td>\n",
       "      <td>9.5</td>\n",
       "      <td>0.6</td>\n",
       "      <td>...</td>\n",
       "      <td>0.045</td>\n",
       "      <td>0.831</td>\n",
       "      <td>0.095</td>\n",
       "      <td>0.006</td>\n",
       "      <td>0.007</td>\n",
       "      <td>0.0</td>\n",
       "      <td>0.134</td>\n",
       "      <td>0.192</td>\n",
       "      <td>0.177</td>\n",
       "      <td>0.271</td>\n",
       "    </tr>\n",
       "    <tr>\n",
       "      <th>2</th>\n",
       "      <td>1005</td>\n",
       "      <td>Alabama</td>\n",
       "      <td>Barbour</td>\n",
       "      <td>26932</td>\n",
       "      <td>14497</td>\n",
       "      <td>12435</td>\n",
       "      <td>4.6</td>\n",
       "      <td>46.2</td>\n",
       "      <td>46.7</td>\n",
       "      <td>0.2</td>\n",
       "      <td>...</td>\n",
       "      <td>0.046</td>\n",
       "      <td>0.462</td>\n",
       "      <td>0.467</td>\n",
       "      <td>0.002</td>\n",
       "      <td>0.004</td>\n",
       "      <td>0.0</td>\n",
       "      <td>0.267</td>\n",
       "      <td>0.453</td>\n",
       "      <td>0.161</td>\n",
       "      <td>0.231</td>\n",
       "    </tr>\n",
       "    <tr>\n",
       "      <th>3</th>\n",
       "      <td>1007</td>\n",
       "      <td>Alabama</td>\n",
       "      <td>Bibb</td>\n",
       "      <td>22604</td>\n",
       "      <td>12073</td>\n",
       "      <td>10531</td>\n",
       "      <td>2.2</td>\n",
       "      <td>74.5</td>\n",
       "      <td>21.4</td>\n",
       "      <td>0.4</td>\n",
       "      <td>...</td>\n",
       "      <td>0.022</td>\n",
       "      <td>0.745</td>\n",
       "      <td>0.214</td>\n",
       "      <td>0.004</td>\n",
       "      <td>0.001</td>\n",
       "      <td>0.0</td>\n",
       "      <td>0.168</td>\n",
       "      <td>0.279</td>\n",
       "      <td>0.179</td>\n",
       "      <td>0.178</td>\n",
       "    </tr>\n",
       "    <tr>\n",
       "      <th>4</th>\n",
       "      <td>1009</td>\n",
       "      <td>Alabama</td>\n",
       "      <td>Blount</td>\n",
       "      <td>57710</td>\n",
       "      <td>28512</td>\n",
       "      <td>29198</td>\n",
       "      <td>8.6</td>\n",
       "      <td>87.9</td>\n",
       "      <td>1.5</td>\n",
       "      <td>0.3</td>\n",
       "      <td>...</td>\n",
       "      <td>0.086</td>\n",
       "      <td>0.879</td>\n",
       "      <td>0.015</td>\n",
       "      <td>0.003</td>\n",
       "      <td>0.001</td>\n",
       "      <td>0.0</td>\n",
       "      <td>0.167</td>\n",
       "      <td>0.272</td>\n",
       "      <td>0.141</td>\n",
       "      <td>0.239</td>\n",
       "    </tr>\n",
       "  </tbody>\n",
       "</table>\n",
       "<p>5 rows × 47 columns</p>\n",
       "</div>"
      ],
      "text/plain": [
       "   CensusId    State   County  TotalPop    Men  Women  Hispanic  White  Black  \\\n",
       "0      1001  Alabama  Autauga     55221  26745  28476       2.6   75.8   18.5   \n",
       "1      1003  Alabama  Baldwin    195121  95314  99807       4.5   83.1    9.5   \n",
       "2      1005  Alabama  Barbour     26932  14497  12435       4.6   46.2   46.7   \n",
       "3      1007  Alabama     Bibb     22604  12073  10531       2.2   74.5   21.4   \n",
       "4      1009  Alabama   Blount     57710  28512  29198       8.6   87.9    1.5   \n",
       "\n",
       "   Native  ...  HispanicRate  WhiteRate  BlackRate  NativeRate  AsianRate  \\\n",
       "0     0.4  ...         0.026      0.758      0.185       0.004      0.010   \n",
       "1     0.6  ...         0.045      0.831      0.095       0.006      0.007   \n",
       "2     0.2  ...         0.046      0.462      0.467       0.002      0.004   \n",
       "3     0.4  ...         0.022      0.745      0.214       0.004      0.001   \n",
       "4     0.3  ...         0.086      0.879      0.015       0.003      0.001   \n",
       "\n",
       "   PacificRate  PovertyRate  ChildPovertyRate  ServiceRate  OfficeRate  \n",
       "0          0.0        0.129             0.186        0.170       0.242  \n",
       "1          0.0        0.134             0.192        0.177       0.271  \n",
       "2          0.0        0.267             0.453        0.161       0.231  \n",
       "3          0.0        0.168             0.279        0.179       0.178  \n",
       "4          0.0        0.167             0.272        0.141       0.239  \n",
       "\n",
       "[5 rows x 47 columns]"
      ]
     },
     "execution_count": 14,
     "metadata": {},
     "output_type": "execute_result"
    }
   ],
   "source": [
    "n_columnas=[x+'Rate' for x in conversion]\n",
    "\n",
    "census[n_columnas]=census[conversion].apply(escala)\n",
    "\n",
    "census.head()"
   ]
  },
  {
   "cell_type": "code",
   "execution_count": 15,
   "id": "71171e17",
   "metadata": {},
   "outputs": [],
   "source": [
    "# normalizacion\n",
    "\n",
    "from sklearn.preprocessing import StandardScaler, MinMaxScaler, RobustScaler"
   ]
  },
  {
   "cell_type": "code",
   "execution_count": 16,
   "id": "0e87d2c0",
   "metadata": {},
   "outputs": [
    {
     "data": {
      "text/html": [
       "<div>\n",
       "<style scoped>\n",
       "    .dataframe tbody tr th:only-of-type {\n",
       "        vertical-align: middle;\n",
       "    }\n",
       "\n",
       "    .dataframe tbody tr th {\n",
       "        vertical-align: top;\n",
       "    }\n",
       "\n",
       "    .dataframe thead th {\n",
       "        text-align: right;\n",
       "    }\n",
       "</style>\n",
       "<table border=\"1\" class=\"dataframe\">\n",
       "  <thead>\n",
       "    <tr style=\"text-align: right;\">\n",
       "      <th></th>\n",
       "      <th>CensusId</th>\n",
       "      <th>State</th>\n",
       "      <th>County</th>\n",
       "      <th>TotalPop</th>\n",
       "      <th>Men</th>\n",
       "      <th>Women</th>\n",
       "      <th>Hispanic</th>\n",
       "      <th>White</th>\n",
       "      <th>Black</th>\n",
       "      <th>Native</th>\n",
       "      <th>...</th>\n",
       "      <th>WhiteRate</th>\n",
       "      <th>BlackRate</th>\n",
       "      <th>NativeRate</th>\n",
       "      <th>AsianRate</th>\n",
       "      <th>PacificRate</th>\n",
       "      <th>PovertyRate</th>\n",
       "      <th>ChildPovertyRate</th>\n",
       "      <th>ServiceRate</th>\n",
       "      <th>OfficeRate</th>\n",
       "      <th>TotalPopScaled</th>\n",
       "    </tr>\n",
       "  </thead>\n",
       "  <tbody>\n",
       "    <tr>\n",
       "      <th>0</th>\n",
       "      <td>1001</td>\n",
       "      <td>Alabama</td>\n",
       "      <td>Autauga</td>\n",
       "      <td>55221</td>\n",
       "      <td>26745</td>\n",
       "      <td>28476</td>\n",
       "      <td>2.6</td>\n",
       "      <td>75.8</td>\n",
       "      <td>18.5</td>\n",
       "      <td>0.4</td>\n",
       "      <td>...</td>\n",
       "      <td>0.758</td>\n",
       "      <td>0.185</td>\n",
       "      <td>0.004</td>\n",
       "      <td>0.010</td>\n",
       "      <td>0.0</td>\n",
       "      <td>0.129</td>\n",
       "      <td>0.186</td>\n",
       "      <td>0.170</td>\n",
       "      <td>0.242</td>\n",
       "      <td>0.446361</td>\n",
       "    </tr>\n",
       "    <tr>\n",
       "      <th>1</th>\n",
       "      <td>1003</td>\n",
       "      <td>Alabama</td>\n",
       "      <td>Baldwin</td>\n",
       "      <td>195121</td>\n",
       "      <td>95314</td>\n",
       "      <td>99807</td>\n",
       "      <td>4.5</td>\n",
       "      <td>83.1</td>\n",
       "      <td>9.5</td>\n",
       "      <td>0.6</td>\n",
       "      <td>...</td>\n",
       "      <td>0.831</td>\n",
       "      <td>0.095</td>\n",
       "      <td>0.006</td>\n",
       "      <td>0.007</td>\n",
       "      <td>0.0</td>\n",
       "      <td>0.134</td>\n",
       "      <td>0.192</td>\n",
       "      <td>0.177</td>\n",
       "      <td>0.271</td>\n",
       "      <td>2.790117</td>\n",
       "    </tr>\n",
       "    <tr>\n",
       "      <th>2</th>\n",
       "      <td>1005</td>\n",
       "      <td>Alabama</td>\n",
       "      <td>Barbour</td>\n",
       "      <td>26932</td>\n",
       "      <td>14497</td>\n",
       "      <td>12435</td>\n",
       "      <td>4.6</td>\n",
       "      <td>46.2</td>\n",
       "      <td>46.7</td>\n",
       "      <td>0.2</td>\n",
       "      <td>...</td>\n",
       "      <td>0.462</td>\n",
       "      <td>0.467</td>\n",
       "      <td>0.002</td>\n",
       "      <td>0.004</td>\n",
       "      <td>0.0</td>\n",
       "      <td>0.267</td>\n",
       "      <td>0.453</td>\n",
       "      <td>0.161</td>\n",
       "      <td>0.231</td>\n",
       "      <td>-0.027567</td>\n",
       "    </tr>\n",
       "    <tr>\n",
       "      <th>3</th>\n",
       "      <td>1007</td>\n",
       "      <td>Alabama</td>\n",
       "      <td>Bibb</td>\n",
       "      <td>22604</td>\n",
       "      <td>12073</td>\n",
       "      <td>10531</td>\n",
       "      <td>2.2</td>\n",
       "      <td>74.5</td>\n",
       "      <td>21.4</td>\n",
       "      <td>0.4</td>\n",
       "      <td>...</td>\n",
       "      <td>0.745</td>\n",
       "      <td>0.214</td>\n",
       "      <td>0.004</td>\n",
       "      <td>0.001</td>\n",
       "      <td>0.0</td>\n",
       "      <td>0.168</td>\n",
       "      <td>0.279</td>\n",
       "      <td>0.179</td>\n",
       "      <td>0.178</td>\n",
       "      <td>-0.100075</td>\n",
       "    </tr>\n",
       "    <tr>\n",
       "      <th>4</th>\n",
       "      <td>1009</td>\n",
       "      <td>Alabama</td>\n",
       "      <td>Blount</td>\n",
       "      <td>57710</td>\n",
       "      <td>28512</td>\n",
       "      <td>29198</td>\n",
       "      <td>8.6</td>\n",
       "      <td>87.9</td>\n",
       "      <td>1.5</td>\n",
       "      <td>0.3</td>\n",
       "      <td>...</td>\n",
       "      <td>0.879</td>\n",
       "      <td>0.015</td>\n",
       "      <td>0.003</td>\n",
       "      <td>0.001</td>\n",
       "      <td>0.0</td>\n",
       "      <td>0.167</td>\n",
       "      <td>0.272</td>\n",
       "      <td>0.141</td>\n",
       "      <td>0.239</td>\n",
       "      <td>0.488059</td>\n",
       "    </tr>\n",
       "  </tbody>\n",
       "</table>\n",
       "<p>5 rows × 48 columns</p>\n",
       "</div>"
      ],
      "text/plain": [
       "   CensusId    State   County  TotalPop    Men  Women  Hispanic  White  Black  \\\n",
       "0      1001  Alabama  Autauga     55221  26745  28476       2.6   75.8   18.5   \n",
       "1      1003  Alabama  Baldwin    195121  95314  99807       4.5   83.1    9.5   \n",
       "2      1005  Alabama  Barbour     26932  14497  12435       4.6   46.2   46.7   \n",
       "3      1007  Alabama     Bibb     22604  12073  10531       2.2   74.5   21.4   \n",
       "4      1009  Alabama   Blount     57710  28512  29198       8.6   87.9    1.5   \n",
       "\n",
       "   Native  ...  WhiteRate  BlackRate  NativeRate  AsianRate  PacificRate  \\\n",
       "0     0.4  ...      0.758      0.185       0.004      0.010          0.0   \n",
       "1     0.6  ...      0.831      0.095       0.006      0.007          0.0   \n",
       "2     0.2  ...      0.462      0.467       0.002      0.004          0.0   \n",
       "3     0.4  ...      0.745      0.214       0.004      0.001          0.0   \n",
       "4     0.3  ...      0.879      0.015       0.003      0.001          0.0   \n",
       "\n",
       "   PovertyRate  ChildPovertyRate  ServiceRate  OfficeRate  TotalPopScaled  \n",
       "0        0.129             0.186        0.170       0.242        0.446361  \n",
       "1        0.134             0.192        0.177       0.271        2.790117  \n",
       "2        0.267             0.453        0.161       0.231       -0.027567  \n",
       "3        0.168             0.279        0.179       0.178       -0.100075  \n",
       "4        0.167             0.272        0.141       0.239        0.488059  \n",
       "\n",
       "[5 rows x 48 columns]"
      ]
     },
     "execution_count": 16,
     "metadata": {},
     "output_type": "execute_result"
    }
   ],
   "source": [
    "census['TotalPopScaled']=RobustScaler().fit_transform(census.TotalPop.values.reshape(-1, 1))\n",
    "\n",
    "census.head()"
   ]
  },
  {
   "cell_type": "code",
   "execution_count": 17,
   "id": "27adde0b",
   "metadata": {},
   "outputs": [
    {
     "data": {
      "text/plain": [
       "52"
      ]
     },
     "execution_count": 17,
     "metadata": {},
     "output_type": "execute_result"
    }
   ],
   "source": [
    "# one-hot encoding, get dummies\n",
    "\n",
    "len(census.State.value_counts())"
   ]
  },
  {
   "cell_type": "code",
   "execution_count": 18,
   "id": "b1b99da2",
   "metadata": {},
   "outputs": [
    {
     "data": {
      "text/html": [
       "<div>\n",
       "<style scoped>\n",
       "    .dataframe tbody tr th:only-of-type {\n",
       "        vertical-align: middle;\n",
       "    }\n",
       "\n",
       "    .dataframe tbody tr th {\n",
       "        vertical-align: top;\n",
       "    }\n",
       "\n",
       "    .dataframe thead th {\n",
       "        text-align: right;\n",
       "    }\n",
       "</style>\n",
       "<table border=\"1\" class=\"dataframe\">\n",
       "  <thead>\n",
       "    <tr style=\"text-align: right;\">\n",
       "      <th></th>\n",
       "      <th>CensusId</th>\n",
       "      <th>State</th>\n",
       "      <th>County</th>\n",
       "      <th>TotalPop</th>\n",
       "      <th>Men</th>\n",
       "      <th>Women</th>\n",
       "      <th>Hispanic</th>\n",
       "      <th>White</th>\n",
       "      <th>Black</th>\n",
       "      <th>Native</th>\n",
       "      <th>...</th>\n",
       "      <th>South Dakota</th>\n",
       "      <th>Tennessee</th>\n",
       "      <th>Texas</th>\n",
       "      <th>Utah</th>\n",
       "      <th>Vermont</th>\n",
       "      <th>Virginia</th>\n",
       "      <th>Washington</th>\n",
       "      <th>West Virginia</th>\n",
       "      <th>Wisconsin</th>\n",
       "      <th>Wyoming</th>\n",
       "    </tr>\n",
       "  </thead>\n",
       "  <tbody>\n",
       "    <tr>\n",
       "      <th>3215</th>\n",
       "      <td>72145</td>\n",
       "      <td>Puerto Rico</td>\n",
       "      <td>Vega Baja</td>\n",
       "      <td>56858</td>\n",
       "      <td>27379</td>\n",
       "      <td>29479</td>\n",
       "      <td>96.4</td>\n",
       "      <td>3.4</td>\n",
       "      <td>0.1</td>\n",
       "      <td>0.0</td>\n",
       "      <td>...</td>\n",
       "      <td>0</td>\n",
       "      <td>0</td>\n",
       "      <td>0</td>\n",
       "      <td>0</td>\n",
       "      <td>0</td>\n",
       "      <td>0</td>\n",
       "      <td>0</td>\n",
       "      <td>0</td>\n",
       "      <td>0</td>\n",
       "      <td>0</td>\n",
       "    </tr>\n",
       "    <tr>\n",
       "      <th>3216</th>\n",
       "      <td>72147</td>\n",
       "      <td>Puerto Rico</td>\n",
       "      <td>Vieques</td>\n",
       "      <td>9130</td>\n",
       "      <td>4585</td>\n",
       "      <td>4545</td>\n",
       "      <td>96.7</td>\n",
       "      <td>2.9</td>\n",
       "      <td>0.0</td>\n",
       "      <td>0.0</td>\n",
       "      <td>...</td>\n",
       "      <td>0</td>\n",
       "      <td>0</td>\n",
       "      <td>0</td>\n",
       "      <td>0</td>\n",
       "      <td>0</td>\n",
       "      <td>0</td>\n",
       "      <td>0</td>\n",
       "      <td>0</td>\n",
       "      <td>0</td>\n",
       "      <td>0</td>\n",
       "    </tr>\n",
       "    <tr>\n",
       "      <th>3217</th>\n",
       "      <td>72149</td>\n",
       "      <td>Puerto Rico</td>\n",
       "      <td>Villalba</td>\n",
       "      <td>24685</td>\n",
       "      <td>12086</td>\n",
       "      <td>12599</td>\n",
       "      <td>99.7</td>\n",
       "      <td>0.0</td>\n",
       "      <td>0.0</td>\n",
       "      <td>0.0</td>\n",
       "      <td>...</td>\n",
       "      <td>0</td>\n",
       "      <td>0</td>\n",
       "      <td>0</td>\n",
       "      <td>0</td>\n",
       "      <td>0</td>\n",
       "      <td>0</td>\n",
       "      <td>0</td>\n",
       "      <td>0</td>\n",
       "      <td>0</td>\n",
       "      <td>0</td>\n",
       "    </tr>\n",
       "    <tr>\n",
       "      <th>3218</th>\n",
       "      <td>72151</td>\n",
       "      <td>Puerto Rico</td>\n",
       "      <td>Yabucoa</td>\n",
       "      <td>36279</td>\n",
       "      <td>17648</td>\n",
       "      <td>18631</td>\n",
       "      <td>99.8</td>\n",
       "      <td>0.2</td>\n",
       "      <td>0.0</td>\n",
       "      <td>0.0</td>\n",
       "      <td>...</td>\n",
       "      <td>0</td>\n",
       "      <td>0</td>\n",
       "      <td>0</td>\n",
       "      <td>0</td>\n",
       "      <td>0</td>\n",
       "      <td>0</td>\n",
       "      <td>0</td>\n",
       "      <td>0</td>\n",
       "      <td>0</td>\n",
       "      <td>0</td>\n",
       "    </tr>\n",
       "    <tr>\n",
       "      <th>3219</th>\n",
       "      <td>72153</td>\n",
       "      <td>Puerto Rico</td>\n",
       "      <td>Yauco</td>\n",
       "      <td>39474</td>\n",
       "      <td>19047</td>\n",
       "      <td>20427</td>\n",
       "      <td>99.5</td>\n",
       "      <td>0.5</td>\n",
       "      <td>0.0</td>\n",
       "      <td>0.0</td>\n",
       "      <td>...</td>\n",
       "      <td>0</td>\n",
       "      <td>0</td>\n",
       "      <td>0</td>\n",
       "      <td>0</td>\n",
       "      <td>0</td>\n",
       "      <td>0</td>\n",
       "      <td>0</td>\n",
       "      <td>0</td>\n",
       "      <td>0</td>\n",
       "      <td>0</td>\n",
       "    </tr>\n",
       "  </tbody>\n",
       "</table>\n",
       "<p>5 rows × 99 columns</p>\n",
       "</div>"
      ],
      "text/plain": [
       "      CensusId        State     County  TotalPop    Men  Women  Hispanic  \\\n",
       "3215     72145  Puerto Rico  Vega Baja     56858  27379  29479      96.4   \n",
       "3216     72147  Puerto Rico    Vieques      9130   4585   4545      96.7   \n",
       "3217     72149  Puerto Rico   Villalba     24685  12086  12599      99.7   \n",
       "3218     72151  Puerto Rico    Yabucoa     36279  17648  18631      99.8   \n",
       "3219     72153  Puerto Rico      Yauco     39474  19047  20427      99.5   \n",
       "\n",
       "      White  Black  Native  ...  South Dakota  Tennessee  Texas  Utah  \\\n",
       "3215    3.4    0.1     0.0  ...             0          0      0     0   \n",
       "3216    2.9    0.0     0.0  ...             0          0      0     0   \n",
       "3217    0.0    0.0     0.0  ...             0          0      0     0   \n",
       "3218    0.2    0.0     0.0  ...             0          0      0     0   \n",
       "3219    0.5    0.0     0.0  ...             0          0      0     0   \n",
       "\n",
       "      Vermont  Virginia  Washington  West Virginia  Wisconsin  Wyoming  \n",
       "3215        0         0           0              0          0        0  \n",
       "3216        0         0           0              0          0        0  \n",
       "3217        0         0           0              0          0        0  \n",
       "3218        0         0           0              0          0        0  \n",
       "3219        0         0           0              0          0        0  \n",
       "\n",
       "[5 rows x 99 columns]"
      ]
     },
     "execution_count": 18,
     "metadata": {},
     "output_type": "execute_result"
    }
   ],
   "source": [
    "state=pd.get_dummies(census.State, drop_first=True)\n",
    "\n",
    "census=pd.concat([census, state], axis=1)\n",
    "\n",
    "census.tail()"
   ]
  },
  {
   "cell_type": "code",
   "execution_count": 19,
   "id": "7e0070f4",
   "metadata": {},
   "outputs": [],
   "source": [
    "from sklearn.preprocessing import LabelEncoder, OrdinalEncoder"
   ]
  },
  {
   "cell_type": "code",
   "execution_count": 20,
   "id": "692d7e7b",
   "metadata": {},
   "outputs": [
    {
     "data": {
      "text/plain": [
       "array([0, 0, 0, 0, 0, 0, 0, 0, 0, 0])"
      ]
     },
     "execution_count": 20,
     "metadata": {},
     "output_type": "execute_result"
    }
   ],
   "source": [
    "LabelEncoder().fit_transform(census.State)[30:40]"
   ]
  },
  {
   "cell_type": "code",
   "execution_count": 21,
   "id": "062cac94",
   "metadata": {},
   "outputs": [
    {
     "data": {
      "text/plain": [
       "array([], shape=(0, 3022), dtype=float64)"
      ]
     },
     "execution_count": 21,
     "metadata": {},
     "output_type": "execute_result"
    }
   ],
   "source": [
    "OrdinalEncoder().fit_transform(census.State.values.reshape(1, -1))[30:40]"
   ]
  },
  {
   "cell_type": "code",
   "execution_count": 22,
   "id": "72d25150",
   "metadata": {},
   "outputs": [
    {
     "data": {
      "text/plain": [
       "array([ 1001,  1003,  1005, ..., 72149, 72151, 72153], dtype=int64)"
      ]
     },
     "execution_count": 22,
     "metadata": {},
     "output_type": "execute_result"
    }
   ],
   "source": [
    "census.CensusId.unique()"
   ]
  },
  {
   "cell_type": "code",
   "execution_count": 23,
   "id": "f223f59d",
   "metadata": {},
   "outputs": [
    {
     "data": {
      "image/png": "[encoded data removed]",
      "text/plain": [
       "<Figure size 576x576 with 2 Axes>"
      ]
     },
     "metadata": {
      "needs_background": "light"
     },
     "output_type": "display_data"
    }
   ],
   "source": [
    "# colinealidad\n",
    "\n",
    "import seaborn as sns\n",
    "\n",
    "plt.figure(figsize=(8,8))\n",
    "\n",
    "sns.heatmap(census[['TotalPop', 'Men', 'Women']].corr());"
   ]
  },
  {
   "cell_type": "code",
   "execution_count": 24,
   "id": "f6cb1379",
   "metadata": {},
   "outputs": [
    {
     "data": {
      "image/png": "[encoded data removed]",
      "text/plain": [
       "<Figure size 576x576 with 2 Axes>"
      ]
     },
     "metadata": {
      "needs_background": "light"
     },
     "output_type": "display_data"
    }
   ],
   "source": [
    "plt.figure(figsize=(8,8))\n",
    "\n",
    "sns.heatmap(census.corr());"
   ]
  },
  {
   "cell_type": "code",
   "execution_count": 25,
   "id": "4ecc25a9",
   "metadata": {},
   "outputs": [
    {
     "data": {
      "text/html": [
       "<div>\n",
       "<style scoped>\n",
       "    .dataframe tbody tr th:only-of-type {\n",
       "        vertical-align: middle;\n",
       "    }\n",
       "\n",
       "    .dataframe tbody tr th {\n",
       "        vertical-align: top;\n",
       "    }\n",
       "\n",
       "    .dataframe thead th {\n",
       "        text-align: right;\n",
       "    }\n",
       "</style>\n",
       "<table border=\"1\" class=\"dataframe\">\n",
       "  <thead>\n",
       "    <tr style=\"text-align: right;\">\n",
       "      <th></th>\n",
       "      <th>CensusId</th>\n",
       "      <th>State</th>\n",
       "      <th>County</th>\n",
       "      <th>TotalPop</th>\n",
       "      <th>Men</th>\n",
       "      <th>Women</th>\n",
       "      <th>Hispanic</th>\n",
       "      <th>White</th>\n",
       "      <th>Black</th>\n",
       "      <th>Native</th>\n",
       "      <th>...</th>\n",
       "      <th>South Dakota</th>\n",
       "      <th>Tennessee</th>\n",
       "      <th>Texas</th>\n",
       "      <th>Utah</th>\n",
       "      <th>Vermont</th>\n",
       "      <th>Virginia</th>\n",
       "      <th>Washington</th>\n",
       "      <th>West Virginia</th>\n",
       "      <th>Wisconsin</th>\n",
       "      <th>Wyoming</th>\n",
       "    </tr>\n",
       "  </thead>\n",
       "  <tbody>\n",
       "    <tr>\n",
       "      <th>0</th>\n",
       "      <td>1001</td>\n",
       "      <td>Alabama</td>\n",
       "      <td>Autauga</td>\n",
       "      <td>55221</td>\n",
       "      <td>26745</td>\n",
       "      <td>28476</td>\n",
       "      <td>2.6</td>\n",
       "      <td>75.8</td>\n",
       "      <td>18.5</td>\n",
       "      <td>0.4</td>\n",
       "      <td>...</td>\n",
       "      <td>0</td>\n",
       "      <td>0</td>\n",
       "      <td>0</td>\n",
       "      <td>0</td>\n",
       "      <td>0</td>\n",
       "      <td>0</td>\n",
       "      <td>0</td>\n",
       "      <td>0</td>\n",
       "      <td>0</td>\n",
       "      <td>0</td>\n",
       "    </tr>\n",
       "    <tr>\n",
       "      <th>1</th>\n",
       "      <td>1003</td>\n",
       "      <td>Alabama</td>\n",
       "      <td>Baldwin</td>\n",
       "      <td>195121</td>\n",
       "      <td>95314</td>\n",
       "      <td>99807</td>\n",
       "      <td>4.5</td>\n",
       "      <td>83.1</td>\n",
       "      <td>9.5</td>\n",
       "      <td>0.6</td>\n",
       "      <td>...</td>\n",
       "      <td>0</td>\n",
       "      <td>0</td>\n",
       "      <td>0</td>\n",
       "      <td>0</td>\n",
       "      <td>0</td>\n",
       "      <td>0</td>\n",
       "      <td>0</td>\n",
       "      <td>0</td>\n",
       "      <td>0</td>\n",
       "      <td>0</td>\n",
       "    </tr>\n",
       "    <tr>\n",
       "      <th>2</th>\n",
       "      <td>1005</td>\n",
       "      <td>Alabama</td>\n",
       "      <td>Barbour</td>\n",
       "      <td>26932</td>\n",
       "      <td>14497</td>\n",
       "      <td>12435</td>\n",
       "      <td>4.6</td>\n",
       "      <td>46.2</td>\n",
       "      <td>46.7</td>\n",
       "      <td>0.2</td>\n",
       "      <td>...</td>\n",
       "      <td>0</td>\n",
       "      <td>0</td>\n",
       "      <td>0</td>\n",
       "      <td>0</td>\n",
       "      <td>0</td>\n",
       "      <td>0</td>\n",
       "      <td>0</td>\n",
       "      <td>0</td>\n",
       "      <td>0</td>\n",
       "      <td>0</td>\n",
       "    </tr>\n",
       "    <tr>\n",
       "      <th>3</th>\n",
       "      <td>1007</td>\n",
       "      <td>Alabama</td>\n",
       "      <td>Bibb</td>\n",
       "      <td>22604</td>\n",
       "      <td>12073</td>\n",
       "      <td>10531</td>\n",
       "      <td>2.2</td>\n",
       "      <td>74.5</td>\n",
       "      <td>21.4</td>\n",
       "      <td>0.4</td>\n",
       "      <td>...</td>\n",
       "      <td>0</td>\n",
       "      <td>0</td>\n",
       "      <td>0</td>\n",
       "      <td>0</td>\n",
       "      <td>0</td>\n",
       "      <td>0</td>\n",
       "      <td>0</td>\n",
       "      <td>0</td>\n",
       "      <td>0</td>\n",
       "      <td>0</td>\n",
       "    </tr>\n",
       "    <tr>\n",
       "      <th>4</th>\n",
       "      <td>1009</td>\n",
       "      <td>Alabama</td>\n",
       "      <td>Blount</td>\n",
       "      <td>57710</td>\n",
       "      <td>28512</td>\n",
       "      <td>29198</td>\n",
       "      <td>8.6</td>\n",
       "      <td>87.9</td>\n",
       "      <td>1.5</td>\n",
       "      <td>0.3</td>\n",
       "      <td>...</td>\n",
       "      <td>0</td>\n",
       "      <td>0</td>\n",
       "      <td>0</td>\n",
       "      <td>0</td>\n",
       "      <td>0</td>\n",
       "      <td>0</td>\n",
       "      <td>0</td>\n",
       "      <td>0</td>\n",
       "      <td>0</td>\n",
       "      <td>0</td>\n",
       "    </tr>\n",
       "  </tbody>\n",
       "</table>\n",
       "<p>5 rows × 99 columns</p>\n",
       "</div>"
      ],
      "text/plain": [
       "   CensusId    State   County  TotalPop    Men  Women  Hispanic  White  Black  \\\n",
       "0      1001  Alabama  Autauga     55221  26745  28476       2.6   75.8   18.5   \n",
       "1      1003  Alabama  Baldwin    195121  95314  99807       4.5   83.1    9.5   \n",
       "2      1005  Alabama  Barbour     26932  14497  12435       4.6   46.2   46.7   \n",
       "3      1007  Alabama     Bibb     22604  12073  10531       2.2   74.5   21.4   \n",
       "4      1009  Alabama   Blount     57710  28512  29198       8.6   87.9    1.5   \n",
       "\n",
       "   Native  ...  South Dakota  Tennessee  Texas  Utah  Vermont  Virginia  \\\n",
       "0     0.4  ...             0          0      0     0        0         0   \n",
       "1     0.6  ...             0          0      0     0        0         0   \n",
       "2     0.2  ...             0          0      0     0        0         0   \n",
       "3     0.4  ...             0          0      0     0        0         0   \n",
       "4     0.3  ...             0          0      0     0        0         0   \n",
       "\n",
       "   Washington  West Virginia  Wisconsin  Wyoming  \n",
       "0           0              0          0        0  \n",
       "1           0              0          0        0  \n",
       "2           0              0          0        0  \n",
       "3           0              0          0        0  \n",
       "4           0              0          0        0  \n",
       "\n",
       "[5 rows x 99 columns]"
      ]
     },
     "execution_count": 25,
     "metadata": {},
     "output_type": "execute_result"
    }
   ],
   "source": [
    "census.head()"
   ]
  },
  {
   "cell_type": "code",
   "execution_count": 26,
   "id": "c7ad0006",
   "metadata": {},
   "outputs": [],
   "source": [
    "# train-test-split\n",
    "\n",
    "from sklearn.model_selection import train_test_split as tts"
   ]
  },
  {
   "cell_type": "code",
   "execution_count": 27,
   "id": "b56ccc7f",
   "metadata": {},
   "outputs": [],
   "source": [
    "# split 80-20\n",
    "\n",
    "train, test = tts(census, test_size=0.2, train_size=0.8, random_state=42)"
   ]
  },
  {
   "cell_type": "code",
   "execution_count": 28,
   "id": "0aed4181",
   "metadata": {},
   "outputs": [
    {
     "data": {
      "text/plain": [
       "(3022, 99)"
      ]
     },
     "execution_count": 28,
     "metadata": {},
     "output_type": "execute_result"
    }
   ],
   "source": [
    "census.shape"
   ]
  },
  {
   "cell_type": "code",
   "execution_count": 29,
   "id": "a76627df",
   "metadata": {},
   "outputs": [
    {
     "data": {
      "text/plain": [
       "(2417, 99)"
      ]
     },
     "execution_count": 29,
     "metadata": {},
     "output_type": "execute_result"
    }
   ],
   "source": [
    "train.shape"
   ]
  },
  {
   "cell_type": "code",
   "execution_count": 30,
   "id": "021815ea",
   "metadata": {},
   "outputs": [
    {
     "data": {
      "text/plain": [
       "(605, 99)"
      ]
     },
     "execution_count": 30,
     "metadata": {},
     "output_type": "execute_result"
    }
   ],
   "source": [
    "test.shape"
   ]
  },
  {
   "cell_type": "code",
   "execution_count": 31,
   "id": "2aa4c0d5",
   "metadata": {},
   "outputs": [],
   "source": [
    "census=census.dropna()"
   ]
  },
  {
   "cell_type": "code",
   "execution_count": 32,
   "id": "2fc0193b",
   "metadata": {},
   "outputs": [],
   "source": [
    "X = census.drop(columns=['TotalPop', 'CensusId', 'Men', 'Women',\n",
    "                        'Hispanic','White', 'Black', 'Native',\n",
    "                        'Asian', 'Pacific', 'Poverty', 'ChildPoverty',\n",
    "                        'Service', 'Office', 'TotalPopScaled', 'PovertyRate',\n",
    "                        'Income', 'IncomeErr', 'IncomePerCap', 'IncomePerCapErr'])._get_numeric_data()  # datos\n",
    "\n",
    "y = census.PovertyRate  # objetivo"
   ]
  },
  {
   "cell_type": "code",
   "execution_count": 33,
   "id": "c739fc84",
   "metadata": {},
   "outputs": [],
   "source": [
    "X_train, X_test, y_train, y_test = tts(X, y, test_size=0.2, random_state=42)"
   ]
  },
  {
   "cell_type": "code",
   "execution_count": 34,
   "id": "2797564d",
   "metadata": {},
   "outputs": [
    {
     "data": {
      "text/plain": [
       "(2416, 77)"
      ]
     },
     "execution_count": 34,
     "metadata": {},
     "output_type": "execute_result"
    }
   ],
   "source": [
    "X_train.shape"
   ]
  },
  {
   "cell_type": "code",
   "execution_count": 35,
   "id": "77fb8a92",
   "metadata": {},
   "outputs": [
    {
     "data": {
      "text/plain": [
       "(604, 77)"
      ]
     },
     "execution_count": 35,
     "metadata": {},
     "output_type": "execute_result"
    }
   ],
   "source": [
    "X_test.shape"
   ]
  },
  {
   "cell_type": "code",
   "execution_count": 36,
   "id": "74cffc05",
   "metadata": {},
   "outputs": [
    {
     "data": {
      "text/plain": [
       "(2416,)"
      ]
     },
     "execution_count": 36,
     "metadata": {},
     "output_type": "execute_result"
    }
   ],
   "source": [
    "y_train.shape"
   ]
  },
  {
   "cell_type": "code",
   "execution_count": 37,
   "id": "54240e57",
   "metadata": {},
   "outputs": [
    {
     "data": {
      "text/plain": [
       "(604,)"
      ]
     },
     "execution_count": 37,
     "metadata": {},
     "output_type": "execute_result"
    }
   ],
   "source": [
    "y_test.shape"
   ]
  },
  {
   "cell_type": "markdown",
   "id": "950cfbf9",
   "metadata": {},
   "source": [
    "**Modelo**"
   ]
  },
  {
   "cell_type": "code",
   "execution_count": 38,
   "id": "00c90dce",
   "metadata": {},
   "outputs": [],
   "source": [
    "from sklearn.linear_model import LinearRegression as LinReg\n",
    "from sklearn.metrics import r2_score"
   ]
  },
  {
   "cell_type": "code",
   "execution_count": 39,
   "id": "4887fa08",
   "metadata": {},
   "outputs": [
    {
     "data": {
      "text/plain": [
       "LinearRegression()"
      ]
     },
     "execution_count": 39,
     "metadata": {},
     "output_type": "execute_result"
    }
   ],
   "source": [
    "linreg=LinReg(fit_intercept=True)  # inicia la clase...\n",
    "\n",
    "linreg.fit(X_train, y_train)  # y entrena"
   ]
  },
  {
   "cell_type": "code",
   "execution_count": 40,
   "id": "d207c73d",
   "metadata": {},
   "outputs": [
    {
     "data": {
      "text/plain": [
       "-0.018231455586849743"
      ]
     },
     "execution_count": 40,
     "metadata": {},
     "output_type": "execute_result"
    }
   ],
   "source": [
    "linreg.intercept_"
   ]
  },
  {
   "cell_type": "code",
   "execution_count": 41,
   "id": "1d30793e",
   "metadata": {},
   "outputs": [
    {
     "data": {
      "text/plain": [
       "array([0.35456841, 0.07882293, 0.13381711, 0.22789708, 0.20967123,\n",
       "       0.17076872, 0.08956432, 0.13548838, 0.17699261, 0.15775859])"
      ]
     },
     "execution_count": 41,
     "metadata": {},
     "output_type": "execute_result"
    }
   ],
   "source": [
    "y_pred=linreg.predict(X_test)  # prediccion\n",
    "\n",
    "y_pred[:10]"
   ]
  },
  {
   "cell_type": "code",
   "execution_count": 42,
   "id": "80002bc8",
   "metadata": {},
   "outputs": [
    {
     "data": {
      "text/plain": [
       "(604,)"
      ]
     },
     "execution_count": 42,
     "metadata": {},
     "output_type": "execute_result"
    }
   ],
   "source": [
    "y_pred.shape"
   ]
  },
  {
   "cell_type": "code",
   "execution_count": 43,
   "id": "e8dcedb9",
   "metadata": {},
   "outputs": [
    {
     "data": {
      "text/plain": [
       "True"
      ]
     },
     "execution_count": 43,
     "metadata": {},
     "output_type": "execute_result"
    }
   ],
   "source": [
    "y_pred.shape==y_test.shape"
   ]
  },
  {
   "cell_type": "code",
   "execution_count": 44,
   "id": "46fb8ba2",
   "metadata": {},
   "outputs": [
    {
     "data": {
      "text/plain": [
       "0.933486081209112"
      ]
     },
     "execution_count": 44,
     "metadata": {},
     "output_type": "execute_result"
    }
   ],
   "source": [
    "r2_score(y_pred, y_test)"
   ]
  },
  {
   "cell_type": "code",
   "execution_count": 45,
   "id": "4fd9eb85",
   "metadata": {},
   "outputs": [
    {
     "data": {
      "text/plain": [
       "Index(['Citizen', 'Professional', 'Construction', 'Production', 'Drive',\n",
       "       'Carpool', 'Transit', 'Walk', 'OtherTransp', 'WorkAtHome',\n",
       "       'MeanCommute', 'Employed', 'PrivateWork', 'PublicWork', 'SelfEmployed',\n",
       "       'FamilyWork', 'Unemployment', 'HispanicRate', 'WhiteRate', 'BlackRate',\n",
       "       'NativeRate', 'AsianRate', 'PacificRate', 'ChildPovertyRate',\n",
       "       'ServiceRate', 'OfficeRate', 'Alaska', 'Arizona', 'Arkansas',\n",
       "       'California', 'Colorado', 'Connecticut', 'Delaware',\n",
       "       'District of Columbia', 'Florida', 'Georgia', 'Hawaii', 'Idaho',\n",
       "       'Illinois', 'Indiana', 'Iowa', 'Kansas', 'Kentucky', 'Louisiana',\n",
       "       'Maine', 'Maryland', 'Massachusetts', 'Michigan', 'Minnesota',\n",
       "       'Mississippi', 'Missouri', 'Montana', 'Nebraska', 'Nevada',\n",
       "       'New Hampshire', 'New Jersey', 'New Mexico', 'New York',\n",
       "       'North Carolina', 'North Dakota', 'Ohio', 'Oklahoma', 'Oregon',\n",
       "       'Pennsylvania', 'Puerto Rico', 'Rhode Island', 'South Carolina',\n",
       "       'South Dakota', 'Tennessee', 'Texas', 'Utah', 'Vermont', 'Virginia',\n",
       "       'Washington', 'West Virginia', 'Wisconsin', 'Wyoming'],\n",
       "      dtype='object')"
      ]
     },
     "execution_count": 45,
     "metadata": {},
     "output_type": "execute_result"
    }
   ],
   "source": [
    "X.columns"
   ]
  },
  {
   "cell_type": "markdown",
   "id": "2ebdc1b7",
   "metadata": {},
   "source": [
    "### Feature Extraction and Engineering"
   ]
  },
  {
   "cell_type": "code",
   "execution_count": 46,
   "id": "d3111245",
   "metadata": {},
   "outputs": [],
   "source": [
    "import zipfile"
   ]
  },
  {
   "cell_type": "code",
   "execution_count": 47,
   "id": "065bfe6c",
   "metadata": {},
   "outputs": [
    {
     "data": {
      "text/html": [
       "<div>\n",
       "<style scoped>\n",
       "    .dataframe tbody tr th:only-of-type {\n",
       "        vertical-align: middle;\n",
       "    }\n",
       "\n",
       "    .dataframe tbody tr th {\n",
       "        vertical-align: top;\n",
       "    }\n",
       "\n",
       "    .dataframe thead th {\n",
       "        text-align: right;\n",
       "    }\n",
       "</style>\n",
       "<table border=\"1\" class=\"dataframe\">\n",
       "  <thead>\n",
       "    <tr style=\"text-align: right;\">\n",
       "      <th></th>\n",
       "      <th>reservation_id</th>\n",
       "      <th>booking_date</th>\n",
       "      <th>checkin_date</th>\n",
       "      <th>checkout_date</th>\n",
       "      <th>channel_code</th>\n",
       "      <th>main_product_code</th>\n",
       "      <th>numberofadults</th>\n",
       "      <th>numberofchildren</th>\n",
       "      <th>persontravellingid</th>\n",
       "      <th>resort_region_code</th>\n",
       "      <th>...</th>\n",
       "      <th>season_holidayed_code</th>\n",
       "      <th>state_code_residence</th>\n",
       "      <th>state_code_resort</th>\n",
       "      <th>total_pax</th>\n",
       "      <th>member_age_buckets</th>\n",
       "      <th>booking_type_code</th>\n",
       "      <th>memberid</th>\n",
       "      <th>cluster_code</th>\n",
       "      <th>reservationstatusid_code</th>\n",
       "      <th>resort_id</th>\n",
       "    </tr>\n",
       "  </thead>\n",
       "  <tbody>\n",
       "    <tr>\n",
       "      <th>0</th>\n",
       "      <td>7dae1ce6bc8f69481328f2be5c4943077dad5598b5f66d...</td>\n",
       "      <td>05/04/18</td>\n",
       "      <td>05/04/18</td>\n",
       "      <td>06/04/18</td>\n",
       "      <td>3</td>\n",
       "      <td>2</td>\n",
       "      <td>2</td>\n",
       "      <td>0</td>\n",
       "      <td>45</td>\n",
       "      <td>3</td>\n",
       "      <td>...</td>\n",
       "      <td>2.0</td>\n",
       "      <td>2.0</td>\n",
       "      <td>3</td>\n",
       "      <td>3</td>\n",
       "      <td>H</td>\n",
       "      <td>1</td>\n",
       "      <td>2114944930dcc42ce5b9b50ae965cf8a9c04e46be63d84...</td>\n",
       "      <td>A</td>\n",
       "      <td>C</td>\n",
       "      <td>9f14025af0065b30e47e23ebb3b491d39ae8ed17d33739...</td>\n",
       "    </tr>\n",
       "    <tr>\n",
       "      <th>1</th>\n",
       "      <td>fe0d4e444e1818436c88f72f1cf800536c2f785e59baeb...</td>\n",
       "      <td>24/05/15</td>\n",
       "      <td>23/06/15</td>\n",
       "      <td>27/06/15</td>\n",
       "      <td>1</td>\n",
       "      <td>2</td>\n",
       "      <td>4</td>\n",
       "      <td>0</td>\n",
       "      <td>45</td>\n",
       "      <td>1</td>\n",
       "      <td>...</td>\n",
       "      <td>2.0</td>\n",
       "      <td>2.0</td>\n",
       "      <td>4</td>\n",
       "      <td>2</td>\n",
       "      <td>H</td>\n",
       "      <td>1</td>\n",
       "      <td>2114944930dcc42ce5b9b50ae965cf8a9c04e46be63d84...</td>\n",
       "      <td>F</td>\n",
       "      <td>A</td>\n",
       "      <td>e7f6c011776e8db7cd330b54174fd76f7d0216b612387a...</td>\n",
       "    </tr>\n",
       "    <tr>\n",
       "      <th>2</th>\n",
       "      <td>540bd4285ad8168e8388f84ee74a82cd4f97dc0a404d3e...</td>\n",
       "      <td>21/07/15</td>\n",
       "      <td>07/08/15</td>\n",
       "      <td>10/08/15</td>\n",
       "      <td>3</td>\n",
       "      <td>2</td>\n",
       "      <td>3</td>\n",
       "      <td>0</td>\n",
       "      <td>45</td>\n",
       "      <td>2</td>\n",
       "      <td>...</td>\n",
       "      <td>4.0</td>\n",
       "      <td>2.0</td>\n",
       "      <td>2</td>\n",
       "      <td>3</td>\n",
       "      <td>H</td>\n",
       "      <td>1</td>\n",
       "      <td>2114944930dcc42ce5b9b50ae965cf8a9c04e46be63d84...</td>\n",
       "      <td>D</td>\n",
       "      <td>A</td>\n",
       "      <td>d4735e3a265e16eee03f59718b9b5d03019c07d8b6c51f...</td>\n",
       "    </tr>\n",
       "    <tr>\n",
       "      <th>3</th>\n",
       "      <td>09593c907ae262e46f655b4db9e14f54a19eadcfdd2679...</td>\n",
       "      <td>31/07/15</td>\n",
       "      <td>22/10/15</td>\n",
       "      <td>25/10/15</td>\n",
       "      <td>1</td>\n",
       "      <td>2</td>\n",
       "      <td>3</td>\n",
       "      <td>0</td>\n",
       "      <td>45</td>\n",
       "      <td>1</td>\n",
       "      <td>...</td>\n",
       "      <td>2.0</td>\n",
       "      <td>2.0</td>\n",
       "      <td>6</td>\n",
       "      <td>3</td>\n",
       "      <td>H</td>\n",
       "      <td>1</td>\n",
       "      <td>2114944930dcc42ce5b9b50ae965cf8a9c04e46be63d84...</td>\n",
       "      <td>F</td>\n",
       "      <td>A</td>\n",
       "      <td>49d180ecf56132819571bf39d9b7b342522a2ac6d23c14...</td>\n",
       "    </tr>\n",
       "    <tr>\n",
       "      <th>4</th>\n",
       "      <td>f4c50caac68051faf37551d70bb17eebef2a20e2244cb1...</td>\n",
       "      <td>01/07/16</td>\n",
       "      <td>01/10/16</td>\n",
       "      <td>05/10/16</td>\n",
       "      <td>1</td>\n",
       "      <td>2</td>\n",
       "      <td>4</td>\n",
       "      <td>0</td>\n",
       "      <td>45</td>\n",
       "      <td>1</td>\n",
       "      <td>...</td>\n",
       "      <td>2.0</td>\n",
       "      <td>2.0</td>\n",
       "      <td>11</td>\n",
       "      <td>2</td>\n",
       "      <td>H</td>\n",
       "      <td>1</td>\n",
       "      <td>2114944930dcc42ce5b9b50ae965cf8a9c04e46be63d84...</td>\n",
       "      <td>F</td>\n",
       "      <td>A</td>\n",
       "      <td>e29c9c180c6279b0b02abd6a1801c7c04082cf486ec027...</td>\n",
       "    </tr>\n",
       "  </tbody>\n",
       "</table>\n",
       "<p>5 rows × 23 columns</p>\n",
       "</div>"
      ],
      "text/plain": [
       "                                      reservation_id booking_date  \\\n",
       "0  7dae1ce6bc8f69481328f2be5c4943077dad5598b5f66d...     05/04/18   \n",
       "1  fe0d4e444e1818436c88f72f1cf800536c2f785e59baeb...     24/05/15   \n",
       "2  540bd4285ad8168e8388f84ee74a82cd4f97dc0a404d3e...     21/07/15   \n",
       "3  09593c907ae262e46f655b4db9e14f54a19eadcfdd2679...     31/07/15   \n",
       "4  f4c50caac68051faf37551d70bb17eebef2a20e2244cb1...     01/07/16   \n",
       "\n",
       "  checkin_date checkout_date  channel_code  main_product_code  numberofadults  \\\n",
       "0     05/04/18      06/04/18             3                  2               2   \n",
       "1     23/06/15      27/06/15             1                  2               4   \n",
       "2     07/08/15      10/08/15             3                  2               3   \n",
       "3     22/10/15      25/10/15             1                  2               3   \n",
       "4     01/10/16      05/10/16             1                  2               4   \n",
       "\n",
       "   numberofchildren  persontravellingid  resort_region_code  ...  \\\n",
       "0                 0                  45                   3  ...   \n",
       "1                 0                  45                   1  ...   \n",
       "2                 0                  45                   2  ...   \n",
       "3                 0                  45                   1  ...   \n",
       "4                 0                  45                   1  ...   \n",
       "\n",
       "   season_holidayed_code  state_code_residence  state_code_resort  total_pax  \\\n",
       "0                    2.0                   2.0                  3          3   \n",
       "1                    2.0                   2.0                  4          2   \n",
       "2                    4.0                   2.0                  2          3   \n",
       "3                    2.0                   2.0                  6          3   \n",
       "4                    2.0                   2.0                 11          2   \n",
       "\n",
       "   member_age_buckets  booking_type_code  \\\n",
       "0                   H                  1   \n",
       "1                   H                  1   \n",
       "2                   H                  1   \n",
       "3                   H                  1   \n",
       "4                   H                  1   \n",
       "\n",
       "                                            memberid cluster_code  \\\n",
       "0  2114944930dcc42ce5b9b50ae965cf8a9c04e46be63d84...            A   \n",
       "1  2114944930dcc42ce5b9b50ae965cf8a9c04e46be63d84...            F   \n",
       "2  2114944930dcc42ce5b9b50ae965cf8a9c04e46be63d84...            D   \n",
       "3  2114944930dcc42ce5b9b50ae965cf8a9c04e46be63d84...            F   \n",
       "4  2114944930dcc42ce5b9b50ae965cf8a9c04e46be63d84...            F   \n",
       "\n",
       "   reservationstatusid_code                                          resort_id  \n",
       "0                         C  9f14025af0065b30e47e23ebb3b491d39ae8ed17d33739...  \n",
       "1                         A  e7f6c011776e8db7cd330b54174fd76f7d0216b612387a...  \n",
       "2                         A  d4735e3a265e16eee03f59718b9b5d03019c07d8b6c51f...  \n",
       "3                         A  49d180ecf56132819571bf39d9b7b342522a2ac6d23c14...  \n",
       "4                         A  e29c9c180c6279b0b02abd6a1801c7c04082cf486ec027...  \n",
       "\n",
       "[5 rows x 23 columns]"
      ]
     },
     "execution_count": 47,
     "metadata": {},
     "output_type": "execute_result"
    }
   ],
   "source": [
    "zf=zipfile.ZipFile('../data/mahindra.zip')\n",
    "\n",
    "df=pd.read_csv(zf.open('test.csv'), nrows=1e5)\n",
    "\n",
    "df.head()"
   ]
  },
  {
   "cell_type": "code",
   "execution_count": 48,
   "id": "5e1df38a",
   "metadata": {},
   "outputs": [
    {
     "data": {
      "text/plain": [
       "(100000, 23)"
      ]
     },
     "execution_count": 48,
     "metadata": {},
     "output_type": "execute_result"
    }
   ],
   "source": [
    "df.shape"
   ]
  },
  {
   "cell_type": "code",
   "execution_count": 49,
   "id": "1096bbe6",
   "metadata": {},
   "outputs": [
    {
     "name": "stdout",
     "output_type": "stream",
     "text": [
      "<class 'pandas.core.frame.DataFrame'>\n",
      "RangeIndex: 100000 entries, 0 to 99999\n",
      "Data columns (total 23 columns):\n",
      " #   Column                    Non-Null Count   Dtype  \n",
      "---  ------                    --------------   -----  \n",
      " 0   reservation_id            100000 non-null  object \n",
      " 1   booking_date              100000 non-null  object \n",
      " 2   checkin_date              100000 non-null  object \n",
      " 3   checkout_date             100000 non-null  object \n",
      " 4   channel_code              100000 non-null  int64  \n",
      " 5   main_product_code         100000 non-null  int64  \n",
      " 6   numberofadults            100000 non-null  int64  \n",
      " 7   numberofchildren          100000 non-null  int64  \n",
      " 8   persontravellingid        100000 non-null  int64  \n",
      " 9   resort_region_code        100000 non-null  int64  \n",
      " 10  resort_type_code          100000 non-null  int64  \n",
      " 11  room_type_booked_code     100000 non-null  int64  \n",
      " 12  roomnights                100000 non-null  int64  \n",
      " 13  season_holidayed_code     99975 non-null   float64\n",
      " 14  state_code_residence      98638 non-null   float64\n",
      " 15  state_code_resort         100000 non-null  int64  \n",
      " 16  total_pax                 100000 non-null  int64  \n",
      " 17  member_age_buckets        100000 non-null  object \n",
      " 18  booking_type_code         100000 non-null  int64  \n",
      " 19  memberid                  100000 non-null  object \n",
      " 20  cluster_code              100000 non-null  object \n",
      " 21  reservationstatusid_code  100000 non-null  object \n",
      " 22  resort_id                 100000 non-null  object \n",
      "dtypes: float64(2), int64(12), object(9)\n",
      "memory usage: 80.5 MB\n"
     ]
    }
   ],
   "source": [
    "# optimizar memoria\n",
    "\n",
    "df.info(memory_usage='deep')"
   ]
  },
  {
   "cell_type": "code",
   "execution_count": 50,
   "id": "3637dc4f",
   "metadata": {},
   "outputs": [
    {
     "name": "stdout",
     "output_type": "stream",
     "text": [
      "<class 'pandas.core.frame.DataFrame'>\n",
      "RangeIndex: 100000 entries, 0 to 99999\n",
      "Data columns (total 23 columns):\n",
      " #   Column                    Non-Null Count   Dtype   \n",
      "---  ------                    --------------   -----   \n",
      " 0   reservation_id            100000 non-null  category\n",
      " 1   booking_date              100000 non-null  category\n",
      " 2   checkin_date              100000 non-null  category\n",
      " 3   checkout_date             100000 non-null  category\n",
      " 4   channel_code              100000 non-null  int64   \n",
      " 5   main_product_code         100000 non-null  int64   \n",
      " 6   numberofadults            100000 non-null  int64   \n",
      " 7   numberofchildren          100000 non-null  int64   \n",
      " 8   persontravellingid        100000 non-null  int64   \n",
      " 9   resort_region_code        100000 non-null  int64   \n",
      " 10  resort_type_code          100000 non-null  int64   \n",
      " 11  room_type_booked_code     100000 non-null  int64   \n",
      " 12  roomnights                100000 non-null  int64   \n",
      " 13  season_holidayed_code     99975 non-null   float64 \n",
      " 14  state_code_residence      98638 non-null   float64 \n",
      " 15  state_code_resort         100000 non-null  int64   \n",
      " 16  total_pax                 100000 non-null  int64   \n",
      " 17  member_age_buckets        100000 non-null  category\n",
      " 18  booking_type_code         100000 non-null  int64   \n",
      " 19  memberid                  100000 non-null  category\n",
      " 20  cluster_code              100000 non-null  category\n",
      " 21  reservationstatusid_code  100000 non-null  category\n",
      " 22  resort_id                 100000 non-null  category\n",
      "dtypes: category(9), float64(2), int64(12)\n",
      "memory usage: 29.4 MB\n"
     ]
    }
   ],
   "source": [
    "for e in df.select_dtypes('object').columns:\n",
    "    \n",
    "    df[e]=df[e].astype('category')\n",
    "\n",
    "\n",
    "df.info(memory_usage='deep')"
   ]
  },
  {
   "cell_type": "code",
   "execution_count": 51,
   "id": "0b71d86e",
   "metadata": {},
   "outputs": [
    {
     "name": "stdout",
     "output_type": "stream",
     "text": [
      "<class 'pandas.core.frame.DataFrame'>\n",
      "RangeIndex: 100000 entries, 0 to 99999\n",
      "Data columns (total 23 columns):\n",
      " #   Column                    Non-Null Count   Dtype   \n",
      "---  ------                    --------------   -----   \n",
      " 0   reservation_id            100000 non-null  category\n",
      " 1   booking_date              100000 non-null  category\n",
      " 2   checkin_date              100000 non-null  category\n",
      " 3   checkout_date             100000 non-null  category\n",
      " 4   channel_code              100000 non-null  int8    \n",
      " 5   main_product_code         100000 non-null  int8    \n",
      " 6   numberofadults            100000 non-null  int8    \n",
      " 7   numberofchildren          100000 non-null  int8    \n",
      " 8   persontravellingid        100000 non-null  int16   \n",
      " 9   resort_region_code        100000 non-null  int8    \n",
      " 10  resort_type_code          100000 non-null  int8    \n",
      " 11  room_type_booked_code     100000 non-null  int8    \n",
      " 12  roomnights                100000 non-null  int8    \n",
      " 13  season_holidayed_code     99975 non-null   float64 \n",
      " 14  state_code_residence      98638 non-null   float64 \n",
      " 15  state_code_resort         100000 non-null  int8    \n",
      " 16  total_pax                 100000 non-null  int8    \n",
      " 17  member_age_buckets        100000 non-null  category\n",
      " 18  booking_type_code         100000 non-null  int8    \n",
      " 19  memberid                  100000 non-null  category\n",
      " 20  cluster_code              100000 non-null  category\n",
      " 21  reservationstatusid_code  100000 non-null  category\n",
      " 22  resort_id                 100000 non-null  category\n",
      "dtypes: category(9), float64(2), int16(1), int8(11)\n",
      "memory usage: 21.5 MB\n"
     ]
    }
   ],
   "source": [
    "for e in df.select_dtypes('integer').columns:\n",
    "    \n",
    "    df[e]=pd.to_numeric(df[e], downcast='integer')\n",
    "\n",
    "\n",
    "df.info(memory_usage='deep')"
   ]
  },
  {
   "cell_type": "code",
   "execution_count": 52,
   "id": "09963aa2",
   "metadata": {},
   "outputs": [
    {
     "name": "stdout",
     "output_type": "stream",
     "text": [
      "<class 'pandas.core.frame.DataFrame'>\n",
      "RangeIndex: 100000 entries, 0 to 99999\n",
      "Data columns (total 23 columns):\n",
      " #   Column                    Non-Null Count   Dtype   \n",
      "---  ------                    --------------   -----   \n",
      " 0   reservation_id            100000 non-null  category\n",
      " 1   booking_date              100000 non-null  category\n",
      " 2   checkin_date              100000 non-null  category\n",
      " 3   checkout_date             100000 non-null  category\n",
      " 4   channel_code              100000 non-null  int8    \n",
      " 5   main_product_code         100000 non-null  int8    \n",
      " 6   numberofadults            100000 non-null  int8    \n",
      " 7   numberofchildren          100000 non-null  int8    \n",
      " 8   persontravellingid        100000 non-null  int16   \n",
      " 9   resort_region_code        100000 non-null  int8    \n",
      " 10  resort_type_code          100000 non-null  int8    \n",
      " 11  room_type_booked_code     100000 non-null  int8    \n",
      " 12  roomnights                100000 non-null  int8    \n",
      " 13  season_holidayed_code     99975 non-null   float32 \n",
      " 14  state_code_residence      98638 non-null   float32 \n",
      " 15  state_code_resort         100000 non-null  int8    \n",
      " 16  total_pax                 100000 non-null  int8    \n",
      " 17  member_age_buckets        100000 non-null  category\n",
      " 18  booking_type_code         100000 non-null  int8    \n",
      " 19  memberid                  100000 non-null  category\n",
      " 20  cluster_code              100000 non-null  category\n",
      " 21  reservationstatusid_code  100000 non-null  category\n",
      " 22  resort_id                 100000 non-null  category\n",
      "dtypes: category(9), float32(2), int16(1), int8(11)\n",
      "memory usage: 20.7 MB\n"
     ]
    }
   ],
   "source": [
    "for e in df.select_dtypes('float').columns:\n",
    "    \n",
    "    df[e]=pd.to_numeric(df[e], downcast='float')\n",
    "\n",
    "\n",
    "df.info(memory_usage='deep')"
   ]
  },
  {
   "cell_type": "markdown",
   "id": "7dbae0e3",
   "metadata": {},
   "source": [
    "**Binning**"
   ]
  },
  {
   "cell_type": "code",
   "execution_count": 53,
   "id": "cd3dea46",
   "metadata": {},
   "outputs": [
    {
     "data": {
      "image/png": "[encoded data removed]",
      "text/plain": [
       "<Figure size 432x288 with 1 Axes>"
      ]
     },
     "metadata": {
      "needs_background": "light"
     },
     "output_type": "display_data"
    }
   ],
   "source": [
    "census.Income.hist(bins=3);"
   ]
  },
  {
   "cell_type": "code",
   "execution_count": 54,
   "id": "a806a4a4",
   "metadata": {},
   "outputs": [
    {
     "data": {
      "text/plain": [
       "(10386.046, 48150.333]    1847\n",
       "(48150.333, 85801.667]    1132\n",
       "(85801.667, 123453.0]       41\n",
       "Name: Income, dtype: int64"
      ]
     },
     "execution_count": 54,
     "metadata": {},
     "output_type": "execute_result"
    }
   ],
   "source": [
    "pd.cut(census.Income, 3).value_counts()"
   ]
  },
  {
   "cell_type": "code",
   "execution_count": 55,
   "id": "fbef3134",
   "metadata": {},
   "outputs": [
    {
     "data": {
      "text/plain": [
       "(10498.999, 40731.333]    1007\n",
       "(49809.667, 123453.0]     1007\n",
       "(40731.333, 49809.667]    1006\n",
       "Name: Income, dtype: int64"
      ]
     },
     "execution_count": 55,
     "metadata": {},
     "output_type": "execute_result"
    }
   ],
   "source": [
    "pd.qcut(census.Income, [0, 1/3, 2/3, 1]).value_counts()"
   ]
  },
  {
   "cell_type": "code",
   "execution_count": 56,
   "id": "f297a83c",
   "metadata": {},
   "outputs": [
    {
     "data": {
      "text/html": [
       "<div>\n",
       "<style scoped>\n",
       "    .dataframe tbody tr th:only-of-type {\n",
       "        vertical-align: middle;\n",
       "    }\n",
       "\n",
       "    .dataframe tbody tr th {\n",
       "        vertical-align: top;\n",
       "    }\n",
       "\n",
       "    .dataframe thead th {\n",
       "        text-align: right;\n",
       "    }\n",
       "</style>\n",
       "<table border=\"1\" class=\"dataframe\">\n",
       "  <thead>\n",
       "    <tr style=\"text-align: right;\">\n",
       "      <th></th>\n",
       "      <th>CensusId</th>\n",
       "      <th>State</th>\n",
       "      <th>County</th>\n",
       "      <th>TotalPop</th>\n",
       "      <th>Men</th>\n",
       "      <th>Women</th>\n",
       "      <th>Hispanic</th>\n",
       "      <th>White</th>\n",
       "      <th>Black</th>\n",
       "      <th>Native</th>\n",
       "      <th>...</th>\n",
       "      <th>Tennessee</th>\n",
       "      <th>Texas</th>\n",
       "      <th>Utah</th>\n",
       "      <th>Vermont</th>\n",
       "      <th>Virginia</th>\n",
       "      <th>Washington</th>\n",
       "      <th>West Virginia</th>\n",
       "      <th>Wisconsin</th>\n",
       "      <th>Wyoming</th>\n",
       "      <th>A</th>\n",
       "    </tr>\n",
       "  </thead>\n",
       "  <tbody>\n",
       "    <tr>\n",
       "      <th>0</th>\n",
       "      <td>1001</td>\n",
       "      <td>Alabama</td>\n",
       "      <td>Autauga</td>\n",
       "      <td>55221</td>\n",
       "      <td>26745</td>\n",
       "      <td>28476</td>\n",
       "      <td>2.6</td>\n",
       "      <td>75.8</td>\n",
       "      <td>18.5</td>\n",
       "      <td>0.4</td>\n",
       "      <td>...</td>\n",
       "      <td>0</td>\n",
       "      <td>0</td>\n",
       "      <td>0</td>\n",
       "      <td>0</td>\n",
       "      <td>0</td>\n",
       "      <td>0</td>\n",
       "      <td>0</td>\n",
       "      <td>0</td>\n",
       "      <td>0</td>\n",
       "      <td>2</td>\n",
       "    </tr>\n",
       "    <tr>\n",
       "      <th>1</th>\n",
       "      <td>1003</td>\n",
       "      <td>Alabama</td>\n",
       "      <td>Baldwin</td>\n",
       "      <td>195121</td>\n",
       "      <td>95314</td>\n",
       "      <td>99807</td>\n",
       "      <td>4.5</td>\n",
       "      <td>83.1</td>\n",
       "      <td>9.5</td>\n",
       "      <td>0.6</td>\n",
       "      <td>...</td>\n",
       "      <td>0</td>\n",
       "      <td>0</td>\n",
       "      <td>0</td>\n",
       "      <td>0</td>\n",
       "      <td>0</td>\n",
       "      <td>0</td>\n",
       "      <td>0</td>\n",
       "      <td>0</td>\n",
       "      <td>0</td>\n",
       "      <td>2</td>\n",
       "    </tr>\n",
       "    <tr>\n",
       "      <th>2</th>\n",
       "      <td>1005</td>\n",
       "      <td>Alabama</td>\n",
       "      <td>Barbour</td>\n",
       "      <td>26932</td>\n",
       "      <td>14497</td>\n",
       "      <td>12435</td>\n",
       "      <td>4.6</td>\n",
       "      <td>46.2</td>\n",
       "      <td>46.7</td>\n",
       "      <td>0.2</td>\n",
       "      <td>...</td>\n",
       "      <td>0</td>\n",
       "      <td>0</td>\n",
       "      <td>0</td>\n",
       "      <td>0</td>\n",
       "      <td>0</td>\n",
       "      <td>0</td>\n",
       "      <td>0</td>\n",
       "      <td>0</td>\n",
       "      <td>0</td>\n",
       "      <td>0</td>\n",
       "    </tr>\n",
       "    <tr>\n",
       "      <th>3</th>\n",
       "      <td>1007</td>\n",
       "      <td>Alabama</td>\n",
       "      <td>Bibb</td>\n",
       "      <td>22604</td>\n",
       "      <td>12073</td>\n",
       "      <td>10531</td>\n",
       "      <td>2.2</td>\n",
       "      <td>74.5</td>\n",
       "      <td>21.4</td>\n",
       "      <td>0.4</td>\n",
       "      <td>...</td>\n",
       "      <td>0</td>\n",
       "      <td>0</td>\n",
       "      <td>0</td>\n",
       "      <td>0</td>\n",
       "      <td>0</td>\n",
       "      <td>0</td>\n",
       "      <td>0</td>\n",
       "      <td>0</td>\n",
       "      <td>0</td>\n",
       "      <td>0</td>\n",
       "    </tr>\n",
       "    <tr>\n",
       "      <th>4</th>\n",
       "      <td>1009</td>\n",
       "      <td>Alabama</td>\n",
       "      <td>Blount</td>\n",
       "      <td>57710</td>\n",
       "      <td>28512</td>\n",
       "      <td>29198</td>\n",
       "      <td>8.6</td>\n",
       "      <td>87.9</td>\n",
       "      <td>1.5</td>\n",
       "      <td>0.3</td>\n",
       "      <td>...</td>\n",
       "      <td>0</td>\n",
       "      <td>0</td>\n",
       "      <td>0</td>\n",
       "      <td>0</td>\n",
       "      <td>0</td>\n",
       "      <td>0</td>\n",
       "      <td>0</td>\n",
       "      <td>0</td>\n",
       "      <td>0</td>\n",
       "      <td>1</td>\n",
       "    </tr>\n",
       "  </tbody>\n",
       "</table>\n",
       "<p>5 rows × 100 columns</p>\n",
       "</div>"
      ],
      "text/plain": [
       "   CensusId    State   County  TotalPop    Men  Women  Hispanic  White  Black  \\\n",
       "0      1001  Alabama  Autauga     55221  26745  28476       2.6   75.8   18.5   \n",
       "1      1003  Alabama  Baldwin    195121  95314  99807       4.5   83.1    9.5   \n",
       "2      1005  Alabama  Barbour     26932  14497  12435       4.6   46.2   46.7   \n",
       "3      1007  Alabama     Bibb     22604  12073  10531       2.2   74.5   21.4   \n",
       "4      1009  Alabama   Blount     57710  28512  29198       8.6   87.9    1.5   \n",
       "\n",
       "   Native  ...  Tennessee  Texas  Utah  Vermont  Virginia  Washington  \\\n",
       "0     0.4  ...          0      0     0        0         0           0   \n",
       "1     0.6  ...          0      0     0        0         0           0   \n",
       "2     0.2  ...          0      0     0        0         0           0   \n",
       "3     0.4  ...          0      0     0        0         0           0   \n",
       "4     0.3  ...          0      0     0        0         0           0   \n",
       "\n",
       "   West Virginia  Wisconsin  Wyoming  A  \n",
       "0              0          0        0  2  \n",
       "1              0          0        0  2  \n",
       "2              0          0        0  0  \n",
       "3              0          0        0  0  \n",
       "4              0          0        0  1  \n",
       "\n",
       "[5 rows x 100 columns]"
      ]
     },
     "execution_count": 56,
     "metadata": {},
     "output_type": "execute_result"
    }
   ],
   "source": [
    "census['A']=np.where(pd.qcut(census.Income, [0, 1/3, 2/3, 1]).cat.codes==0 , 0, np.where(pd.qcut(census.Income, [0, 1/3, 2/3, 1]).cat.codes==1, 1, 2))\n",
    "\n",
    "census.head()"
   ]
  },
  {
   "cell_type": "code",
   "execution_count": 57,
   "id": "c44dec12",
   "metadata": {},
   "outputs": [],
   "source": [
    "from sklearn.feature_selection import RFE"
   ]
  },
  {
   "cell_type": "code",
   "execution_count": 58,
   "id": "901e14f5",
   "metadata": {},
   "outputs": [],
   "source": [
    "features=['Poverty', 'WorkAtHome', 'SelfEmployed', 'Black', \n",
    "          'Native', 'Asian', 'Pacific', 'Hispanic', 'IncomePerCap']\n",
    "\n",
    "target='Unemployment'"
   ]
  },
  {
   "cell_type": "code",
   "execution_count": 59,
   "id": "8bea9787",
   "metadata": {},
   "outputs": [],
   "source": [
    "X_train, X_test, y_train, y_test = tts(census[features], census[target])"
   ]
  },
  {
   "cell_type": "code",
   "execution_count": 60,
   "id": "bde967e5",
   "metadata": {},
   "outputs": [],
   "source": [
    "modelo=LinReg()"
   ]
  },
  {
   "cell_type": "code",
   "execution_count": 61,
   "id": "9d6d47ea",
   "metadata": {},
   "outputs": [
    {
     "data": {
      "text/plain": [
       "RFE(estimator=LinearRegression(), n_features_to_select=6)"
      ]
     },
     "execution_count": 61,
     "metadata": {},
     "output_type": "execute_result"
    }
   ],
   "source": [
    "# RFE - recursive feature elimination\n",
    "\n",
    "selector=RFE(modelo, n_features_to_select=6, step=1)\n",
    "\n",
    "selector"
   ]
  },
  {
   "cell_type": "code",
   "execution_count": 62,
   "id": "2558bac1",
   "metadata": {},
   "outputs": [
    {
     "data": {
      "text/plain": [
       "RFE(estimator=LinearRegression(), n_features_to_select=6)"
      ]
     },
     "execution_count": 62,
     "metadata": {},
     "output_type": "execute_result"
    }
   ],
   "source": [
    "# entrenar a traves del RFE\n",
    "\n",
    "selector.fit(X_train, y_train)"
   ]
  },
  {
   "cell_type": "code",
   "execution_count": 63,
   "id": "0202fc21",
   "metadata": {},
   "outputs": [
    {
     "data": {
      "text/plain": [
       "array([1, 2, 1, 1, 1, 1, 1, 3, 4])"
      ]
     },
     "execution_count": 63,
     "metadata": {},
     "output_type": "execute_result"
    }
   ],
   "source": [
    "selector.ranking_"
   ]
  },
  {
   "cell_type": "code",
   "execution_count": 64,
   "id": "a76a32ca",
   "metadata": {},
   "outputs": [
    {
     "data": {
      "text/plain": [
       "Index(['Poverty', 'WorkAtHome', 'SelfEmployed', 'Black', 'Native', 'Asian',\n",
       "       'Pacific', 'Hispanic', 'IncomePerCap'],\n",
       "      dtype='object')"
      ]
     },
     "execution_count": 64,
     "metadata": {},
     "output_type": "execute_result"
    }
   ],
   "source": [
    "census[features].columns"
   ]
  },
  {
   "cell_type": "code",
   "execution_count": 65,
   "id": "bf7abefa",
   "metadata": {},
   "outputs": [
    {
     "name": "stdout",
     "output_type": "stream",
     "text": [
      "['Poverty', 'SelfEmployed', 'Black', 'Native', 'Asian', 'Pacific']\n"
     ]
    }
   ],
   "source": [
    "print([features[i] for i,e in enumerate(selector.support_) if e])"
   ]
  },
  {
   "cell_type": "code",
   "execution_count": 66,
   "id": "27888bf0",
   "metadata": {},
   "outputs": [
    {
     "data": {
      "text/plain": [
       "LinearRegression()"
      ]
     },
     "execution_count": 66,
     "metadata": {},
     "output_type": "execute_result"
    }
   ],
   "source": [
    "linreg=LinReg()\n",
    "\n",
    "linreg.fit(census[['Poverty', 'WorkAtHome', 'SelfEmployed', 'Black', 'Native', 'Hispanic']], census['Unemployment'])"
   ]
  },
  {
   "cell_type": "code",
   "execution_count": 67,
   "id": "adec5b6b",
   "metadata": {},
   "outputs": [
    {
     "data": {
      "text/plain": [
       "array([ 7.39951148,  7.20932954, 12.13265831, ..., 18.28352955,\n",
       "       18.91227155, 19.31238765])"
      ]
     },
     "execution_count": 67,
     "metadata": {},
     "output_type": "execute_result"
    }
   ],
   "source": [
    "linreg.predict(census[['Poverty', 'WorkAtHome', 'SelfEmployed', 'Black', 'Native', 'Hispanic']])"
   ]
  },
  {
   "cell_type": "code",
   "execution_count": 68,
   "id": "5d047847",
   "metadata": {},
   "outputs": [
    {
     "data": {
      "text/plain": [
       "SelectFromModel(estimator=DecisionTreeRegressor(), threshold=0.25)"
      ]
     },
     "execution_count": 68,
     "metadata": {},
     "output_type": "execute_result"
    }
   ],
   "source": [
    "from sklearn.tree import DecisionTreeRegressor as DTR\n",
    "from sklearn.feature_selection import SelectFromModel as SFM\n",
    "\n",
    "modelo=DTR()\n",
    "\n",
    "selector=SFM(modelo, threshold=0.25)\n",
    "selector.fit(X_train, y_train)"
   ]
  },
  {
   "cell_type": "code",
   "execution_count": 69,
   "id": "dddb026c",
   "metadata": {},
   "outputs": [
    {
     "data": {
      "text/plain": [
       "(755, 1)"
      ]
     },
     "execution_count": 69,
     "metadata": {},
     "output_type": "execute_result"
    }
   ],
   "source": [
    "selector.transform(X_test).shape"
   ]
  },
  {
   "cell_type": "code",
   "execution_count": 70,
   "id": "d3d9c90e",
   "metadata": {},
   "outputs": [
    {
     "data": {
      "text/plain": [
       "(755, 9)"
      ]
     },
     "execution_count": 70,
     "metadata": {},
     "output_type": "execute_result"
    }
   ],
   "source": [
    "X_test.shape"
   ]
  },
  {
   "cell_type": "code",
   "execution_count": 71,
   "id": "e71da252",
   "metadata": {},
   "outputs": [
    {
     "data": {
      "text/plain": [
       "DecisionTreeRegressor()"
      ]
     },
     "execution_count": 71,
     "metadata": {},
     "output_type": "execute_result"
    }
   ],
   "source": [
    "modelo.fit(X_train, y_train)"
   ]
  },
  {
   "cell_type": "code",
   "execution_count": 72,
   "id": "3833c5ca",
   "metadata": {},
   "outputs": [
    {
     "data": {
      "text/plain": [
       "0.9999999999999999"
      ]
     },
     "execution_count": 72,
     "metadata": {},
     "output_type": "execute_result"
    }
   ],
   "source": [
    "sum(modelo.feature_importances_)"
   ]
  },
  {
   "cell_type": "code",
   "execution_count": 73,
   "id": "38bb1e67",
   "metadata": {},
   "outputs": [
    {
     "data": {
      "text/plain": [
       "array([0.46251341, 0.06420735, 0.09175989, 0.07276202, 0.0424238 ,\n",
       "       0.04020733, 0.01373313, 0.06332458, 0.1490685 ])"
      ]
     },
     "execution_count": 73,
     "metadata": {},
     "output_type": "execute_result"
    }
   ],
   "source": [
    "modelo.feature_importances_"
   ]
  },
  {
   "cell_type": "code",
   "execution_count": 74,
   "id": "6b163dff",
   "metadata": {},
   "outputs": [
    {
     "data": {
      "text/plain": [
       "Index(['Poverty', 'WorkAtHome', 'SelfEmployed', 'Black', 'Native', 'Asian',\n",
       "       'Pacific', 'Hispanic', 'IncomePerCap'],\n",
       "      dtype='object')"
      ]
     },
     "execution_count": 74,
     "metadata": {},
     "output_type": "execute_result"
    }
   ],
   "source": [
    "X_test.columns"
   ]
  },
  {
   "cell_type": "code",
   "execution_count": null,
   "id": "f7686a4e",
   "metadata": {},
   "outputs": [],
   "source": []
  }
 ],
 "metadata": {
  "finalized": {
   "timestamp": 1643112567941,
   "trusted": true
  },
  "kernelspec": {
   "display_name": "Python 3",
   "language": "python",
   "name": "python3"
  },
  "language_info": {
   "codemirror_mode": {
    "name": "ipython",
    "version": 3
   },
   "file_extension": ".py",
   "mimetype": "text/x-python",
   "name": "python",
   "nbconvert_exporter": "python",
   "pygments_lexer": "ipython3",
   "version": "3.8.8"
  },
  "varInspector": {
   "cols": {
    "lenName": 16,
    "lenType": 16,
    "lenVar": 40
   },
   "kernels_config": {
    "python": {
     "delete_cmd_postfix": "",
     "delete_cmd_prefix": "del ",
     "library": "var_list.py",
     "varRefreshCmd": "print(var_dic_list())"
    },
    "r": {
     "delete_cmd_postfix": ") ",
     "delete_cmd_prefix": "rm(",
     "library": "var_list.r",
     "varRefreshCmd": "cat(var_dic_list()) "
    }
   },
   "types_to_exclude": [
    "module",
    "function",
    "builtin_function_or_method",
    "instance",
    "_Feature"
   ],
   "window_display": false
  }
 },
 "nbformat": 4,
 "nbformat_minor": 5
}
